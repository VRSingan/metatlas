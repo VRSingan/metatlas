{
 "cells": [
  {
   "cell_type": "code",
   "execution_count": 10,
   "metadata": {
    "collapsed": false
   },
   "outputs": [
    {
     "data": {
      "text/html": [
       "<div>\n",
       "<table border=\"1\" class=\"dataframe\">\n",
       "  <thead>\n",
       "    <tr style=\"text-align: right;\">\n",
       "      <th></th>\n",
       "      <th>polarity</th>\n",
       "      <th>mz</th>\n",
       "      <th>rt</th>\n",
       "      <th>comment</th>\n",
       "    </tr>\n",
       "  </thead>\n",
       "  <tbody>\n",
       "    <tr>\n",
       "      <th>0</th>\n",
       "      <td>positive</td>\n",
       "      <td>357.0378</td>\n",
       "      <td>2.77</td>\n",
       "      <td>not in control not in rumen</td>\n",
       "    </tr>\n",
       "    <tr>\n",
       "      <th>1</th>\n",
       "      <td>positive</td>\n",
       "      <td>566.5631</td>\n",
       "      <td>7.05</td>\n",
       "      <td>cluster1</td>\n",
       "    </tr>\n",
       "    <tr>\n",
       "      <th>2</th>\n",
       "      <td>positive</td>\n",
       "      <td>580.5778</td>\n",
       "      <td>7.20</td>\n",
       "      <td>cluster1</td>\n",
       "    </tr>\n",
       "    <tr>\n",
       "      <th>3</th>\n",
       "      <td>positive</td>\n",
       "      <td>594.5938</td>\n",
       "      <td>7.35</td>\n",
       "      <td>cluster1</td>\n",
       "    </tr>\n",
       "    <tr>\n",
       "      <th>4</th>\n",
       "      <td>positive</td>\n",
       "      <td>608.6091</td>\n",
       "      <td>7.48</td>\n",
       "      <td>cluster1</td>\n",
       "    </tr>\n",
       "  </tbody>\n",
       "</table>\n",
       "</div>"
      ],
      "text/plain": [
       "   polarity        mz    rt                      comment\n",
       "0  positive  357.0378  2.77  not in control not in rumen\n",
       "1  positive  566.5631  7.05                     cluster1\n",
       "2  positive  580.5778  7.20                     cluster1\n",
       "3  positive  594.5938  7.35                     cluster1\n",
       "4  positive  608.6091  7.48                     cluster1"
      ]
     },
     "execution_count": 10,
     "metadata": {},
     "output_type": "execute_result"
    }
   ],
   "source": [
    "import pandas as pd\n",
    "import numpy as np\n",
    "output_pickle = '/project/projectdirs/metatlas/projects/jgi_projects/20170222_omalley_fungus/pactolus_hits.pkl'\n",
    "pactolus_df = pd.read_pickle(output_pickle)\n",
    "pactolus_df.reset_index(inplace=True)\n",
    "peak_df = pd.read_csv('/global/u2/b/bpb/Downloads/OMalley_peaks.txt',sep='\\t')\n",
    "peak_df.head()"
   ]
  },
  {
   "cell_type": "code",
   "execution_count": 16,
   "metadata": {
    "collapsed": true
   },
   "outputs": [],
   "source": [
    "def get_matching_msms(row,msms_df=None,mz_tolerance=10,rt_tolerance=0.2):\n",
    "    \"\"\"\n",
    "    \n",
    "    \"\"\"\n",
    "    hits = np.where((abs(msms_df['precursor_mz'].values - row.mz) / row.mz * 1.0e6 < mz_tolerance) & \n",
    "                    ( abs(msms_df['retention_time'].values - row.rt) < rt_tolerance  ))\n",
    "    return hits\n",
    "hits = peak_df.apply(get_matching_msms,msms_df=pactolus_df,axis=1)\n",
    "hits = hits.apply(lambda x: x[0])\n",
    "df = pd.DataFrame({'scores':hits})\n",
    "peak_to_msms_df = pd.DataFrame([[i, x] \n",
    "                   for i, y in df.scores.apply(list).iteritems() \n",
    "                   for x in y], columns=['peak_index','msms_index']).set_index('peak_index')\n",
    "\n",
    "peak_to_msms_df.reset_index(inplace=True)\n",
    "\n",
    "\n",
    "labeled_df = peak_df.merge(peak_to_msms_df,how='outer',left_index=True,right_on='peak_index')\n",
    "temp = labeled_df.merge(pactolus_df,how='left',left_on='msms_index',right_index=True)\n",
    "temp.to_csv('/global/u2/b/bpb/Downloads/omalley_select_peak_pactolus.csv')"
   ]
  },
  {
   "cell_type": "code",
   "execution_count": null,
   "metadata": {
    "collapsed": true
   },
   "outputs": [],
   "source": []
  }
 ],
 "metadata": {
  "kernelspec": {
   "display_name": "MetAtlas 2.7",
   "language": "python",
   "name": "metatlas"
  },
  "language_info": {
   "codemirror_mode": {
    "name": "ipython",
    "version": 2
   },
   "file_extension": ".py",
   "mimetype": "text/x-python",
   "name": "python",
   "nbconvert_exporter": "python",
   "pygments_lexer": "ipython2",
   "version": "2.7.13"
  }
 },
 "nbformat": 4,
 "nbformat_minor": 2
}
