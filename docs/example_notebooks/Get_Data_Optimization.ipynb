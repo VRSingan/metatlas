{
 "cells": [
  {
   "cell_type": "markdown",
   "metadata": {},
   "source": [
    "# The time to beat is 60-80 seconds per file."
   ]
  },
  {
   "cell_type": "code",
   "execution_count": 1,
   "metadata": {
    "collapsed": false
   },
   "outputs": [
    {
     "name": "stdout",
     "output_type": "stream",
     "text": [
      "('Metatlas live in ', '/global/homes/b/bpb/metatlas/metatlas')\n",
      "you're running on c05c84d75ddd at 172.17.0.2 \n"
     ]
    }
   ],
   "source": [
    "\n",
    "import sys, os\n",
    "sys.path.insert(0,'/global/homes/b/bpb/metatlas/' )\n",
    "sys.path.insert(1,'/global/project/projectdirs/metatlas/anaconda/lib/python2.7/site-packages' )\n",
    "import pandas as pd\n",
    "from metatlas import metatlas_objects as metob\n",
    "from metatlas.helpers import metatlas_get_data_helper_fun as ma_data\n",
    "\n",
    "import numpy as np\n",
    "import time"
   ]
  },
  {
   "cell_type": "code",
   "execution_count": 2,
   "metadata": {
    "collapsed": false
   },
   "outputs": [],
   "source": [
    "my_file = metob.retrieve('Lcmsruns',name = '2016%POS_MSMS_KZ%Bradyrhizobium%',username='%')[0]\n"
   ]
  },
  {
   "cell_type": "code",
   "execution_count": 50,
   "metadata": {
    "collapsed": false
   },
   "outputs": [
    {
     "name": "stdout",
     "output_type": "stream",
     "text": [
      "20160119_KZ_Exu_HA13_hilic_pos 4\n"
     ]
    }
   ],
   "source": [
    "my_group = metob.retrieve('Groups',name = '%KZ%HA%pos')[-1]\n",
    "print my_group.name, len(my_group.items)"
   ]
  },
  {
   "cell_type": "code",
   "execution_count": 3,
   "metadata": {
    "collapsed": false,
    "scrolled": true
   },
   "outputs": [],
   "source": [
    "atlas = metob.retrieve('Atlas',name='%master%')[-1]"
   ]
  },
  {
   "cell_type": "code",
   "execution_count": 55,
   "metadata": {
    "collapsed": false
   },
   "outputs": [
    {
     "name": "stdout",
     "output_type": "stream",
     "text": [
      "0.208124160767\n"
     ]
    },
    {
     "data": {
      "text/html": [
       "<div>\n",
       "<table border=\"1\" class=\"dataframe\">\n",
       "  <thead>\n",
       "    <tr style=\"text-align: right;\">\n",
       "      <th></th>\n",
       "      <th>label</th>\n",
       "      <th>compound_name</th>\n",
       "      <th>compound_description</th>\n",
       "      <th>synonyms</th>\n",
       "      <th>num_free_radicals</th>\n",
       "      <th>number_components</th>\n",
       "      <th>permanent_charge</th>\n",
       "      <th>rt_max</th>\n",
       "      <th>rt_min</th>\n",
       "      <th>rt_peak</th>\n",
       "      <th>...</th>\n",
       "      <th>metacyc_id</th>\n",
       "      <th>mono_isotopic_molecular_weight</th>\n",
       "      <th>pubchem_compound_id</th>\n",
       "      <th>kegg_url</th>\n",
       "      <th>chebi_url</th>\n",
       "      <th>hmdb_url</th>\n",
       "      <th>lipidmaps_url</th>\n",
       "      <th>pubchem_url</th>\n",
       "      <th>wikipedia_url</th>\n",
       "      <th>source</th>\n",
       "    </tr>\n",
       "  </thead>\n",
       "  <tbody>\n",
       "    <tr>\n",
       "      <th>0</th>\n",
       "      <td>glutamine</td>\n",
       "      <td>L-glutaminate///L-Glutamine///D-glutamine zwit...</td>\n",
       "      <td>An optically active form of glutaminium having...</td>\n",
       "      <td>(2S)-2,5-diamino-5-oxopentanoate///(2S)-2,5-di...</td>\n",
       "      <td>0</td>\n",
       "      <td>1</td>\n",
       "      <td>0</td>\n",
       "      <td>12.59</td>\n",
       "      <td>11.99</td>\n",
       "      <td>12.29</td>\n",
       "      <td>...</td>\n",
       "      <td>GLN</td>\n",
       "      <td>146.069142</td>\n",
       "      <td>6992086</td>\n",
       "      <td>http://www.genome.jp/dbget-bin/www_bget?C00064</td>\n",
       "      <td>http://www.ebi.ac.uk/chebi/searchId.do?chebiId...</td>\n",
       "      <td>http://www.hmdb.ca/metabolites/HMDB00641</td>\n",
       "      <td></td>\n",
       "      <td>http://pubchem.ncbi.nlm.nih.gov/compound/6992086</td>\n",
       "      <td></td>\n",
       "      <td>chebi///wikidata///metacyc///hmdb</td>\n",
       "    </tr>\n",
       "    <tr>\n",
       "      <th>1</th>\n",
       "      <td>lysine</td>\n",
       "      <td>L-lysine///L-lysinate///L-lysinium(2+)///lys//...</td>\n",
       "      <td>An L-alpha-amino acid; the L-isomer of lysine....</td>\n",
       "      <td>(1S)-1-carboxypentane-1,5-diaminium///L-lysine...</td>\n",
       "      <td>0</td>\n",
       "      <td>1</td>\n",
       "      <td>0</td>\n",
       "      <td>23.44</td>\n",
       "      <td>20.44</td>\n",
       "      <td>21.94</td>\n",
       "      <td>...</td>\n",
       "      <td>LYS</td>\n",
       "      <td>146.105528</td>\n",
       "      <td>5460926</td>\n",
       "      <td>http://www.genome.jp/dbget-bin/www_bget?C00047</td>\n",
       "      <td>http://www.ebi.ac.uk/chebi/searchId.do?chebiId...</td>\n",
       "      <td>http://www.hmdb.ca/metabolites/HMDB03405///htt...</td>\n",
       "      <td></td>\n",
       "      <td>http://pubchem.ncbi.nlm.nih.gov/compound/5460926</td>\n",
       "      <td></td>\n",
       "      <td>chebi///wikidata///metacyc///img///hmdb</td>\n",
       "    </tr>\n",
       "    <tr>\n",
       "      <th>2</th>\n",
       "      <td>glutamate</td>\n",
       "      <td>L-glutamic acid///L-glutamate///monopotassium ...</td>\n",
       "      <td>An optically active form of monosodium glutama...</td>\n",
       "      <td>(2S)-2-Aminopentanedioate///(2S)-2-Aminopentan...</td>\n",
       "      <td>0</td>\n",
       "      <td>1</td>\n",
       "      <td>0</td>\n",
       "      <td>13.97</td>\n",
       "      <td>13.37</td>\n",
       "      <td>13.67</td>\n",
       "      <td>...</td>\n",
       "      <td>GLT</td>\n",
       "      <td>147.053158</td>\n",
       "      <td>5460299</td>\n",
       "      <td>http://www.genome.jp/dbget-bin/www_bget?C00025</td>\n",
       "      <td>http://www.ebi.ac.uk/chebi/searchId.do?chebiId...</td>\n",
       "      <td>http://www.hmdb.ca/metabolites/HMDB00148</td>\n",
       "      <td></td>\n",
       "      <td>http://pubchem.ncbi.nlm.nih.gov/compound/5460299</td>\n",
       "      <td></td>\n",
       "      <td>chebi///wikidata///metacyc///hmdb</td>\n",
       "    </tr>\n",
       "    <tr>\n",
       "      <th>3</th>\n",
       "      <td>methionine</td>\n",
       "      <td>L-methionine///L-Methionine///L-methioninate//...</td>\n",
       "      <td>The L-enantiomer of methionine.///The D-enanti...</td>\n",
       "      <td>(1R)-1-carboxy-3-(methylsulfanyl)propan-1-amin...</td>\n",
       "      <td>0</td>\n",
       "      <td>1</td>\n",
       "      <td>0</td>\n",
       "      <td>8.91</td>\n",
       "      <td>8.31</td>\n",
       "      <td>8.61</td>\n",
       "      <td>...</td>\n",
       "      <td>MET</td>\n",
       "      <td>149.051050</td>\n",
       "      <td>6992087</td>\n",
       "      <td>http://www.genome.jp/dbget-bin/www_bget?C00073</td>\n",
       "      <td>http://www.ebi.ac.uk/chebi/searchId.do?chebiId...</td>\n",
       "      <td>http://www.hmdb.ca/metabolites/HMDB00696</td>\n",
       "      <td></td>\n",
       "      <td>http://pubchem.ncbi.nlm.nih.gov/compound/6992087</td>\n",
       "      <td></td>\n",
       "      <td>chebi///wikidata///metacyc///img///hmdb</td>\n",
       "    </tr>\n",
       "    <tr>\n",
       "      <th>4</th>\n",
       "      <td>guanine</td>\n",
       "      <td>Guanine///guanine///guanine/thymine mispair bi...</td>\n",
       "      <td>A 2-aminopurine carrying a 6-oxo substituent.</td>\n",
       "      <td>2-Amino-1,7-dihydro-6H-Purin-6-one///2-Amino-1...</td>\n",
       "      <td>0</td>\n",
       "      <td>1</td>\n",
       "      <td>0</td>\n",
       "      <td>8.09</td>\n",
       "      <td>7.49</td>\n",
       "      <td>7.79</td>\n",
       "      <td>...</td>\n",
       "      <td>GUANINE</td>\n",
       "      <td>151.049410</td>\n",
       "      <td>764</td>\n",
       "      <td>http://www.genome.jp/dbget-bin/www_bget?C00242</td>\n",
       "      <td>http://www.ebi.ac.uk/chebi/searchId.do?chebiId...</td>\n",
       "      <td>http://www.hmdb.ca/metabolites/HMDB00132</td>\n",
       "      <td></td>\n",
       "      <td>http://pubchem.ncbi.nlm.nih.gov/compound/764</td>\n",
       "      <td></td>\n",
       "      <td>chebi///msmls///wikidata///metacyc///hmdb</td>\n",
       "    </tr>\n",
       "  </tbody>\n",
       "</table>\n",
       "<p>5 rows × 36 columns</p>\n",
       "</div>"
      ],
      "text/plain": [
       "        label                                      compound_name  \\\n",
       "0   glutamine  L-glutaminate///L-Glutamine///D-glutamine zwit...   \n",
       "1      lysine  L-lysine///L-lysinate///L-lysinium(2+)///lys//...   \n",
       "2   glutamate  L-glutamic acid///L-glutamate///monopotassium ...   \n",
       "3  methionine  L-methionine///L-Methionine///L-methioninate//...   \n",
       "4     guanine  Guanine///guanine///guanine/thymine mispair bi...   \n",
       "\n",
       "                                compound_description  \\\n",
       "0  An optically active form of glutaminium having...   \n",
       "1  An L-alpha-amino acid; the L-isomer of lysine....   \n",
       "2  An optically active form of monosodium glutama...   \n",
       "3  The L-enantiomer of methionine.///The D-enanti...   \n",
       "4      A 2-aminopurine carrying a 6-oxo substituent.   \n",
       "\n",
       "                                            synonyms  num_free_radicals  \\\n",
       "0  (2S)-2,5-diamino-5-oxopentanoate///(2S)-2,5-di...                  0   \n",
       "1  (1S)-1-carboxypentane-1,5-diaminium///L-lysine...                  0   \n",
       "2  (2S)-2-Aminopentanedioate///(2S)-2-Aminopentan...                  0   \n",
       "3  (1R)-1-carboxy-3-(methylsulfanyl)propan-1-amin...                  0   \n",
       "4  2-Amino-1,7-dihydro-6H-Purin-6-one///2-Amino-1...                  0   \n",
       "\n",
       "   number_components  permanent_charge  rt_max  rt_min  rt_peak  \\\n",
       "0                  1                 0   12.59   11.99    12.29   \n",
       "1                  1                 0   23.44   20.44    21.94   \n",
       "2                  1                 0   13.97   13.37    13.67   \n",
       "3                  1                 0    8.91    8.31     8.61   \n",
       "4                  1                 0    8.09    7.49     7.79   \n",
       "\n",
       "                     ...                     metacyc_id  \\\n",
       "0                    ...                            GLN   \n",
       "1                    ...                            LYS   \n",
       "2                    ...                            GLT   \n",
       "3                    ...                            MET   \n",
       "4                    ...                        GUANINE   \n",
       "\n",
       "  mono_isotopic_molecular_weight  pubchem_compound_id  \\\n",
       "0                     146.069142              6992086   \n",
       "1                     146.105528              5460926   \n",
       "2                     147.053158              5460299   \n",
       "3                     149.051050              6992087   \n",
       "4                     151.049410                  764   \n",
       "\n",
       "                                         kegg_url  \\\n",
       "0  http://www.genome.jp/dbget-bin/www_bget?C00064   \n",
       "1  http://www.genome.jp/dbget-bin/www_bget?C00047   \n",
       "2  http://www.genome.jp/dbget-bin/www_bget?C00025   \n",
       "3  http://www.genome.jp/dbget-bin/www_bget?C00073   \n",
       "4  http://www.genome.jp/dbget-bin/www_bget?C00242   \n",
       "\n",
       "                                           chebi_url  \\\n",
       "0  http://www.ebi.ac.uk/chebi/searchId.do?chebiId...   \n",
       "1  http://www.ebi.ac.uk/chebi/searchId.do?chebiId...   \n",
       "2  http://www.ebi.ac.uk/chebi/searchId.do?chebiId...   \n",
       "3  http://www.ebi.ac.uk/chebi/searchId.do?chebiId...   \n",
       "4  http://www.ebi.ac.uk/chebi/searchId.do?chebiId...   \n",
       "\n",
       "                                            hmdb_url lipidmaps_url  \\\n",
       "0           http://www.hmdb.ca/metabolites/HMDB00641                 \n",
       "1  http://www.hmdb.ca/metabolites/HMDB03405///htt...                 \n",
       "2           http://www.hmdb.ca/metabolites/HMDB00148                 \n",
       "3           http://www.hmdb.ca/metabolites/HMDB00696                 \n",
       "4           http://www.hmdb.ca/metabolites/HMDB00132                 \n",
       "\n",
       "                                        pubchem_url wikipedia_url  \\\n",
       "0  http://pubchem.ncbi.nlm.nih.gov/compound/6992086                 \n",
       "1  http://pubchem.ncbi.nlm.nih.gov/compound/5460926                 \n",
       "2  http://pubchem.ncbi.nlm.nih.gov/compound/5460299                 \n",
       "3  http://pubchem.ncbi.nlm.nih.gov/compound/6992087                 \n",
       "4      http://pubchem.ncbi.nlm.nih.gov/compound/764                 \n",
       "\n",
       "                                      source  \n",
       "0          chebi///wikidata///metacyc///hmdb  \n",
       "1    chebi///wikidata///metacyc///img///hmdb  \n",
       "2          chebi///wikidata///metacyc///hmdb  \n",
       "3    chebi///wikidata///metacyc///img///hmdb  \n",
       "4  chebi///msmls///wikidata///metacyc///hmdb  \n",
       "\n",
       "[5 rows x 36 columns]"
      ]
     },
     "execution_count": 55,
     "metadata": {},
     "output_type": "execute_result"
    }
   ],
   "source": [
    "t0 = time.time()\n",
    "\n",
    "mz = []\n",
    "rt = []\n",
    "atlas_compound = []\n",
    "label = []\n",
    "for compound in atlas.compound_identifications:\n",
    "    if compound.mz_references:\n",
    "        mz.append(compound.mz_references[0])\n",
    "    else:\n",
    "        mz.append(metob.MzReference)\n",
    "    if compound.rt_references:\n",
    "        rt.append(compound.rt_references[0])\n",
    "    else:\n",
    "        rt.append(metob.RtReference)\n",
    "    if compound.compound:\n",
    "        atlas_compound.append(compound.compound[0])\n",
    "    else:\n",
    "        atlas_compound.append(metob.Compound())\n",
    "    label.append(compound.name)\n",
    "compound_df = metob.to_dataframe(atlas_compound)\n",
    "compound_df.rename(columns = {'name':'compound_name','description':'compound_description'},inplace=True)\n",
    "#.rename(columns = {'name':'compound_name'}, inplace = True)\n",
    "atlas_df = pd.concat([metob.to_dataframe(rt),metob.to_dataframe(mz), compound_df],axis=1)\n",
    "atlas_df['label'] = label\n",
    "atlas_keys = [u'label','compound_name','compound_description',u'synonyms', u'num_free_radicals', u'number_components', u'permanent_charge', u'rt_max', u'rt_min', u'rt_peak',\n",
    "       u'rt_units', u'detected_polarity', u'mz', u'mz_tolerance',u'mz_tolerance_units',\n",
    "        u'inchi', u'inchi_key', u'neutralized_2d_inchi', u'neutralized_2d_inchi_key', u'neutralized_inchi',\n",
    "       u'neutralized_inchi_key',u'chebi_id', u'hmdb_id', u'img_abc_id', u'kegg_id',u'lipidmaps_id', u'metacyc_id',\n",
    "       u'mono_isotopic_molecular_weight', u'pubchem_compound_id', u'kegg_url', u'chebi_url', u'hmdb_url', u'lipidmaps_url', u'pubchem_url',u'wikipedia_url',  u'source']\n",
    "\n",
    "atlas_df = atlas_df[atlas_keys]\n",
    "print time.time() - t0\n",
    "\n",
    "atlas_df.head()"
   ]
  },
  {
   "cell_type": "code",
   "execution_count": 40,
   "metadata": {
    "collapsed": false
   },
   "outputs": [
    {
     "name": "stdout",
     "output_type": "stream",
     "text": [
      "3.05597996712\n"
     ]
    }
   ],
   "source": [
    "t0 = time.time()\n",
    "\n",
    "data_df = pd.DataFrame()\n",
    "pd_h5_file  = pd.HDFStore(my_file.hdf5_file)\n",
    "keys = pd_h5_file.keys()\n",
    "pd_h5_file.close()\n",
    "for k in keys:\n",
    "    if ('ms' in k) and not ('_mz' in k):\n",
    "        new_df = pd.read_hdf(my_file.hdf5_file,k)\n",
    "        new_df['ms_level'] = int(k.split('_')[0][-1])\n",
    "        new_df['polarity'] = k.split('_')[-1]\n",
    "        data_df = pd.concat([data_df,new_df], axis=0)\n",
    "print time.time() - t0\n"
   ]
  },
  {
   "cell_type": "markdown",
   "metadata": {},
   "source": [
    "# Functions"
   ]
  },
  {
   "cell_type": "code",
   "execution_count": 41,
   "metadata": {
    "collapsed": true
   },
   "outputs": [],
   "source": [
    "def get_data_for_mzrt(row,data_df,extra_time = 0.3):\n",
    "    min_mz = 'ms_level == 1 & (mz >= %5.4f & '%(row.mz - row.mz*row.mz_tolerance / 1e6)\n",
    "    rt_min = 'rt >= %5.4f & '%(row.rt_min - extra_time)\n",
    "    rt_max = 'rt <= %5.4f & '%(row.rt_max + extra_time)\n",
    "    max_mz = 'mz <= %5.4f)'%(row.mz + row.mz*row.mz_tolerance / 1e6)\n",
    "    ms1_query_str = '%s%s%s%s'%(min_mz,rt_min,rt_max,max_mz)\n",
    "    \n",
    "    min_mz = 'ms_level == 2 & (precursor_MZ >= %5.4f & '%(row.mz - 0.015)\n",
    "    rt_min = 'rt >= %5.4f & '%(row.rt_min)\n",
    "    rt_max = 'rt <= %5.4f & '%(row.rt_max)\n",
    "    max_mz = 'precursor_MZ <= %5.4f)'%(row.mz + 0.015)\n",
    "    ms2_query_str = '%s%s%s%s'%(min_mz,rt_min,rt_max,max_mz)\n",
    "    \n",
    "    #slice out a dataframe that is padded by extra_time for both ms1 and ms2 data points\n",
    "    all_df = data_df.query(ms1_query_str + ' | ' + ms2_query_str)\n",
    "    return_df = pd.Series({'padded_feature_data':all_df.T.to_dense(),'in_feature':(all_df.rt >= row.rt_min) & (all_df.rt <= row.rt_max)})\n",
    "    return return_df\n",
    "\n",
    "def get_ms1_summary(row):\n",
    "    #A DataFrame of all points typically padded by \"extra time\"\n",
    "    all_df = row.padded_feature_data.T\n",
    "    \n",
    "    #slice out ms1 data that is NOT padded by extra_time\n",
    "    ms1_df = all_df[(all_df.ms_level == 1) & (row.in_feature == True)]#[['i','mz','polarity','rt']]\n",
    "\n",
    "    num_ms1_datapoints = ms1_df.shape[0]\n",
    "    if num_ms1_datapoints > 0:\n",
    "        idx = ms1_df.i.idxmax()\n",
    "        ms1_peak_df = ms1_df.ix[ms1_df['i'].idxmax()]\n",
    "        mz_peak = ms1_peak_df.mz\n",
    "        rt_peak = ms1_peak_df.rt\n",
    "        mz_centroid = sum(ms1_df.mz * ms1_df.i) / sum(ms1_df.i)\n",
    "        rt_centroid = sum(ms1_df.rt * ms1_df.i) / sum(ms1_df.i)\n",
    "        peak_height = ms1_peak_df.i\n",
    "        peak_area = sum(ms1_df.i)\n",
    "    else:\n",
    "        mz_peak = np.nan\n",
    "        rt_peak = np.nan\n",
    "        mz_centroid = np.nan\n",
    "        rt_centroid = np.nan\n",
    "        peak_height = np.nan\n",
    "        peak_area = np.nan\n",
    "        \n",
    "    return_df = pd.Series({'ms1_datapoints':ms1_df.T.to_dense(),\n",
    "                            'num_ms1_datapoints':num_ms1_datapoints,\n",
    "                            'mz_peak':mz_peak,\n",
    "                            'rt_peak':rt_peak,\n",
    "                            'mz_centroid':mz_centroid,\n",
    "                            'rt_centroid':rt_centroid,\n",
    "                            'peak_height':peak_height,\n",
    "                            'peak_area':peak_area})\n",
    "    \n",
    "    return return_df\n",
    "\n",
    "def get_ms2_data(row):\n",
    "    #A DataFrame of all points typically padded by \"extra time\"\n",
    "    all_df = row.padded_feature_data.T\n",
    "    \n",
    "    #slice out ms2 data that is NOT padded by extra_time\n",
    "    ms2_df = all_df[(all_df.ms_level == 2) & (row.in_feature == True)]#[['collision_energy','i','mz','polarity','precursor_MZ','precursor_intensity','rt']]\n",
    "#     ms2_df.reset_index(inplace=True)\n",
    "\n",
    "    num_ms2_datapoints = ms2_df.shape[0]\n",
    "        \n",
    "    return_df = pd.Series({'ms2_datapoints':ms2_df.T.to_dense(),\n",
    "                            'num_ms2_datapoints':num_ms2_datapoints})\n",
    "## To create seperate scans for unique collision energies\n",
    "#     if num_ms2_datapoints > 0:\n",
    "#         u = ms2_df.collision_energy.unique()\n",
    "#         for u_ce in u:\n",
    "#             ce_df = ms2_df[ms2_df.collision_energy == u_ce]\n",
    "#             print ce_df.shape\n",
    "#             print ce_df['i'].idxmax()\n",
    "#             ms2_most_intense_scan_for_unique_ce_df = ce_df[]\n",
    "\n",
    "    return return_df\n",
    "\n",
    "\n",
    "def prefilter_dataframe_with_boundaries(polarity,rt_max,rt_min,mz_max,extra_time = 1, extra_mz = 1):\n",
    "    prefilter_query_str = 'polarity == \"%s\" & rt < %5.4f & rt > %5.4f & mz < %5.4f'%(polarity,rt_max+extra_time,rt_min-extra_time,mz_max+extra_mz)\n",
    "    new_df = data_df.query(prefilter_query_str)\n",
    "    \n",
    "    return new_df\n",
    "\n",
    "def get_ms1_eic(row):\n",
    "    #A DataFrame of all points typically padded by \"extra time\"\n",
    "    all_df = row.padded_feature_data.T\n",
    "    ms1_df = all_df[(all_df.ms_level == 1)][['i','mz','polarity','rt']]\n",
    "    ms1_df = ms1_df.sort_values('rt',ascending=True)\n",
    "    \n",
    "    return pd.Series({'eic':ms1_df.T.to_dense()})\n"
   ]
  },
  {
   "cell_type": "code",
   "execution_count": 42,
   "metadata": {
    "collapsed": false,
    "scrolled": false
   },
   "outputs": [
    {
     "name": "stdout",
     "output_type": "stream",
     "text": [
      "6.9755320549\n",
      "7.22074198723\n",
      "7.37758708\n",
      "7.57376098633\n",
      "7.57928490639\n"
     ]
    }
   ],
   "source": [
    "t0 = time.time()\n",
    "new_df = prefilter_dataframe_with_boundaries('pos',atlas_df.rt_max.max(),\n",
    "                                             atlas_df.rt_min.min(),atlas_df.mz.max())\n",
    "\n",
    "feature_data = atlas_df.apply(lambda x: get_data_for_mzrt(x,new_df),axis=1)\n",
    "print time.time() - t0\n",
    "\n",
    "ms1_summary = feature_data.apply(get_ms1_summary,axis=1)\n",
    "print time.time() - t0\n",
    "\n",
    "ms2_data = feature_data.apply(get_ms2_data,axis=1)\n",
    "print time.time() - t0\n",
    "\n",
    "ms1_eic = feature_data.apply(get_ms1_eic,axis=1)\n",
    "print time.time() - t0\n",
    "\n",
    "# temp.reset_index(drop=True,inplace=True)\n",
    "# atlas_df.reset_index(drop=True,inplace=True)\n",
    "file_data = pd.concat([feature_data,ms1_summary,ms2_data,ms1_eic],axis = 1)#.reset_index(drop=True,inplace=True)\n",
    "print time.time() - t0\n",
    "\n",
    "# ms1_eic['eic'][0].T['rt'].tolist()"
   ]
  },
  {
   "cell_type": "code",
   "execution_count": null,
   "metadata": {
    "collapsed": false
   },
   "outputs": [],
   "source": [
    "# pd.concat([atlas_df,temp,temp2],axis=1).head()"
   ]
  },
  {
   "cell_type": "code",
   "execution_count": null,
   "metadata": {
    "collapsed": false
   },
   "outputs": [],
   "source": [
    "atlas_df.padded_feature_data[0].T.head(8)"
   ]
  },
  {
   "cell_type": "code",
   "execution_count": null,
   "metadata": {
    "collapsed": false
   },
   "outputs": [],
   "source": [
    "tt = temp.ms1_datapoints[4].T\n",
    "tt.head()"
   ]
  },
  {
   "cell_type": "code",
   "execution_count": null,
   "metadata": {
    "collapsed": false
   },
   "outputs": [],
   "source": [
    "tt = ms2_data.ms2_datapoints[4].T\n",
    "tt.head()"
   ]
  },
  {
   "cell_type": "code",
   "execution_count": null,
   "metadata": {
    "collapsed": false
   },
   "outputs": [],
   "source": [
    "atlas_df.keys()"
   ]
  },
  {
   "cell_type": "code",
   "execution_count": null,
   "metadata": {
    "collapsed": true
   },
   "outputs": [],
   "source": []
  }
 ],
 "metadata": {
  "kernelspec": {
   "display_name": "Python 2",
   "language": "python",
   "name": "python2"
  },
  "language_info": {
   "codemirror_mode": {
    "name": "ipython",
    "version": 2
   },
   "file_extension": ".py",
   "mimetype": "text/x-python",
   "name": "python",
   "nbconvert_exporter": "python",
   "pygments_lexer": "ipython2",
   "version": "2.7.11"
  }
 },
 "nbformat": 4,
 "nbformat_minor": 0
}
