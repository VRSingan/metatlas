{
 "cells": [
  {
   "cell_type": "code",
   "execution_count": 1,
   "metadata": {
    "collapsed": false
   },
   "outputs": [
    {
     "name": "stdout",
     "output_type": "stream",
     "text": [
      "('Metatlas live in ', '/global/project/projectdirs/metatlas/anaconda/lib/python2.7/site-packages/metatlas')\n",
      "you're running on 072ec0638adb at 172.17.0.4 \n"
     ]
    }
   ],
   "source": [
    "import sys\n",
    "sys.path.insert(0,'/global/project/projectdirs/metatlas/anaconda/lib/python2.7/site-packages' )\n",
    "from  os.path import expandvars\n",
    "sys.path.insert(1,expandvars('/global/homes/b/bpb/metatlas/metatlas'))\n",
    "import helpers.rt_corrector as rt_corrector\n",
    "%matplotlib inline"
   ]
  },
  {
   "cell_type": "code",
   "execution_count": 2,
   "metadata": {
    "collapsed": false,
    "scrolled": false
   },
   "outputs": [
    {
     "name": "stdout",
     "output_type": "stream",
     "text": [
      "[12]\n",
      "Compound not found\n"
     ]
    }
   ],
   "source": [
    "rt_corrector = reload(rt_corrector)\n",
    "rt_corrector.display_atlases()\n",
    "rt_corrector.display_pkl_files_and_plot_data(pkl_path = '/global/homes/b/bpb/Downloads', filter_str = 'violacein')#, filter_str = '*') # looking in $HOME\n"
   ]
  },
  {
   "cell_type": "code",
   "execution_count": null,
   "metadata": {
    "collapsed": false
   },
   "outputs": [],
   "source": [
    "rt_corrector.grid2.get_selected_rows()\n",
    "rt_corrector.grid2."
   ]
  },
  {
   "cell_type": "code",
   "execution_count": null,
   "metadata": {
    "collapsed": false
   },
   "outputs": [],
   "source": [
    "#argument is path relative to $HOME\n",
    "rt_corrector = reload(rt_corrector)\n",
    "\n",
    "#rt_corrector.display_pkl_files_and_plot_data('data') # looking in $HOME/data"
   ]
  },
  {
   "cell_type": "code",
   "execution_count": null,
   "metadata": {
    "collapsed": true
   },
   "outputs": [],
   "source": []
  }
 ],
 "metadata": {
  "kernelspec": {
   "display_name": "Python 2",
   "language": "python",
   "name": "python2"
  },
  "language_info": {
   "codemirror_mode": {
    "name": "ipython",
    "version": 2
   },
   "file_extension": ".py",
   "mimetype": "text/x-python",
   "name": "python",
   "nbconvert_exporter": "python",
   "pygments_lexer": "ipython2",
   "version": "2.7.11"
  },
  "widgets": {
   "state": {},
   "version": "1.1.1"
  }
 },
 "nbformat": 4,
 "nbformat_minor": 0
}
