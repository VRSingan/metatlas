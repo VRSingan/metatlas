{
 "cells": [
  {
   "cell_type": "markdown",
   "metadata": {},
   "source": [
    "# 1. Import Python Packages"
   ]
  },
  {
   "cell_type": "code",
   "execution_count": null,
   "metadata": {
    "collapsed": false
   },
   "outputs": [],
   "source": [
    "import sys, os\n",
    "sys.path.insert(0,'/global/project/projectdirs/metatlas/anaconda/lib/python2.7/site-packages' )\n",
    "\n",
    "from metatlas import metatlas_objects as metob\n",
    "from metatlas.helpers import dill2plots as dp\n",
    "from metatlas.helpers import metatlas_get_data_helper_fun as ma_data\n",
    "from metatlas.helpers import rt_corrector as rt_corrector\n",
    "from metatlas.helpers import chromatograms_mp_plots as cp\n",
    "\n",
    "import qgrid\n",
    "\n",
    "from ipywidgets import interact, interactive, fixed\n",
    "import ipywidgets as widgets\n",
    "from IPython.display import display\n",
    "\n",
    "import time\n",
    "import dill\n",
    "import numpy as np\n",
    "import multiprocessing as mp\n",
    "import pandas as pd\n",
    "\n",
    "%matplotlib notebook"
   ]
  },
  {
   "cell_type": "markdown",
   "metadata": {},
   "source": [
    "# 2. Register LCMS Runs into categorical groups.\n",
    "\n",
    "* ### Select MetAtlas LCMS Runs by experiment and filename.  "
   ]
  },
  {
   "cell_type": "code",
   "execution_count": null,
   "metadata": {
    "collapsed": false
   },
   "outputs": [],
   "source": [
    "f = dp.interact_get_metatlas_files()"
   ]
  },
  {
   "cell_type": "markdown",
   "metadata": {},
   "source": [
    "* ### Create a \"File-Info\" sheet from the selected files.  \n",
    "This sheet needs to be downloaded and filled in.  The \"File-Info\" sheet is the exchange format we use to define the grouping membership for LCMS runs.\n"
   ]
  },
  {
   "cell_type": "code",
   "execution_count": null,
   "metadata": {
    "collapsed": false
   },
   "outputs": [],
   "source": [
    "dp.make_empty_fileinfo_sheet('/global/homes/b/bpb/Downloads/empty_finfo.tab',f.files)"
   ]
  },
  {
   "cell_type": "markdown",
   "metadata": {},
   "source": [
    "* ### Create metatlas groups from filled in file-info sheet\n",
    "Defining groups of files allows for the selection of sets of LCMS runs by specifying the group names.  In addition,  the group membership is preserved in the exported metatlas datasets; so the application of statistical methods based on grouped data is straightforward.\n",
    "\n",
    "Your filled in sheet will look something like this:\n",
    "<style type=\"text/css\">\n",
    "\ttable.tableizer-table {\n",
    "\t\tfont-size: 12px;\n",
    "\t\tborder: 1px solid #CCC; \n",
    "\t\tfont-family: Arial, Helvetica, sans-serif;\n",
    "\t} \n",
    "\t.tableizer-table td {\n",
    "\t\tpadding: 4px;\n",
    "\t\tmargin: 3px;\n",
    "\t\tborder: 1px solid #CCC;\n",
    "\t}\n",
    "\t.tableizer-table th {\n",
    "\t\tbackground-color: #104E8B; \n",
    "\t\tcolor: #FFF;\n",
    "\t\tfont-weight: bold;\n",
    "\t}\n",
    "</style>\n",
    "<table class=\"tableizer-table\">\n",
    "<thead><tr class=\"tableizer-firstrow\"><th>mzml_file</th><th>group</th><th>description</th></tr></thead><tbody>\n",
    " <tr><td>.../20160531_KBL_violacein_cells_384_final/20160531_C18_ACN_POS_MSMS_KBL_Qex_A_10_Run413.mzML</td><td>20160531_KBL_C18_Vio_cells_384_Quad_1</td><td>&nbsp;</td></tr>\n",
    " <tr><td>.../20160531_KBL_violacein_cells_384_final/20160531_C18_ACN_POS_MSMS_KBL_Qex_A_11_Run415.mzML</td><td>20160531_KBL_C18_Vio_cells_384_Quad_1</td><td>&nbsp;</td></tr>\n",
    " <tr><td>.../20160531_KBL_violacein_cells_384_final/20160531_C18_ACN_POS_MSMS_KBL_Qex_A_12_Run417.mzML</td><td>20160531_KBL_C18_Vio_cells_384_Quad_1</td><td>&nbsp;</td></tr>\n",
    " <tr><td>.../20160531_KBL_violacein_cells_384_final/20160531_C18_ACN_POS_MSMS_KBL_Qex_A_1_Run395.mzML</td><td>20160531_KBL_C18_Vio_cells_384_Quad_2</td><td>&nbsp;</td></tr>\n",
    " <tr><td>.../20160531_KBL_violacein_cells_384_final/20160531_C18_ACN_POS_MSMS_KBL_Qex_A_2_Run397.mzML</td><td>20160531_KBL_C18_Vio_cells_384_Quad_2</td><td>&nbsp;</td></tr>\n",
    " <tr><td>.../20160531_KBL_violacein_cells_384_final/20160531_C18_ACN_POS_MSMS_KBL_Qex_A_3_Run399.mzML</td><td>20160531_KBL_C18_Vio_cells_384_Quad_2</td><td></td></tr>\n",
    "</tbody></table>\n",
    "\n",
    "A text description of each group is an optional field.  These can be a few, short sentences that describe each group."
   ]
  },
  {
   "cell_type": "code",
   "execution_count": null,
   "metadata": {
    "collapsed": false
   },
   "outputs": [],
   "source": [
    "g = dp.make_groups_from_fileinfo_sheet('/global/homes/b/bpb/Downloads/20160517_RL_HM_6550_HILIC_CA-MF-groups.csv',\n",
    "                                       filetype='csv',\n",
    "                                       store=False)"
   ]
  },
  {
   "cell_type": "markdown",
   "metadata": {},
   "source": [
    "View the list of metatlas objects using \"to_dataframe\""
   ]
  },
  {
   "cell_type": "code",
   "execution_count": null,
   "metadata": {
    "collapsed": false
   },
   "outputs": [],
   "source": [
    "metob.to_dataframe(g).head()"
   ]
  },
  {
   "cell_type": "markdown",
   "metadata": {},
   "source": [
    "# 3. Create a new Atlas\n",
    "* ### From Google Doc Reference Data"
   ]
  },
  {
   "cell_type": "code",
   "execution_count": null,
   "metadata": {
    "collapsed": false,
    "scrolled": false
   },
   "outputs": [],
   "source": [
    "dp = reload(dp)\n",
    "atlas_sheet = dp.get_formatted_atlas_from_google_sheet(polarity='POS',\n",
    "                                          method='QE119_ZIC-HILIC',\n",
    "                                          mz_tolerance=10)"
   ]
  },
  {
   "cell_type": "code",
   "execution_count": null,
   "metadata": {
    "collapsed": false
   },
   "outputs": [],
   "source": [
    "atlas_sheet.head()"
   ]
  },
  {
   "cell_type": "markdown",
   "metadata": {},
   "source": [
    "* ### From a pandas dataframe"
   ]
  },
  {
   "cell_type": "code",
   "execution_count": null,
   "metadata": {
    "collapsed": false,
    "scrolled": false
   },
   "outputs": [],
   "source": [
    "dp = reload(dp)\n",
    "names = dp.make_atlas_from_spreadsheet('',\n",
    "                                       'QE_HILIC_POS_ISTD_AND_COMMON_METABOLITES',\n",
    "                                       filetype='dataframe',\n",
    "                                       sheetname='',\n",
    "                                       polarity = 'positive',\n",
    "                                       store=True,\n",
    "                                       dataframe = atlas_sheet,\n",
    "                                      mz_tolerance = 10)"
   ]
  },
  {
   "cell_type": "markdown",
   "metadata": {},
   "source": [
    "* ### From a spreadsheet\n",
    "This is by far the most common way to create a new Atlas in Metabolite Atlas.  The columns the sheet must be exactly as what is seen here.  In cases where there isn't a compound in the database, the \"label\" field below is used.  Here is an example of what a sheet could look like.\n",
    "\n",
    "<style type=\"text/css\">\n",
    "\ttable.tableizer-table {\n",
    "\t\tfont-size: 12px;\n",
    "\t\tborder: 1px solid #CCC; \n",
    "\t\tfont-family: Arial, Helvetica, sans-serif;\n",
    "\t} \n",
    "\t.tableizer-table td {\n",
    "\t\tpadding: 4px;\n",
    "\t\tmargin: 3px;\n",
    "\t\tborder: 1px solid #CCC;\n",
    "\t}\n",
    "\t.tableizer-table th {\n",
    "\t\tbackground-color: #104E8B; \n",
    "\t\tcolor: #FFF;\n",
    "\t\tfont-weight: bold;\n",
    "\t}\n",
    "</style>\n",
    "<table class=\"tableizer-table\">\n",
    "<thead><tr class=\"tableizer-firstrow\"><th>label</th><th>rt_min</th><th>rt_max</th><th>rt_peak</th><th>mz</th><th>mz_tolerance</th><th>inchi_key</th></tr></thead><tbody>\n",
    " <tr><td>violacein </td><td>4.2</td><td>4.4</td><td>4.3</td><td>344.1036913</td><td>5</td><td>XAPNKXIRQFHCHN-QGOAFFKASA-N</td></tr>\n",
    " <tr><td>deoxyviolacein (iso1 - main)</td><td>4.75</td><td>4.9</td><td>4.8</td><td>328.1087767</td><td>5</td><td>OJUJNNKCVPCATE-QGOAFFKASA-N</td></tr>\n",
    " <tr><td>tryptophan</td><td>2.3</td><td>2.45</td><td>2.36</td><td>205.0978776</td><td>5</td><td>QIVBCDIJIAJPQS-VIFPVBQESA-N</td></tr>\n",
    " <tr><td>deoxychromoviridans</td><td>5.4</td><td>6</td><td>5.75</td><td>605.244821</td><td>5</td><td>&nbsp;</td></tr>\n",
    " <tr><td>chromoviridans</td><td>5.15</td><td>5.5</td><td>5.3</td><td>621.239736</td><td>5</td><td>&nbsp;</td></tr>\n",
    " <tr><td>ABMBA</td><td>4.72</td><td>4.88</td><td>4.8</td><td>229.9811</td><td>5</td><td>LCMZECCEEOQWLQ-UHFFFAOYSA-N</td></tr>\n",
    "</tbody></table>\n",
    "\n",
    "These tables can be csv or tab delimited text or excel spreadsheets.\n",
    "\n",
    "There is a <a href = 'https://drive.google.com/open?id=0BweRoDuGcsLBNkYtQUpjQ0ktZDg'> lookup table here </a> of all compounds to get the inchi_key.\n",
    "\n",
    "For old MetAtlas atlases, you can use Excel's \"vlookup\" function along with <a href = 'https://drive.google.com/open?id=0BweRoDuGcsLBQUxrRjgtbjhnSDg'> this lookup table </a> to map the old names to valid inchi keys.\n",
    "\n",
    "```\n",
    "=VLOOKUP(H2,$A:$B,2,0) where $A:$B are columns containing name and inchi-key\n",
    "```\n",
    "\n",
    "This is a <a href = 'https://drive.google.com/open?id=0BweRoDuGcsLBaThjcEZuSjh2dXM'> link </a> to all the old compound identifications that were in the database prior to the refactoring in Mid June, 2016.\n"
   ]
  },
  {
   "cell_type": "code",
   "execution_count": null,
   "metadata": {
    "collapsed": false
   },
   "outputs": [],
   "source": [
    "dp = reload(dp)\n",
    "names = dp.make_atlas_from_spreadsheet('/global/homes/b/bpb/Downloads/msmsl_neg_atlas_istd.txt',\n",
    "                                       '20161007_MP3umZHILIC_V12_NEG_MetIDJamboree',\n",
    "                                       filetype='tab',\n",
    "                                       sheetname='',\n",
    "                                       polarity = 'negative',\n",
    "                                       store=False,\n",
    "                                      mz_tolerance = 100)\n",
    "\n",
    "# 0 73 2016019_metalas_KZ_Ave_uptake_qxqct_hilic_updated_pos_V2 2016-07-26 17:31:26\n",
    "# 1 69 201500826_KZ_Ave_library_qxqct_hilic_pos_V2 2016-07-26 18:17:32\n",
    "# 2 93 201500826_KZ_Ave_library_qxqct_hilic_neg_V2 2016-07-26 18:14:40\n",
    "# 3 106 2016019_metatlas_KZ_Ave_uptake_qxqct_hilic_updated_neg_V2 2016-07-26 18:02:34\n",
    "        "
   ]
  },
  {
   "cell_type": "markdown",
   "metadata": {},
   "source": [
    "* ### Use interactive interface to build atlas from spreadsheet"
   ]
  },
  {
   "cell_type": "code",
   "execution_count": null,
   "metadata": {
    "collapsed": false
   },
   "outputs": [],
   "source": [
    "###### CURRENTLY UNDER DEVELOPMENT/TESTING #######\n",
    "# %system cat /project/projectdirs/metatlas/anaconda/lib/python2.7/site-packages/IPython/html.py\n",
    "# /html/static/style/ipython.min.css\n",
    "# .widget-hlabel{min-width:10ex;padding-right:8px;padding-top:3px;text-align:right;vertical-align:text-top}\n",
    "from IPython.display import HTML, display\n",
    "display(HTML('''<style>\n",
    "    .widget-label { min-width: 20ex !important; }\n",
    "</style>'''))\n",
    "dp = reload(dp)\n",
    "names = interact(dp.make_atlas_from_spreadsheet,__manual=True,)\n",
    "##################################################"
   ]
  },
  {
   "cell_type": "markdown",
   "metadata": {},
   "source": [
    "# 4. Select groups of files to operate on"
   ]
  },
  {
   "cell_type": "code",
   "execution_count": null,
   "metadata": {
    "collapsed": false
   },
   "outputs": [],
   "source": [
    "dp = reload(dp)\n",
    "groups = dp.select_groups_for_analysis(name = '2016%KZ%pos',\n",
    "                                       most_recent = True,\n",
    "                                       remove_empty = True,\n",
    "                                       include_list = [], exclude_list = [])#QC','Blank'])\n"
   ]
  },
  {
   "cell_type": "markdown",
   "metadata": {},
   "source": [
    "# 5. Select Atlas to use\n",
    "* ### Select by Atlas name"
   ]
  },
  {
   "cell_type": "code",
   "execution_count": null,
   "metadata": {
    "collapsed": false,
    "scrolled": false
   },
   "outputs": [],
   "source": [
    "atlas = dp.get_metatlas_atlas(name='test_save_20161104',do_print = True,most_recent=True)\n",
    "#201500826_KZ_Ave_library_qxqct_hilic_pos_V2\n",
    "#20161007_MP3umZHILIC_V12_NEG_MetIDJamboree"
   ]
  },
  {
   "cell_type": "markdown",
   "metadata": {},
   "source": [
    "* ### A list of atlases is returned by the cell above.  \n",
    "You must run the following cell to specify which Atlas you want to continue your analysis with (Even if only a single atlas is returned)."
   ]
  },
  {
   "cell_type": "code",
   "execution_count": null,
   "metadata": {
    "collapsed": false
   },
   "outputs": [],
   "source": [
    "ma_data = reload(ma_data)\n",
    "myAtlas = atlas[0]\n",
    "atlas_df = ma_data.make_atlas_df(myAtlas)\n",
    "print myAtlas.name\n",
    "print myAtlas.username"
   ]
  },
  {
   "cell_type": "markdown",
   "metadata": {},
   "source": [
    "### Take a look at the selected atlas"
   ]
  },
  {
   "cell_type": "markdown",
   "metadata": {},
   "source": [
    "### View only the first few lines\n",
    "* Remove the \".head()\" to show the whole thing\n",
    "* Put a number in the \".head()\" to show number of rows\n",
    "* Edit set_option to configure display:\n",
    "* More options available here:\n",
    "http://pandas.pydata.org/pandas-docs/stable/generated/pandas.set_option.html"
   ]
  },
  {
   "cell_type": "code",
   "execution_count": null,
   "metadata": {
    "collapsed": false
   },
   "outputs": [],
   "source": [
    "pd.set_option('display.max_rows', 500)\n",
    "pd.set_option('display.max_columns', 500)\n",
    "pd.set_option('display.max_colwidth', 1000)\n",
    "atlas_df.head(5)"
   ]
  },
  {
   "cell_type": "markdown",
   "metadata": {},
   "source": [
    "### View the atlas as a qgrid widget (good for widescreen displays)"
   ]
  },
  {
   "cell_type": "code",
   "execution_count": null,
   "metadata": {
    "collapsed": true
   },
   "outputs": [],
   "source": [
    "compound_grid = qgrid.QGridWidget(df=atlas_df)#,set_grid_option={'show_toolbar',True})\n",
    "compound_grid.export()"
   ]
  },
  {
   "cell_type": "markdown",
   "metadata": {},
   "source": [
    "### View the atlas as a pandas dataframe (tweak the pandas display options to fit)\n",
    "* More options available here:\n",
    "http://pandas.pydata.org/pandas-docs/stable/generated/pandas.set_option.html"
   ]
  },
  {
   "cell_type": "code",
   "execution_count": null,
   "metadata": {
    "collapsed": false
   },
   "outputs": [],
   "source": [
    "pd.set_option('display.max_rows', 500)\n",
    "pd.set_option('display.max_columns', 500)\n",
    "pd.set_option('display.max_colwidth', 1000)\n",
    "atlas_df"
   ]
  },
  {
   "cell_type": "markdown",
   "metadata": {},
   "source": [
    "# 6. Get Data"
   ]
  },
  {
   "cell_type": "markdown",
   "metadata": {},
   "source": [
    "### Much faster data getting script"
   ]
  },
  {
   "cell_type": "code",
   "execution_count": null,
   "metadata": {
    "collapsed": false
   },
   "outputs": [],
   "source": [
    "all_files = []\n",
    "for my_group in groups:\n",
    "    for my_file in my_group.items:\n",
    "        all_files.append((my_file,my_group,atlas_df,myAtlas))\n",
    "        \n",
    "pool = mp.Pool(processes=min(10, len(all_files)))\n",
    "# from metatlas.helpers.metatlas_get_data_helper_fun import get_data_for_atlas_df_and_file\n",
    "t0 = time.time()\n",
    "metatlas_dataset = pool.map(ma_data.get_data_for_atlas_df_and_file, all_files)\n",
    "pool.close()\n",
    "pool.terminate()\n",
    "#If you're code crashes here, make sure to terminate any processes left open.\n",
    "print time.time() - t0\n"
   ]
  },
  {
   "cell_type": "markdown",
   "metadata": {},
   "source": [
    "# 7. Adjust Retention Times.  "
   ]
  },
  {
   "cell_type": "code",
   "execution_count": null,
   "metadata": {
    "collapsed": false
   },
   "outputs": [],
   "source": [
    "dp = reload(dp)\n",
    "%matplotlib notebook\n",
    "a = dp.adjust_rt_for_selected_compound(metatlas_dataset,include_lcmsruns = [])"
   ]
  },
  {
   "cell_type": "code",
   "execution_count": null,
   "metadata": {
    "collapsed": false,
    "scrolled": true
   },
   "outputs": [],
   "source": [
    "# dp = reload(dp)\n",
    "data,compound_grid = dp.show_compound_grid(input_dataset = metatlas_dataset)#,input_fname = '/global/homes/b/bpb/Downloads/20160531_KBL_C18_Vio_cells_384_Q_1_to_4.pkl')"
   ]
  },
  {
   "cell_type": "markdown",
   "metadata": {},
   "source": [
    "# 8. Make Supplementary Tables\n"
   ]
  },
  {
   "cell_type": "markdown",
   "metadata": {},
   "source": [
    "### Specify a directory to put all the figures into"
   ]
  },
  {
   "cell_type": "code",
   "execution_count": 14,
   "metadata": {
    "collapsed": false
   },
   "outputs": [],
   "source": [
    "output_dir = '/global/homes/b/bpb/Downloads/mp_plots_test/'\n",
    "if not os.path.exists(output_dir):\n",
    "    os.makedirs(output_dir)"
   ]
  },
  {
   "cell_type": "markdown",
   "metadata": {},
   "source": [
    "* ### Export Atlas to a Spreadsheet"
   ]
  },
  {
   "cell_type": "code",
   "execution_count": null,
   "metadata": {
    "collapsed": false
   },
   "outputs": [],
   "source": [
    "atlas_identifications = dp.export_atlas_to_spreadsheet(myAtlas,os.path.join(output_dir,'atlas_export.csv'))"
   ]
  },
  {
   "cell_type": "markdown",
   "metadata": {},
   "source": [
    "* ### Dataframes and spreadsheets"
   ]
  },
  {
   "cell_type": "code",
   "execution_count": null,
   "metadata": {
    "collapsed": false
   },
   "outputs": [],
   "source": [
    "dp = reload(dp)\n",
    "# atlas_identifications = dp.export_atlas_to_spreadsheet(myAtlas,'%s/sheets/%s.csv'%(plot_location_label,myAtlas.name))\n",
    "peak_height = dp.make_output_dataframe(input_fname = '',input_dataset = metatlas_dataset,include_lcmsruns = [],exclude_lcmsruns = [], fieldname='peak_height' , output_loc=os.path.join(output_dir,'sheets'))\n",
    "peak_area = dp.make_output_dataframe(input_fname = my_file,input_dataset = metatlas_dataset,include_lcmsruns = [],exclude_lcmsruns = [], fieldname='peak_area' , output_loc=os.path.join(output_dir,'sheets'))\n",
    "mz_peak = dp.make_output_dataframe(input_fname = my_file,input_dataset = metatlas_dataset,include_lcmsruns = [],exclude_lcmsruns = [], fieldname='mz_peak' , output_loc=os.path.join(output_dir,'sheets'))\n",
    "rt_peak = dp.make_output_dataframe(input_fname = my_file, input_dataset = metatlas_dataset,include_lcmsruns = [],exclude_lcmsruns = [],fieldname='rt_peak' , output_loc=os.path.join(output_dir,'sheets'))\n",
    "mz_centroid = dp.make_output_dataframe(input_fname = my_file,input_dataset = metatlas_dataset,include_lcmsruns = [],exclude_lcmsruns = [], fieldname='mz_centroid' , output_loc=os.path.join(output_dir,'sheets'))\n",
    "rt_centroid = dp.make_output_dataframe(input_fname = my_file,input_dataset = metatlas_dataset,include_lcmsruns = [],exclude_lcmsruns = [], fieldname='rt_centroid' , output_loc=os.path.join(output_dir,'sheets'))"
   ]
  },
  {
   "cell_type": "markdown",
   "metadata": {},
   "source": [
    "* ### Error bar"
   ]
  },
  {
   "cell_type": "code",
   "execution_count": null,
   "metadata": {
    "collapsed": false,
    "scrolled": false
   },
   "outputs": [],
   "source": [
    "dp = reload(dp)\n",
    "dp.plot_errorbar_plots(peak_height, output_loc=os.path.join(output_dir,'error_bar_peak_height'))"
   ]
  },
  {
   "cell_type": "markdown",
   "metadata": {},
   "source": [
    "* ### Chromatograms"
   ]
  },
  {
   "cell_type": "markdown",
   "metadata": {},
   "source": [
    "### Make a plot for each compound:\n",
    "* Each lcmsrun will be a subplot"
   ]
  },
  {
   "cell_type": "code",
   "execution_count": null,
   "metadata": {
    "collapsed": false
   },
   "outputs": [],
   "source": [
    "## THINGS YOU MIGHT WANT TO CHANGE\n",
    "nCols = 8\n",
    "share_y = False\n",
    "\n",
    "## THINGS YOU PROBABLY DON'T WANT TO CHANGE\n",
    "file_names = ma_data.get_file_names(metatlas_dataset)\n",
    "compound_names = ma_data.get_compound_names(metatlas_dataset)[0]\n",
    "nRows = int(np.ceil(len(file_names)/float(nCols)))\n",
    "args_list = []\n",
    "for compound_idx, my_compound in enumerate(compound_names):\n",
    "    my_data = list()\n",
    "    for file_idx, my_file in enumerate(file_names):\n",
    "        my_data.append(metatlas_dataset[file_idx][compound_idx])\n",
    "\n",
    "    kwargs = {'data': my_data,\n",
    "              'file_name': os.path.join(output_dir, my_compound+'.pdf'),\n",
    "              'rowscols': (nRows, nCols),\n",
    "              'share_y': share_y,\n",
    "              'names': file_names}\n",
    "    args_list.append(kwargs)\n",
    "max_processes = 20\n",
    "pool = mp.Pool(processes=min(max_processes, len(metatlas_dataset[0])))\n",
    "pool.map(cp.plot_compounds_and_files_mp, args_list)\n",
    "pool.close()\n",
    "pool.terminate()"
   ]
  },
  {
   "cell_type": "markdown",
   "metadata": {},
   "source": [
    "### Make a plot for each lcmsrun\n",
    "* Each compound will be a subplot"
   ]
  },
  {
   "cell_type": "code",
   "execution_count": null,
   "metadata": {
    "collapsed": false,
    "scrolled": false
   },
   "outputs": [],
   "source": [
    "## THINGS YOU MIGHT WANT TO CHANGE\n",
    "nCols = 8\n",
    "share_y = False\n",
    "\n",
    "## THINGS YOU PROBABLY DON'T WANT TO CHANGE\n",
    "file_names = ma_data.get_file_names(metatlas_dataset)\n",
    "compound_names = ma_data.get_compound_names(metatlas_dataset)[0]\n",
    "nRows = int(np.ceil(len(compound_names)/float(nCols)))\n",
    "args_list = []\n",
    "for file_idx, my_file in enumerate(file_names):\n",
    "    kwargs = {'data': metatlas_dataset[file_idx],\n",
    "              'file_name': os.path.join(output_dir, my_file +'.pdf'),\n",
    "              'rowscols': (nRows, nCols),\n",
    "              'share_y': share_y,\n",
    "              'names': compound_names}\n",
    "    args_list.append(kwargs)\n",
    "\n",
    "max_processes = 20\n",
    "pool = mp.Pool(processes=min(max_processes, len(metatlas_dataset)))\n",
    "pool.map(cp.plot_compounds_and_files_mp, args_list)\n",
    "pool.close()\n",
    "pool.terminate()\n"
   ]
  },
  {
   "cell_type": "markdown",
   "metadata": {},
   "source": [
    "* ### Identification Figures"
   ]
  },
  {
   "cell_type": "code",
   "execution_count": null,
   "metadata": {
    "collapsed": false,
    "scrolled": false
   },
   "outputs": [],
   "source": [
    "dp = reload(dp)\n",
    "dp.make_identification_figure(input_dataset = metatlas_dataset, input_fname = my_file, include_lcmsruns = [],exclude_lcmsruns = ['RootCass','QC','Blank','blank'], output_loc=os.path.join(output_dir,'identification'))"
   ]
  },
  {
   "cell_type": "markdown",
   "metadata": {},
   "source": [
    "### Make a single tar file of your output directory"
   ]
  },
  {
   "cell_type": "code",
   "execution_count": 23,
   "metadata": {
    "collapsed": false
   },
   "outputs": [
    {
     "data": {
      "text/plain": [
       "[]"
      ]
     },
     "execution_count": 23,
     "metadata": {},
     "output_type": "execute_result"
    }
   ],
   "source": [
    "import time\n",
    "timestr = time.strftime(\"%Y%m%d-%H%M%S\")\n",
    "tarball_name = timestr + '_' + os.path.basename(os.path.normpath(output_dir)) + '.tar.gz'\n",
    "%system tar -zcf $tarball_name -C $output_dir .\n",
    "print 'done'"
   ]
  },
  {
   "cell_type": "markdown",
   "metadata": {},
   "source": [
    "### The tarball will be stored in your current directory.  Run this to see current directory"
   ]
  },
  {
   "cell_type": "code",
   "execution_count": 21,
   "metadata": {
    "collapsed": false
   },
   "outputs": [
    {
     "data": {
      "text/plain": [
       "['/global/u2/b/bpb/metatlas/docs/example_notebooks']"
      ]
     },
     "execution_count": 21,
     "metadata": {},
     "output_type": "execute_result"
    }
   ],
   "source": [
    "%system pwd"
   ]
  },
  {
   "cell_type": "markdown",
   "metadata": {},
   "source": [
    "# 9. Clean up Zombie Processes\n",
    "\n",
    "* ### These are not meant to be used as part of normal work\n",
    "\n",
    "* ### If code crashes, we will have to use these tools to clean things up"
   ]
  },
  {
   "cell_type": "markdown",
   "metadata": {},
   "source": [
    "### Try simply closing the pool"
   ]
  },
  {
   "cell_type": "code",
   "execution_count": null,
   "metadata": {
    "collapsed": true
   },
   "outputs": [],
   "source": [
    "pool.close()\n",
    "pool.terminate()"
   ]
  },
  {
   "cell_type": "markdown",
   "metadata": {},
   "source": [
    "### Make a DataFrame of user's processes"
   ]
  },
  {
   "cell_type": "code",
   "execution_count": 11,
   "metadata": {
    "collapsed": false
   },
   "outputs": [
    {
     "data": {
      "text/html": [
       "<div>\n",
       "<table border=\"1\" class=\"dataframe\">\n",
       "  <thead>\n",
       "    <tr style=\"text-align: right;\">\n",
       "      <th></th>\n",
       "      <th>created_datestr</th>\n",
       "      <th>created_timestamp</th>\n",
       "      <th>name</th>\n",
       "      <th>pid</th>\n",
       "      <th>user</th>\n",
       "    </tr>\n",
       "  </thead>\n",
       "  <tbody>\n",
       "    <tr>\n",
       "      <th>0</th>\n",
       "      <td>2016-11-04 10:18:48.720000</td>\n",
       "      <td>1478279928</td>\n",
       "      <td>jupyterhub-sing</td>\n",
       "      <td>9144</td>\n",
       "      <td>bpb</td>\n",
       "    </tr>\n",
       "    <tr>\n",
       "      <th>1</th>\n",
       "      <td>2016-11-04 12:11:18.470000</td>\n",
       "      <td>1478286678</td>\n",
       "      <td>python</td>\n",
       "      <td>27959</td>\n",
       "      <td>bpb</td>\n",
       "    </tr>\n",
       "    <tr>\n",
       "      <th>2</th>\n",
       "      <td>2016-11-02 06:15:09.930000</td>\n",
       "      <td>1478092509</td>\n",
       "      <td>jupyterhub-sing</td>\n",
       "      <td>28411</td>\n",
       "      <td>bpb</td>\n",
       "    </tr>\n",
       "    <tr>\n",
       "      <th>3</th>\n",
       "      <td>2016-11-02 06:17:36.180000</td>\n",
       "      <td>1478092656</td>\n",
       "      <td>bash</td>\n",
       "      <td>31782</td>\n",
       "      <td>bpb</td>\n",
       "    </tr>\n",
       "    <tr>\n",
       "      <th>4</th>\n",
       "      <td>2016-11-02 06:26:54.710000</td>\n",
       "      <td>1478093214</td>\n",
       "      <td>python</td>\n",
       "      <td>54877</td>\n",
       "      <td>bpb</td>\n",
       "    </tr>\n",
       "    <tr>\n",
       "      <th>5</th>\n",
       "      <td>2016-11-02 07:43:47.190000</td>\n",
       "      <td>1478097827</td>\n",
       "      <td>jupyterhub-sing</td>\n",
       "      <td>60980</td>\n",
       "      <td>bpb</td>\n",
       "    </tr>\n",
       "  </tbody>\n",
       "</table>\n",
       "</div>"
      ],
      "text/plain": [
       "              created_datestr  created_timestamp             name    pid user\n",
       "0  2016-11-04 10:18:48.720000         1478279928  jupyterhub-sing   9144  bpb\n",
       "1  2016-11-04 12:11:18.470000         1478286678           python  27959  bpb\n",
       "2  2016-11-02 06:15:09.930000         1478092509  jupyterhub-sing  28411  bpb\n",
       "3  2016-11-02 06:17:36.180000         1478092656             bash  31782  bpb\n",
       "4  2016-11-02 06:26:54.710000         1478093214           python  54877  bpb\n",
       "5  2016-11-02 07:43:47.190000         1478097827  jupyterhub-sing  60980  bpb"
      ]
     },
     "execution_count": 11,
     "metadata": {},
     "output_type": "execute_result"
    }
   ],
   "source": [
    "import os\n",
    "import psutil\n",
    "import getpass\n",
    "import pandas as pd\n",
    "from datetime import datetime\n",
    "\n",
    "pids = [int(pid) for pid in os.listdir('/proc') if pid.isdigit()]\n",
    "proc_df = []\n",
    "for pid in pids:\n",
    "    try:\n",
    "        process = psutil.Process(pid)\n",
    "        if process.username() == getpass.getuser():\n",
    "            temp = {'pid': process.pid,\n",
    "                    'name': process.name(),\n",
    "                    'user': process.username(),\n",
    "                    'created_timestamp': int(process.create_time()),\n",
    "                    'created_datestr': str(datetime.fromtimestamp(process.create_time()))}\n",
    "            proc_df.append(temp)\n",
    "    except:\n",
    "        pass\n",
    "    \n",
    "pd.DataFrame(proc_df)"
   ]
  },
  {
   "cell_type": "markdown",
   "metadata": {},
   "source": [
    "### Kill process by process id (pid)"
   ]
  },
  {
   "cell_type": "code",
   "execution_count": 10,
   "metadata": {
    "collapsed": true
   },
   "outputs": [],
   "source": [
    "p = psutil.Process()\n",
    "p.terminate() "
   ]
  },
  {
   "cell_type": "markdown",
   "metadata": {},
   "source": [
    "# Ancient Codes and Partially Developed Tools"
   ]
  },
  {
   "cell_type": "code",
   "execution_count": null,
   "metadata": {
    "collapsed": true
   },
   "outputs": [],
   "source": [
    "### Store data to a pickle file\n",
    "# saved_filename = '/global/homes/b/bpb/Downloads/20160818_POS_MO_HEfungusonly_V1.pkl'\n",
    "# with open(output_filename,'w') as f:\n",
    "#     dill.dump(metatlas_dataset,f)\n",
    "\n",
    "### Load a pre-existing metatlas dataset  \n",
    "# metatlas_dataset = ma_data.get_dill_data(saved_filename)"
   ]
  },
  {
   "cell_type": "code",
   "execution_count": null,
   "metadata": {
    "collapsed": false,
    "scrolled": false
   },
   "outputs": [],
   "source": [
    "### copy files to $SCRATCH\n",
    "### You will likely never have to do this, but just in case, here is the code.\n",
    "# from shutil import copyfile\n",
    "# scratch = os.environ['SCRATCH']\n",
    "# for my_group in groups:\n",
    "#     for my_file in my_group.items:\n",
    "#         new_path = os.path.join(scratch,'temp_metatlas')\n",
    "#         if not os.path.isdir(new_path):\n",
    "#             os.mkdir(new_path)\n",
    "#         new_file = os.path.join(new_path,os.path.basename(my_file.hdf5_file))\n",
    "#         copyfile(my_file.hdf5_file, new_file)\n",
    "#         my_file.hdf5_file = new_file\n",
    "#         print my_file.hdf5_file"
   ]
  },
  {
   "cell_type": "code",
   "execution_count": null,
   "metadata": {
    "collapsed": false,
    "scrolled": false
   },
   "outputs": [],
   "source": [
    "# %matplotlib inline\n",
    "# dp = reload(dp)\n",
    "# pickles = ['/global/homes/b/bpb/Downloads/KZ_Avena_Exudate_atlases_and_groups_1/neg_data.pkl',\n",
    "#           '/global/homes/b/bpb/Downloads/KZ_Avena_Exudate_atlases_and_groups_1/pos_data.pkl',\n",
    "# '/global/homes/b/bpb/Downloads/KZ_Avena_Uptake_atlases_and_group_2/pos_data.pkl',\n",
    "# '/global/homes/b/bpb/Downloads/KZ_Avena_Uptake_atlases_and_group_2/neg_data.pkl']\n",
    "# for p in pickles:\n",
    "#     plot_location_label = p.split('.')[0]+'/'\n",
    "#     print plot_location_label\n",
    "#     if not os.path.exists(plot_location_label):\n",
    "#         os.makedirs(plot_location_label)\n",
    "#     metatlas_dataset = ma_data.get_dill_data(p)\n",
    "#     dp.make_identification_figure(input_dataset = metatlas_dataset, input_fname = p, include_lcmsruns = [],exclude_lcmsruns = ['RootCass','QC','Blank','blank'], output_loc=plot_location_label+'/identification')"
   ]
  },
  {
   "cell_type": "code",
   "execution_count": null,
   "metadata": {
    "collapsed": false,
    "scrolled": false
   },
   "outputs": [],
   "source": [
    "######### DO NOT USE #######\n",
    "# output_filename = '/global/homes/b/bpb/Downloads/20160531_KBL_C18_Vio_cells_384_Q_1_to_4.pkl'\n",
    "# data = dp.get_data_for_groups_and_atlas(groups,myAtlas,output_filename)\n",
    "############################"
   ]
  },
  {
   "cell_type": "code",
   "execution_count": null,
   "metadata": {
    "collapsed": false
   },
   "outputs": [],
   "source": [
    "######### DO NOT USE #######\n",
    "### THIS STILL NEEDS SOME REPAIRS ###\n",
    "# rt_corrector.display_atlases()\n",
    "### USE AT YOUR OWN RISK ###\n",
    "############################"
   ]
  },
  {
   "cell_type": "code",
   "execution_count": null,
   "metadata": {
    "collapsed": false
   },
   "outputs": [],
   "source": [
    "# msmls_files = metob.retrieve('Lcmsruns',experiment = '20161007_KBL_MPZHILIC3um_MSMLS_stds',name = '%pos%',username = '*')\n",
    "# print len(msmls_files)\n",
    "# kate_files = metob.retrieve('Lcmsruns',experiment = '20161007_KBL_MPZHILIC3um_KateStandards',name = '%pos%', username = '*')\n",
    "# print len(kate_files)\n",
    "# g = metob.Group()\n",
    "# g.name = '20161007_MP3umZHILIC_V12_POS_MetIDJamboree'\n",
    "# for f in msmls_files:\n",
    "#     g.items.append(f)\n",
    "# for f in kate_files:\n",
    "#     g.items.append(f)\n",
    "# metob.store([g])"
   ]
  }
 ],
 "metadata": {
  "anaconda-cloud": {},
  "kernelspec": {
   "display_name": "Python 2.7",
   "language": "python",
   "name": "python2.7"
  }
 },
 "nbformat": 4,
 "nbformat_minor": 0
}
