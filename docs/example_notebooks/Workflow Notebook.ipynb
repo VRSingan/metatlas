{
 "cells": [
  {
   "cell_type": "markdown",
   "metadata": {},
   "source": [
    "# 1. Import Python Packages"
   ]
  },
  {
   "cell_type": "code",
   "execution_count": 1,
   "metadata": {
    "collapsed": false
   },
   "outputs": [
    {
     "name": "stderr",
     "output_type": "stream",
     "text": [
      "/global/project/projectdirs/metatlas/anaconda/lib/python2.7/site-packages/matplotlib/__init__.py:1350: UserWarning:  This call to matplotlib.use() has no effect\n",
      "because the backend has already been chosen;\n",
      "matplotlib.use() must be called *before* pylab, matplotlib.pyplot,\n",
      "or matplotlib.backends is imported for the first time.\n",
      "\n",
      "  warnings.warn(_use_error_msg)\n"
     ]
    }
   ],
   "source": [
    "%matplotlib notebook\n",
    "import sys, os\n",
    "sys.path.insert(0,'/global/homes/b/bpb/metatlas')\n",
    "\n",
    "sys.path.insert(1,'/global/project/projectdirs/metatlas/anaconda/lib/python2.7/site-packages' )\n",
    "\n",
    "from metatlas.helpers import dill2plots as dp\n",
    "from metatlas.helpers import metatlas_get_data_helper_fun as ma_data\n",
    "from metatlas.helpers import rt_corrector as rt_corrector\n",
    "from metatlas.helpers import chromatograms_mp_plots as cp\n",
    "import metatlas.metatlas_objects as metob\n",
    "from metatlas.helpers import mzmine_helpers as mzm\n",
    "\n",
    "import qgrid\n",
    "\n",
    "from ipywidgets import interact, interactive, fixed\n",
    "import ipywidgets as widgets\n",
    "from IPython.display import display\n",
    "\n",
    "import time\n",
    "import dill\n",
    "import numpy as np\n",
    "import multiprocessing as mp\n",
    "import pandas as pd\n",
    "\n",
    "import matplotlib.pyplot as plot\n",
    "\n",
    "pd.set_option('display.max_rows', 5000)\n",
    "pd.set_option('display.max_columns', 500)\n",
    "pd.set_option('display.max_colwidth', 100)"
   ]
  },
  {
   "cell_type": "code",
   "execution_count": 2,
   "metadata": {
    "collapsed": false
   },
   "outputs": [
    {
     "data": {
      "text/plain": [
       "481.072424"
      ]
     },
     "execution_count": 2,
     "metadata": {},
     "output_type": "execute_result"
    }
   ],
   "source": [
    "482.0797-1.007276\n"
   ]
  },
  {
   "cell_type": "code",
   "execution_count": 4,
   "metadata": {
    "collapsed": false
   },
   "outputs": [],
   "source": [
    "cpds = metob.retrieve('Compounds',mono_isotopic_molecular_weight = '481.07%')"
   ]
  },
  {
   "cell_type": "code",
   "execution_count": 6,
   "metadata": {
    "collapsed": false
   },
   "outputs": [
    {
     "name": "stdout",
     "output_type": "stream",
     "text": [
      "3-benzoyloxypropyl-glucosinolate -2.43543451148\n",
      "6-(Methylsulfonyl)hexyl glucosinolate 4.57314760916\n"
     ]
    }
   ],
   "source": [
    "for c in cpds:\n",
    "    print c.name,(c.mono_isotopic_molecular_weight-481.072424)/481*1e6"
   ]
  },
  {
   "cell_type": "markdown",
   "metadata": {},
   "source": [
    "# 2. Register LCMS Runs into categorical groups.\n",
    "\n",
    "* ### Select MetAtlas LCMS Runs by experiment and filename.  "
   ]
  },
  {
   "cell_type": "code",
   "execution_count": 2,
   "metadata": {
    "collapsed": false
   },
   "outputs": [
    {
     "name": "stderr",
     "output_type": "stream",
     "text": [
      "Widget Javascript not detected.  It may not be installed properly. Did you enable the widgetsnbextension? If not, then run \"jupyter nbextension enable --py --sys-prefix widgetsnbextension\"\n"
     ]
    }
   ],
   "source": [
    "f = dp.interact_get_metatlas_files()"
   ]
  },
  {
   "cell_type": "markdown",
   "metadata": {},
   "source": [
    "* ### Create a \"File-Info\" sheet from the selected files.  \n",
    "This sheet needs to be downloaded and filled in.  The \"File-Info\" sheet is the exchange format we use to define the grouping membership for LCMS runs.\n"
   ]
  },
  {
   "cell_type": "code",
   "execution_count": null,
   "metadata": {
    "collapsed": false
   },
   "outputs": [],
   "source": [
    "dp.make_empty_fileinfo_sheet('/global/homes/b/bpb/Downloads/empty_finfo_20170130_SK-JG.tab',f.files)"
   ]
  },
  {
   "cell_type": "markdown",
   "metadata": {},
   "source": [
    "* ### Create metatlas groups from filled in file-info sheet\n",
    "Defining groups of files allows for the selection of sets of LCMS runs by specifying the group names.  In addition,  the group membership is preserved in the exported metatlas datasets; so the application of statistical methods based on grouped data is straightforward.\n",
    "\n",
    "Your filled in sheet will look something like this:\n",
    "<style type=\"text/css\">\n",
    "\ttable.tableizer-table {\n",
    "\t\tfont-size: 12px;\n",
    "\t\tborder: 1px solid #CCC; \n",
    "\t\tfont-family: Arial, Helvetica, sans-serif;\n",
    "\t} \n",
    "\t.tableizer-table td {\n",
    "\t\tpadding: 4px;\n",
    "\t\tmargin: 3px;\n",
    "\t\tborder: 1px solid #CCC;\n",
    "\t}\n",
    "\t.tableizer-table th {\n",
    "\t\tbackground-color: #104E8B; \n",
    "\t\tcolor: #FFF;\n",
    "\t\tfont-weight: bold;\n",
    "\t}\n",
    "</style>\n",
    "<table class=\"tableizer-table\">\n",
    "<thead><tr class=\"tableizer-firstrow\"><th>mzml_file</th><th>group</th><th>description</th></tr></thead><tbody>\n",
    " <tr><td>.../20160531_KBL_violacein_cells_384_final/20160531_C18_ACN_POS_MSMS_KBL_Qex_A_10_Run413.mzML</td><td>20160531_KBL_C18_Vio_cells_384_Quad_1</td><td>&nbsp;</td></tr>\n",
    " <tr><td>.../20160531_KBL_violacein_cells_384_final/20160531_C18_ACN_POS_MSMS_KBL_Qex_A_11_Run415.mzML</td><td>20160531_KBL_C18_Vio_cells_384_Quad_1</td><td>&nbsp;</td></tr>\n",
    " <tr><td>.../20160531_KBL_violacein_cells_384_final/20160531_C18_ACN_POS_MSMS_KBL_Qex_A_12_Run417.mzML</td><td>20160531_KBL_C18_Vio_cells_384_Quad_1</td><td>&nbsp;</td></tr>\n",
    " <tr><td>.../20160531_KBL_violacein_cells_384_final/20160531_C18_ACN_POS_MSMS_KBL_Qex_A_1_Run395.mzML</td><td>20160531_KBL_C18_Vio_cells_384_Quad_2</td><td>&nbsp;</td></tr>\n",
    " <tr><td>.../20160531_KBL_violacein_cells_384_final/20160531_C18_ACN_POS_MSMS_KBL_Qex_A_2_Run397.mzML</td><td>20160531_KBL_C18_Vio_cells_384_Quad_2</td><td>&nbsp;</td></tr>\n",
    " <tr><td>.../20160531_KBL_violacein_cells_384_final/20160531_C18_ACN_POS_MSMS_KBL_Qex_A_3_Run399.mzML</td><td>20160531_KBL_C18_Vio_cells_384_Quad_2</td><td></td></tr>\n",
    "</tbody></table>\n",
    "\n",
    "A text description of each group is an optional field.  These can be a few, short sentences that describe each group."
   ]
  },
  {
   "cell_type": "code",
   "execution_count": null,
   "metadata": {
    "collapsed": false
   },
   "outputs": [],
   "source": [
    "g = dp.make_groups_from_fileinfo_sheet('/global/homes/b/bpb/Downloads/20170130_Groups_JG.txt',\n",
    "                                       filetype='tab',\n",
    "                                       store=True)"
   ]
  },
  {
   "cell_type": "markdown",
   "metadata": {},
   "source": [
    "View the list of metatlas objects using \"to_dataframe\""
   ]
  },
  {
   "cell_type": "code",
   "execution_count": null,
   "metadata": {
    "collapsed": false
   },
   "outputs": [],
   "source": [
    "metob.to_dataframe(g).head()"
   ]
  },
  {
   "cell_type": "markdown",
   "metadata": {},
   "source": [
    "# 3. Create a new Atlas\n",
    "* ### From Google Doc Reference Data"
   ]
  },
  {
   "cell_type": "code",
   "execution_count": null,
   "metadata": {
    "collapsed": false,
    "scrolled": false
   },
   "outputs": [],
   "source": [
    "# dp = reload(dp)\n",
    "# atlas_sheet = dp.get_formatted_atlas_from_google_sheet(polarity='POS',\n",
    "#                                           method='QE119_ZIC-HILIC',\n",
    "#                                           mz_tolerance=10)"
   ]
  },
  {
   "cell_type": "code",
   "execution_count": null,
   "metadata": {
    "collapsed": false
   },
   "outputs": [],
   "source": [
    "# atlas_sheet.head()"
   ]
  },
  {
   "cell_type": "markdown",
   "metadata": {},
   "source": [
    "* ### From a pandas dataframe"
   ]
  },
  {
   "cell_type": "code",
   "execution_count": null,
   "metadata": {
    "collapsed": false,
    "scrolled": false
   },
   "outputs": [],
   "source": [
    "#\n",
    "# dp = reload(dp)\n",
    "# names = dp.make_atlas_from_spreadsheet('',\n",
    "#                                        '20161114_JGIQE_C18_ISTD_POS',\n",
    "#                                        filetype='dataframe',\n",
    "#                                        sheetname='',\n",
    "#                                        polarity = 'positive',\n",
    "#                                        store=True,\n",
    "#                                        dataframe = atlas_df,\n",
    "#                                       mz_tolerance = 10)"
   ]
  },
  {
   "cell_type": "markdown",
   "metadata": {},
   "source": [
    "* ### From a spreadsheet\n",
    "This is by far the most common way to create a new Atlas in Metabolite Atlas.  The columns the sheet must be exactly as what is seen here.  In cases where there isn't a compound in the database, the \"label\" field below is used.  Here is an example of what a sheet could look like.\n",
    "\n",
    "<style type=\"text/css\">\n",
    "\ttable.tableizer-table {\n",
    "\t\tfont-size: 12px;\n",
    "\t\tborder: 1px solid #CCC; \n",
    "\t\tfont-family: Arial, Helvetica, sans-serif;\n",
    "\t} \n",
    "\t.tableizer-table td {\n",
    "\t\tpadding: 4px;\n",
    "\t\tmargin: 3px;\n",
    "\t\tborder: 1px solid #CCC;\n",
    "\t}\n",
    "\t.tableizer-table th {\n",
    "\t\tbackground-color: #104E8B; \n",
    "\t\tcolor: #FFF;\n",
    "\t\tfont-weight: bold;\n",
    "\t}\n",
    "</style>\n",
    "<table class=\"tableizer-table\">\n",
    "<thead><tr class=\"tableizer-firstrow\"><th>label</th><th>rt_min</th><th>rt_max</th><th>rt_peak</th><th>mz</th><th>mz_tolerance</th><th>inchi_key</th></tr></thead><tbody>\n",
    " <tr><td>violacein </td><td>4.2</td><td>4.4</td><td>4.3</td><td>344.1036913</td><td>5</td><td>XAPNKXIRQFHCHN-QGOAFFKASA-N</td></tr>\n",
    " <tr><td>deoxyviolacein (iso1 - main)</td><td>4.75</td><td>4.9</td><td>4.8</td><td>328.1087767</td><td>5</td><td>OJUJNNKCVPCATE-QGOAFFKASA-N</td></tr>\n",
    " <tr><td>tryptophan</td><td>2.3</td><td>2.45</td><td>2.36</td><td>205.0978776</td><td>5</td><td>QIVBCDIJIAJPQS-VIFPVBQESA-N</td></tr>\n",
    " <tr><td>deoxychromoviridans</td><td>5.4</td><td>6</td><td>5.75</td><td>605.244821</td><td>5</td><td>&nbsp;</td></tr>\n",
    " <tr><td>chromoviridans</td><td>5.15</td><td>5.5</td><td>5.3</td><td>621.239736</td><td>5</td><td>&nbsp;</td></tr>\n",
    " <tr><td>ABMBA</td><td>4.72</td><td>4.88</td><td>4.8</td><td>229.9811</td><td>5</td><td>LCMZECCEEOQWLQ-UHFFFAOYSA-N</td></tr>\n",
    "</tbody></table>\n",
    "\n",
    "These tables can be csv or tab delimited text or excel spreadsheets.\n",
    "\n",
    "There is a <a href = 'https://drive.google.com/open?id=0BweRoDuGcsLBNkYtQUpjQ0ktZDg'> lookup table here </a> of all compounds to get the inchi_key.\n",
    "\n",
    "For old MetAtlas atlases, you can use Excel's \"vlookup\" function along with <a href = 'https://drive.google.com/open?id=0BweRoDuGcsLBQUxrRjgtbjhnSDg'> this lookup table </a> to map the old names to valid inchi keys.\n",
    "\n",
    "```\n",
    "=VLOOKUP(H2,$A:$B,2,0) where $A:$B are columns containing name and inchi-key\n",
    "```\n",
    "\n",
    "This is a <a href = 'https://drive.google.com/open?id=0BweRoDuGcsLBaThjcEZuSjh2dXM'> link </a> to all the old compound identifications that were in the database prior to the refactoring in Mid June, 2016.\n"
   ]
  },
  {
   "cell_type": "code",
   "execution_count": null,
   "metadata": {
    "collapsed": false
   },
   "outputs": [],
   "source": [
    "myAtlas.name"
   ]
  },
  {
   "cell_type": "code",
   "execution_count": null,
   "metadata": {
    "collapsed": false,
    "scrolled": true
   },
   "outputs": [],
   "source": [
    "dp = reload(dp)\n",
    "names = dp.make_atlas_from_spreadsheet('/global/homes/b/bpb/Downloads/ema_neg_hilic_atlas_for_users_50447.csv',\n",
    "                                       'ema_neg_hilic_50447_200A_3p5_um_20170224',\n",
    "                                       filetype='csv',\n",
    "                                       sheetname='',\n",
    "                                       polarity = 'negative',\n",
    "                                       store=True,\n",
    "                                      mz_tolerance = 20)\n",
    "\n",
    "#Workaround if your atlas is so big that you can't store/retrieve it\n",
    "myAtlas = names\n",
    "#atlas_df = ma_data.make_atlas_df(myAtlas)\n",
    "#print myAtlas.name\n",
    "#print myAtlas.username\n",
    "\n",
    "# 0 73 2016019_metalas_KZ_Ave_uptake_qxqct_hilic_updated_pos_V2 2016-07-26 17:31:26\n",
    "# 1 69 201500826_KZ_Ave_library_qxqct_hilic_pos_V2 2016-07-26 18:17:32\n",
    "# 2 93 201500826_KZ_Ave_library_qxqct_hilic_neg_V2 2016-07-26 18:14:40\n",
    "# 3 106 2016019_metatlas_KZ_Ave_uptake_qxqct_hilic_updated_neg_V2 2016-07-26 18:02:34\n",
    "        "
   ]
  },
  {
   "cell_type": "code",
   "execution_count": null,
   "metadata": {
    "collapsed": true
   },
   "outputs": [],
   "source": [
    "metob.store([myAtlas])"
   ]
  },
  {
   "cell_type": "code",
   "execution_count": null,
   "metadata": {
    "collapsed": false
   },
   "outputs": [],
   "source": [
    "myAtlas.name"
   ]
  },
  {
   "cell_type": "markdown",
   "metadata": {},
   "source": [
    "* ### Use interactive interface to build atlas from spreadsheet"
   ]
  },
  {
   "cell_type": "code",
   "execution_count": null,
   "metadata": {
    "collapsed": false
   },
   "outputs": [],
   "source": [
    "###### CURRENTLY UNDER DEVELOPMENT/TESTING #######\n",
    "# %system cat /project/projectdirs/metatlas/anaconda/lib/python2.7/site-packages/IPython/html.py\n",
    "# /html/static/style/ipython.min.css\n",
    "# .widget-hlabel{min-width:10ex;padding-right:8px;padding-top:3px;text-align:right;vertical-align:text-top}\n",
    "from IPython.display import HTML, display\n",
    "display(HTML('''<style>\n",
    "    .widget-label { min-width: 20ex !important; }\n",
    "</style>'''))\n",
    "dp = reload(dp)\n",
    "names = interact(dp.make_atlas_from_spreadsheet,__manual=True,)\n",
    "##################################################"
   ]
  },
  {
   "cell_type": "markdown",
   "metadata": {},
   "source": [
    "# 4. Select groups of files to operate on"
   ]
  },
  {
   "cell_type": "code",
   "execution_count": 3,
   "metadata": {
    "collapsed": false
   },
   "outputs": [
    {
     "name": "stdout",
     "output_type": "stream",
     "text": [
      "3\n",
      "(0, u'20160413_Bhedlund_pHILIC_POS_GBS_Med_Ctrl_Set1', datetime.datetime(2016, 4, 14, 17, 59, 38))\n",
      "(1, u'20160413_Bhedlund_pHILIC_POS_JAD2_GBS_Set1', datetime.datetime(2016, 4, 14, 17, 59, 26))\n",
      "(2, u'20160413_Bhedlund_pHILIC_POS_GBS_Med_inc_Set1', datetime.datetime(2016, 4, 14, 17, 59, 22))\n"
     ]
    }
   ],
   "source": [
    "dp = reload(dp)\n",
    "# group_names_to_remove = pd.read_csv('/global/homes/b/bpb/Downloads/pks_files_to_remove.csv')['group'].tolist()\n",
    "\n",
    "groups = dp.select_groups_for_analysis(name = '20160413%POS%GBS%Set1',\n",
    "                                       most_recent = True,\n",
    "                                       remove_empty = True,#'Strain=SB214'\n",
    "                                       include_list = [], exclude_list = ['4O','32'])#['QC','Blank'])\n"
   ]
  },
  {
   "cell_type": "markdown",
   "metadata": {},
   "source": [
    "# 5. Select Atlas to use\n",
    "* ### Select by Atlas name"
   ]
  },
  {
   "cell_type": "code",
   "execution_count": 5,
   "metadata": {
    "collapsed": false,
    "scrolled": false
   },
   "outputs": [
    {
     "name": "stdout",
     "output_type": "stream",
     "text": [
      "(0, u'ema_pos_hilic_50447_200A_3p5_um_20170224', Timestamp('2017-02-25 00:33:38'))\n",
      "(1, u'ema_pos_hilic_50447_200A_3p5_um_20170224', Timestamp('2017-02-25 01:02:54'))\n"
     ]
    }
   ],
   "source": [
    "#default ema atlas: EMA_pos%50447%\n",
    "atlases = metob.retrieve('Atlas',name='ema_pos_hilic_50447_200A_3p5_um_20170224',username='bpb')\n",
    "# atlases = metob.retrieve('Atlas',name='SK-ZZ-MAIZE-HILIC-NEG-EMA50447',username='*')\n",
    "names = []\n",
    "for i,a in enumerate(atlases):\n",
    "    print(i,a.name,pd.to_datetime(a.last_modified,unit='s'))#len(a.compound_identifications)\n"
   ]
  },
  {
   "cell_type": "code",
   "execution_count": null,
   "metadata": {
    "collapsed": false
   },
   "outputs": [],
   "source": [
    "print atlases[0].compound_identifications[3].name\n",
    "atlases[0].compound_identifications[3].rt_references[0].rt_peak"
   ]
  },
  {
   "cell_type": "markdown",
   "metadata": {},
   "source": [
    "### Alternative way to get atlas"
   ]
  },
  {
   "cell_type": "code",
   "execution_count": 14,
   "metadata": {
    "collapsed": false,
    "scrolled": false
   },
   "outputs": [
    {
     "name": "stdout",
     "output_type": "stream",
     "text": [
      "(0, 114, u'SK-ZZ-MAIZE-HILIC-POS-EMA50447', datetime.datetime(2017, 3, 2, 23, 40, 5))\n"
     ]
    }
   ],
   "source": [
    "atlases = dp.get_metatlas_atlas(name='SK-ZZ-MAIZE-HILIC-POS-EMA50447',do_print = True,most_recent=True)\n",
    "#201500826_KZ_Ave_library_qxqct_hilic_pos_V2\n",
    "#20161007_MP3umZHILIC_V12_NEG_MetIDJamboree\n",
    "# 20161104_POS_ZHILIC3um_SmallAtlas_KBL_V1\n",
    "# 20161114_JGIQE_C18_ISTD_POS"
   ]
  },
  {
   "cell_type": "markdown",
   "metadata": {},
   "source": [
    "* ### A list of atlases is returned by the cell above.  \n",
    "\n",
    "* You must run the following cell to specify which Atlas you want to continue your analysis with (Even if only a single atlas is returned).\n",
    "\n",
    "* Make a dataframe from your atlas.  Required for the new, faster data slicer"
   ]
  },
  {
   "cell_type": "code",
   "execution_count": 6,
   "metadata": {
    "collapsed": false
   },
   "outputs": [
    {
     "name": "stdout",
     "output_type": "stream",
     "text": [
      "ema_pos_hilic_50447_200A_3p5_um_20170224\n",
      "bpb\n"
     ]
    }
   ],
   "source": [
    "myAtlas = atlases[1]\n",
    "atlas_df = ma_data.make_atlas_df(myAtlas)\n",
    "print myAtlas.name\n",
    "print myAtlas.username"
   ]
  },
  {
   "cell_type": "markdown",
   "metadata": {},
   "source": [
    "### Change the atlases name"
   ]
  },
  {
   "cell_type": "code",
   "execution_count": null,
   "metadata": {
    "collapsed": false
   },
   "outputs": [],
   "source": [
    "myAtlas.name = 'SK-ZZ-MAIZE-HILIC-NEG-EMA50447'"
   ]
  },
  {
   "cell_type": "markdown",
   "metadata": {},
   "source": [
    "### Adjust RT using y = m x + b approach"
   ]
  },
  {
   "cell_type": "code",
   "execution_count": null,
   "metadata": {
    "collapsed": true
   },
   "outputs": [],
   "source": [
    "m = 0.99\n",
    "b = 0.346\n",
    "extra_rt = 0.2\n",
    "for i,cpd_id in enumerate(myAtlas.compound_identifications):\n",
    "    rt_min = myAtlas.compound_identifications[i].rt_references[0].rt_min\n",
    "    rt_max = myAtlas.compound_identifications[i].rt_references[0].rt_max\n",
    "    rt_peak = myAtlas.compound_identifications[i].rt_references[0].rt_peak\n",
    "    myAtlas.compound_identifications[i].rt_references[0].rt_min = m * rt_min + b - extra_rt\n",
    "    myAtlas.compound_identifications[i].rt_references[0].rt_peak = m * rt_peak + b\n",
    "    myAtlas.compound_identifications[i].rt_references[0].rt_max = m * rt_max + b + extra_rt"
   ]
  },
  {
   "cell_type": "markdown",
   "metadata": {},
   "source": [
    "### Store the updated Atlas"
   ]
  },
  {
   "cell_type": "code",
   "execution_count": null,
   "metadata": {
    "collapsed": true
   },
   "outputs": [],
   "source": [
    "metob.store([myAtlas])"
   ]
  },
  {
   "cell_type": "markdown",
   "metadata": {},
   "source": [
    "### Take a look at the selected atlas"
   ]
  },
  {
   "cell_type": "markdown",
   "metadata": {},
   "source": [
    "### View only the first few lines\n",
    "* Remove the \".head()\" to show the whole thing\n",
    "* Put a number in the \".head()\" to show number of rows\n",
    "* Edit set_option to configure display:\n",
    "* More options available here:\n",
    "http://pandas.pydata.org/pandas-docs/stable/generated/pandas.set_option.html"
   ]
  },
  {
   "cell_type": "markdown",
   "metadata": {},
   "source": [
    "### View the atlas as a qgrid widget (good for widescreen displays)"
   ]
  },
  {
   "cell_type": "code",
   "execution_count": null,
   "metadata": {
    "collapsed": false
   },
   "outputs": [],
   "source": [
    "compound_grid = qgrid.QGridWidget(df=atlas_df)#,set_grid_option={'show_toolbar',True})\n",
    "compound_grid.export()"
   ]
  },
  {
   "cell_type": "markdown",
   "metadata": {},
   "source": [
    "### View the atlas as a pandas dataframe (tweak the pandas display options to fit)\n",
    "* More options available here:\n",
    "http://pandas.pydata.org/pandas-docs/stable/generated/pandas.set_option.html"
   ]
  },
  {
   "cell_type": "code",
   "execution_count": null,
   "metadata": {
    "collapsed": false,
    "scrolled": true
   },
   "outputs": [],
   "source": [
    "pd.set_option('display.max_rows', 500)\n",
    "pd.set_option('display.max_columns', 500)\n",
    "pd.set_option('display.max_colwidth', 100)\n",
    "atlas_df.head(8000)"
   ]
  },
  {
   "cell_type": "markdown",
   "metadata": {},
   "source": [
    "# 6. Get Data"
   ]
  },
  {
   "cell_type": "markdown",
   "metadata": {},
   "source": [
    "### Much faster data getting script"
   ]
  },
  {
   "cell_type": "code",
   "execution_count": 7,
   "metadata": {
    "collapsed": false,
    "scrolled": false
   },
   "outputs": [
    {
     "name": "stdout",
     "output_type": "stream",
     "text": [
      "13.6310269833\n"
     ]
    }
   ],
   "source": [
    "all_files = []\n",
    "for my_group in groups:\n",
    "    for my_file in my_group.items:\n",
    "        all_files.append((my_file,my_group,atlas_df,myAtlas))\n",
    "        \n",
    "pool = mp.Pool(processes=min(60, len(all_files)))\n",
    "# from metatlas.helpers.metatlas_get_data_helper_fun import get_data_for_atlas_df_and_file\n",
    "t0 = time.time()\n",
    "metatlas_dataset = pool.map(ma_data.get_data_for_atlas_df_and_file, all_files)\n",
    "pool.close()\n",
    "pool.terminate()\n",
    "#If you're code crashes here, make sure to terminate any processes left open.\n",
    "print time.time() - t0\n"
   ]
  },
  {
   "cell_type": "markdown",
   "metadata": {},
   "source": [
    "# 7a. Adjust Retention Times.  "
   ]
  },
  {
   "cell_type": "code",
   "execution_count": null,
   "metadata": {
    "collapsed": false
   },
   "outputs": [],
   "source": [
    "atlas_df.shape"
   ]
  },
  {
   "cell_type": "code",
   "execution_count": 8,
   "metadata": {
    "collapsed": false,
    "scrolled": false
   },
   "outputs": [
    {
     "data": {
      "application/javascript": [
       "/* Put everything inside the global mpl namespace */\n",
       "window.mpl = {};\n",
       "\n",
       "mpl.get_websocket_type = function() {\n",
       "    if (typeof(WebSocket) !== 'undefined') {\n",
       "        return WebSocket;\n",
       "    } else if (typeof(MozWebSocket) !== 'undefined') {\n",
       "        return MozWebSocket;\n",
       "    } else {\n",
       "        alert('Your browser does not have WebSocket support.' +\n",
       "              'Please try Chrome, Safari or Firefox ≥ 6. ' +\n",
       "              'Firefox 4 and 5 are also supported but you ' +\n",
       "              'have to enable WebSockets in about:config.');\n",
       "    };\n",
       "}\n",
       "\n",
       "mpl.figure = function(figure_id, websocket, ondownload, parent_element) {\n",
       "    this.id = figure_id;\n",
       "\n",
       "    this.ws = websocket;\n",
       "\n",
       "    this.supports_binary = (this.ws.binaryType != undefined);\n",
       "\n",
       "    if (!this.supports_binary) {\n",
       "        var warnings = document.getElementById(\"mpl-warnings\");\n",
       "        if (warnings) {\n",
       "            warnings.style.display = 'block';\n",
       "            warnings.textContent = (\n",
       "                \"This browser does not support binary websocket messages. \" +\n",
       "                    \"Performance may be slow.\");\n",
       "        }\n",
       "    }\n",
       "\n",
       "    this.imageObj = new Image();\n",
       "\n",
       "    this.context = undefined;\n",
       "    this.message = undefined;\n",
       "    this.canvas = undefined;\n",
       "    this.rubberband_canvas = undefined;\n",
       "    this.rubberband_context = undefined;\n",
       "    this.format_dropdown = undefined;\n",
       "\n",
       "    this.image_mode = 'full';\n",
       "\n",
       "    this.root = $('<div/>');\n",
       "    this._root_extra_style(this.root)\n",
       "    this.root.attr('style', 'display: inline-block');\n",
       "\n",
       "    $(parent_element).append(this.root);\n",
       "\n",
       "    this._init_header(this);\n",
       "    this._init_canvas(this);\n",
       "    this._init_toolbar(this);\n",
       "\n",
       "    var fig = this;\n",
       "\n",
       "    this.waiting = false;\n",
       "\n",
       "    this.ws.onopen =  function () {\n",
       "            fig.send_message(\"supports_binary\", {value: fig.supports_binary});\n",
       "            fig.send_message(\"send_image_mode\", {});\n",
       "            fig.send_message(\"refresh\", {});\n",
       "        }\n",
       "\n",
       "    this.imageObj.onload = function() {\n",
       "            if (fig.image_mode == 'full') {\n",
       "                // Full images could contain transparency (where diff images\n",
       "                // almost always do), so we need to clear the canvas so that\n",
       "                // there is no ghosting.\n",
       "                fig.context.clearRect(0, 0, fig.canvas.width, fig.canvas.height);\n",
       "            }\n",
       "            fig.context.drawImage(fig.imageObj, 0, 0);\n",
       "        };\n",
       "\n",
       "    this.imageObj.onunload = function() {\n",
       "        this.ws.close();\n",
       "    }\n",
       "\n",
       "    this.ws.onmessage = this._make_on_message_function(this);\n",
       "\n",
       "    this.ondownload = ondownload;\n",
       "}\n",
       "\n",
       "mpl.figure.prototype._init_header = function() {\n",
       "    var titlebar = $(\n",
       "        '<div class=\"ui-dialog-titlebar ui-widget-header ui-corner-all ' +\n",
       "        'ui-helper-clearfix\"/>');\n",
       "    var titletext = $(\n",
       "        '<div class=\"ui-dialog-title\" style=\"width: 100%; ' +\n",
       "        'text-align: center; padding: 3px;\"/>');\n",
       "    titlebar.append(titletext)\n",
       "    this.root.append(titlebar);\n",
       "    this.header = titletext[0];\n",
       "}\n",
       "\n",
       "\n",
       "\n",
       "mpl.figure.prototype._canvas_extra_style = function(canvas_div) {\n",
       "\n",
       "}\n",
       "\n",
       "\n",
       "mpl.figure.prototype._root_extra_style = function(canvas_div) {\n",
       "\n",
       "}\n",
       "\n",
       "mpl.figure.prototype._init_canvas = function() {\n",
       "    var fig = this;\n",
       "\n",
       "    var canvas_div = $('<div/>');\n",
       "\n",
       "    canvas_div.attr('style', 'position: relative; clear: both; outline: 0');\n",
       "\n",
       "    function canvas_keyboard_event(event) {\n",
       "        return fig.key_event(event, event['data']);\n",
       "    }\n",
       "\n",
       "    canvas_div.keydown('key_press', canvas_keyboard_event);\n",
       "    canvas_div.keyup('key_release', canvas_keyboard_event);\n",
       "    this.canvas_div = canvas_div\n",
       "    this._canvas_extra_style(canvas_div)\n",
       "    this.root.append(canvas_div);\n",
       "\n",
       "    var canvas = $('<canvas/>');\n",
       "    canvas.addClass('mpl-canvas');\n",
       "    canvas.attr('style', \"left: 0; top: 0; z-index: 0; outline: 0\")\n",
       "\n",
       "    this.canvas = canvas[0];\n",
       "    this.context = canvas[0].getContext(\"2d\");\n",
       "\n",
       "    var rubberband = $('<canvas/>');\n",
       "    rubberband.attr('style', \"position: absolute; left: 0; top: 0; z-index: 1;\")\n",
       "\n",
       "    var pass_mouse_events = true;\n",
       "\n",
       "    canvas_div.resizable({\n",
       "        start: function(event, ui) {\n",
       "            pass_mouse_events = false;\n",
       "        },\n",
       "        resize: function(event, ui) {\n",
       "            fig.request_resize(ui.size.width, ui.size.height);\n",
       "        },\n",
       "        stop: function(event, ui) {\n",
       "            pass_mouse_events = true;\n",
       "            fig.request_resize(ui.size.width, ui.size.height);\n",
       "        },\n",
       "    });\n",
       "\n",
       "    function mouse_event_fn(event) {\n",
       "        if (pass_mouse_events)\n",
       "            return fig.mouse_event(event, event['data']);\n",
       "    }\n",
       "\n",
       "    rubberband.mousedown('button_press', mouse_event_fn);\n",
       "    rubberband.mouseup('button_release', mouse_event_fn);\n",
       "    // Throttle sequential mouse events to 1 every 20ms.\n",
       "    rubberband.mousemove('motion_notify', mouse_event_fn);\n",
       "\n",
       "    rubberband.mouseenter('figure_enter', mouse_event_fn);\n",
       "    rubberband.mouseleave('figure_leave', mouse_event_fn);\n",
       "\n",
       "    canvas_div.on(\"wheel\", function (event) {\n",
       "        event = event.originalEvent;\n",
       "        event['data'] = 'scroll'\n",
       "        if (event.deltaY < 0) {\n",
       "            event.step = 1;\n",
       "        } else {\n",
       "            event.step = -1;\n",
       "        }\n",
       "        mouse_event_fn(event);\n",
       "    });\n",
       "\n",
       "    canvas_div.append(canvas);\n",
       "    canvas_div.append(rubberband);\n",
       "\n",
       "    this.rubberband = rubberband;\n",
       "    this.rubberband_canvas = rubberband[0];\n",
       "    this.rubberband_context = rubberband[0].getContext(\"2d\");\n",
       "    this.rubberband_context.strokeStyle = \"#000000\";\n",
       "\n",
       "    this._resize_canvas = function(width, height) {\n",
       "        // Keep the size of the canvas, canvas container, and rubber band\n",
       "        // canvas in synch.\n",
       "        canvas_div.css('width', width)\n",
       "        canvas_div.css('height', height)\n",
       "\n",
       "        canvas.attr('width', width);\n",
       "        canvas.attr('height', height);\n",
       "\n",
       "        rubberband.attr('width', width);\n",
       "        rubberband.attr('height', height);\n",
       "    }\n",
       "\n",
       "    // Set the figure to an initial 600x600px, this will subsequently be updated\n",
       "    // upon first draw.\n",
       "    this._resize_canvas(600, 600);\n",
       "\n",
       "    // Disable right mouse context menu.\n",
       "    $(this.rubberband_canvas).bind(\"contextmenu\",function(e){\n",
       "        return false;\n",
       "    });\n",
       "\n",
       "    function set_focus () {\n",
       "        canvas.focus();\n",
       "        canvas_div.focus();\n",
       "    }\n",
       "\n",
       "    window.setTimeout(set_focus, 100);\n",
       "}\n",
       "\n",
       "mpl.figure.prototype._init_toolbar = function() {\n",
       "    var fig = this;\n",
       "\n",
       "    var nav_element = $('<div/>')\n",
       "    nav_element.attr('style', 'width: 100%');\n",
       "    this.root.append(nav_element);\n",
       "\n",
       "    // Define a callback function for later on.\n",
       "    function toolbar_event(event) {\n",
       "        return fig.toolbar_button_onclick(event['data']);\n",
       "    }\n",
       "    function toolbar_mouse_event(event) {\n",
       "        return fig.toolbar_button_onmouseover(event['data']);\n",
       "    }\n",
       "\n",
       "    for(var toolbar_ind in mpl.toolbar_items) {\n",
       "        var name = mpl.toolbar_items[toolbar_ind][0];\n",
       "        var tooltip = mpl.toolbar_items[toolbar_ind][1];\n",
       "        var image = mpl.toolbar_items[toolbar_ind][2];\n",
       "        var method_name = mpl.toolbar_items[toolbar_ind][3];\n",
       "\n",
       "        if (!name) {\n",
       "            // put a spacer in here.\n",
       "            continue;\n",
       "        }\n",
       "        var button = $('<button/>');\n",
       "        button.addClass('ui-button ui-widget ui-state-default ui-corner-all ' +\n",
       "                        'ui-button-icon-only');\n",
       "        button.attr('role', 'button');\n",
       "        button.attr('aria-disabled', 'false');\n",
       "        button.click(method_name, toolbar_event);\n",
       "        button.mouseover(tooltip, toolbar_mouse_event);\n",
       "\n",
       "        var icon_img = $('<span/>');\n",
       "        icon_img.addClass('ui-button-icon-primary ui-icon');\n",
       "        icon_img.addClass(image);\n",
       "        icon_img.addClass('ui-corner-all');\n",
       "\n",
       "        var tooltip_span = $('<span/>');\n",
       "        tooltip_span.addClass('ui-button-text');\n",
       "        tooltip_span.html(tooltip);\n",
       "\n",
       "        button.append(icon_img);\n",
       "        button.append(tooltip_span);\n",
       "\n",
       "        nav_element.append(button);\n",
       "    }\n",
       "\n",
       "    var fmt_picker_span = $('<span/>');\n",
       "\n",
       "    var fmt_picker = $('<select/>');\n",
       "    fmt_picker.addClass('mpl-toolbar-option ui-widget ui-widget-content');\n",
       "    fmt_picker_span.append(fmt_picker);\n",
       "    nav_element.append(fmt_picker_span);\n",
       "    this.format_dropdown = fmt_picker[0];\n",
       "\n",
       "    for (var ind in mpl.extensions) {\n",
       "        var fmt = mpl.extensions[ind];\n",
       "        var option = $(\n",
       "            '<option/>', {selected: fmt === mpl.default_extension}).html(fmt);\n",
       "        fmt_picker.append(option)\n",
       "    }\n",
       "\n",
       "    // Add hover states to the ui-buttons\n",
       "    $( \".ui-button\" ).hover(\n",
       "        function() { $(this).addClass(\"ui-state-hover\");},\n",
       "        function() { $(this).removeClass(\"ui-state-hover\");}\n",
       "    );\n",
       "\n",
       "    var status_bar = $('<span class=\"mpl-message\"/>');\n",
       "    nav_element.append(status_bar);\n",
       "    this.message = status_bar[0];\n",
       "}\n",
       "\n",
       "mpl.figure.prototype.request_resize = function(x_pixels, y_pixels) {\n",
       "    // Request matplotlib to resize the figure. Matplotlib will then trigger a resize in the client,\n",
       "    // which will in turn request a refresh of the image.\n",
       "    this.send_message('resize', {'width': x_pixels, 'height': y_pixels});\n",
       "}\n",
       "\n",
       "mpl.figure.prototype.send_message = function(type, properties) {\n",
       "    properties['type'] = type;\n",
       "    properties['figure_id'] = this.id;\n",
       "    this.ws.send(JSON.stringify(properties));\n",
       "}\n",
       "\n",
       "mpl.figure.prototype.send_draw_message = function() {\n",
       "    if (!this.waiting) {\n",
       "        this.waiting = true;\n",
       "        this.ws.send(JSON.stringify({type: \"draw\", figure_id: this.id}));\n",
       "    }\n",
       "}\n",
       "\n",
       "\n",
       "mpl.figure.prototype.handle_save = function(fig, msg) {\n",
       "    var format_dropdown = fig.format_dropdown;\n",
       "    var format = format_dropdown.options[format_dropdown.selectedIndex].value;\n",
       "    fig.ondownload(fig, format);\n",
       "}\n",
       "\n",
       "\n",
       "mpl.figure.prototype.handle_resize = function(fig, msg) {\n",
       "    var size = msg['size'];\n",
       "    if (size[0] != fig.canvas.width || size[1] != fig.canvas.height) {\n",
       "        fig._resize_canvas(size[0], size[1]);\n",
       "        fig.send_message(\"refresh\", {});\n",
       "    };\n",
       "}\n",
       "\n",
       "mpl.figure.prototype.handle_rubberband = function(fig, msg) {\n",
       "    var x0 = msg['x0'];\n",
       "    var y0 = fig.canvas.height - msg['y0'];\n",
       "    var x1 = msg['x1'];\n",
       "    var y1 = fig.canvas.height - msg['y1'];\n",
       "    x0 = Math.floor(x0) + 0.5;\n",
       "    y0 = Math.floor(y0) + 0.5;\n",
       "    x1 = Math.floor(x1) + 0.5;\n",
       "    y1 = Math.floor(y1) + 0.5;\n",
       "    var min_x = Math.min(x0, x1);\n",
       "    var min_y = Math.min(y0, y1);\n",
       "    var width = Math.abs(x1 - x0);\n",
       "    var height = Math.abs(y1 - y0);\n",
       "\n",
       "    fig.rubberband_context.clearRect(\n",
       "        0, 0, fig.canvas.width, fig.canvas.height);\n",
       "\n",
       "    fig.rubberband_context.strokeRect(min_x, min_y, width, height);\n",
       "}\n",
       "\n",
       "mpl.figure.prototype.handle_figure_label = function(fig, msg) {\n",
       "    // Updates the figure title.\n",
       "    fig.header.textContent = msg['label'];\n",
       "}\n",
       "\n",
       "mpl.figure.prototype.handle_cursor = function(fig, msg) {\n",
       "    var cursor = msg['cursor'];\n",
       "    switch(cursor)\n",
       "    {\n",
       "    case 0:\n",
       "        cursor = 'pointer';\n",
       "        break;\n",
       "    case 1:\n",
       "        cursor = 'default';\n",
       "        break;\n",
       "    case 2:\n",
       "        cursor = 'crosshair';\n",
       "        break;\n",
       "    case 3:\n",
       "        cursor = 'move';\n",
       "        break;\n",
       "    }\n",
       "    fig.rubberband_canvas.style.cursor = cursor;\n",
       "}\n",
       "\n",
       "mpl.figure.prototype.handle_message = function(fig, msg) {\n",
       "    fig.message.textContent = msg['message'];\n",
       "}\n",
       "\n",
       "mpl.figure.prototype.handle_draw = function(fig, msg) {\n",
       "    // Request the server to send over a new figure.\n",
       "    fig.send_draw_message();\n",
       "}\n",
       "\n",
       "mpl.figure.prototype.handle_image_mode = function(fig, msg) {\n",
       "    fig.image_mode = msg['mode'];\n",
       "}\n",
       "\n",
       "mpl.figure.prototype.updated_canvas_event = function() {\n",
       "    // Called whenever the canvas gets updated.\n",
       "    this.send_message(\"ack\", {});\n",
       "}\n",
       "\n",
       "// A function to construct a web socket function for onmessage handling.\n",
       "// Called in the figure constructor.\n",
       "mpl.figure.prototype._make_on_message_function = function(fig) {\n",
       "    return function socket_on_message(evt) {\n",
       "        if (evt.data instanceof Blob) {\n",
       "            /* FIXME: We get \"Resource interpreted as Image but\n",
       "             * transferred with MIME type text/plain:\" errors on\n",
       "             * Chrome.  But how to set the MIME type?  It doesn't seem\n",
       "             * to be part of the websocket stream */\n",
       "            evt.data.type = \"image/png\";\n",
       "\n",
       "            /* Free the memory for the previous frames */\n",
       "            if (fig.imageObj.src) {\n",
       "                (window.URL || window.webkitURL).revokeObjectURL(\n",
       "                    fig.imageObj.src);\n",
       "            }\n",
       "\n",
       "            fig.imageObj.src = (window.URL || window.webkitURL).createObjectURL(\n",
       "                evt.data);\n",
       "            fig.updated_canvas_event();\n",
       "            fig.waiting = false;\n",
       "            return;\n",
       "        }\n",
       "        else if (typeof evt.data === 'string' && evt.data.slice(0, 21) == \"data:image/png;base64\") {\n",
       "            fig.imageObj.src = evt.data;\n",
       "            fig.updated_canvas_event();\n",
       "            fig.waiting = false;\n",
       "            return;\n",
       "        }\n",
       "\n",
       "        var msg = JSON.parse(evt.data);\n",
       "        var msg_type = msg['type'];\n",
       "\n",
       "        // Call the  \"handle_{type}\" callback, which takes\n",
       "        // the figure and JSON message as its only arguments.\n",
       "        try {\n",
       "            var callback = fig[\"handle_\" + msg_type];\n",
       "        } catch (e) {\n",
       "            console.log(\"No handler for the '\" + msg_type + \"' message type: \", msg);\n",
       "            return;\n",
       "        }\n",
       "\n",
       "        if (callback) {\n",
       "            try {\n",
       "                // console.log(\"Handling '\" + msg_type + \"' message: \", msg);\n",
       "                callback(fig, msg);\n",
       "            } catch (e) {\n",
       "                console.log(\"Exception inside the 'handler_\" + msg_type + \"' callback:\", e, e.stack, msg);\n",
       "            }\n",
       "        }\n",
       "    };\n",
       "}\n",
       "\n",
       "// from http://stackoverflow.com/questions/1114465/getting-mouse-location-in-canvas\n",
       "mpl.findpos = function(e) {\n",
       "    //this section is from http://www.quirksmode.org/js/events_properties.html\n",
       "    var targ;\n",
       "    if (!e)\n",
       "        e = window.event;\n",
       "    if (e.target)\n",
       "        targ = e.target;\n",
       "    else if (e.srcElement)\n",
       "        targ = e.srcElement;\n",
       "    if (targ.nodeType == 3) // defeat Safari bug\n",
       "        targ = targ.parentNode;\n",
       "\n",
       "    // jQuery normalizes the pageX and pageY\n",
       "    // pageX,Y are the mouse positions relative to the document\n",
       "    // offset() returns the position of the element relative to the document\n",
       "    var x = e.pageX - $(targ).offset().left;\n",
       "    var y = e.pageY - $(targ).offset().top;\n",
       "\n",
       "    return {\"x\": x, \"y\": y};\n",
       "};\n",
       "\n",
       "/*\n",
       " * return a copy of an object with only non-object keys\n",
       " * we need this to avoid circular references\n",
       " * http://stackoverflow.com/a/24161582/3208463\n",
       " */\n",
       "function simpleKeys (original) {\n",
       "  return Object.keys(original).reduce(function (obj, key) {\n",
       "    if (typeof original[key] !== 'object')\n",
       "        obj[key] = original[key]\n",
       "    return obj;\n",
       "  }, {});\n",
       "}\n",
       "\n",
       "mpl.figure.prototype.mouse_event = function(event, name) {\n",
       "    var canvas_pos = mpl.findpos(event)\n",
       "\n",
       "    if (name === 'button_press')\n",
       "    {\n",
       "        this.canvas.focus();\n",
       "        this.canvas_div.focus();\n",
       "    }\n",
       "\n",
       "    var x = canvas_pos.x;\n",
       "    var y = canvas_pos.y;\n",
       "\n",
       "    this.send_message(name, {x: x, y: y, button: event.button,\n",
       "                             step: event.step,\n",
       "                             guiEvent: simpleKeys(event)});\n",
       "\n",
       "    /* This prevents the web browser from automatically changing to\n",
       "     * the text insertion cursor when the button is pressed.  We want\n",
       "     * to control all of the cursor setting manually through the\n",
       "     * 'cursor' event from matplotlib */\n",
       "    event.preventDefault();\n",
       "    return false;\n",
       "}\n",
       "\n",
       "mpl.figure.prototype._key_event_extra = function(event, name) {\n",
       "    // Handle any extra behaviour associated with a key event\n",
       "}\n",
       "\n",
       "mpl.figure.prototype.key_event = function(event, name) {\n",
       "\n",
       "    // Prevent repeat events\n",
       "    if (name == 'key_press')\n",
       "    {\n",
       "        if (event.which === this._key)\n",
       "            return;\n",
       "        else\n",
       "            this._key = event.which;\n",
       "    }\n",
       "    if (name == 'key_release')\n",
       "        this._key = null;\n",
       "\n",
       "    var value = '';\n",
       "    if (event.ctrlKey && event.which != 17)\n",
       "        value += \"ctrl+\";\n",
       "    if (event.altKey && event.which != 18)\n",
       "        value += \"alt+\";\n",
       "    if (event.shiftKey && event.which != 16)\n",
       "        value += \"shift+\";\n",
       "\n",
       "    value += 'k';\n",
       "    value += event.which.toString();\n",
       "\n",
       "    this._key_event_extra(event, name);\n",
       "\n",
       "    this.send_message(name, {key: value,\n",
       "                             guiEvent: simpleKeys(event)});\n",
       "    return false;\n",
       "}\n",
       "\n",
       "mpl.figure.prototype.toolbar_button_onclick = function(name) {\n",
       "    if (name == 'download') {\n",
       "        this.handle_save(this, null);\n",
       "    } else {\n",
       "        this.send_message(\"toolbar_button\", {name: name});\n",
       "    }\n",
       "};\n",
       "\n",
       "mpl.figure.prototype.toolbar_button_onmouseover = function(tooltip) {\n",
       "    this.message.textContent = tooltip;\n",
       "};\n",
       "mpl.toolbar_items = [[\"Home\", \"Reset original view\", \"fa fa-home icon-home\", \"home\"], [\"Back\", \"Back to  previous view\", \"fa fa-arrow-left icon-arrow-left\", \"back\"], [\"Forward\", \"Forward to next view\", \"fa fa-arrow-right icon-arrow-right\", \"forward\"], [\"\", \"\", \"\", \"\"], [\"Pan\", \"Pan axes with left mouse, zoom with right\", \"fa fa-arrows icon-move\", \"pan\"], [\"Zoom\", \"Zoom to rectangle\", \"fa fa-square-o icon-check-empty\", \"zoom\"], [\"\", \"\", \"\", \"\"], [\"Download\", \"Download plot\", \"fa fa-floppy-o icon-save\", \"download\"]];\n",
       "\n",
       "mpl.extensions = [\"eps\", \"jpeg\", \"pdf\", \"png\", \"ps\", \"raw\", \"svg\", \"tif\"];\n",
       "\n",
       "mpl.default_extension = \"png\";var comm_websocket_adapter = function(comm) {\n",
       "    // Create a \"websocket\"-like object which calls the given IPython comm\n",
       "    // object with the appropriate methods. Currently this is a non binary\n",
       "    // socket, so there is still some room for performance tuning.\n",
       "    var ws = {};\n",
       "\n",
       "    ws.close = function() {\n",
       "        comm.close()\n",
       "    };\n",
       "    ws.send = function(m) {\n",
       "        //console.log('sending', m);\n",
       "        comm.send(m);\n",
       "    };\n",
       "    // Register the callback with on_msg.\n",
       "    comm.on_msg(function(msg) {\n",
       "        //console.log('receiving', msg['content']['data'], msg);\n",
       "        // Pass the mpl event to the overriden (by mpl) onmessage function.\n",
       "        ws.onmessage(msg['content']['data'])\n",
       "    });\n",
       "    return ws;\n",
       "}\n",
       "\n",
       "mpl.mpl_figure_comm = function(comm, msg) {\n",
       "    // This is the function which gets called when the mpl process\n",
       "    // starts-up an IPython Comm through the \"matplotlib\" channel.\n",
       "\n",
       "    var id = msg.content.data.id;\n",
       "    // Get hold of the div created by the display call when the Comm\n",
       "    // socket was opened in Python.\n",
       "    var element = $(\"#\" + id);\n",
       "    var ws_proxy = comm_websocket_adapter(comm)\n",
       "\n",
       "    function ondownload(figure, format) {\n",
       "        window.open(figure.imageObj.src);\n",
       "    }\n",
       "\n",
       "    var fig = new mpl.figure(id, ws_proxy,\n",
       "                           ondownload,\n",
       "                           element.get(0));\n",
       "\n",
       "    // Call onopen now - mpl needs it, as it is assuming we've passed it a real\n",
       "    // web socket which is closed, not our websocket->open comm proxy.\n",
       "    ws_proxy.onopen();\n",
       "\n",
       "    fig.parent_element = element.get(0);\n",
       "    fig.cell_info = mpl.find_output_cell(\"<div id='\" + id + \"'></div>\");\n",
       "    if (!fig.cell_info) {\n",
       "        console.error(\"Failed to find cell for figure\", id, fig);\n",
       "        return;\n",
       "    }\n",
       "\n",
       "    var output_index = fig.cell_info[2]\n",
       "    var cell = fig.cell_info[0];\n",
       "\n",
       "};\n",
       "\n",
       "mpl.figure.prototype.handle_close = function(fig, msg) {\n",
       "    fig.root.unbind('remove')\n",
       "\n",
       "    // Update the output cell to use the data from the current canvas.\n",
       "    fig.push_to_output();\n",
       "    var dataURL = fig.canvas.toDataURL();\n",
       "    // Re-enable the keyboard manager in IPython - without this line, in FF,\n",
       "    // the notebook keyboard shortcuts fail.\n",
       "    IPython.keyboard_manager.enable()\n",
       "    $(fig.parent_element).html('<img src=\"' + dataURL + '\">');\n",
       "    fig.close_ws(fig, msg);\n",
       "}\n",
       "\n",
       "mpl.figure.prototype.close_ws = function(fig, msg){\n",
       "    fig.send_message('closing', msg);\n",
       "    // fig.ws.close()\n",
       "}\n",
       "\n",
       "mpl.figure.prototype.push_to_output = function(remove_interactive) {\n",
       "    // Turn the data on the canvas into data in the output cell.\n",
       "    var dataURL = this.canvas.toDataURL();\n",
       "    this.cell_info[1]['text/html'] = '<img src=\"' + dataURL + '\">';\n",
       "}\n",
       "\n",
       "mpl.figure.prototype.updated_canvas_event = function() {\n",
       "    // Tell IPython that the notebook contents must change.\n",
       "    IPython.notebook.set_dirty(true);\n",
       "    this.send_message(\"ack\", {});\n",
       "    var fig = this;\n",
       "    // Wait a second, then push the new image to the DOM so\n",
       "    // that it is saved nicely (might be nice to debounce this).\n",
       "    setTimeout(function () { fig.push_to_output() }, 1000);\n",
       "}\n",
       "\n",
       "mpl.figure.prototype._init_toolbar = function() {\n",
       "    var fig = this;\n",
       "\n",
       "    var nav_element = $('<div/>')\n",
       "    nav_element.attr('style', 'width: 100%');\n",
       "    this.root.append(nav_element);\n",
       "\n",
       "    // Define a callback function for later on.\n",
       "    function toolbar_event(event) {\n",
       "        return fig.toolbar_button_onclick(event['data']);\n",
       "    }\n",
       "    function toolbar_mouse_event(event) {\n",
       "        return fig.toolbar_button_onmouseover(event['data']);\n",
       "    }\n",
       "\n",
       "    for(var toolbar_ind in mpl.toolbar_items){\n",
       "        var name = mpl.toolbar_items[toolbar_ind][0];\n",
       "        var tooltip = mpl.toolbar_items[toolbar_ind][1];\n",
       "        var image = mpl.toolbar_items[toolbar_ind][2];\n",
       "        var method_name = mpl.toolbar_items[toolbar_ind][3];\n",
       "\n",
       "        if (!name) { continue; };\n",
       "\n",
       "        var button = $('<button class=\"btn btn-default\" href=\"#\" title=\"' + name + '\"><i class=\"fa ' + image + ' fa-lg\"></i></button>');\n",
       "        button.click(method_name, toolbar_event);\n",
       "        button.mouseover(tooltip, toolbar_mouse_event);\n",
       "        nav_element.append(button);\n",
       "    }\n",
       "\n",
       "    // Add the status bar.\n",
       "    var status_bar = $('<span class=\"mpl-message\" style=\"text-align:right; float: right;\"/>');\n",
       "    nav_element.append(status_bar);\n",
       "    this.message = status_bar[0];\n",
       "\n",
       "    // Add the close button to the window.\n",
       "    var buttongrp = $('<div class=\"btn-group inline pull-right\"></div>');\n",
       "    var button = $('<button class=\"btn btn-mini btn-primary\" href=\"#\" title=\"Stop Interaction\"><i class=\"fa fa-power-off icon-remove icon-large\"></i></button>');\n",
       "    button.click(function (evt) { fig.handle_close(fig, {}); } );\n",
       "    button.mouseover('Stop Interaction', toolbar_mouse_event);\n",
       "    buttongrp.append(button);\n",
       "    var titlebar = this.root.find($('.ui-dialog-titlebar'));\n",
       "    titlebar.prepend(buttongrp);\n",
       "}\n",
       "\n",
       "mpl.figure.prototype._root_extra_style = function(el){\n",
       "    var fig = this\n",
       "    el.on(\"remove\", function(){\n",
       "\tfig.close_ws(fig, {});\n",
       "    });\n",
       "}\n",
       "\n",
       "mpl.figure.prototype._canvas_extra_style = function(el){\n",
       "    // this is important to make the div 'focusable\n",
       "    el.attr('tabindex', 0)\n",
       "    // reach out to IPython and tell the keyboard manager to turn it's self\n",
       "    // off when our div gets focus\n",
       "\n",
       "    // location in version 3\n",
       "    if (IPython.notebook.keyboard_manager) {\n",
       "        IPython.notebook.keyboard_manager.register_events(el);\n",
       "    }\n",
       "    else {\n",
       "        // location in version 2\n",
       "        IPython.keyboard_manager.register_events(el);\n",
       "    }\n",
       "\n",
       "}\n",
       "\n",
       "mpl.figure.prototype._key_event_extra = function(event, name) {\n",
       "    var manager = IPython.notebook.keyboard_manager;\n",
       "    if (!manager)\n",
       "        manager = IPython.keyboard_manager;\n",
       "\n",
       "    // Check for shift+enter\n",
       "    if (event.shiftKey && event.which == 13) {\n",
       "        this.canvas_div.blur();\n",
       "        event.shiftKey = false;\n",
       "        // Send a \"J\" for go to next cell\n",
       "        event.which = 74;\n",
       "        event.keyCode = 74;\n",
       "        manager.command_mode();\n",
       "        manager.handle_keydown(event);\n",
       "    }\n",
       "}\n",
       "\n",
       "mpl.figure.prototype.handle_save = function(fig, msg) {\n",
       "    fig.ondownload(fig, null);\n",
       "}\n",
       "\n",
       "\n",
       "mpl.find_output_cell = function(html_output) {\n",
       "    // Return the cell and output element which can be found *uniquely* in the notebook.\n",
       "    // Note - this is a bit hacky, but it is done because the \"notebook_saving.Notebook\"\n",
       "    // IPython event is triggered only after the cells have been serialised, which for\n",
       "    // our purposes (turning an active figure into a static one), is too late.\n",
       "    var cells = IPython.notebook.get_cells();\n",
       "    var ncells = cells.length;\n",
       "    for (var i=0; i<ncells; i++) {\n",
       "        var cell = cells[i];\n",
       "        if (cell.cell_type === 'code'){\n",
       "            for (var j=0; j<cell.output_area.outputs.length; j++) {\n",
       "                var data = cell.output_area.outputs[j];\n",
       "                if (data.data) {\n",
       "                    // IPython >= 3 moved mimebundle to data attribute of output\n",
       "                    data = data.data;\n",
       "                }\n",
       "                if (data['text/html'] == html_output) {\n",
       "                    return [cell, data, j];\n",
       "                }\n",
       "            }\n",
       "        }\n",
       "    }\n",
       "}\n",
       "\n",
       "// Register the function which deals with the matplotlib target/channel.\n",
       "// The kernel may be null if the page has been refreshed.\n",
       "if (IPython.notebook.kernel != null) {\n",
       "    IPython.notebook.kernel.comm_manager.register_target('matplotlib', mpl.mpl_figure_comm);\n",
       "}\n"
      ],
      "text/plain": [
       "<IPython.core.display.Javascript object>"
      ]
     },
     "metadata": {},
     "output_type": "display_data"
    },
    {
     "data": {
      "text/html": [
       "<img src=\"data:image/png;base64,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\">"
      ],
      "text/plain": [
       "<IPython.core.display.HTML object>"
      ]
     },
     "metadata": {},
     "output_type": "display_data"
    },
    {
     "name": "stdout",
     "output_type": "stream",
     "text": [
      "('loaded file for username = ', u'bpb')\n"
     ]
    }
   ],
   "source": [
    "dp = reload(dp)\n",
    "%matplotlib notebook\n",
    "a = dp.adjust_rt_for_selected_compound(metatlas_dataset,compound_idx=0,include_lcmsruns = [],alpha=0.75)"
   ]
  },
  {
   "cell_type": "markdown",
   "metadata": {},
   "source": [
    "# 7b. Adjust m/z bounds"
   ]
  },
  {
   "cell_type": "code",
   "execution_count": null,
   "metadata": {
    "collapsed": false
   },
   "outputs": [],
   "source": [
    "# a = dp.adjust_mz_for_selected_compound(metatlas_dataset)"
   ]
  },
  {
   "cell_type": "code",
   "execution_count": null,
   "metadata": {
    "collapsed": false,
    "scrolled": true
   },
   "outputs": [],
   "source": [
    "# # dp = reload(dp)\n",
    "# data,compound_grid = dp.show_compound_grid(input_dataset = metatlas_dataset)#,input_fname = '/global/homes/b/bpb/Downloads/20160531_KBL_C18_Vio_cells_384_Q_1_to_4.pkl')"
   ]
  },
  {
   "cell_type": "markdown",
   "metadata": {},
   "source": [
    "# 8. Make Supplementary Tables\n"
   ]
  },
  {
   "cell_type": "markdown",
   "metadata": {},
   "source": [
    "### Specify a directory to put all the figures into"
   ]
  },
  {
   "cell_type": "code",
   "execution_count": null,
   "metadata": {
    "collapsed": false
   },
   "outputs": [],
   "source": [
    "output_dir = '/global/homes/b/bpb/Downloads/SK_ZZ_MAIZE_HILIC_POS_20170302/'\n",
    "if not os.path.exists(output_dir):\n",
    "    os.makedirs(output_dir)"
   ]
  },
  {
   "cell_type": "markdown",
   "metadata": {},
   "source": [
    "* ### Export Atlas to a Spreadsheet"
   ]
  },
  {
   "cell_type": "code",
   "execution_count": null,
   "metadata": {
    "collapsed": false
   },
   "outputs": [],
   "source": [
    "atlas_identifications = dp.export_atlas_to_spreadsheet(myAtlas,os.path.join(output_dir,'atlas_export.csv'))"
   ]
  },
  {
   "cell_type": "markdown",
   "metadata": {},
   "source": [
    "* ### Dataframes and spreadsheets"
   ]
  },
  {
   "cell_type": "code",
   "execution_count": null,
   "metadata": {
    "collapsed": false
   },
   "outputs": [],
   "source": [
    "dp = reload(dp)\n",
    "# atlas_identifications = dp.export_atlas_to_spreadsheet(myAtlas,'%s/sheets/%s.csv'%(plot_location_label,myAtlas.name))\n",
    "peak_height = dp.make_output_dataframe(input_fname = '',input_dataset = metatlas_dataset,include_lcmsruns = [],exclude_lcmsruns = [], fieldname='peak_height' , output_loc=os.path.join(output_dir,'sheets'))\n",
    "peak_area = dp.make_output_dataframe(input_fname = my_file,input_dataset = metatlas_dataset,include_lcmsruns = [],exclude_lcmsruns = [], fieldname='peak_area' , output_loc=os.path.join(output_dir,'sheets'))\n",
    "mz_peak = dp.make_output_dataframe(input_fname = my_file,input_dataset = metatlas_dataset,include_lcmsruns = [],exclude_lcmsruns = [], fieldname='mz_peak' , output_loc=os.path.join(output_dir,'sheets'))\n",
    "rt_peak = dp.make_output_dataframe(input_fname = my_file, input_dataset = metatlas_dataset,include_lcmsruns = [],exclude_lcmsruns = [],fieldname='rt_peak' , output_loc=os.path.join(output_dir,'sheets'))\n",
    "mz_centroid = dp.make_output_dataframe(input_fname = my_file,input_dataset = metatlas_dataset,include_lcmsruns = [],exclude_lcmsruns = [], fieldname='mz_centroid' , output_loc=os.path.join(output_dir,'sheets'))\n",
    "rt_centroid = dp.make_output_dataframe(input_fname = my_file,input_dataset = metatlas_dataset,include_lcmsruns = [],exclude_lcmsruns = [], fieldname='rt_centroid' , output_loc=os.path.join(output_dir,'sheets'))"
   ]
  },
  {
   "cell_type": "markdown",
   "metadata": {},
   "source": [
    "* ### Error bar"
   ]
  },
  {
   "cell_type": "code",
   "execution_count": null,
   "metadata": {
    "collapsed": false,
    "scrolled": false
   },
   "outputs": [],
   "source": [
    "dp = reload(dp)\n",
    "dp.plot_errorbar_plots(peak_height, output_loc=os.path.join(output_dir,'error_bar_peak_height'))"
   ]
  },
  {
   "cell_type": "code",
   "execution_count": null,
   "metadata": {
    "collapsed": true
   },
   "outputs": [],
   "source": [
    "dp.plot_errorbar_plots(rt_peak, output_loc=os.path.join(output_dir,'error_bar_rt_peak'))"
   ]
  },
  {
   "cell_type": "markdown",
   "metadata": {},
   "source": [
    "* ### Chromatograms"
   ]
  },
  {
   "cell_type": "markdown",
   "metadata": {},
   "source": [
    "### Make a plot for each compound:\n",
    "* Each lcmsrun will be a subplot"
   ]
  },
  {
   "cell_type": "code",
   "execution_count": null,
   "metadata": {
    "collapsed": false
   },
   "outputs": [],
   "source": [
    "## THINGS YOU MIGHT WANT TO CHANGE\n",
    "nCols = 8\n",
    "share_y = True\n",
    "## THINGS YOU PROBABLY DON'T WANT TO CHANGE\n",
    "file_names = ma_data.get_file_names(metatlas_dataset)\n",
    "compound_names = ma_data.get_compound_names(metatlas_dataset)[0]\n",
    "nRows = int(np.ceil(len(file_names)/float(nCols)))\n",
    "args_list = []\n",
    "\n",
    "chromatogram_str = 'compound_chromatograms'\n",
    "\n",
    "if not os.path.exists(os.path.join(output_dir,chromatogram_str)):\n",
    "    os.makedirs(os.path.join(output_dir,chromatogram_str))\n",
    "\n",
    "for compound_idx, my_compound in enumerate(compound_names):\n",
    "    my_data = list()\n",
    "    for file_idx, my_file in enumerate(file_names):\n",
    "        my_data.append(metatlas_dataset[file_idx][compound_idx])\n",
    "    kwargs = {'data': my_data,\n",
    "              'file_name': os.path.join(output_dir, chromatogram_str, my_compound+'.pdf'),\n",
    "              'rowscols': (nRows, nCols),\n",
    "              'share_y': share_y,\n",
    "              'names': file_names}\n",
    "    args_list.append(kwargs)\n",
    "max_processes = 8\n",
    "pool = mp.Pool(processes=min(max_processes, len(metatlas_dataset[0])))\n",
    "pool.map(cp.plot_compounds_and_files_mp, args_list)\n",
    "pool.close()\n",
    "pool.terminate()"
   ]
  },
  {
   "cell_type": "markdown",
   "metadata": {},
   "source": [
    "### Make a plot for each lcmsrun\n",
    "* Each compound will be a subplot"
   ]
  },
  {
   "cell_type": "code",
   "execution_count": null,
   "metadata": {
    "collapsed": false,
    "scrolled": false
   },
   "outputs": [],
   "source": [
    "## THINGS YOU MIGHT WANT TO CHANGE\n",
    "nCols = 8\n",
    "share_y = False\n",
    "\n",
    "chromatogram_str = 'lcmsrun_chromatograms'\n",
    "\n",
    "if not os.path.exists(os.path.join(output_dir,chromatogram_str)):\n",
    "    os.makedirs(os.path.join(output_dir,chromatogram_str))\n",
    "\n",
    "## THINGS YOU PROBABLY DON'T WANT TO CHANGE\n",
    "file_names = ma_data.get_file_names(metatlas_dataset)\n",
    "compound_names = ma_data.get_compound_names(metatlas_dataset)[0]\n",
    "nRows = int(np.ceil(len(compound_names)/float(nCols)))\n",
    "args_list = []\n",
    "for file_idx, my_file in enumerate(file_names):\n",
    "    kwargs = {'data': metatlas_dataset[file_idx],\n",
    "              'file_name': os.path.join(output_dir, chromatogram_str, my_compound+'.pdf'),\n",
    "              'rowscols': (nRows, nCols),\n",
    "              'share_y': share_y,\n",
    "              'names': compound_names}\n",
    "    args_list.append(kwargs)\n",
    "\n",
    "max_processes = 8\n",
    "pool = mp.Pool(processes=min(max_processes, len(metatlas_dataset)))\n",
    "pool.map(cp.plot_compounds_and_files_mp, args_list)\n",
    "pool.close()\n",
    "pool.terminate()\n"
   ]
  },
  {
   "cell_type": "markdown",
   "metadata": {},
   "source": [
    "* ### Identification Figures"
   ]
  },
  {
   "cell_type": "code",
   "execution_count": null,
   "metadata": {
    "collapsed": false,
    "scrolled": true
   },
   "outputs": [],
   "source": [
    "dp = reload(dp)\n",
    "dp.make_identification_figure(input_dataset = metatlas_dataset, input_fname = my_file, include_lcmsruns = [],exclude_lcmsruns = ['RootCass','QC','Blank','blank'], output_loc=os.path.join(output_dir,'identification'))"
   ]
  },
  {
   "cell_type": "markdown",
   "metadata": {},
   "source": [
    "### Make a single tar file of your output directory"
   ]
  },
  {
   "cell_type": "code",
   "execution_count": null,
   "metadata": {
    "collapsed": false
   },
   "outputs": [],
   "source": [
    "import time\n",
    "import os\n",
    "timestr = time.strftime(\"%Y%m%d-%H%M%S\")\n",
    "tarball_name = timestr + '_' + os.path.basename(os.path.normpath(output_dir)) + '.tar.gz'\n",
    "%system tar -zcf $tarball_name -C $output_dir .\n",
    "print 'done'\n",
    "from IPython.core.display import display, HTML\n",
    "f1 = '/user/bpb/files'+os.path.join(os.getcwd().replace('/global/u2/b/bpb',''), tarball_name)\n",
    "f2 = tarball_name\n",
    "display(HTML('<a href=\"%s\" download=\"%s\">Start automatic download!</a>'%(f1,f2)))\n"
   ]
  },
  {
   "cell_type": "markdown",
   "metadata": {},
   "source": [
    "### The tarball will be stored in your current directory.  Run this to see current directory"
   ]
  },
  {
   "cell_type": "code",
   "execution_count": null,
   "metadata": {
    "collapsed": false
   },
   "outputs": [],
   "source": [
    "%system pwd"
   ]
  },
  {
   "cell_type": "markdown",
   "metadata": {},
   "source": [
    "# 9. Compare feature EICs to BPC of each file"
   ]
  },
  {
   "cell_type": "code",
   "execution_count": null,
   "metadata": {
    "collapsed": false,
    "scrolled": false
   },
   "outputs": [],
   "source": [
    "import matplotlib.pyplot as plt\n",
    "from textwrap import wrap\n",
    "files = groups[0].items\n",
    "ma_data = reload(ma_data)\n",
    "for f in files:\n",
    "    bpc = ma_data.get_bpc(f.hdf5_file,dataset='ms1_neg')\n",
    "    fig = plt.figure(figsize=(10,6))\n",
    "    plt.plot(bpc.rt,bpc.i,'k-')\n",
    "#     for d in metatlas_dataset[file_index]:\n",
    "#         plt.plot(d['data']['eic']['rt'],d['data']['eic']['intensity'],c=np.random.rand(3,1),alpha=0.9)\n",
    "    ax = plt.gca()\n",
    "    ax.set_yscale('log')\n",
    "    ax.set_title('\\n'.join(wrap(base_file_names[file_index],50)))\n",
    "    ax.set_xlabel('Retention Time (min)')\n",
    "    ax.set_ylabel('Intensity')\n",
    "    plt.xlim(0,23)\n",
    "    plt.ylim(1e5,1e10)\n",
    "#     fig.savefig('/global/homes/b/bpb/trent/' + base_file_names[file_index].split('.')[0] + '.png')\n"
   ]
  },
  {
   "cell_type": "code",
   "execution_count": null,
   "metadata": {
    "collapsed": false,
    "scrolled": true
   },
   "outputs": [],
   "source": [
    "import matplotlib.pyplot as plt\n",
    "from textwrap import wrap\n",
    "\n",
    "file_index = 0\n",
    "yscale = 'log'\n",
    "\n",
    "\n",
    "full_file_names = ma_data.get_file_names(metatlas_dataset,full_path=True)\n",
    "base_file_names = ma_data.get_file_names(metatlas_dataset,full_path=False)\n",
    "\n",
    "for file_index in range(len(full_file_names)):\n",
    "\n",
    "    bpc = ma_data.get_bpc(full_file_names[file_index],dataset='ms1_neg')\n",
    "    if not os.path.exists(os.path.join(output_dir,'bpc_eic' )):\n",
    "        os.makedirs(os.path.join(output_dir,'bpc_eic'))\n",
    "    fig = plt.figure(figsize=(20,6))\n",
    "    plt.plot(bpc.rt,bpc.i,'k-')\n",
    "    for d in metatlas_dataset[file_index]:\n",
    "        plt.plot(d['data']['eic']['rt'],d['data']['eic']['intensity'],c=np.random.rand(3,1),alpha=0.9)\n",
    "    ax = plt.gca()\n",
    "    ax.set_yscale(yscale)\n",
    "    ax.set_title('\\n'.join(wrap(base_file_names[file_index],50)))\n",
    "    ax.set_xlabel('Retention Time (min)')\n",
    "    ax.set_ylabel('Intensity')\n",
    "    plt.xlim(0,23)\n",
    "    plt.ylim(1e5,1e10)\n",
    "    fig.savefig(os.path.join(output_dir,'bpc_eic', base_file_names[file_index].split('.')[0] + '.png'))\n"
   ]
  },
  {
   "cell_type": "code",
   "execution_count": null,
   "metadata": {
    "collapsed": false
   },
   "outputs": [],
   "source": [
    "ma_data = reload(ma_data)\n",
    "f_list = [ma_data.compare_EIC_to_BPC_for_file(metatlas_dataset,idx,yscale ='log') for idx in range(10)]"
   ]
  },
  {
   "cell_type": "code",
   "execution_count": null,
   "metadata": {
    "collapsed": false
   },
   "outputs": [],
   "source": [
    "f_list[2]"
   ]
  },
  {
   "cell_type": "code",
   "execution_count": null,
   "metadata": {
    "collapsed": false
   },
   "outputs": [],
   "source": [
    "full_file_names = ma_data.get_file_names(metatlas_dataset,full_path=True)\n",
    "base_file_names = ma_data.get_file_names(metatlas_dataset,full_path=False)\n",
    "bpc = ma_data.get_bpc(full_file_names[0])"
   ]
  },
  {
   "cell_type": "code",
   "execution_count": null,
   "metadata": {
    "collapsed": true
   },
   "outputs": [],
   "source": [
    "counts = bpc.mz.round(4).value_counts(normalize=False, sort=True, ascending=False, bins=None)"
   ]
  },
  {
   "cell_type": "code",
   "execution_count": null,
   "metadata": {
    "collapsed": false
   },
   "outputs": [],
   "source": [
    "counts.head(10)"
   ]
  },
  {
   "cell_type": "code",
   "execution_count": null,
   "metadata": {
    "collapsed": false
   },
   "outputs": [],
   "source": [
    "from matplotlib import pyplot as plt\n",
    "\n",
    "f = bpc.mz.hist(bins=1000)\n",
    "plt.show(f)"
   ]
  },
  {
   "cell_type": "markdown",
   "metadata": {},
   "source": [
    "# 10. Clean up Zombie Processes\n",
    "\n",
    "* ### These are not meant to be used as part of normal work\n",
    "\n",
    "* ### If code crashes, we will have to use these tools to clean things up"
   ]
  },
  {
   "cell_type": "markdown",
   "metadata": {},
   "source": [
    "### Try simply closing the pool"
   ]
  },
  {
   "cell_type": "code",
   "execution_count": null,
   "metadata": {
    "collapsed": false
   },
   "outputs": [],
   "source": [
    "pool.close()\n",
    "pool.terminate()"
   ]
  },
  {
   "cell_type": "markdown",
   "metadata": {},
   "source": [
    "### Make a DataFrame of user's processes"
   ]
  },
  {
   "cell_type": "code",
   "execution_count": null,
   "metadata": {
    "collapsed": false
   },
   "outputs": [],
   "source": [
    "import os\n",
    "import psutil\n",
    "import getpass\n",
    "import pandas as pd\n",
    "from datetime import datetime\n",
    "\n",
    "pids = [int(pid) for pid in os.listdir('/proc') if pid.isdigit()]\n",
    "proc_df = []\n",
    "for pid in pids:\n",
    "    try:\n",
    "        process = psutil.Process(pid)\n",
    "        if process.username() == getpass.getuser():\n",
    "            temp = {'pid': process.pid,\n",
    "                    'name': process.name(),\n",
    "                    'user': process.username(),\n",
    "                    'created_timestamp': int(process.create_time()*100),\n",
    "                    'created_datestr': str(datetime.fromtimestamp(process.create_time()))}\n",
    "            proc_df.append(temp)\n",
    "    except:\n",
    "        pass\n",
    "    \n",
    "df = pd.DataFrame(proc_df)\n",
    "df"
   ]
  },
  {
   "cell_type": "markdown",
   "metadata": {},
   "source": [
    "### Kill process by process id (pid)"
   ]
  },
  {
   "cell_type": "code",
   "execution_count": null,
   "metadata": {
    "collapsed": false
   },
   "outputs": [],
   "source": [
    "for pid in df[df.created_timestamp > 147939907007].pid:\n",
    "    p = psutil.Process(pid)\n",
    "    p.terminate() "
   ]
  },
  {
   "cell_type": "code",
   "execution_count": null,
   "metadata": {
    "collapsed": true
   },
   "outputs": [],
   "source": [
    "p = psutil.Process(43671)\n",
    "p.terminate() "
   ]
  },
  {
   "cell_type": "markdown",
   "metadata": {},
   "source": [
    "# 11. Run an MZMine Batch Script"
   ]
  },
  {
   "cell_type": "code",
   "execution_count": null,
   "metadata": {
    "collapsed": false
   },
   "outputs": [],
   "source": [
    "files = metob.retrieve('lcmsruns',experiment='%jd_of%',name='%_pos_%',username='*')\n",
    "mzml_files = []\n",
    "print(len(files))\n",
    "for f in files:\n",
    "    mzml_files.append(f.mzml_file)"
   ]
  },
  {
   "cell_type": "code",
   "execution_count": 18,
   "metadata": {
    "collapsed": false,
    "scrolled": false
   },
   "outputs": [],
   "source": [
    "import glob\n",
    "files = glob.glob('/project/projectdirs/metatlas/raw_data/smkosina/20170317_SK_Arkin_PseudoAbxCsource/*.mzML')\n",
    "mzml_files = []\n",
    "for f in files:\n",
    "\n",
    "    if not '_InjBl' in f:\n",
    "        if ('_' in f) or ('Sterile' in f):\n",
    "            if 'NEG_' in f:\n",
    "                mzml_files.append(f)#f.replace('20170317_SK-MdR_Arkin_PseudoAbxCsource_QE144_EPC18-USDAY26531_MSMS_','')))\n",
    "# files\n",
    "\n",
    "\n",
    "\n",
    "mzml_files = sorted(mzml_files)"
   ]
  },
  {
   "cell_type": "code",
   "execution_count": 13,
   "metadata": {
    "collapsed": false
   },
   "outputs": [],
   "source": [
    "\n",
    "mzml_files = []\n",
    "for g in groups:\n",
    "    for f in g.items:\n",
    "        mzml_files.append(f.mzml_file)\n"
   ]
  },
  {
   "cell_type": "code",
   "execution_count": null,
   "metadata": {
    "collapsed": true
   },
   "outputs": [],
   "source": [
    "# mzml_files = ['/project/projectdirs/metatlas/raw_data/kblouie/20150914_actinorhodin_finalset_50mm/20150910_C18_MeOH_NEG_MSMS_Scoelicolor_media_WT_M145_Day6_3of4___Run61.mzML']"
   ]
  },
  {
   "cell_type": "code",
   "execution_count": 20,
   "metadata": {
    "collapsed": false
   },
   "outputs": [
    {
     "name": "stdout",
     "output_type": "stream",
     "text": [
      "qsub /project/projectdirs/metatlas/projects/mzmine_parameters/PseudoC_C18_NEG_mzmine_job.qsub\n"
     ]
    }
   ],
   "source": [
    "new_str = 'PseudoC_C18_NEG'\n",
    "# C18_MSMS_NEG_Secondary_Metabolite_Parameters\n",
    "mzm.make_mzmine_scripts(mzml_files, \n",
    "                        outfile='/project/projectdirs/metatlas/projects/mzmine_parameters/%s_mzmine_output.csv'%new_str,\n",
    "                        new_batch_file = '/project/projectdirs/metatlas/projects/mzmine_parameters/%s_job_script_parameters.xml'%new_str,\n",
    "                        new_sbatch_file = '/project/projectdirs/metatlas/projects/mzmine_parameters/%s_mzmine_job.sbatch'%new_str,\n",
    "                        new_qsub_file = '/project/projectdirs/metatlas/projects/mzmine_parameters/%s_mzmine_job.qsub'%new_str,\n",
    "                        base_batch_file='/project/projectdirs/metatlas/projects/mzmine_parameters/C18_MSMS_NEG_Secondary_Metabolite_Parameters.xml',\n",
    "                        base_sbatch_file = '/project/projectdirs/metatlas/projects/mzmine_parameters/mzmine_job.sbatch',\n",
    "                        base_qsub_file = '/project/projectdirs/metatlas/projects/mzmine_parameters/mzmine_job.qsub')"
   ]
  },
  {
   "cell_type": "code",
   "execution_count": null,
   "metadata": {
    "collapsed": false
   },
   "outputs": [],
   "source": [
    "from metatlas.helpers import mzmine_helpers as mzm\n",
    "# mollaretii_P10_vs_0_output.csv\n",
    "# mzmine_out  = '/project/projectdirs/metatlas/projects/mzmine_parameters/pathway_1_mzmine_output.csv'\n",
    "mzmine_out = '/global/project/projectdirs/metatlas/projects/mzmine_parameters/dangl_exudate_C18_pos_mzmine_output.csv'\n",
    "# mzmine_out = '/global/project/projectdirs/metatlas/projects/mzmine_parameters/RootExu_C18_neg_mzmine_output.csv'\n",
    "atlas_df,myAtlas = mzm.metatlas_formatted_atlas_from_mzmine_output(mzmine_out,\n",
    "                                                               'positive',\n",
    "                                                               make_atlas=False,\n",
    "                                                               atlas_name='20161117_test_mzmine_atlas_pos')"
   ]
  },
  {
   "cell_type": "code",
   "execution_count": null,
   "metadata": {
    "collapsed": false
   },
   "outputs": [],
   "source": [
    "atlas_df.head()"
   ]
  },
  {
   "cell_type": "code",
   "execution_count": null,
   "metadata": {
    "collapsed": true
   },
   "outputs": [],
   "source": []
  },
  {
   "cell_type": "code",
   "execution_count": null,
   "metadata": {
    "collapsed": false
   },
   "outputs": [],
   "source": [
    "df = atlas_df.copy()\n",
    "df = df.fillna(0)\n",
    "df.set_index(['label','mz','mz_tolerance','rt_peak','rt_min','rt_max','inchi_key','detected_polarity','max_intensity'],inplace=True,)\n",
    "df.head()"
   ]
  },
  {
   "cell_type": "code",
   "execution_count": null,
   "metadata": {
    "collapsed": false
   },
   "outputs": [],
   "source": [
    "df = df.sort_index(axis=1)"
   ]
  },
  {
   "cell_type": "code",
   "execution_count": null,
   "metadata": {
    "collapsed": false
   },
   "outputs": [],
   "source": [
    "df.columns"
   ]
  },
  {
   "cell_type": "code",
   "execution_count": null,
   "metadata": {
    "collapsed": false,
    "scrolled": false
   },
   "outputs": [],
   "source": [
    "#add group info\n",
    "group_level = []\n",
    "for c in df.columns:\n",
    "    temp = ''\n",
    "    for g in groups:\n",
    "        for item in g.items:\n",
    "            if c.replace(' Peak height','') in item.name:\n",
    "                temp = g.name\n",
    "#     split_name = temp.split('_')\n",
    "#     split_name.extend([''] * (4 - len(split_name)))\n",
    "    group_level.append([temp,c.replace(' Peak height','')])\n",
    "#     print temp\n",
    "#     group_level.append([temp])\n",
    "list_of_lists = map(list, zip(*group_level))\n",
    "# list_of_lists = [list(elem) for elem in group_level]\n",
    "# df.columns = pd.MultiIndex.from_arrays(list_of_lists,names=('project','pathway','strain_code','iptg','species'))\n",
    "df.columns = pd.MultiIndex.from_arrays(list_of_lists,names=('group','file'))\n",
    "df.head()\n",
    "# print len(group_level),len(atlas_df.columns)\n",
    "# group_level"
   ]
  },
  {
   "cell_type": "code",
   "execution_count": null,
   "metadata": {
    "collapsed": true
   },
   "outputs": [],
   "source": [
    "df.to_csv('~/Downloads/dangle_c18_pos.csv')"
   ]
  },
  {
   "cell_type": "code",
   "execution_count": null,
   "metadata": {
    "collapsed": false
   },
   "outputs": [],
   "source": [
    "(target-ppm,target+ppm)"
   ]
  },
  {
   "cell_type": "code",
   "execution_count": null,
   "metadata": {
    "collapsed": false
   },
   "outputs": [],
   "source": [
    "mz = 363.2394162\n",
    "target = mz + 1.007276\n",
    "ppm = target * 15 / 1e6\n",
    "cpds = metob.database.query('select * from compounds where mono_isotopic_molecular_weight between %.4f and %.4f'%(target-ppm,target+ppm))\n",
    "results = [c for c in cpds]\n",
    "pd.DataFrame(results)"
   ]
  },
  {
   "cell_type": "code",
   "execution_count": null,
   "metadata": {
    "collapsed": false
   },
   "outputs": [],
   "source": [
    "638.4049378 - 1.007276"
   ]
  },
  {
   "cell_type": "code",
   "execution_count": null,
   "metadata": {
    "collapsed": false
   },
   "outputs": [],
   "source": [
    "cpds = metob.retrieve('Compounds',mono_isotopic_molecular_weight = '637.39%')\n",
    "for c in cpds:\n",
    "    print c.name,(c.mono_isotopic_molecular_weight + 1.007276 - 638.4049378) / 638.4049378 * 1e6"
   ]
  },
  {
   "cell_type": "code",
   "execution_count": null,
   "metadata": {
    "collapsed": false,
    "scrolled": false
   },
   "outputs": [],
   "source": [
    "import matplotlib.pyplot as plt\n",
    "from textwrap import wrap\n",
    "\n",
    "fig,ax = plt.subplots(4,6,figsize=(20,13))\n",
    "\n",
    "for i,s in enumerate(df.columns.get_level_values('species').unique()):\n",
    "    idx = np.unravel_index(i,(4,6)) #convert to row column index\n",
    "    xdata = df.xs(('Pathway=0',s),level=['pathway','species'],axis=1).max(axis=1)\n",
    "    ydata = df.xs(('Pathway=1',s),level=['pathway','species'],axis=1).max(axis=1)\n",
    "    ax[idx].plot(xdata.fillna(0)+1,ydata.fillna(0)+1,'.',markersize=20)\n",
    "    ax[idx].set_title('\\n'.join(wrap(s,18)))\n",
    "    ax[idx].set_xlabel('wild type')\n",
    "    ax[idx].set_ylabel('engineered')\n",
    "    ax[idx].set_yscale('log')\n",
    "    ax[idx].set_xscale('log')\n",
    "\n",
    "    plt.show()\n",
    "plt.tight_layout()"
   ]
  },
  {
   "cell_type": "code",
   "execution_count": null,
   "metadata": {
    "collapsed": false
   },
   "outputs": [],
   "source": [
    "df_signal = pd.DataFrame()\n",
    "for i,s in enumerate(df.columns.get_level_values('species').unique()):\n",
    "    idx = np.unravel_index(i,(4,6)) #convert to row column index\n",
    "    xdata = df.xs(('Pathway=0',s),level=['pathway','species'],axis=1).max(axis=1)\n",
    "    ydata = df.xs(('Pathway=1',s),level=['pathway','species'],axis=1).max(axis=1)\n",
    "    df_signal[s] = (xdata<1e5) & (ydata>1e7)\n",
    "df_signal['product count'] = df_signal.sum(axis=1)\n",
    "df_signal = df_signal.sort_values('product count',ascending=False)\n",
    "# for i,s in enumerate(df.columns.get_level_values('species').unique()):\n",
    "#     df_signal = df_signal.drop(s, 1)\n",
    "# df_signal"
   ]
  },
  {
   "cell_type": "code",
   "execution_count": null,
   "metadata": {
    "collapsed": false
   },
   "outputs": [],
   "source": [
    "fig = plt.figure(figsize= (7,7))\n",
    "ax = plt.hist(df_signal['product count'],bins=24)\n",
    "plt.xlabel('Number of species')\n",
    "plt.ylabel('Number of features')\n",
    "plt.show()"
   ]
  },
  {
   "cell_type": "code",
   "execution_count": null,
   "metadata": {
    "collapsed": false
   },
   "outputs": [],
   "source": [
    "df_signal.reset_index(inplace=True)\n",
    "#add intensity\n",
    "df_signal[(df_signal['product count']>2) & (df_signal['mz']>200)].sort_values('max_intensity',ascending=False).to_csv('Pathway_1_Products.csv')"
   ]
  },
  {
   "cell_type": "code",
   "execution_count": null,
   "metadata": {
    "collapsed": false
   },
   "outputs": [],
   "source": [
    "print df.index.name\n",
    "print df.index.get_values()[0]\n"
   ]
  },
  {
   "cell_type": "code",
   "execution_count": null,
   "metadata": {
    "collapsed": false
   },
   "outputs": [],
   "source": [
    "# 223,217,396\n",
    "filter_col = [col for col in list(atlas_df) if 'Peak height' in col if '_P0_' in col if '223' in col]\n",
    "atlas_df['P0 Intensity'] = atlas_df[filter_col].max(axis=1)\n",
    "filter_col = [col for col in list(atlas_df) if 'Peak height' in col if '_P10_' in col if '223' in col]\n",
    "atlas_df['P10 Intensity'] = atlas_df[filter_col].max(axis=1)\n",
    "filter_col"
   ]
  },
  {
   "cell_type": "code",
   "execution_count": null,
   "metadata": {
    "collapsed": false
   },
   "outputs": [],
   "source": [
    "import matplotlib.pyplot as plt\n",
    "fig = plt.figure(figsize=(5,5))\n",
    "ax = fig.gca()\n",
    "plt.plot(atlas_df['P0 Intensity']+1,atlas_df['P10 Intensity']+1,'.',markersize=20)\n",
    "plt.xlabel('Wild Type')\n",
    "plt.ylabel('Engineered Strain')\n",
    "ax.set_xscale('log')\n",
    "ax.set_yscale('log')\n",
    "plt.show()"
   ]
  },
  {
   "cell_type": "code",
   "execution_count": null,
   "metadata": {
    "collapsed": false
   },
   "outputs": [],
   "source": [
    "df = atlas_df[(atlas_df['P0 Intensity']<1e5)]\n",
    "df = df.sort_values('P10 Intensity',ascending=False)\n",
    "df.head(20)"
   ]
  },
  {
   "cell_type": "code",
   "execution_count": null,
   "metadata": {
    "collapsed": false
   },
   "outputs": [],
   "source": [
    "print atlas_df.shape\n",
    "print myAtlas.name\n",
    "atlas_df.head()"
   ]
  },
  {
   "cell_type": "markdown",
   "metadata": {},
   "source": [
    "## Remove compounds from an atlas where peak height less than cutoff"
   ]
  },
  {
   "cell_type": "code",
   "execution_count": null,
   "metadata": {
    "collapsed": false
   },
   "outputs": [],
   "source": [
    "m = peak_height.max(axis=1)\n",
    "print len(m)\n"
   ]
  },
  {
   "cell_type": "markdown",
   "metadata": {},
   "source": [
    "# Ancient Codes and Partially Developed Tools"
   ]
  },
  {
   "cell_type": "code",
   "execution_count": null,
   "metadata": {
    "collapsed": true
   },
   "outputs": [],
   "source": [
    "### Store data to a pickle file\n",
    "# saved_filename = '/global/homes/b/bpb/Downloads/20160818_POS_MO_HEfungusonly_V1.pkl'\n",
    "# with open(output_filename,'w') as f:\n",
    "#     dill.dump(metatlas_dataset,f)\n",
    "\n",
    "### Load a pre-existing metatlas dataset  \n",
    "# metatlas_dataset = ma_data.get_dill_data(saved_filename)"
   ]
  },
  {
   "cell_type": "code",
   "execution_count": null,
   "metadata": {
    "collapsed": false,
    "scrolled": false
   },
   "outputs": [],
   "source": [
    "### copy files to $SCRATCH\n",
    "### You will likely never have to do this, but just in case, here is the code.\n",
    "# from shutil import copyfile\n",
    "# scratch = os.environ['SCRATCH']\n",
    "# for my_group in groups:\n",
    "#     for my_file in my_group.items:\n",
    "#         new_path = os.path.join(scratch,'temp_metatlas')\n",
    "#         if not os.path.isdir(new_path):\n",
    "#             os.mkdir(new_path)\n",
    "#         new_file = os.path.join(new_path,os.path.basename(my_file.hdf5_file))\n",
    "#         copyfile(my_file.hdf5_file, new_file)\n",
    "#         my_file.hdf5_file = new_file\n",
    "#         print my_file.hdf5_file"
   ]
  },
  {
   "cell_type": "code",
   "execution_count": null,
   "metadata": {
    "collapsed": false,
    "scrolled": false
   },
   "outputs": [],
   "source": [
    "# %matplotlib inline\n",
    "# dp = reload(dp)\n",
    "# pickles = ['/global/homes/b/bpb/Downloads/KZ_Avena_Exudate_atlases_and_groups_1/neg_data.pkl',\n",
    "#           '/global/homes/b/bpb/Downloads/KZ_Avena_Exudate_atlases_and_groups_1/pos_data.pkl',\n",
    "# '/global/homes/b/bpb/Downloads/KZ_Avena_Uptake_atlases_and_group_2/pos_data.pkl',\n",
    "# '/global/homes/b/bpb/Downloads/KZ_Avena_Uptake_atlases_and_group_2/neg_data.pkl']\n",
    "# for p in pickles:\n",
    "#     plot_location_label = p.split('.')[0]+'/'\n",
    "#     print plot_location_label\n",
    "#     if not os.path.exists(plot_location_label):\n",
    "#         os.makedirs(plot_location_label)\n",
    "#     metatlas_dataset = ma_data.get_dill_data(p)\n",
    "#     dp.make_identification_figure(input_dataset = metatlas_dataset, input_fname = p, include_lcmsruns = [],exclude_lcmsruns = ['RootCass','QC','Blank','blank'], output_loc=plot_location_label+'/identification')"
   ]
  },
  {
   "cell_type": "code",
   "execution_count": null,
   "metadata": {
    "collapsed": false,
    "scrolled": false
   },
   "outputs": [],
   "source": [
    "######### DO NOT USE #######\n",
    "# output_filename = '/global/homes/b/bpb/Downloads/20160531_KBL_C18_Vio_cells_384_Q_1_to_4.pkl'\n",
    "# data = dp.get_data_for_groups_and_atlas(groups,myAtlas,output_filename)\n",
    "############################"
   ]
  },
  {
   "cell_type": "code",
   "execution_count": null,
   "metadata": {
    "collapsed": false
   },
   "outputs": [],
   "source": [
    "######### DO NOT USE #######\n",
    "### THIS STILL NEEDS SOME REPAIRS ###\n",
    "# rt_corrector.display_atlases()\n",
    "### USE AT YOUR OWN RISK ###\n",
    "############################"
   ]
  },
  {
   "cell_type": "code",
   "execution_count": null,
   "metadata": {
    "collapsed": false
   },
   "outputs": [],
   "source": [
    "# msmls_files = metob.retrieve('Lcmsruns',experiment = '20161007_KBL_MPZHILIC3um_MSMLS_stds',name = '%pos%',username = '*')\n",
    "# print len(msmls_files)\n",
    "# kate_files = metob.retrieve('Lcmsruns',experiment = '20161007_KBL_MPZHILIC3um_KateStandards',name = '%pos%', username = '*')\n",
    "# print len(kate_files)\n",
    "# g = metob.Group()\n",
    "# g.name = '20161007_MP3umZHILIC_V12_POS_MetIDJamboree'\n",
    "# for f in msmls_files:\n",
    "#     g.items.append(f)\n",
    "# for f in kate_files:\n",
    "#     g.items.append(f)\n",
    "# metob.store([g])"
   ]
  },
  {
   "cell_type": "code",
   "execution_count": null,
   "metadata": {
    "collapsed": false
   },
   "outputs": [],
   "source": [
    "# Keep compounds that are removed and let the project know that this compound is below the intensity requirement.\n",
    "peak_height = dp.make_output_dataframe(input_fname = '',input_dataset = metatlas_dataset,include_lcmsruns = [],exclude_lcmsruns = [], fieldname='peak_height' , output_loc=os.path.join(output_dir,'sheets'))\n",
    "min_intensity = 1e5\n",
    "to_drop = []\n",
    "peak_height.max(axis=1) > min_intensity\n",
    "ids = [myAtlas.compound_identifications[i] for i,b in enumerate(peak_height.max(axis=1) > min_intensity) if b == True]\n",
    "print(len(ids))\n",
    "myAtlas.compound_identifications = ids\n",
    "metob.store(myAtlas)"
   ]
  },
  {
   "cell_type": "code",
   "execution_count": null,
   "metadata": {
    "collapsed": true
   },
   "outputs": [],
   "source": []
  }
 ],
 "metadata": {
  "anaconda-cloud": {},
  "kernelspec": {
   "display_name": "MetAtlas 2.7",
   "language": "python",
   "name": "metatlas"
  },
  "language_info": {
   "codemirror_mode": {
    "name": "ipython",
    "version": 2
   },
   "file_extension": ".py",
   "mimetype": "text/x-python",
   "name": "python",
   "nbconvert_exporter": "python",
   "pygments_lexer": "ipython2",
   "version": "2.7.13"
  }
 },
 "nbformat": 4,
 "nbformat_minor": 0
}
