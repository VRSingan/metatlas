{
 "cells": [
  {
   "cell_type": "markdown",
   "metadata": {},
   "source": [
    "<h1>Import Python Packages</h1>"
   ]
  },
  {
   "cell_type": "code",
   "execution_count": 1,
   "metadata": {
    "collapsed": false
   },
   "outputs": [
    {
     "name": "stdout",
     "output_type": "stream",
     "text": [
      "('Metatlas live in ', '/global/project/projectdirs/metatlas/anaconda/lib/python2.7/site-packages/metatlas')\n",
      "you're running on 072ec0638adb at 172.17.0.4 \n"
     ]
    },
    {
     "name": "stderr",
     "output_type": "stream",
     "text": [
      "/anaconda2/lib/python2.7/site-packages/IPython/html.py:14: ShimWarning: The `IPython.html` package has been deprecated. You should import from `notebook` instead. `IPython.html.widgets` has moved to `ipywidgets`.\n",
      "  \"`IPython.html.widgets` has moved to `ipywidgets`.\", ShimWarning)\n"
     ]
    }
   ],
   "source": [
    "import sys\n",
    "sys.path.insert(0,'/global/homes/b/bpb/metatlas/metatlas/helpers/' )\n",
    "import dill2plots as dp\n",
    "%matplotlib inline"
   ]
  },
  {
   "cell_type": "markdown",
   "metadata": {},
   "source": [
    "# Make blank file-info sheet"
   ]
  },
  {
   "cell_type": "markdown",
   "metadata": {},
   "source": [
    "Get files from database"
   ]
  },
  {
   "cell_type": "code",
   "execution_count": 2,
   "metadata": {
    "collapsed": false
   },
   "outputs": [],
   "source": [
    "#Experiment is your folder name\n",
    "#name is your file name\n",
    "files = dp.get_metatlas_files(experiment = '%angelo%',name = '%PA%',most_recent = True)"
   ]
  },
  {
   "cell_type": "code",
   "execution_count": 3,
   "metadata": {
    "collapsed": false
   },
   "outputs": [
    {
     "data": {
      "text/plain": [
       "344"
      ]
     },
     "execution_count": 3,
     "metadata": {},
     "output_type": "execute_result"
    }
   ],
   "source": [
    "len(files)"
   ]
  },
  {
   "cell_type": "markdown",
   "metadata": {},
   "source": [
    "Save the files to an empty fileinfo sheet"
   ]
  },
  {
   "cell_type": "code",
   "execution_count": null,
   "metadata": {
    "collapsed": false
   },
   "outputs": [],
   "source": [
    "dp.make_empty_fileinfo_sheet('/global/homes/b/bpb/Downloads/empty_ophelia_finfo.tab',files)"
   ]
  },
  {
   "cell_type": "markdown",
   "metadata": {},
   "source": [
    "# Create metatlas groups from filled in file-info sheet"
   ]
  },
  {
   "cell_type": "code",
   "execution_count": null,
   "metadata": {
    "collapsed": false
   },
   "outputs": [],
   "source": [
    "dp = reload(dp)\n",
    "g = dp.make_groups_from_fileinfo_sheet('/global/homes/b/bpb/Downloads/20160517_RL_HM_6550_HILIC_CA-MF-groups.csv',\n",
    "                                       filetype='csv',\n",
    "                                       store=False)"
   ]
  },
  {
   "cell_type": "markdown",
   "metadata": {},
   "source": [
    "# Create a new Atlas in metatlas from a spreadsheet"
   ]
  },
  {
   "cell_type": "code",
   "execution_count": null,
   "metadata": {
    "collapsed": true
   },
   "outputs": [],
   "source": [
    "names = dp.make_atlas_from_spreadsheet('/global/homes/b/bpb/Downloads/hedlund/Not_Found_BrianHedlund_Atlas_POS_using_MSMS.csv',\n",
    "                                       'hedlund_hilic_qexactive_pos_not observed',\n",
    "                                       filetype='csv',\n",
    "                                       sheetname='',\n",
    "                                       polarity = 'positive',\n",
    "                                       store=False,\n",
    "#                                        dataframe = df3,\n",
    "                                      mz_tolerance = 20)"
   ]
  },
  {
   "cell_type": "code",
   "execution_count": null,
   "metadata": {
    "collapsed": false
   },
   "outputs": [],
   "source": [
    "# import pandas as pd\n",
    "# path = '/global/homes/b/bpb/Downloads/hedlund/'\n",
    "# input_file = 'BrianHedlund_Atlas_POS_using_MSMS.csv'\n",
    "# df = pd.read_csv(path + input_file)\n",
    "# df.loc[df.name == 'Arsenobetaine','name'] = ''\n",
    "# output_file = 'Not_Found_' + input_file\n",
    "# print path+output_file\n",
    "# df[df.new_observed == 0][['name','label','rt_min','rt_max','rt_peak','mz','mz_tolerance']].to_csv(path+output_file)\n",
    "\n",
    "# output_file = 'RT_and_MSMS_' + input_file\n",
    "# print path+output_file\n",
    "# df[df.new_observed == 1][['name','label','rt_min','rt_max','rt_peak','mz','mz_tolerance']].to_csv(path+output_file)\n",
    "\n",
    "# output_file = 'RT_' + input_file\n",
    "# print path+output_file\n",
    "# df[df.new_observed == 2][['name','label','rt_min','rt_max','rt_peak','mz','mz_tolerance']].to_csv(path+output_file)"
   ]
  },
  {
   "cell_type": "code",
   "execution_count": null,
   "metadata": {
    "collapsed": false,
    "scrolled": false
   },
   "outputs": [],
   "source": [
    "# dp = reload(dp)\n",
    "# # df3 = dp.get_formatted_atlas_from_google_sheet(polarity='POS',method='QE_HILIC', mz_tolerance=10)\n",
    "# names = dp.make_atlas_from_spreadsheet('/global/homes/b/bpb/Downloads/hedlund/Not_Found_BrianHedlund_Atlas_POS_using_MSMS.csv',\n",
    "#                                        'hedlund_hilic_qexactive_pos_not observed',\n",
    "#                                        filetype='csv',\n",
    "#                                        sheetname='',\n",
    "#                                        polarity = 'positive',\n",
    "#                                        store=True,\n",
    "# #                                        dataframe = df3,\n",
    "#                                       mz_tolerance = 20)\n",
    "\n",
    "# names = dp.make_atlas_from_spreadsheet('/global/homes/b/bpb/Downloads/hedlund/RT_and_MSMS_BrianHedlund_Atlas_POS_using_MSMS.csv',\n",
    "#                                        'hedlund_hilic_qexactive_pos_present',\n",
    "#                                        filetype='csv',\n",
    "#                                        sheetname='',\n",
    "#                                        polarity = 'positive',\n",
    "#                                        store=True,\n",
    "# #                                        dataframe = df3,\n",
    "#                                       mz_tolerance = 20)\n",
    "\n",
    "# names = dp.make_atlas_from_spreadsheet('/global/homes/b/bpb/Downloads/hedlund/RT_BrianHedlund_Atlas_POS_using_MSMS.csv',\n",
    "#                                        'hedlund_hilic_qexactive_pos_maybe',\n",
    "#                                        filetype='csv',\n",
    "#                                        sheetname='',\n",
    "#                                        polarity = 'positive',\n",
    "#                                        store=True,\n",
    "# #                                        dataframe = df3,\n",
    "#                                       mz_tolerance = 20)\n",
    "\n",
    "# names = dp.make_atlas_from_spreadsheet('/global/homes/b/bpb/Downloads/hedlund/Not_Found_BrianHedlund_Atlas_NEG_using_MSMS.csv',\n",
    "#                                        'hedlund_hilic_qexactive_neg_not observed',\n",
    "#                                        filetype='csv',\n",
    "#                                        sheetname='',\n",
    "#                                        polarity = 'negative',\n",
    "#                                        store=True,\n",
    "# #                                        dataframe = df3,\n",
    "#                                       mz_tolerance = 20)\n",
    "\n",
    "# names = dp.make_atlas_from_spreadsheet('/global/homes/b/bpb/Downloads/hedlund/RT_and_MSMS_BrianHedlund_Atlas_NEG_using_MSMS.csv',\n",
    "#                                        'hedlund_hilic_qexactive_neg_present',\n",
    "#                                        filetype='csv',\n",
    "#                                        sheetname='',\n",
    "#                                        polarity = 'negative',\n",
    "#                                        store=True,\n",
    "# #                                        dataframe = df3,\n",
    "#                                       mz_tolerance = 20)\n",
    "\n",
    "# names = dp.make_atlas_from_spreadsheet('/global/homes/b/bpb/Downloads/hedlund/RT_BrianHedlund_Atlas_NEG_using_MSMS.csv',\n",
    "#                                        'hedlund_hilic_qexactive_neg_maybe',\n",
    "#                                        filetype='csv',\n",
    "#                                        sheetname='',\n",
    "#                                        polarity = 'negative',\n",
    "#                                        store=True,\n",
    "# #                                        dataframe = df3,\n",
    "#                                       mz_tolerance = 20)"
   ]
  },
  {
   "cell_type": "code",
   "execution_count": 1,
   "metadata": {
    "collapsed": false,
    "scrolled": false
   },
   "outputs": [],
   "source": [
    "# atlases = ['hedlund_hilic_qexactive_neg_not observed',\n",
    "#         'hedlund_hilic_qexactive_neg_present',\n",
    "#         'hedlund_hilic_qexactive_neg_maybe',\n",
    "#         'hedlund_hilic_qexactive_pos_not observed',\n",
    "#         'hedlund_hilic_qexactive_pos_maybe',\n",
    "#         'hedlund_hilic_qexactive_pos_present']\n",
    "\n",
    "\n",
    "# import os           \n",
    "\n",
    "# for a in atlases:\n",
    "# #     if 'neg' in a:\n",
    "# #         group_str = '%hedlund%neg%'\n",
    "# #     else:\n",
    "# #         group_str = '%hedlund%pos%'\n",
    "# #     groups = dp.select_groups_for_analysis(name = group_str, most_recent = True, remove_empty = True, filter_list = ['Set1'], exclude_list = ['QC','Blank'])\n",
    "        \n",
    "# #     atlas = dp.get_metatlas_atlas(name=a,do_print = True)\n",
    "    \n",
    "# #     TODO: Export the searched data instead of the atlas\n",
    "# #     df = dp.export_atlas_to_spreadsheet(atlas[0],'/global/homes/b/bpb/Downloads/hedlund/set1/%s.csv'%a)\n",
    "#     output_filename = '/global/homes/b/bpb/Downloads/hedlund/set1/pickle_%s.pkl'%a\n",
    "#     print output_filename\n",
    "# #     data = dp.get_data_for_groups_and_atlas(groups,atlas[0],output_filename,use_set1 = True)\n",
    "    \n",
    "#     my_str = os.path.basename(output_filename).split('.')[0].replace(' ','_').replace('pickle_hedlund_','')\n",
    "#     project_label = '/global/homes/b/bpb/Downloads/hedlund/set1/%s'%my_str\n",
    "#     print project_label\n",
    "#     peak_height = dp.make_output_dataframe(input_fname = output_filename, fieldname='peak_height' , output_loc=project_label+'/sheets')\n",
    "# #     peak_area = dp.make_output_dataframe(input_fname = output_filename, fieldname='peak_area' , output_loc=project_label+'/sheets')\n",
    "# #     rt_peak = dp.make_output_dataframe(input_fname = output_filename, fieldname='rt_peak' , output_loc=project_label+'/sheets')\n",
    "# #     mz_centroid = dp.make_output_dataframe(input_fname = output_filename, fieldname='mz_centroid' , output_loc=project_label+'/sheets')\n",
    "\n",
    "#     dp.plot_errorbar_plots(peak_height,input_fname = output_filename, output_loc=project_label+'/error_bar_peak_height')\n",
    "# #     dp.plot_all_files_for_each_compound(input_fname = output_filename, nCols = 6, scale_y=False , output_loc=project_label+'/all_files_each_compound')\n",
    "# #     dp.make_identification_figure(input_fname = output_filename, output_loc=project_label+'/identification')"
   ]
  },
  {
   "cell_type": "markdown",
   "metadata": {},
   "source": [
    "#Select groups of files to operate on"
   ]
  },
  {
   "cell_type": "code",
   "execution_count": null,
   "metadata": {
    "collapsed": false
   },
   "outputs": [],
   "source": [
    "dp = reload(dp)\n",
    "\n",
    "groups = dp.select_groups_for_analysis(name = '%RL_HM_6550_HILIC_20160517_%Neg',\n",
    "                                       most_recent = True,\n",
    "                                       remove_empty = True,\n",
    "                                       filter_list = [])#, exclude_list = ['QC','Blank'])\n",
    "# for g in groups:\n",
    "#     print g.name"
   ]
  },
  {
   "cell_type": "markdown",
   "metadata": {},
   "source": [
    "#Select Atlas to use"
   ]
  },
  {
   "cell_type": "code",
   "execution_count": 5,
   "metadata": {
    "collapsed": false
   },
   "outputs": [
    {
     "name": "stdout",
     "output_type": "stream",
     "text": [
      "0 50 RL_HM_6550_20160330_Neg_Hilic_Arkin_Ophelia 2016-04-05 14:34:53\n"
     ]
    }
   ],
   "source": [
    "dp = reload(dp)\n",
    "atlas = dp.get_metatlas_atlas(name='%RL_HM_%neg%',do_print = True)"
   ]
  },
  {
   "cell_type": "code",
   "execution_count": null,
   "metadata": {
    "collapsed": false
   },
   "outputs": [],
   "source": [
    "myAtlas = atlas[0]\n",
    "myAtlas.name"
   ]
  },
  {
   "cell_type": "markdown",
   "metadata": {},
   "source": [
    "#Export Atlas To Spreadsheet"
   ]
  },
  {
   "cell_type": "code",
   "execution_count": null,
   "metadata": {
    "collapsed": false,
    "scrolled": false
   },
   "outputs": [],
   "source": [
    "dp = reload(dp)\n",
    "df = dp.export_atlas_to_spreadsheet(myAtlas,'/global/homes/b/bpb/Downloads/ophelia_20160517/neg_atlas.csv',\n",
    "                                    compound_lookup='/project/projectdirs/metatlas/uniquecompounds.csv')\n",
    "df.head()"
   ]
  },
  {
   "cell_type": "markdown",
   "metadata": {},
   "source": [
    "#Get Data and Save it"
   ]
  },
  {
   "cell_type": "code",
   "execution_count": null,
   "metadata": {
    "collapsed": false,
    "scrolled": false
   },
   "outputs": [],
   "source": [
    "# get and pickle everything This is MSMS, raw MS1 datapoints, compound, group info, and file info\n",
    "# combine positive and negative mode atlas, by join atlases together vs two compound references\n",
    "# typically file-groups are NOT split by polarity, files with un-matched polarity will be discarded for analysis of an identification\n",
    "dp = reload(dp)\n",
    "output_filename = '/global/homes/b/bpb/Downloads/ophelia_20160517/neg_data.pkl'\n",
    "data = dp.get_data_for_groups_and_atlas(groups,myAtlas,output_filename,use_set1 = False)"
   ]
  },
  {
   "cell_type": "code",
   "execution_count": null,
   "metadata": {
    "collapsed": false
   },
   "outputs": [],
   "source": [
    "# my_files = ['/global/homes/b/bpb/data/hedlund/20160503_Bhedlund_pHILIC_POS_Present.pkl',\n",
    "#            '/global/homes/b/bpb/data/hedlund/20160503_Bhedlund_pHILIC_POS_Maybe.pkl',\n",
    "#            '/global/homes/b/bpb/data/hedlund/20160503_Bhedlund_pHILIC_POS_Not_Observed.pkl',\n",
    "#            '/global/homes/b/bpb/data/hedlund/20160503_Bhedlund_pHILIC_NEG_Present.pkl',\n",
    "#            '/global/homes/b/bpb/data/hedlund/20160503_Bhedlund_pHILIC_NEG_Maybe.pkl',\n",
    "#            '/global/homes/b/bpb/data/hedlund/20160503_Bhedlund_pHILIC_NEG_Not_Observed.pkl']\n",
    "my_files = ['/global/homes/b/bpb/Downloads/ophelia_20160517/neg_data.pkl',\n",
    "            '/global/homes/b/bpb/Downloads/ophelia_20160517/pos_data.pkl']\n",
    "import os           \n",
    "dp = reload(dp)\n",
    "for my_file in my_files:\n",
    "    project_label = '/global/homes/b/bpb/Downloads/ophelia_20160517/%s'%os.path.basename(my_file).split('.')[0]\n",
    "    peak_height = dp.make_output_dataframe(input_fname = my_file, fieldname='peak_height' , output_loc=project_label+'/sheets')\n",
    "    dp.plot_errorbar_plots(peak_height,input_fname = my_file, output_loc=project_label+'/error_bar_peak_height')\n",
    "    dp.plot_all_compounds_for_each_file(input_fname = my_file, nCols = 6, scale_y=True , output_loc=project_label+'/scaled_all_compounds_each_file')\n",
    "    dp.plot_all_files_for_each_compound(input_fname = my_file, nCols = 6, scale_y=True , output_loc=project_label+'/scaled_all_files_each_compound')\n",
    "    dp.plot_all_compounds_for_each_file(input_fname = my_file, nCols = 6, scale_y=False , output_loc=project_label+'/all_compounds_each_file')\n",
    "    dp.plot_all_files_for_each_compound(input_fname = my_file, nCols = 6, scale_y=False , output_loc=project_label+'/all_files_each_compound')\n",
    "    dp.make_identification_figure(input_fname = my_file, output_loc=project_label+'/identification')"
   ]
  },
  {
   "cell_type": "markdown",
   "metadata": {},
   "source": [
    "#Load a pre-existing datafile"
   ]
  },
  {
   "cell_type": "code",
   "execution_count": null,
   "metadata": {
    "collapsed": false
   },
   "outputs": [],
   "source": [
    "output_filename = '/global/homes/b/bpb/data/hedlund/20160503_Bhedlund_pHILIC_POS_Present.pkl'\n",
    "my_file = output_filename #'/global/homes/b/bpb/notebooks/MetAtlas_Workflow_20151123/20160420_Bhedlund_pHILIC_NEG_AllGroups_master_atlas.pkl'\n",
    "\n",
    "project_label = '/global/homes/b/bpb/Downloads/hedlund/TestIDFigs'"
   ]
  },
  {
   "cell_type": "markdown",
   "metadata": {},
   "source": [
    "#Make Supplementary Tables"
   ]
  },
  {
   "cell_type": "code",
   "execution_count": null,
   "metadata": {
    "collapsed": false
   },
   "outputs": [],
   "source": [
    "peak_height = dp.make_output_dataframe(input_fname = my_file, fieldname='peak_height' , output_loc=project_label+'/sheets')"
   ]
  },
  {
   "cell_type": "markdown",
   "metadata": {},
   "source": [
    "#Error bar"
   ]
  },
  {
   "cell_type": "code",
   "execution_count": null,
   "metadata": {
    "collapsed": false
   },
   "outputs": [],
   "source": [
    "dp.plot_errorbar_plots(peak_height,input_fname = my_file, output_loc=project_label+'/error_bar_peak_height')"
   ]
  },
  {
   "cell_type": "markdown",
   "metadata": {},
   "source": [
    "#Make Chromatograms"
   ]
  },
  {
   "cell_type": "code",
   "execution_count": null,
   "metadata": {
    "collapsed": false
   },
   "outputs": [],
   "source": [
    "dp = reload(dp)\n",
    "dp.plot_all_compounds_for_each_file(input_fname = my_file, \n",
    "                                    nCols = 8, \n",
    "                                    scale_y=True , \n",
    "                                    output_loc=project_label+'/scaled_all_compounds_each_file')\n",
    "dp.plot_all_files_for_each_compound(input_fname = my_file, nCols = 6, scale_y=True , output_loc=project_label+'/scaled_all_files_each_compound')\n",
    "dp.plot_all_compounds_for_each_file(input_fname = my_file, nCols = 8, scale_y=False , output_loc=project_label+'/all_compounds_each_file')\n",
    "dp.plot_all_files_for_each_compound(input_fname = my_file, nCols = 6, scale_y=False , output_loc=project_label+'/all_files_each_compound')"
   ]
  },
  {
   "cell_type": "markdown",
   "metadata": {},
   "source": [
    "#Make Identification Figures"
   ]
  },
  {
   "cell_type": "code",
   "execution_count": null,
   "metadata": {
    "collapsed": false
   },
   "outputs": [],
   "source": [
    "dp = reload(dp)\n",
    "dp.make_identification_figure(input_fname = my_file, output_loc=project_label+'/identification')"
   ]
  },
  {
   "cell_type": "code",
   "execution_count": null,
   "metadata": {
    "collapsed": true
   },
   "outputs": [],
   "source": []
  },
  {
   "cell_type": "code",
   "execution_count": null,
   "metadata": {
    "collapsed": true
   },
   "outputs": [],
   "source": []
  }
 ],
 "metadata": {
  "kernelspec": {
   "display_name": "Python 2",
   "language": "python",
   "name": "python2"
  },
  "language_info": {
   "codemirror_mode": {
    "name": "ipython",
    "version": 2
   },
   "file_extension": ".py",
   "mimetype": "text/x-python",
   "name": "python",
   "nbconvert_exporter": "python",
   "pygments_lexer": "ipython2",
   "version": "2.7.11"
  }
 },
 "nbformat": 4,
 "nbformat_minor": 0
}
