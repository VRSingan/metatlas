{
 "cells": [
  {
   "cell_type": "markdown",
   "metadata": {},
   "source": [
    "# 1. Import Python Packages"
   ]
  },
  {
   "cell_type": "code",
   "execution_count": 1,
   "metadata": {
    "collapsed": false
   },
   "outputs": [
    {
     "name": "stderr",
     "output_type": "stream",
     "text": [
      "/global/project/projectdirs/metatlas/anaconda/lib/python2.7/site-packages/matplotlib/__init__.py:1350: UserWarning:  This call to matplotlib.use() has no effect\n",
      "because the backend has already been chosen;\n",
      "matplotlib.use() must be called *before* pylab, matplotlib.pyplot,\n",
      "or matplotlib.backends is imported for the first time.\n",
      "\n",
      "  warnings.warn(_use_error_msg)\n"
     ]
    }
   ],
   "source": [
    "%matplotlib notebook\n",
    "import sys, os\n",
    "sys.path.insert(0,'/global/homes/b/bpb/metatlas')\n",
    "\n",
    "sys.path.insert(1,'/global/project/projectdirs/metatlas/anaconda/lib/python2.7/site-packages' )\n",
    "\n",
    "from metatlas.helpers import dill2plots as dp\n",
    "from metatlas.helpers import metatlas_get_data_helper_fun as ma_data\n",
    "from metatlas.helpers import rt_corrector as rt_corrector\n",
    "from metatlas.helpers import chromatograms_mp_plots as cp\n",
    "import metatlas.metatlas_objects as metob\n",
    "from metatlas.helpers import mzmine_helpers as mzm\n",
    "\n",
    "import qgrid\n",
    "\n",
    "from ipywidgets import interact, interactive, fixed\n",
    "import ipywidgets as widgets\n",
    "from IPython.display import display\n",
    "\n",
    "import time\n",
    "import dill\n",
    "import numpy as np\n",
    "import multiprocessing as mp\n",
    "import pandas as pd\n",
    "\n",
    "import matplotlib.pyplot as plot\n",
    "\n",
    "pd.set_option('display.max_rows', 5000)\n",
    "pd.set_option('display.max_columns', 500)\n",
    "pd.set_option('display.max_colwidth', 100)"
   ]
  },
  {
   "cell_type": "code",
   "execution_count": null,
   "metadata": {
    "collapsed": false
   },
   "outputs": [],
   "source": [
    "482.0797-1.007276\n"
   ]
  },
  {
   "cell_type": "code",
   "execution_count": null,
   "metadata": {
    "collapsed": false
   },
   "outputs": [],
   "source": [
    "cpds = metob.retrieve('Compounds',mono_isotopic_molecular_weight = '481.07%')"
   ]
  },
  {
   "cell_type": "code",
   "execution_count": null,
   "metadata": {
    "collapsed": false
   },
   "outputs": [],
   "source": [
    "for c in cpds:\n",
    "    print c.name,(c.mono_isotopic_molecular_weight-481.072424)/481*1e6"
   ]
  },
  {
   "cell_type": "markdown",
   "metadata": {},
   "source": [
    "# 2. Register LCMS Runs into categorical groups.\n",
    "\n",
    "* ### Select MetAtlas LCMS Runs by experiment and filename.  "
   ]
  },
  {
   "cell_type": "code",
   "execution_count": null,
   "metadata": {
    "collapsed": false
   },
   "outputs": [],
   "source": [
    "f = dp.interact_get_metatlas_files()"
   ]
  },
  {
   "cell_type": "markdown",
   "metadata": {},
   "source": [
    "* ### Create a \"File-Info\" sheet from the selected files.  \n",
    "This sheet needs to be downloaded and filled in.  The \"File-Info\" sheet is the exchange format we use to define the grouping membership for LCMS runs.\n"
   ]
  },
  {
   "cell_type": "code",
   "execution_count": null,
   "metadata": {
    "collapsed": false
   },
   "outputs": [],
   "source": [
    "dp.make_empty_fileinfo_sheet('/global/homes/b/bpb/Downloads/empty_finfo_20170130_SK-JG.tab',f.files)"
   ]
  },
  {
   "cell_type": "markdown",
   "metadata": {},
   "source": [
    "* ### Create metatlas groups from filled in file-info sheet\n",
    "Defining groups of files allows for the selection of sets of LCMS runs by specifying the group names.  In addition,  the group membership is preserved in the exported metatlas datasets; so the application of statistical methods based on grouped data is straightforward.\n",
    "\n",
    "Your filled in sheet will look something like this:\n",
    "<style type=\"text/css\">\n",
    "\ttable.tableizer-table {\n",
    "\t\tfont-size: 12px;\n",
    "\t\tborder: 1px solid #CCC; \n",
    "\t\tfont-family: Arial, Helvetica, sans-serif;\n",
    "\t} \n",
    "\t.tableizer-table td {\n",
    "\t\tpadding: 4px;\n",
    "\t\tmargin: 3px;\n",
    "\t\tborder: 1px solid #CCC;\n",
    "\t}\n",
    "\t.tableizer-table th {\n",
    "\t\tbackground-color: #104E8B; \n",
    "\t\tcolor: #FFF;\n",
    "\t\tfont-weight: bold;\n",
    "\t}\n",
    "</style>\n",
    "<table class=\"tableizer-table\">\n",
    "<thead><tr class=\"tableizer-firstrow\"><th>mzml_file</th><th>group</th><th>description</th></tr></thead><tbody>\n",
    " <tr><td>.../20160531_KBL_violacein_cells_384_final/20160531_C18_ACN_POS_MSMS_KBL_Qex_A_10_Run413.mzML</td><td>20160531_KBL_C18_Vio_cells_384_Quad_1</td><td>&nbsp;</td></tr>\n",
    " <tr><td>.../20160531_KBL_violacein_cells_384_final/20160531_C18_ACN_POS_MSMS_KBL_Qex_A_11_Run415.mzML</td><td>20160531_KBL_C18_Vio_cells_384_Quad_1</td><td>&nbsp;</td></tr>\n",
    " <tr><td>.../20160531_KBL_violacein_cells_384_final/20160531_C18_ACN_POS_MSMS_KBL_Qex_A_12_Run417.mzML</td><td>20160531_KBL_C18_Vio_cells_384_Quad_1</td><td>&nbsp;</td></tr>\n",
    " <tr><td>.../20160531_KBL_violacein_cells_384_final/20160531_C18_ACN_POS_MSMS_KBL_Qex_A_1_Run395.mzML</td><td>20160531_KBL_C18_Vio_cells_384_Quad_2</td><td>&nbsp;</td></tr>\n",
    " <tr><td>.../20160531_KBL_violacein_cells_384_final/20160531_C18_ACN_POS_MSMS_KBL_Qex_A_2_Run397.mzML</td><td>20160531_KBL_C18_Vio_cells_384_Quad_2</td><td>&nbsp;</td></tr>\n",
    " <tr><td>.../20160531_KBL_violacein_cells_384_final/20160531_C18_ACN_POS_MSMS_KBL_Qex_A_3_Run399.mzML</td><td>20160531_KBL_C18_Vio_cells_384_Quad_2</td><td></td></tr>\n",
    "</tbody></table>\n",
    "\n",
    "A text description of each group is an optional field.  These can be a few, short sentences that describe each group."
   ]
  },
  {
   "cell_type": "code",
   "execution_count": null,
   "metadata": {
    "collapsed": false
   },
   "outputs": [],
   "source": [
    "g = dp.make_groups_from_fileinfo_sheet('/global/homes/b/bpb/Downloads/20170130_Groups_JG.txt',\n",
    "                                       filetype='tab',\n",
    "                                       store=True)"
   ]
  },
  {
   "cell_type": "markdown",
   "metadata": {},
   "source": [
    "View the list of metatlas objects using \"to_dataframe\""
   ]
  },
  {
   "cell_type": "code",
   "execution_count": null,
   "metadata": {
    "collapsed": false
   },
   "outputs": [],
   "source": [
    "metob.to_dataframe(g).head()"
   ]
  },
  {
   "cell_type": "markdown",
   "metadata": {},
   "source": [
    "# 3. Create a new Atlas\n",
    "* ### From Google Doc Reference Data"
   ]
  },
  {
   "cell_type": "code",
   "execution_count": null,
   "metadata": {
    "collapsed": false,
    "scrolled": false
   },
   "outputs": [],
   "source": [
    "# dp = reload(dp)\n",
    "# atlas_sheet = dp.get_formatted_atlas_from_google_sheet(polarity='POS',\n",
    "#                                           method='QE119_ZIC-HILIC',\n",
    "#                                           mz_tolerance=10)"
   ]
  },
  {
   "cell_type": "code",
   "execution_count": null,
   "metadata": {
    "collapsed": false
   },
   "outputs": [],
   "source": [
    "# atlas_sheet.head()"
   ]
  },
  {
   "cell_type": "markdown",
   "metadata": {},
   "source": [
    "* ### From a pandas dataframe"
   ]
  },
  {
   "cell_type": "code",
   "execution_count": null,
   "metadata": {
    "collapsed": false,
    "scrolled": false
   },
   "outputs": [],
   "source": [
    "#\n",
    "# dp = reload(dp)\n",
    "# names = dp.make_atlas_from_spreadsheet('',\n",
    "#                                        '20161114_JGIQE_C18_ISTD_POS',\n",
    "#                                        filetype='dataframe',\n",
    "#                                        sheetname='',\n",
    "#                                        polarity = 'positive',\n",
    "#                                        store=True,\n",
    "#                                        dataframe = atlas_df,\n",
    "#                                       mz_tolerance = 10)"
   ]
  },
  {
   "cell_type": "markdown",
   "metadata": {},
   "source": [
    "* ### From a spreadsheet\n",
    "This is by far the most common way to create a new Atlas in Metabolite Atlas.  The columns the sheet must be exactly as what is seen here.  In cases where there isn't a compound in the database, the \"label\" field below is used.  Here is an example of what a sheet could look like.\n",
    "\n",
    "<style type=\"text/css\">\n",
    "\ttable.tableizer-table {\n",
    "\t\tfont-size: 12px;\n",
    "\t\tborder: 1px solid #CCC; \n",
    "\t\tfont-family: Arial, Helvetica, sans-serif;\n",
    "\t} \n",
    "\t.tableizer-table td {\n",
    "\t\tpadding: 4px;\n",
    "\t\tmargin: 3px;\n",
    "\t\tborder: 1px solid #CCC;\n",
    "\t}\n",
    "\t.tableizer-table th {\n",
    "\t\tbackground-color: #104E8B; \n",
    "\t\tcolor: #FFF;\n",
    "\t\tfont-weight: bold;\n",
    "\t}\n",
    "</style>\n",
    "<table class=\"tableizer-table\">\n",
    "<thead><tr class=\"tableizer-firstrow\"><th>label</th><th>rt_min</th><th>rt_max</th><th>rt_peak</th><th>mz</th><th>mz_tolerance</th><th>inchi_key</th></tr></thead><tbody>\n",
    " <tr><td>violacein </td><td>4.2</td><td>4.4</td><td>4.3</td><td>344.1036913</td><td>5</td><td>XAPNKXIRQFHCHN-QGOAFFKASA-N</td></tr>\n",
    " <tr><td>deoxyviolacein (iso1 - main)</td><td>4.75</td><td>4.9</td><td>4.8</td><td>328.1087767</td><td>5</td><td>OJUJNNKCVPCATE-QGOAFFKASA-N</td></tr>\n",
    " <tr><td>tryptophan</td><td>2.3</td><td>2.45</td><td>2.36</td><td>205.0978776</td><td>5</td><td>QIVBCDIJIAJPQS-VIFPVBQESA-N</td></tr>\n",
    " <tr><td>deoxychromoviridans</td><td>5.4</td><td>6</td><td>5.75</td><td>605.244821</td><td>5</td><td>&nbsp;</td></tr>\n",
    " <tr><td>chromoviridans</td><td>5.15</td><td>5.5</td><td>5.3</td><td>621.239736</td><td>5</td><td>&nbsp;</td></tr>\n",
    " <tr><td>ABMBA</td><td>4.72</td><td>4.88</td><td>4.8</td><td>229.9811</td><td>5</td><td>LCMZECCEEOQWLQ-UHFFFAOYSA-N</td></tr>\n",
    "</tbody></table>\n",
    "\n",
    "These tables can be csv or tab delimited text or excel spreadsheets.\n",
    "\n",
    "There is a <a href = 'https://drive.google.com/open?id=0BweRoDuGcsLBNkYtQUpjQ0ktZDg'> lookup table here </a> of all compounds to get the inchi_key.\n",
    "\n",
    "For old MetAtlas atlases, you can use Excel's \"vlookup\" function along with <a href = 'https://drive.google.com/open?id=0BweRoDuGcsLBQUxrRjgtbjhnSDg'> this lookup table </a> to map the old names to valid inchi keys.\n",
    "\n",
    "```\n",
    "=VLOOKUP(H2,$A:$B,2,0) where $A:$B are columns containing name and inchi-key\n",
    "```\n",
    "\n",
    "This is a <a href = 'https://drive.google.com/open?id=0BweRoDuGcsLBaThjcEZuSjh2dXM'> link </a> to all the old compound identifications that were in the database prior to the refactoring in Mid June, 2016.\n"
   ]
  },
  {
   "cell_type": "code",
   "execution_count": null,
   "metadata": {
    "collapsed": false
   },
   "outputs": [],
   "source": [
    "myAtlas.name"
   ]
  },
  {
   "cell_type": "code",
   "execution_count": null,
   "metadata": {
    "collapsed": false,
    "scrolled": true
   },
   "outputs": [],
   "source": [
    "dp = reload(dp)\n",
    "names = dp.make_atlas_from_spreadsheet('/global/homes/b/bpb/Downloads/ema_neg_hilic_atlas_for_users_50447.csv',\n",
    "                                       'ema_neg_hilic_50447_200A_3p5_um_20170224',\n",
    "                                       filetype='csv',\n",
    "                                       sheetname='',\n",
    "                                       polarity = 'negative',\n",
    "                                       store=True,\n",
    "                                      mz_tolerance = 20)\n",
    "\n",
    "#Workaround if your atlas is so big that you can't store/retrieve it\n",
    "myAtlas = names\n",
    "#atlas_df = ma_data.make_atlas_df(myAtlas)\n",
    "#print myAtlas.name\n",
    "#print myAtlas.username\n",
    "\n",
    "# 0 73 2016019_metalas_KZ_Ave_uptake_qxqct_hilic_updated_pos_V2 2016-07-26 17:31:26\n",
    "# 1 69 201500826_KZ_Ave_library_qxqct_hilic_pos_V2 2016-07-26 18:17:32\n",
    "# 2 93 201500826_KZ_Ave_library_qxqct_hilic_neg_V2 2016-07-26 18:14:40\n",
    "# 3 106 2016019_metatlas_KZ_Ave_uptake_qxqct_hilic_updated_neg_V2 2016-07-26 18:02:34\n",
    "        "
   ]
  },
  {
   "cell_type": "code",
   "execution_count": null,
   "metadata": {
    "collapsed": true
   },
   "outputs": [],
   "source": [
    "metob.store([myAtlas])"
   ]
  },
  {
   "cell_type": "code",
   "execution_count": null,
   "metadata": {
    "collapsed": false
   },
   "outputs": [],
   "source": [
    "myAtlas.name"
   ]
  },
  {
   "cell_type": "markdown",
   "metadata": {},
   "source": [
    "* ### Use interactive interface to build atlas from spreadsheet"
   ]
  },
  {
   "cell_type": "code",
   "execution_count": null,
   "metadata": {
    "collapsed": false
   },
   "outputs": [],
   "source": [
    "###### CURRENTLY UNDER DEVELOPMENT/TESTING #######\n",
    "# %system cat /project/projectdirs/metatlas/anaconda/lib/python2.7/site-packages/IPython/html.py\n",
    "# /html/static/style/ipython.min.css\n",
    "# .widget-hlabel{min-width:10ex;padding-right:8px;padding-top:3px;text-align:right;vertical-align:text-top}\n",
    "from IPython.display import HTML, display\n",
    "display(HTML('''<style>\n",
    "    .widget-label { min-width: 20ex !important; }\n",
    "</style>'''))\n",
    "dp = reload(dp)\n",
    "names = interact(dp.make_atlas_from_spreadsheet,__manual=True,)\n",
    "##################################################"
   ]
  },
  {
   "cell_type": "markdown",
   "metadata": {},
   "source": [
    "# 4. Select groups of files to operate on"
   ]
  },
  {
   "cell_type": "code",
   "execution_count": 2,
   "metadata": {
    "collapsed": false
   },
   "outputs": [
    {
     "name": "stdout",
     "output_type": "stream",
     "text": [
      "3\n",
      "(0, u'20160413_Bhedlund_pHILIC_POS_GBS_Med_Ctrl_Set1', datetime.datetime(2016, 4, 14, 17, 59, 38))\n",
      "(1, u'20160413_Bhedlund_pHILIC_POS_JAD2_GBS_Set1', datetime.datetime(2016, 4, 14, 17, 59, 26))\n",
      "(2, u'20160413_Bhedlund_pHILIC_POS_GBS_Med_inc_Set1', datetime.datetime(2016, 4, 14, 17, 59, 22))\n"
     ]
    }
   ],
   "source": [
    "dp = reload(dp)\n",
    "# group_names_to_remove = pd.read_csv('/global/homes/b/bpb/Downloads/pks_files_to_remove.csv')['group'].tolist()\n",
    "\n",
    "groups = dp.select_groups_for_analysis(name = '20160413%POS%GBS%Set1',\n",
    "                                       most_recent = True,\n",
    "                                       remove_empty = True,#'Strain=SB214'\n",
    "                                       include_list = [], exclude_list = ['4O','32'])#['QC','Blank'])\n"
   ]
  },
  {
   "cell_type": "markdown",
   "metadata": {},
   "source": [
    "# 5. Select Atlas to use\n",
    "* ### Select by Atlas name"
   ]
  },
  {
   "cell_type": "code",
   "execution_count": null,
   "metadata": {
    "collapsed": false,
    "scrolled": false
   },
   "outputs": [],
   "source": [
    "#default ema atlas: EMA_pos%50447%\n",
    "atlases = metob.retrieve('Atlas',name='ema_pos_hilic_50447_200A_3p5_um_20170224',username='bpb')\n",
    "# atlases = metob.retrieve('Atlas',name='SK-ZZ-MAIZE-HILIC-NEG-EMA50447',username='*')\n",
    "names = []\n",
    "for i,a in enumerate(atlases):\n",
    "    print(i,a.name,pd.to_datetime(a.last_modified,unit='s'))#len(a.compound_identifications)\n"
   ]
  },
  {
   "cell_type": "code",
   "execution_count": null,
   "metadata": {
    "collapsed": false
   },
   "outputs": [],
   "source": [
    "print atlases[0].compound_identifications[3].name\n",
    "atlases[0].compound_identifications[3].rt_references[0].rt_peak"
   ]
  },
  {
   "cell_type": "markdown",
   "metadata": {},
   "source": [
    "### Alternative way to get atlas"
   ]
  },
  {
   "cell_type": "code",
   "execution_count": 3,
   "metadata": {
    "collapsed": false,
    "scrolled": false
   },
   "outputs": [
    {
     "name": "stdout",
     "output_type": "stream",
     "text": [
      "(0, 109, u'SK-ZZ-MAIZE-HILIC-POS-EMA50447', datetime.datetime(2017, 3, 8, 0, 56, 45))\n"
     ]
    }
   ],
   "source": [
    "atlases = dp.get_metatlas_atlas(name='SK-ZZ-MAIZE-HILIC-POS-EMA50447',do_print = True,most_recent=True)\n",
    "#201500826_KZ_Ave_library_qxqct_hilic_pos_V2\n",
    "#20161007_MP3umZHILIC_V12_NEG_MetIDJamboree\n",
    "# 20161104_POS_ZHILIC3um_SmallAtlas_KBL_V1\n",
    "# 20161114_JGIQE_C18_ISTD_POS"
   ]
  },
  {
   "cell_type": "markdown",
   "metadata": {},
   "source": [
    "* ### A list of atlases is returned by the cell above.  \n",
    "\n",
    "* You must run the following cell to specify which Atlas you want to continue your analysis with (Even if only a single atlas is returned).\n",
    "\n",
    "* Make a dataframe from your atlas.  Required for the new, faster data slicer"
   ]
  },
  {
   "cell_type": "code",
   "execution_count": 4,
   "metadata": {
    "collapsed": false
   },
   "outputs": [
    {
     "name": "stdout",
     "output_type": "stream",
     "text": [
      "SK-ZZ-MAIZE-HILIC-POS-EMA50447\n",
      "bpb\n"
     ]
    }
   ],
   "source": [
    "myAtlas = atlases[0]\n",
    "atlas_df = ma_data.make_atlas_df(myAtlas)\n",
    "print myAtlas.name\n",
    "print myAtlas.username"
   ]
  },
  {
   "cell_type": "markdown",
   "metadata": {},
   "source": [
    "### Change the atlases name"
   ]
  },
  {
   "cell_type": "code",
   "execution_count": null,
   "metadata": {
    "collapsed": false
   },
   "outputs": [],
   "source": [
    "myAtlas.name = 'SK-ZZ-MAIZE-HILIC-NEG-EMA50447'"
   ]
  },
  {
   "cell_type": "markdown",
   "metadata": {},
   "source": [
    "### Adjust RT using y = m x + b approach"
   ]
  },
  {
   "cell_type": "code",
   "execution_count": null,
   "metadata": {
    "collapsed": true
   },
   "outputs": [],
   "source": [
    "m = 0.99\n",
    "b = 0.346\n",
    "extra_rt = 0.2\n",
    "for i,cpd_id in enumerate(myAtlas.compound_identifications):\n",
    "    rt_min = myAtlas.compound_identifications[i].rt_references[0].rt_min\n",
    "    rt_max = myAtlas.compound_identifications[i].rt_references[0].rt_max\n",
    "    rt_peak = myAtlas.compound_identifications[i].rt_references[0].rt_peak\n",
    "    myAtlas.compound_identifications[i].rt_references[0].rt_min = m * rt_min + b - extra_rt\n",
    "    myAtlas.compound_identifications[i].rt_references[0].rt_peak = m * rt_peak + b\n",
    "    myAtlas.compound_identifications[i].rt_references[0].rt_max = m * rt_max + b + extra_rt"
   ]
  },
  {
   "cell_type": "markdown",
   "metadata": {},
   "source": [
    "### Store the updated Atlas"
   ]
  },
  {
   "cell_type": "code",
   "execution_count": null,
   "metadata": {
    "collapsed": true
   },
   "outputs": [],
   "source": [
    "metob.store([myAtlas])"
   ]
  },
  {
   "cell_type": "markdown",
   "metadata": {},
   "source": [
    "### Take a look at the selected atlas"
   ]
  },
  {
   "cell_type": "markdown",
   "metadata": {},
   "source": [
    "### View only the first few lines\n",
    "* Remove the \".head()\" to show the whole thing\n",
    "* Put a number in the \".head()\" to show number of rows\n",
    "* Edit set_option to configure display:\n",
    "* More options available here:\n",
    "http://pandas.pydata.org/pandas-docs/stable/generated/pandas.set_option.html"
   ]
  },
  {
   "cell_type": "markdown",
   "metadata": {},
   "source": [
    "### View the atlas as a qgrid widget (good for widescreen displays)"
   ]
  },
  {
   "cell_type": "code",
   "execution_count": null,
   "metadata": {
    "collapsed": false
   },
   "outputs": [],
   "source": [
    "compound_grid = qgrid.QGridWidget(df=atlas_df)#,set_grid_option={'show_toolbar',True})\n",
    "compound_grid.export()"
   ]
  },
  {
   "cell_type": "markdown",
   "metadata": {},
   "source": [
    "### View the atlas as a pandas dataframe (tweak the pandas display options to fit)\n",
    "* More options available here:\n",
    "http://pandas.pydata.org/pandas-docs/stable/generated/pandas.set_option.html"
   ]
  },
  {
   "cell_type": "code",
   "execution_count": null,
   "metadata": {
    "collapsed": false,
    "scrolled": true
   },
   "outputs": [],
   "source": [
    "pd.set_option('display.max_rows', 500)\n",
    "pd.set_option('display.max_columns', 500)\n",
    "pd.set_option('display.max_colwidth', 100)\n",
    "atlas_df.head(8000)"
   ]
  },
  {
   "cell_type": "markdown",
   "metadata": {},
   "source": [
    "# 6. Get Data"
   ]
  },
  {
   "cell_type": "markdown",
   "metadata": {},
   "source": [
    "### Much faster data getting script"
   ]
  },
  {
   "cell_type": "code",
   "execution_count": 5,
   "metadata": {
    "collapsed": false,
    "scrolled": false
   },
   "outputs": [
    {
     "name": "stdout",
     "output_type": "stream",
     "text": [
      "8.21357893944\n"
     ]
    }
   ],
   "source": [
    "all_files = []\n",
    "for my_group in groups:\n",
    "    for my_file in my_group.items:\n",
    "        all_files.append((my_file,my_group,atlas_df,myAtlas))\n",
    "        \n",
    "pool = mp.Pool(processes=min(60, len(all_files)))\n",
    "# from metatlas.helpers.metatlas_get_data_helper_fun import get_data_for_atlas_df_and_file\n",
    "t0 = time.time()\n",
    "metatlas_dataset = pool.map(ma_data.get_data_for_atlas_df_and_file, all_files)\n",
    "pool.close()\n",
    "pool.terminate()\n",
    "#If you're code crashes here, make sure to terminate any processes left open.\n",
    "print time.time() - t0\n"
   ]
  },
  {
   "cell_type": "markdown",
   "metadata": {},
   "source": [
    "# 7a. Adjust Retention Times.  "
   ]
  },
  {
   "cell_type": "code",
   "execution_count": null,
   "metadata": {
    "collapsed": false
   },
   "outputs": [],
   "source": [
    "atlas_df.shape"
   ]
  },
  {
   "cell_type": "code",
   "execution_count": 6,
   "metadata": {
    "collapsed": false,
    "scrolled": false
   },
   "outputs": [
    {
     "data": {
      "application/javascript": [
       "/* Put everything inside the global mpl namespace */\n",
       "window.mpl = {};\n",
       "\n",
       "mpl.get_websocket_type = function() {\n",
       "    if (typeof(WebSocket) !== 'undefined') {\n",
       "        return WebSocket;\n",
       "    } else if (typeof(MozWebSocket) !== 'undefined') {\n",
       "        return MozWebSocket;\n",
       "    } else {\n",
       "        alert('Your browser does not have WebSocket support.' +\n",
       "              'Please try Chrome, Safari or Firefox ≥ 6. ' +\n",
       "              'Firefox 4 and 5 are also supported but you ' +\n",
       "              'have to enable WebSockets in about:config.');\n",
       "    };\n",
       "}\n",
       "\n",
       "mpl.figure = function(figure_id, websocket, ondownload, parent_element) {\n",
       "    this.id = figure_id;\n",
       "\n",
       "    this.ws = websocket;\n",
       "\n",
       "    this.supports_binary = (this.ws.binaryType != undefined);\n",
       "\n",
       "    if (!this.supports_binary) {\n",
       "        var warnings = document.getElementById(\"mpl-warnings\");\n",
       "        if (warnings) {\n",
       "            warnings.style.display = 'block';\n",
       "            warnings.textContent = (\n",
       "                \"This browser does not support binary websocket messages. \" +\n",
       "                    \"Performance may be slow.\");\n",
       "        }\n",
       "    }\n",
       "\n",
       "    this.imageObj = new Image();\n",
       "\n",
       "    this.context = undefined;\n",
       "    this.message = undefined;\n",
       "    this.canvas = undefined;\n",
       "    this.rubberband_canvas = undefined;\n",
       "    this.rubberband_context = undefined;\n",
       "    this.format_dropdown = undefined;\n",
       "\n",
       "    this.image_mode = 'full';\n",
       "\n",
       "    this.root = $('<div/>');\n",
       "    this._root_extra_style(this.root)\n",
       "    this.root.attr('style', 'display: inline-block');\n",
       "\n",
       "    $(parent_element).append(this.root);\n",
       "\n",
       "    this._init_header(this);\n",
       "    this._init_canvas(this);\n",
       "    this._init_toolbar(this);\n",
       "\n",
       "    var fig = this;\n",
       "\n",
       "    this.waiting = false;\n",
       "\n",
       "    this.ws.onopen =  function () {\n",
       "            fig.send_message(\"supports_binary\", {value: fig.supports_binary});\n",
       "            fig.send_message(\"send_image_mode\", {});\n",
       "            fig.send_message(\"refresh\", {});\n",
       "        }\n",
       "\n",
       "    this.imageObj.onload = function() {\n",
       "            if (fig.image_mode == 'full') {\n",
       "                // Full images could contain transparency (where diff images\n",
       "                // almost always do), so we need to clear the canvas so that\n",
       "                // there is no ghosting.\n",
       "                fig.context.clearRect(0, 0, fig.canvas.width, fig.canvas.height);\n",
       "            }\n",
       "            fig.context.drawImage(fig.imageObj, 0, 0);\n",
       "        };\n",
       "\n",
       "    this.imageObj.onunload = function() {\n",
       "        this.ws.close();\n",
       "    }\n",
       "\n",
       "    this.ws.onmessage = this._make_on_message_function(this);\n",
       "\n",
       "    this.ondownload = ondownload;\n",
       "}\n",
       "\n",
       "mpl.figure.prototype._init_header = function() {\n",
       "    var titlebar = $(\n",
       "        '<div class=\"ui-dialog-titlebar ui-widget-header ui-corner-all ' +\n",
       "        'ui-helper-clearfix\"/>');\n",
       "    var titletext = $(\n",
       "        '<div class=\"ui-dialog-title\" style=\"width: 100%; ' +\n",
       "        'text-align: center; padding: 3px;\"/>');\n",
       "    titlebar.append(titletext)\n",
       "    this.root.append(titlebar);\n",
       "    this.header = titletext[0];\n",
       "}\n",
       "\n",
       "\n",
       "\n",
       "mpl.figure.prototype._canvas_extra_style = function(canvas_div) {\n",
       "\n",
       "}\n",
       "\n",
       "\n",
       "mpl.figure.prototype._root_extra_style = function(canvas_div) {\n",
       "\n",
       "}\n",
       "\n",
       "mpl.figure.prototype._init_canvas = function() {\n",
       "    var fig = this;\n",
       "\n",
       "    var canvas_div = $('<div/>');\n",
       "\n",
       "    canvas_div.attr('style', 'position: relative; clear: both; outline: 0');\n",
       "\n",
       "    function canvas_keyboard_event(event) {\n",
       "        return fig.key_event(event, event['data']);\n",
       "    }\n",
       "\n",
       "    canvas_div.keydown('key_press', canvas_keyboard_event);\n",
       "    canvas_div.keyup('key_release', canvas_keyboard_event);\n",
       "    this.canvas_div = canvas_div\n",
       "    this._canvas_extra_style(canvas_div)\n",
       "    this.root.append(canvas_div);\n",
       "\n",
       "    var canvas = $('<canvas/>');\n",
       "    canvas.addClass('mpl-canvas');\n",
       "    canvas.attr('style', \"left: 0; top: 0; z-index: 0; outline: 0\")\n",
       "\n",
       "    this.canvas = canvas[0];\n",
       "    this.context = canvas[0].getContext(\"2d\");\n",
       "\n",
       "    var rubberband = $('<canvas/>');\n",
       "    rubberband.attr('style', \"position: absolute; left: 0; top: 0; z-index: 1;\")\n",
       "\n",
       "    var pass_mouse_events = true;\n",
       "\n",
       "    canvas_div.resizable({\n",
       "        start: function(event, ui) {\n",
       "            pass_mouse_events = false;\n",
       "        },\n",
       "        resize: function(event, ui) {\n",
       "            fig.request_resize(ui.size.width, ui.size.height);\n",
       "        },\n",
       "        stop: function(event, ui) {\n",
       "            pass_mouse_events = true;\n",
       "            fig.request_resize(ui.size.width, ui.size.height);\n",
       "        },\n",
       "    });\n",
       "\n",
       "    function mouse_event_fn(event) {\n",
       "        if (pass_mouse_events)\n",
       "            return fig.mouse_event(event, event['data']);\n",
       "    }\n",
       "\n",
       "    rubberband.mousedown('button_press', mouse_event_fn);\n",
       "    rubberband.mouseup('button_release', mouse_event_fn);\n",
       "    // Throttle sequential mouse events to 1 every 20ms.\n",
       "    rubberband.mousemove('motion_notify', mouse_event_fn);\n",
       "\n",
       "    rubberband.mouseenter('figure_enter', mouse_event_fn);\n",
       "    rubberband.mouseleave('figure_leave', mouse_event_fn);\n",
       "\n",
       "    canvas_div.on(\"wheel\", function (event) {\n",
       "        event = event.originalEvent;\n",
       "        event['data'] = 'scroll'\n",
       "        if (event.deltaY < 0) {\n",
       "            event.step = 1;\n",
       "        } else {\n",
       "            event.step = -1;\n",
       "        }\n",
       "        mouse_event_fn(event);\n",
       "    });\n",
       "\n",
       "    canvas_div.append(canvas);\n",
       "    canvas_div.append(rubberband);\n",
       "\n",
       "    this.rubberband = rubberband;\n",
       "    this.rubberband_canvas = rubberband[0];\n",
       "    this.rubberband_context = rubberband[0].getContext(\"2d\");\n",
       "    this.rubberband_context.strokeStyle = \"#000000\";\n",
       "\n",
       "    this._resize_canvas = function(width, height) {\n",
       "        // Keep the size of the canvas, canvas container, and rubber band\n",
       "        // canvas in synch.\n",
       "        canvas_div.css('width', width)\n",
       "        canvas_div.css('height', height)\n",
       "\n",
       "        canvas.attr('width', width);\n",
       "        canvas.attr('height', height);\n",
       "\n",
       "        rubberband.attr('width', width);\n",
       "        rubberband.attr('height', height);\n",
       "    }\n",
       "\n",
       "    // Set the figure to an initial 600x600px, this will subsequently be updated\n",
       "    // upon first draw.\n",
       "    this._resize_canvas(600, 600);\n",
       "\n",
       "    // Disable right mouse context menu.\n",
       "    $(this.rubberband_canvas).bind(\"contextmenu\",function(e){\n",
       "        return false;\n",
       "    });\n",
       "\n",
       "    function set_focus () {\n",
       "        canvas.focus();\n",
       "        canvas_div.focus();\n",
       "    }\n",
       "\n",
       "    window.setTimeout(set_focus, 100);\n",
       "}\n",
       "\n",
       "mpl.figure.prototype._init_toolbar = function() {\n",
       "    var fig = this;\n",
       "\n",
       "    var nav_element = $('<div/>')\n",
       "    nav_element.attr('style', 'width: 100%');\n",
       "    this.root.append(nav_element);\n",
       "\n",
       "    // Define a callback function for later on.\n",
       "    function toolbar_event(event) {\n",
       "        return fig.toolbar_button_onclick(event['data']);\n",
       "    }\n",
       "    function toolbar_mouse_event(event) {\n",
       "        return fig.toolbar_button_onmouseover(event['data']);\n",
       "    }\n",
       "\n",
       "    for(var toolbar_ind in mpl.toolbar_items) {\n",
       "        var name = mpl.toolbar_items[toolbar_ind][0];\n",
       "        var tooltip = mpl.toolbar_items[toolbar_ind][1];\n",
       "        var image = mpl.toolbar_items[toolbar_ind][2];\n",
       "        var method_name = mpl.toolbar_items[toolbar_ind][3];\n",
       "\n",
       "        if (!name) {\n",
       "            // put a spacer in here.\n",
       "            continue;\n",
       "        }\n",
       "        var button = $('<button/>');\n",
       "        button.addClass('ui-button ui-widget ui-state-default ui-corner-all ' +\n",
       "                        'ui-button-icon-only');\n",
       "        button.attr('role', 'button');\n",
       "        button.attr('aria-disabled', 'false');\n",
       "        button.click(method_name, toolbar_event);\n",
       "        button.mouseover(tooltip, toolbar_mouse_event);\n",
       "\n",
       "        var icon_img = $('<span/>');\n",
       "        icon_img.addClass('ui-button-icon-primary ui-icon');\n",
       "        icon_img.addClass(image);\n",
       "        icon_img.addClass('ui-corner-all');\n",
       "\n",
       "        var tooltip_span = $('<span/>');\n",
       "        tooltip_span.addClass('ui-button-text');\n",
       "        tooltip_span.html(tooltip);\n",
       "\n",
       "        button.append(icon_img);\n",
       "        button.append(tooltip_span);\n",
       "\n",
       "        nav_element.append(button);\n",
       "    }\n",
       "\n",
       "    var fmt_picker_span = $('<span/>');\n",
       "\n",
       "    var fmt_picker = $('<select/>');\n",
       "    fmt_picker.addClass('mpl-toolbar-option ui-widget ui-widget-content');\n",
       "    fmt_picker_span.append(fmt_picker);\n",
       "    nav_element.append(fmt_picker_span);\n",
       "    this.format_dropdown = fmt_picker[0];\n",
       "\n",
       "    for (var ind in mpl.extensions) {\n",
       "        var fmt = mpl.extensions[ind];\n",
       "        var option = $(\n",
       "            '<option/>', {selected: fmt === mpl.default_extension}).html(fmt);\n",
       "        fmt_picker.append(option)\n",
       "    }\n",
       "\n",
       "    // Add hover states to the ui-buttons\n",
       "    $( \".ui-button\" ).hover(\n",
       "        function() { $(this).addClass(\"ui-state-hover\");},\n",
       "        function() { $(this).removeClass(\"ui-state-hover\");}\n",
       "    );\n",
       "\n",
       "    var status_bar = $('<span class=\"mpl-message\"/>');\n",
       "    nav_element.append(status_bar);\n",
       "    this.message = status_bar[0];\n",
       "}\n",
       "\n",
       "mpl.figure.prototype.request_resize = function(x_pixels, y_pixels) {\n",
       "    // Request matplotlib to resize the figure. Matplotlib will then trigger a resize in the client,\n",
       "    // which will in turn request a refresh of the image.\n",
       "    this.send_message('resize', {'width': x_pixels, 'height': y_pixels});\n",
       "}\n",
       "\n",
       "mpl.figure.prototype.send_message = function(type, properties) {\n",
       "    properties['type'] = type;\n",
       "    properties['figure_id'] = this.id;\n",
       "    this.ws.send(JSON.stringify(properties));\n",
       "}\n",
       "\n",
       "mpl.figure.prototype.send_draw_message = function() {\n",
       "    if (!this.waiting) {\n",
       "        this.waiting = true;\n",
       "        this.ws.send(JSON.stringify({type: \"draw\", figure_id: this.id}));\n",
       "    }\n",
       "}\n",
       "\n",
       "\n",
       "mpl.figure.prototype.handle_save = function(fig, msg) {\n",
       "    var format_dropdown = fig.format_dropdown;\n",
       "    var format = format_dropdown.options[format_dropdown.selectedIndex].value;\n",
       "    fig.ondownload(fig, format);\n",
       "}\n",
       "\n",
       "\n",
       "mpl.figure.prototype.handle_resize = function(fig, msg) {\n",
       "    var size = msg['size'];\n",
       "    if (size[0] != fig.canvas.width || size[1] != fig.canvas.height) {\n",
       "        fig._resize_canvas(size[0], size[1]);\n",
       "        fig.send_message(\"refresh\", {});\n",
       "    };\n",
       "}\n",
       "\n",
       "mpl.figure.prototype.handle_rubberband = function(fig, msg) {\n",
       "    var x0 = msg['x0'];\n",
       "    var y0 = fig.canvas.height - msg['y0'];\n",
       "    var x1 = msg['x1'];\n",
       "    var y1 = fig.canvas.height - msg['y1'];\n",
       "    x0 = Math.floor(x0) + 0.5;\n",
       "    y0 = Math.floor(y0) + 0.5;\n",
       "    x1 = Math.floor(x1) + 0.5;\n",
       "    y1 = Math.floor(y1) + 0.5;\n",
       "    var min_x = Math.min(x0, x1);\n",
       "    var min_y = Math.min(y0, y1);\n",
       "    var width = Math.abs(x1 - x0);\n",
       "    var height = Math.abs(y1 - y0);\n",
       "\n",
       "    fig.rubberband_context.clearRect(\n",
       "        0, 0, fig.canvas.width, fig.canvas.height);\n",
       "\n",
       "    fig.rubberband_context.strokeRect(min_x, min_y, width, height);\n",
       "}\n",
       "\n",
       "mpl.figure.prototype.handle_figure_label = function(fig, msg) {\n",
       "    // Updates the figure title.\n",
       "    fig.header.textContent = msg['label'];\n",
       "}\n",
       "\n",
       "mpl.figure.prototype.handle_cursor = function(fig, msg) {\n",
       "    var cursor = msg['cursor'];\n",
       "    switch(cursor)\n",
       "    {\n",
       "    case 0:\n",
       "        cursor = 'pointer';\n",
       "        break;\n",
       "    case 1:\n",
       "        cursor = 'default';\n",
       "        break;\n",
       "    case 2:\n",
       "        cursor = 'crosshair';\n",
       "        break;\n",
       "    case 3:\n",
       "        cursor = 'move';\n",
       "        break;\n",
       "    }\n",
       "    fig.rubberband_canvas.style.cursor = cursor;\n",
       "}\n",
       "\n",
       "mpl.figure.prototype.handle_message = function(fig, msg) {\n",
       "    fig.message.textContent = msg['message'];\n",
       "}\n",
       "\n",
       "mpl.figure.prototype.handle_draw = function(fig, msg) {\n",
       "    // Request the server to send over a new figure.\n",
       "    fig.send_draw_message();\n",
       "}\n",
       "\n",
       "mpl.figure.prototype.handle_image_mode = function(fig, msg) {\n",
       "    fig.image_mode = msg['mode'];\n",
       "}\n",
       "\n",
       "mpl.figure.prototype.updated_canvas_event = function() {\n",
       "    // Called whenever the canvas gets updated.\n",
       "    this.send_message(\"ack\", {});\n",
       "}\n",
       "\n",
       "// A function to construct a web socket function for onmessage handling.\n",
       "// Called in the figure constructor.\n",
       "mpl.figure.prototype._make_on_message_function = function(fig) {\n",
       "    return function socket_on_message(evt) {\n",
       "        if (evt.data instanceof Blob) {\n",
       "            /* FIXME: We get \"Resource interpreted as Image but\n",
       "             * transferred with MIME type text/plain:\" errors on\n",
       "             * Chrome.  But how to set the MIME type?  It doesn't seem\n",
       "             * to be part of the websocket stream */\n",
       "            evt.data.type = \"image/png\";\n",
       "\n",
       "            /* Free the memory for the previous frames */\n",
       "            if (fig.imageObj.src) {\n",
       "                (window.URL || window.webkitURL).revokeObjectURL(\n",
       "                    fig.imageObj.src);\n",
       "            }\n",
       "\n",
       "            fig.imageObj.src = (window.URL || window.webkitURL).createObjectURL(\n",
       "                evt.data);\n",
       "            fig.updated_canvas_event();\n",
       "            fig.waiting = false;\n",
       "            return;\n",
       "        }\n",
       "        else if (typeof evt.data === 'string' && evt.data.slice(0, 21) == \"data:image/png;base64\") {\n",
       "            fig.imageObj.src = evt.data;\n",
       "            fig.updated_canvas_event();\n",
       "            fig.waiting = false;\n",
       "            return;\n",
       "        }\n",
       "\n",
       "        var msg = JSON.parse(evt.data);\n",
       "        var msg_type = msg['type'];\n",
       "\n",
       "        // Call the  \"handle_{type}\" callback, which takes\n",
       "        // the figure and JSON message as its only arguments.\n",
       "        try {\n",
       "            var callback = fig[\"handle_\" + msg_type];\n",
       "        } catch (e) {\n",
       "            console.log(\"No handler for the '\" + msg_type + \"' message type: \", msg);\n",
       "            return;\n",
       "        }\n",
       "\n",
       "        if (callback) {\n",
       "            try {\n",
       "                // console.log(\"Handling '\" + msg_type + \"' message: \", msg);\n",
       "                callback(fig, msg);\n",
       "            } catch (e) {\n",
       "                console.log(\"Exception inside the 'handler_\" + msg_type + \"' callback:\", e, e.stack, msg);\n",
       "            }\n",
       "        }\n",
       "    };\n",
       "}\n",
       "\n",
       "// from http://stackoverflow.com/questions/1114465/getting-mouse-location-in-canvas\n",
       "mpl.findpos = function(e) {\n",
       "    //this section is from http://www.quirksmode.org/js/events_properties.html\n",
       "    var targ;\n",
       "    if (!e)\n",
       "        e = window.event;\n",
       "    if (e.target)\n",
       "        targ = e.target;\n",
       "    else if (e.srcElement)\n",
       "        targ = e.srcElement;\n",
       "    if (targ.nodeType == 3) // defeat Safari bug\n",
       "        targ = targ.parentNode;\n",
       "\n",
       "    // jQuery normalizes the pageX and pageY\n",
       "    // pageX,Y are the mouse positions relative to the document\n",
       "    // offset() returns the position of the element relative to the document\n",
       "    var x = e.pageX - $(targ).offset().left;\n",
       "    var y = e.pageY - $(targ).offset().top;\n",
       "\n",
       "    return {\"x\": x, \"y\": y};\n",
       "};\n",
       "\n",
       "/*\n",
       " * return a copy of an object with only non-object keys\n",
       " * we need this to avoid circular references\n",
       " * http://stackoverflow.com/a/24161582/3208463\n",
       " */\n",
       "function simpleKeys (original) {\n",
       "  return Object.keys(original).reduce(function (obj, key) {\n",
       "    if (typeof original[key] !== 'object')\n",
       "        obj[key] = original[key]\n",
       "    return obj;\n",
       "  }, {});\n",
       "}\n",
       "\n",
       "mpl.figure.prototype.mouse_event = function(event, name) {\n",
       "    var canvas_pos = mpl.findpos(event)\n",
       "\n",
       "    if (name === 'button_press')\n",
       "    {\n",
       "        this.canvas.focus();\n",
       "        this.canvas_div.focus();\n",
       "    }\n",
       "\n",
       "    var x = canvas_pos.x;\n",
       "    var y = canvas_pos.y;\n",
       "\n",
       "    this.send_message(name, {x: x, y: y, button: event.button,\n",
       "                             step: event.step,\n",
       "                             guiEvent: simpleKeys(event)});\n",
       "\n",
       "    /* This prevents the web browser from automatically changing to\n",
       "     * the text insertion cursor when the button is pressed.  We want\n",
       "     * to control all of the cursor setting manually through the\n",
       "     * 'cursor' event from matplotlib */\n",
       "    event.preventDefault();\n",
       "    return false;\n",
       "}\n",
       "\n",
       "mpl.figure.prototype._key_event_extra = function(event, name) {\n",
       "    // Handle any extra behaviour associated with a key event\n",
       "}\n",
       "\n",
       "mpl.figure.prototype.key_event = function(event, name) {\n",
       "\n",
       "    // Prevent repeat events\n",
       "    if (name == 'key_press')\n",
       "    {\n",
       "        if (event.which === this._key)\n",
       "            return;\n",
       "        else\n",
       "            this._key = event.which;\n",
       "    }\n",
       "    if (name == 'key_release')\n",
       "        this._key = null;\n",
       "\n",
       "    var value = '';\n",
       "    if (event.ctrlKey && event.which != 17)\n",
       "        value += \"ctrl+\";\n",
       "    if (event.altKey && event.which != 18)\n",
       "        value += \"alt+\";\n",
       "    if (event.shiftKey && event.which != 16)\n",
       "        value += \"shift+\";\n",
       "\n",
       "    value += 'k';\n",
       "    value += event.which.toString();\n",
       "\n",
       "    this._key_event_extra(event, name);\n",
       "\n",
       "    this.send_message(name, {key: value,\n",
       "                             guiEvent: simpleKeys(event)});\n",
       "    return false;\n",
       "}\n",
       "\n",
       "mpl.figure.prototype.toolbar_button_onclick = function(name) {\n",
       "    if (name == 'download') {\n",
       "        this.handle_save(this, null);\n",
       "    } else {\n",
       "        this.send_message(\"toolbar_button\", {name: name});\n",
       "    }\n",
       "};\n",
       "\n",
       "mpl.figure.prototype.toolbar_button_onmouseover = function(tooltip) {\n",
       "    this.message.textContent = tooltip;\n",
       "};\n",
       "mpl.toolbar_items = [[\"Home\", \"Reset original view\", \"fa fa-home icon-home\", \"home\"], [\"Back\", \"Back to  previous view\", \"fa fa-arrow-left icon-arrow-left\", \"back\"], [\"Forward\", \"Forward to next view\", \"fa fa-arrow-right icon-arrow-right\", \"forward\"], [\"\", \"\", \"\", \"\"], [\"Pan\", \"Pan axes with left mouse, zoom with right\", \"fa fa-arrows icon-move\", \"pan\"], [\"Zoom\", \"Zoom to rectangle\", \"fa fa-square-o icon-check-empty\", \"zoom\"], [\"\", \"\", \"\", \"\"], [\"Download\", \"Download plot\", \"fa fa-floppy-o icon-save\", \"download\"]];\n",
       "\n",
       "mpl.extensions = [\"eps\", \"jpeg\", \"pdf\", \"png\", \"ps\", \"raw\", \"svg\", \"tif\"];\n",
       "\n",
       "mpl.default_extension = \"png\";var comm_websocket_adapter = function(comm) {\n",
       "    // Create a \"websocket\"-like object which calls the given IPython comm\n",
       "    // object with the appropriate methods. Currently this is a non binary\n",
       "    // socket, so there is still some room for performance tuning.\n",
       "    var ws = {};\n",
       "\n",
       "    ws.close = function() {\n",
       "        comm.close()\n",
       "    };\n",
       "    ws.send = function(m) {\n",
       "        //console.log('sending', m);\n",
       "        comm.send(m);\n",
       "    };\n",
       "    // Register the callback with on_msg.\n",
       "    comm.on_msg(function(msg) {\n",
       "        //console.log('receiving', msg['content']['data'], msg);\n",
       "        // Pass the mpl event to the overriden (by mpl) onmessage function.\n",
       "        ws.onmessage(msg['content']['data'])\n",
       "    });\n",
       "    return ws;\n",
       "}\n",
       "\n",
       "mpl.mpl_figure_comm = function(comm, msg) {\n",
       "    // This is the function which gets called when the mpl process\n",
       "    // starts-up an IPython Comm through the \"matplotlib\" channel.\n",
       "\n",
       "    var id = msg.content.data.id;\n",
       "    // Get hold of the div created by the display call when the Comm\n",
       "    // socket was opened in Python.\n",
       "    var element = $(\"#\" + id);\n",
       "    var ws_proxy = comm_websocket_adapter(comm)\n",
       "\n",
       "    function ondownload(figure, format) {\n",
       "        window.open(figure.imageObj.src);\n",
       "    }\n",
       "\n",
       "    var fig = new mpl.figure(id, ws_proxy,\n",
       "                           ondownload,\n",
       "                           element.get(0));\n",
       "\n",
       "    // Call onopen now - mpl needs it, as it is assuming we've passed it a real\n",
       "    // web socket which is closed, not our websocket->open comm proxy.\n",
       "    ws_proxy.onopen();\n",
       "\n",
       "    fig.parent_element = element.get(0);\n",
       "    fig.cell_info = mpl.find_output_cell(\"<div id='\" + id + \"'></div>\");\n",
       "    if (!fig.cell_info) {\n",
       "        console.error(\"Failed to find cell for figure\", id, fig);\n",
       "        return;\n",
       "    }\n",
       "\n",
       "    var output_index = fig.cell_info[2]\n",
       "    var cell = fig.cell_info[0];\n",
       "\n",
       "};\n",
       "\n",
       "mpl.figure.prototype.handle_close = function(fig, msg) {\n",
       "    fig.root.unbind('remove')\n",
       "\n",
       "    // Update the output cell to use the data from the current canvas.\n",
       "    fig.push_to_output();\n",
       "    var dataURL = fig.canvas.toDataURL();\n",
       "    // Re-enable the keyboard manager in IPython - without this line, in FF,\n",
       "    // the notebook keyboard shortcuts fail.\n",
       "    IPython.keyboard_manager.enable()\n",
       "    $(fig.parent_element).html('<img src=\"' + dataURL + '\">');\n",
       "    fig.close_ws(fig, msg);\n",
       "}\n",
       "\n",
       "mpl.figure.prototype.close_ws = function(fig, msg){\n",
       "    fig.send_message('closing', msg);\n",
       "    // fig.ws.close()\n",
       "}\n",
       "\n",
       "mpl.figure.prototype.push_to_output = function(remove_interactive) {\n",
       "    // Turn the data on the canvas into data in the output cell.\n",
       "    var dataURL = this.canvas.toDataURL();\n",
       "    this.cell_info[1]['text/html'] = '<img src=\"' + dataURL + '\">';\n",
       "}\n",
       "\n",
       "mpl.figure.prototype.updated_canvas_event = function() {\n",
       "    // Tell IPython that the notebook contents must change.\n",
       "    IPython.notebook.set_dirty(true);\n",
       "    this.send_message(\"ack\", {});\n",
       "    var fig = this;\n",
       "    // Wait a second, then push the new image to the DOM so\n",
       "    // that it is saved nicely (might be nice to debounce this).\n",
       "    setTimeout(function () { fig.push_to_output() }, 1000);\n",
       "}\n",
       "\n",
       "mpl.figure.prototype._init_toolbar = function() {\n",
       "    var fig = this;\n",
       "\n",
       "    var nav_element = $('<div/>')\n",
       "    nav_element.attr('style', 'width: 100%');\n",
       "    this.root.append(nav_element);\n",
       "\n",
       "    // Define a callback function for later on.\n",
       "    function toolbar_event(event) {\n",
       "        return fig.toolbar_button_onclick(event['data']);\n",
       "    }\n",
       "    function toolbar_mouse_event(event) {\n",
       "        return fig.toolbar_button_onmouseover(event['data']);\n",
       "    }\n",
       "\n",
       "    for(var toolbar_ind in mpl.toolbar_items){\n",
       "        var name = mpl.toolbar_items[toolbar_ind][0];\n",
       "        var tooltip = mpl.toolbar_items[toolbar_ind][1];\n",
       "        var image = mpl.toolbar_items[toolbar_ind][2];\n",
       "        var method_name = mpl.toolbar_items[toolbar_ind][3];\n",
       "\n",
       "        if (!name) { continue; };\n",
       "\n",
       "        var button = $('<button class=\"btn btn-default\" href=\"#\" title=\"' + name + '\"><i class=\"fa ' + image + ' fa-lg\"></i></button>');\n",
       "        button.click(method_name, toolbar_event);\n",
       "        button.mouseover(tooltip, toolbar_mouse_event);\n",
       "        nav_element.append(button);\n",
       "    }\n",
       "\n",
       "    // Add the status bar.\n",
       "    var status_bar = $('<span class=\"mpl-message\" style=\"text-align:right; float: right;\"/>');\n",
       "    nav_element.append(status_bar);\n",
       "    this.message = status_bar[0];\n",
       "\n",
       "    // Add the close button to the window.\n",
       "    var buttongrp = $('<div class=\"btn-group inline pull-right\"></div>');\n",
       "    var button = $('<button class=\"btn btn-mini btn-primary\" href=\"#\" title=\"Stop Interaction\"><i class=\"fa fa-power-off icon-remove icon-large\"></i></button>');\n",
       "    button.click(function (evt) { fig.handle_close(fig, {}); } );\n",
       "    button.mouseover('Stop Interaction', toolbar_mouse_event);\n",
       "    buttongrp.append(button);\n",
       "    var titlebar = this.root.find($('.ui-dialog-titlebar'));\n",
       "    titlebar.prepend(buttongrp);\n",
       "}\n",
       "\n",
       "mpl.figure.prototype._root_extra_style = function(el){\n",
       "    var fig = this\n",
       "    el.on(\"remove\", function(){\n",
       "\tfig.close_ws(fig, {});\n",
       "    });\n",
       "}\n",
       "\n",
       "mpl.figure.prototype._canvas_extra_style = function(el){\n",
       "    // this is important to make the div 'focusable\n",
       "    el.attr('tabindex', 0)\n",
       "    // reach out to IPython and tell the keyboard manager to turn it's self\n",
       "    // off when our div gets focus\n",
       "\n",
       "    // location in version 3\n",
       "    if (IPython.notebook.keyboard_manager) {\n",
       "        IPython.notebook.keyboard_manager.register_events(el);\n",
       "    }\n",
       "    else {\n",
       "        // location in version 2\n",
       "        IPython.keyboard_manager.register_events(el);\n",
       "    }\n",
       "\n",
       "}\n",
       "\n",
       "mpl.figure.prototype._key_event_extra = function(event, name) {\n",
       "    var manager = IPython.notebook.keyboard_manager;\n",
       "    if (!manager)\n",
       "        manager = IPython.keyboard_manager;\n",
       "\n",
       "    // Check for shift+enter\n",
       "    if (event.shiftKey && event.which == 13) {\n",
       "        this.canvas_div.blur();\n",
       "        event.shiftKey = false;\n",
       "        // Send a \"J\" for go to next cell\n",
       "        event.which = 74;\n",
       "        event.keyCode = 74;\n",
       "        manager.command_mode();\n",
       "        manager.handle_keydown(event);\n",
       "    }\n",
       "}\n",
       "\n",
       "mpl.figure.prototype.handle_save = function(fig, msg) {\n",
       "    fig.ondownload(fig, null);\n",
       "}\n",
       "\n",
       "\n",
       "mpl.find_output_cell = function(html_output) {\n",
       "    // Return the cell and output element which can be found *uniquely* in the notebook.\n",
       "    // Note - this is a bit hacky, but it is done because the \"notebook_saving.Notebook\"\n",
       "    // IPython event is triggered only after the cells have been serialised, which for\n",
       "    // our purposes (turning an active figure into a static one), is too late.\n",
       "    var cells = IPython.notebook.get_cells();\n",
       "    var ncells = cells.length;\n",
       "    for (var i=0; i<ncells; i++) {\n",
       "        var cell = cells[i];\n",
       "        if (cell.cell_type === 'code'){\n",
       "            for (var j=0; j<cell.output_area.outputs.length; j++) {\n",
       "                var data = cell.output_area.outputs[j];\n",
       "                if (data.data) {\n",
       "                    // IPython >= 3 moved mimebundle to data attribute of output\n",
       "                    data = data.data;\n",
       "                }\n",
       "                if (data['text/html'] == html_output) {\n",
       "                    return [cell, data, j];\n",
       "                }\n",
       "            }\n",
       "        }\n",
       "    }\n",
       "}\n",
       "\n",
       "// Register the function which deals with the matplotlib target/channel.\n",
       "// The kernel may be null if the page has been refreshed.\n",
       "if (IPython.notebook.kernel != null) {\n",
       "    IPython.notebook.kernel.comm_manager.register_target('matplotlib', mpl.mpl_figure_comm);\n",
       "}\n"
      ],
      "text/plain": [
       "<IPython.core.display.Javascript object>"
      ]
     },
     "metadata": {},
     "output_type": "display_data"
    },
    {
     "data": {
      "text/html": [
       "<img src=\"data:image/png;base64,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\">"
      ],
      "text/plain": [
       "<IPython.core.display.HTML object>"
      ]
     },
     "metadata": {},
     "output_type": "display_data"
    },
    {
     "name": "stdout",
     "output_type": "stream",
     "text": [
      "('loaded file for username = ', u'bpb')\n"
     ]
    }
   ],
   "source": [
    "dp = reload(dp)\n",
    "%matplotlib notebook\n",
    "a = dp.adjust_rt_for_selected_compound(metatlas_dataset,compound_idx=0,include_lcmsruns = [],alpha=0.75)"
   ]
  },
  {
   "cell_type": "markdown",
   "metadata": {},
   "source": [
    "# 7b. Adjust m/z bounds"
   ]
  },
  {
   "cell_type": "code",
   "execution_count": null,
   "metadata": {
    "collapsed": false
   },
   "outputs": [],
   "source": [
    "# a = dp.adjust_mz_for_selected_compound(metatlas_dataset)"
   ]
  },
  {
   "cell_type": "code",
   "execution_count": null,
   "metadata": {
    "collapsed": false,
    "scrolled": true
   },
   "outputs": [],
   "source": [
    "# # dp = reload(dp)\n",
    "# data,compound_grid = dp.show_compound_grid(input_dataset = metatlas_dataset)#,input_fname = '/global/homes/b/bpb/Downloads/20160531_KBL_C18_Vio_cells_384_Q_1_to_4.pkl')"
   ]
  },
  {
   "cell_type": "markdown",
   "metadata": {},
   "source": [
    "# 8. Make Supplementary Tables\n"
   ]
  },
  {
   "cell_type": "markdown",
   "metadata": {},
   "source": [
    "### Specify a directory to put all the figures into"
   ]
  },
  {
   "cell_type": "code",
   "execution_count": null,
   "metadata": {
    "collapsed": false
   },
   "outputs": [],
   "source": [
    "output_dir = '/global/homes/b/bpb/Downloads/SK_ZZ_MAIZE_HILIC_POS_20170302/'\n",
    "if not os.path.exists(output_dir):\n",
    "    os.makedirs(output_dir)"
   ]
  },
  {
   "cell_type": "markdown",
   "metadata": {},
   "source": [
    "* ### Export Atlas to a Spreadsheet"
   ]
  },
  {
   "cell_type": "code",
   "execution_count": null,
   "metadata": {
    "collapsed": false
   },
   "outputs": [],
   "source": [
    "atlas_identifications = dp.export_atlas_to_spreadsheet(myAtlas,os.path.join(output_dir,'atlas_export.csv'))"
   ]
  },
  {
   "cell_type": "markdown",
   "metadata": {},
   "source": [
    "* ### Dataframes and spreadsheets"
   ]
  },
  {
   "cell_type": "code",
   "execution_count": null,
   "metadata": {
    "collapsed": false
   },
   "outputs": [],
   "source": [
    "dp = reload(dp)\n",
    "# atlas_identifications = dp.export_atlas_to_spreadsheet(myAtlas,'%s/sheets/%s.csv'%(plot_location_label,myAtlas.name))\n",
    "peak_height = dp.make_output_dataframe(input_fname = '',input_dataset = metatlas_dataset,include_lcmsruns = [],exclude_lcmsruns = [], fieldname='peak_height' , output_loc=os.path.join(output_dir,'sheets'))\n",
    "peak_area = dp.make_output_dataframe(input_fname = my_file,input_dataset = metatlas_dataset,include_lcmsruns = [],exclude_lcmsruns = [], fieldname='peak_area' , output_loc=os.path.join(output_dir,'sheets'))\n",
    "mz_peak = dp.make_output_dataframe(input_fname = my_file,input_dataset = metatlas_dataset,include_lcmsruns = [],exclude_lcmsruns = [], fieldname='mz_peak' , output_loc=os.path.join(output_dir,'sheets'))\n",
    "rt_peak = dp.make_output_dataframe(input_fname = my_file, input_dataset = metatlas_dataset,include_lcmsruns = [],exclude_lcmsruns = [],fieldname='rt_peak' , output_loc=os.path.join(output_dir,'sheets'))\n",
    "mz_centroid = dp.make_output_dataframe(input_fname = my_file,input_dataset = metatlas_dataset,include_lcmsruns = [],exclude_lcmsruns = [], fieldname='mz_centroid' , output_loc=os.path.join(output_dir,'sheets'))\n",
    "rt_centroid = dp.make_output_dataframe(input_fname = my_file,input_dataset = metatlas_dataset,include_lcmsruns = [],exclude_lcmsruns = [], fieldname='rt_centroid' , output_loc=os.path.join(output_dir,'sheets'))"
   ]
  },
  {
   "cell_type": "markdown",
   "metadata": {},
   "source": [
    "* ### Error bar"
   ]
  },
  {
   "cell_type": "code",
   "execution_count": null,
   "metadata": {
    "collapsed": false,
    "scrolled": false
   },
   "outputs": [],
   "source": [
    "dp = reload(dp)\n",
    "dp.plot_errorbar_plots(peak_height, output_loc=os.path.join(output_dir,'error_bar_peak_height'))"
   ]
  },
  {
   "cell_type": "code",
   "execution_count": null,
   "metadata": {
    "collapsed": true
   },
   "outputs": [],
   "source": [
    "dp.plot_errorbar_plots(rt_peak, output_loc=os.path.join(output_dir,'error_bar_rt_peak'))"
   ]
  },
  {
   "cell_type": "markdown",
   "metadata": {},
   "source": [
    "* ### Chromatograms"
   ]
  },
  {
   "cell_type": "markdown",
   "metadata": {},
   "source": [
    "### Make a plot for each compound:\n",
    "* Each lcmsrun will be a subplot"
   ]
  },
  {
   "cell_type": "code",
   "execution_count": null,
   "metadata": {
    "collapsed": false
   },
   "outputs": [],
   "source": [
    "## THINGS YOU MIGHT WANT TO CHANGE\n",
    "nCols = 8\n",
    "share_y = True\n",
    "## THINGS YOU PROBABLY DON'T WANT TO CHANGE\n",
    "file_names = ma_data.get_file_names(metatlas_dataset)\n",
    "compound_names = ma_data.get_compound_names(metatlas_dataset)[0]\n",
    "nRows = int(np.ceil(len(file_names)/float(nCols)))\n",
    "args_list = []\n",
    "\n",
    "chromatogram_str = 'compound_chromatograms'\n",
    "\n",
    "if not os.path.exists(os.path.join(output_dir,chromatogram_str)):\n",
    "    os.makedirs(os.path.join(output_dir,chromatogram_str))\n",
    "\n",
    "for compound_idx, my_compound in enumerate(compound_names):\n",
    "    my_data = list()\n",
    "    for file_idx, my_file in enumerate(file_names):\n",
    "        my_data.append(metatlas_dataset[file_idx][compound_idx])\n",
    "    kwargs = {'data': my_data,\n",
    "              'file_name': os.path.join(output_dir, chromatogram_str, my_compound+'.pdf'),\n",
    "              'rowscols': (nRows, nCols),\n",
    "              'share_y': share_y,\n",
    "              'names': file_names}\n",
    "    args_list.append(kwargs)\n",
    "max_processes = 8\n",
    "pool = mp.Pool(processes=min(max_processes, len(metatlas_dataset[0])))\n",
    "pool.map(cp.plot_compounds_and_files_mp, args_list)\n",
    "pool.close()\n",
    "pool.terminate()"
   ]
  },
  {
   "cell_type": "markdown",
   "metadata": {},
   "source": [
    "### Make a plot for each lcmsrun\n",
    "* Each compound will be a subplot"
   ]
  },
  {
   "cell_type": "code",
   "execution_count": null,
   "metadata": {
    "collapsed": false,
    "scrolled": false
   },
   "outputs": [],
   "source": [
    "## THINGS YOU MIGHT WANT TO CHANGE\n",
    "nCols = 8\n",
    "share_y = False\n",
    "\n",
    "chromatogram_str = 'lcmsrun_chromatograms'\n",
    "\n",
    "if not os.path.exists(os.path.join(output_dir,chromatogram_str)):\n",
    "    os.makedirs(os.path.join(output_dir,chromatogram_str))\n",
    "\n",
    "## THINGS YOU PROBABLY DON'T WANT TO CHANGE\n",
    "file_names = ma_data.get_file_names(metatlas_dataset)\n",
    "compound_names = ma_data.get_compound_names(metatlas_dataset)[0]\n",
    "nRows = int(np.ceil(len(compound_names)/float(nCols)))\n",
    "args_list = []\n",
    "for file_idx, my_file in enumerate(file_names):\n",
    "    kwargs = {'data': metatlas_dataset[file_idx],\n",
    "              'file_name': os.path.join(output_dir, chromatogram_str, my_compound+'.pdf'),\n",
    "              'rowscols': (nRows, nCols),\n",
    "              'share_y': share_y,\n",
    "              'names': compound_names}\n",
    "    args_list.append(kwargs)\n",
    "\n",
    "max_processes = 8\n",
    "pool = mp.Pool(processes=min(max_processes, len(metatlas_dataset)))\n",
    "pool.map(cp.plot_compounds_and_files_mp, args_list)\n",
    "pool.close()\n",
    "pool.terminate()\n"
   ]
  },
  {
   "cell_type": "markdown",
   "metadata": {},
   "source": [
    "* ### Identification Figures"
   ]
  },
  {
   "cell_type": "code",
   "execution_count": null,
   "metadata": {
    "collapsed": false,
    "scrolled": true
   },
   "outputs": [],
   "source": [
    "dp = reload(dp)\n",
    "dp.make_identification_figure(input_dataset = metatlas_dataset, input_fname = my_file, include_lcmsruns = [],exclude_lcmsruns = ['RootCass','QC','Blank','blank'], output_loc=os.path.join(output_dir,'identification'))"
   ]
  },
  {
   "cell_type": "markdown",
   "metadata": {},
   "source": [
    "### Make a single tar file of your output directory"
   ]
  },
  {
   "cell_type": "code",
   "execution_count": null,
   "metadata": {
    "collapsed": false
   },
   "outputs": [],
   "source": [
    "import time\n",
    "import os\n",
    "timestr = time.strftime(\"%Y%m%d-%H%M%S\")\n",
    "tarball_name = timestr + '_' + os.path.basename(os.path.normpath(output_dir)) + '.tar.gz'\n",
    "%system tar -zcf $tarball_name -C $output_dir .\n",
    "print 'done'\n",
    "from IPython.core.display import display, HTML\n",
    "f1 = '/user/bpb/files'+os.path.join(os.getcwd().replace('/global/u2/b/bpb',''), tarball_name)\n",
    "f2 = tarball_name\n",
    "display(HTML('<a href=\"%s\" download=\"%s\">Start automatic download!</a>'%(f1,f2)))\n"
   ]
  },
  {
   "cell_type": "markdown",
   "metadata": {},
   "source": [
    "### The tarball will be stored in your current directory.  Run this to see current directory"
   ]
  },
  {
   "cell_type": "code",
   "execution_count": null,
   "metadata": {
    "collapsed": false
   },
   "outputs": [],
   "source": [
    "%system pwd"
   ]
  },
  {
   "cell_type": "markdown",
   "metadata": {},
   "source": [
    "# 9. Compare feature EICs to BPC of each file"
   ]
  },
  {
   "cell_type": "code",
   "execution_count": null,
   "metadata": {
    "collapsed": false,
    "scrolled": false
   },
   "outputs": [],
   "source": [
    "import matplotlib.pyplot as plt\n",
    "from textwrap import wrap\n",
    "files = groups[0].items\n",
    "ma_data = reload(ma_data)\n",
    "for f in files:\n",
    "    bpc = ma_data.get_bpc(f.hdf5_file,dataset='ms1_neg')\n",
    "    fig = plt.figure(figsize=(10,6))\n",
    "    plt.plot(bpc.rt,bpc.i,'k-')\n",
    "#     for d in metatlas_dataset[file_index]:\n",
    "#         plt.plot(d['data']['eic']['rt'],d['data']['eic']['intensity'],c=np.random.rand(3,1),alpha=0.9)\n",
    "    ax = plt.gca()\n",
    "    ax.set_yscale('log')\n",
    "    ax.set_title('\\n'.join(wrap(base_file_names[file_index],50)))\n",
    "    ax.set_xlabel('Retention Time (min)')\n",
    "    ax.set_ylabel('Intensity')\n",
    "    plt.xlim(0,23)\n",
    "    plt.ylim(1e5,1e10)\n",
    "#     fig.savefig('/global/homes/b/bpb/trent/' + base_file_names[file_index].split('.')[0] + '.png')\n"
   ]
  },
  {
   "cell_type": "code",
   "execution_count": null,
   "metadata": {
    "collapsed": false,
    "scrolled": true
   },
   "outputs": [],
   "source": [
    "import matplotlib.pyplot as plt\n",
    "from textwrap import wrap\n",
    "\n",
    "file_index = 0\n",
    "yscale = 'log'\n",
    "\n",
    "\n",
    "full_file_names = ma_data.get_file_names(metatlas_dataset,full_path=True)\n",
    "base_file_names = ma_data.get_file_names(metatlas_dataset,full_path=False)\n",
    "\n",
    "for file_index in range(len(full_file_names)):\n",
    "\n",
    "    bpc = ma_data.get_bpc(full_file_names[file_index],dataset='ms1_neg')\n",
    "    if not os.path.exists(os.path.join(output_dir,'bpc_eic' )):\n",
    "        os.makedirs(os.path.join(output_dir,'bpc_eic'))\n",
    "    fig = plt.figure(figsize=(20,6))\n",
    "    plt.plot(bpc.rt,bpc.i,'k-')\n",
    "    for d in metatlas_dataset[file_index]:\n",
    "        plt.plot(d['data']['eic']['rt'],d['data']['eic']['intensity'],c=np.random.rand(3,1),alpha=0.9)\n",
    "    ax = plt.gca()\n",
    "    ax.set_yscale(yscale)\n",
    "    ax.set_title('\\n'.join(wrap(base_file_names[file_index],50)))\n",
    "    ax.set_xlabel('Retention Time (min)')\n",
    "    ax.set_ylabel('Intensity')\n",
    "    plt.xlim(0,23)\n",
    "    plt.ylim(1e5,1e10)\n",
    "    fig.savefig(os.path.join(output_dir,'bpc_eic', base_file_names[file_index].split('.')[0] + '.png'))\n"
   ]
  },
  {
   "cell_type": "code",
   "execution_count": null,
   "metadata": {
    "collapsed": false
   },
   "outputs": [],
   "source": [
    "ma_data = reload(ma_data)\n",
    "f_list = [ma_data.compare_EIC_to_BPC_for_file(metatlas_dataset,idx,yscale ='log') for idx in range(10)]"
   ]
  },
  {
   "cell_type": "code",
   "execution_count": null,
   "metadata": {
    "collapsed": false
   },
   "outputs": [],
   "source": [
    "f_list[2]"
   ]
  },
  {
   "cell_type": "code",
   "execution_count": null,
   "metadata": {
    "collapsed": false
   },
   "outputs": [],
   "source": [
    "full_file_names = ma_data.get_file_names(metatlas_dataset,full_path=True)\n",
    "base_file_names = ma_data.get_file_names(metatlas_dataset,full_path=False)\n",
    "bpc = ma_data.get_bpc(full_file_names[0])"
   ]
  },
  {
   "cell_type": "code",
   "execution_count": null,
   "metadata": {
    "collapsed": true
   },
   "outputs": [],
   "source": [
    "counts = bpc.mz.round(4).value_counts(normalize=False, sort=True, ascending=False, bins=None)"
   ]
  },
  {
   "cell_type": "code",
   "execution_count": null,
   "metadata": {
    "collapsed": false
   },
   "outputs": [],
   "source": [
    "counts.head(10)"
   ]
  },
  {
   "cell_type": "code",
   "execution_count": null,
   "metadata": {
    "collapsed": false
   },
   "outputs": [],
   "source": [
    "from matplotlib import pyplot as plt\n",
    "\n",
    "f = bpc.mz.hist(bins=1000)\n",
    "plt.show(f)"
   ]
  },
  {
   "cell_type": "markdown",
   "metadata": {},
   "source": [
    "# 10. Clean up Zombie Processes\n",
    "\n",
    "* ### These are not meant to be used as part of normal work\n",
    "\n",
    "* ### If code crashes, we will have to use these tools to clean things up"
   ]
  },
  {
   "cell_type": "markdown",
   "metadata": {},
   "source": [
    "### Try simply closing the pool"
   ]
  },
  {
   "cell_type": "code",
   "execution_count": null,
   "metadata": {
    "collapsed": false
   },
   "outputs": [],
   "source": [
    "pool.close()\n",
    "pool.terminate()"
   ]
  },
  {
   "cell_type": "markdown",
   "metadata": {},
   "source": [
    "### Make a DataFrame of user's processes"
   ]
  },
  {
   "cell_type": "code",
   "execution_count": null,
   "metadata": {
    "collapsed": false
   },
   "outputs": [],
   "source": [
    "import os\n",
    "import psutil\n",
    "import getpass\n",
    "import pandas as pd\n",
    "from datetime import datetime\n",
    "\n",
    "pids = [int(pid) for pid in os.listdir('/proc') if pid.isdigit()]\n",
    "proc_df = []\n",
    "for pid in pids:\n",
    "    try:\n",
    "        process = psutil.Process(pid)\n",
    "        if process.username() == getpass.getuser():\n",
    "            temp = {'pid': process.pid,\n",
    "                    'name': process.name(),\n",
    "                    'user': process.username(),\n",
    "                    'created_timestamp': int(process.create_time()*100),\n",
    "                    'created_datestr': str(datetime.fromtimestamp(process.create_time()))}\n",
    "            proc_df.append(temp)\n",
    "    except:\n",
    "        pass\n",
    "    \n",
    "df = pd.DataFrame(proc_df)\n",
    "df"
   ]
  },
  {
   "cell_type": "markdown",
   "metadata": {},
   "source": [
    "### Kill process by process id (pid)"
   ]
  },
  {
   "cell_type": "code",
   "execution_count": null,
   "metadata": {
    "collapsed": false
   },
   "outputs": [],
   "source": [
    "for pid in df[df.created_timestamp > 147939907007].pid:\n",
    "    p = psutil.Process(pid)\n",
    "    p.terminate() "
   ]
  },
  {
   "cell_type": "code",
   "execution_count": null,
   "metadata": {
    "collapsed": true
   },
   "outputs": [],
   "source": [
    "p = psutil.Process(43671)\n",
    "p.terminate() "
   ]
  },
  {
   "cell_type": "markdown",
   "metadata": {},
   "source": [
    "# 11. Run an MZMine Batch Script"
   ]
  },
  {
   "cell_type": "code",
   "execution_count": null,
   "metadata": {
    "collapsed": false
   },
   "outputs": [],
   "source": [
    "files = metob.retrieve('lcmsruns',experiment='%jd_of%',name='%_pos_%',username='*')\n",
    "mzml_files = []\n",
    "print(len(files))\n",
    "for f in files:\n",
    "    mzml_files.append(f.mzml_file)"
   ]
  },
  {
   "cell_type": "code",
   "execution_count": null,
   "metadata": {
    "collapsed": false,
    "scrolled": false
   },
   "outputs": [],
   "source": [
    "import glob\n",
    "files = glob.glob('/project/projectdirs/metatlas/raw_data/smkosina/20170317_SK_Arkin_PseudoAbxCsource/*.mzML')\n",
    "mzml_files = []\n",
    "for f in files:\n",
    "\n",
    "    if not '_InjBl' in f:\n",
    "        if ('_' in f) or ('Sterile' in f):\n",
    "            if 'NEG_' in f:\n",
    "                mzml_files.append(f)#f.replace('20170317_SK-MdR_Arkin_PseudoAbxCsource_QE144_EPC18-USDAY26531_MSMS_','')))\n",
    "# files\n",
    "\n",
    "\n",
    "\n",
    "mzml_files = sorted(mzml_files)"
   ]
  },
  {
   "cell_type": "code",
   "execution_count": null,
   "metadata": {
    "collapsed": false
   },
   "outputs": [],
   "source": [
    "\n",
    "mzml_files = []\n",
    "for g in groups:\n",
    "    for f in g.items:\n",
    "        mzml_files.append(f.mzml_file)\n"
   ]
  },
  {
   "cell_type": "code",
   "execution_count": null,
   "metadata": {
    "collapsed": true
   },
   "outputs": [],
   "source": [
    "# mzml_files = ['/project/projectdirs/metatlas/raw_data/kblouie/20150914_actinorhodin_finalset_50mm/20150910_C18_MeOH_NEG_MSMS_Scoelicolor_media_WT_M145_Day6_3of4___Run61.mzML']"
   ]
  },
  {
   "cell_type": "code",
   "execution_count": null,
   "metadata": {
    "collapsed": false
   },
   "outputs": [],
   "source": [
    "new_str = 'PseudoC_C18_NEG'\n",
    "# C18_MSMS_NEG_Secondary_Metabolite_Parameters\n",
    "mzm.make_mzmine_scripts(mzml_files, \n",
    "                        outfile='/project/projectdirs/metatlas/projects/mzmine_parameters/%s_mzmine_output.csv'%new_str,\n",
    "                        new_batch_file = '/project/projectdirs/metatlas/projects/mzmine_parameters/%s_job_script_parameters.xml'%new_str,\n",
    "                        new_sbatch_file = '/project/projectdirs/metatlas/projects/mzmine_parameters/%s_mzmine_job.sbatch'%new_str,\n",
    "                        new_qsub_file = '/project/projectdirs/metatlas/projects/mzmine_parameters/%s_mzmine_job.qsub'%new_str,\n",
    "                        base_batch_file='/project/projectdirs/metatlas/projects/mzmine_parameters/C18_MSMS_NEG_Secondary_Metabolite_Parameters.xml',\n",
    "                        base_sbatch_file = '/project/projectdirs/metatlas/projects/mzmine_parameters/mzmine_job.sbatch',\n",
    "                        base_qsub_file = '/project/projectdirs/metatlas/projects/mzmine_parameters/mzmine_job.qsub')"
   ]
  },
  {
   "cell_type": "code",
   "execution_count": null,
   "metadata": {
    "collapsed": false
   },
   "outputs": [],
   "source": [
    "from metatlas.helpers import mzmine_helpers as mzm\n",
    "# mollaretii_P10_vs_0_output.csv\n",
    "# mzmine_out  = '/project/projectdirs/metatlas/projects/mzmine_parameters/pathway_1_mzmine_output.csv'\n",
    "mzmine_out = '/global/project/projectdirs/metatlas/projects/mzmine_parameters/dangl_exudate_C18_pos_mzmine_output.csv'\n",
    "# mzmine_out = '/global/project/projectdirs/metatlas/projects/mzmine_parameters/RootExu_C18_neg_mzmine_output.csv'\n",
    "atlas_df,myAtlas = mzm.metatlas_formatted_atlas_from_mzmine_output(mzmine_out,\n",
    "                                                               'positive',\n",
    "                                                               make_atlas=False,\n",
    "                                                               atlas_name='20161117_test_mzmine_atlas_pos')"
   ]
  },
  {
   "cell_type": "code",
   "execution_count": null,
   "metadata": {
    "collapsed": false
   },
   "outputs": [],
   "source": [
    "atlas_df.head()"
   ]
  },
  {
   "cell_type": "code",
   "execution_count": null,
   "metadata": {
    "collapsed": true
   },
   "outputs": [],
   "source": []
  },
  {
   "cell_type": "code",
   "execution_count": null,
   "metadata": {
    "collapsed": false
   },
   "outputs": [],
   "source": [
    "df = atlas_df.copy()\n",
    "df = df.fillna(0)\n",
    "df.set_index(['label','mz','mz_tolerance','rt_peak','rt_min','rt_max','inchi_key','detected_polarity','max_intensity'],inplace=True,)\n",
    "df.head()"
   ]
  },
  {
   "cell_type": "code",
   "execution_count": null,
   "metadata": {
    "collapsed": false
   },
   "outputs": [],
   "source": [
    "df = df.sort_index(axis=1)"
   ]
  },
  {
   "cell_type": "code",
   "execution_count": null,
   "metadata": {
    "collapsed": false
   },
   "outputs": [],
   "source": [
    "df.columns"
   ]
  },
  {
   "cell_type": "code",
   "execution_count": null,
   "metadata": {
    "collapsed": false,
    "scrolled": false
   },
   "outputs": [],
   "source": [
    "#add group info\n",
    "group_level = []\n",
    "for c in df.columns:\n",
    "    temp = ''\n",
    "    for g in groups:\n",
    "        for item in g.items:\n",
    "            if c.replace(' Peak height','') in item.name:\n",
    "                temp = g.name\n",
    "#     split_name = temp.split('_')\n",
    "#     split_name.extend([''] * (4 - len(split_name)))\n",
    "    group_level.append([temp,c.replace(' Peak height','')])\n",
    "#     print temp\n",
    "#     group_level.append([temp])\n",
    "list_of_lists = map(list, zip(*group_level))\n",
    "# list_of_lists = [list(elem) for elem in group_level]\n",
    "# df.columns = pd.MultiIndex.from_arrays(list_of_lists,names=('project','pathway','strain_code','iptg','species'))\n",
    "df.columns = pd.MultiIndex.from_arrays(list_of_lists,names=('group','file'))\n",
    "df.head()\n",
    "# print len(group_level),len(atlas_df.columns)\n",
    "# group_level"
   ]
  },
  {
   "cell_type": "code",
   "execution_count": null,
   "metadata": {
    "collapsed": true
   },
   "outputs": [],
   "source": [
    "df.to_csv('~/Downloads/dangle_c18_pos.csv')"
   ]
  },
  {
   "cell_type": "code",
   "execution_count": null,
   "metadata": {
    "collapsed": false
   },
   "outputs": [],
   "source": [
    "(target-ppm,target+ppm)"
   ]
  },
  {
   "cell_type": "code",
   "execution_count": null,
   "metadata": {
    "collapsed": false
   },
   "outputs": [],
   "source": [
    "mz = 363.2394162\n",
    "target = mz + 1.007276\n",
    "ppm = target * 15 / 1e6\n",
    "cpds = metob.database.query('select * from compounds where mono_isotopic_molecular_weight between %.4f and %.4f'%(target-ppm,target+ppm))\n",
    "results = [c for c in cpds]\n",
    "pd.DataFrame(results)"
   ]
  },
  {
   "cell_type": "code",
   "execution_count": null,
   "metadata": {
    "collapsed": false
   },
   "outputs": [],
   "source": [
    "638.4049378 - 1.007276"
   ]
  },
  {
   "cell_type": "code",
   "execution_count": null,
   "metadata": {
    "collapsed": false
   },
   "outputs": [],
   "source": [
    "cpds = metob.retrieve('Compounds',mono_isotopic_molecular_weight = '637.39%')\n",
    "for c in cpds:\n",
    "    print c.name,(c.mono_isotopic_molecular_weight + 1.007276 - 638.4049378) / 638.4049378 * 1e6"
   ]
  },
  {
   "cell_type": "code",
   "execution_count": null,
   "metadata": {
    "collapsed": false,
    "scrolled": false
   },
   "outputs": [],
   "source": [
    "import matplotlib.pyplot as plt\n",
    "from textwrap import wrap\n",
    "\n",
    "fig,ax = plt.subplots(4,6,figsize=(20,13))\n",
    "\n",
    "for i,s in enumerate(df.columns.get_level_values('species').unique()):\n",
    "    idx = np.unravel_index(i,(4,6)) #convert to row column index\n",
    "    xdata = df.xs(('Pathway=0',s),level=['pathway','species'],axis=1).max(axis=1)\n",
    "    ydata = df.xs(('Pathway=1',s),level=['pathway','species'],axis=1).max(axis=1)\n",
    "    ax[idx].plot(xdata.fillna(0)+1,ydata.fillna(0)+1,'.',markersize=20)\n",
    "    ax[idx].set_title('\\n'.join(wrap(s,18)))\n",
    "    ax[idx].set_xlabel('wild type')\n",
    "    ax[idx].set_ylabel('engineered')\n",
    "    ax[idx].set_yscale('log')\n",
    "    ax[idx].set_xscale('log')\n",
    "\n",
    "    plt.show()\n",
    "plt.tight_layout()"
   ]
  },
  {
   "cell_type": "code",
   "execution_count": null,
   "metadata": {
    "collapsed": false
   },
   "outputs": [],
   "source": [
    "df_signal = pd.DataFrame()\n",
    "for i,s in enumerate(df.columns.get_level_values('species').unique()):\n",
    "    idx = np.unravel_index(i,(4,6)) #convert to row column index\n",
    "    xdata = df.xs(('Pathway=0',s),level=['pathway','species'],axis=1).max(axis=1)\n",
    "    ydata = df.xs(('Pathway=1',s),level=['pathway','species'],axis=1).max(axis=1)\n",
    "    df_signal[s] = (xdata<1e5) & (ydata>1e7)\n",
    "df_signal['product count'] = df_signal.sum(axis=1)\n",
    "df_signal = df_signal.sort_values('product count',ascending=False)\n",
    "# for i,s in enumerate(df.columns.get_level_values('species').unique()):\n",
    "#     df_signal = df_signal.drop(s, 1)\n",
    "# df_signal"
   ]
  },
  {
   "cell_type": "code",
   "execution_count": null,
   "metadata": {
    "collapsed": false
   },
   "outputs": [],
   "source": [
    "fig = plt.figure(figsize= (7,7))\n",
    "ax = plt.hist(df_signal['product count'],bins=24)\n",
    "plt.xlabel('Number of species')\n",
    "plt.ylabel('Number of features')\n",
    "plt.show()"
   ]
  },
  {
   "cell_type": "code",
   "execution_count": null,
   "metadata": {
    "collapsed": false
   },
   "outputs": [],
   "source": [
    "df_signal.reset_index(inplace=True)\n",
    "#add intensity\n",
    "df_signal[(df_signal['product count']>2) & (df_signal['mz']>200)].sort_values('max_intensity',ascending=False).to_csv('Pathway_1_Products.csv')"
   ]
  },
  {
   "cell_type": "code",
   "execution_count": null,
   "metadata": {
    "collapsed": false
   },
   "outputs": [],
   "source": [
    "print df.index.name\n",
    "print df.index.get_values()[0]\n"
   ]
  },
  {
   "cell_type": "code",
   "execution_count": null,
   "metadata": {
    "collapsed": false
   },
   "outputs": [],
   "source": [
    "# 223,217,396\n",
    "filter_col = [col for col in list(atlas_df) if 'Peak height' in col if '_P0_' in col if '223' in col]\n",
    "atlas_df['P0 Intensity'] = atlas_df[filter_col].max(axis=1)\n",
    "filter_col = [col for col in list(atlas_df) if 'Peak height' in col if '_P10_' in col if '223' in col]\n",
    "atlas_df['P10 Intensity'] = atlas_df[filter_col].max(axis=1)\n",
    "filter_col"
   ]
  },
  {
   "cell_type": "code",
   "execution_count": null,
   "metadata": {
    "collapsed": false
   },
   "outputs": [],
   "source": [
    "import matplotlib.pyplot as plt\n",
    "fig = plt.figure(figsize=(5,5))\n",
    "ax = fig.gca()\n",
    "plt.plot(atlas_df['P0 Intensity']+1,atlas_df['P10 Intensity']+1,'.',markersize=20)\n",
    "plt.xlabel('Wild Type')\n",
    "plt.ylabel('Engineered Strain')\n",
    "ax.set_xscale('log')\n",
    "ax.set_yscale('log')\n",
    "plt.show()"
   ]
  },
  {
   "cell_type": "code",
   "execution_count": null,
   "metadata": {
    "collapsed": false
   },
   "outputs": [],
   "source": [
    "df = atlas_df[(atlas_df['P0 Intensity']<1e5)]\n",
    "df = df.sort_values('P10 Intensity',ascending=False)\n",
    "df.head(20)"
   ]
  },
  {
   "cell_type": "code",
   "execution_count": null,
   "metadata": {
    "collapsed": false
   },
   "outputs": [],
   "source": [
    "print atlas_df.shape\n",
    "print myAtlas.name\n",
    "atlas_df.head()"
   ]
  },
  {
   "cell_type": "markdown",
   "metadata": {},
   "source": [
    "## Remove compounds from an atlas where peak height less than cutoff"
   ]
  },
  {
   "cell_type": "code",
   "execution_count": null,
   "metadata": {
    "collapsed": false
   },
   "outputs": [],
   "source": [
    "m = peak_height.max(axis=1)\n",
    "print len(m)\n"
   ]
  },
  {
   "cell_type": "markdown",
   "metadata": {},
   "source": [
    "# Ancient Codes and Partially Developed Tools"
   ]
  },
  {
   "cell_type": "code",
   "execution_count": null,
   "metadata": {
    "collapsed": true
   },
   "outputs": [],
   "source": [
    "### Store data to a pickle file\n",
    "# saved_filename = '/global/homes/b/bpb/Downloads/20160818_POS_MO_HEfungusonly_V1.pkl'\n",
    "# with open(output_filename,'w') as f:\n",
    "#     dill.dump(metatlas_dataset,f)\n",
    "\n",
    "### Load a pre-existing metatlas dataset  \n",
    "# metatlas_dataset = ma_data.get_dill_data(saved_filename)"
   ]
  },
  {
   "cell_type": "code",
   "execution_count": null,
   "metadata": {
    "collapsed": false,
    "scrolled": false
   },
   "outputs": [],
   "source": [
    "### copy files to $SCRATCH\n",
    "### You will likely never have to do this, but just in case, here is the code.\n",
    "# from shutil import copyfile\n",
    "# scratch = os.environ['SCRATCH']\n",
    "# for my_group in groups:\n",
    "#     for my_file in my_group.items:\n",
    "#         new_path = os.path.join(scratch,'temp_metatlas')\n",
    "#         if not os.path.isdir(new_path):\n",
    "#             os.mkdir(new_path)\n",
    "#         new_file = os.path.join(new_path,os.path.basename(my_file.hdf5_file))\n",
    "#         copyfile(my_file.hdf5_file, new_file)\n",
    "#         my_file.hdf5_file = new_file\n",
    "#         print my_file.hdf5_file"
   ]
  },
  {
   "cell_type": "code",
   "execution_count": null,
   "metadata": {
    "collapsed": false,
    "scrolled": false
   },
   "outputs": [],
   "source": [
    "# %matplotlib inline\n",
    "# dp = reload(dp)\n",
    "# pickles = ['/global/homes/b/bpb/Downloads/KZ_Avena_Exudate_atlases_and_groups_1/neg_data.pkl',\n",
    "#           '/global/homes/b/bpb/Downloads/KZ_Avena_Exudate_atlases_and_groups_1/pos_data.pkl',\n",
    "# '/global/homes/b/bpb/Downloads/KZ_Avena_Uptake_atlases_and_group_2/pos_data.pkl',\n",
    "# '/global/homes/b/bpb/Downloads/KZ_Avena_Uptake_atlases_and_group_2/neg_data.pkl']\n",
    "# for p in pickles:\n",
    "#     plot_location_label = p.split('.')[0]+'/'\n",
    "#     print plot_location_label\n",
    "#     if not os.path.exists(plot_location_label):\n",
    "#         os.makedirs(plot_location_label)\n",
    "#     metatlas_dataset = ma_data.get_dill_data(p)\n",
    "#     dp.make_identification_figure(input_dataset = metatlas_dataset, input_fname = p, include_lcmsruns = [],exclude_lcmsruns = ['RootCass','QC','Blank','blank'], output_loc=plot_location_label+'/identification')"
   ]
  },
  {
   "cell_type": "code",
   "execution_count": null,
   "metadata": {
    "collapsed": false,
    "scrolled": false
   },
   "outputs": [],
   "source": [
    "######### DO NOT USE #######\n",
    "# output_filename = '/global/homes/b/bpb/Downloads/20160531_KBL_C18_Vio_cells_384_Q_1_to_4.pkl'\n",
    "# data = dp.get_data_for_groups_and_atlas(groups,myAtlas,output_filename)\n",
    "############################"
   ]
  },
  {
   "cell_type": "code",
   "execution_count": null,
   "metadata": {
    "collapsed": false
   },
   "outputs": [],
   "source": [
    "######### DO NOT USE #######\n",
    "### THIS STILL NEEDS SOME REPAIRS ###\n",
    "# rt_corrector.display_atlases()\n",
    "### USE AT YOUR OWN RISK ###\n",
    "############################"
   ]
  },
  {
   "cell_type": "code",
   "execution_count": null,
   "metadata": {
    "collapsed": false
   },
   "outputs": [],
   "source": [
    "# msmls_files = metob.retrieve('Lcmsruns',experiment = '20161007_KBL_MPZHILIC3um_MSMLS_stds',name = '%pos%',username = '*')\n",
    "# print len(msmls_files)\n",
    "# kate_files = metob.retrieve('Lcmsruns',experiment = '20161007_KBL_MPZHILIC3um_KateStandards',name = '%pos%', username = '*')\n",
    "# print len(kate_files)\n",
    "# g = metob.Group()\n",
    "# g.name = '20161007_MP3umZHILIC_V12_POS_MetIDJamboree'\n",
    "# for f in msmls_files:\n",
    "#     g.items.append(f)\n",
    "# for f in kate_files:\n",
    "#     g.items.append(f)\n",
    "# metob.store([g])"
   ]
  },
  {
   "cell_type": "code",
   "execution_count": null,
   "metadata": {
    "collapsed": false
   },
   "outputs": [],
   "source": [
    "# Keep compounds that are removed and let the project know that this compound is below the intensity requirement.\n",
    "peak_height = dp.make_output_dataframe(input_fname = '',input_dataset = metatlas_dataset,include_lcmsruns = [],exclude_lcmsruns = [], fieldname='peak_height' , output_loc=os.path.join(output_dir,'sheets'))\n",
    "min_intensity = 1e5\n",
    "to_drop = []\n",
    "peak_height.max(axis=1) > min_intensity\n",
    "ids = [myAtlas.compound_identifications[i] for i,b in enumerate(peak_height.max(axis=1) > min_intensity) if b == True]\n",
    "print(len(ids))\n",
    "myAtlas.compound_identifications = ids\n",
    "metob.store(myAtlas)"
   ]
  },
  {
   "cell_type": "code",
   "execution_count": null,
   "metadata": {
    "collapsed": true
   },
   "outputs": [],
   "source": []
  }
 ],
 "metadata": {
  "anaconda-cloud": {},
  "kernelspec": {
   "display_name": "MetAtlas 2.7",
   "language": "python",
   "name": "metatlas"
  },
  "language_info": {
   "codemirror_mode": {
    "name": "ipython",
    "version": 2
   },
   "file_extension": ".py",
   "mimetype": "text/x-python",
   "name": "python",
   "nbconvert_exporter": "python",
   "pygments_lexer": "ipython2",
   "version": "2.7.13"
  }
 },
 "nbformat": 4,
 "nbformat_minor": 0
}
