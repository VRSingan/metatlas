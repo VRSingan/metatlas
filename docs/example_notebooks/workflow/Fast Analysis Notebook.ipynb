{
 "cells": [
  {
   "cell_type": "code",
   "execution_count": 1,
   "metadata": {
    "collapsed": false
   },
   "outputs": [
    {
     "data": {
      "text/html": [
       "<style>.container { width:100% !important; }</style>"
      ],
      "text/plain": [
       "<IPython.core.display.HTML object>"
      ]
     },
     "metadata": {},
     "output_type": "display_data"
    },
    {
     "name": "stderr",
     "output_type": "stream",
     "text": [
      "/global/common/software/m2650/python-cori/lib/python2.7/site-packages/matplotlib/__init__.py:1405: UserWarning:\n",
      "\n",
      "\n",
      "This call to matplotlib.use() has no effect because the backend has already\n",
      "been chosen; matplotlib.use() must be called *before* pylab, matplotlib.pyplot,\n",
      "or matplotlib.backends is imported for the first time.\n",
      "\n",
      "\n"
     ]
    }
   ],
   "source": [
    "from IPython.core.display import display, HTML\n",
    "display(HTML(\"<style>.container { width:100% !important; }</style>\"))\n",
    "%matplotlib notebook\n",
    "import sys, os\n",
    "sys.path.insert(0,'/global/homes/d/dgct/Repos/metatlas/')\n",
    "\n",
    "#sys.path.insert(1,'/global/project/projectdirs/metatlas/anaconda/lib/python2.7/site-packages' )\n",
    "\n",
    "from metatlas.helpers import dill2plots as dp\n",
    "from metatlas.helpers import metatlas_get_data_helper_fun as ma_data\n",
    "from metatlas.helpers import rt_corrector as rt_corrector\n",
    "from metatlas.helpers import chromatograms_mp_plots as cp\n",
    "from metatlas.helpers import chromplotplus as cpp\n",
    "from metatlas.helpers import spectralprocessing as sp\n",
    "from metatlas.helpers import fastanalysis as fa\n",
    "import metatlas.metatlas_objects as metob\n",
    "from metatlas.helpers import mzmine_helpers as mzm\n",
    "\n",
    "import qgrid\n",
    "\n",
    "from ipywidgets import interact, interactive, fixed\n",
    "import ipywidgets as widgets\n",
    "from IPython.display import display\n",
    "\n",
    "import time\n",
    "import dill\n",
    "import numpy as np\n",
    "import multiprocessing as mp\n",
    "import pandas as pd\n",
    "import copy\n",
    "\n",
    "import matplotlib.pyplot as plot\n",
    "\n",
    "pd.set_option('display.max_rows', 5000)\n",
    "pd.set_option('display.max_columns', 500)\n",
    "pd.set_option('display.max_colwidth', 100)"
   ]
  },
  {
   "cell_type": "code",
   "execution_count": 2,
   "metadata": {
    "collapsed": false
   },
   "outputs": [
    {
     "name": "stdout",
     "output_type": "stream",
     "text": [
      "(0, u'SK_EMA_MP-SolapP_POS_20170914-2108-proton', Timestamp('2017-09-15 04:23:39'))\n"
     ]
    }
   ],
   "source": [
    "#default ema atlas: EMA_pos%50447%\n",
    "atlases = metob.retrieve('Atlas',name='SK_EMA_MP-SolapP_POS_20170914-2108-proton',username='*')\n",
    "# atlases = metob.retrieve('Atlas',name='SK-ZZ-MAIZE-HILIC-NEG-EMA50447',username='*')\n",
    "names = []\n",
    "for i,a in enumerate(atlases):\n",
    "    print(i,a.name,pd.to_datetime(a.last_modified,unit='s'))#len(a.compound_identifications)"
   ]
  },
  {
   "cell_type": "code",
   "execution_count": 3,
   "metadata": {
    "collapsed": false
   },
   "outputs": [
    {
     "name": "stdout",
     "output_type": "stream",
     "text": [
      "SK_EMA_MP-SolapP_POS_20170914-2108-proton\n",
      "smkosina\n"
     ]
    }
   ],
   "source": [
    "atlas = atlases[0]\n",
    "print atlas.name\n",
    "print atlas.username"
   ]
  },
  {
   "cell_type": "code",
   "execution_count": 4,
   "metadata": {
    "collapsed": false
   },
   "outputs": [
    {
     "name": "stdout",
     "output_type": "stream",
     "text": [
      "4\n",
      "(0, u'20160818_SK-MP_SolarP_MeOHex1_QE119_ZICHIL-549760_POS_M1', datetime.datetime(2017, 9, 14, 20, 58, 35))\n",
      "(1, u'20160818_SK-MP_SolarP_MeOHex1_QE119_ZICHIL-549760_POS_L1', datetime.datetime(2017, 9, 14, 20, 58, 40))\n",
      "(2, u'20160818_SK-MP_SolarP_MeOHex1_QE119_ZICHIL-549760_POS_C1', datetime.datetime(2017, 9, 14, 20, 58, 44))\n",
      "(3, u'20160818_SK-MP_SolarP_MeOHex1_QE119_ZICHIL-549760_POS_R1', datetime.datetime(2017, 9, 14, 20, 58, 51))\n"
     ]
    }
   ],
   "source": [
    "dp = reload(dp)\n",
    "# group_names_to_remove = pd.read_csv('/global/homes/b/bpb/Downloads/pks_files_to_remove.csv')['group'].tolist()\n",
    "\n",
    "groups = dp.select_groups_for_analysis(name = '%20160818_SK-MP_SolarP_MeOHex1_QE119_ZICHIL-549760%',\n",
    "                                       most_recent = True,\n",
    "                                       remove_empty = True,\n",
    "                                       include_list = [], exclude_list = ['NEG','QC','Bl'])#['QC','Blank'])\n"
   ]
  },
  {
   "cell_type": "code",
   "execution_count": 8,
   "metadata": {
    "collapsed": true
   },
   "outputs": [],
   "source": [
    "output_dir = '/global/homes/d/dgct/fast_analysis/new_parameters_py/'\n",
    "if not os.path.exists(output_dir):\n",
    "    os.makedirs(output_dir)"
   ]
  },
  {
   "cell_type": "code",
   "execution_count": 9,
   "metadata": {
    "collapsed": false
   },
   "outputs": [],
   "source": [
    "reload(fa)\n",
    "fa.filter_and_dump(atlas, groups, output_dir,\n",
    "                   min_intensity = 1e5,\n",
    "                   rt_tolerance = .25,\n",
    "                   mz_tolerance = 10,\n",
    "                   min_msms_score = .7, allow_no_msms = False,\n",
    "                   min_num_frag_matches = 3,  min_relative_frag_intensity = .05)"
   ]
  },
  {
   "cell_type": "code",
   "execution_count": null,
   "metadata": {
    "collapsed": true
   },
   "outputs": [],
   "source": []
  }
 ],
 "metadata": {
  "anaconda-cloud": {},
  "kernelspec": {
   "display_name": "mass spec cori",
   "language": "python",
   "name": "mass_spec_cori"
  },
  "language_info": {
   "codemirror_mode": {
    "name": "ipython",
    "version": 2
   },
   "file_extension": ".py",
   "mimetype": "text/x-python",
   "name": "python",
   "nbconvert_exporter": "python",
   "pygments_lexer": "ipython2",
   "version": "2.7.13"
  }
 },
 "nbformat": 4,
 "nbformat_minor": 2
}
