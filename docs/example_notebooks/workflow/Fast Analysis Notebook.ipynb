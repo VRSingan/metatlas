{
 "cells": [
  {
   "cell_type": "markdown",
   "metadata": {},
   "source": [
    "# Rapidly generate figures for atlas and groups\n",
    "\n",
    "To install the kernel used by NERSC-metatlas users, copy the following text to $HOME/.ipython/kernels/mass_spec_cori/kernel.json\n",
    "\n",
    "```\n",
    "{\n",
    " \"argv\": [\n",
    "  \"/global/common/software/m2650/python-cori/bin/python\",\n",
    "  \"-m\",\n",
    "  \"IPython.kernel\",\n",
    "  \"-f\",\n",
    "  \"{connection_file}\"\n",
    " ],\n",
    " \"env\": {\n",
    "    \"PATH\": \"/global/common/software/m2650/python-cori/bin:/usr/local/bin:/usr/bin:/bin:/usr/sbin:/sbin\"\n",
    " },\n",
    " \"display_name\": \"mass_spec_cori\",\n",
    " \"language\": \"python\"\n",
    "}\n",
    "```\n"
   ]
  },
  {
   "cell_type": "code",
   "execution_count": null,
   "metadata": {},
   "outputs": [],
   "source": [
    "from IPython.core.display import display, HTML\n",
    "display(HTML(\"<style>.container { width:100% !important; }</style>\"))\n",
    "%matplotlib notebook\n",
    "import sys\n",
    "import os\n",
    "\n",
    "#### add a path to your private code if not using production code ####\n",
    "sys.path.insert(0,\"/global/homes/b/bpb/repos/metatlas/\") #where your private code is\n",
    "######################################################################\n",
    "\n",
    "# metatlas imports\n",
    "from metatlas.helpers import dill2plots as dp\n",
    "from metatlas.helpers import fastanalysis as fa\n",
    "import metatlas.metatlas_objects as metob\n",
    "\n",
    "# other data tools you might need\n",
    "import pandas as pd\n",
    "import numpy as np\n",
    "from matplotlib import pyplot as plt"
   ]
  },
  {
   "cell_type": "markdown",
   "metadata": {},
   "source": [
    "# 1. Retrieve atlas by name"
   ]
  },
  {
   "cell_type": "code",
   "execution_count": null,
   "metadata": {},
   "outputs": [],
   "source": [
    "atlases = metob.retrieve('Atlas',name='ZZ_EMA_NEG_ECOFAB_Exp_ss_6550_20171031-1722',username='*')\n",
    "names = []\n",
    "for i,a in enumerate(atlases):\n",
    "    print(i,a.name,pd.to_datetime(a.last_modified,unit='s'))#len(a.compound_identifications)"
   ]
  },
  {
   "cell_type": "markdown",
   "metadata": {},
   "source": [
    "# 2. Pick which atlas from the list above. \n",
    "\n",
    "For example\n",
    "\n",
    "```\n",
    "atlas = atlases[0]\n",
    "``` \n",
    "\n",
    "will select the first one\n",
    "\n",
    "```\n",
    "atlas = atlases[1] \n",
    "```\n",
    "\n",
    "will select the second one... and so forth."
   ]
  },
  {
   "cell_type": "code",
   "execution_count": null,
   "metadata": {},
   "outputs": [],
   "source": [
    "atlas = atlases[0]\n",
    "print atlas.name\n",
    "print atlas.username"
   ]
  },
  {
   "cell_type": "markdown",
   "metadata": {},
   "source": [
    "# 3. Specify groups and filter by include_list and exclude_list"
   ]
  },
  {
   "cell_type": "code",
   "execution_count": null,
   "metadata": {},
   "outputs": [],
   "source": [
    "groups = dp.select_groups_for_analysis(name = '20170920_ZZ-ECOFAB_Maize-exudates_6550-hilic-%',\n",
    "                                       most_recent = True,\n",
    "                                       remove_empty = True,\n",
    "                                       include_list = [], exclude_list = ['POS','QC'])#['QC','Blank'])"
   ]
  },
  {
   "cell_type": "markdown",
   "metadata": {},
   "source": [
    "# 4. Replace 'results' with directory to store your results"
   ]
  },
  {
   "cell_type": "code",
   "execution_count": null,
   "metadata": {},
   "outputs": [],
   "source": [
    "output_dir = 'ZZ_EMA_NEG_ECOFAB_Exp_ss_6550_20171031-1722'\n",
    "output_dir = os.path.join(os.path.expanduser('~'),output_dir)\n",
    "if not os.path.exists(output_dir):\n",
    "    os.makedirs(output_dir)\n",
    "print('your results will be written to %s'%output_dir)"
   ]
  },
  {
   "cell_type": "markdown",
   "metadata": {},
   "source": [
    "# 5. Get data for atlas and groups and filter by mz, rt, and msms parameters"
   ]
  },
  {
   "cell_type": "code",
   "execution_count": null,
   "metadata": {
    "scrolled": false
   },
   "outputs": [],
   "source": [
    "fa = reload(fa)\n",
    "original_dataset,metatlas_dataset = fa.filter_and_dump(atlas, groups, output_dir,\n",
    "                   min_intensity = 1e3,\n",
    "                   rt_tolerance = 0.25,\n",
    "                   mz_tolerance = 10,\n",
    "                   min_msms_score = 0.2, allow_no_msms = False,\n",
    "                   min_num_frag_matches = 1,  min_relative_frag_intensity = .01,num_threads=4)"
   ]
  },
  {
   "cell_type": "markdown",
   "metadata": {},
   "source": [
    "# 6. See how many compounds are remaining"
   ]
  },
  {
   "cell_type": "code",
   "execution_count": null,
   "metadata": {},
   "outputs": [],
   "source": [
    "print('%d files and %d compounds in original dataset'%(len(original_dataset),len(original_dataset[0])))\n",
    "print('%d files and %d compounds in filtered dataset'%(len(metatlas_dataset),len(metatlas_dataset[0])))"
   ]
  },
  {
   "cell_type": "code",
   "execution_count": null,
   "metadata": {
    "collapsed": true
   },
   "outputs": [],
   "source": [
    "dp = reload(dp)\n",
    "atlas_identifications = dp.export_atlas_to_spreadsheet(atlas,os.path.join(output_dir,'atlas_export.csv'))\n",
    "peak_height = dp.make_output_dataframe(input_fname = '',input_dataset = metatlas_dataset,include_lcmsruns = [],exclude_lcmsruns = [], fieldname='peak_height' , output_loc=os.path.join(output_dir,'sheets'))\n",
    "peak_area = dp.make_output_dataframe(input_fname = '',input_dataset = metatlas_dataset,include_lcmsruns = [],exclude_lcmsruns = [], fieldname='peak_area' , output_loc=os.path.join(output_dir,'sheets'))\n",
    "mz_peak = dp.make_output_dataframe(input_fname = '',input_dataset = metatlas_dataset,include_lcmsruns = [],exclude_lcmsruns = [], fieldname='mz_peak' , output_loc=os.path.join(output_dir,'sheets'))\n",
    "rt_peak = dp.make_output_dataframe(input_fname = '', input_dataset = metatlas_dataset,include_lcmsruns = [],exclude_lcmsruns = [],fieldname='rt_peak' , output_loc=os.path.join(output_dir,'sheets'))\n",
    "mz_centroid = dp.make_output_dataframe(input_fname = '',input_dataset = metatlas_dataset,include_lcmsruns = [],exclude_lcmsruns = [], fieldname='mz_centroid' , output_loc=os.path.join(output_dir,'sheets'))\n",
    "rt_centroid = dp.make_output_dataframe(input_fname = '',input_dataset = metatlas_dataset,include_lcmsruns = [],exclude_lcmsruns = [], fieldname='rt_centroid' , output_loc=os.path.join(output_dir,'sheets'))"
   ]
  },
  {
   "cell_type": "code",
   "execution_count": null,
   "metadata": {
    "collapsed": true
   },
   "outputs": [],
   "source": []
  }
 ],
 "metadata": {
  "anaconda-cloud": {},
  "kernelspec": {
   "display_name": "mass spec cori",
   "language": "python",
   "name": "mass_spec_cori"
  },
  "language_info": {
   "codemirror_mode": {
    "name": "ipython",
    "version": 2
   },
   "file_extension": ".py",
   "mimetype": "text/x-python",
   "name": "python",
   "nbconvert_exporter": "python",
   "pygments_lexer": "ipython2",
   "version": "2.7.13"
  }
 },
 "nbformat": 4,
 "nbformat_minor": 2
}
