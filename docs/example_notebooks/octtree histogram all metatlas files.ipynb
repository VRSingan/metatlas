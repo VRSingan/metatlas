{
 "cells": [
  {
   "cell_type": "code",
   "execution_count": 15,
   "metadata": {
    "collapsed": false
   },
   "outputs": [
    {
     "name": "stdout",
     "output_type": "stream",
     "text": [
      "10929 4786\n"
     ]
    }
   ],
   "source": [
    "import sys\n",
    "sys.path.insert(0,'/global/project/projectdirs/metatlas/anaconda/lib/python2.7/site-packages' )\n",
    "from metatlas import metatlas_objects as metob\n",
    "from metatlas import h5_query as h5q\n",
    "import numpy as np\n",
    "import os\n",
    "import tables\n",
    "files = metob.retrieve('Lcmsruns',name = '%MSMS%',username='*')\n",
    "unique_files = {}\n",
    "for f in files:\n",
    "    unique_files[f.name] = f\n",
    "print len(files), len(unique_files)\n",
    "\n",
    "params = {}\n",
    "key_helper = []\n",
    "params['ms2_pos'] = {'ms_level':2,\"polarity\":1}\n",
    "key_helper.append('MS2_POS_')\n",
    "params['ms2_neg'] = {'ms_level':2,\"polarity\":0}\n",
    "key_helper.append('MS2_NEG_')\n",
    "params['ms1_pos'] = {'ms_level':1,\"polarity\":1}\n",
    "key_helper.append('MS1_POS_')\n",
    "params['ms1_neg'] = {'ms_level':1,\"polarity\":0}\n",
    "key_helper.append('MS1_NEG_')\n",
    "\n",
    "ngood = 0\n",
    "for i,(n, f) in enumerate(unique_files.items()):\n",
    "    if not os.path.exists(f.hdf5_file):\n",
    "        continue\n",
    "    ngood += 1\n",
    "    with tables.open_file(f.hdf5_file,'r') as fid:\n",
    "        file_info = h5q.get_info(fid)\n",
    "        for j,(file_layer,param) in enumerate(params.items()):\n",
    "            if file_info[file_layer]['nrows'] > 0:\n",
    "                data = h5q.get_data(fid,**param)\n",
    "                np.save('/project/projectdirs/metatlas/projects/metatlas_destiny/new_numpyfiles/%s_%s.%s'%(file_layer,os.path.basename(f.name).split('.')[0],'npy'),data)\n",
    "                print os.path.basename(f.name).split('.')[0]\n",
    "                print i, data.shape\n",
    "                print \"\"\n",
    "#         except RuntimeError as exc:\n",
    "#             pass\n",
    "\n",
    "print \"all done\"\n",
    "print ngood"
   ]
  },
  {
   "cell_type": "code",
   "execution_count": 32,
   "metadata": {
    "collapsed": true
   },
   "outputs": [],
   "source": [
    "params = {}\n",
    "key_helper = []\n",
    "params['ms2_pos'] = {'ms_level':2,\"polarity\":1}\n",
    "key_helper.append('MS2_POS_')\n",
    "params['ms2_neg'] = {'ms_level':2,\"polarity\":0}\n",
    "key_helper.append('MS2_NEG_')\n",
    "params['ms1_pos'] = {'ms_level':1,\"polarity\":1}\n",
    "key_helper.append('MS1_POS_')\n",
    "params['ms1_neg'] = {'ms_level':1,\"polarity\":0}\n",
    "key_helper.append('MS1_NEG_')\n",
    "\n",
    "ngood = 0\n",
    "for i,(n, f) in enumerate(unique_files.items()):\n",
    "    if not os.path.exists(f.hdf5_file):\n",
    "        continue\n",
    "    ngood += 1\n",
    "    with tables.open_file(f.hdf5_file,'r') as fid:\n",
    "        file_info = h5q.get_info(fid)\n",
    "        for j,(file_layer,param) in enumerate(params.items()):\n",
    "            if file_info[file_layer]['nrows'] > 0:\n",
    "                data = h5q.get_data(fid,**param)\n",
    "                np.save('/project/projectdirs/metatlas/projects/metatlas_destiny/new_numpyfiles/%s_%s.%s'%(file_layer,os.path.basename(f.name).split('.')[0],'npy'),data)\n",
    "                print os.path.basename(f.name).split('.')[0]\n",
    "                print i, data.shape\n",
    "                print \"\"\n",
    "#         except RuntimeError as exc:\n",
    "#             pass\n",
    "\n",
    "print \"all done\"\n",
    "print ngood"
   ]
  },
  {
   "cell_type": "code",
   "execution_count": 38,
   "metadata": {
    "collapsed": false
   },
   "outputs": [
    {
     "data": {
      "text/plain": [
       "[]"
      ]
     },
     "execution_count": 38,
     "metadata": {},
     "output_type": "execute_result"
    }
   ],
   "source": [
    "%system mkdir /project/projectdirs/metatlas/projects/metatlas_destiny/new_numpyfiles/"
   ]
  },
  {
   "cell_type": "code",
   "execution_count": 39,
   "metadata": {
    "collapsed": false
   },
   "outputs": [
    {
     "name": "stdout",
     "output_type": "stream",
     "text": [
      "20160531_C18_ACN___POS_MSMS_KBL_Qex_UV_Quad_3_B_4____Run36\n",
      "0 (2148459,)\n",
      "\n",
      "20160531_C18_ACN___POS_MSMS_KBL_Qex_UV_Quad_3_B_4____Run36\n",
      "0 (93328,)\n",
      "\n",
      "20160119_pHILIC___POS_MSMS_KZ_RootCass_4_MeOH_____Run237\n",
      "1 (6135584,)\n",
      "\n",
      "20160119_pHILIC___POS_MSMS_KZ_RootCass_4_MeOH_____Run237\n",
      "1 (131714,)\n",
      "\n",
      "20160209_RCC_C18_ACN_Phz_MSMS_WCS417r_PCA_198C_P2_blank\n",
      "2 (1851668,)\n",
      "\n",
      "20160209_RCC_C18_ACN_Phz_MSMS_WCS417r_PCA_198C_P2_blank\n",
      "2 (115622,)\n",
      "\n",
      "all done\n",
      "3\n"
     ]
    }
   ],
   "source": [
    "ngood = 0\n",
    "for i,(n, f) in enumerate(unique_files.items()):\n",
    "    if not os.path.exists(f.hdf5_file):\n",
    "        continue\n",
    "    ngood += 1\n",
    "    with tables.open_file(f.hdf5_file,'r') as fid:\n",
    "        file_info = h5q.get_info(fid)\n",
    "        for j,(file_layer,param) in enumerate(params.items()):\n",
    "            if file_info[file_layer]['nrows'] > 0:\n",
    "                data = h5q.get_data(fid,**param)\n",
    "                np.save('/project/projectdirs/metatlas/projects/metatlas_destiny/new_numpyfiles/%s_%s.%s'%(file_layer,os.path.basename(f.name).split('.')[0],'npy'),data)\n",
    "                print os.path.basename(f.name).split('.')[0]\n",
    "                print i, data.shape\n",
    "                print \"\"\n",
    "#         except RuntimeError as exc:\n",
    "#             pass\n",
    "\n",
    "print \"all done\"\n",
    "print ngood"
   ]
  },
  {
   "cell_type": "code",
   "execution_count": 13,
   "metadata": {
    "collapsed": false
   },
   "outputs": [],
   "source": [
    "import numpy as np"
   ]
  },
  {
   "cell_type": "code",
   "execution_count": 12,
   "metadata": {
    "collapsed": false
   },
   "outputs": [
    {
     "data": {
      "text/plain": [
       "u'20160531_C18_ACN___POS_MSMS_KBL_Qex_UV_Quad_4_D_9____Run289.npy'"
      ]
     },
     "execution_count": 12,
     "metadata": {},
     "output_type": "execute_result"
    }
   ],
   "source": []
  },
  {
   "cell_type": "markdown",
   "metadata": {},
   "source": [
    "# get all MS1 data from files at a specified polarity"
   ]
  },
  {
   "cell_type": "code",
   "execution_count": null,
   "metadata": {
    "collapsed": true
   },
   "outputs": [],
   "source": []
  },
  {
   "cell_type": "markdown",
   "metadata": {},
   "source": [
    "# get all MS/MS data from all files"
   ]
  },
  {
   "cell_type": "code",
   "execution_count": null,
   "metadata": {
    "collapsed": true
   },
   "outputs": [],
   "source": [
    "#get all files\n",
    "all_files = metob.retrieve('Lcmsruns',username='*')"
   ]
  },
  {
   "cell_type": "code",
   "execution_count": null,
   "metadata": {
    "collapsed": false
   },
   "outputs": [],
   "source": [
    "for f in all_files[:100]:\n",
    "#     print h5q.get_info(f.hdf5_file) #this is way to slow\n",
    "    try:\n",
    "        with open(f.hdf5_file) as fid:\n",
    "            data = h5q.get_data(fid,ms_level = 2,polarity = 1)\n",
    "        print len(data)\n",
    "    except:\n",
    "        pass #no MSMS data"
   ]
  },
  {
   "cell_type": "code",
   "execution_count": null,
   "metadata": {
    "collapsed": false
   },
   "outputs": [],
   "source": [
    "import numpy as np\n",
    "np.info(data)"
   ]
  },
  {
   "cell_type": "markdown",
   "metadata": {},
   "source": [
    "# get all files that have been put in a group"
   ]
  },
  {
   "cell_type": "code",
   "execution_count": null,
   "metadata": {
    "collapsed": true
   },
   "outputs": [],
   "source": [
    "all_files = metob.retrieve('Lcmsruns',username='*')"
   ]
  },
  {
   "cell_type": "code",
   "execution_count": null,
   "metadata": {
    "collapsed": true
   },
   "outputs": [],
   "source": [
    "#TODO: add octtree code from yt here\n",
    "#TODO: scrape the date that each file was run and add that to the file list (should be in the database)\n"
   ]
  },
  {
   "cell_type": "code",
   "execution_count": null,
   "metadata": {
    "collapsed": true
   },
   "outputs": [],
   "source": [
    "# file_metadata = {}\n",
    "# file_metadata['date'] = []\n",
    "# file_metadata['name'] = []\n",
    "# file_metadata['hdf5_file'] = []\n",
    "# file_metadata['experiment'] = []\n"
   ]
  },
  {
   "cell_type": "code",
   "execution_count": null,
   "metadata": {
    "collapsed": true
   },
   "outputs": [],
   "source": []
  }
 ],
 "metadata": {
  "kernelspec": {
   "display_name": "Python 2",
   "language": "python",
   "name": "python2"
  },
  "language_info": {
   "codemirror_mode": {
    "name": "ipython",
    "version": 2
   },
   "file_extension": ".py",
   "mimetype": "text/x-python",
   "name": "python",
   "nbconvert_exporter": "python",
   "pygments_lexer": "ipython2",
   "version": "2.7.11"
  }
 },
 "nbformat": 4,
 "nbformat_minor": 0
}
