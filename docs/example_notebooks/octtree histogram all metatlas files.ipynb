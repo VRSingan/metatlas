{
 "cells": [
  {
   "cell_type": "code",
   "execution_count": 2,
   "metadata": {
    "collapsed": false
   },
   "outputs": [
    {
     "name": "stdout",
     "output_type": "stream",
     "text": [
      "('Metatlas live in ', '/global/project/projectdirs/metatlas/anaconda/lib/python2.7/site-packages/metatlas')\n",
      "you're running on 072ec0638adb at 172.17.0.4 \n"
     ]
    }
   ],
   "source": [
    "import sys\n",
    "sys.path.insert(0,'/global/project/projectdirs/metatlas/anaconda/lib/python2.7/site-packages' )\n",
    "from metatlas import metatlas_objects as metob\n",
    "from metatlas import h5_query as h5q"
   ]
  },
  {
   "cell_type": "code",
   "execution_count": 9,
   "metadata": {
    "collapsed": false
   },
   "outputs": [
    {
     "name": "stdout",
     "output_type": "stream",
     "text": [
      "7443 3681\n"
     ]
    }
   ],
   "source": [
    "files = metob.retrieve('Lcmsruns',name = '%c18%',username='*')\n",
    "#4000 hilic files, 3681 c18 files\n",
    "names = []\n",
    "for f in files:\n",
    "    names.append(f.name)\n",
    "u_names = list(set(names))\n",
    "print len(files), len(u_names)"
   ]
  },
  {
   "cell_type": "markdown",
   "metadata": {},
   "source": [
    "# get all MS1 data from files at a specified polarity"
   ]
  },
  {
   "cell_type": "code",
   "execution_count": null,
   "metadata": {
    "collapsed": true
   },
   "outputs": [],
   "source": [
    "for f in files:\n",
    "    data = h5q.get_data(f.hdf5_file,ms_level = 1,polarity = 1)"
   ]
  },
  {
   "cell_type": "markdown",
   "metadata": {},
   "source": [
    "# get all MS/MS data from all files"
   ]
  },
  {
   "cell_type": "code",
   "execution_count": 11,
   "metadata": {
    "collapsed": true
   },
   "outputs": [],
   "source": [
    "\n",
    "#get all files\n",
    "all_files = metob.retrieve('Lcmsruns',username='*')\n"
   ]
  },
  {
   "cell_type": "code",
   "execution_count": 16,
   "metadata": {
    "collapsed": false
   },
   "outputs": [
    {
     "name": "stdout",
     "output_type": "stream",
     "text": [
      "1724\n",
      "539832\n",
      "547039\n"
     ]
    }
   ],
   "source": [
    "for f in all_files[:100]:\n",
    "#     print h5q.get_info(f.hdf5_file) #this is way to slow\n",
    "    try:\n",
    "        data = h5q.get_data(f.hdf5_file,ms_level = 2,polarity = 1)\n",
    "        print len(data)\n",
    "    except:\n",
    "        pass #no MSMS data"
   ]
  },
  {
   "cell_type": "code",
   "execution_count": 18,
   "metadata": {
    "collapsed": false
   },
   "outputs": [
    {
     "name": "stdout",
     "output_type": "stream",
     "text": [
      "class:  ndarray\n",
      "shape:  (547039,)\n",
      "strides:  (24,)\n",
      "itemsize:  24\n",
      "aligned:  True\n",
      "contiguous:  True\n",
      "fortran:  True\n",
      "data pointer: 0x7fe2eb7be010\n",
      "byteorder:  little\n",
      "byteswap:  False\n",
      "type: [('mz', '<f4'), ('i', '<f4'), ('rt', '<f4'), ('precursor_MZ', '<f4'), ('precursor_intensity', '<f4'), ('collision_energy', '<f4')]\n"
     ]
    }
   ],
   "source": [
    "import numpy as np\n",
    "np.info(data)"
   ]
  },
  {
   "cell_type": "code",
   "execution_count": null,
   "metadata": {
    "collapsed": true
   },
   "outputs": [],
   "source": [
    "#TODO: add octtree code from yt here\n",
    "#TODO: scrape the date that each file was run and add that to the file list (should be in the database)\n"
   ]
  },
  {
   "cell_type": "code",
   "execution_count": null,
   "metadata": {
    "collapsed": true
   },
   "outputs": [],
   "source": [
    "# file_metadata = {}\n",
    "# file_metadata['date'] = []\n",
    "# file_metadata['name'] = []\n",
    "# file_metadata['hdf5_file'] = []\n",
    "# file_metadata['experiment'] = []\n"
   ]
  },
  {
   "cell_type": "code",
   "execution_count": null,
   "metadata": {
    "collapsed": true
   },
   "outputs": [],
   "source": []
  }
 ],
 "metadata": {
  "kernelspec": {
   "display_name": "Python 2",
   "language": "python",
   "name": "python2"
  },
  "language_info": {
   "codemirror_mode": {
    "name": "ipython",
    "version": 2
   },
   "file_extension": ".py",
   "mimetype": "text/x-python",
   "name": "python",
   "nbconvert_exporter": "python",
   "pygments_lexer": "ipython2",
   "version": "2.7.11"
  }
 },
 "nbformat": 4,
 "nbformat_minor": 0
}
