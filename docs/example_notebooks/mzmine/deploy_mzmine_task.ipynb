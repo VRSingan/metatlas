{
 "cells": [
  {
   "cell_type": "markdown",
   "metadata": {},
   "source": [
    "# 1. Import Python Packages"
   ]
  },
  {
   "cell_type": "code",
   "execution_count": 1,
   "metadata": {
    "collapsed": false
   },
   "outputs": [
    {
     "name": "stderr",
     "output_type": "stream",
     "text": [
      "/global/project/projectdirs/metatlas/anaconda/lib/python2.7/site-packages/matplotlib/__init__.py:1350: UserWarning:  This call to matplotlib.use() has no effect\n",
      "because the backend has already been chosen;\n",
      "matplotlib.use() must be called *before* pylab, matplotlib.pyplot,\n",
      "or matplotlib.backends is imported for the first time.\n",
      "\n",
      "  warnings.warn(_use_error_msg)\n"
     ]
    }
   ],
   "source": [
    "%matplotlib notebook\n",
    "import sys, os\n",
    "sys.path.insert(0,'/global/homes/b/bpb/repos/metatlas')\n",
    "\n",
    "# sys.path.insert(1,'/global/project/projectdirs/metatlas/anaconda/lib/python2.7/site-packages' )\n",
    "\n",
    "\n",
    "import metatlas.metatlas_objects as metob\n",
    "from metatlas.helpers import mzmine_helpers as mzm\n",
    "from metatlas.helpers import dill2plots as dp\n",
    "from metatlas.helpers import metatlas_get_data_helper_fun as ma_data\n",
    "from metatlas.helpers import rt_corrector as rt_corrector\n",
    "from metatlas.helpers import chromatograms_mp_plots as cp\n",
    "\n",
    "import numpy as np\n",
    "import pandas as pd\n",
    "\n",
    "from matplotlib import pyplot as plt\n",
    "import multiprocessing as mp\n",
    "\n",
    "pd.set_option('display.max_rows', 50)\n",
    "pd.set_option('display.max_columns', 100)\n",
    "pd.set_option('display.max_colwidth', 20)\n",
    "pd.set_option('display.width', 1000)\n"
   ]
  },
  {
   "cell_type": "code",
   "execution_count": null,
   "metadata": {
    "collapsed": true
   },
   "outputs": [],
   "source": [
    "# module unload oracle-jdk/1.7_64bit\n",
    "# module unload oracle_client/11.2.0.3.0\n",
    "# module load oracle-jdk/1.8_64bit\n",
    "# export _JAVA_OPTIONS=\"-Xmx440G\"\n",
    "\n",
    "# /project/projectdirs/metatlas/projects/mzmine_parameters/MZmine-2.21/startMZmine_Headless.sh /project/projectdirs/metatlas/projects/mzmine_parameters/PseudoC_C18_NEG_job_script_parameters.xmlbpb@edison07:/project/projectdirs/metatlas/projects/mzmine_parameters>"
   ]
  },
  {
   "cell_type": "code",
   "execution_count": null,
   "metadata": {
    "collapsed": true
   },
   "outputs": [],
   "source": [
    "# filename = '/global/homes/b/bpb/batch_params/000008_pos_c18_dangl.xml'\n",
    "# with open(filename,'r') as fid:\n",
    "#     xml_str = fid.read()\n"
   ]
  },
  {
   "cell_type": "code",
   "execution_count": null,
   "metadata": {
    "collapsed": false
   },
   "outputs": [],
   "source": [
    "# groups = dp.select_groups_for_analysis(name = '20151130_LS_Archetypes%C18_pos',\n",
    "#                                        most_recent = True,\n",
    "#                                        remove_empty = True,#'Strain=SB214'\n",
    "#                                        include_list = [], exclude_list = ['QC', 'Blank','L2B56','HA26','HA21','L2B49','D1B20A','L2B47','L1B44','L2B36', 'L2B57', 'HD36','HC17', 'HD72', 'L1B56','HD65'])#['QC','Blank'])\n",
    "# files = []\n",
    "# for g in groups:\n",
    "#     for f in g.items:\n",
    "#         files.append(f)\n",
    "# task.lcmsruns = files\n",
    "# new_d = mzm.replace_files(d,list(pd.unique([f.mzml_file for f in task.lcmsruns])))\n",
    "# list(pd.unique([f.name for f in task.lcmsruns]))"
   ]
  },
  {
   "cell_type": "code",
   "execution_count": 5,
   "metadata": {
    "collapsed": false
   },
   "outputs": [
    {
     "data": {
      "text/plain": [
       "{'acquisition_time': 1481154072,\n",
       " 'creation_time': '2017-01-09T10:43:53',\n",
       " 'description': u'20161207_KBL_C18_LIPID_MW_PowMil_final 20161207_C18_lipid___FPS_Msonly_KBL_MW_Qex139_UV_JJ30_Unlabeled_spore_rep_1__1014_C_334Blank_Run10.mzML',\n",
       " 'experiment': u'20161207_KBL_C18_LIPID_MW_PowMil_final',\n",
       " 'hdf5_file': u'/global/project/projectdirs/metatlas/raw_data/kblouie/20161207_KBL_C18_LIPID_MW_PowMil_final/20161207_C18_lipid___FPS_Msonly_KBL_MW_Qex139_UV_JJ30_Unlabeled_spore_rep_1__1014_C_334Blank_Run10.h5',\n",
       " 'head_id': u'9d3461d26f1e4ada8e1b5e909362b4ca',\n",
       " 'injection_volume': 0.0,\n",
       " 'injection_volume_units': 'uL',\n",
       " 'last_modified': '2017-01-09T10:51:08',\n",
       " 'method': None,\n",
       " 'mzml_file': u'/global/project/projectdirs/metatlas/raw_data/kblouie/20161207_KBL_C18_LIPID_MW_PowMil_final/20161207_C18_lipid___FPS_Msonly_KBL_MW_Qex139_UV_JJ30_Unlabeled_spore_rep_1__1014_C_334Blank_Run10.mzML',\n",
       " 'name': u'20161207_C18_lipid___FPS_Msonly_KBL_MW_Qex139_UV_JJ30_Unlabeled_spore_rep_1__1014_C_334Blank_Run10.mzML',\n",
       " 'pass_qc': False,\n",
       " 'prev_uid': u'origin',\n",
       " 'sample': None,\n",
       " 'unique_id': u'9d3461d26f1e4ada8e1b5e909362b4ca',\n",
       " 'username': u'pasteur'}"
      ]
     },
     "execution_count": 5,
     "metadata": {},
     "output_type": "execute_result"
    }
   ],
   "source": [
    "files[0]"
   ]
  },
  {
   "cell_type": "code",
   "execution_count": 31,
   "metadata": {
    "collapsed": false,
    "scrolled": false
   },
   "outputs": [
    {
     "data": {
      "text/plain": [
       "[u'20161207_C18_lipid___POS_MSMS_KBL_MW_Qex139_UV_JJ30_Unlabeled_spore_rep_1__1014_C__Run8.mzML',\n",
       " u'20161207_C18_lipid___POS_MSMS_KBL_MW_Qex139_UV_JJ31_Labeled_spore_rep_1__1014_C__Run11.mzML',\n",
       " u'20161207_C18_lipid___POS_MSMS_KBL_MW_Qex139_UV_JJ32_Unlabeled_spore_rep_2__1014_C__Run14.mzML',\n",
       " u'20161207_C18_lipid___POS_MSMS_KBL_MW_Qex139_UV_JJ33_Labeled_spore_rep_2__1014_C__Run17.mzML',\n",
       " u'20161207_C18_lipid___POS_MSMS_KBL_MW_Qex139_UV_JJ34_Unlabeled_spore_rep_3__1014_C__Run20.mzML',\n",
       " u'20161207_C18_lipid___POS_MSMS_KBL_MW_Qex139_UV_JJ35_Labeled_spore_rep_3__1014_C__Run23.mzML',\n",
       " u'20161207_C18_lipid___POS_MSMS_KBL_MW_Qex139_UV_JJ36_Unlabeled_spore_rep_1__1014_C__Run26.mzML',\n",
       " u'20161207_C18_lipid___POS_MSMS_KBL_MW_Qex139_UV_JJ37_Labeled_spore_rep_1__1014_C__Run29.mzML',\n",
       " u'20161207_C18_lipid___POS_MSMS_KBL_MW_Qex139_UV_JJ38_Unlabeled_spore_rep_2__1014_C__Run32.mzML',\n",
       " u'20161207_C18_lipid___POS_MSMS_KBL_MW_Qex139_UV_JJ39_Labeled_spore_rep_2__1014_C__Run35.mzML',\n",
       " u'20161207_C18_lipid___POS_MSMS_KBL_MW_Qex139_UV_JJ40_Unlabeled_spore_rep_3__1014_C__Run38.mzML',\n",
       " u'20161207_C18_lipid___POS_MSMS_KBL_MW_Qex139_UV_JJ41_Labeled_spore_rep_3__1014_C__Run41.mzML',\n",
       " u'20161207_C18_lipid___POS_MSMS_KBL_MW_Qex139_UV_JJ48_Unlabeled_spore_rep_1__1014_C__Run62.mzML',\n",
       " u'20161207_C18_lipid___POS_MSMS_KBL_MW_Qex139_UV_JJ49_Labeled_spore_rep_1__1014_C__Run65.mzML',\n",
       " u'20161207_C18_lipid___POS_MSMS_KBL_MW_Qex139_UV_JJ50_Unlabeled_spore_rep_2__1014_C__Run68.mzML',\n",
       " u'20161207_C18_lipid___POS_MSMS_KBL_MW_Qex139_UV_JJ51_Labeled_spore_rep_2__1014_C__Run71.mzML']"
      ]
     },
     "execution_count": 31,
     "metadata": {},
     "output_type": "execute_result"
    }
   ],
   "source": [
    "# files = metob.retrieve('Lcmsruns',experiment='20170428_KBL_C18_Psimiae_DiffSubs',name='%pellet%',username='*')#name = '%NEG%UV_Fungus_1to10%102040%',username='*')\n",
    "\n",
    "\n",
    "files = metob.retrieve('Lcmsruns',experiment='%final',name='%_POS_%spore%',username='*')#name = '%NEG%UV_Fungus_1to10%102040%',username='*')\n",
    "# files = metob.retrieve('Lcmsruns',hdf5_file = '%neg%coelicolor_media%day6%',username='*')\n",
    "# files = [f for f in files if not 'InjBl' in f.name]\n",
    "# files = [f for f in files if not '_QC-' in f.name]\n",
    "\n",
    "filtered_files = []\n",
    "for f in files:\n",
    "#     if 'Blank' in f.name:\n",
    "#         if 'MeOHBlank_Pre' in f.name:\n",
    "#             filtered_files.append(f)\n",
    "#     elif '_QC_' in f.name:\n",
    "#         pass\n",
    "#     else:\n",
    "    filtered_files.append(f)\n",
    "files = filtered_files\n",
    "\n",
    "sorted(list(pd.unique([f.name for f in files])))"
   ]
  },
  {
   "cell_type": "code",
   "execution_count": 32,
   "metadata": {
    "collapsed": false
   },
   "outputs": [
    {
     "name": "stdout",
     "output_type": "stream",
     "text": [
      "(0, 'net.sf.mzmine.modules.rawdatamethods.rawdataimport.RawDataImportModule')\n",
      "(1, 'net.sf.mzmine.modules.rawdatamethods.peakpicking.massdetection.MassDetectionModule')\n",
      "(2, 'net.sf.mzmine.modules.masslistmethods.chromatogrambuilder.ChromatogramBuilderModule')\n",
      "(3, 'net.sf.mzmine.modules.peaklistmethods.peakpicking.smoothing.SmoothingModule')\n",
      "(4, 'net.sf.mzmine.modules.peaklistmethods.peakpicking.deconvolution.DeconvolutionModule')\n",
      "(5, 'net.sf.mzmine.modules.peaklistmethods.filtering.peakfilter.PeakFilterModule')\n",
      "(6, 'net.sf.mzmine.modules.peaklistmethods.isotopes.deisotoper.IsotopeGrouperModule')\n",
      "(7, 'net.sf.mzmine.modules.peaklistmethods.identification.adductsearch.AdductSearchModule')\n",
      "(8, 'net.sf.mzmine.modules.peaklistmethods.identification.complexsearch.ComplexSearchModule')\n",
      "(9, 'net.sf.mzmine.modules.peaklistmethods.identification.fragmentsearch.FragmentSearchModule')\n",
      "(10, 'net.sf.mzmine.modules.peaklistmethods.alignment.join.JoinAlignerModule')\n",
      "(11, 'net.sf.mzmine.modules.peaklistmethods.filtering.rowsfilter.RowsFilterModule')\n",
      "(12, 'net.sf.mzmine.modules.peaklistmethods.filtering.duplicatefilter.DuplicateFilterModule')\n",
      "(13, 'net.sf.mzmine.modules.peaklistmethods.gapfilling.samerange.SameRangeGapFillerModule')\n",
      "(14, 'net.sf.mzmine.modules.peaklistmethods.io.csvexport.CSVExportModule')\n"
     ]
    }
   ],
   "source": [
    "task = metob.MZMineTask()\n",
    "xml_str = mzm.get_batch_file_template()\n",
    "d = mzm.xml_to_dict(xml_str)\n",
    "for i,k in enumerate(d['batch']['batchstep']):\n",
    "    print(i,k['@method'])\n",
    "\n",
    "task.polarity = 'positive'\n",
    "task.lcmsruns = files\n",
    "new_d = mzm.replace_files(d,list(pd.unique([f.mzml_file for f in task.lcmsruns])))\n",
    "\n",
    "task.min_peak_duration = 0.025\n",
    "task.max_peak_duration = 30.0\n",
    "task.rt_tol_perfile = 0.015\n",
    "task.rt_tol_multifile = 0.15\n",
    "task.min_peak_height = 1e6\n",
    "task.noise_floor = 3e4\n",
    "task.mz_tolerance = 10.0\n",
    "task.min_sn_ratio = 2.0\n",
    "\n",
    "task.output_csv = '/project/projectdirs/metatlas/projects/jgi_projects/wildermuth_leafspore/20161207_KBL_C18_LIPID_MW_PowMil_final_pos_spore.csv'\n",
    "task.input_xml = '/project/projectdirs/metatlas/projects/jgi_projects/wildermuth_leafspore/20161207_KBL_C18_LIPID_MW_PowMil_final_pos_spore.xml'\n",
    "# task.input_xml = '/project/projectdirs/metatlas/projects/mzmine_parameters/batch_files/test_batch.xml'"
   ]
  },
  {
   "cell_type": "code",
   "execution_count": 33,
   "metadata": {
    "collapsed": false
   },
   "outputs": [],
   "source": [
    "task.mzmine_launcher = mzm.get_latest_mzmine_binary()\n",
    "new_d = mzm.configure_mass_detection(new_d,task.noise_floor)\n",
    "new_d = mzm.configure_chromatogram_builder(new_d,task.min_peak_duration,task.min_peak_height,task.mz_tolerance)\n",
    "new_d = mzm.configure_peak_deconvolution(new_d,task.min_peak_height,task.min_sn_ratio,task.min_peak_duration,task.max_peak_duration)\n",
    "new_d = mzm.configure_isotope_adduct_fragment_search(new_d,task.mz_tolerance,task.rt_tol_perfile,task.polarity,task.min_peak_height)\n",
    "new_d = mzm.configure_join_aligner(new_d,task.mz_tolerance,task.rt_tol_multifile)\n",
    "new_d = mzm.configure_duplicate_filter(new_d,task.mz_tolerance,task.rt_tol_perfile)\n",
    "new_d = mzm.configure_gap_filling(new_d,task.mz_tolerance)\n",
    "new_d = mzm.configure_csv_output(new_d,task.output_csv)\n",
    "\n",
    "t = mzm.dict_to_etree(new_d)\n",
    "mzm.indent_tree(t)\n",
    "xml_batch_str = mzm.tree_to_xml(t,filename=task.input_xml)"
   ]
  },
  {
   "cell_type": "code",
   "execution_count": 34,
   "metadata": {
    "collapsed": false
   },
   "outputs": [
    {
     "data": {
      "text/html": [
       "<div>\n",
       "<style>\n",
       "    .dataframe thead tr:only-child th {\n",
       "        text-align: right;\n",
       "    }\n",
       "\n",
       "    .dataframe thead th {\n",
       "        text-align: left;\n",
       "    }\n",
       "\n",
       "    .dataframe tbody tr th {\n",
       "        vertical-align: top;\n",
       "    }\n",
       "</style>\n",
       "<table border=\"1\" class=\"dataframe\">\n",
       "  <thead>\n",
       "    <tr style=\"text-align: right;\">\n",
       "      <th></th>\n",
       "      <th>creation_time</th>\n",
       "      <th>description</th>\n",
       "      <th>input_xml</th>\n",
       "      <th>input_xml_text</th>\n",
       "      <th>last_modified</th>\n",
       "      <th>max_peak_duration</th>\n",
       "      <th>min_peak_duration</th>\n",
       "      <th>min_peak_height</th>\n",
       "      <th>mz_tolerance</th>\n",
       "      <th>mz_tolerance_units</th>\n",
       "      <th>mzmine_launcher</th>\n",
       "      <th>name</th>\n",
       "      <th>noise_floor</th>\n",
       "      <th>output_csv</th>\n",
       "      <th>output_project</th>\n",
       "      <th>polarity</th>\n",
       "      <th>rt_tol_multifile</th>\n",
       "      <th>rt_tol_perfile</th>\n",
       "      <th>rt_units</th>\n",
       "      <th>unique_id</th>\n",
       "      <th>username</th>\n",
       "    </tr>\n",
       "  </thead>\n",
       "  <tbody>\n",
       "    <tr>\n",
       "      <th>0</th>\n",
       "      <td>2017-06-20 21:42:14</td>\n",
       "      <td>No description</td>\n",
       "      <td>/project/projectdirs/metatlas/projects/jgi_projects/wildermuth_leafspore/20161207_KBL_C18_LIPID_MW_PowMil_final_pos_spore.xml</td>\n",
       "      <td></td>\n",
       "      <td>2017-06-20 21:42:14</td>\n",
       "      <td>30.0</td>\n",
       "      <td>0.025</td>\n",
       "      <td>1000000.0</td>\n",
       "      <td>10.0</td>\n",
       "      <td>ppm</td>\n",
       "      <td>/project/projectdirs/metatlas/projects/mzmine_parameters/MZmine/MZmine-2.24/startMZmine_NERSC_Headless_Cori.sh</td>\n",
       "      <td>Untitled</td>\n",
       "      <td>30000.0</td>\n",
       "      <td>/project/projectdirs/metatlas/projects/jgi_projects/wildermuth_leafspore/20161207_KBL_C18_LIPID_MW_PowMil_final_pos_spore.csv</td>\n",
       "      <td></td>\n",
       "      <td>positive</td>\n",
       "      <td>0.15</td>\n",
       "      <td>0.015</td>\n",
       "      <td>min</td>\n",
       "      <td>c706b5c353a740cc898af0d217bfc909</td>\n",
       "      <td>bpb</td>\n",
       "    </tr>\n",
       "  </tbody>\n",
       "</table>\n",
       "</div>"
      ],
      "text/plain": [
       "        creation_time     description                                                                                                                      input_xml input_xml_text       last_modified  max_peak_duration  min_peak_duration  min_peak_height  mz_tolerance mz_tolerance_units                                                                                                 mzmine_launcher      name  noise_floor                                                                                                                     output_csv output_project  polarity  rt_tol_multifile  rt_tol_perfile rt_units                         unique_id username\n",
       "0 2017-06-20 21:42:14  No description  /project/projectdirs/metatlas/projects/jgi_projects/wildermuth_leafspore/20161207_KBL_C18_LIPID_MW_PowMil_final_pos_spore.xml                2017-06-20 21:42:14               30.0              0.025        1000000.0          10.0                ppm  /project/projectdirs/metatlas/projects/mzmine_parameters/MZmine/MZmine-2.24/startMZmine_NERSC_Headless_Cori.sh  Untitled      30000.0  /project/projectdirs/metatlas/projects/jgi_projects/wildermuth_leafspore/20161207_KBL_C18_LIPID_MW_PowMil_final_pos_spore.csv                 positive              0.15           0.015      min  c706b5c353a740cc898af0d217bfc909      bpb"
      ]
     },
     "execution_count": 34,
     "metadata": {},
     "output_type": "execute_result"
    }
   ],
   "source": [
    "pd.set_option('display.max_colwidth', 200)\n",
    "df = metob.to_dataframe([task])\n",
    "df = df[[c for c in df.columns if not 'lcmsruns' in c]]\n",
    "df.head()"
   ]
  },
  {
   "cell_type": "code",
   "execution_count": 24,
   "metadata": {
    "collapsed": true
   },
   "outputs": [],
   "source": [
    "# todo: create scripts at nersc by editing the startmzmine_Linux script.\n",
    "# todo: create in mzmine_helpers.py a start task that automatically\n",
    "#     defines a unique filename for batch job and output.csv"
   ]
  },
  {
   "cell_type": "code",
   "execution_count": 35,
   "metadata": {
    "collapsed": false
   },
   "outputs": [
    {
     "name": "stdout",
     "output_type": "stream",
     "text": [
      "/project/projectdirs/metatlas/projects/mzmine_parameters/MZmine/MZmine-2.24/startMZmine_NERSC_Headless_Cori.sh /project/projectdirs/metatlas/projects/jgi_projects/wildermuth_leafspore/20161207_KBL_C18_LIPID_MW_PowMil_final_pos_spore.xml\n"
     ]
    }
   ],
   "source": [
    "print('%s %s'%(task.mzmine_launcher,task.input_xml))"
   ]
  },
  {
   "cell_type": "code",
   "execution_count": null,
   "metadata": {
    "collapsed": true
   },
   "outputs": [],
   "source": [
    "files = [task.output_csv]\n"
   ]
  },
  {
   "cell_type": "code",
   "execution_count": 15,
   "metadata": {
    "collapsed": false
   },
   "outputs": [
    {
     "data": {
      "text/plain": [
       "['/project/projectdirs/metatlas/projects/jgi_projects/Pactolus_Results_20170512_SK_-MR_SupprSoils_EthylAc2/MZMINE_20170512_SK_-MR_SupprSoils_EthylAc2_POS.csv',\n",
       " '/project/projectdirs/metatlas/projects/jgi_projects/Pactolus_Results_20170512_SK_-MR_SupprSoils_EthylAc2/MZMINE_20170512_SK_-MR_SupprSoils_EthylAc2_NEG.csv']"
      ]
     },
     "execution_count": 15,
     "metadata": {},
     "output_type": "execute_result"
    }
   ],
   "source": [
    "import glob\n",
    "files = glob.glob('/project/projectdirs/metatlas/projects/jgi_projects/Pactolus_Results_20170512_SK_-MR_SupprSoils_EthylAc2/MZMINE_*')\n",
    "files"
   ]
  },
  {
   "cell_type": "code",
   "execution_count": 38,
   "metadata": {
    "collapsed": false
   },
   "outputs": [
    {
     "name": "stdout",
     "output_type": "stream",
     "text": [
      "(2326, 26)\n",
      "(214, 18)\n",
      "(1726, 18)\n",
      "(272, 26)\n"
     ]
    }
   ],
   "source": [
    "files = ['/project/projectdirs/metatlas/projects/jgi_projects/wildermuth_leafspore/20161207_KBL_C18_LIPID_MW_PowMil_final_pos_spore.csv',\n",
    "        '/project/projectdirs/metatlas/projects/jgi_projects/wildermuth_leafspore/20161207_KBL_C18_LIPID_MW_PowMil_final_neg_leaf.csv',\n",
    "        '/project/projectdirs/metatlas/projects/jgi_projects/wildermuth_leafspore/20161207_KBL_C18_LIPID_MW_PowMil_final_pos_leaf.csv',\n",
    "        '/project/projectdirs/metatlas/projects/jgi_projects/wildermuth_leafspore/20161207_KBL_C18_LIPID_MW_PowMil_final_neg_spore.csv']\n",
    "polarity = ['positive','negative','positive','negative']\n",
    "for i,mzmine_output_file in enumerate(files):\n",
    "    df,original_mzmine = mzm.metatlas_formatted_atlas_from_mzmine_output(mzmine_output_file,polarity[i],\n",
    "                                                                         make_atlas=False,min_rt=0.55,\n",
    "                                                                        remove_fragments=False,\n",
    "                                                                        remove_adducts=False,\n",
    "                                                                        remove_clusters=False)\n",
    "    df.to_csv(mzmine_output_file.replace('.csv','') + '_formatted.csv')"
   ]
  },
  {
   "cell_type": "code",
   "execution_count": 37,
   "metadata": {
    "collapsed": false
   },
   "outputs": [
    {
     "data": {
      "text/html": [
       "<div>\n",
       "<style>\n",
       "    .dataframe thead tr:only-child th {\n",
       "        text-align: right;\n",
       "    }\n",
       "\n",
       "    .dataframe thead th {\n",
       "        text-align: left;\n",
       "    }\n",
       "\n",
       "    .dataframe tbody tr th {\n",
       "        vertical-align: top;\n",
       "    }\n",
       "</style>\n",
       "<table border=\"1\" class=\"dataframe\">\n",
       "  <thead>\n",
       "    <tr style=\"text-align: right;\">\n",
       "      <th></th>\n",
       "      <th>label</th>\n",
       "      <th>adduct_assignments</th>\n",
       "      <th>mz</th>\n",
       "      <th>mz_tolerance</th>\n",
       "      <th>rt_peak</th>\n",
       "      <th>rt_min</th>\n",
       "      <th>rt_max</th>\n",
       "      <th>inchi_key</th>\n",
       "      <th>detected_polarity</th>\n",
       "      <th>20161207_C18_lipid___NEG_MSMS_KBL_MW_Qex139_UV_JJ41_Labeled_spore_rep_3__1014_C__Run42.mzML Peak height</th>\n",
       "      <th>20161207_C18_lipid___NEG_MSMS_KBL_MW_Qex139_UV_JJ38_Unlabeled_spore_rep_2__1014_C__Run33.mzML Peak height</th>\n",
       "      <th>20161207_C18_lipid___NEG_MSMS_KBL_MW_Qex139_UV_JJ40_Unlabeled_spore_rep_3__1014_C__Run39.mzML Peak height</th>\n",
       "      <th>20161207_C18_lipid___NEG_MSMS_KBL_MW_Qex139_UV_JJ39_Labeled_spore_rep_2__1014_C__Run36.mzML Peak height</th>\n",
       "      <th>20161207_C18_lipid___NEG_MSMS_KBL_MW_Qex139_UV_JJ32_Unlabeled_spore_rep_2__1014_C__Run15.mzML Peak height</th>\n",
       "      <th>20161207_C18_lipid___NEG_MSMS_KBL_MW_Qex139_UV_JJ31_Labeled_spore_rep_1__1014_C__Run12.mzML Peak height</th>\n",
       "      <th>20161207_C18_lipid___NEG_MSMS_KBL_MW_Qex139_UV_JJ37_Labeled_spore_rep_1__1014_C__Run30.mzML Peak height</th>\n",
       "      <th>20161207_C18_lipid___NEG_MSMS_KBL_MW_Qex139_UV_JJ33_Labeled_spore_rep_2__1014_C__Run18.mzML Peak height</th>\n",
       "      <th>20161207_C18_lipid___NEG_MSMS_KBL_MW_Qex139_UV_JJ36_Unlabeled_spore_rep_1__1014_C__Run27.mzML Peak height</th>\n",
       "      <th>20161207_C18_lipid___NEG_MSMS_KBL_MW_Qex139_UV_JJ35_Labeled_spore_rep_3__1014_C__Run24.mzML Peak height</th>\n",
       "      <th>20161207_C18_lipid___NEG_MSMS_KBL_MW_Qex139_UV_JJ34_Unlabeled_spore_rep_3__1014_C__Run21.mzML Peak height</th>\n",
       "      <th>20161207_C18_lipid___NEG_MSMS_KBL_MW_Qex139_UV_JJ30_Unlabeled_spore_rep_1__1014_C__Run9.mzML Peak height</th>\n",
       "      <th>20161207_C18_lipid___NEG_MSMS_KBL_MW_Qex139_UV_JJ49_Labeled_spore_rep_1__1014_C__Run66.mzML Peak height</th>\n",
       "      <th>20161207_C18_lipid___NEG_MSMS_KBL_MW_Qex139_UV_JJ51_Labeled_spore_rep_2__1014_C__Run72.mzML Peak height</th>\n",
       "      <th>20161207_C18_lipid___NEG_MSMS_KBL_MW_Qex139_UV_JJ50_Unlabeled_spore_rep_2__1014_C__Run69.mzML Peak height</th>\n",
       "      <th>20161207_C18_lipid___NEG_MSMS_KBL_MW_Qex139_UV_JJ48_Unlabeled_spore_rep_1__1014_C__Run63.mzML Peak height</th>\n",
       "      <th>max_intensity</th>\n",
       "    </tr>\n",
       "  </thead>\n",
       "  <tbody>\n",
       "    <tr>\n",
       "      <th>0</th>\n",
       "      <td>112.9845@8.96</td>\n",
       "      <td></td>\n",
       "      <td>112.984499</td>\n",
       "      <td>8</td>\n",
       "      <td>8.955668</td>\n",
       "      <td>2.390927</td>\n",
       "      <td>9.132605</td>\n",
       "      <td>None</td>\n",
       "      <td>negative</td>\n",
       "      <td>7.998649e+06</td>\n",
       "      <td>8.460211e+06</td>\n",
       "      <td>9.213573e+06</td>\n",
       "      <td>8.091092e+06</td>\n",
       "      <td>9.073607e+06</td>\n",
       "      <td>9.440707e+06</td>\n",
       "      <td>7.544937e+06</td>\n",
       "      <td>9.319497e+06</td>\n",
       "      <td>7.844818e+06</td>\n",
       "      <td>9.764995e+06</td>\n",
       "      <td>8.157336e+06</td>\n",
       "      <td>7.958227e+06</td>\n",
       "      <td>7.338508e+06</td>\n",
       "      <td>7.784848e+06</td>\n",
       "      <td>7.837275e+06</td>\n",
       "      <td>7.615731e+06</td>\n",
       "      <td>9.764995e+06</td>\n",
       "    </tr>\n",
       "    <tr>\n",
       "      <th>1</th>\n",
       "      <td>115.9196@8.96</td>\n",
       "      <td></td>\n",
       "      <td>115.919583</td>\n",
       "      <td>8</td>\n",
       "      <td>8.958946</td>\n",
       "      <td>6.046198</td>\n",
       "      <td>9.247845</td>\n",
       "      <td>None</td>\n",
       "      <td>negative</td>\n",
       "      <td>1.146377e+07</td>\n",
       "      <td>1.231453e+07</td>\n",
       "      <td>1.237129e+07</td>\n",
       "      <td>1.172408e+07</td>\n",
       "      <td>1.487005e+07</td>\n",
       "      <td>1.743402e+07</td>\n",
       "      <td>1.117907e+07</td>\n",
       "      <td>1.445474e+07</td>\n",
       "      <td>1.192588e+07</td>\n",
       "      <td>1.212069e+07</td>\n",
       "      <td>1.217884e+07</td>\n",
       "      <td>1.662531e+07</td>\n",
       "      <td>1.209334e+07</td>\n",
       "      <td>1.187343e+07</td>\n",
       "      <td>1.226531e+07</td>\n",
       "      <td>1.182065e+07</td>\n",
       "      <td>1.743402e+07</td>\n",
       "    </tr>\n",
       "    <tr>\n",
       "      <th>2</th>\n",
       "      <td>112.9845@11.70</td>\n",
       "      <td></td>\n",
       "      <td>112.984511</td>\n",
       "      <td>8</td>\n",
       "      <td>11.702326</td>\n",
       "      <td>9.132605</td>\n",
       "      <td>12.056932</td>\n",
       "      <td>None</td>\n",
       "      <td>negative</td>\n",
       "      <td>8.281295e+06</td>\n",
       "      <td>7.894348e+06</td>\n",
       "      <td>1.025390e+07</td>\n",
       "      <td>1.070302e+07</td>\n",
       "      <td>7.544463e+06</td>\n",
       "      <td>1.366913e+07</td>\n",
       "      <td>1.411510e+07</td>\n",
       "      <td>1.042452e+07</td>\n",
       "      <td>1.434369e+07</td>\n",
       "      <td>1.294888e+07</td>\n",
       "      <td>1.408436e+07</td>\n",
       "      <td>1.377850e+07</td>\n",
       "      <td>5.915926e+06</td>\n",
       "      <td>6.462231e+06</td>\n",
       "      <td>6.910954e+06</td>\n",
       "      <td>6.519028e+06</td>\n",
       "      <td>1.434369e+07</td>\n",
       "    </tr>\n",
       "    <tr>\n",
       "      <th>3</th>\n",
       "      <td>248.9609@11.70</td>\n",
       "      <td></td>\n",
       "      <td>248.960855</td>\n",
       "      <td>8</td>\n",
       "      <td>11.701073</td>\n",
       "      <td>1.211602</td>\n",
       "      <td>12.404436</td>\n",
       "      <td>None</td>\n",
       "      <td>negative</td>\n",
       "      <td>5.317007e+06</td>\n",
       "      <td>4.827484e+06</td>\n",
       "      <td>6.480516e+06</td>\n",
       "      <td>6.413394e+06</td>\n",
       "      <td>4.237316e+06</td>\n",
       "      <td>7.832929e+06</td>\n",
       "      <td>7.958642e+06</td>\n",
       "      <td>6.109658e+06</td>\n",
       "      <td>7.777967e+06</td>\n",
       "      <td>7.457894e+06</td>\n",
       "      <td>7.710038e+06</td>\n",
       "      <td>7.600899e+06</td>\n",
       "      <td>2.989421e+06</td>\n",
       "      <td>3.324638e+06</td>\n",
       "      <td>3.684179e+06</td>\n",
       "      <td>3.471478e+06</td>\n",
       "      <td>7.958642e+06</td>\n",
       "    </tr>\n",
       "    <tr>\n",
       "      <th>4</th>\n",
       "      <td>791.4983@4.54</td>\n",
       "      <td></td>\n",
       "      <td>791.498331</td>\n",
       "      <td>8</td>\n",
       "      <td>4.542934</td>\n",
       "      <td>3.782449</td>\n",
       "      <td>5.094053</td>\n",
       "      <td>None</td>\n",
       "      <td>negative</td>\n",
       "      <td>4.617457e+04</td>\n",
       "      <td>4.499202e+04</td>\n",
       "      <td>8.582735e+04</td>\n",
       "      <td>4.010446e+04</td>\n",
       "      <td>6.557134e+04</td>\n",
       "      <td>1.264204e+05</td>\n",
       "      <td>6.488612e+04</td>\n",
       "      <td>1.432744e+05</td>\n",
       "      <td>9.210742e+04</td>\n",
       "      <td>1.492262e+05</td>\n",
       "      <td>2.370740e+05</td>\n",
       "      <td>1.611463e+05</td>\n",
       "      <td>1.323682e+07</td>\n",
       "      <td>4.241839e+07</td>\n",
       "      <td>4.250122e+07</td>\n",
       "      <td>3.816102e+07</td>\n",
       "      <td>4.250122e+07</td>\n",
       "    </tr>\n",
       "  </tbody>\n",
       "</table>\n",
       "</div>"
      ],
      "text/plain": [
       "            label adduct_assignments          mz  mz_tolerance    rt_peak    rt_min     rt_max inchi_key detected_polarity  20161207_C18_lipid___NEG_MSMS_KBL_MW_Qex139_UV_JJ41_Labeled_spore_rep_3__1014_C__Run42.mzML Peak height  20161207_C18_lipid___NEG_MSMS_KBL_MW_Qex139_UV_JJ38_Unlabeled_spore_rep_2__1014_C__Run33.mzML Peak height  20161207_C18_lipid___NEG_MSMS_KBL_MW_Qex139_UV_JJ40_Unlabeled_spore_rep_3__1014_C__Run39.mzML Peak height  20161207_C18_lipid___NEG_MSMS_KBL_MW_Qex139_UV_JJ39_Labeled_spore_rep_2__1014_C__Run36.mzML Peak height  20161207_C18_lipid___NEG_MSMS_KBL_MW_Qex139_UV_JJ32_Unlabeled_spore_rep_2__1014_C__Run15.mzML Peak height  20161207_C18_lipid___NEG_MSMS_KBL_MW_Qex139_UV_JJ31_Labeled_spore_rep_1__1014_C__Run12.mzML Peak height  20161207_C18_lipid___NEG_MSMS_KBL_MW_Qex139_UV_JJ37_Labeled_spore_rep_1__1014_C__Run30.mzML Peak height  20161207_C18_lipid___NEG_MSMS_KBL_MW_Qex139_UV_JJ33_Labeled_spore_rep_2__1014_C__Run18.mzML Peak height  \\\n",
       "0   112.9845@8.96                     112.984499             8   8.955668  2.390927   9.132605      None          negative                                                                                             7.998649e+06                                                                                               8.460211e+06                                                                                               9.213573e+06                                                                                             8.091092e+06                                                                                               9.073607e+06                                                                                             9.440707e+06                                                                                             7.544937e+06                                                                                             9.319497e+06   \n",
       "1   115.9196@8.96                     115.919583             8   8.958946  6.046198   9.247845      None          negative                                                                                             1.146377e+07                                                                                               1.231453e+07                                                                                               1.237129e+07                                                                                             1.172408e+07                                                                                               1.487005e+07                                                                                             1.743402e+07                                                                                             1.117907e+07                                                                                             1.445474e+07   \n",
       "2  112.9845@11.70                     112.984511             8  11.702326  9.132605  12.056932      None          negative                                                                                             8.281295e+06                                                                                               7.894348e+06                                                                                               1.025390e+07                                                                                             1.070302e+07                                                                                               7.544463e+06                                                                                             1.366913e+07                                                                                             1.411510e+07                                                                                             1.042452e+07   \n",
       "3  248.9609@11.70                     248.960855             8  11.701073  1.211602  12.404436      None          negative                                                                                             5.317007e+06                                                                                               4.827484e+06                                                                                               6.480516e+06                                                                                             6.413394e+06                                                                                               4.237316e+06                                                                                             7.832929e+06                                                                                             7.958642e+06                                                                                             6.109658e+06   \n",
       "4   791.4983@4.54                     791.498331             8   4.542934  3.782449   5.094053      None          negative                                                                                             4.617457e+04                                                                                               4.499202e+04                                                                                               8.582735e+04                                                                                             4.010446e+04                                                                                               6.557134e+04                                                                                             1.264204e+05                                                                                             6.488612e+04                                                                                             1.432744e+05   \n",
       "\n",
       "   20161207_C18_lipid___NEG_MSMS_KBL_MW_Qex139_UV_JJ36_Unlabeled_spore_rep_1__1014_C__Run27.mzML Peak height  20161207_C18_lipid___NEG_MSMS_KBL_MW_Qex139_UV_JJ35_Labeled_spore_rep_3__1014_C__Run24.mzML Peak height  20161207_C18_lipid___NEG_MSMS_KBL_MW_Qex139_UV_JJ34_Unlabeled_spore_rep_3__1014_C__Run21.mzML Peak height  20161207_C18_lipid___NEG_MSMS_KBL_MW_Qex139_UV_JJ30_Unlabeled_spore_rep_1__1014_C__Run9.mzML Peak height  20161207_C18_lipid___NEG_MSMS_KBL_MW_Qex139_UV_JJ49_Labeled_spore_rep_1__1014_C__Run66.mzML Peak height  20161207_C18_lipid___NEG_MSMS_KBL_MW_Qex139_UV_JJ51_Labeled_spore_rep_2__1014_C__Run72.mzML Peak height  20161207_C18_lipid___NEG_MSMS_KBL_MW_Qex139_UV_JJ50_Unlabeled_spore_rep_2__1014_C__Run69.mzML Peak height  20161207_C18_lipid___NEG_MSMS_KBL_MW_Qex139_UV_JJ48_Unlabeled_spore_rep_1__1014_C__Run63.mzML Peak height  max_intensity  \n",
       "0                                                                                               7.844818e+06                                                                                             9.764995e+06                                                                                               8.157336e+06                                                                                              7.958227e+06                                                                                             7.338508e+06                                                                                             7.784848e+06                                                                                               7.837275e+06                                                                                               7.615731e+06   9.764995e+06  \n",
       "1                                                                                               1.192588e+07                                                                                             1.212069e+07                                                                                               1.217884e+07                                                                                              1.662531e+07                                                                                             1.209334e+07                                                                                             1.187343e+07                                                                                               1.226531e+07                                                                                               1.182065e+07   1.743402e+07  \n",
       "2                                                                                               1.434369e+07                                                                                             1.294888e+07                                                                                               1.408436e+07                                                                                              1.377850e+07                                                                                             5.915926e+06                                                                                             6.462231e+06                                                                                               6.910954e+06                                                                                               6.519028e+06   1.434369e+07  \n",
       "3                                                                                               7.777967e+06                                                                                             7.457894e+06                                                                                               7.710038e+06                                                                                              7.600899e+06                                                                                             2.989421e+06                                                                                             3.324638e+06                                                                                               3.684179e+06                                                                                               3.471478e+06   7.958642e+06  \n",
       "4                                                                                               9.210742e+04                                                                                             1.492262e+05                                                                                               2.370740e+05                                                                                              1.611463e+05                                                                                             1.323682e+07                                                                                             4.241839e+07                                                                                               4.250122e+07                                                                                               3.816102e+07   4.250122e+07  "
      ]
     },
     "execution_count": 37,
     "metadata": {},
     "output_type": "execute_result"
    }
   ],
   "source": [
    "df.head()"
   ]
  },
  {
   "cell_type": "code",
   "execution_count": null,
   "metadata": {
    "collapsed": true
   },
   "outputs": [],
   "source": [
    "# df_super = df[[c for c in df.columns if not 'super' in c]]\n",
    "# df_super = df_super[[c for c in df_super.columns if not 'kana' in c]]\n",
    "# df_super = df_super[[c for c in df_super.columns if not 'max_intensity' in c]]\n",
    "# df_super = df_super[[c for c in df_super.columns if not 'Excontrol' in c]]\n",
    "# df_super = df_super[[c for c in df_super.columns if not 'adduct' in c]]\n",
    "\n",
    "# df_super.set_index(['label','mz','mz_tolerance','rt_peak','rt_min','rt_max','inchi_key','detected_polarity'],inplace=True)\n",
    "# df_super.columns = [''.join(c.split('_')[2:3]) if 'pellet' in c else c for c in df_super.columns ]\n"
   ]
  },
  {
   "cell_type": "code",
   "execution_count": null,
   "metadata": {
    "collapsed": false
   },
   "outputs": [],
   "source": [
    "df_super = df[[c for c in df.columns if not 'pellet' in c]]\n",
    "df_super = df_super[[c for c in df_super.columns if not 'kana' in c]]\n",
    "df_super = df_super[[c for c in df_super.columns if not 'max_intensity' in c]]\n",
    "df_super = df_super[[c for c in df_super.columns if not 'Excontrol' in c]]\n",
    "df_super = df_super[[c for c in df_super.columns if not 'adduct' in c]]\n",
    "df_super['rt_min'] = df_super['rt_peak'] - 0.2\n",
    "df_super.set_index(['label','mz','mz_tolerance','rt_peak','rt_min','rt_max','inchi_key','detected_polarity'],inplace=True)\n",
    "df_super.columns = [''.join(c.split('_')[2:3]) if 'super' in c else c for c in df_super.columns ]\n"
   ]
  },
  {
   "cell_type": "code",
   "execution_count": null,
   "metadata": {
    "collapsed": false
   },
   "outputs": [],
   "source": [
    "import numpy as np\n",
    "from scipy.stats import ttest_ind\n",
    "\n",
    "group1 = df_super[[c for c in df_super.columns if c == 'LB']]\n",
    "group2 = df_super[[c for c in df_super.columns if c == 'PS']]\n",
    "\n",
    "# group2 = df[df['group'] == 'GROUP2']['data'].astype(float)\n",
    "\n",
    "t, p = ttest_ind(group1.T, group2.T)\n",
    "\n",
    "stats_df = pd.DataFrame(index=df_super.index)\n",
    "stats_df['p_value'] = p\n",
    "stats_df['t_score'] = t\n",
    "stats_df['log2_fold_change'] = group2.min(axis=1).apply(lambda x: np.log2(x+1)) - \\\n",
    "                                group1.max(axis=1).apply(lambda x: np.log2(x+1)) \n",
    "stats_df['in_control'] = group1.median(axis=1) > 1e5\n",
    "stats_df['median_control'] = group1.median(axis=1)\n",
    "stats_df['median_treatment'] = group2.median(axis=1)\n",
    "stats_df.head()\n"
   ]
  },
  {
   "cell_type": "code",
   "execution_count": null,
   "metadata": {
    "collapsed": false
   },
   "outputs": [],
   "source": [
    "fig, ax = plt.subplots(figsize=(8,7))\n",
    "stats_df['log2_fold_change'].hist(bins=100)\n",
    "ax.set_yscale('log')\n",
    "ax.set_xlabel('LOG2 Fold Change')\n",
    "ax.set_ylabel('#features')\n",
    "plt.show()"
   ]
  },
  {
   "cell_type": "code",
   "execution_count": null,
   "metadata": {
    "collapsed": false
   },
   "outputs": [],
   "source": [
    "fig, ax = plt.subplots(figsize=(8,7))\n",
    "ax.plot(stats_df['log2_fold_change'],stats_df['p_value'],'.')\n",
    "# stats_df['fold_change'].apply(lambda x: np.log2(x+1)).hist(bins=100)\n",
    "ax.set_yscale('log')\n",
    "ax.set_xlabel('LOG2 fold change')\n",
    "ax.set_ylabel('p_value')\n",
    "plt.show()"
   ]
  },
  {
   "cell_type": "code",
   "execution_count": null,
   "metadata": {
    "collapsed": false
   },
   "outputs": [],
   "source": [
    "filtered_df = stats_df[(stats_df['log2_fold_change']>7) & (stats_df['median_treatment']>1e5)]\n",
    "fig, ax = plt.subplots(figsize=(8,7))\n",
    "# color_map = {filtered_df.log2_fold_change.min():\"r\", filtered_df.log2_fold_change.max():\"g\"} \n",
    "# z_as_colors = map(color_map.get, filtered_df.log2_fold_change) \n",
    "sc = ax.scatter(filtered_df.index.get_level_values('mz'),\n",
    "                filtered_df.index.get_level_values('rt_peak'),\n",
    "                c = filtered_df.log2_fold_change)\n",
    "# stats_df['fold_change'].apply(lambda x: np.log2(x+1)).hist(bins=100)\n",
    "# ax.set_yscale('log')\n",
    "plt.colorbar(sc)\n",
    "ax.set_xlabel('mz')\n",
    "ax.set_ylabel('rt')"
   ]
  },
  {
   "cell_type": "code",
   "execution_count": null,
   "metadata": {
    "collapsed": false,
    "scrolled": false
   },
   "outputs": [],
   "source": [
    "# (~stats_df['in_control']) & \n",
    "filtered_df = stats_df[(stats_df['log2_fold_change']>7) & (stats_df['median_treatment']>3e5)]\n",
    "print filtered_df.shape\n",
    "# pd.options.display.precision = 5\n",
    "# pd.set_option('display.max',200)\n",
    "filtered_df.sort_values('log2_fold_change', ascending=False).head(20)"
   ]
  },
  {
   "cell_type": "code",
   "execution_count": null,
   "metadata": {
    "collapsed": false
   },
   "outputs": [],
   "source": [
    "df_super.iloc[df_super.index.get_level_values('label') == '754.3994@3.75']"
   ]
  },
  {
   "cell_type": "code",
   "execution_count": null,
   "metadata": {
    "collapsed": false
   },
   "outputs": [],
   "source": [
    "filtered_df.head()"
   ]
  },
  {
   "cell_type": "code",
   "execution_count": null,
   "metadata": {
    "collapsed": false
   },
   "outputs": [],
   "source": [
    "\n",
    "# filtered_df.index.names\n",
    "df = pd.DataFrame(columns=filtered_df.index.names)\n",
    "for i,row in enumerate(filtered_df.index.get_values()):\n",
    "    for j,c in enumerate(df.columns):\n",
    "        df.loc[i,c] = row[j]\n",
    "# df.columns = \n",
    "# filtered_df.index.get_values()\n",
    "# #.reset_index(level=[0,1,2])\n",
    "# atlas_df = atlas_df[atlas_df.columns[:6]]\n",
    "# # atlas_df.reset_index(inplace=True)\n",
    "# # atlas_df = atlas_df[[]]\n",
    "# # atlas_df.reset_index(inplace=True)\n",
    "# atlas_df.fillna('')\n",
    "# atlas_df"
   ]
  },
  {
   "cell_type": "code",
   "execution_count": null,
   "metadata": {
    "collapsed": false
   },
   "outputs": [],
   "source": [
    "\n"
   ]
  },
  {
   "cell_type": "code",
   "execution_count": null,
   "metadata": {
    "collapsed": false
   },
   "outputs": [],
   "source": [
    "myAtlas = dp.make_atlas_from_spreadsheet(df,'20170406_ions_made_psimiae_in_LB_pos_c18',filetype='dataframe',\n",
    "                                       sheetname='',\n",
    "                                       polarity = 'positive',\n",
    "                                       store=True,\n",
    "                                      mz_tolerance = 10)\n",
    "atlas_df = ma_data.make_atlas_df(myAtlas)\n"
   ]
  },
  {
   "cell_type": "code",
   "execution_count": null,
   "metadata": {
    "collapsed": false
   },
   "outputs": [],
   "source": [
    "\n",
    "groups = dp.select_groups_for_analysis(name = '%rexmalm_pos_super%',\n",
    "                                       most_recent = True,\n",
    "                                       remove_empty = True,#'Strain=SB214'\n",
    "                                       include_list = [], exclude_list = [],)#['QC','Blank'])\n"
   ]
  },
  {
   "cell_type": "code",
   "execution_count": null,
   "metadata": {
    "collapsed": false,
    "scrolled": false
   },
   "outputs": [],
   "source": [
    "for g in groups:\n",
    "    for i in g.items:\n",
    "        print i.name"
   ]
  },
  {
   "cell_type": "code",
   "execution_count": null,
   "metadata": {
    "collapsed": false
   },
   "outputs": [],
   "source": [
    "all_files = []\n",
    "for my_group in groups:\n",
    "    for my_file in my_group.items:\n",
    "        all_files.append((my_file,my_group,atlas_df,myAtlas))\n",
    "        \n",
    "pool = mp.Pool(processes=min(10, len(all_files)))\n",
    "# from metatlas.helpers.metatlas_get_data_helper_fun import get_data_for_atlas_df_and_file\n",
    "metatlas_dataset = pool.map(ma_data.get_data_for_atlas_df_and_file, all_files)\n",
    "pool.close()\n",
    "pool.terminate()\n",
    "#If you're code crashes here, make sure to terminate any processes left open.\n"
   ]
  },
  {
   "cell_type": "code",
   "execution_count": null,
   "metadata": {
    "collapsed": false
   },
   "outputs": [],
   "source": [
    "output_dir = '/global/homes/b/bpb/Downloads/psim_c18_important_pos_super/'\n",
    "if not os.path.exists(output_dir):\n",
    "    os.makedirs(output_dir)\n",
    "atlas_identifications = dp.export_atlas_to_spreadsheet(myAtlas,os.path.join(output_dir,'atlas_export.csv'))\n",
    "# dp = reload(dp)\n",
    "# atlas_identifications = dp.export_atlas_to_spreadsheet(myAtlas,'%s/sheets/%s.csv'%(plot_location_label,myAtlas.name))\n",
    "peak_height = dp.make_output_dataframe(input_fname = '',input_dataset = metatlas_dataset,include_lcmsruns = [],exclude_lcmsruns = [], fieldname='peak_height' , output_loc=os.path.join(output_dir,'sheets'))\n",
    "# peak_area = dp.make_output_dataframe(input_fname = my_file,input_dataset = metatlas_dataset,include_lcmsruns = [],exclude_lcmsruns = [], fieldname='peak_area' , output_loc=os.path.join(output_dir,'sheets'))\n",
    "# mz_peak = dp.make_output_dataframe(input_fname = my_file,input_dataset = metatlas_dataset,include_lcmsruns = [],exclude_lcmsruns = [], fieldname='mz_peak' , output_loc=os.path.join(output_dir,'sheets'))\n",
    "# rt_peak = dp.make_output_dataframe(input_fname = my_file, input_dataset = metatlas_dataset,include_lcmsruns = [],exclude_lcmsruns = [],fieldname='rt_peak' , output_loc=os.path.join(output_dir,'sheets'))\n",
    "# mz_centroid = dp.make_output_dataframe(input_fname = my_file,input_dataset = metatlas_dataset,include_lcmsruns = [],exclude_lcmsruns = [], fieldname='mz_centroid' , output_loc=os.path.join(output_dir,'sheets'))\n",
    "# rt_centroid = dp.make_output_dataframe(input_fname = my_file,input_dataset = metatlas_dataset,include_lcmsruns = [],exclude_lcmsruns = [], fieldname='rt_centroid' , output_loc=os.path.join(output_dir,'sheets'))"
   ]
  },
  {
   "cell_type": "code",
   "execution_count": null,
   "metadata": {
    "collapsed": false
   },
   "outputs": [],
   "source": [
    "peak_height.head()"
   ]
  },
  {
   "cell_type": "code",
   "execution_count": null,
   "metadata": {
    "collapsed": false
   },
   "outputs": [],
   "source": [
    "\n",
    "peak_height.shape"
   ]
  },
  {
   "cell_type": "code",
   "execution_count": null,
   "metadata": {
    "collapsed": false
   },
   "outputs": [],
   "source": [
    "# from scipy import cluster\n",
    "# mat = peak_height.as_matrix()\n",
    "# mat[np.isnan(mat)] = np.nanmin(mat)\n",
    "# labels = cluster.hierarchy.fclusterdata(mat,0.2,criterion='distance',method='average',metric='correlation')\n",
    "# results = pd.DataFrame(data=labels, columns=['cluster'], index=peak_height.index) "
   ]
  },
  {
   "cell_type": "code",
   "execution_count": null,
   "metadata": {
    "collapsed": false
   },
   "outputs": [],
   "source": [
    "peak_height.index = ['@'.join(c.split('_')[:2]).replace('p','.') for c in peak_height.index]"
   ]
  },
  {
   "cell_type": "code",
   "execution_count": null,
   "metadata": {
    "collapsed": true
   },
   "outputs": [],
   "source": [
    "peak_height.columns = peak_height.columns.droplevel(0)"
   ]
  },
  {
   "cell_type": "code",
   "execution_count": null,
   "metadata": {
    "collapsed": false
   },
   "outputs": [],
   "source": [
    "peak_height.columns = ['_'.join(c.split('_')[14:18]) for c in peak_height.columns]"
   ]
  },
  {
   "cell_type": "code",
   "execution_count": null,
   "metadata": {
    "collapsed": false
   },
   "outputs": [],
   "source": [
    "peak_height = peak_height.fillna(0)"
   ]
  },
  {
   "cell_type": "code",
   "execution_count": null,
   "metadata": {
    "collapsed": false
   },
   "outputs": [],
   "source": [
    "# norm_peak_height = peak_height.copy()\n",
    "# norm_peak_height = norm_peak_height.apply(lambda x: x / x.max())\n",
    "# norm_peak_height.head()"
   ]
  },
  {
   "cell_type": "code",
   "execution_count": null,
   "metadata": {
    "collapsed": false
   },
   "outputs": [],
   "source": [
    "peak_height.shape"
   ]
  },
  {
   "cell_type": "code",
   "execution_count": null,
   "metadata": {
    "collapsed": false
   },
   "outputs": [],
   "source": [
    "# norm_peak_height.columns.sort_values().shape"
   ]
  },
  {
   "cell_type": "code",
   "execution_count": null,
   "metadata": {
    "collapsed": false
   },
   "outputs": [],
   "source": [
    "# c"
   ]
  },
  {
   "cell_type": "code",
   "execution_count": null,
   "metadata": {
    "collapsed": false
   },
   "outputs": [],
   "source": [
    "sf = pd.DataFrame()\n",
    "for c in peak_height.columns.sort_values():\n",
    "    sf[c] = peak_height[c]\n",
    "for i,row in sf.iterrows():\n",
    "    sf.loc[i,:] = row/row.max()"
   ]
  },
  {
   "cell_type": "code",
   "execution_count": null,
   "metadata": {
    "collapsed": false
   },
   "outputs": [],
   "source": [
    "sf.head()"
   ]
  },
  {
   "cell_type": "code",
   "execution_count": null,
   "metadata": {
    "collapsed": false,
    "scrolled": false
   },
   "outputs": [],
   "source": [
    "cm = plt.colormaps()\n",
    "\n",
    "for i,c in enumerate(cm):\n",
    "    print i,c"
   ]
  },
  {
   "cell_type": "code",
   "execution_count": null,
   "metadata": {
    "collapsed": false
   },
   "outputs": [],
   "source": [
    "for i,r in sf.iterrows():\n",
    "    print r.max()"
   ]
  },
  {
   "cell_type": "code",
   "execution_count": null,
   "metadata": {
    "collapsed": false
   },
   "outputs": [],
   "source": [
    "# The returned object has a savefig method that should be used if you want to save the figure object without clipping the dendrograms.\n",
    "\n",
    "# To access the reordered row indices, use: clustergrid.dendrogram_row.reordered_ind\n",
    "\n",
    "# Column indices, use: clustergrid.dendrogram_col.reordered_ind\n",
    "\n",
    "g.dendrogram_row.reordered_ind"
   ]
  },
  {
   "cell_type": "code",
   "execution_count": null,
   "metadata": {
    "collapsed": false,
    "scrolled": false
   },
   "outputs": [],
   "source": [
    "import seaborn as sns\n",
    "cmap = cm[148]\n",
    "# cmap = sns.light_palette(as_cmap=True)\n",
    "# cmap = sns.diverging_palette(h_neg=210, h_pos=350, s=90, l=30, as_cmap=True)\n",
    "# g  =sns.clustermap(peak_height.apply(lambda x: (x+1)**0.25),metric='correlation',figsize=(25,25),cmap=cmap)\n",
    "# g  =sns.clustermap(peak_height.apply(lambda x: np.log10(x+1)),metric='correlation',figsize=(25,25))\n",
    "g  =sns.clustermap(sf,metric='euclidean',figsize=(30,18),cmap=cmap,col_cluster=True)\n",
    "plt.setp(g.ax_heatmap.get_yticklabels(), rotation=0)  # For y axis\n",
    "plt.setp(g.ax_heatmap.get_xticklabels(), rotation=90) # For x axis\n",
    "plt.show()\n",
    "# # http://seaborn.pydata.org/generated/seaborn.clustermap.html"
   ]
  },
  {
   "cell_type": "code",
   "execution_count": null,
   "metadata": {
    "collapsed": false
   },
   "outputs": [],
   "source": [
    "# from scipy import stats\n",
    "# zscore = lambda x: (x - stats.nanmean(x)) / stats.nanstd(x)\n"
   ]
  },
  {
   "cell_type": "code",
   "execution_count": null,
   "metadata": {
    "collapsed": false,
    "scrolled": false
   },
   "outputs": [],
   "source": [
    "# fig, ax = plt.subplots(2,3,figsize=(20,30))\n",
    "# for i in range(6):\n",
    "#     plt.subplot(2,3,i+1)\n",
    "#     row = peak_height.iloc[[i]]\n",
    "#     c = 0\n",
    "#     vals = []\n",
    "#     for k,v in row.to_dict().items():\n",
    "#         vals.append(v.items()[0][-1])\n",
    "#     v = np.asarray(vals)\n",
    "# #     v = v - np.nanmin(v)\n",
    "# #     v = v / np.nanmax(v)\n",
    "#     v[np.isnan(v)] = np.nanmin(v)\n",
    "#     plt.plot(v,'.-')\n",
    "#     plt.title(myAtlas.compound_identifications[i].name)\n",
    "#     plt.gca().set_yscale('log')\n",
    "# #     ax.set_yscale('log')\n",
    "# plt.tight_layout()\n",
    "# # for i,row in peak_height.iterrows():\n",
    "\n",
    "    \n",
    "# # peak_height.iloc[0,]"
   ]
  },
  {
   "cell_type": "code",
   "execution_count": null,
   "metadata": {
    "collapsed": true
   },
   "outputs": [],
   "source": []
  }
 ],
 "metadata": {
  "anaconda-cloud": {},
  "kernelspec": {
   "display_name": "MetAtlas 2.7",
   "language": "python",
   "name": "metatlas"
  },
  "language_info": {
   "codemirror_mode": {
    "name": "ipython",
    "version": 2
   },
   "file_extension": ".py",
   "mimetype": "text/x-python",
   "name": "python",
   "nbconvert_exporter": "python",
   "pygments_lexer": "ipython2",
   "version": "2.7.13"
  }
 },
 "nbformat": 4,
 "nbformat_minor": 0
}
