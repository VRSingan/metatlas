{
 "cells": [
  {
   "cell_type": "code",
   "execution_count": null,
   "metadata": {
    "collapsed": false
   },
   "outputs": [],
   "source": [
    "import sys, os\n",
    "sys.path.insert(0,'/global/homes/b/bpb/metatlas/' )\n",
    "sys.path.insert(1,'/global/project/projectdirs/metatlas/anaconda/lib/python2.7/site-packages' )\n",
    "import pandas as pd\n",
    "from metatlas import metatlas_objects as metob\n",
    "from metatlas.helpers import dill2plots as dp\n",
    "import numpy as np\n",
    "import time\n",
    "import copy\n",
    "import dill\n",
    "pd.options.display.max_colwidth = 100\n",
    "pd.set_option('display.max_rows', 500)"
   ]
  },
  {
   "cell_type": "code",
   "execution_count": null,
   "metadata": {
    "collapsed": false
   },
   "outputs": [],
   "source": [
    "dp = reload(dp)\n",
    "groups = dp.select_groups_for_analysis(name = '%nyogilipidsA%',\n",
    "                                       most_recent = True,\n",
    "                                       remove_empty = True,\n",
    "                                       include_list = [], exclude_list = ['QC','Blank','extractioncontrol'])"
   ]
  },
  {
   "cell_type": "markdown",
   "metadata": {},
   "source": [
    "# Functions"
   ]
  },
  {
   "cell_type": "code",
   "execution_count": null,
   "metadata": {
    "collapsed": false
   },
   "outputs": [],
   "source": [
    "def dataframe_container_from_metatlas_hdf5_file(my_file):\n",
    "    data_df = pd.DataFrame()\n",
    "    pd_h5_file  = pd.HDFStore(my_file)\n",
    "    keys = pd_h5_file.keys()\n",
    "    pd_h5_file.close()\n",
    "    df_container = {}\n",
    "    for k in keys:\n",
    "        if ('ms' in k) and not ('_mz' in k):\n",
    "            new_df = pd.read_hdf(my_file,k)\n",
    "            df_container[k[1:]] = new_df\n",
    "    return df_container\n"
   ]
  },
  {
   "cell_type": "code",
   "execution_count": null,
   "metadata": {
    "collapsed": false
   },
   "outputs": [],
   "source": [
    "import os\n",
    "df = pd.DataFrame()\n",
    "for group in groups:\n",
    "    for my_file in group.items:\n",
    "        container = dataframe_container_from_metatlas_hdf5_file(my_file.hdf5_file)\n",
    "        for k in container.keys():\n",
    "            if ('ms2' in k) and ('pos' in k):\n",
    "                container[k]['polarity'] = 'positive'\n",
    "                container[k]['hdf5_file'] = os.path.basename(my_file.hdf5_file)\n",
    "                df = pd.concat([df,container[k]],axis=0)\n",
    "            elif ('ms2' in k) and ('neg' in k):\n",
    "                container[k]['polarity'] = 'negative'\n",
    "                container[k]['hdf5_file'] = os.path.basename(my_file.hdf5_file)\n",
    "                df = pd.concat([df,container[k]],axis=0)\n"
   ]
  },
  {
   "cell_type": "code",
   "execution_count": null,
   "metadata": {
    "collapsed": false
   },
   "outputs": [],
   "source": [
    "df.head()"
   ]
  },
  {
   "cell_type": "code",
   "execution_count": null,
   "metadata": {
    "collapsed": false
   },
   "outputs": [],
   "source": [
    "grouped = df.groupby(['precursor_MZ','rt','polarity','precursor_intensity','collision_energy','hdf5_file']).aggregate(lambda x: tuple(x))\n",
    "grouped.mz = grouped.mz.apply(list)\n",
    "grouped.i = grouped.i.apply(list)\n",
    "grouped = grouped.reset_index()\n",
    "grouped['spectrum'] = map(lambda x,y:(x,y),grouped['mz'],grouped['i'])\n",
    "grouped['spectrum'] = grouped['spectrum'].apply(lambda x: zip(x[0],x[1]))\n",
    "grouped.drop(['mz','i'], axis=1, inplace=True)\n"
   ]
  },
  {
   "cell_type": "code",
   "execution_count": null,
   "metadata": {
    "collapsed": false
   },
   "outputs": [],
   "source": [
    "print df.shape\n",
    "print grouped.shape"
   ]
  },
  {
   "cell_type": "code",
   "execution_count": null,
   "metadata": {
    "collapsed": false
   },
   "outputs": [],
   "source": [
    "grouped.head()"
   ]
  },
  {
   "cell_type": "code",
   "execution_count": null,
   "metadata": {
    "collapsed": true
   },
   "outputs": [],
   "source": [
    "#Dump the mz rt table for mz mine filtering here"
   ]
  },
  {
   "cell_type": "code",
   "execution_count": null,
   "metadata": {
    "collapsed": false
   },
   "outputs": [],
   "source": [
    "target = 236.1485\n",
    "min_intensity = 1e4\n",
    "ppm = 10\n",
    "def search_spectrum(spectrum,target,min_intensity,ppm):\n",
    "    for s in spectrum:\n",
    "        if (abs(s[0] - target) < target*ppm/1e6) & (s[1] > min_intensity):\n",
    "            return True\n",
    "    return False\n",
    "grouped['has_target_fragment'] = grouped['spectrum'].apply(search_spectrum,args = (target,min_intensity,ppm))\n",
    "\n"
   ]
  },
  {
   "cell_type": "code",
   "execution_count": null,
   "metadata": {
    "collapsed": false
   },
   "outputs": [],
   "source": [
    "idx = (grouped.has_target_fragment) & (grouped.rt > 3.5) & (grouped.rt < 7.5) & (grouped.precursor_MZ > 500)\n",
    "print len(idx)\n",
    "df_sqdg = grouped[idx]"
   ]
  },
  {
   "cell_type": "code",
   "execution_count": null,
   "metadata": {
    "collapsed": false,
    "scrolled": false
   },
   "outputs": [],
   "source": [
    "df_sqdg = df_sqdg.sort_values('precursor_intensity',ascending=False)"
   ]
  },
  {
   "cell_type": "code",
   "execution_count": null,
   "metadata": {
    "collapsed": false
   },
   "outputs": [],
   "source": [
    "df_sqdg.head(10)"
   ]
  },
  {
   "cell_type": "code",
   "execution_count": null,
   "metadata": {
    "collapsed": false
   },
   "outputs": [],
   "source": [
    "df_unique_sqdg = pd.DataFrame()\n",
    "df_unique_sqdg = df_sqdg.iloc[[0]]\n",
    "for i in df_sqdg.index:\n",
    "    idx = abs(df_sqdg.loc[i,'precursor_MZ'] - df_unique_sqdg.precursor_MZ) < 0.02\n",
    "    if sum(idx) == 0:\n",
    "        #The mz is new so add it\n",
    "        df_unique_sqdg = pd.concat([df_unique_sqdg,df_sqdg.loc[[i]]],axis = 0)\n",
    "    else:\n",
    "        #the mz has been seen before; so see if the rt is new\n",
    "        if sum(abs(df_unique_sqdg[idx].rt - df_sqdg.loc[i,'rt']) < 0.1)==0:\n",
    "            df_unique_sqdg = pd.concat([df_unique_sqdg,df_sqdg.loc[[i]]],axis = 0)"
   ]
  },
  {
   "cell_type": "code",
   "execution_count": null,
   "metadata": {
    "collapsed": false
   },
   "outputs": [],
   "source": [
    "df_unique_sqdg.shape"
   ]
  },
  {
   "cell_type": "code",
   "execution_count": null,
   "metadata": {
    "collapsed": false
   },
   "outputs": [],
   "source": [
    "df_unique_sqdg.head(10)"
   ]
  },
  {
   "cell_type": "code",
   "execution_count": null,
   "metadata": {
    "collapsed": false
   },
   "outputs": [],
   "source": [
    "df_unique_sqdg.to_csv('/global/homes/b/bpb/Downloads/dgts_potential_hits.csv')"
   ]
  },
  {
   "cell_type": "code",
   "execution_count": null,
   "metadata": {
    "collapsed": true
   },
   "outputs": [],
   "source": [
    "from matplotlib import pyplot as plt\n",
    "%matplotlib inline"
   ]
  },
  {
   "cell_type": "code",
   "execution_count": null,
   "metadata": {
    "collapsed": false
   },
   "outputs": [],
   "source": [
    "print(plt.style.available)"
   ]
  },
  {
   "cell_type": "code",
   "execution_count": null,
   "metadata": {
    "collapsed": false,
    "scrolled": false
   },
   "outputs": [],
   "source": [
    "for i in df_unique_sqdg.index:\n",
    "    s = df_unique_sqdg.loc[i,'spectrum']\n",
    "    mz = zip(*s)[0]\n",
    "    intensity = zip(*s)[1]\n",
    "    fig = plt.figure(figsize=(11,8.5))\n",
    "    plt.style.use('seaborn-ticks')\n",
    "    ax = plt.gca()\n",
    "    ax.vlines(mz,intensity*0,intensity)\n",
    "    ax.set_xlim(0,df_unique_sqdg.loc[i,'precursor_MZ']+5)\n",
    "    ax.set_xlabel('m/z')\n",
    "    ax.set_ylabel('intensity')\n",
    "    sx = np.argsort(intensity)[::-1]\n",
    "    labels = [1.001e9]\n",
    "    for i_mz in sx:\n",
    "        if np.min(np.abs(mz[i_mz] - labels)) > 0.1 and intensity[i_mz] > 0.02 * np.max(intensity):\n",
    "            ax.annotate('%5.4f'%mz[i_mz], xy=(mz[i_mz], 1.01*intensity[i_mz]),rotation = 90, horizontalalignment = 'center', verticalalignment = 'left')\n",
    "            labels.append(mz[i_mz])\n",
    "    plt.tight_layout()\n",
    "    L = plt.ylim()\n",
    "    plt.ylim(L[0],L[1]*1.12)\n",
    "    fig.savefig('/global/homes/b/bpb/Downloads/dgts_msms/msms_spectra_%d.png'%i)\n",
    "    plt.close(fig)\n"
   ]
  },
  {
   "cell_type": "code",
   "execution_count": null,
   "metadata": {
    "collapsed": true
   },
   "outputs": [],
   "source": []
  }
 ],
 "metadata": {
  "kernelspec": {
   "display_name": "Python 2",
   "language": "python",
   "name": "python2"
  },
  "language_info": {
   "codemirror_mode": {
    "name": "ipython",
    "version": 2
   },
   "file_extension": ".py",
   "mimetype": "text/x-python",
   "name": "python",
   "nbconvert_exporter": "python",
   "pygments_lexer": "ipython2",
   "version": "2.7.11"
  }
 },
 "nbformat": 4,
 "nbformat_minor": 0
}
