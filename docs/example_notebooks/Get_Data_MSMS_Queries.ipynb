{
 "cells": [
  {
   "cell_type": "markdown",
   "metadata": {},
   "source": [
    "# The time to beat is 60-80 seconds per file."
   ]
  },
  {
   "cell_type": "code",
   "execution_count": 1,
   "metadata": {
    "collapsed": false
   },
   "outputs": [
    {
     "name": "stdout",
     "output_type": "stream",
     "text": [
      "('Metatlas live in ', '/global/homes/b/bpb/metatlas/metatlas')\n",
      "you're running on fb2ee5119e85 at 172.17.0.2 \n"
     ]
    }
   ],
   "source": [
    "import sys, os\n",
    "sys.path.insert(0,'/global/homes/b/bpb/metatlas/' )\n",
    "sys.path.insert(1,'/global/project/projectdirs/metatlas/anaconda/lib/python2.7/site-packages' )\n",
    "import pandas as pd\n",
    "from metatlas import metatlas_objects as metob\n",
    "from metatlas.helpers import dill2plots as dp\n",
    "import numpy as np\n",
    "import time\n",
    "import copy\n",
    "import dill\n",
    "pd.options.display.max_colwidth = 100\n",
    "pd.set_option('display.max_rows', 500)"
   ]
  },
  {
   "cell_type": "code",
   "execution_count": 22,
   "metadata": {
    "collapsed": false
   },
   "outputs": [
    {
     "name": "stdout",
     "output_type": "stream",
     "text": [
      "31\n",
      "0 20160504_KBL_NyogiLipidsA_POS_24hr_BD_controlBD_noglc 2016-07-18 19:26:28\n",
      "1 20160504_KBL_NyogiLipidsA_POS_48hr_BD_treatmentBD_glc 2016-07-18 19:26:04\n",
      "2 20160504_KBL_NyogiLipidsA_POS_24hr_BD_treatmentBD_glc 2016-07-18 19:26:05\n",
      "3 20160504_KBL_NyogiLipidsA_POS_72hr_BD_controlBD_noglc 2016-07-18 19:26:19\n",
      "4 20160504_KBL_NyogiLipidsA_POS_PC_D31__ 2016-07-18 19:26:05\n",
      "5 20160504_KBL_NyogiLipidsA_POS_48hr_BD_controlBD_noglc 2016-07-18 19:26:06\n",
      "6 20160504_KBL_NyogiLipidsA_POS_84hr0hr_BDBG_treatmentBD_glc 2016-07-18 19:26:10\n",
      "7 20160504_KBL_NyogiLipidsA_POS_SQDG_nolabel__ 2016-07-18 19:26:10\n",
      "8 20160504_KBL_NyogiLipidsA_POS_48hr_BG_controlBG_glcglc 2016-07-18 19:26:07\n",
      "9 20160504_KBL_NyogiLipidsA_POS_DGTS_D9__ 2016-07-18 19:26:11\n",
      "10 20160504_KBL_NyogiLipidsA_POS_lysoPC_17oddchain__ 2016-07-18 19:26:13\n",
      "11 20160504_KBL_NyogiLipidsA_POS_DGDG_nolabel__ 2016-07-18 19:26:18\n",
      "12 20160504_KBL_NyogiLipidsA_POS_24hr_BG_treatmentBG_glcnoglc 2016-07-18 19:26:36\n",
      "13 20160504_KBL_NyogiLipidsA_POS_MGDG_nolabel__ 2016-07-18 19:26:19\n",
      "14 20160504_KBL_NyogiLipidsA_POS_PS_D31__ 2016-07-18 19:26:19\n",
      "15 20160504_KBL_NyogiLipidsA_POS_OleicAcid_D9__ 2016-07-18 19:26:05\n",
      "16 20160504_KBL_NyogiLipidsA_POS_24hr_BG_controlBG_glcglc 2016-07-18 19:26:21\n",
      "17 20160504_KBL_NyogiLipidsA_POS_MG_17oddchain__ 2016-07-18 19:26:23\n",
      "18 20160504_KBL_NyogiLipidsA_POS_12hr_BG_treatmentBG_glcnoglc 2016-07-18 19:26:24\n",
      "19 20160504_KBL_NyogiLipidsA_POS_72hr_BD_treatmentBD_glc 2016-07-18 19:26:26\n",
      "20 20160504_KBL_NyogiLipidsA_POS_12hr_BG_controlBG_glcglc 2016-07-18 19:26:25\n",
      "21 20160504_KBL_NyogiLipidsA_POS_standards 2016-07-18 19:26:24\n",
      "22 20160504_KBL_NyogiLipidsA_POS_PG_D5__ 2016-07-18 19:26:26\n",
      "23 20160504_KBL_NyogiLipidsA_POS_4uM___ 2016-07-18 19:26:27\n",
      "24 20160504_KBL_NyogiLipidsA_POS_DG_D5__ 2016-07-18 19:26:35\n",
      "25 20160504_KBL_NyogiLipidsA_POS_84hr_BD_controlBD_noglc 2016-07-18 19:26:29\n",
      "26 20160504_KBL_NyogiLipidsA_POS_0hr_BD_controlBD_noglc 2016-07-18 19:26:29\n",
      "27 20160504_KBL_NyogiLipidsA_POS_PA_D31__ 2016-07-18 19:26:30\n",
      "28 20160504_KBL_NyogiLipidsA_POS_PE_D31__ 2016-07-18 19:26:21\n",
      "29 20160504_KBL_NyogiLipidsA_POS_TG_D5__ 2016-07-18 19:26:35\n",
      "30 20160504_KBL_NyogiLipidsA_POS_48hr_BG_treatmentBG_glcnoglc 2016-07-18 19:26:37\n"
     ]
    }
   ],
   "source": [
    "dp = reload(dp)\n",
    "groups = dp.select_groups_for_analysis(name = '%nyogilipidsA%pos%',\n",
    "                                       most_recent = True,\n",
    "                                       remove_empty = True,\n",
    "                                       include_list = [], exclude_list = ['QC','Blank','extractioncontrol'])"
   ]
  },
  {
   "cell_type": "markdown",
   "metadata": {},
   "source": [
    "# Functions"
   ]
  },
  {
   "cell_type": "code",
   "execution_count": 23,
   "metadata": {
    "collapsed": false
   },
   "outputs": [],
   "source": [
    "def df_container_from_metatlas_file(my_file):\n",
    "    data_df = pd.DataFrame()\n",
    "    pd_h5_file  = pd.HDFStore(my_file.hdf5_file)\n",
    "    keys = pd_h5_file.keys()\n",
    "    pd_h5_file.close()\n",
    "    df_container = {}\n",
    "    for k in keys:\n",
    "        if ('ms2' in k) and not ('_mz' in k):\n",
    "            new_df = pd.read_hdf(my_file.hdf5_file,k)\n",
    "            df_container[k[1:]] = new_df\n",
    "    return df_container\n"
   ]
  },
  {
   "cell_type": "code",
   "execution_count": 24,
   "metadata": {
    "collapsed": false
   },
   "outputs": [],
   "source": [
    "import os\n",
    "df = pd.DataFrame()\n",
    "for group in groups:\n",
    "    for my_file in group.items:\n",
    "        container = df_container_from_metatlas_file(my_file)\n",
    "        container['ms2_pos']['hdf5_file'] = os.path.basename(my_file.hdf5_file)\n",
    "        df = pd.concat([df,container['ms2_pos']],axis=0)\n"
   ]
  },
  {
   "cell_type": "code",
   "execution_count": 25,
   "metadata": {
    "collapsed": false
   },
   "outputs": [
    {
     "data": {
      "text/html": [
       "<div>\n",
       "<table border=\"1\" class=\"dataframe\">\n",
       "  <thead>\n",
       "    <tr style=\"text-align: right;\">\n",
       "      <th></th>\n",
       "      <th>mz</th>\n",
       "      <th>i</th>\n",
       "      <th>rt</th>\n",
       "      <th>precursor_MZ</th>\n",
       "      <th>precursor_intensity</th>\n",
       "      <th>collision_energy</th>\n",
       "      <th>hdf5_file</th>\n",
       "    </tr>\n",
       "  </thead>\n",
       "  <tbody>\n",
       "    <tr>\n",
       "      <th>0</th>\n",
       "      <td>59.184872</td>\n",
       "      <td>1954.242432</td>\n",
       "      <td>0.011703</td>\n",
       "      <td>413.265106</td>\n",
       "      <td>143063.640625</td>\n",
       "      <td>20.0</td>\n",
       "      <td>20160504_C18_lipid_POS_MSMS_KBL_Qex_MR_5_24hr_BD_a_controlBD_noglc___Run31.h5</td>\n",
       "    </tr>\n",
       "    <tr>\n",
       "      <th>1</th>\n",
       "      <td>61.079731</td>\n",
       "      <td>2154.174805</td>\n",
       "      <td>0.011703</td>\n",
       "      <td>413.265106</td>\n",
       "      <td>143063.640625</td>\n",
       "      <td>20.0</td>\n",
       "      <td>20160504_C18_lipid_POS_MSMS_KBL_Qex_MR_5_24hr_BD_a_controlBD_noglc___Run31.h5</td>\n",
       "    </tr>\n",
       "    <tr>\n",
       "      <th>2</th>\n",
       "      <td>71.000175</td>\n",
       "      <td>2465.985107</td>\n",
       "      <td>0.011703</td>\n",
       "      <td>413.265106</td>\n",
       "      <td>143063.640625</td>\n",
       "      <td>20.0</td>\n",
       "      <td>20160504_C18_lipid_POS_MSMS_KBL_Qex_MR_5_24hr_BD_a_controlBD_noglc___Run31.h5</td>\n",
       "    </tr>\n",
       "    <tr>\n",
       "      <th>3</th>\n",
       "      <td>94.132423</td>\n",
       "      <td>2286.211182</td>\n",
       "      <td>0.011703</td>\n",
       "      <td>413.265106</td>\n",
       "      <td>143063.640625</td>\n",
       "      <td>20.0</td>\n",
       "      <td>20160504_C18_lipid_POS_MSMS_KBL_Qex_MR_5_24hr_BD_a_controlBD_noglc___Run31.h5</td>\n",
       "    </tr>\n",
       "    <tr>\n",
       "      <th>4</th>\n",
       "      <td>171.005829</td>\n",
       "      <td>3223.530518</td>\n",
       "      <td>0.011703</td>\n",
       "      <td>413.265106</td>\n",
       "      <td>143063.640625</td>\n",
       "      <td>20.0</td>\n",
       "      <td>20160504_C18_lipid_POS_MSMS_KBL_Qex_MR_5_24hr_BD_a_controlBD_noglc___Run31.h5</td>\n",
       "    </tr>\n",
       "  </tbody>\n",
       "</table>\n",
       "</div>"
      ],
      "text/plain": [
       "           mz            i        rt  precursor_MZ  precursor_intensity  \\\n",
       "0   59.184872  1954.242432  0.011703    413.265106        143063.640625   \n",
       "1   61.079731  2154.174805  0.011703    413.265106        143063.640625   \n",
       "2   71.000175  2465.985107  0.011703    413.265106        143063.640625   \n",
       "3   94.132423  2286.211182  0.011703    413.265106        143063.640625   \n",
       "4  171.005829  3223.530518  0.011703    413.265106        143063.640625   \n",
       "\n",
       "   collision_energy  \\\n",
       "0              20.0   \n",
       "1              20.0   \n",
       "2              20.0   \n",
       "3              20.0   \n",
       "4              20.0   \n",
       "\n",
       "                                                                       hdf5_file  \n",
       "0  20160504_C18_lipid_POS_MSMS_KBL_Qex_MR_5_24hr_BD_a_controlBD_noglc___Run31.h5  \n",
       "1  20160504_C18_lipid_POS_MSMS_KBL_Qex_MR_5_24hr_BD_a_controlBD_noglc___Run31.h5  \n",
       "2  20160504_C18_lipid_POS_MSMS_KBL_Qex_MR_5_24hr_BD_a_controlBD_noglc___Run31.h5  \n",
       "3  20160504_C18_lipid_POS_MSMS_KBL_Qex_MR_5_24hr_BD_a_controlBD_noglc___Run31.h5  \n",
       "4  20160504_C18_lipid_POS_MSMS_KBL_Qex_MR_5_24hr_BD_a_controlBD_noglc___Run31.h5  "
      ]
     },
     "execution_count": 25,
     "metadata": {},
     "output_type": "execute_result"
    }
   ],
   "source": [
    "df.head()"
   ]
  },
  {
   "cell_type": "code",
   "execution_count": 26,
   "metadata": {
    "collapsed": false
   },
   "outputs": [],
   "source": [
    "grouped = df.groupby(['precursor_MZ','rt','precursor_intensity','collision_energy','hdf5_file']).aggregate(lambda x: tuple(x))\n",
    "grouped.mz = grouped.mz.apply(list)\n",
    "grouped.i = grouped.i.apply(list)\n",
    "grouped = grouped.reset_index()\n",
    "grouped['spectrum'] = map(lambda x,y:(x,y),grouped['mz'],grouped['i'])\n",
    "grouped['spectrum'] = grouped['spectrum'].apply(lambda x: zip(x[0],x[1]))\n",
    "grouped.drop(['mz','i'], axis=1, inplace=True)\n"
   ]
  },
  {
   "cell_type": "code",
   "execution_count": 27,
   "metadata": {
    "collapsed": false
   },
   "outputs": [
    {
     "data": {
      "text/html": [
       "<div>\n",
       "<table border=\"1\" class=\"dataframe\">\n",
       "  <thead>\n",
       "    <tr style=\"text-align: right;\">\n",
       "      <th></th>\n",
       "      <th>precursor_MZ</th>\n",
       "      <th>rt</th>\n",
       "      <th>precursor_intensity</th>\n",
       "      <th>collision_energy</th>\n",
       "      <th>hdf5_file</th>\n",
       "      <th>spectrum</th>\n",
       "    </tr>\n",
       "  </thead>\n",
       "  <tbody>\n",
       "    <tr>\n",
       "      <th>0</th>\n",
       "      <td>80.049644</td>\n",
       "      <td>1.029684</td>\n",
       "      <td>5.853951e+05</td>\n",
       "      <td>20.0</td>\n",
       "      <td>20160504_C18_lipid_POS_MSMS_KBL_Qex_MR_19_48hr_BD_c_treatmentBD_glc___Run82.h5</td>\n",
       "      <td>[(53.0031, 147646.0), (53.0392, 7690.6), (53.9981, 6578.45), (54.0066, 1333.97), (63.5309, 1273....</td>\n",
       "    </tr>\n",
       "    <tr>\n",
       "      <th>1</th>\n",
       "      <td>80.049644</td>\n",
       "      <td>7.208591</td>\n",
       "      <td>1.073722e+06</td>\n",
       "      <td>20.0</td>\n",
       "      <td>20160504_C18_lipid_POS_MSMS_KBL_Qex_MR_11_24hr_BD_c_treatmentBD_glc___Run85.h5</td>\n",
       "      <td>[(50.0159, 1531.24), (51.0238, 10235.2), (53.0031, 316264.0), (53.0394, 58215.1), (53.9983, 1712...</td>\n",
       "    </tr>\n",
       "    <tr>\n",
       "      <th>2</th>\n",
       "      <td>80.049652</td>\n",
       "      <td>4.948564</td>\n",
       "      <td>1.116939e+06</td>\n",
       "      <td>20.0</td>\n",
       "      <td>20160504_C18_lipid_POS_MSMS_KBL_Qex_MR_55_48hr_BG_c_controlBG_glcglc___Run91.h5</td>\n",
       "      <td>[(51.0237, 3196.43), (53.0031, 295493.0), (53.0395, 34660.0), (53.9983, 15183.4), (54.0064, 6547...</td>\n",
       "    </tr>\n",
       "    <tr>\n",
       "      <th>3</th>\n",
       "      <td>80.049652</td>\n",
       "      <td>7.676896</td>\n",
       "      <td>1.179940e+06</td>\n",
       "      <td>20.0</td>\n",
       "      <td>20160504_C18_lipid_POS_MSMS_KBL_Qex_MR_39_12hr_BG_c_controlBG_glcglc___Run97.h5</td>\n",
       "      <td>[(51.0238, 13222.7), (52.0316, 1647.83), (52.3341, 1239.14), (53.003, 322221.0), (53.0394, 64183...</td>\n",
       "    </tr>\n",
       "    <tr>\n",
       "      <th>4</th>\n",
       "      <td>80.049660</td>\n",
       "      <td>0.765142</td>\n",
       "      <td>5.261536e+05</td>\n",
       "      <td>20.0</td>\n",
       "      <td>20160504_C18_lipid_POS_MSMS_KBL_Qex_MR_3_0hr_BD_c_controlBD_noglc___Run88.h5</td>\n",
       "      <td>[(53.0031, 137306.0), (53.0393, 8933.92), (53.9981, 7395.19), (55.2099, 1419.99), (56.07, 1265.7...</td>\n",
       "    </tr>\n",
       "  </tbody>\n",
       "</table>\n",
       "</div>"
      ],
      "text/plain": [
       "   precursor_MZ        rt  precursor_intensity  collision_energy  \\\n",
       "0     80.049644  1.029684         5.853951e+05              20.0   \n",
       "1     80.049644  7.208591         1.073722e+06              20.0   \n",
       "2     80.049652  4.948564         1.116939e+06              20.0   \n",
       "3     80.049652  7.676896         1.179940e+06              20.0   \n",
       "4     80.049660  0.765142         5.261536e+05              20.0   \n",
       "\n",
       "                                                                         hdf5_file  \\\n",
       "0   20160504_C18_lipid_POS_MSMS_KBL_Qex_MR_19_48hr_BD_c_treatmentBD_glc___Run82.h5   \n",
       "1   20160504_C18_lipid_POS_MSMS_KBL_Qex_MR_11_24hr_BD_c_treatmentBD_glc___Run85.h5   \n",
       "2  20160504_C18_lipid_POS_MSMS_KBL_Qex_MR_55_48hr_BG_c_controlBG_glcglc___Run91.h5   \n",
       "3  20160504_C18_lipid_POS_MSMS_KBL_Qex_MR_39_12hr_BG_c_controlBG_glcglc___Run97.h5   \n",
       "4     20160504_C18_lipid_POS_MSMS_KBL_Qex_MR_3_0hr_BD_c_controlBD_noglc___Run88.h5   \n",
       "\n",
       "                                                                                              spectrum  \n",
       "0  [(53.0031, 147646.0), (53.0392, 7690.6), (53.9981, 6578.45), (54.0066, 1333.97), (63.5309, 1273....  \n",
       "1  [(50.0159, 1531.24), (51.0238, 10235.2), (53.0031, 316264.0), (53.0394, 58215.1), (53.9983, 1712...  \n",
       "2  [(51.0237, 3196.43), (53.0031, 295493.0), (53.0395, 34660.0), (53.9983, 15183.4), (54.0064, 6547...  \n",
       "3  [(51.0238, 13222.7), (52.0316, 1647.83), (52.3341, 1239.14), (53.003, 322221.0), (53.0394, 64183...  \n",
       "4  [(53.0031, 137306.0), (53.0393, 8933.92), (53.9981, 7395.19), (55.2099, 1419.99), (56.07, 1265.7...  "
      ]
     },
     "execution_count": 27,
     "metadata": {},
     "output_type": "execute_result"
    }
   ],
   "source": [
    "grouped.head()"
   ]
  },
  {
   "cell_type": "code",
   "execution_count": 28,
   "metadata": {
    "collapsed": false
   },
   "outputs": [],
   "source": [
    "target = 184.0739\n",
    "min_intensity = 1e4\n",
    "ppm = 10\n",
    "def search_spectrum(spectrum,target,min_intensity,ppm):\n",
    "    for s in spectrum:\n",
    "        if (abs(s[0] - target) < target*ppm/1e6) & (s[1] > min_intensity):\n",
    "            return True\n",
    "    return False\n",
    "grouped['has_target_fragment'] = grouped['spectrum'].apply(search_spectrum,args = (target,min_intensity,ppm))\n",
    "\n"
   ]
  },
  {
   "cell_type": "code",
   "execution_count": 29,
   "metadata": {
    "collapsed": false
   },
   "outputs": [
    {
     "name": "stdout",
     "output_type": "stream",
     "text": [
      "321174\n"
     ]
    }
   ],
   "source": [
    "idx = (grouped.has_target_fragment) & (grouped.rt > 3) & (grouped.rt < 7) & (grouped.precursor_MZ > 500)\n",
    "print len(idx)\n",
    "df_sqdg = grouped[idx]"
   ]
  },
  {
   "cell_type": "code",
   "execution_count": 30,
   "metadata": {
    "collapsed": false,
    "scrolled": false
   },
   "outputs": [],
   "source": [
    "df_sqdg = df_sqdg.sort_values('precursor_intensity',ascending=False)"
   ]
  },
  {
   "cell_type": "code",
   "execution_count": 31,
   "metadata": {
    "collapsed": false
   },
   "outputs": [
    {
     "data": {
      "text/html": [
       "<div>\n",
       "<table border=\"1\" class=\"dataframe\">\n",
       "  <thead>\n",
       "    <tr style=\"text-align: right;\">\n",
       "      <th></th>\n",
       "      <th>precursor_MZ</th>\n",
       "      <th>rt</th>\n",
       "      <th>precursor_intensity</th>\n",
       "      <th>collision_energy</th>\n",
       "      <th>hdf5_file</th>\n",
       "      <th>spectrum</th>\n",
       "      <th>has_target_fragment</th>\n",
       "    </tr>\n",
       "  </thead>\n",
       "  <tbody>\n",
       "    <tr>\n",
       "      <th>282224</th>\n",
       "      <td>734.590271</td>\n",
       "      <td>5.937315</td>\n",
       "      <td>588514240.0</td>\n",
       "      <td>20.0</td>\n",
       "      <td>20160504_C18_lipid_POS_MSMS_KBL_Qex_MR_6_24hr_BD_b_controlBD_noglc___Run181.h5</td>\n",
       "      <td>[(53.1054, 284154.0), (58.066, 3.11622e+06), (59.0739, 317586.0), (60.0816, 635078.0), (62.0885,...</td>\n",
       "      <td>True</td>\n",
       "    </tr>\n",
       "    <tr>\n",
       "      <th>285883</th>\n",
       "      <td>760.605652</td>\n",
       "      <td>6.011604</td>\n",
       "      <td>522524480.0</td>\n",
       "      <td>20.0</td>\n",
       "      <td>20160504_C18_lipid_POS_MSMS_KBL_Qex_MR_7_24hr_BD_c_controlBD_noglc___Run112.h5</td>\n",
       "      <td>[(53.7186, 328855.0), (58.066, 3.41337e+06), (58.643, 382559.0), (60.0818, 510233.0), (60.3059, ...</td>\n",
       "      <td>True</td>\n",
       "    </tr>\n",
       "    <tr>\n",
       "      <th>285850</th>\n",
       "      <td>760.605164</td>\n",
       "      <td>6.052485</td>\n",
       "      <td>510743552.0</td>\n",
       "      <td>20.0</td>\n",
       "      <td>20160504_C18_lipid_POS_MSMS_KBL_Qex_MR_27_84hr_BD_a_controlBD_noglc___Run79.h5</td>\n",
       "      <td>[(53.2064, 430968.0), (58.0659, 2.4414e+06), (60.0815, 764318.0), (88.9851, 426366.0), (113.06, ...</td>\n",
       "      <td>True</td>\n",
       "    </tr>\n",
       "    <tr>\n",
       "      <th>285919</th>\n",
       "      <td>760.606140</td>\n",
       "      <td>6.030255</td>\n",
       "      <td>475722080.0</td>\n",
       "      <td>20.0</td>\n",
       "      <td>20160504_C18_lipid_POS_MSMS_KBL_Qex_MR_23_72hr_BD_c_controlBD_noglc___Run109.h5</td>\n",
       "      <td>[(57.0343, 305309.0), (58.0659, 2.41338e+06), (58.2284, 357781.0), (59.8465, 331881.0), (60.0817...</td>\n",
       "      <td>True</td>\n",
       "    </tr>\n",
       "    <tr>\n",
       "      <th>282280</th>\n",
       "      <td>734.590881</td>\n",
       "      <td>5.924044</td>\n",
       "      <td>470385344.0</td>\n",
       "      <td>20.0</td>\n",
       "      <td>20160504_C18_lipid_POS_MSMS_KBL_Qex_MR_14_48hr_BD_b_controlBD_noglc___Run178.h5</td>\n",
       "      <td>[(53.2342, 293072.0), (58.0659, 2.18239e+06), (59.5515, 290735.0), (60.0815, 1.43479e+06), (64.3...</td>\n",
       "      <td>True</td>\n",
       "    </tr>\n",
       "    <tr>\n",
       "      <th>282226</th>\n",
       "      <td>734.590271</td>\n",
       "      <td>5.960624</td>\n",
       "      <td>468064864.0</td>\n",
       "      <td>20.0</td>\n",
       "      <td>20160504_C18_lipid_POS_MSMS_KBL_Qex_MR_3_0hr_BD_c_controlBD_noglc___Run88.h5</td>\n",
       "      <td>[(51.4845, 281546.0), (51.6861, 192978.0), (58.0659, 1.6516e+06), (60.0817, 518083.0), (67.6236,...</td>\n",
       "      <td>True</td>\n",
       "    </tr>\n",
       "    <tr>\n",
       "      <th>285915</th>\n",
       "      <td>760.606140</td>\n",
       "      <td>5.997443</td>\n",
       "      <td>466445568.0</td>\n",
       "      <td>20.0</td>\n",
       "      <td>20160504_C18_lipid_POS_MSMS_KBL_Qex_MR_1_0hr_BD_a_controlBD_noglc___Run28.h5</td>\n",
       "      <td>[(58.0659, 1.31199e+06), (60.0813, 483575.0), (76.0236, 309495.0), (87.4467, 335823.0), (120.041...</td>\n",
       "      <td>True</td>\n",
       "    </tr>\n",
       "    <tr>\n",
       "      <th>285865</th>\n",
       "      <td>760.605469</td>\n",
       "      <td>6.051013</td>\n",
       "      <td>460366208.0</td>\n",
       "      <td>20.0</td>\n",
       "      <td>20160504_C18_lipid_POS_MSMS_KBL_Qex_MR_21_72hr_BD_a_controlBD_noglc___Run43.h5</td>\n",
       "      <td>[(56.4215, 307328.0), (58.0659, 1.96104e+06), (60.0815, 557236.0), (65.4694, 323003.0), (67.5032...</td>\n",
       "      <td>True</td>\n",
       "    </tr>\n",
       "    <tr>\n",
       "      <th>285891</th>\n",
       "      <td>760.605713</td>\n",
       "      <td>6.003944</td>\n",
       "      <td>460229056.0</td>\n",
       "      <td>20.0</td>\n",
       "      <td>20160504_C18_lipid_POS_MSMS_KBL_Qex_MR_5_24hr_BD_a_controlBD_noglc___Run31.h5</td>\n",
       "      <td>[(53.4194, 285966.0), (58.0659, 2.30004e+06), (60.0815, 599418.0), (65.8736, 302721.0), (67.383,...</td>\n",
       "      <td>True</td>\n",
       "    </tr>\n",
       "    <tr>\n",
       "      <th>285911</th>\n",
       "      <td>760.606079</td>\n",
       "      <td>6.030700</td>\n",
       "      <td>433380512.0</td>\n",
       "      <td>20.0</td>\n",
       "      <td>20160504_C18_lipid_POS_MSMS_KBL_Qex_MR_15_48hr_BD_c_controlBD_noglc___Run115.h5</td>\n",
       "      <td>[(58.0661, 2.4865e+06), (58.872, 260870.0), (60.9256, 340645.0), (111.504, 410569.0), (116.391, ...</td>\n",
       "      <td>True</td>\n",
       "    </tr>\n",
       "  </tbody>\n",
       "</table>\n",
       "</div>"
      ],
      "text/plain": [
       "        precursor_MZ        rt  precursor_intensity  collision_energy  \\\n",
       "282224    734.590271  5.937315          588514240.0              20.0   \n",
       "285883    760.605652  6.011604          522524480.0              20.0   \n",
       "285850    760.605164  6.052485          510743552.0              20.0   \n",
       "285919    760.606140  6.030255          475722080.0              20.0   \n",
       "282280    734.590881  5.924044          470385344.0              20.0   \n",
       "282226    734.590271  5.960624          468064864.0              20.0   \n",
       "285915    760.606140  5.997443          466445568.0              20.0   \n",
       "285865    760.605469  6.051013          460366208.0              20.0   \n",
       "285891    760.605713  6.003944          460229056.0              20.0   \n",
       "285911    760.606079  6.030700          433380512.0              20.0   \n",
       "\n",
       "                                                                              hdf5_file  \\\n",
       "282224   20160504_C18_lipid_POS_MSMS_KBL_Qex_MR_6_24hr_BD_b_controlBD_noglc___Run181.h5   \n",
       "285883   20160504_C18_lipid_POS_MSMS_KBL_Qex_MR_7_24hr_BD_c_controlBD_noglc___Run112.h5   \n",
       "285850   20160504_C18_lipid_POS_MSMS_KBL_Qex_MR_27_84hr_BD_a_controlBD_noglc___Run79.h5   \n",
       "285919  20160504_C18_lipid_POS_MSMS_KBL_Qex_MR_23_72hr_BD_c_controlBD_noglc___Run109.h5   \n",
       "282280  20160504_C18_lipid_POS_MSMS_KBL_Qex_MR_14_48hr_BD_b_controlBD_noglc___Run178.h5   \n",
       "282226     20160504_C18_lipid_POS_MSMS_KBL_Qex_MR_3_0hr_BD_c_controlBD_noglc___Run88.h5   \n",
       "285915     20160504_C18_lipid_POS_MSMS_KBL_Qex_MR_1_0hr_BD_a_controlBD_noglc___Run28.h5   \n",
       "285865   20160504_C18_lipid_POS_MSMS_KBL_Qex_MR_21_72hr_BD_a_controlBD_noglc___Run43.h5   \n",
       "285891    20160504_C18_lipid_POS_MSMS_KBL_Qex_MR_5_24hr_BD_a_controlBD_noglc___Run31.h5   \n",
       "285911  20160504_C18_lipid_POS_MSMS_KBL_Qex_MR_15_48hr_BD_c_controlBD_noglc___Run115.h5   \n",
       "\n",
       "                                                                                                   spectrum  \\\n",
       "282224  [(53.1054, 284154.0), (58.066, 3.11622e+06), (59.0739, 317586.0), (60.0816, 635078.0), (62.0885,...   \n",
       "285883  [(53.7186, 328855.0), (58.066, 3.41337e+06), (58.643, 382559.0), (60.0818, 510233.0), (60.3059, ...   \n",
       "285850  [(53.2064, 430968.0), (58.0659, 2.4414e+06), (60.0815, 764318.0), (88.9851, 426366.0), (113.06, ...   \n",
       "285919  [(57.0343, 305309.0), (58.0659, 2.41338e+06), (58.2284, 357781.0), (59.8465, 331881.0), (60.0817...   \n",
       "282280  [(53.2342, 293072.0), (58.0659, 2.18239e+06), (59.5515, 290735.0), (60.0815, 1.43479e+06), (64.3...   \n",
       "282226  [(51.4845, 281546.0), (51.6861, 192978.0), (58.0659, 1.6516e+06), (60.0817, 518083.0), (67.6236,...   \n",
       "285915  [(58.0659, 1.31199e+06), (60.0813, 483575.0), (76.0236, 309495.0), (87.4467, 335823.0), (120.041...   \n",
       "285865  [(56.4215, 307328.0), (58.0659, 1.96104e+06), (60.0815, 557236.0), (65.4694, 323003.0), (67.5032...   \n",
       "285891  [(53.4194, 285966.0), (58.0659, 2.30004e+06), (60.0815, 599418.0), (65.8736, 302721.0), (67.383,...   \n",
       "285911  [(58.0661, 2.4865e+06), (58.872, 260870.0), (60.9256, 340645.0), (111.504, 410569.0), (116.391, ...   \n",
       "\n",
       "       has_target_fragment  \n",
       "282224                True  \n",
       "285883                True  \n",
       "285850                True  \n",
       "285919                True  \n",
       "282280                True  \n",
       "282226                True  \n",
       "285915                True  \n",
       "285865                True  \n",
       "285891                True  \n",
       "285911                True  "
      ]
     },
     "execution_count": 31,
     "metadata": {},
     "output_type": "execute_result"
    }
   ],
   "source": [
    "df_sqdg.head(10)"
   ]
  },
  {
   "cell_type": "code",
   "execution_count": 32,
   "metadata": {
    "collapsed": false
   },
   "outputs": [],
   "source": [
    "df_unique_sqdg = pd.DataFrame()\n",
    "df_unique_sqdg = df_sqdg.iloc[[0]]\n",
    "for i in df_sqdg.index:\n",
    "    idx = abs(df_sqdg.loc[i,'precursor_MZ'] - df_unique_sqdg.precursor_MZ) < 0.02\n",
    "    if sum(idx) == 0:\n",
    "        #The mz is new so add it\n",
    "        df_unique_sqdg = pd.concat([df_unique_sqdg,df_sqdg.loc[[i]]],axis = 0)\n",
    "    else:\n",
    "        #the mz has been seen before; so see if the rt is new\n",
    "        if sum(abs(df_unique_sqdg[idx].rt - df_sqdg.loc[i,'rt']) < 0.1)==0:\n",
    "            df_unique_sqdg = pd.concat([df_unique_sqdg,df_sqdg.loc[[i]]],axis = 0)"
   ]
  },
  {
   "cell_type": "code",
   "execution_count": 33,
   "metadata": {
    "collapsed": false
   },
   "outputs": [
    {
     "data": {
      "text/plain": [
       "(268, 7)"
      ]
     },
     "execution_count": 33,
     "metadata": {},
     "output_type": "execute_result"
    }
   ],
   "source": [
    "df_unique_sqdg.shape"
   ]
  },
  {
   "cell_type": "code",
   "execution_count": 34,
   "metadata": {
    "collapsed": false
   },
   "outputs": [
    {
     "data": {
      "text/html": [
       "<div>\n",
       "<table border=\"1\" class=\"dataframe\">\n",
       "  <thead>\n",
       "    <tr style=\"text-align: right;\">\n",
       "      <th></th>\n",
       "      <th>precursor_MZ</th>\n",
       "      <th>rt</th>\n",
       "      <th>precursor_intensity</th>\n",
       "      <th>collision_energy</th>\n",
       "      <th>hdf5_file</th>\n",
       "      <th>spectrum</th>\n",
       "      <th>has_target_fragment</th>\n",
       "    </tr>\n",
       "  </thead>\n",
       "  <tbody>\n",
       "    <tr>\n",
       "      <th>282224</th>\n",
       "      <td>734.590271</td>\n",
       "      <td>5.937315</td>\n",
       "      <td>588514240.0</td>\n",
       "      <td>20.0</td>\n",
       "      <td>20160504_C18_lipid_POS_MSMS_KBL_Qex_MR_6_24hr_BD_b_controlBD_noglc___Run181.h5</td>\n",
       "      <td>[(53.1054, 284154.0), (58.066, 3.11622e+06), (59.0739, 317586.0), (60.0816, 635078.0), (62.0885,...</td>\n",
       "      <td>True</td>\n",
       "    </tr>\n",
       "    <tr>\n",
       "      <th>285883</th>\n",
       "      <td>760.605652</td>\n",
       "      <td>6.011604</td>\n",
       "      <td>522524480.0</td>\n",
       "      <td>20.0</td>\n",
       "      <td>20160504_C18_lipid_POS_MSMS_KBL_Qex_MR_7_24hr_BD_c_controlBD_noglc___Run112.h5</td>\n",
       "      <td>[(53.7186, 328855.0), (58.066, 3.41337e+06), (58.643, 382559.0), (60.0818, 510233.0), (60.3059, ...</td>\n",
       "      <td>True</td>\n",
       "    </tr>\n",
       "    <tr>\n",
       "      <th>285663</th>\n",
       "      <td>760.369995</td>\n",
       "      <td>5.983567</td>\n",
       "      <td>348493184.0</td>\n",
       "      <td>20.0</td>\n",
       "      <td>20160504_C18_lipid_POS_MSMS_KBL_Qex_MR_48_24hr_BG_d_controlBG_glcglc___Run175.h5</td>\n",
       "      <td>[(117.631, 209881.0), (144.102, 6.04292e+06), (152.213, 445135.0), (162.112, 2.29687e+06), (184....</td>\n",
       "      <td>True</td>\n",
       "    </tr>\n",
       "    <tr>\n",
       "      <th>285410</th>\n",
       "      <td>758.589539</td>\n",
       "      <td>5.674184</td>\n",
       "      <td>270865568.0</td>\n",
       "      <td>20.0</td>\n",
       "      <td>20160504_C18_lipid_POS_MSMS_KBL_Qex_MR_28_84hr_BD_b_controlBD_noglc___Run187.h5</td>\n",
       "      <td>[(56.4435, 198692.0), (57.1589, 200592.0), (58.066, 1.97225e+06), (59.0737, 360716.0), (60.0816,...</td>\n",
       "      <td>True</td>\n",
       "    </tr>\n",
       "    <tr>\n",
       "      <th>285835</th>\n",
       "      <td>760.604980</td>\n",
       "      <td>6.125972</td>\n",
       "      <td>221177488.0</td>\n",
       "      <td>20.0</td>\n",
       "      <td>20160504_C18_lipid_POS_MSMS_KBL_Qex_MR_49_48hr_BG_c_treatmentBG_glcnoglc___Run67.h5</td>\n",
       "      <td>[(57.2595, 157702.0), (58.0659, 1.26213e+06), (60.0815, 232120.0), (68.5156, 166186.0), (70.1307...</td>\n",
       "      <td>True</td>\n",
       "    </tr>\n",
       "    <tr>\n",
       "      <th>282039</th>\n",
       "      <td>732.574463</td>\n",
       "      <td>5.603048</td>\n",
       "      <td>214612272.0</td>\n",
       "      <td>20.0</td>\n",
       "      <td>20160504_C18_lipid_POS_MSMS_KBL_Qex_MR_20_48hr_BD_d_treatmentBD_glc___Run154.h5</td>\n",
       "      <td>[(55.3163, 86106.8), (58.0661, 992232.0), (60.0816, 235149.0), (67.0547, 143415.0), (81.0705, 11...</td>\n",
       "      <td>True</td>\n",
       "    </tr>\n",
       "    <tr>\n",
       "      <th>285522</th>\n",
       "      <td>758.590149</td>\n",
       "      <td>5.567500</td>\n",
       "      <td>178740224.0</td>\n",
       "      <td>20.0</td>\n",
       "      <td>20160504_C18_lipid_POS_MSMS_KBL_Qex_MR_40_12hr_BG_d_controlBG_glcglc___Run196.h5</td>\n",
       "      <td>[(58.066, 1.58684e+06), (59.0739, 203448.0), (60.0816, 270974.0), (67.0549, 289580.0), (80.0975,...</td>\n",
       "      <td>True</td>\n",
       "    </tr>\n",
       "    <tr>\n",
       "      <th>288913</th>\n",
       "      <td>782.566467</td>\n",
       "      <td>5.685224</td>\n",
       "      <td>167832560.0</td>\n",
       "      <td>20.0</td>\n",
       "      <td>20160504_C18_lipid_POS_MSMS_KBL_Qex_MR_1_0hr_BD_a_controlBD_noglc___Run28.h5</td>\n",
       "      <td>[(56.5031, 140579.0), (58.0661, 562305.0), (59.0741, 174680.0), (60.0816, 2.18447e+06), (71.0734...</td>\n",
       "      <td>True</td>\n",
       "    </tr>\n",
       "    <tr>\n",
       "      <th>288830</th>\n",
       "      <td>781.580017</td>\n",
       "      <td>5.698529</td>\n",
       "      <td>163624144.0</td>\n",
       "      <td>20.0</td>\n",
       "      <td>20160504_C18_lipid_POS_MSMS_KBL_Qex_MR_2_0hr_BD_b_controlBD_noglc___Run118.h5</td>\n",
       "      <td>[(124.012, 53563.5), (125.0, 1.61201e+06), (163.819, 67580.8), (173.494, 165596.0), (173.509, 21...</td>\n",
       "      <td>True</td>\n",
       "    </tr>\n",
       "    <tr>\n",
       "      <th>289213</th>\n",
       "      <td>784.581909</td>\n",
       "      <td>6.112022</td>\n",
       "      <td>162859040.0</td>\n",
       "      <td>20.0</td>\n",
       "      <td>20160504_C18_lipid_POS_MSMS_KBL_Qex_MR_39_12hr_BG_c_controlBG_glcglc___Run97.h5</td>\n",
       "      <td>[(55.6292, 108249.0), (56.7685, 120312.0), (58.0663, 583933.0), (59.0739, 234454.0), (60.0815, 1...</td>\n",
       "      <td>True</td>\n",
       "    </tr>\n",
       "  </tbody>\n",
       "</table>\n",
       "</div>"
      ],
      "text/plain": [
       "        precursor_MZ        rt  precursor_intensity  collision_energy  \\\n",
       "282224    734.590271  5.937315          588514240.0              20.0   \n",
       "285883    760.605652  6.011604          522524480.0              20.0   \n",
       "285663    760.369995  5.983567          348493184.0              20.0   \n",
       "285410    758.589539  5.674184          270865568.0              20.0   \n",
       "285835    760.604980  6.125972          221177488.0              20.0   \n",
       "282039    732.574463  5.603048          214612272.0              20.0   \n",
       "285522    758.590149  5.567500          178740224.0              20.0   \n",
       "288913    782.566467  5.685224          167832560.0              20.0   \n",
       "288830    781.580017  5.698529          163624144.0              20.0   \n",
       "289213    784.581909  6.112022          162859040.0              20.0   \n",
       "\n",
       "                                                                                  hdf5_file  \\\n",
       "282224       20160504_C18_lipid_POS_MSMS_KBL_Qex_MR_6_24hr_BD_b_controlBD_noglc___Run181.h5   \n",
       "285883       20160504_C18_lipid_POS_MSMS_KBL_Qex_MR_7_24hr_BD_c_controlBD_noglc___Run112.h5   \n",
       "285663     20160504_C18_lipid_POS_MSMS_KBL_Qex_MR_48_24hr_BG_d_controlBG_glcglc___Run175.h5   \n",
       "285410      20160504_C18_lipid_POS_MSMS_KBL_Qex_MR_28_84hr_BD_b_controlBD_noglc___Run187.h5   \n",
       "285835  20160504_C18_lipid_POS_MSMS_KBL_Qex_MR_49_48hr_BG_c_treatmentBG_glcnoglc___Run67.h5   \n",
       "282039      20160504_C18_lipid_POS_MSMS_KBL_Qex_MR_20_48hr_BD_d_treatmentBD_glc___Run154.h5   \n",
       "285522     20160504_C18_lipid_POS_MSMS_KBL_Qex_MR_40_12hr_BG_d_controlBG_glcglc___Run196.h5   \n",
       "288913         20160504_C18_lipid_POS_MSMS_KBL_Qex_MR_1_0hr_BD_a_controlBD_noglc___Run28.h5   \n",
       "288830        20160504_C18_lipid_POS_MSMS_KBL_Qex_MR_2_0hr_BD_b_controlBD_noglc___Run118.h5   \n",
       "289213      20160504_C18_lipid_POS_MSMS_KBL_Qex_MR_39_12hr_BG_c_controlBG_glcglc___Run97.h5   \n",
       "\n",
       "                                                                                                   spectrum  \\\n",
       "282224  [(53.1054, 284154.0), (58.066, 3.11622e+06), (59.0739, 317586.0), (60.0816, 635078.0), (62.0885,...   \n",
       "285883  [(53.7186, 328855.0), (58.066, 3.41337e+06), (58.643, 382559.0), (60.0818, 510233.0), (60.3059, ...   \n",
       "285663  [(117.631, 209881.0), (144.102, 6.04292e+06), (152.213, 445135.0), (162.112, 2.29687e+06), (184....   \n",
       "285410  [(56.4435, 198692.0), (57.1589, 200592.0), (58.066, 1.97225e+06), (59.0737, 360716.0), (60.0816,...   \n",
       "285835  [(57.2595, 157702.0), (58.0659, 1.26213e+06), (60.0815, 232120.0), (68.5156, 166186.0), (70.1307...   \n",
       "282039  [(55.3163, 86106.8), (58.0661, 992232.0), (60.0816, 235149.0), (67.0547, 143415.0), (81.0705, 11...   \n",
       "285522  [(58.066, 1.58684e+06), (59.0739, 203448.0), (60.0816, 270974.0), (67.0549, 289580.0), (80.0975,...   \n",
       "288913  [(56.5031, 140579.0), (58.0661, 562305.0), (59.0741, 174680.0), (60.0816, 2.18447e+06), (71.0734...   \n",
       "288830  [(124.012, 53563.5), (125.0, 1.61201e+06), (163.819, 67580.8), (173.494, 165596.0), (173.509, 21...   \n",
       "289213  [(55.6292, 108249.0), (56.7685, 120312.0), (58.0663, 583933.0), (59.0739, 234454.0), (60.0815, 1...   \n",
       "\n",
       "       has_target_fragment  \n",
       "282224                True  \n",
       "285883                True  \n",
       "285663                True  \n",
       "285410                True  \n",
       "285835                True  \n",
       "282039                True  \n",
       "285522                True  \n",
       "288913                True  \n",
       "288830                True  \n",
       "289213                True  "
      ]
     },
     "execution_count": 34,
     "metadata": {},
     "output_type": "execute_result"
    }
   ],
   "source": [
    "df_unique_sqdg.head(10)"
   ]
  },
  {
   "cell_type": "code",
   "execution_count": 35,
   "metadata": {
    "collapsed": false
   },
   "outputs": [],
   "source": [
    "df_unique_sqdg.to_csv('/global/homes/b/bpb/Downloads/pc_potential_hits.csv')"
   ]
  },
  {
   "cell_type": "code",
   "execution_count": 36,
   "metadata": {
    "collapsed": true
   },
   "outputs": [],
   "source": [
    "from matplotlib import pyplot as plt\n",
    "%matplotlib inline"
   ]
  },
  {
   "cell_type": "code",
   "execution_count": 37,
   "metadata": {
    "collapsed": false
   },
   "outputs": [
    {
     "name": "stdout",
     "output_type": "stream",
     "text": [
      "[u'seaborn-darkgrid', u'seaborn-notebook', u'classic', u'seaborn-ticks', u'grayscale', u'bmh', u'seaborn-talk', u'dark_background', u'ggplot', u'fivethirtyeight', u'seaborn-colorblind', u'seaborn-deep', u'seaborn-whitegrid', u'seaborn-bright', u'seaborn-poster', u'seaborn-muted', u'seaborn-paper', u'seaborn-white', u'seaborn-pastel', u'seaborn-dark', u'seaborn-dark-palette']\n"
     ]
    }
   ],
   "source": [
    "print(plt.style.available)"
   ]
  },
  {
   "cell_type": "code",
   "execution_count": 38,
   "metadata": {
    "collapsed": false,
    "scrolled": false
   },
   "outputs": [],
   "source": [
    "for i in df_unique_sqdg.index:\n",
    "    s = df_unique_sqdg.loc[i,'spectrum']\n",
    "    mz = zip(*s)[0]\n",
    "    intensity = zip(*s)[1]\n",
    "    fig = plt.figure(figsize=(11,8.5))\n",
    "    plt.style.use('seaborn-ticks')\n",
    "    ax = plt.gca()\n",
    "    ax.vlines(mz,intensity*0,intensity)\n",
    "    ax.set_xlim(0,df_unique_sqdg.loc[i,'precursor_MZ']+5)\n",
    "    ax.set_xlabel('m/z')\n",
    "    ax.set_ylabel('intensity')\n",
    "    sx = np.argsort(intensity)[::-1]\n",
    "    labels = [1.001e9]\n",
    "    for i_mz in sx:\n",
    "        if np.min(np.abs(mz[i_mz] - labels)) > 0.1 and intensity[i_mz] > 0.02 * np.max(intensity):\n",
    "            ax.annotate('%5.4f'%mz[i_mz], xy=(mz[i_mz], 1.01*intensity[i_mz]),rotation = 90, horizontalalignment = 'center', verticalalignment = 'left')\n",
    "            labels.append(mz[i_mz])\n",
    "    plt.tight_layout()\n",
    "    L = plt.ylim()\n",
    "    plt.ylim(L[0],L[1]*1.12)\n",
    "    fig.savefig('/global/homes/b/bpb/Downloads/pc_msms/msms_spectra_%d.png'%i)\n",
    "    plt.close(fig)\n"
   ]
  },
  {
   "cell_type": "code",
   "execution_count": null,
   "metadata": {
    "collapsed": true
   },
   "outputs": [],
   "source": []
  }
 ],
 "metadata": {
  "kernelspec": {
   "display_name": "Python 2",
   "language": "python",
   "name": "python2"
  },
  "language_info": {
   "codemirror_mode": {
    "name": "ipython",
    "version": 2
   },
   "file_extension": ".py",
   "mimetype": "text/x-python",
   "name": "python",
   "nbconvert_exporter": "python",
   "pygments_lexer": "ipython2",
   "version": "2.7.11"
  }
 },
 "nbformat": 4,
 "nbformat_minor": 0
}
