{
 "cells": [
  {
   "cell_type": "markdown",
   "metadata": {},
   "source": [
    "# The time to beat is 60-80 seconds per file."
   ]
  },
  {
   "cell_type": "code",
   "execution_count": 1,
   "metadata": {
    "collapsed": false
   },
   "outputs": [
    {
     "name": "stdout",
     "output_type": "stream",
     "text": [
      "('Metatlas live in ', '/global/homes/b/bpb/metatlas/metatlas')\n",
      "you're running on fb2ee5119e85 at 172.17.0.2 \n"
     ]
    }
   ],
   "source": [
    "import sys, os\n",
    "sys.path.insert(0,'/global/homes/b/bpb/metatlas/' )\n",
    "sys.path.insert(1,'/global/project/projectdirs/metatlas/anaconda/lib/python2.7/site-packages' )\n",
    "import pandas as pd\n",
    "from metatlas import metatlas_objects as metob\n",
    "from metatlas.helpers import dill2plots as dp\n",
    "import numpy as np\n",
    "import time\n",
    "import copy\n",
    "import dill\n",
    "pd.options.display.max_colwidth = 100\n",
    "pd.set_option('display.max_rows', 500)"
   ]
  },
  {
   "cell_type": "code",
   "execution_count": 20,
   "metadata": {
    "collapsed": false
   },
   "outputs": [
    {
     "name": "stdout",
     "output_type": "stream",
     "text": [
      "49\n",
      "0 20160504_KBL_NyogiLipidsA_NEG_72hr_BD_controlBD_noglc 2016-07-18 19:26:03\n",
      "1 20160504_KBL_NyogiLipidsA_POS_24hr_BD_controlBD_noglc 2016-07-18 19:26:28\n",
      "2 20160504_KBL_NyogiLipidsA_POS_48hr_BD_treatmentBD_glc 2016-07-18 19:26:04\n",
      "3 20160504_KBL_NyogiLipidsA_POS_24hr_BD_treatmentBD_glc 2016-07-18 19:26:05\n",
      "4 20160504_KBL_NyogiLipidsA_FPS_standards 2016-07-18 19:26:35\n",
      "5 20160504_KBL_NyogiLipidsA_POS_OleicAcid_D9__ 2016-07-18 19:26:05\n",
      "6 20160504_KBL_NyogiLipidsA_POS_PC_D31__ 2016-07-18 19:26:05\n",
      "7 20160504_KBL_NyogiLipidsA_POS_48hr_BD_controlBD_noglc 2016-07-18 19:26:06\n",
      "8 20160504_KBL_NyogiLipidsA_POS_48hr_BG_controlBG_glcglc 2016-07-18 19:26:07\n",
      "9 20160504_KBL_NyogiLipidsA_NEG_12hr_BG_controlBG_glcglc 2016-07-18 19:26:08\n",
      "10 20160504_KBL_NyogiLipidsA_NEG_84hr_BD_controlBD_noglc 2016-07-18 19:26:08\n",
      "11 20160504_KBL_NyogiLipidsA_POS_PA_D31__ 2016-07-18 19:26:30\n",
      "12 20160504_KBL_NyogiLipidsA_POS_84hr_BD_controlBD_noglc 2016-07-18 19:26:29\n",
      "13 20160504_KBL_NyogiLipidsA_NEG_72hr_BD_treatmentBD_glc 2016-07-18 19:26:09\n",
      "14 20160504_KBL_NyogiLipidsA_NEG_48hr_BD_controlBD_noglc 2016-07-18 19:26:10\n",
      "15 20160504_KBL_NyogiLipidsA_POS_SQDG_nolabel__ 2016-07-18 19:26:10\n",
      "16 20160504_KBL_NyogiLipidsA_POS_84hr0hr_BDBG_treatmentBD_glc 2016-07-18 19:26:10\n",
      "17 20160504_KBL_NyogiLipidsA_POS_DGTS_D9__ 2016-07-18 19:26:11\n",
      "18 20160504_KBL_NyogiLipidsA_NEG_Pre___ 2016-07-18 19:26:11\n",
      "19 20160504_KBL_NyogiLipidsA_NEG_12hr_BG_treatmentBG_glcnoglc 2016-07-18 19:26:12\n",
      "20 20160504_KBL_NyogiLipidsA_POS_lysoPC_17oddchain__ 2016-07-18 19:26:13\n",
      "21 20160504_KBL_NyogiLipidsA_NEG_48hr_BD_treatmentBD_glc 2016-07-18 19:26:13\n",
      "22 20160504_KBL_NyogiLipidsA_NEG_48hr_BG_controlBG_glcglc 2016-07-18 19:26:14\n",
      "23 20160504_KBL_NyogiLipidsA_NEG_24hr_BD_controlBD_noglc 2016-07-18 19:26:15\n",
      "24 20160504_KBL_NyogiLipidsA_NEG_standards 2016-07-18 19:26:18\n",
      "25 20160504_KBL_NyogiLipidsA_POS_MGDG_nolabel__ 2016-07-18 19:26:19\n",
      "26 20160504_KBL_NyogiLipidsA_POS_72hr_BD_controlBD_noglc 2016-07-18 19:26:19\n",
      "27 20160504_KBL_NyogiLipidsA_NEG_84hr0hr_BDBG_treatmentBD_glc 2016-07-18 19:26:20\n",
      "28 20160504_KBL_NyogiLipidsA_POS_24hr_BG_controlBG_glcglc 2016-07-18 19:26:21\n",
      "29 20160504_KBL_NyogiLipidsA_NEG_48hr_BG_treatmentBG_glcnoglc 2016-07-18 19:26:22\n",
      "30 20160504_KBL_NyogiLipidsA_NEG_0hr_BD_controlBD_noglc 2016-07-18 19:26:22\n",
      "31 20160504_KBL_NyogiLipidsA_NEG_24hr_BG_treatmentBG_glcnoglc 2016-07-18 19:26:23\n",
      "32 20160504_KBL_NyogiLipidsA_POS_MG_17oddchain__ 2016-07-18 19:26:23\n",
      "33 20160504_KBL_NyogiLipidsA_POS_12hr_BG_treatmentBG_glcnoglc 2016-07-18 19:26:24\n",
      "34 20160504_KBL_NyogiLipidsA_POS_72hr_BD_treatmentBD_glc 2016-07-18 19:26:26\n",
      "35 20160504_KBL_NyogiLipidsA_POS_12hr_BG_controlBG_glcglc 2016-07-18 19:26:25\n",
      "36 20160504_KBL_NyogiLipidsA_NEG_24hr_BD_treatmentBD_glc 2016-07-18 19:26:26\n",
      "37 20160504_KBL_NyogiLipidsA_POS_standards 2016-07-18 19:26:24\n",
      "38 20160504_KBL_NyogiLipidsA_POS_PG_D5__ 2016-07-18 19:26:26\n",
      "39 20160504_KBL_NyogiLipidsA_POS_4uM___ 2016-07-18 19:26:27\n",
      "40 20160504_KBL_NyogiLipidsA_NEG_24hr_BG_controlBG_glcglc 2016-07-18 19:26:27\n",
      "41 20160504_KBL_NyogiLipidsA_POS_PS_D31__ 2016-07-18 19:26:19\n",
      "42 20160504_KBL_NyogiLipidsA_POS_0hr_BD_controlBD_noglc 2016-07-18 19:26:29\n",
      "43 20160504_KBL_NyogiLipidsA_POS_DGDG_nolabel__ 2016-07-18 19:26:18\n",
      "44 20160504_KBL_NyogiLipidsA_POS_PE_D31__ 2016-07-18 19:26:21\n",
      "45 20160504_KBL_NyogiLipidsA_POS_DG_D5__ 2016-07-18 19:26:35\n",
      "46 20160504_KBL_NyogiLipidsA_POS_TG_D5__ 2016-07-18 19:26:35\n",
      "47 20160504_KBL_NyogiLipidsA_POS_24hr_BG_treatmentBG_glcnoglc 2016-07-18 19:26:36\n",
      "48 20160504_KBL_NyogiLipidsA_POS_48hr_BG_treatmentBG_glcnoglc 2016-07-18 19:26:37\n"
     ]
    }
   ],
   "source": [
    "dp = reload(dp)\n",
    "groups = dp.select_groups_for_analysis(name = '%nyogilipidsA%',\n",
    "                                       most_recent = True,\n",
    "                                       remove_empty = True,\n",
    "                                       include_list = [], exclude_list = ['QC','Blank','extractioncontrol'])"
   ]
  },
  {
   "cell_type": "markdown",
   "metadata": {},
   "source": [
    "# Functions"
   ]
  },
  {
   "cell_type": "code",
   "execution_count": 21,
   "metadata": {
    "collapsed": false
   },
   "outputs": [],
   "source": [
    "def dataframe_container_from_metatlas_hdf5_file(my_file):\n",
    "    data_df = pd.DataFrame()\n",
    "    pd_h5_file  = pd.HDFStore(my_file)\n",
    "    keys = pd_h5_file.keys()\n",
    "    pd_h5_file.close()\n",
    "    df_container = {}\n",
    "    for k in keys:\n",
    "        if ('ms' in k) and not ('_mz' in k):\n",
    "            new_df = pd.read_hdf(my_file,k)\n",
    "            df_container[k[1:]] = new_df\n",
    "    return df_container\n"
   ]
  },
  {
   "cell_type": "code",
   "execution_count": 22,
   "metadata": {
    "collapsed": false
   },
   "outputs": [],
   "source": [
    "import os\n",
    "df = pd.DataFrame()\n",
    "for group in groups:\n",
    "    for my_file in group.items:\n",
    "        container = dataframe_container_from_metatlas_hdf5_file(my_file.hdf5_file)\n",
    "        for k in container.keys():\n",
    "            if ('ms2' in k) and ('pos' in k):\n",
    "                container[k]['polarity'] = 'positive'\n",
    "                container[k]['hdf5_file'] = os.path.basename(my_file.hdf5_file)\n",
    "                df = pd.concat([df,container[k]],axis=0)\n",
    "            elif ('ms2' in k) and ('neg' in k):\n",
    "                container[k]['polarity'] = 'negative'\n",
    "                container[k]['hdf5_file'] = os.path.basename(my_file.hdf5_file)\n",
    "                df = pd.concat([df,container[k]],axis=0)\n"
   ]
  },
  {
   "cell_type": "code",
   "execution_count": 23,
   "metadata": {
    "collapsed": false
   },
   "outputs": [
    {
     "data": {
      "text/html": [
       "<div>\n",
       "<table border=\"1\" class=\"dataframe\">\n",
       "  <thead>\n",
       "    <tr style=\"text-align: right;\">\n",
       "      <th></th>\n",
       "      <th>mz</th>\n",
       "      <th>i</th>\n",
       "      <th>rt</th>\n",
       "      <th>precursor_MZ</th>\n",
       "      <th>precursor_intensity</th>\n",
       "      <th>collision_energy</th>\n",
       "      <th>polarity</th>\n",
       "      <th>hdf5_file</th>\n",
       "    </tr>\n",
       "  </thead>\n",
       "  <tbody>\n",
       "    <tr>\n",
       "      <th>0</th>\n",
       "      <td>54.924725</td>\n",
       "      <td>1707.031982</td>\n",
       "      <td>0.016607</td>\n",
       "      <td>174.960007</td>\n",
       "      <td>2790502.75</td>\n",
       "      <td>20.0</td>\n",
       "      <td>negative</td>\n",
       "      <td>20160504_C18_lipid_NEG_MSMS_KBL_Qex_MR_21_72hr_BD_a_controlBD_noglc___Run44.h5</td>\n",
       "    </tr>\n",
       "    <tr>\n",
       "      <th>1</th>\n",
       "      <td>55.410946</td>\n",
       "      <td>1535.511230</td>\n",
       "      <td>0.016607</td>\n",
       "      <td>174.960007</td>\n",
       "      <td>2790502.75</td>\n",
       "      <td>20.0</td>\n",
       "      <td>negative</td>\n",
       "      <td>20160504_C18_lipid_NEG_MSMS_KBL_Qex_MR_21_72hr_BD_a_controlBD_noglc___Run44.h5</td>\n",
       "    </tr>\n",
       "    <tr>\n",
       "      <th>2</th>\n",
       "      <td>57.473019</td>\n",
       "      <td>1776.081421</td>\n",
       "      <td>0.016607</td>\n",
       "      <td>174.960007</td>\n",
       "      <td>2790502.75</td>\n",
       "      <td>20.0</td>\n",
       "      <td>negative</td>\n",
       "      <td>20160504_C18_lipid_NEG_MSMS_KBL_Qex_MR_21_72hr_BD_a_controlBD_noglc___Run44.h5</td>\n",
       "    </tr>\n",
       "    <tr>\n",
       "      <th>3</th>\n",
       "      <td>71.284447</td>\n",
       "      <td>1834.279419</td>\n",
       "      <td>0.016607</td>\n",
       "      <td>174.960007</td>\n",
       "      <td>2790502.75</td>\n",
       "      <td>20.0</td>\n",
       "      <td>negative</td>\n",
       "      <td>20160504_C18_lipid_NEG_MSMS_KBL_Qex_MR_21_72hr_BD_a_controlBD_noglc___Run44.h5</td>\n",
       "    </tr>\n",
       "    <tr>\n",
       "      <th>4</th>\n",
       "      <td>76.574112</td>\n",
       "      <td>1567.962524</td>\n",
       "      <td>0.016607</td>\n",
       "      <td>174.960007</td>\n",
       "      <td>2790502.75</td>\n",
       "      <td>20.0</td>\n",
       "      <td>negative</td>\n",
       "      <td>20160504_C18_lipid_NEG_MSMS_KBL_Qex_MR_21_72hr_BD_a_controlBD_noglc___Run44.h5</td>\n",
       "    </tr>\n",
       "  </tbody>\n",
       "</table>\n",
       "</div>"
      ],
      "text/plain": [
       "          mz            i        rt  precursor_MZ  precursor_intensity  \\\n",
       "0  54.924725  1707.031982  0.016607    174.960007           2790502.75   \n",
       "1  55.410946  1535.511230  0.016607    174.960007           2790502.75   \n",
       "2  57.473019  1776.081421  0.016607    174.960007           2790502.75   \n",
       "3  71.284447  1834.279419  0.016607    174.960007           2790502.75   \n",
       "4  76.574112  1567.962524  0.016607    174.960007           2790502.75   \n",
       "\n",
       "   collision_energy  polarity  \\\n",
       "0              20.0  negative   \n",
       "1              20.0  negative   \n",
       "2              20.0  negative   \n",
       "3              20.0  negative   \n",
       "4              20.0  negative   \n",
       "\n",
       "                                                                        hdf5_file  \n",
       "0  20160504_C18_lipid_NEG_MSMS_KBL_Qex_MR_21_72hr_BD_a_controlBD_noglc___Run44.h5  \n",
       "1  20160504_C18_lipid_NEG_MSMS_KBL_Qex_MR_21_72hr_BD_a_controlBD_noglc___Run44.h5  \n",
       "2  20160504_C18_lipid_NEG_MSMS_KBL_Qex_MR_21_72hr_BD_a_controlBD_noglc___Run44.h5  \n",
       "3  20160504_C18_lipid_NEG_MSMS_KBL_Qex_MR_21_72hr_BD_a_controlBD_noglc___Run44.h5  \n",
       "4  20160504_C18_lipid_NEG_MSMS_KBL_Qex_MR_21_72hr_BD_a_controlBD_noglc___Run44.h5  "
      ]
     },
     "execution_count": 23,
     "metadata": {},
     "output_type": "execute_result"
    }
   ],
   "source": [
    "df.head()"
   ]
  },
  {
   "cell_type": "code",
   "execution_count": 24,
   "metadata": {
    "collapsed": false
   },
   "outputs": [],
   "source": [
    "grouped = df.groupby(['precursor_MZ','rt','polarity','precursor_intensity','collision_energy','hdf5_file']).aggregate(lambda x: tuple(x))\n",
    "grouped.mz = grouped.mz.apply(list)\n",
    "grouped.i = grouped.i.apply(list)\n",
    "grouped = grouped.reset_index()\n",
    "grouped['spectrum'] = map(lambda x,y:(x,y),grouped['mz'],grouped['i'])\n",
    "grouped['spectrum'] = grouped['spectrum'].apply(lambda x: zip(x[0],x[1]))\n",
    "grouped.drop(['mz','i'], axis=1, inplace=True)\n"
   ]
  },
  {
   "cell_type": "code",
   "execution_count": 7,
   "metadata": {
    "collapsed": false
   },
   "outputs": [
    {
     "data": {
      "text/html": [
       "<div>\n",
       "<table border=\"1\" class=\"dataframe\">\n",
       "  <thead>\n",
       "    <tr style=\"text-align: right;\">\n",
       "      <th></th>\n",
       "      <th>precursor_MZ</th>\n",
       "      <th>rt</th>\n",
       "      <th>precursor_intensity</th>\n",
       "      <th>collision_energy</th>\n",
       "      <th>hdf5_file</th>\n",
       "      <th>spectrum</th>\n",
       "    </tr>\n",
       "  </thead>\n",
       "  <tbody>\n",
       "    <tr>\n",
       "      <th>0</th>\n",
       "      <td>80.049644</td>\n",
       "      <td>1.029684</td>\n",
       "      <td>5.853951e+05</td>\n",
       "      <td>20.0</td>\n",
       "      <td>20160504_C18_lipid_POS_MSMS_KBL_Qex_MR_19_48hr_BD_c_treatmentBD_glc___Run82.h5</td>\n",
       "      <td>[(53.0031, 147646.0), (53.0392, 7690.6), (53.9981, 6578.45), (54.0066, 1333.97), (63.5309, 1273....</td>\n",
       "    </tr>\n",
       "    <tr>\n",
       "      <th>1</th>\n",
       "      <td>80.049644</td>\n",
       "      <td>7.208591</td>\n",
       "      <td>1.073722e+06</td>\n",
       "      <td>20.0</td>\n",
       "      <td>20160504_C18_lipid_POS_MSMS_KBL_Qex_MR_11_24hr_BD_c_treatmentBD_glc___Run85.h5</td>\n",
       "      <td>[(50.0159, 1531.24), (51.0238, 10235.2), (53.0031, 316264.0), (53.0394, 58215.1), (53.9983, 1712...</td>\n",
       "    </tr>\n",
       "    <tr>\n",
       "      <th>2</th>\n",
       "      <td>80.049652</td>\n",
       "      <td>4.948564</td>\n",
       "      <td>1.116939e+06</td>\n",
       "      <td>20.0</td>\n",
       "      <td>20160504_C18_lipid_POS_MSMS_KBL_Qex_MR_55_48hr_BG_c_controlBG_glcglc___Run91.h5</td>\n",
       "      <td>[(51.0237, 3196.43), (53.0031, 295493.0), (53.0395, 34660.0), (53.9983, 15183.4), (54.0064, 6547...</td>\n",
       "    </tr>\n",
       "    <tr>\n",
       "      <th>3</th>\n",
       "      <td>80.049652</td>\n",
       "      <td>7.676896</td>\n",
       "      <td>1.179940e+06</td>\n",
       "      <td>20.0</td>\n",
       "      <td>20160504_C18_lipid_POS_MSMS_KBL_Qex_MR_39_12hr_BG_c_controlBG_glcglc___Run97.h5</td>\n",
       "      <td>[(51.0238, 13222.7), (52.0316, 1647.83), (52.3341, 1239.14), (53.003, 322221.0), (53.0394, 64183...</td>\n",
       "    </tr>\n",
       "    <tr>\n",
       "      <th>4</th>\n",
       "      <td>80.049660</td>\n",
       "      <td>0.765142</td>\n",
       "      <td>5.261536e+05</td>\n",
       "      <td>20.0</td>\n",
       "      <td>20160504_C18_lipid_POS_MSMS_KBL_Qex_MR_3_0hr_BD_c_controlBD_noglc___Run88.h5</td>\n",
       "      <td>[(53.0031, 137306.0), (53.0393, 8933.92), (53.9981, 7395.19), (55.2099, 1419.99), (56.07, 1265.7...</td>\n",
       "    </tr>\n",
       "  </tbody>\n",
       "</table>\n",
       "</div>"
      ],
      "text/plain": [
       "   precursor_MZ        rt  precursor_intensity  collision_energy  \\\n",
       "0     80.049644  1.029684         5.853951e+05              20.0   \n",
       "1     80.049644  7.208591         1.073722e+06              20.0   \n",
       "2     80.049652  4.948564         1.116939e+06              20.0   \n",
       "3     80.049652  7.676896         1.179940e+06              20.0   \n",
       "4     80.049660  0.765142         5.261536e+05              20.0   \n",
       "\n",
       "                                                                         hdf5_file  \\\n",
       "0   20160504_C18_lipid_POS_MSMS_KBL_Qex_MR_19_48hr_BD_c_treatmentBD_glc___Run82.h5   \n",
       "1   20160504_C18_lipid_POS_MSMS_KBL_Qex_MR_11_24hr_BD_c_treatmentBD_glc___Run85.h5   \n",
       "2  20160504_C18_lipid_POS_MSMS_KBL_Qex_MR_55_48hr_BG_c_controlBG_glcglc___Run91.h5   \n",
       "3  20160504_C18_lipid_POS_MSMS_KBL_Qex_MR_39_12hr_BG_c_controlBG_glcglc___Run97.h5   \n",
       "4     20160504_C18_lipid_POS_MSMS_KBL_Qex_MR_3_0hr_BD_c_controlBD_noglc___Run88.h5   \n",
       "\n",
       "                                                                                              spectrum  \n",
       "0  [(53.0031, 147646.0), (53.0392, 7690.6), (53.9981, 6578.45), (54.0066, 1333.97), (63.5309, 1273....  \n",
       "1  [(50.0159, 1531.24), (51.0238, 10235.2), (53.0031, 316264.0), (53.0394, 58215.1), (53.9983, 1712...  \n",
       "2  [(51.0237, 3196.43), (53.0031, 295493.0), (53.0395, 34660.0), (53.9983, 15183.4), (54.0064, 6547...  \n",
       "3  [(51.0238, 13222.7), (52.0316, 1647.83), (52.3341, 1239.14), (53.003, 322221.0), (53.0394, 64183...  \n",
       "4  [(53.0031, 137306.0), (53.0393, 8933.92), (53.9981, 7395.19), (55.2099, 1419.99), (56.07, 1265.7...  "
      ]
     },
     "execution_count": 7,
     "metadata": {},
     "output_type": "execute_result"
    }
   ],
   "source": [
    "grouped.head()"
   ]
  },
  {
   "cell_type": "code",
   "execution_count": 9,
   "metadata": {
    "collapsed": false
   },
   "outputs": [],
   "source": [
    "target = 236.1485\n",
    "min_intensity = 1e4\n",
    "ppm = 10\n",
    "def search_spectrum(spectrum,target,min_intensity,ppm):\n",
    "    for s in spectrum:\n",
    "        if (abs(s[0] - target) < target*ppm/1e6) & (s[1] > min_intensity):\n",
    "            return True\n",
    "    return False\n",
    "grouped['has_target_fragment'] = grouped['spectrum'].apply(search_spectrum,args = (target,min_intensity,ppm))\n",
    "\n"
   ]
  },
  {
   "cell_type": "code",
   "execution_count": 10,
   "metadata": {
    "collapsed": false
   },
   "outputs": [
    {
     "name": "stdout",
     "output_type": "stream",
     "text": [
      "321174\n"
     ]
    }
   ],
   "source": [
    "idx = (grouped.has_target_fragment) & (grouped.rt > 3.5) & (grouped.rt < 7.5) & (grouped.precursor_MZ > 500)\n",
    "print len(idx)\n",
    "df_sqdg = grouped[idx]"
   ]
  },
  {
   "cell_type": "code",
   "execution_count": 11,
   "metadata": {
    "collapsed": false,
    "scrolled": false
   },
   "outputs": [],
   "source": [
    "df_sqdg = df_sqdg.sort_values('precursor_intensity',ascending=False)"
   ]
  },
  {
   "cell_type": "code",
   "execution_count": 12,
   "metadata": {
    "collapsed": false
   },
   "outputs": [
    {
     "data": {
      "text/html": [
       "<div>\n",
       "<table border=\"1\" class=\"dataframe\">\n",
       "  <thead>\n",
       "    <tr style=\"text-align: right;\">\n",
       "      <th></th>\n",
       "      <th>precursor_MZ</th>\n",
       "      <th>rt</th>\n",
       "      <th>precursor_intensity</th>\n",
       "      <th>collision_energy</th>\n",
       "      <th>hdf5_file</th>\n",
       "      <th>spectrum</th>\n",
       "      <th>has_target_fragment</th>\n",
       "    </tr>\n",
       "  </thead>\n",
       "  <tbody>\n",
       "    <tr>\n",
       "      <th>282295</th>\n",
       "      <td>734.591248</td>\n",
       "      <td>5.929809</td>\n",
       "      <td>640475008.0</td>\n",
       "      <td>20.0</td>\n",
       "      <td>20160504_C18_lipid_POS_MSMS_KBL_Qex_MR_4_0hr_BD_d_controlBD_noglc___Run145.h5</td>\n",
       "      <td>[(53.2257, 318590.0), (56.1482, 300651.0), (58.066, 3.79567e+06), (59.0737, 425114.0), (60.0813,...</td>\n",
       "      <td>True</td>\n",
       "    </tr>\n",
       "    <tr>\n",
       "      <th>282421</th>\n",
       "      <td>736.606445</td>\n",
       "      <td>6.369270</td>\n",
       "      <td>638040576.0</td>\n",
       "      <td>20.0</td>\n",
       "      <td>20160504_C18_lipid_POS_MSMS_KBL_Qex_MR_31_84hr0hr_BDBG_b_treatmentBD_glc___Run100.h5</td>\n",
       "      <td>[(51.4784, 415327.0), (54.2529, 400215.0), (58.0659, 2.8896e+06), (59.0737, 580927.0), (67.0127,...</td>\n",
       "      <td>True</td>\n",
       "    </tr>\n",
       "    <tr>\n",
       "      <th>282275</th>\n",
       "      <td>734.590759</td>\n",
       "      <td>5.923874</td>\n",
       "      <td>600906240.0</td>\n",
       "      <td>20.0</td>\n",
       "      <td>20160504_C18_lipid_POS_MSMS_KBL_Qex_MR_1_0hr_BD_a_controlBD_noglc___Run28.h5</td>\n",
       "      <td>[(51.7392, 260099.0), (57.0341, 269280.0), (58.066, 5.04692e+06), (59.0739, 616133.0), (60.0817,...</td>\n",
       "      <td>True</td>\n",
       "    </tr>\n",
       "    <tr>\n",
       "      <th>282224</th>\n",
       "      <td>734.590271</td>\n",
       "      <td>5.937315</td>\n",
       "      <td>588514240.0</td>\n",
       "      <td>20.0</td>\n",
       "      <td>20160504_C18_lipid_POS_MSMS_KBL_Qex_MR_6_24hr_BD_b_controlBD_noglc___Run181.h5</td>\n",
       "      <td>[(53.1054, 284154.0), (58.066, 3.11622e+06), (59.0739, 317586.0), (60.0816, 635078.0), (62.0885,...</td>\n",
       "      <td>True</td>\n",
       "    </tr>\n",
       "    <tr>\n",
       "      <th>282289</th>\n",
       "      <td>734.591003</td>\n",
       "      <td>5.921923</td>\n",
       "      <td>552017472.0</td>\n",
       "      <td>20.0</td>\n",
       "      <td>20160504_C18_lipid_POS_MSMS_KBL_Qex_MR_7_24hr_BD_c_controlBD_noglc___Run112.h5</td>\n",
       "      <td>[(53.2219, 238582.0), (58.066, 2.19239e+06), (59.0739, 437669.0), (63.1671, 246552.0), (66.2774,...</td>\n",
       "      <td>True</td>\n",
       "    </tr>\n",
       "    <tr>\n",
       "      <th>285939</th>\n",
       "      <td>760.859985</td>\n",
       "      <td>5.980438</td>\n",
       "      <td>539685568.0</td>\n",
       "      <td>20.0</td>\n",
       "      <td>20160504_C18_lipid_POS_MSMS_KBL_Qex_MR_47_24hr_BG_c_controlBG_glcglc___Run94.h5</td>\n",
       "      <td>[(121.082, 426690.0), (130.085, 604669.0), (144.091, 573229.0), (144.101, 1.14624e+07), (151.944...</td>\n",
       "      <td>True</td>\n",
       "    </tr>\n",
       "    <tr>\n",
       "      <th>282434</th>\n",
       "      <td>736.606567</td>\n",
       "      <td>6.362216</td>\n",
       "      <td>525579680.0</td>\n",
       "      <td>20.0</td>\n",
       "      <td>20160504_C18_lipid_POS_MSMS_KBL_Qex_MR_30_84hr0hr_BDBG_a_treatmentBD_glc___Run184.h5</td>\n",
       "      <td>[(58.0659, 1.89263e+06), (59.074, 374397.0), (60.0816, 748919.0), (84.9048, 335022.0), (85.3387,...</td>\n",
       "      <td>True</td>\n",
       "    </tr>\n",
       "    <tr>\n",
       "      <th>285883</th>\n",
       "      <td>760.605652</td>\n",
       "      <td>6.011604</td>\n",
       "      <td>522524480.0</td>\n",
       "      <td>20.0</td>\n",
       "      <td>20160504_C18_lipid_POS_MSMS_KBL_Qex_MR_7_24hr_BD_c_controlBD_noglc___Run112.h5</td>\n",
       "      <td>[(53.7186, 328855.0), (58.066, 3.41337e+06), (58.643, 382559.0), (60.0818, 510233.0), (60.3059, ...</td>\n",
       "      <td>True</td>\n",
       "    </tr>\n",
       "    <tr>\n",
       "      <th>282298</th>\n",
       "      <td>734.591797</td>\n",
       "      <td>5.920092</td>\n",
       "      <td>520063264.0</td>\n",
       "      <td>20.0</td>\n",
       "      <td>20160504_C18_lipid_POS_MSMS_KBL_Qex_MR_16_48hr_BD_d_controlBD_noglc___Run199.h5</td>\n",
       "      <td>[(52.5973, 335096.0), (58.066, 3.03861e+06), (60.0817, 732028.0), (63.3717, 335876.0), (67.4622,...</td>\n",
       "      <td>True</td>\n",
       "    </tr>\n",
       "    <tr>\n",
       "      <th>282268</th>\n",
       "      <td>734.590698</td>\n",
       "      <td>5.941261</td>\n",
       "      <td>519522688.0</td>\n",
       "      <td>20.0</td>\n",
       "      <td>20160504_C18_lipid_POS_MSMS_KBL_Qex_MR_8_24hr_BD_d_controlBD_noglc___Run169.h5</td>\n",
       "      <td>[(58.0659, 2.17665e+06), (58.1868, 291851.0), (59.53, 276671.0), (60.0816, 734307.0), (60.3298, ...</td>\n",
       "      <td>True</td>\n",
       "    </tr>\n",
       "  </tbody>\n",
       "</table>\n",
       "</div>"
      ],
      "text/plain": [
       "        precursor_MZ        rt  precursor_intensity  collision_energy  \\\n",
       "282295    734.591248  5.929809          640475008.0              20.0   \n",
       "282421    736.606445  6.369270          638040576.0              20.0   \n",
       "282275    734.590759  5.923874          600906240.0              20.0   \n",
       "282224    734.590271  5.937315          588514240.0              20.0   \n",
       "282289    734.591003  5.921923          552017472.0              20.0   \n",
       "285939    760.859985  5.980438          539685568.0              20.0   \n",
       "282434    736.606567  6.362216          525579680.0              20.0   \n",
       "285883    760.605652  6.011604          522524480.0              20.0   \n",
       "282298    734.591797  5.920092          520063264.0              20.0   \n",
       "282268    734.590698  5.941261          519522688.0              20.0   \n",
       "\n",
       "                                                                                   hdf5_file  \\\n",
       "282295         20160504_C18_lipid_POS_MSMS_KBL_Qex_MR_4_0hr_BD_d_controlBD_noglc___Run145.h5   \n",
       "282421  20160504_C18_lipid_POS_MSMS_KBL_Qex_MR_31_84hr0hr_BDBG_b_treatmentBD_glc___Run100.h5   \n",
       "282275          20160504_C18_lipid_POS_MSMS_KBL_Qex_MR_1_0hr_BD_a_controlBD_noglc___Run28.h5   \n",
       "282224        20160504_C18_lipid_POS_MSMS_KBL_Qex_MR_6_24hr_BD_b_controlBD_noglc___Run181.h5   \n",
       "282289        20160504_C18_lipid_POS_MSMS_KBL_Qex_MR_7_24hr_BD_c_controlBD_noglc___Run112.h5   \n",
       "285939       20160504_C18_lipid_POS_MSMS_KBL_Qex_MR_47_24hr_BG_c_controlBG_glcglc___Run94.h5   \n",
       "282434  20160504_C18_lipid_POS_MSMS_KBL_Qex_MR_30_84hr0hr_BDBG_a_treatmentBD_glc___Run184.h5   \n",
       "285883        20160504_C18_lipid_POS_MSMS_KBL_Qex_MR_7_24hr_BD_c_controlBD_noglc___Run112.h5   \n",
       "282298       20160504_C18_lipid_POS_MSMS_KBL_Qex_MR_16_48hr_BD_d_controlBD_noglc___Run199.h5   \n",
       "282268        20160504_C18_lipid_POS_MSMS_KBL_Qex_MR_8_24hr_BD_d_controlBD_noglc___Run169.h5   \n",
       "\n",
       "                                                                                                   spectrum  \\\n",
       "282295  [(53.2257, 318590.0), (56.1482, 300651.0), (58.066, 3.79567e+06), (59.0737, 425114.0), (60.0813,...   \n",
       "282421  [(51.4784, 415327.0), (54.2529, 400215.0), (58.0659, 2.8896e+06), (59.0737, 580927.0), (67.0127,...   \n",
       "282275  [(51.7392, 260099.0), (57.0341, 269280.0), (58.066, 5.04692e+06), (59.0739, 616133.0), (60.0817,...   \n",
       "282224  [(53.1054, 284154.0), (58.066, 3.11622e+06), (59.0739, 317586.0), (60.0816, 635078.0), (62.0885,...   \n",
       "282289  [(53.2219, 238582.0), (58.066, 2.19239e+06), (59.0739, 437669.0), (63.1671, 246552.0), (66.2774,...   \n",
       "285939  [(121.082, 426690.0), (130.085, 604669.0), (144.091, 573229.0), (144.101, 1.14624e+07), (151.944...   \n",
       "282434  [(58.0659, 1.89263e+06), (59.074, 374397.0), (60.0816, 748919.0), (84.9048, 335022.0), (85.3387,...   \n",
       "285883  [(53.7186, 328855.0), (58.066, 3.41337e+06), (58.643, 382559.0), (60.0818, 510233.0), (60.3059, ...   \n",
       "282298  [(52.5973, 335096.0), (58.066, 3.03861e+06), (60.0817, 732028.0), (63.3717, 335876.0), (67.4622,...   \n",
       "282268  [(58.0659, 2.17665e+06), (58.1868, 291851.0), (59.53, 276671.0), (60.0816, 734307.0), (60.3298, ...   \n",
       "\n",
       "       has_target_fragment  \n",
       "282295                True  \n",
       "282421                True  \n",
       "282275                True  \n",
       "282224                True  \n",
       "282289                True  \n",
       "285939                True  \n",
       "282434                True  \n",
       "285883                True  \n",
       "282298                True  \n",
       "282268                True  "
      ]
     },
     "execution_count": 12,
     "metadata": {},
     "output_type": "execute_result"
    }
   ],
   "source": [
    "df_sqdg.head(10)"
   ]
  },
  {
   "cell_type": "code",
   "execution_count": 13,
   "metadata": {
    "collapsed": false
   },
   "outputs": [],
   "source": [
    "df_unique_sqdg = pd.DataFrame()\n",
    "df_unique_sqdg = df_sqdg.iloc[[0]]\n",
    "for i in df_sqdg.index:\n",
    "    idx = abs(df_sqdg.loc[i,'precursor_MZ'] - df_unique_sqdg.precursor_MZ) < 0.02\n",
    "    if sum(idx) == 0:\n",
    "        #The mz is new so add it\n",
    "        df_unique_sqdg = pd.concat([df_unique_sqdg,df_sqdg.loc[[i]]],axis = 0)\n",
    "    else:\n",
    "        #the mz has been seen before; so see if the rt is new\n",
    "        if sum(abs(df_unique_sqdg[idx].rt - df_sqdg.loc[i,'rt']) < 0.1)==0:\n",
    "            df_unique_sqdg = pd.concat([df_unique_sqdg,df_sqdg.loc[[i]]],axis = 0)"
   ]
  },
  {
   "cell_type": "code",
   "execution_count": 14,
   "metadata": {
    "collapsed": false
   },
   "outputs": [
    {
     "data": {
      "text/plain": [
       "(253, 7)"
      ]
     },
     "execution_count": 14,
     "metadata": {},
     "output_type": "execute_result"
    }
   ],
   "source": [
    "df_unique_sqdg.shape"
   ]
  },
  {
   "cell_type": "code",
   "execution_count": 15,
   "metadata": {
    "collapsed": false
   },
   "outputs": [
    {
     "data": {
      "text/html": [
       "<div>\n",
       "<table border=\"1\" class=\"dataframe\">\n",
       "  <thead>\n",
       "    <tr style=\"text-align: right;\">\n",
       "      <th></th>\n",
       "      <th>precursor_MZ</th>\n",
       "      <th>rt</th>\n",
       "      <th>precursor_intensity</th>\n",
       "      <th>collision_energy</th>\n",
       "      <th>hdf5_file</th>\n",
       "      <th>spectrum</th>\n",
       "      <th>has_target_fragment</th>\n",
       "    </tr>\n",
       "  </thead>\n",
       "  <tbody>\n",
       "    <tr>\n",
       "      <th>282295</th>\n",
       "      <td>734.591248</td>\n",
       "      <td>5.929809</td>\n",
       "      <td>640475008.0</td>\n",
       "      <td>20.0</td>\n",
       "      <td>20160504_C18_lipid_POS_MSMS_KBL_Qex_MR_4_0hr_BD_d_controlBD_noglc___Run145.h5</td>\n",
       "      <td>[(53.2257, 318590.0), (56.1482, 300651.0), (58.066, 3.79567e+06), (59.0737, 425114.0), (60.0813,...</td>\n",
       "      <td>True</td>\n",
       "    </tr>\n",
       "    <tr>\n",
       "      <th>282421</th>\n",
       "      <td>736.606445</td>\n",
       "      <td>6.369270</td>\n",
       "      <td>638040576.0</td>\n",
       "      <td>20.0</td>\n",
       "      <td>20160504_C18_lipid_POS_MSMS_KBL_Qex_MR_31_84hr0hr_BDBG_b_treatmentBD_glc___Run100.h5</td>\n",
       "      <td>[(51.4784, 415327.0), (54.2529, 400215.0), (58.0659, 2.8896e+06), (59.0737, 580927.0), (67.0127,...</td>\n",
       "      <td>True</td>\n",
       "    </tr>\n",
       "    <tr>\n",
       "      <th>285939</th>\n",
       "      <td>760.859985</td>\n",
       "      <td>5.980438</td>\n",
       "      <td>539685568.0</td>\n",
       "      <td>20.0</td>\n",
       "      <td>20160504_C18_lipid_POS_MSMS_KBL_Qex_MR_47_24hr_BG_c_controlBG_glcglc___Run94.h5</td>\n",
       "      <td>[(121.082, 426690.0), (130.085, 604669.0), (144.091, 573229.0), (144.101, 1.14624e+07), (151.944...</td>\n",
       "      <td>True</td>\n",
       "    </tr>\n",
       "    <tr>\n",
       "      <th>285883</th>\n",
       "      <td>760.605652</td>\n",
       "      <td>6.011604</td>\n",
       "      <td>522524480.0</td>\n",
       "      <td>20.0</td>\n",
       "      <td>20160504_C18_lipid_POS_MSMS_KBL_Qex_MR_7_24hr_BD_c_controlBD_noglc___Run112.h5</td>\n",
       "      <td>[(53.7186, 328855.0), (58.066, 3.41337e+06), (58.643, 382559.0), (60.0818, 510233.0), (60.3059, ...</td>\n",
       "      <td>True</td>\n",
       "    </tr>\n",
       "    <tr>\n",
       "      <th>282305</th>\n",
       "      <td>736.340027</td>\n",
       "      <td>6.389369</td>\n",
       "      <td>501888992.0</td>\n",
       "      <td>20.0</td>\n",
       "      <td>20160504_C18_lipid_POS_MSMS_KBL_Qex_MR_55_48hr_BG_c_controlBG_glcglc___Run91.h5</td>\n",
       "      <td>[(115.813, 267544.0), (130.085, 296396.0), (139.129, 289958.0), (144.102, 5.86519e+06), (146.005...</td>\n",
       "      <td>True</td>\n",
       "    </tr>\n",
       "    <tr>\n",
       "      <th>282158</th>\n",
       "      <td>734.589844</td>\n",
       "      <td>6.076521</td>\n",
       "      <td>358020448.0</td>\n",
       "      <td>20.0</td>\n",
       "      <td>20160504_C18_lipid_POS_MSMS_KBL_Qex_MR_49_48hr_BG_c_treatmentBG_glcnoglc___Run67.h5</td>\n",
       "      <td>[(58.066, 1.83011e+06), (58.8998, 185754.0), (60.0814, 394615.0), (60.3834, 213134.0), (67.5189,...</td>\n",
       "      <td>True</td>\n",
       "    </tr>\n",
       "    <tr>\n",
       "      <th>285663</th>\n",
       "      <td>760.369995</td>\n",
       "      <td>5.983567</td>\n",
       "      <td>348493184.0</td>\n",
       "      <td>20.0</td>\n",
       "      <td>20160504_C18_lipid_POS_MSMS_KBL_Qex_MR_48_24hr_BG_d_controlBG_glcglc___Run175.h5</td>\n",
       "      <td>[(117.631, 209881.0), (144.102, 6.04292e+06), (152.213, 445135.0), (162.112, 2.29687e+06), (184....</td>\n",
       "      <td>True</td>\n",
       "    </tr>\n",
       "    <tr>\n",
       "      <th>282493</th>\n",
       "      <td>736.849976</td>\n",
       "      <td>6.395312</td>\n",
       "      <td>309504608.0</td>\n",
       "      <td>20.0</td>\n",
       "      <td>20160504_C18_lipid_POS_MSMS_KBL_Qex_MR_52_48hr_BG_b_treatmentBG_glcnoglc___Run139.h5</td>\n",
       "      <td>[(113.059, 277556.0), (113.876, 309288.0), (144.101, 3.38138e+06), (146.006, 488074.0), (149.076...</td>\n",
       "      <td>True</td>\n",
       "    </tr>\n",
       "    <tr>\n",
       "      <th>285410</th>\n",
       "      <td>758.589539</td>\n",
       "      <td>5.674184</td>\n",
       "      <td>270865568.0</td>\n",
       "      <td>20.0</td>\n",
       "      <td>20160504_C18_lipid_POS_MSMS_KBL_Qex_MR_28_84hr_BD_b_controlBD_noglc___Run187.h5</td>\n",
       "      <td>[(56.4435, 198692.0), (57.1589, 200592.0), (58.066, 1.97225e+06), (59.0737, 360716.0), (60.0816,...</td>\n",
       "      <td>True</td>\n",
       "    </tr>\n",
       "    <tr>\n",
       "      <th>282031</th>\n",
       "      <td>732.574402</td>\n",
       "      <td>5.599775</td>\n",
       "      <td>270506080.0</td>\n",
       "      <td>20.0</td>\n",
       "      <td>20160504_C18_lipid_POS_MSMS_KBL_Qex_MR_46_24hr_BG_b_controlBG_glcglc___Run190.h5</td>\n",
       "      <td>[(58.066, 2.17387e+06), (60.0815, 666431.0), (68.2846, 142680.0), (76.0465, 148414.0), (89.521, ...</td>\n",
       "      <td>True</td>\n",
       "    </tr>\n",
       "  </tbody>\n",
       "</table>\n",
       "</div>"
      ],
      "text/plain": [
       "        precursor_MZ        rt  precursor_intensity  collision_energy  \\\n",
       "282295    734.591248  5.929809          640475008.0              20.0   \n",
       "282421    736.606445  6.369270          638040576.0              20.0   \n",
       "285939    760.859985  5.980438          539685568.0              20.0   \n",
       "285883    760.605652  6.011604          522524480.0              20.0   \n",
       "282305    736.340027  6.389369          501888992.0              20.0   \n",
       "282158    734.589844  6.076521          358020448.0              20.0   \n",
       "285663    760.369995  5.983567          348493184.0              20.0   \n",
       "282493    736.849976  6.395312          309504608.0              20.0   \n",
       "285410    758.589539  5.674184          270865568.0              20.0   \n",
       "282031    732.574402  5.599775          270506080.0              20.0   \n",
       "\n",
       "                                                                                   hdf5_file  \\\n",
       "282295         20160504_C18_lipid_POS_MSMS_KBL_Qex_MR_4_0hr_BD_d_controlBD_noglc___Run145.h5   \n",
       "282421  20160504_C18_lipid_POS_MSMS_KBL_Qex_MR_31_84hr0hr_BDBG_b_treatmentBD_glc___Run100.h5   \n",
       "285939       20160504_C18_lipid_POS_MSMS_KBL_Qex_MR_47_24hr_BG_c_controlBG_glcglc___Run94.h5   \n",
       "285883        20160504_C18_lipid_POS_MSMS_KBL_Qex_MR_7_24hr_BD_c_controlBD_noglc___Run112.h5   \n",
       "282305       20160504_C18_lipid_POS_MSMS_KBL_Qex_MR_55_48hr_BG_c_controlBG_glcglc___Run91.h5   \n",
       "282158   20160504_C18_lipid_POS_MSMS_KBL_Qex_MR_49_48hr_BG_c_treatmentBG_glcnoglc___Run67.h5   \n",
       "285663      20160504_C18_lipid_POS_MSMS_KBL_Qex_MR_48_24hr_BG_d_controlBG_glcglc___Run175.h5   \n",
       "282493  20160504_C18_lipid_POS_MSMS_KBL_Qex_MR_52_48hr_BG_b_treatmentBG_glcnoglc___Run139.h5   \n",
       "285410       20160504_C18_lipid_POS_MSMS_KBL_Qex_MR_28_84hr_BD_b_controlBD_noglc___Run187.h5   \n",
       "282031      20160504_C18_lipid_POS_MSMS_KBL_Qex_MR_46_24hr_BG_b_controlBG_glcglc___Run190.h5   \n",
       "\n",
       "                                                                                                   spectrum  \\\n",
       "282295  [(53.2257, 318590.0), (56.1482, 300651.0), (58.066, 3.79567e+06), (59.0737, 425114.0), (60.0813,...   \n",
       "282421  [(51.4784, 415327.0), (54.2529, 400215.0), (58.0659, 2.8896e+06), (59.0737, 580927.0), (67.0127,...   \n",
       "285939  [(121.082, 426690.0), (130.085, 604669.0), (144.091, 573229.0), (144.101, 1.14624e+07), (151.944...   \n",
       "285883  [(53.7186, 328855.0), (58.066, 3.41337e+06), (58.643, 382559.0), (60.0818, 510233.0), (60.3059, ...   \n",
       "282305  [(115.813, 267544.0), (130.085, 296396.0), (139.129, 289958.0), (144.102, 5.86519e+06), (146.005...   \n",
       "282158  [(58.066, 1.83011e+06), (58.8998, 185754.0), (60.0814, 394615.0), (60.3834, 213134.0), (67.5189,...   \n",
       "285663  [(117.631, 209881.0), (144.102, 6.04292e+06), (152.213, 445135.0), (162.112, 2.29687e+06), (184....   \n",
       "282493  [(113.059, 277556.0), (113.876, 309288.0), (144.101, 3.38138e+06), (146.006, 488074.0), (149.076...   \n",
       "285410  [(56.4435, 198692.0), (57.1589, 200592.0), (58.066, 1.97225e+06), (59.0737, 360716.0), (60.0816,...   \n",
       "282031  [(58.066, 2.17387e+06), (60.0815, 666431.0), (68.2846, 142680.0), (76.0465, 148414.0), (89.521, ...   \n",
       "\n",
       "       has_target_fragment  \n",
       "282295                True  \n",
       "282421                True  \n",
       "285939                True  \n",
       "285883                True  \n",
       "282305                True  \n",
       "282158                True  \n",
       "285663                True  \n",
       "282493                True  \n",
       "285410                True  \n",
       "282031                True  "
      ]
     },
     "execution_count": 15,
     "metadata": {},
     "output_type": "execute_result"
    }
   ],
   "source": [
    "df_unique_sqdg.head(10)"
   ]
  },
  {
   "cell_type": "code",
   "execution_count": 16,
   "metadata": {
    "collapsed": false
   },
   "outputs": [],
   "source": [
    "df_unique_sqdg.to_csv('/global/homes/b/bpb/Downloads/dgts_potential_hits.csv')"
   ]
  },
  {
   "cell_type": "code",
   "execution_count": 17,
   "metadata": {
    "collapsed": true
   },
   "outputs": [],
   "source": [
    "from matplotlib import pyplot as plt\n",
    "%matplotlib inline"
   ]
  },
  {
   "cell_type": "code",
   "execution_count": 18,
   "metadata": {
    "collapsed": false
   },
   "outputs": [
    {
     "name": "stdout",
     "output_type": "stream",
     "text": [
      "[u'seaborn-darkgrid', u'seaborn-notebook', u'classic', u'seaborn-ticks', u'grayscale', u'bmh', u'seaborn-talk', u'dark_background', u'ggplot', u'fivethirtyeight', u'seaborn-colorblind', u'seaborn-deep', u'seaborn-whitegrid', u'seaborn-bright', u'seaborn-poster', u'seaborn-muted', u'seaborn-paper', u'seaborn-white', u'seaborn-pastel', u'seaborn-dark', u'seaborn-dark-palette']\n"
     ]
    }
   ],
   "source": [
    "print(plt.style.available)"
   ]
  },
  {
   "cell_type": "code",
   "execution_count": 19,
   "metadata": {
    "collapsed": false,
    "scrolled": false
   },
   "outputs": [],
   "source": [
    "for i in df_unique_sqdg.index:\n",
    "    s = df_unique_sqdg.loc[i,'spectrum']\n",
    "    mz = zip(*s)[0]\n",
    "    intensity = zip(*s)[1]\n",
    "    fig = plt.figure(figsize=(11,8.5))\n",
    "    plt.style.use('seaborn-ticks')\n",
    "    ax = plt.gca()\n",
    "    ax.vlines(mz,intensity*0,intensity)\n",
    "    ax.set_xlim(0,df_unique_sqdg.loc[i,'precursor_MZ']+5)\n",
    "    ax.set_xlabel('m/z')\n",
    "    ax.set_ylabel('intensity')\n",
    "    sx = np.argsort(intensity)[::-1]\n",
    "    labels = [1.001e9]\n",
    "    for i_mz in sx:\n",
    "        if np.min(np.abs(mz[i_mz] - labels)) > 0.1 and intensity[i_mz] > 0.02 * np.max(intensity):\n",
    "            ax.annotate('%5.4f'%mz[i_mz], xy=(mz[i_mz], 1.01*intensity[i_mz]),rotation = 90, horizontalalignment = 'center', verticalalignment = 'left')\n",
    "            labels.append(mz[i_mz])\n",
    "    plt.tight_layout()\n",
    "    L = plt.ylim()\n",
    "    plt.ylim(L[0],L[1]*1.12)\n",
    "    fig.savefig('/global/homes/b/bpb/Downloads/dgts_msms/msms_spectra_%d.png'%i)\n",
    "    plt.close(fig)\n"
   ]
  },
  {
   "cell_type": "code",
   "execution_count": null,
   "metadata": {
    "collapsed": true
   },
   "outputs": [],
   "source": []
  }
 ],
 "metadata": {
  "kernelspec": {
   "display_name": "Python 2",
   "language": "python",
   "name": "python2"
  },
  "language_info": {
   "codemirror_mode": {
    "name": "ipython",
    "version": 2
   },
   "file_extension": ".py",
   "mimetype": "text/x-python",
   "name": "python",
   "nbconvert_exporter": "python",
   "pygments_lexer": "ipython2",
   "version": "2.7.11"
  }
 },
 "nbformat": 4,
 "nbformat_minor": 0
}
