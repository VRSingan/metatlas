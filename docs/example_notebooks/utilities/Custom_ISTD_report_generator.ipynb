{
 "cells": [
  {
   "cell_type": "code",
   "execution_count": 1,
   "metadata": {
    "collapsed": false
   },
   "outputs": [],
   "source": [
    "import sys, os\n",
    "import glob as glob\n",
    "import pandas as pd\n",
    "\n",
    "from metatlas import integrity_monitor as monitor\n",
    "from metatlas import metatlas_objects as metob"
   ]
  },
  {
   "cell_type": "markdown",
   "metadata": {},
   "source": [
    "|                         |                    |             |          |          | \n",
    "|-------------------------|--------------------|-------------|----------|----------| \n",
    "| name                    | formula            | neutralmass | m+H      | M-H+     | \n",
    "| ABMBA-QC                | C8H8BrNO2          | 228.9738    | 229.9811 | 227.9666 | \n",
    "| ACA-QC                  | C15H10O2           | 222.0681    | 223.0754 | 221.0608 | \n",
    "| d5-benzoic acid         | C7HD5O2            | 127.0682    | 128.0754 | 126.0609 | \n",
    "| DMP                     | C5H6N2O2           | 126.0429    | 127.0502 | 125.0357 | \n",
    "| 13C-15N-L-phenylalanine | [!13C]9H11[!15N]O2 | 175.1062    | 176.1135 | 174.0989 | \n",
    "| d4 lysine               | C6H10D4N2O2        | 150.1306    | 151.1379 | 149.1234 | \n",
    "| DUBA                    | C10H12N2O3         | 208.0848    | 209.0921 | 207.0775 | \n"
   ]
  },
  {
   "cell_type": "code",
   "execution_count": 2,
   "metadata": {
    "collapsed": false
   },
   "outputs": [],
   "source": [
    "# %system python /global/homes/b/bpb/repos/metatlas/metatlas/integrity_monitor.py  \"/global/project/projectdirs/metatlas/raw_data/\""
   ]
  },
  {
   "cell_type": "code",
   "execution_count": 3,
   "metadata": {
    "collapsed": false
   },
   "outputs": [],
   "source": [
    "files = metob.retrieve('Lcmsruns',experiment='20170616_KBL_C18Lip_MW_Spore_FRedo',username='*')"
   ]
  },
  {
   "cell_type": "markdown",
   "metadata": {},
   "source": [
    "You have to provide the positive and negative istd m/z for this to run\n",
    "\n",
    "std is the positive m/z\n",
    "\n",
    "std_neg is the negative m/z"
   ]
  },
  {
   "cell_type": "code",
   "execution_count": 4,
   "metadata": {
    "collapsed": false
   },
   "outputs": [],
   "source": [
    "results = []\n",
    "for f in files:\n",
    "    r = monitor.data_verify(f,std_neg=120.151,std=550.6298)\n",
    "    results.append(r)\n"
   ]
  },
  {
   "cell_type": "code",
   "execution_count": 5,
   "metadata": {
    "collapsed": false
   },
   "outputs": [],
   "source": [
    "df = pd.DataFrame(results)"
   ]
  },
  {
   "cell_type": "code",
   "execution_count": 6,
   "metadata": {
    "collapsed": false,
    "scrolled": false
   },
   "outputs": [],
   "source": [
    "df.to_csv('/global/homes/b/bpb/Downloads/custom_istd_report.csv')"
   ]
  },
  {
   "cell_type": "code",
   "execution_count": null,
   "metadata": {
    "collapsed": true
   },
   "outputs": [],
   "source": []
  }
 ],
 "metadata": {
  "anaconda-cloud": {},
  "kernelspec": {
   "display_name": "MetAtlas 2.7",
   "language": "python",
   "name": "metatlas"
  },
  "language_info": {
   "codemirror_mode": {
    "name": "ipython",
    "version": 2
   },
   "file_extension": ".py",
   "mimetype": "text/x-python",
   "name": "python",
   "nbconvert_exporter": "python",
   "pygments_lexer": "ipython2",
   "version": "2.7.13"
  }
 },
 "nbformat": 4,
 "nbformat_minor": 0
}
