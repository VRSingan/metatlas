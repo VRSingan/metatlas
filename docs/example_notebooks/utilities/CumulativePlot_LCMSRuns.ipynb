{
 "cells": [
  {
   "cell_type": "code",
   "execution_count": 1,
   "metadata": {
    "collapsed": false
   },
   "outputs": [],
   "source": [
    "import sys, os\n",
    "sys.path.insert(1,'/global/project/projectdirs/metatlas/anaconda/lib/python2.7/site-packages' )\n",
    "from metatlas import metatlas_objects as metob\n",
    "f = metob.retrieve('Lcmsruns',username='*')\n"
   ]
  },
  {
   "cell_type": "code",
   "execution_count": 5,
   "metadata": {
    "collapsed": true
   },
   "outputs": [],
   "source": [
    "import pandas as pd\n",
    "df = metob.to_dataframe(f)"
   ]
  },
  {
   "cell_type": "code",
   "execution_count": 9,
   "metadata": {
    "collapsed": false
   },
   "outputs": [],
   "source": [
    "df.drop_duplicates(subset='mzml_file',inplace=True)\n",
    "df.to_csv('/global/homes/b/bpb/Downloads/metatlas_files.csv')"
   ]
  },
  {
   "cell_type": "code",
   "execution_count": 2,
   "metadata": {
    "collapsed": false
   },
   "outputs": [
    {
     "data": {
      "text/plain": [
       "datetime.datetime(2017, 6, 26, 12, 22, 42, 124458)"
      ]
     },
     "execution_count": 2,
     "metadata": {},
     "output_type": "execute_result"
    }
   ],
   "source": [
    "import datetime as dt\n",
    "dt.datetime.now()"
   ]
  },
  {
   "cell_type": "code",
   "execution_count": 3,
   "metadata": {
    "collapsed": false
   },
   "outputs": [
    {
     "data": {
      "text/plain": [
       "datetime.datetime(2015, 12, 26, 23, 22, 44, 520844)"
      ]
     },
     "execution_count": 3,
     "metadata": {},
     "output_type": "execute_result"
    }
   ],
   "source": [
    "import time\n",
    "t0 = time.time() - 1.5*365*24*60*60\n",
    "dt.datetime.fromtimestamp(t0)"
   ]
  },
  {
   "cell_type": "code",
   "execution_count": 4,
   "metadata": {
    "collapsed": true
   },
   "outputs": [],
   "source": [
    "time = []\n",
    "files = []\n",
    "for ff in f:\n",
    "    if ff.acquisition_time:\n",
    "        if ff.acquisition_time>0:\n",
    "            time.append(ff.acquisition_time)\n",
    "            files.append(1)\n",
    "        else:\n",
    "            time.append(t0)\n",
    "            files.append(1)\n",
    "    else:\n",
    "        time.append(t0)\n",
    "        files.append(1)\n",
    "time = sorted(time)"
   ]
  },
  {
   "cell_type": "code",
   "execution_count": null,
   "metadata": {
    "collapsed": false
   },
   "outputs": [],
   "source": [
    "from matplotlib import pyplot as plt\n",
    "import numpy as np\n",
    "%matplotlib inline\n",
    "plt.xkcd()\n",
    "from matplotlib.font_manager import FontProperties\n",
    "prop = FontProperties(fname='/global/homes/b/bpb/Downloads/Humor-Sans.ttf', size=16)\n",
    "\n",
    "fig = plt.figure(figsize = (12,4))\n",
    "ax = fig.add_subplot(1, 1, 1)\n",
    "\n",
    "import datetime as dt\n",
    "x = [dt.datetime.fromtimestamp(d) for d in time]\n",
    "\n",
    "plt.plot(x,np.cumsum(files))\n",
    "\n",
    "import matplotlib.dates as md\n",
    "\n",
    "xfmt = md.DateFormatter('%Y-%m-%d')\n",
    "ax.xaxis.set_major_formatter(xfmt)\n",
    "plt.yticks(fontproperties=prop)\n",
    "plt.ylabel('#files',fontproperties=prop)\n",
    "plt.xticks(rotation=70,fontproperties=prop)\n",
    "plt.title(\"Number of Files in Metabolite Atlas\",fontproperties=prop)\n",
    "datenow = dt.datetime.now()\n",
    "dstart = dt.datetime(datenow.year-1,datenow.month-2,datenow.day)\n",
    "# plt.xlim(dstart, datenow) \n",
    "# plt.ylim(40000,80000)\n",
    "plt.show()"
   ]
  },
  {
   "cell_type": "code",
   "execution_count": null,
   "metadata": {
    "collapsed": true
   },
   "outputs": [],
   "source": []
  }
 ],
 "metadata": {
  "anaconda-cloud": {},
  "kernelspec": {
   "display_name": "MetAtlas 2.7",
   "language": "python",
   "name": "metatlas"
  },
  "language_info": {
   "codemirror_mode": {
    "name": "ipython",
    "version": 2
   },
   "file_extension": ".py",
   "mimetype": "text/x-python",
   "name": "python",
   "nbconvert_exporter": "python",
   "pygments_lexer": "ipython2",
   "version": "2.7.13"
  }
 },
 "nbformat": 4,
 "nbformat_minor": 0
}
