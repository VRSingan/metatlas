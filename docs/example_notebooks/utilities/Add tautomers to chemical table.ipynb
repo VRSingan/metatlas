{
 "cells": [
  {
   "cell_type": "code",
   "execution_count": 2,
   "metadata": {
    "collapsed": false
   },
   "outputs": [],
   "source": [
    "import pandas as pd\n",
    "import sys\n",
    "sys.path.insert(0,'/global/project/projectdirs/metatlas/anaconda/lib/python2.7/site-packages' )\n",
    "from molvs.standardize import enumerate_tautomers_smiles\n",
    "from rdkit import Chem\n",
    "import multiprocessing as mp\n",
    "import time\n",
    "\n",
    "ref_df = pd.read_pickle('/project/projectdirs/openmsi/projects/ben_run_pactolus/unique_compounds.pkl')\n",
    "inchis = ref_df.head(100).inchi.tolist()\n",
    "\n",
    "def process_apply(x):\n",
    "    return enumerate_tautomers_smiles(Chem.MolToSmiles(Chem.MolFromInchi(str(x))))\n",
    "\n",
    "\n",
    "num_procs = 100\n",
    "p = mp.Pool(processes=num_procs)\n",
    "t0 = time.time()\n",
    "\n",
    "pool_results = p.map(process_apply, inchis)\n",
    "print time.time() - t0\n",
    "p.close()\n",
    "p.terminate()\n",
    "df = pd.DataFrame(pd.Series(pool_results),columns = ['tautomers'])\n",
    "df.to_pickle('/project/projectdirs/openmsi/projects/chemical_networks/tautomers.pkl')\n",
    "print time.time() - t0\n",
    "\n",
    "    "
   ]
  },
  {
   "cell_type": "code",
   "execution_count": 8,
   "metadata": {
    "collapsed": false
   },
   "outputs": [
    {
     "data": {
      "text/html": [
       "<div>\n",
       "<table border=\"1\" class=\"dataframe\">\n",
       "  <thead>\n",
       "    <tr style=\"text-align: right;\">\n",
       "      <th></th>\n",
       "      <th>tautomers</th>\n",
       "    </tr>\n",
       "  </thead>\n",
       "  <tbody>\n",
       "    <tr>\n",
       "      <th>0</th>\n",
       "      <td>{C=C(C)C(CC)CCC(C)C1CCC2(C)C3=C(CCC12C)C1(C)CC...</td>\n",
       "    </tr>\n",
       "    <tr>\n",
       "      <th>1</th>\n",
       "      <td>{CC1=C2Oc3c(C)ccc(=C(O)N=C4C(O)NC(C(C)C)C(=O)N...</td>\n",
       "    </tr>\n",
       "    <tr>\n",
       "      <th>2</th>\n",
       "      <td>{CC(C)=CCCC(C)C1CC(O)C2(C=O)C3=C(CCC12C)C1(C)C...</td>\n",
       "    </tr>\n",
       "    <tr>\n",
       "      <th>3</th>\n",
       "      <td>{O=C(C=C(O)C(O)C(O)=C(O)CO)C(O)O, O=C(CO)C(=O)...</td>\n",
       "    </tr>\n",
       "    <tr>\n",
       "      <th>4</th>\n",
       "      <td>{CC(CCCC(C)C1CCC2C3CC=C4CC(=O)CCC4(C)C3CCC12C)...</td>\n",
       "    </tr>\n",
       "    <tr>\n",
       "      <th>5</th>\n",
       "      <td>{CC(C)CCCC(C)C1CCC2C3=CCC4C(C)(C=O)C(O)CCC4(C)...</td>\n",
       "    </tr>\n",
       "    <tr>\n",
       "      <th>6</th>\n",
       "      <td>{CC(CCC1OC(n2cnc3c(=N)nc[nH]c32)C(O)C1O)C1CCC2...</td>\n",
       "    </tr>\n",
       "    <tr>\n",
       "      <th>7</th>\n",
       "      <td>{CCCCCCCCCCCC(=O)OCC(COP(=O)(O)OCC[N+](C)(C)C)...</td>\n",
       "    </tr>\n",
       "    <tr>\n",
       "      <th>8</th>\n",
       "      <td>{COC1C(O)C(COP(=O)(O)O[PH](=O)(=O)O[PH](=O)(=O...</td>\n",
       "    </tr>\n",
       "    <tr>\n",
       "      <th>9</th>\n",
       "      <td>{COC(=O)CCC(=O)NCC(=NC(O)=C(N)CCCCN)C(=O)O, CO...</td>\n",
       "    </tr>\n",
       "    <tr>\n",
       "      <th>10</th>\n",
       "      <td>{CC(=O)NC(=CCP(O)O)C(N)O, CC(O)=NC(CCP(O)O)=C(...</td>\n",
       "    </tr>\n",
       "    <tr>\n",
       "      <th>11</th>\n",
       "      <td>{C=C(CCC(C)C1CCC2(C)C3CCC4C(C)C(O)CCC45CC35CCC...</td>\n",
       "    </tr>\n",
       "    <tr>\n",
       "      <th>12</th>\n",
       "      <td>{NC(CCC(O)=NC(=CSS(=O)(=O)O)C(=O)NCC(O)O)=C(O)...</td>\n",
       "    </tr>\n",
       "    <tr>\n",
       "      <th>13</th>\n",
       "      <td>{CCC(C=CC(C)C1CCC2C3CC=C4CC(OC5OC(CO)C(O)C(O)C...</td>\n",
       "    </tr>\n",
       "    <tr>\n",
       "      <th>14</th>\n",
       "      <td>{CCCCCCC1CC1CCCCCCCC(=O)N(CCO[PH](=O)(=O)OCC(O...</td>\n",
       "    </tr>\n",
       "    <tr>\n",
       "      <th>15</th>\n",
       "      <td>{CC=C(C)CCC=C(C)CCC=C(C)CCC=C(C)CCC=C(C)CCC=C(...</td>\n",
       "    </tr>\n",
       "    <tr>\n",
       "      <th>16</th>\n",
       "      <td>{CC(C)C(C)C(O)C(O)C(C)C1CCC2C3CC(O)=C4CC(O)CCC...</td>\n",
       "    </tr>\n",
       "    <tr>\n",
       "      <th>17</th>\n",
       "      <td>{O=C(O)C(=O)CC=CC=C(O)O, O=C(O)C=CCCC(=O)C(=O)...</td>\n",
       "    </tr>\n",
       "    <tr>\n",
       "      <th>18</th>\n",
       "      <td>{O=C(O)C(=O)C=CC1C(=O)C=C(O)N=C1C(=O)O, O=C1C=...</td>\n",
       "    </tr>\n",
       "    <tr>\n",
       "      <th>19</th>\n",
       "      <td>{CC(C)CCCC(C)C1CCC2C3CC=C4CC(OC5OC(CO)C(O)C(O)...</td>\n",
       "    </tr>\n",
       "  </tbody>\n",
       "</table>\n",
       "</div>"
      ],
      "text/plain": [
       "                                            tautomers\n",
       "0   {C=C(C)C(CC)CCC(C)C1CCC2(C)C3=C(CCC12C)C1(C)CC...\n",
       "1   {CC1=C2Oc3c(C)ccc(=C(O)N=C4C(O)NC(C(C)C)C(=O)N...\n",
       "2   {CC(C)=CCCC(C)C1CC(O)C2(C=O)C3=C(CCC12C)C1(C)C...\n",
       "3   {O=C(C=C(O)C(O)C(O)=C(O)CO)C(O)O, O=C(CO)C(=O)...\n",
       "4   {CC(CCCC(C)C1CCC2C3CC=C4CC(=O)CCC4(C)C3CCC12C)...\n",
       "5   {CC(C)CCCC(C)C1CCC2C3=CCC4C(C)(C=O)C(O)CCC4(C)...\n",
       "6   {CC(CCC1OC(n2cnc3c(=N)nc[nH]c32)C(O)C1O)C1CCC2...\n",
       "7   {CCCCCCCCCCCC(=O)OCC(COP(=O)(O)OCC[N+](C)(C)C)...\n",
       "8   {COC1C(O)C(COP(=O)(O)O[PH](=O)(=O)O[PH](=O)(=O...\n",
       "9   {COC(=O)CCC(=O)NCC(=NC(O)=C(N)CCCCN)C(=O)O, CO...\n",
       "10  {CC(=O)NC(=CCP(O)O)C(N)O, CC(O)=NC(CCP(O)O)=C(...\n",
       "11  {C=C(CCC(C)C1CCC2(C)C3CCC4C(C)C(O)CCC45CC35CCC...\n",
       "12  {NC(CCC(O)=NC(=CSS(=O)(=O)O)C(=O)NCC(O)O)=C(O)...\n",
       "13  {CCC(C=CC(C)C1CCC2C3CC=C4CC(OC5OC(CO)C(O)C(O)C...\n",
       "14  {CCCCCCC1CC1CCCCCCCC(=O)N(CCO[PH](=O)(=O)OCC(O...\n",
       "15  {CC=C(C)CCC=C(C)CCC=C(C)CCC=C(C)CCC=C(C)CCC=C(...\n",
       "16  {CC(C)C(C)C(O)C(O)C(C)C1CCC2C3CC(O)=C4CC(O)CCC...\n",
       "17  {O=C(O)C(=O)CC=CC=C(O)O, O=C(O)C=CCCC(=O)C(=O)...\n",
       "18  {O=C(O)C(=O)C=CC1C(=O)C=C(O)N=C1C(=O)O, O=C1C=...\n",
       "19  {CC(C)CCCC(C)C1CCC2C3CC=C4CC(OC5OC(CO)C(O)C(O)..."
      ]
     },
     "execution_count": 8,
     "metadata": {},
     "output_type": "execute_result"
    }
   ],
   "source": [
    "df"
   ]
  },
  {
   "cell_type": "code",
   "execution_count": null,
   "metadata": {
    "collapsed": false
   },
   "outputs": [],
   "source": [
    "import pandas as pd\n",
    "import sys\n",
    "sys.path.insert(0,'/global/project/projectdirs/metatlas/anaconda/lib/python2.7/site-packages' )\n",
    "from molvs.standardize import enumerate_tautomers_smiles\n",
    "from rdkit import Chem\n",
    "\n",
    "ref_df = pd.read_pickle('/project/projectdirs/openmsi/projects/ben_run_pactolus/unique_compounds.pkl')\n",
    "\n",
    "\n",
    "import multiprocessing as mp\n",
    "\n",
    "def process_apply(x):\n",
    "    return enumerate_tautomers_smiles(Chem.MolToSmiles(Chem.MolFromInchi(str(x))))\n",
    "\n",
    "def process(df):\n",
    "    res = df.apply(process_apply)\n",
    "    return res\n",
    "\n",
    "import time\n",
    "\n",
    "t0 = time.time()\n",
    "num_procs = 272\n",
    "p = mp.Pool(processes=num_procs)\n",
    "split_dfs = np.array_split(ref_df.head(1000).inchi,num_procs)\n",
    "pool_results = p.map(process, split_dfs)\n",
    "p.close()\n",
    "p.join()\n",
    "\n",
    "# merging parts processed by different processes\n",
    "parts = pd.concat(pool_results, axis=0)\n",
    "parts.to_pickle('/project/projectdirs/openmsi/projects/chemical_networks/tautomers.pkl')\n",
    "print time.time() - t0\n",
    "# # merging newly calculated parts to big_df\n",
    "# big_df = pd.concat([big_df, parts], axis=1)\n",
    "\n",
    "# # checking if the dfs were merged correctly\n",
    "# pdt.assert_series_equal(parts['id'], big_df['id'])\n",
    "    "
   ]
  },
  {
   "cell_type": "code",
   "execution_count": null,
   "metadata": {
    "collapsed": false
   },
   "outputs": [],
   "source": [
    "# tautomers = ref_df.head(100).inchi.apply(lambda x: enumerate_tautomers_smiles(Chem.MolToSmiles(Chem.MolFromInchi(str(x)))))\n",
    "# smiles = rdkit_mols.apply(lambda x: (x,isomericSmiles=True))\n",
    "# tautomers = smiles.apply(enumerate_tautomers_smiles)\n",
    "# tautomers.to_pickle('/project/projectdirs/openmsi/projects/chemical_networks/tautomer_pandas_series.pkl')"
   ]
  },
  {
   "cell_type": "code",
   "execution_count": null,
   "metadata": {
    "collapsed": false
   },
   "outputs": [],
   "source": [
    "pool.close()\n",
    "pool.terminate()"
   ]
  },
  {
   "cell_type": "code",
   "execution_count": null,
   "metadata": {
    "collapsed": false
   },
   "outputs": [],
   "source": [
    "len(np.array_split(ref_df.head(120).inchi,12))"
   ]
  },
  {
   "cell_type": "code",
   "execution_count": null,
   "metadata": {
    "collapsed": true
   },
   "outputs": [],
   "source": [
    "p.close()\n",
    "p.terminate()"
   ]
  },
  {
   "cell_type": "code",
   "execution_count": null,
   "metadata": {
    "collapsed": true
   },
   "outputs": [],
   "source": [
    "d = [(20,26.8),(10,29.2)]"
   ]
  },
  {
   "cell_type": "markdown",
   "metadata": {},
   "source": [
    "down vote\n",
    "accepted\n",
    "You can parallelize this with Dask.dataframe. This will work almost the same except that you can't use column assignment and will instead need to use the assign method\n",
    "```\n",
    ">>> dmaster = dd.from_pandas(master, npartitions=4)\n",
    ">>> dmaster = dmaster.assign(my_value=dmaster.original.apply(lambda x: helper(x, slave), name='my_value'))\n",
    ">>> dmaster.compute()\n",
    "```\n",
    "original  my_value\n",
    "\n",
    "0  this is a nice sentence         2\n",
    "\n",
    "1      this is another one         3\n",
    "\n",
    "2    stackoverflow is nice         1\n",
    "\n",
    "\n",
    "Additionally, you should think about the tradeoffs between using threads vs processes here. Your fuzzy string matching almost certainly doesn't release the GIL, so you won't get any benefit from using multiple threads. However, using processes will cause data to serialize and move around your machine, which might slow things down a bit.\n",
    "\n",
    "You can experiment between using threads and processes or a distributed system by managing the  get= keyword argument to the compute() method.\n",
    "```\n",
    "import dask.multiprocessing\n",
    "import dask.threaded\n",
    "\n",
    ">>> dmaster.compute(get=dask.threaded.get)  # this is default for dask.dataframe\n",
    ">>> dmaster.compute(get=dask.multiprocessing.get)  # try processes instead\n",
    "```"
   ]
  },
  {
   "cell_type": "code",
   "execution_count": null,
   "metadata": {
    "collapsed": true
   },
   "outputs": [],
   "source": []
  },
  {
   "cell_type": "code",
   "execution_count": null,
   "metadata": {
    "collapsed": false
   },
   "outputs": [],
   "source": [
    "dmaster"
   ]
  },
  {
   "cell_type": "code",
   "execution_count": null,
   "metadata": {
    "collapsed": false
   },
   "outputs": [],
   "source": [
    "%%time\n",
    "import dask.dataframe as dd\n",
    "import dask.multiprocessing\n",
    "import dask.threaded\n",
    "dmaster = dd.from_pandas(ref_df.head(120), npartitions=20)\n",
    "dmaster = dmaster.assign(my_value=dmaster.inchi.apply(lambda x: enumerate_tautomers_smiles(Chem.MolToSmiles(Chem.MolFromInchi(str(x))))), name='my_value')\n",
    "out_df = dmaster.compute(get=dask.threaded.get)"
   ]
  },
  {
   "cell_type": "code",
   "execution_count": null,
   "metadata": {
    "collapsed": false,
    "scrolled": false
   },
   "outputs": [],
   "source": [
    "\n",
    "\n",
    "mols = []\n",
    "fmt = '%(asctime)s - %(levelname)s - %(validation)s - %(message)s'\n",
    "validator = Validator(log_format=fmt)\n",
    "\n",
    "from molvs import Standardizer\n",
    "s = Standardizer()\n",
    "\n",
    "smols = []\n",
    "for m in enumerate_tautomers_smiles('C[C@H]1CCC[C@@]2([C@@]1(CCCC2)O)C'):\n",
    "    mol = Chem.MolFromSmiles(m)\n",
    "    mols.append(mol)\n",
    "    validator.validate(mol)\n",
    "    smols.append(s.tautomer_parent(mol))\n",
    "\n"
   ]
  },
  {
   "cell_type": "code",
   "execution_count": null,
   "metadata": {
    "collapsed": false
   },
   "outputs": [],
   "source": [
    "MolsToGridImage(mols, molsPerRow=4, subImgSize=(300, 200), legends=None, highlightAtomLists=None, useSVG=False)#, **kwargs)"
   ]
  }
 ],
 "metadata": {
  "anaconda-cloud": {},
  "kernelspec": {
   "display_name": "Python 2",
   "language": "python",
   "name": "python2"
  },
  "language_info": {
   "codemirror_mode": {
    "name": "ipython",
    "version": 2
   },
   "file_extension": ".py",
   "mimetype": "text/x-python",
   "name": "python",
   "nbconvert_exporter": "python",
   "pygments_lexer": "ipython2",
   "version": "2.7.13"
  }
 },
 "nbformat": 4,
 "nbformat_minor": 0
}
