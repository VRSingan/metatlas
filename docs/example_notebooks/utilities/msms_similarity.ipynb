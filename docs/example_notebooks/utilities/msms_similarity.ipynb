{
 "cells": [
  {
   "cell_type": "code",
   "execution_count": 1,
   "metadata": {},
   "outputs": [
    {
     "name": "stderr",
     "output_type": "stream",
     "text": [
      "/global/common/software/m2650/python-cori/lib/python2.7/site-packages/plotly/tools.py:103: UserWarning:\n",
      "\n",
      "Looks like you don't have 'read-write' permission to your 'home' ('~') directory or to our '~/.plotly' directory. That means plotly's python api can't setup local configuration files. No problem though! You'll just have to sign-in using 'plotly.plotly.sign_in()'. For help with that: 'help(plotly.plotly.sign_in)'.\n",
      "Questions? Visit https://support.plot.ly\n",
      "\n"
     ]
    }
   ],
   "source": [
    "import sys\n",
    "sys.path.insert(1,'/global/homes/d/dgct/Repos/metatlas/')\n",
    "\n",
    "from metatlas.helpers import spectralprocessing as sp\n",
    "from metatlas.helpers import mzml_loader as mzl\n",
    "import numpy as np\n",
    "import pandas as pd"
   ]
  },
  {
   "cell_type": "code",
   "execution_count": 2,
   "metadata": {},
   "outputs": [],
   "source": [
    "filename = '/project/projectdirs/metatlas/raw_data/akuftin/20170718_KBL_SD_HO_C18_DiPep_Coculture/20170718_KBL_SD-HO_ActinoMet_CoCulture_Frcts_QE139-UV_C18_102_POS-MSMS_S_melano_S_spinosa_72-2_____102040eV_135to2000_S1_Run256.mzML'\n",
    "mzml_df = mzl.mzml_to_df(filename)['ms2_pos']\n",
    "\n",
    "mzml_rt_group = mzml_df.groupby('rt')\n",
    "\n",
    "data_df = mzml_df[['rt', 'polarity', 'precursor_mz', 'precursor_intensity', 'collision_energy']].drop_duplicates()\n",
    "\n",
    "data_df['spectrum'] = map(lambda s: np.array(list(s)), zip(mzml_rt_group['mz'].apply(list),\n",
    "                                                           mzml_rt_group['i'].apply(list)))\n",
    "\n",
    "data_df.set_index(['rt'], inplace=True)"
   ]
  },
  {
   "cell_type": "code",
   "execution_count": 3,
   "metadata": {},
   "outputs": [
    {
     "data": {
      "text/plain": [
       "0.633710443614754"
      ]
     },
     "execution_count": 3,
     "metadata": {},
     "output_type": "execute_result"
    }
   ],
   "source": [
    "s1 = data_df.spectrum.iloc[0]\n",
    "s2 = data_df.spectrum.iloc[2]\n",
    "\n",
    "s1_aligned, s2_aligned = sp.pairwise_align_ms_vectors(s1, s2, 0.005,'intensity') \n",
    "score = sp.score_ms_vectors_composite(s1_aligned, s2_aligned)\n",
    "\n",
    "score"
   ]
  }
 ],
 "metadata": {
  "kernelspec": {
   "display_name": "mass spec cori",
   "language": "python",
   "name": "mass_spec_cori"
  },
  "language_info": {
   "codemirror_mode": {
    "name": "ipython",
    "version": 2
   },
   "file_extension": ".py",
   "mimetype": "text/x-python",
   "name": "python",
   "nbconvert_exporter": "python",
   "pygments_lexer": "ipython2",
   "version": "2.7.14"
  }
 },
 "nbformat": 4,
 "nbformat_minor": 2
}
