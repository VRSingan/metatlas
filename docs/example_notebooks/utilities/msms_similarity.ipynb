{
 "cells": [
  {
   "cell_type": "code",
   "execution_count": 1,
   "metadata": {},
   "outputs": [
    {
     "name": "stdout",
     "output_type": "stream",
     "text": [
      "2019-07-08 10:49:53: importing\n",
      "2019-07-08 10:49:55: importing\n"
     ]
    },
    {
     "name": "stderr",
     "output_type": "stream",
     "text": [
      "/global/common/software/m2650/python-cori/lib/python2.7/site-packages/plotly/tools.py:103: UserWarning:\n",
      "\n",
      "Looks like you don't have 'read-write' permission to your 'home' ('~') directory or to our '~/.plotly' directory. That means plotly's python api can't setup local configuration files. No problem though! You'll just have to sign-in using 'plotly.plotly.sign_in()'. For help with that: 'help(plotly.plotly.sign_in)'.\n",
      "Questions? Visit https://support.plot.ly\n",
      "\n",
      "/global/common/software/m2650/python-cori/lib/python2.7/site-packages/h5py/__init__.py:34: FutureWarning:\n",
      "\n",
      "Conversion of the second argument of issubdtype from `float` to `np.floating` is deprecated. In future, it will be treated as `np.float64 == np.dtype(float).type`.\n",
      "\n"
     ]
    }
   ],
   "source": [
    "from datetime import datetime\n",
    "def t_str():\n",
    "    return datetime.now().strftime('%Y-%m-%d %H:%M:%S')\n",
    "print('%s: importing'%t_str())\n",
    "import sys\n",
    "import argparse\n",
    "sys.path.insert(0,'/global/homes/b/bpb/repos/pactolus/')\n",
    "sys.path.insert(1,'/global/homes/b/bpb/repos/metatlas/')\n",
    "\n",
    "from metatlas.helpers import spectralprocessing as sp\n",
    "from pactolus import score_mzmlfile as pactolus\n",
    "import numpy as np\n",
    "import multiprocessing as mp\n",
    "from functools import partial\n"
   ]
  },
  {
   "cell_type": "code",
   "execution_count": 2,
   "metadata": {},
   "outputs": [
    {
     "data": {
      "text/plain": [
       "(2546, 6)"
      ]
     },
     "execution_count": 2,
     "metadata": {},
     "output_type": "execute_result"
    }
   ],
   "source": [
    "filename = '/project/projectdirs/metatlas/raw_data/akuftin/20170718_KBL_SD_HO_C18_DiPep_Coculture/20170718_KBL_SD-HO_ActinoMet_CoCulture_Frcts_QE139-UV_C18_102_POS-MSMS_S_melano_S_spinosa_72-2_____102040eV_135to2000_S1_Run256.mzML'\n",
    "spectra = pactolus.get_spectra_from_file(filename)\n",
    "spectra.shape"
   ]
  },
  {
   "cell_type": "code",
   "execution_count": 3,
   "metadata": {},
   "outputs": [
    {
     "data": {
      "text/html": [
       "<div>\n",
       "<style scoped>\n",
       "    .dataframe tbody tr th:only-of-type {\n",
       "        vertical-align: middle;\n",
       "    }\n",
       "\n",
       "    .dataframe tbody tr th {\n",
       "        vertical-align: top;\n",
       "    }\n",
       "\n",
       "    .dataframe thead th {\n",
       "        text-align: right;\n",
       "    }\n",
       "</style>\n",
       "<table border=\"1\" class=\"dataframe\">\n",
       "  <thead>\n",
       "    <tr style=\"text-align: right;\">\n",
       "      <th></th>\n",
       "      <th>precursor_mz</th>\n",
       "      <th>rt</th>\n",
       "      <th>precursor_intensity</th>\n",
       "      <th>collision_energy</th>\n",
       "      <th>polarity</th>\n",
       "      <th>spectrum</th>\n",
       "    </tr>\n",
       "  </thead>\n",
       "  <tbody>\n",
       "    <tr>\n",
       "      <th>0</th>\n",
       "      <td>135.080121</td>\n",
       "      <td>5.532502</td>\n",
       "      <td>1.069338e+07</td>\n",
       "      <td>23.33</td>\n",
       "      <td>(positive, positive, positive, positive, posit...</td>\n",
       "      <td>[(53.0394668579, 38976.3359375), (55.018844604...</td>\n",
       "    </tr>\n",
       "    <tr>\n",
       "      <th>1</th>\n",
       "      <td>135.945214</td>\n",
       "      <td>1.453635</td>\n",
       "      <td>7.523067e+05</td>\n",
       "      <td>23.33</td>\n",
       "      <td>(positive, positive, positive, positive, posit...</td>\n",
       "      <td>[(53.23229599, 1652.94689941), (53.5906982422,...</td>\n",
       "    </tr>\n",
       "    <tr>\n",
       "      <th>2</th>\n",
       "      <td>135.945228</td>\n",
       "      <td>1.630139</td>\n",
       "      <td>7.614078e+05</td>\n",
       "      <td>23.33</td>\n",
       "      <td>(positive, positive, positive, positive, posit...</td>\n",
       "      <td>[(55.9353294373, 738133.0625), (55.9462852478,...</td>\n",
       "    </tr>\n",
       "    <tr>\n",
       "      <th>3</th>\n",
       "      <td>135.945228</td>\n",
       "      <td>1.277085</td>\n",
       "      <td>7.943318e+05</td>\n",
       "      <td>23.33</td>\n",
       "      <td>(positive, positive, positive, positive, posit...</td>\n",
       "      <td>[(50.0664482117, 1524.71191406), (52.873001098...</td>\n",
       "    </tr>\n",
       "    <tr>\n",
       "      <th>4</th>\n",
       "      <td>135.945236</td>\n",
       "      <td>0.751039</td>\n",
       "      <td>6.448073e+05</td>\n",
       "      <td>23.33</td>\n",
       "      <td>(positive, positive, positive, positive, posit...</td>\n",
       "      <td>[(50.6230430603, 1460.18969727), (55.693450927...</td>\n",
       "    </tr>\n",
       "  </tbody>\n",
       "</table>\n",
       "</div>"
      ],
      "text/plain": [
       "   precursor_mz        rt  precursor_intensity  collision_energy  \\\n",
       "0    135.080121  5.532502         1.069338e+07             23.33   \n",
       "1    135.945214  1.453635         7.523067e+05             23.33   \n",
       "2    135.945228  1.630139         7.614078e+05             23.33   \n",
       "3    135.945228  1.277085         7.943318e+05             23.33   \n",
       "4    135.945236  0.751039         6.448073e+05             23.33   \n",
       "\n",
       "                                            polarity  \\\n",
       "0  (positive, positive, positive, positive, posit...   \n",
       "1  (positive, positive, positive, positive, posit...   \n",
       "2  (positive, positive, positive, positive, posit...   \n",
       "3  (positive, positive, positive, positive, posit...   \n",
       "4  (positive, positive, positive, positive, posit...   \n",
       "\n",
       "                                            spectrum  \n",
       "0  [(53.0394668579, 38976.3359375), (55.018844604...  \n",
       "1  [(53.23229599, 1652.94689941), (53.5906982422,...  \n",
       "2  [(55.9353294373, 738133.0625), (55.9462852478,...  \n",
       "3  [(50.0664482117, 1524.71191406), (52.873001098...  \n",
       "4  [(50.6230430603, 1460.18969727), (55.693450927...  "
      ]
     },
     "execution_count": 3,
     "metadata": {},
     "output_type": "execute_result"
    }
   ],
   "source": [
    "spectra.head()"
   ]
  },
  {
   "cell_type": "code",
   "execution_count": 13,
   "metadata": {},
   "outputs": [
    {
     "data": {
      "text/plain": [
       "0.10711946411855398"
      ]
     },
     "execution_count": 13,
     "metadata": {},
     "output_type": "execute_result"
    }
   ],
   "source": [
    "def make_spectral_datatype_from_tuple_list(tuple_list):\n",
    "    mz = np.asarray([t[0] for t in tuple_list])\n",
    "    intensity = np.asarray([t[1] for t in tuple_list])\n",
    "    return np.array([mz ,intensity])\n",
    "\n",
    "\n",
    "s1 = make_spectral_datatype_from_tuple_list(spectra.loc[0,'spectrum'])\n",
    "s2 = make_spectral_datatype_from_tuple_list(spectra.loc[1,'spectrum'])\n",
    "sample_aligned, ref_aligned = sp.pairwise_align_ms_vectors(s1,s2,0.005,'intensity') \n",
    "score = sp.score_ms_vectors_composite(sample_aligned, ref_aligned)\n",
    "\n",
    "score\n"
   ]
  },
  {
   "cell_type": "code",
   "execution_count": null,
   "metadata": {},
   "outputs": [],
   "source": []
  }
 ],
 "metadata": {
  "kernelspec": {
   "display_name": "mass spec cori",
   "language": "python",
   "name": "mass_spec_cori"
  },
  "language_info": {
   "codemirror_mode": {
    "name": "ipython",
    "version": 2
   },
   "file_extension": ".py",
   "mimetype": "text/x-python",
   "name": "python",
   "nbconvert_exporter": "python",
   "pygments_lexer": "ipython2",
   "version": "2.7.14"
  }
 },
 "nbformat": 4,
 "nbformat_minor": 2
}
