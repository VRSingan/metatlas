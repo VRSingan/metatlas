{
 "cells": [
  {
   "cell_type": "code",
   "execution_count": null,
   "metadata": {
    "collapsed": false
   },
   "outputs": [],
   "source": [
    "import sys\n",
    "sys.path.insert(0,'/global/project/projectdirs/metatlas/anaconda/lib/python2.7/site-packages' )\n",
    "from metatlas import metatlas_objects as metob\n",
    "from metatlas import h5_query as h5q\n",
    "import numpy as np\n",
    "import os\n",
    "import tables\n",
    "\n"
   ]
  },
  {
   "cell_type": "code",
   "execution_count": null,
   "metadata": {
    "collapsed": true
   },
   "outputs": [],
   "source": [
    "files = metob.retrieve('Lcmsruns',name = '%MSMS%',username='*')\n",
    "unique_files = {}\n",
    "for f in files:\n",
    "    unique_files[f.name] = f\n",
    "print len(files), len(unique_files)"
   ]
  },
  {
   "cell_type": "code",
   "execution_count": null,
   "metadata": {
    "collapsed": false
   },
   "outputs": [],
   "source": [
    "%system mkdir /project/projectdirs/metatlas/projects/metatlas_destiny/new_numpyfiles/"
   ]
  },
  {
   "cell_type": "code",
   "execution_count": null,
   "metadata": {
    "collapsed": false
   },
   "outputs": [],
   "source": [
    "ngood = 0\n",
    "for i,(n, f) in enumerate(unique_files.items()):\n",
    "    if not os.path.exists(f.hdf5_file):\n",
    "        continue\n",
    "    ngood += 1\n",
    "    with tables.open_file(f.hdf5_file,'r') as fid:\n",
    "        file_info = h5q.get_info(fid)\n",
    "        for j,(file_layer,param) in enumerate(params.items()):\n",
    "            if file_info[file_layer]['nrows'] > 0:\n",
    "                data = h5q.get_data(fid,**param)\n",
    "                np.save('/project/projectdirs/metatlas/projects/metatlas_destiny/new_numpyfiles/%s_%s.%s'%(file_layer,os.path.basename(f.name).split('.')[0],'npy'),data)\n",
    "                print os.path.basename(f.name).split('.')[0]\n",
    "                print i, data.shape\n",
    "                print \"\"\n",
    "#         except RuntimeError as exc:\n",
    "#             pass\n",
    "\n",
    "print \"all done\"\n",
    "print ngood"
   ]
  }
 ],
 "metadata": {
  "kernelspec": {
   "display_name": "Python 2",
   "language": "python",
   "name": "python2"
  },
  "language_info": {
   "codemirror_mode": {
    "name": "ipython",
    "version": 2
   },
   "file_extension": ".py",
   "mimetype": "text/x-python",
   "name": "python",
   "nbconvert_exporter": "python",
   "pygments_lexer": "ipython2",
   "version": "2.7.11"
  }
 },
 "nbformat": 4,
 "nbformat_minor": 0
}
