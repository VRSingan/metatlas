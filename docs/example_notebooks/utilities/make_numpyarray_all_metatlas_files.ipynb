{
 "cells": [
  {
   "cell_type": "code",
   "execution_count": null,
   "metadata": {
    "collapsed": false
   },
   "outputs": [],
   "source": [
    "import sys\n",
    "sys.path.insert(0,'/global/project/projectdirs/metatlas/anaconda/lib/python2.7/site-packages' )\n",
    "from metatlas import metatlas_objects as metob\n",
    "from metatlas import h5_query as h5q\n",
    "import numpy as np\n",
    "import os\n",
    "import tables\n",
    "\n"
   ]
  },
  {
   "cell_type": "code",
   "execution_count": null,
   "metadata": {
    "collapsed": true
   },
   "outputs": [],
   "source": [
    "files = metob.retrieve('Lcmsruns',name = '%MSMS%',username='*')\n",
    "unique_files = {}\n",
    "for f in files:\n",
    "    unique_files[f.name] = f\n",
    "print len(files), len(unique_files)"
   ]
  },
  {
   "cell_type": "code",
   "execution_count": null,
   "metadata": {
    "collapsed": false
   },
   "outputs": [],
   "source": [
    "%system mkdir /project/projectdirs/metatlas/projects/metatlas_destiny/new_numpyfiles/"
   ]
  },
  {
   "cell_type": "code",
   "execution_count": null,
   "metadata": {
    "collapsed": false
   },
   "outputs": [],
   "source": [
    "ngood = 0\n",
    "for i,(n, f) in enumerate(unique_files.items()):\n",
    "    if not os.path.exists(f.hdf5_file):\n",
    "        continue\n",
    "    ngood += 1\n",
    "    with tables.open_file(f.hdf5_file,'r') as fid:\n",
    "        file_info = h5q.get_info(fid)\n",
    "        for j,(file_layer,param) in enumerate(params.items()):\n",
    "            if file_info[file_layer]['nrows'] > 0:\n",
    "                data = h5q.get_data(fid,**param)\n",
    "                np.save('/project/projectdirs/metatlas/projects/metatlas_destiny/new_numpyfiles/%s_%s.%s'%(file_layer,os.path.basename(f.name).split('.')[0],'npy'),data)\n",
    "                print os.path.basename(f.name).split('.')[0]\n",
    "                print i, data.shape\n",
    "                print \"\"\n",
    "#         except RuntimeError as exc:\n",
    "#             pass\n",
    "\n",
    "print \"all done\"\n",
    "print ngood"
   ]
  },
  {
   "cell_type": "code",
   "execution_count": null,
   "metadata": {
    "collapsed": true
   },
   "outputs": [],
   "source": [
    "# def make_2d_image(np_struct,x_edges,y_edges):\n",
    "#     x = np_struct['mz']\n",
    "#     y = np_struct['rt']\n",
    "#     z = np_struct['i']\n",
    "#     hist2d = np.histogram2d(x,y,bins = [x_edges,y_edges], weights = z)\n",
    "#     return hist2d[0]\n",
    "\n",
    "# mz_edges = np.linspace(0,1000,num = 93)\n",
    "# rt_edges = np.linspace(0,60,num = 109)\n",
    "\n",
    "# raw_data = np.zeros((len(files),len(mz_edges)-1,len(rt_edges)-1))\n",
    "# for i,f in enumerate(files):\n",
    "#     f_np = np.load(f)\n",
    "#     raw_data[i,:,:] = make_2d_image(f_np,mz_edges,rt_edges)\n",
    "# np.save('/project/projectdirs/metatlas/projects/metatlas_destiny/ms2_pos_100x100.npy',raw_data)\n"
   ]
  }
 ],
 "metadata": {
  "kernelspec": {
   "display_name": "Python 2",
   "language": "python",
   "name": "python2"
  },
  "language_info": {
   "codemirror_mode": {
    "name": "ipython",
    "version": 2
   },
   "file_extension": ".py",
   "mimetype": "text/x-python",
   "name": "python",
   "nbconvert_exporter": "python",
   "pygments_lexer": "ipython2",
   "version": "2.7.13"
  }
 },
 "nbformat": 4,
 "nbformat_minor": 0
}
