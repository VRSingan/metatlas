{
 "cells": [
  {
   "cell_type": "code",
   "execution_count": null,
   "metadata": {
    "collapsed": false
   },
   "outputs": [],
   "source": [
    "\n",
    "import sys\n",
    "sys.path.insert(0,'/global/project/projectdirs/metatlas/anaconda/lib/python2.7/site-packages' )\n",
    "from metatlas import metatlas_objects as metob\n",
    "import qgrid\n",
    "%matplotlib notebook\n",
    "import pandas as pd\n",
    "\n"
   ]
  },
  {
   "cell_type": "code",
   "execution_count": null,
   "metadata": {
    "collapsed": false
   },
   "outputs": [],
   "source": [
    "%system cp /project/projectdirs/metatlas/projects/ms_monitor_tools/metatlas_get_data_helper_fun.py ."
   ]
  },
  {
   "cell_type": "code",
   "execution_count": null,
   "metadata": {
    "collapsed": false
   },
   "outputs": [],
   "source": [
    "#make file info template sheet by selecting a folder:\n",
    "# bpb@edison06:/project/projectdirs/metatlas/raw_data/lpsilva> ls -lta\n",
    "# total 3584\n",
    "# drwxrws--- 17 silvest metatlas 131072 Oct 11 10:18 ..\n",
    "# drwxrws---  2 silvest metatlas 131072 Sep 29 15:30 Actinobacillus test\n",
    "# drwxrws---  2 silvest metatlas 262144 Sep 29 14:13 20150521_LPSilva_Actino_C18_NEG_51isolates\n",
    "# drwxrws---  2 silvest metatlas 262144 Sep 29 13:43 20150514_LPSilva_Actino_C18_POS_51isolates\n",
    "# drwxrws---  2 silvest metatlas 262144 Sep 29 13:09 20150512_LPSilva_Actino_HILIC_NEG_51isolates\n",
    "# drwxrws---  2 silvest metatlas 262144 Sep 29 11:46 20150504_LPSilva_Actino_HILIC_POS_51isolates\n",
    "files = metob.retrieve('LcmsRun',experiment='%segre%',username='*')\n",
    "# files = metob.retrieve('LcmsRun',experiment='20160203_KBL-BC_Root-Exudate_Hilic_QExactive_Trial-Run', username='*')\n",
    "\n",
    "# files = metob.retrieve('LcmsRun',mzml_file='%_LPSilva_Actino_%_51isolates%', username='*')\n",
    "flist = []\n",
    "for f in files:\n",
    "    flist.append(f.mzml_file)\n",
    "import numpy as np\n",
    "flist = np.unique(flist)\n",
    "print len(flist)\n",
    "experiment_name = f.experiment"
   ]
  },
  {
   "cell_type": "code",
   "execution_count": null,
   "metadata": {
    "collapsed": false
   },
   "outputs": [],
   "source": [
    "for f in flist:\n",
    "    print f"
   ]
  },
  {
   "cell_type": "code",
   "execution_count": null,
   "metadata": {
    "collapsed": false
   },
   "outputs": [],
   "source": [
    "#dump all the files to a spreadheet, download it, and make a \"filled in\" one.\n",
    "with open('FileInfo_Sheet_%s_Not_filled_in.tab'%experiment_name,'w') as fid:\n",
    "    fid.write('mzml_file\\tgroup\\tdescription\\n')\n",
    "    for f in flist:\n",
    "        fid.write('%s\\t\\t\\n'%f)\n"
   ]
  },
  {
   "cell_type": "code",
   "execution_count": null,
   "metadata": {
    "collapsed": false
   },
   "outputs": [],
   "source": []
  },
  {
   "cell_type": "code",
   "execution_count": null,
   "metadata": {
    "collapsed": false
   },
   "outputs": [],
   "source": [
    "#Download the fileinfo sheet and fill it in!\n",
    "df = pd.read_csv('../atlas_finfo_to_be_loaded/FileInfoSheet_LPS_PPL_Vantage_20160301.txt',sep='\\t')\n",
    "df"
   ]
  },
  {
   "cell_type": "code",
   "execution_count": null,
   "metadata": {
    "collapsed": false
   },
   "outputs": [],
   "source": [
    "grouped = df.groupby(by='group')\n",
    "# list(grouped)"
   ]
  },
  {
   "cell_type": "code",
   "execution_count": null,
   "metadata": {
    "collapsed": false
   },
   "outputs": [],
   "source": [
    "grouped.groups.keys()"
   ]
  },
  {
   "cell_type": "code",
   "execution_count": null,
   "metadata": {
    "collapsed": false
   },
   "outputs": [],
   "source": [
    "# metob.retrieve('LcmsRun',mzml_file='%0150115_pHILIC_NEG_MSMS_R2A-1An%',username='*')"
   ]
  },
  {
   "cell_type": "code",
   "execution_count": null,
   "metadata": {
    "collapsed": false
   },
   "outputs": [],
   "source": [
    "for g in grouped.groups.keys():\n",
    "    indices = grouped.groups[g]\n",
    "    myGroup = metob.Group()\n",
    "    myGroup.name = '%s'%g\n",
    "    myGroup.description = df.loc[indices[0],'description']\n",
    "    file_set = []\n",
    "    for i in indices:\n",
    "        file_set.append(metob.retrieve('LcmsRun',mzml_file='%%%s'%df.loc[i,'mzml_file'],username='*')[0])\n",
    "    myGroup.items = file_set\n",
    "    metob.store(myGroup)"
   ]
  },
  {
   "cell_type": "code",
   "execution_count": null,
   "metadata": {
    "collapsed": false
   },
   "outputs": [],
   "source": [
    "g = metob.retrieve('Groups',name = '%_KBL_PS_%')\n",
    "print len(g)\n",
    "for gg in g:\n",
    "    print gg.name\n",
    "    for i in gg.items:\n",
    "        print i.name\n",
    "    print \" \""
   ]
  },
  {
   "cell_type": "code",
   "execution_count": null,
   "metadata": {
    "collapsed": true
   },
   "outputs": [],
   "source": []
  },
  {
   "cell_type": "code",
   "execution_count": null,
   "metadata": {
    "collapsed": true
   },
   "outputs": [],
   "source": []
  }
 ],
 "metadata": {
  "kernelspec": {
   "display_name": "Python 2",
   "language": "python",
   "name": "python2"
  },
  "language_info": {
   "codemirror_mode": {
    "name": "ipython",
    "version": 2
   },
   "file_extension": ".py",
   "mimetype": "text/x-python",
   "name": "python",
   "nbconvert_exporter": "python",
   "pygments_lexer": "ipython2",
   "version": "2.7.10"
  }
 },
 "nbformat": 4,
 "nbformat_minor": 0
}
