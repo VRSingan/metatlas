{
 "cells": [
  {
   "cell_type": "markdown",
   "metadata": {},
   "source": [
    "# Make file info spreadsheet from metatlas runs, load the spreadsheet and create metatlas groups"
   ]
  },
  {
   "cell_type": "markdown",
   "metadata": {},
   "source": [
    "## import the necessary packages"
   ]
  },
  {
   "cell_type": "code",
   "execution_count": 1,
   "metadata": {
    "collapsed": false
   },
   "outputs": [
    {
     "name": "stderr",
     "output_type": "stream",
     "text": [
      ":0: FutureWarning: IPython widgets are experimental and may change in the future.\n"
     ]
    }
   ],
   "source": [
    "\n",
    "import sys\n",
    "sys.path.insert(0,'/global/project/projectdirs/metatlas/anaconda/lib/python2.7/site-packages' )\n",
    "from metatlas import metatlas_objects as metob\n",
    "import qgrid\n",
    "%matplotlib notebook\n",
    "import pandas as pd\n",
    "\n"
   ]
  },
  {
   "cell_type": "markdown",
   "metadata": {},
   "source": [
    "## edit this block to select all the runs (filenames) you want to put into groups\n",
    "## filter by\n",
    "* experiment (parent folder that the files are in); % symbol is wildcard (so you only need a portion of the name/filename)\n",
    "    example (files = metob.retrieve('LcmsRun',experiment='20150902_RCC_BL21%',username='*')\n",
    "* name (filename)\n",
    "* username = '*' most of the time\n",
    "* this codeblock retrieves the specified properties from the specified object (for instance, from object \"LcmsRun\" you can retrieve experiment or mzml_file"
   ]
  },
  {
   "cell_type": "code",
   "execution_count": 11,
   "metadata": {
    "collapsed": false
   },
   "outputs": [
    {
     "name": "stdout",
     "output_type": "stream",
     "text": [
      "77\n"
     ]
    }
   ],
   "source": [
    "#make file info template sheet by selecting a folder:\n",
    "# bpb@edison06:/project/projectdirs/metatlas/raw_data/lpsilva> ls -lta\n",
    "# total 3584\n",
    "# drwxrws--- 17 silvest metatlas 131072 Oct 11 10:18 ..\n",
    "# drwxrws---  2 silvest metatlas 131072 Sep 29 15:30 Actinobacillus test\n",
    "# drwxrws---  2 silvest metatlas 262144 Sep 29 14:13 20150521_LPSilva_Actino_C18_NEG_51isolates\n",
    "# drwxrws---  2 silvest metatlas 262144 Sep 29 13:43 20150514_LPSilva_Actino_C18_POS_51isolates\n",
    "# drwxrws---  2 silvest metatlas 262144 Sep 29 13:09 20150512_LPSilva_Actino_HILIC_NEG_51isolates\n",
    "# drwxrws---  2 silvest metatlas 262144 Sep 29 11:46 20150504_LPSilva_Actino_HILIC_POS_51isolates\n",
    "files = metob.retrieve('LcmsRun',experiment='%Brachy%',username='*',name='%HILIC%')\n",
    "# files = metob.retrieve('LcmsRun',experiment='20160203_KBL-BC_Root-Exudate_Hilic_QExactive_Trial-Run', username='*')\n",
    "\n",
    "# files = metob.retrieve('LcmsRun',mzml_file='%_LPSilva_Actino_%_51isolates%', username='*')\n",
    "flist = []\n",
    "for f in files:\n",
    "    flist.append(f.mzml_file)\n",
    "import numpy as np\n",
    "flist = np.unique(flist)\n",
    "print len(flist)\n",
    "experiment_name = f.experiment"
   ]
  },
  {
   "cell_type": "markdown",
   "metadata": {},
   "source": [
    "## run  this block to view a list of the retrieved files"
   ]
  },
  {
   "cell_type": "code",
   "execution_count": 12,
   "metadata": {
    "collapsed": false
   },
   "outputs": [
    {
     "name": "stdout",
     "output_type": "stream",
     "text": [
      "/global/project/projectdirs/metatlas/raw_data/kblouie/20160202_KBL_QE_HILIC_BrachyExu_Vogel/20160223_pHILIC___NEG_MSMS_KBL_Qex_Root_BrachyExudate_11_time_20_hr__Run17__redo.mzML\n",
      "/global/project/projectdirs/metatlas/raw_data/kblouie/20160202_KBL_QE_HILIC_BrachyExu_Vogel/20160223_pHILIC___NEG_MSMS_KBL_Qex_Root_BrachyExudate_15_time_20_hr__Run29__redo.mzML\n",
      "/global/project/projectdirs/metatlas/raw_data/kblouie/20160202_KBL_QE_HILIC_BrachyExu_Vogel/20160223_pHILIC___NEG_MSMS_KBL_Qex_Root_BrachyExudate_ControlEx_2_time_5_hr__Run44.mzML\n",
      "/global/project/projectdirs/metatlas/raw_data/kblouie/20160202_KBL_QE_HILIC_BrachyExu_Vogel/20160223_pHILIC___NEG_MSMS_KBL_Qex_Root_BrachyExudate_ControlEx_3_time_5_hr__Run41.mzML\n",
      "/global/project/projectdirs/metatlas/raw_data/kblouie/20160202_KBL_QE_HILIC_BrachyExu_Vogel/20160223_pHILIC___POS_MSMS_KBL_Qex_Root_BrachyExudate_11_time_20_hr__Run16__redo.mzML\n",
      "/global/project/projectdirs/metatlas/raw_data/kblouie/20160202_KBL_QE_HILIC_BrachyExu_Vogel/20160223_pHILIC___POS_MSMS_KBL_Qex_Root_BrachyExudate_15_time_20_hr__Run28__redo.mzML\n",
      "/global/project/projectdirs/metatlas/raw_data/kblouie/20160202_KBL_QE_HILIC_BrachyExu_Vogel/20160223_pHILIC___POS_MSMS_KBL_Qex_Root_BrachyExudate_ControlEx_1_pink_time_5_hr__Run46.mzML\n",
      "/global/project/projectdirs/metatlas/raw_data/kblouie/20160202_KBL_QE_HILIC_BrachyExu_Vogel/20160223_pHILIC___POS_MSMS_KBL_Qex_Root_BrachyExudate_ControlEx_2_time_5_hr__Run43.mzML\n",
      "/global/project/projectdirs/metatlas/raw_data/kblouie/20160202_KBL_QE_HILIC_BrachyExu_Vogel/20160223_pHILIC___POS_MSMS_KBL_Qex_Root_BrachyExudate_ControlEx_3_time_5_hr__Run40.mzML\n",
      "/global/project/projectdirs/metatlas/raw_data/kblouie/20160202_KBL_QE_HILIC_BrachyExu_Vogel/201622_pHILIC___FPS_MSMS_KBL_Qex_ITSD_Kmix_w_DUBA____Run37.mzML\n",
      "/global/project/projectdirs/metatlas/raw_data/kblouie/20160202_KBL_QE_HILIC_BrachyExu_Vogel/201622_pHILIC___FPS_MSMS_KBL_Qex_ITSD_Kmix_w_DUBA____Run70.mzML\n",
      "/global/project/projectdirs/metatlas/raw_data/kblouie/20160202_KBL_QE_HILIC_BrachyExu_Vogel/201622_pHILIC___FPS_MSMS_KBL_Qex_ITSD_Kmix_w_DUBA_____Run3.mzML\n",
      "/global/project/projectdirs/metatlas/raw_data/kblouie/20160202_KBL_QE_HILIC_BrachyExu_Vogel/201622_pHILIC___FPS_MSMS_KBL_Qex_MeOHBlank_Pre______Run1.mzML\n",
      "/global/project/projectdirs/metatlas/raw_data/kblouie/20160202_KBL_QE_HILIC_BrachyExu_Vogel/201622_pHILIC___FPS_MSMS_KBL_Qex_QCMix_Ver2_____Run36.mzML\n",
      "/global/project/projectdirs/metatlas/raw_data/kblouie/20160202_KBL_QE_HILIC_BrachyExu_Vogel/201622_pHILIC___FPS_MSMS_KBL_Qex_QCMix_Ver2_____Run69.mzML\n",
      "/global/project/projectdirs/metatlas/raw_data/kblouie/20160202_KBL_QE_HILIC_BrachyExu_Vogel/201622_pHILIC___FPS_MSMS_KBL_Qex_QCMix_Ver2______Run2.mzML\n",
      "/global/project/projectdirs/metatlas/raw_data/kblouie/20160202_KBL_QE_HILIC_BrachyExu_Vogel/201622_pHILIC___FPS_MSMS_KBL_Qex_QCMix_Ver2_failure____Run71.mzML\n",
      "/global/project/projectdirs/metatlas/raw_data/kblouie/20160202_KBL_QE_HILIC_BrachyExu_Vogel/201622_pHILIC___FPS_MS_KBL_Qex_Root_BrachyExudate_10_time_10_hr_MeOHBlank_Run68.mzML\n",
      "/global/project/projectdirs/metatlas/raw_data/kblouie/20160202_KBL_QE_HILIC_BrachyExu_Vogel/201622_pHILIC___FPS_MS_KBL_Qex_Root_BrachyExudate_11_time_20_hr_MeOHBlank_Run18.mzML\n",
      "/global/project/projectdirs/metatlas/raw_data/kblouie/20160202_KBL_QE_HILIC_BrachyExu_Vogel/201622_pHILIC___FPS_MS_KBL_Qex_Root_BrachyExudate_13_time_3_hr_MeOHBlank_Run27.mzML\n",
      "/global/project/projectdirs/metatlas/raw_data/kblouie/20160202_KBL_QE_HILIC_BrachyExu_Vogel/201622_pHILIC___FPS_MS_KBL_Qex_Root_BrachyExudate_14_time_20_hr_MeOHBlank_Run41.mzML\n",
      "/global/project/projectdirs/metatlas/raw_data/kblouie/20160202_KBL_QE_HILIC_BrachyExu_Vogel/201622_pHILIC___FPS_MS_KBL_Qex_Root_BrachyExudate_15_time_20_hr_MeOHBlank_Run30.mzML\n",
      "/global/project/projectdirs/metatlas/raw_data/kblouie/20160202_KBL_QE_HILIC_BrachyExu_Vogel/201622_pHILIC___FPS_MS_KBL_Qex_Root_BrachyExudate_16_time_5_hr_MeOHBlank_Run33.mzML\n",
      "/global/project/projectdirs/metatlas/raw_data/kblouie/20160202_KBL_QE_HILIC_BrachyExu_Vogel/201622_pHILIC___FPS_MS_KBL_Qex_Root_BrachyExudate_17_time_5_hr_MeOHBlank_Run53.mzML\n",
      "/global/project/projectdirs/metatlas/raw_data/kblouie/20160202_KBL_QE_HILIC_BrachyExu_Vogel/201622_pHILIC___FPS_MS_KBL_Qex_Root_BrachyExudate_18_time_1_hr_MeOHBlank_Run44.mzML\n",
      "/global/project/projectdirs/metatlas/raw_data/kblouie/20160202_KBL_QE_HILIC_BrachyExu_Vogel/201622_pHILIC___FPS_MS_KBL_Qex_Root_BrachyExudate_19_time_5_hr_MeOHBlank_Run65.mzML\n",
      "/global/project/projectdirs/metatlas/raw_data/kblouie/20160202_KBL_QE_HILIC_BrachyExu_Vogel/201622_pHILIC___FPS_MS_KBL_Qex_Root_BrachyExudate_1_time_1_hr_MeOHBlank_Run6.mzML\n",
      "/global/project/projectdirs/metatlas/raw_data/kblouie/20160202_KBL_QE_HILIC_BrachyExu_Vogel/201622_pHILIC___FPS_MS_KBL_Qex_Root_BrachyExudate_20_time_3_hr_MeOHBlank_Run38.mzML\n",
      "/global/project/projectdirs/metatlas/raw_data/kblouie/20160202_KBL_QE_HILIC_BrachyExu_Vogel/201622_pHILIC___FPS_MS_KBL_Qex_Root_BrachyExudate_21_time_3_hr_MeOHBlank_Run62.mzML\n",
      "/global/project/projectdirs/metatlas/raw_data/kblouie/20160202_KBL_QE_HILIC_BrachyExu_Vogel/201622_pHILIC___FPS_MS_KBL_Qex_Root_BrachyExudate_22_time_1_hr_MeOHBlank_Run56.mzML\n",
      "/global/project/projectdirs/metatlas/raw_data/kblouie/20160202_KBL_QE_HILIC_BrachyExu_Vogel/201622_pHILIC___FPS_MS_KBL_Qex_Root_BrachyExudate_2_time_10_hr_MeOHBlank_Run15.mzML\n",
      "/global/project/projectdirs/metatlas/raw_data/kblouie/20160202_KBL_QE_HILIC_BrachyExu_Vogel/201622_pHILIC___FPS_MS_KBL_Qex_Root_BrachyExudate_3_time_5_hr_MeOHBlank_Run12.mzML\n",
      "/global/project/projectdirs/metatlas/raw_data/kblouie/20160202_KBL_QE_HILIC_BrachyExu_Vogel/201622_pHILIC___FPS_MS_KBL_Qex_Root_BrachyExudate_5_time_10_hr_MeOHBlank_Run24.mzML\n",
      "/global/project/projectdirs/metatlas/raw_data/kblouie/20160202_KBL_QE_HILIC_BrachyExu_Vogel/201622_pHILIC___FPS_MS_KBL_Qex_Root_BrachyExudate_6_time_1_hr_MeOHBlank_Run21.mzML\n",
      "/global/project/projectdirs/metatlas/raw_data/kblouie/20160202_KBL_QE_HILIC_BrachyExu_Vogel/201622_pHILIC___FPS_MS_KBL_Qex_Root_BrachyExudate_7_time_10_hr_MeOHBlank_Run50.mzML\n",
      "/global/project/projectdirs/metatlas/raw_data/kblouie/20160202_KBL_QE_HILIC_BrachyExu_Vogel/201622_pHILIC___FPS_MS_KBL_Qex_Root_BrachyExudate_8_time_20_hr_MeOHBlank_Run59.mzML\n",
      "/global/project/projectdirs/metatlas/raw_data/kblouie/20160202_KBL_QE_HILIC_BrachyExu_Vogel/201622_pHILIC___FPS_MS_KBL_Qex_Root_BrachyExudate_9_time_3_hr_MeOHBlank_Run9.mzML\n",
      "/global/project/projectdirs/metatlas/raw_data/kblouie/20160202_KBL_QE_HILIC_BrachyExu_Vogel/201622_pHILIC___NEG_MSMS_KBL_Qex_Root_BrachyExudate_10_time_10_hr__Run67.mzML\n",
      "/global/project/projectdirs/metatlas/raw_data/kblouie/20160202_KBL_QE_HILIC_BrachyExu_Vogel/201622_pHILIC___NEG_MSMS_KBL_Qex_Root_BrachyExudate_11_time_20_hr__Run17.mzML\n",
      "/global/project/projectdirs/metatlas/raw_data/kblouie/20160202_KBL_QE_HILIC_BrachyExu_Vogel/201622_pHILIC___NEG_MSMS_KBL_Qex_Root_BrachyExudate_13_time_3_hr__Run26.mzML\n",
      "/global/project/projectdirs/metatlas/raw_data/kblouie/20160202_KBL_QE_HILIC_BrachyExu_Vogel/201622_pHILIC___NEG_MSMS_KBL_Qex_Root_BrachyExudate_14_time_20_hr__Run40.mzML\n",
      "/global/project/projectdirs/metatlas/raw_data/kblouie/20160202_KBL_QE_HILIC_BrachyExu_Vogel/201622_pHILIC___NEG_MSMS_KBL_Qex_Root_BrachyExudate_15_time_20_hr__Run29.mzML\n",
      "/global/project/projectdirs/metatlas/raw_data/kblouie/20160202_KBL_QE_HILIC_BrachyExu_Vogel/201622_pHILIC___NEG_MSMS_KBL_Qex_Root_BrachyExudate_16_time_5_hr__Run32.mzML\n",
      "/global/project/projectdirs/metatlas/raw_data/kblouie/20160202_KBL_QE_HILIC_BrachyExu_Vogel/201622_pHILIC___NEG_MSMS_KBL_Qex_Root_BrachyExudate_17_time_5_hr__Run52.mzML\n",
      "/global/project/projectdirs/metatlas/raw_data/kblouie/20160202_KBL_QE_HILIC_BrachyExu_Vogel/201622_pHILIC___NEG_MSMS_KBL_Qex_Root_BrachyExudate_18_time_1_hr__Run43.mzML\n",
      "/global/project/projectdirs/metatlas/raw_data/kblouie/20160202_KBL_QE_HILIC_BrachyExu_Vogel/201622_pHILIC___NEG_MSMS_KBL_Qex_Root_BrachyExudate_19_time_5_hr__Run64.mzML\n",
      "/global/project/projectdirs/metatlas/raw_data/kblouie/20160202_KBL_QE_HILIC_BrachyExu_Vogel/201622_pHILIC___NEG_MSMS_KBL_Qex_Root_BrachyExudate_1_time_1_hr__Run5.mzML\n",
      "/global/project/projectdirs/metatlas/raw_data/kblouie/20160202_KBL_QE_HILIC_BrachyExu_Vogel/201622_pHILIC___NEG_MSMS_KBL_Qex_Root_BrachyExudate_20_time_3_hr__Run35.mzML\n",
      "/global/project/projectdirs/metatlas/raw_data/kblouie/20160202_KBL_QE_HILIC_BrachyExu_Vogel/201622_pHILIC___NEG_MSMS_KBL_Qex_Root_BrachyExudate_21_time_3_hr__Run61.mzML\n",
      "/global/project/projectdirs/metatlas/raw_data/kblouie/20160202_KBL_QE_HILIC_BrachyExu_Vogel/201622_pHILIC___NEG_MSMS_KBL_Qex_Root_BrachyExudate_22_time_1_hr__Run55.mzML\n",
      "/global/project/projectdirs/metatlas/raw_data/kblouie/20160202_KBL_QE_HILIC_BrachyExu_Vogel/201622_pHILIC___NEG_MSMS_KBL_Qex_Root_BrachyExudate_2_time_10_hr__Run14.mzML\n",
      "/global/project/projectdirs/metatlas/raw_data/kblouie/20160202_KBL_QE_HILIC_BrachyExu_Vogel/201622_pHILIC___NEG_MSMS_KBL_Qex_Root_BrachyExudate_3_time_5_hr__Run11.mzML\n",
      "/global/project/projectdirs/metatlas/raw_data/kblouie/20160202_KBL_QE_HILIC_BrachyExu_Vogel/201622_pHILIC___NEG_MSMS_KBL_Qex_Root_BrachyExudate_5_time_10_hr__Run23.mzML\n",
      "/global/project/projectdirs/metatlas/raw_data/kblouie/20160202_KBL_QE_HILIC_BrachyExu_Vogel/201622_pHILIC___NEG_MSMS_KBL_Qex_Root_BrachyExudate_6_time_1_hr__Run20.mzML\n",
      "/global/project/projectdirs/metatlas/raw_data/kblouie/20160202_KBL_QE_HILIC_BrachyExu_Vogel/201622_pHILIC___NEG_MSMS_KBL_Qex_Root_BrachyExudate_7_time_10_hr__Run49.mzML\n",
      "/global/project/projectdirs/metatlas/raw_data/kblouie/20160202_KBL_QE_HILIC_BrachyExu_Vogel/201622_pHILIC___NEG_MSMS_KBL_Qex_Root_BrachyExudate_8_time_20_hr__Run58.mzML\n",
      "/global/project/projectdirs/metatlas/raw_data/kblouie/20160202_KBL_QE_HILIC_BrachyExu_Vogel/201622_pHILIC___NEG_MSMS_KBL_Qex_Root_BrachyExudate_9_time_3_hr__Run8.mzML\n",
      "/global/project/projectdirs/metatlas/raw_data/kblouie/20160202_KBL_QE_HILIC_BrachyExu_Vogel/201622_pHILIC___POS_MSMS_KBL_Qex_Root_BrachyExudate_10_time_10_hr__Run66.mzML\n",
      "/global/project/projectdirs/metatlas/raw_data/kblouie/20160202_KBL_QE_HILIC_BrachyExu_Vogel/201622_pHILIC___POS_MSMS_KBL_Qex_Root_BrachyExudate_11_time_20_hr__Run16.mzML\n",
      "/global/project/projectdirs/metatlas/raw_data/kblouie/20160202_KBL_QE_HILIC_BrachyExu_Vogel/201622_pHILIC___POS_MSMS_KBL_Qex_Root_BrachyExudate_13_time_3_hr__Run25.mzML\n",
      "/global/project/projectdirs/metatlas/raw_data/kblouie/20160202_KBL_QE_HILIC_BrachyExu_Vogel/201622_pHILIC___POS_MSMS_KBL_Qex_Root_BrachyExudate_14_time_20_hr__Run39.mzML\n",
      "/global/project/projectdirs/metatlas/raw_data/kblouie/20160202_KBL_QE_HILIC_BrachyExu_Vogel/201622_pHILIC___POS_MSMS_KBL_Qex_Root_BrachyExudate_15_time_20_hr__Run28.mzML\n",
      "/global/project/projectdirs/metatlas/raw_data/kblouie/20160202_KBL_QE_HILIC_BrachyExu_Vogel/201622_pHILIC___POS_MSMS_KBL_Qex_Root_BrachyExudate_16_time_5_hr__Run31.mzML\n",
      "/global/project/projectdirs/metatlas/raw_data/kblouie/20160202_KBL_QE_HILIC_BrachyExu_Vogel/201622_pHILIC___POS_MSMS_KBL_Qex_Root_BrachyExudate_17_time_5_hr__Run51.mzML\n",
      "/global/project/projectdirs/metatlas/raw_data/kblouie/20160202_KBL_QE_HILIC_BrachyExu_Vogel/201622_pHILIC___POS_MSMS_KBL_Qex_Root_BrachyExudate_18_time_1_hr__Run42.mzML\n",
      "/global/project/projectdirs/metatlas/raw_data/kblouie/20160202_KBL_QE_HILIC_BrachyExu_Vogel/201622_pHILIC___POS_MSMS_KBL_Qex_Root_BrachyExudate_19_time_5_hr__Run63.mzML\n",
      "/global/project/projectdirs/metatlas/raw_data/kblouie/20160202_KBL_QE_HILIC_BrachyExu_Vogel/201622_pHILIC___POS_MSMS_KBL_Qex_Root_BrachyExudate_1_time_1_hr__Run4.mzML\n",
      "/global/project/projectdirs/metatlas/raw_data/kblouie/20160202_KBL_QE_HILIC_BrachyExu_Vogel/201622_pHILIC___POS_MSMS_KBL_Qex_Root_BrachyExudate_20_time_3_hr__Run34.mzML\n",
      "/global/project/projectdirs/metatlas/raw_data/kblouie/20160202_KBL_QE_HILIC_BrachyExu_Vogel/201622_pHILIC___POS_MSMS_KBL_Qex_Root_BrachyExudate_21_time_3_hr__Run60.mzML\n",
      "/global/project/projectdirs/metatlas/raw_data/kblouie/20160202_KBL_QE_HILIC_BrachyExu_Vogel/201622_pHILIC___POS_MSMS_KBL_Qex_Root_BrachyExudate_22_time_1_hr__Run54.mzML\n",
      "/global/project/projectdirs/metatlas/raw_data/kblouie/20160202_KBL_QE_HILIC_BrachyExu_Vogel/201622_pHILIC___POS_MSMS_KBL_Qex_Root_BrachyExudate_2_time_10_hr__Run13.mzML\n",
      "/global/project/projectdirs/metatlas/raw_data/kblouie/20160202_KBL_QE_HILIC_BrachyExu_Vogel/201622_pHILIC___POS_MSMS_KBL_Qex_Root_BrachyExudate_3_time_5_hr__Run10.mzML\n",
      "/global/project/projectdirs/metatlas/raw_data/kblouie/20160202_KBL_QE_HILIC_BrachyExu_Vogel/201622_pHILIC___POS_MSMS_KBL_Qex_Root_BrachyExudate_5_time_10_hr__Run22.mzML\n",
      "/global/project/projectdirs/metatlas/raw_data/kblouie/20160202_KBL_QE_HILIC_BrachyExu_Vogel/201622_pHILIC___POS_MSMS_KBL_Qex_Root_BrachyExudate_6_time_1_hr__Run19.mzML\n",
      "/global/project/projectdirs/metatlas/raw_data/kblouie/20160202_KBL_QE_HILIC_BrachyExu_Vogel/201622_pHILIC___POS_MSMS_KBL_Qex_Root_BrachyExudate_7_time_10_hr__Run48.mzML\n",
      "/global/project/projectdirs/metatlas/raw_data/kblouie/20160202_KBL_QE_HILIC_BrachyExu_Vogel/201622_pHILIC___POS_MSMS_KBL_Qex_Root_BrachyExudate_8_time_20_hr__Run57.mzML\n",
      "/global/project/projectdirs/metatlas/raw_data/kblouie/20160202_KBL_QE_HILIC_BrachyExu_Vogel/201622_pHILIC___POS_MSMS_KBL_Qex_Root_BrachyExudate_9_time_3_hr__Run7.mzML\n"
     ]
    }
   ],
   "source": [
    "for f in flist:\n",
    "    print f"
   ]
  },
  {
   "cell_type": "markdown",
   "metadata": {},
   "source": [
    "## Print an empty file info sheet - this will not have the groups - you do this!\n",
    "the %s will be the experiment name from the last LC-MS run from your list"
   ]
  },
  {
   "cell_type": "code",
   "execution_count": 14,
   "metadata": {
    "collapsed": false
   },
   "outputs": [],
   "source": [
    "#dump all the files to a spreadheet, download it, and make a \"filled in\" one.\n",
    "with open('file info sheets generated/FileInfo_Sheet_%s_Not_filled_in.tab'%experiment_name,'w') as fid:\n",
    "    fid.write('mzml_file\\tgroup\\tdescription\\n')\n",
    "    for f in flist:\n",
    "        fid.write('%s\\t\\t\\n'%f)\n"
   ]
  },
  {
   "cell_type": "markdown",
   "metadata": {
    "collapsed": false
   },
   "source": [
    "## Download the file info sheet and fill it in"
   ]
  },
  {
   "cell_type": "markdown",
   "metadata": {},
   "source": [
    "## Upload the filled in sheet and specify the path here; import the sheet"
   ]
  },
  {
   "cell_type": "code",
   "execution_count": 4,
   "metadata": {
    "collapsed": false
   },
   "outputs": [
    {
     "data": {
      "text/html": [
       "<div>\n",
       "<table border=\"1\" class=\"dataframe\">\n",
       "  <thead>\n",
       "    <tr style=\"text-align: right;\">\n",
       "      <th></th>\n",
       "      <th>mzml_file</th>\n",
       "      <th>group</th>\n",
       "      <th>description</th>\n",
       "    </tr>\n",
       "  </thead>\n",
       "  <tbody>\n",
       "    <tr>\n",
       "      <th>0</th>\n",
       "      <td>20160119_pHILIC___NEG_MSMS_KZ_HA56_C_Mesorhizo...</td>\n",
       "      <td>20160119_KZ_Exu_HA56_hilic_neg</td>\n",
       "      <td>NaN</td>\n",
       "    </tr>\n",
       "  </tbody>\n",
       "</table>\n",
       "</div>"
      ],
      "text/plain": [
       "                                           mzml_file  \\\n",
       "0  20160119_pHILIC___NEG_MSMS_KZ_HA56_C_Mesorhizo...   \n",
       "\n",
       "                            group  description  \n",
       "0  20160119_KZ_Exu_HA56_hilic_neg          NaN  "
      ]
     },
     "execution_count": 4,
     "metadata": {},
     "output_type": "execute_result"
    }
   ],
   "source": [
    "#Download the fileinfo sheet and fill it in!\n",
    "df = pd.read_csv('../atlas_finfo_to_be_loaded/Grouping_add.txt',sep='\\t')\n",
    "df"
   ]
  },
  {
   "cell_type": "markdown",
   "metadata": {},
   "source": [
    "## Group the data"
   ]
  },
  {
   "cell_type": "code",
   "execution_count": 7,
   "metadata": {
    "collapsed": false
   },
   "outputs": [],
   "source": [
    "grouped = df.groupby(by='group')\n",
    "# list(grouped)"
   ]
  },
  {
   "cell_type": "markdown",
   "metadata": {},
   "source": [
    "## Print the names of the groups to the screen"
   ]
  },
  {
   "cell_type": "code",
   "execution_count": 8,
   "metadata": {
    "collapsed": false
   },
   "outputs": [
    {
     "data": {
      "text/plain": [
       "['20160202_KBL_QE_HILIC_Brachy_Root_Exudate_FPS_QC__',\n",
       " '20160202_KBL_QE_HILIC_Brachy_Root_Exudate_NEG_1_hr_',\n",
       " '20160202_KBL_QE_HILIC_Brachy_Root_Exudate_NEG_10_hr_',\n",
       " '20160202_KBL_QE_HILIC_Brachy_Root_Exudate_FPS_QC_fail__',\n",
       " '20160202_KBL_QE_HILIC_Brachy_Root_Exudate_FPS_1_hr_MeOHBlank',\n",
       " '20160202_KBL_QE_HILIC_Brachy_Root_Exudate_POS_20_hr_',\n",
       " '20160202_KBL_QE_HILIC_Brachy_Root_Exudate_POS_3_hr_',\n",
       " '20160202_KBL_QE_HILIC_Brachy_Root_Exudate_POS_5_hr_',\n",
       " '20160202_KBL_QE_HILIC_Brachy_Root_Exudate_FPS_MeOHBlank__',\n",
       " '20160202_KBL_QE_HILIC_Brachy_Root_Exudate_FPS_5_hr_MeOHBlank',\n",
       " '20160202_KBL_QE_HILIC_Brachy_Root_Exudate_POS_1_hr_',\n",
       " '20160202_KBL_QE_HILIC_Brachy_Root_Exudate_POS_10_hr_',\n",
       " '20160202_KBL_QE_HILIC_Brachy_Root_Exudate_FPS_10_hr_MeOHBlank',\n",
       " '20160202_KBL_QE_HILIC_Brachy_Root_Exudate_FPS_20_hr_MeOHBlank',\n",
       " '20160202_KBL_QE_HILIC_Brachy_Root_Exudate_NEG_20_hr_',\n",
       " '20160202_KBL_QE_HILIC_Brachy_Root_Exudate_FPS_3_hr_MeOHBlank',\n",
       " '20160202_KBL_QE_HILIC_Brachy_Root_Exudate_NEG_3_hr_',\n",
       " '20160202_KBL_QE_HILIC_Brachy_Root_Exudate_NEG_5_hr_',\n",
       " '20160202_KBL_QE_HILIC_Brachy_Root_Exudate_FPS_ITSD__']"
      ]
     },
     "execution_count": 8,
     "metadata": {},
     "output_type": "execute_result"
    }
   ],
   "source": [
    "grouped.groups.keys()"
   ]
  },
  {
   "cell_type": "markdown",
   "metadata": {
    "collapsed": false
   },
   "source": [
    "## For each run (filename) associate each run with a group\n",
    "First run with metob.store(myGroup) - comment this out in case there are errors\n",
    "If no errors, then run with that last line un-commented"
   ]
  },
  {
   "cell_type": "code",
   "execution_count": 15,
   "metadata": {
    "collapsed": false
   },
   "outputs": [
    {
     "ename": "NameError",
     "evalue": "name 'grouped' is not defined",
     "output_type": "error",
     "traceback": [
      "\u001b[1;31m---------------------------------------------------------------------------\u001b[0m",
      "\u001b[1;31mNameError\u001b[0m                                 Traceback (most recent call last)",
      "\u001b[1;32m<ipython-input-15-798b85efcae6>\u001b[0m in \u001b[0;36m<module>\u001b[1;34m()\u001b[0m\n\u001b[1;32m----> 1\u001b[1;33m \u001b[1;32mfor\u001b[0m \u001b[0mg\u001b[0m \u001b[1;32min\u001b[0m \u001b[0mgrouped\u001b[0m\u001b[1;33m.\u001b[0m\u001b[0mgroups\u001b[0m\u001b[1;33m.\u001b[0m\u001b[0mkeys\u001b[0m\u001b[1;33m(\u001b[0m\u001b[1;33m)\u001b[0m\u001b[1;33m:\u001b[0m\u001b[1;33m\u001b[0m\u001b[0m\n\u001b[0m\u001b[0;32m      2\u001b[0m     \u001b[0mindices\u001b[0m \u001b[1;33m=\u001b[0m \u001b[0mgrouped\u001b[0m\u001b[1;33m.\u001b[0m\u001b[0mgroups\u001b[0m\u001b[1;33m[\u001b[0m\u001b[0mg\u001b[0m\u001b[1;33m]\u001b[0m\u001b[1;33m\u001b[0m\u001b[0m\n\u001b[0;32m      3\u001b[0m     \u001b[0mmyGroup\u001b[0m \u001b[1;33m=\u001b[0m \u001b[0mmetob\u001b[0m\u001b[1;33m.\u001b[0m\u001b[0mGroup\u001b[0m\u001b[1;33m(\u001b[0m\u001b[1;33m)\u001b[0m\u001b[1;33m\u001b[0m\u001b[0m\n\u001b[0;32m      4\u001b[0m     \u001b[0mmyGroup\u001b[0m\u001b[1;33m.\u001b[0m\u001b[0mname\u001b[0m \u001b[1;33m=\u001b[0m \u001b[1;34m'%s'\u001b[0m\u001b[1;33m%\u001b[0m\u001b[0mg\u001b[0m\u001b[1;33m\u001b[0m\u001b[0m\n\u001b[0;32m      5\u001b[0m     \u001b[0mmyGroup\u001b[0m\u001b[1;33m.\u001b[0m\u001b[0mdescription\u001b[0m \u001b[1;33m=\u001b[0m \u001b[0mdf\u001b[0m\u001b[1;33m.\u001b[0m\u001b[0mloc\u001b[0m\u001b[1;33m[\u001b[0m\u001b[0mindices\u001b[0m\u001b[1;33m[\u001b[0m\u001b[1;36m0\u001b[0m\u001b[1;33m]\u001b[0m\u001b[1;33m,\u001b[0m\u001b[1;34m'description'\u001b[0m\u001b[1;33m]\u001b[0m\u001b[1;33m\u001b[0m\u001b[0m\n",
      "\u001b[1;31mNameError\u001b[0m: name 'grouped' is not defined"
     ]
    }
   ],
   "source": [
    "for g in grouped.groups.keys():\n",
    "    indices = grouped.groups[g]\n",
    "    myGroup = metob.Group()\n",
    "    myGroup.name = '%s'%g\n",
    "    myGroup.description = df.loc[indices[0],'description']\n",
    "    file_set = []\n",
    "    for i in indices:\n",
    "        file_set.append(metob.retrieve('LcmsRun',mzml_file='%%%s'%df.loc[i,'mzml_file'],username='*')[0])\n",
    "    myGroup.items = file_set\n",
    "    #metob.store(myGroup)"
   ]
  },
  {
   "cell_type": "markdown",
   "metadata": {},
   "source": [
    "## use this block to search for groups and print the filenames associated with each group"
   ]
  },
  {
   "cell_type": "code",
   "execution_count": 19,
   "metadata": {
    "collapsed": false
   },
   "outputs": [
    {
     "name": "stdout",
     "output_type": "stream",
     "text": [
      "19\n",
      "20160202_KBL_QE_HILIC_Brachy_Root_Exudate_FPS_QC__ bpb\n",
      "201622_pHILIC___FPS_MSMS_KBL_Qex_QCMix_Ver2_____Run36.mzML\n",
      "201622_pHILIC___FPS_MSMS_KBL_Qex_QCMix_Ver2_____Run69.mzML\n",
      "201622_pHILIC___FPS_MSMS_KBL_Qex_QCMix_Ver2______Run2.mzML\n",
      " \n",
      "20160202_KBL_QE_HILIC_Brachy_Root_Exudate_NEG_1_hr_ bpb\n",
      "201622_pHILIC___NEG_MSMS_KBL_Qex_Root_BrachyExudate_18_time_1_hr__Run43.mzML\n",
      "201622_pHILIC___NEG_MSMS_KBL_Qex_Root_BrachyExudate_1_time_1_hr__Run5.mzML\n",
      "201622_pHILIC___NEG_MSMS_KBL_Qex_Root_BrachyExudate_22_time_1_hr__Run55.mzML\n",
      "201622_pHILIC___NEG_MSMS_KBL_Qex_Root_BrachyExudate_6_time_1_hr__Run20.mzML\n",
      " \n",
      "20160202_KBL_QE_HILIC_Brachy_Root_Exudate_FPS_QC_fail__ bpb\n",
      "201622_pHILIC___FPS_MSMS_KBL_Qex_QCMix_Ver2_failure____Run71.mzML\n",
      " \n",
      "20160202_KBL_QE_HILIC_Brachy_Root_Exudate_NEG_10_hr_ bpb\n",
      "201622_pHILIC___NEG_MSMS_KBL_Qex_Root_BrachyExudate_10_time_10_hr__Run67.mzML\n",
      "201622_pHILIC___NEG_MSMS_KBL_Qex_Root_BrachyExudate_2_time_10_hr__Run14.mzML\n",
      "201622_pHILIC___NEG_MSMS_KBL_Qex_Root_BrachyExudate_5_time_10_hr__Run23.mzML\n",
      "201622_pHILIC___NEG_MSMS_KBL_Qex_Root_BrachyExudate_7_time_10_hr__Run49.mzML\n",
      " \n",
      "20160202_KBL_QE_HILIC_Brachy_Root_Exudate_FPS_1_hr_MeOHBlank bpb\n",
      "201622_pHILIC___FPS_MS_KBL_Qex_Root_BrachyExudate_18_time_1_hr_MeOHBlank_Run44.mzML\n",
      "201622_pHILIC___FPS_MS_KBL_Qex_Root_BrachyExudate_1_time_1_hr_MeOHBlank_Run6.mzML\n",
      "201622_pHILIC___FPS_MS_KBL_Qex_Root_BrachyExudate_22_time_1_hr_MeOHBlank_Run56.mzML\n",
      "201622_pHILIC___FPS_MS_KBL_Qex_Root_BrachyExudate_6_time_1_hr_MeOHBlank_Run21.mzML\n",
      " \n",
      "20160202_KBL_QE_HILIC_Brachy_Root_Exudate_FPS_MeOHBlank__ bpb\n",
      "201622_pHILIC___FPS_MSMS_KBL_Qex_MeOHBlank_Pre______Run1.mzML\n",
      " \n",
      "20160202_KBL_QE_HILIC_Brachy_Root_Exudate_POS_3_hr_ bpb\n",
      "201622_pHILIC___POS_MSMS_KBL_Qex_Root_BrachyExudate_13_time_3_hr__Run25.mzML\n",
      "201622_pHILIC___POS_MSMS_KBL_Qex_Root_BrachyExudate_20_time_3_hr__Run34.mzML\n",
      "201622_pHILIC___POS_MSMS_KBL_Qex_Root_BrachyExudate_21_time_3_hr__Run60.mzML\n",
      "201622_pHILIC___POS_MSMS_KBL_Qex_Root_BrachyExudate_9_time_3_hr__Run7.mzML\n",
      " \n",
      "20160202_KBL_QE_HILIC_Brachy_Root_Exudate_POS_5_hr_ bpb\n",
      "201622_pHILIC___POS_MSMS_KBL_Qex_Root_BrachyExudate_16_time_5_hr__Run31.mzML\n",
      "201622_pHILIC___POS_MSMS_KBL_Qex_Root_BrachyExudate_17_time_5_hr__Run51.mzML\n",
      "201622_pHILIC___POS_MSMS_KBL_Qex_Root_BrachyExudate_19_time_5_hr__Run63.mzML\n",
      "201622_pHILIC___POS_MSMS_KBL_Qex_Root_BrachyExudate_3_time_5_hr__Run10.mzML\n",
      " \n",
      "20160202_KBL_QE_HILIC_Brachy_Root_Exudate_FPS_5_hr_MeOHBlank bpb\n",
      "201622_pHILIC___FPS_MS_KBL_Qex_Root_BrachyExudate_16_time_5_hr_MeOHBlank_Run33.mzML\n",
      "201622_pHILIC___FPS_MS_KBL_Qex_Root_BrachyExudate_17_time_5_hr_MeOHBlank_Run53.mzML\n",
      "201622_pHILIC___FPS_MS_KBL_Qex_Root_BrachyExudate_19_time_5_hr_MeOHBlank_Run65.mzML\n",
      "201622_pHILIC___FPS_MS_KBL_Qex_Root_BrachyExudate_3_time_5_hr_MeOHBlank_Run12.mzML\n",
      " \n",
      "20160202_KBL_QE_HILIC_Brachy_Root_Exudate_POS_1_hr_ bpb\n",
      "201622_pHILIC___POS_MSMS_KBL_Qex_Root_BrachyExudate_18_time_1_hr__Run42.mzML\n",
      "201622_pHILIC___POS_MSMS_KBL_Qex_Root_BrachyExudate_1_time_1_hr__Run4.mzML\n",
      "201622_pHILIC___POS_MSMS_KBL_Qex_Root_BrachyExudate_22_time_1_hr__Run54.mzML\n",
      "201622_pHILIC___POS_MSMS_KBL_Qex_Root_BrachyExudate_6_time_1_hr__Run19.mzML\n",
      " \n",
      "20160202_KBL_QE_HILIC_Brachy_Root_Exudate_FPS_10_hr_MeOHBlank bpb\n",
      "201622_pHILIC___FPS_MS_KBL_Qex_Root_BrachyExudate_10_time_10_hr_MeOHBlank_Run68.mzML\n",
      "201622_pHILIC___FPS_MS_KBL_Qex_Root_BrachyExudate_2_time_10_hr_MeOHBlank_Run15.mzML\n",
      "201622_pHILIC___FPS_MS_KBL_Qex_Root_BrachyExudate_5_time_10_hr_MeOHBlank_Run24.mzML\n",
      "201622_pHILIC___FPS_MS_KBL_Qex_Root_BrachyExudate_7_time_10_hr_MeOHBlank_Run50.mzML\n",
      " \n",
      "20160202_KBL_QE_HILIC_Brachy_Root_Exudate_POS_10_hr_ bpb\n",
      "201622_pHILIC___POS_MSMS_KBL_Qex_Root_BrachyExudate_10_time_10_hr__Run66.mzML\n",
      "201622_pHILIC___POS_MSMS_KBL_Qex_Root_BrachyExudate_2_time_10_hr__Run13.mzML\n",
      "201622_pHILIC___POS_MSMS_KBL_Qex_Root_BrachyExudate_5_time_10_hr__Run22.mzML\n",
      "201622_pHILIC___POS_MSMS_KBL_Qex_Root_BrachyExudate_7_time_10_hr__Run48.mzML\n",
      " \n",
      "20160202_KBL_QE_HILIC_Brachy_Root_Exudate_FPS_20_hr_MeOHBlank bpb\n",
      "201622_pHILIC___FPS_MS_KBL_Qex_Root_BrachyExudate_11_time_20_hr_MeOHBlank_Run18.mzML\n",
      "201622_pHILIC___FPS_MS_KBL_Qex_Root_BrachyExudate_14_time_20_hr_MeOHBlank_Run41.mzML\n",
      "201622_pHILIC___FPS_MS_KBL_Qex_Root_BrachyExudate_15_time_20_hr_MeOHBlank_Run30.mzML\n",
      "201622_pHILIC___FPS_MS_KBL_Qex_Root_BrachyExudate_8_time_20_hr_MeOHBlank_Run59.mzML\n",
      " \n",
      "20160202_KBL_QE_HILIC_Brachy_Root_Exudate_NEG_3_hr_ bpb\n",
      "201622_pHILIC___NEG_MSMS_KBL_Qex_Root_BrachyExudate_13_time_3_hr__Run26.mzML\n",
      "201622_pHILIC___NEG_MSMS_KBL_Qex_Root_BrachyExudate_20_time_3_hr__Run35.mzML\n",
      "201622_pHILIC___NEG_MSMS_KBL_Qex_Root_BrachyExudate_21_time_3_hr__Run61.mzML\n",
      "201622_pHILIC___NEG_MSMS_KBL_Qex_Root_BrachyExudate_9_time_3_hr__Run8.mzML\n",
      " \n",
      "20160202_KBL_QE_HILIC_Brachy_Root_Exudate_FPS_3_hr_MeOHBlank bpb\n",
      "201622_pHILIC___FPS_MS_KBL_Qex_Root_BrachyExudate_13_time_3_hr_MeOHBlank_Run27.mzML\n",
      "201622_pHILIC___FPS_MS_KBL_Qex_Root_BrachyExudate_20_time_3_hr_MeOHBlank_Run38.mzML\n",
      "201622_pHILIC___FPS_MS_KBL_Qex_Root_BrachyExudate_21_time_3_hr_MeOHBlank_Run62.mzML\n",
      "201622_pHILIC___FPS_MS_KBL_Qex_Root_BrachyExudate_9_time_3_hr_MeOHBlank_Run9.mzML\n",
      " \n",
      "20160202_KBL_QE_HILIC_Brachy_Root_Exudate_FPS_ITSD__ bpb\n",
      "201622_pHILIC___FPS_MSMS_KBL_Qex_ITSD_Kmix_w_DUBA____Run37.mzML\n",
      "201622_pHILIC___FPS_MSMS_KBL_Qex_ITSD_Kmix_w_DUBA____Run70.mzML\n",
      "201622_pHILIC___FPS_MSMS_KBL_Qex_ITSD_Kmix_w_DUBA_____Run3.mzML\n",
      " \n",
      "20160202_KBL_QE_HILIC_Brachy_Root_Exudate_NEG_5_hr_ bpb\n",
      "201622_pHILIC___NEG_MSMS_KBL_Qex_Root_BrachyExudate_16_time_5_hr__Run32.mzML\n",
      "201622_pHILIC___NEG_MSMS_KBL_Qex_Root_BrachyExudate_17_time_5_hr__Run52.mzML\n",
      "201622_pHILIC___NEG_MSMS_KBL_Qex_Root_BrachyExudate_19_time_5_hr__Run64.mzML\n",
      "201622_pHILIC___NEG_MSMS_KBL_Qex_Root_BrachyExudate_3_time_5_hr__Run11.mzML\n",
      " \n",
      "20160202_KBL_QE_HILIC_Brachy_Root_Exudate_NEG_20_hr_ bpb\n",
      "201622_pHILIC___NEG_MSMS_KBL_Qex_Root_BrachyExudate_11_time_20_hr__Run17.mzML\n",
      "201622_pHILIC___NEG_MSMS_KBL_Qex_Root_BrachyExudate_14_time_20_hr__Run40.mzML\n",
      "201622_pHILIC___NEG_MSMS_KBL_Qex_Root_BrachyExudate_8_time_20_hr__Run58.mzML\n",
      " \n",
      "20160202_KBL_QE_HILIC_Brachy_Root_Exudate_POS_20_hr_ bpb\n",
      "201622_pHILIC___POS_MSMS_KBL_Qex_Root_BrachyExudate_14_time_20_hr__Run39.mzML\n",
      "201622_pHILIC___POS_MSMS_KBL_Qex_Root_BrachyExudate_8_time_20_hr__Run57.mzML\n",
      " \n"
     ]
    }
   ],
   "source": [
    "g = metob.retrieve('Groups',name = '%brachy%', username='*')\n",
    "print len(g)\n",
    "for gg in g:\n",
    "    print gg.name,gg.username\n",
    "    for i in gg.items:\n",
    "        print i.name\n",
    "    print \" \""
   ]
  },
  {
   "cell_type": "code",
   "execution_count": null,
   "metadata": {
    "collapsed": true
   },
   "outputs": [],
   "source": []
  },
  {
   "cell_type": "code",
   "execution_count": null,
   "metadata": {
    "collapsed": true
   },
   "outputs": [],
   "source": []
  }
 ],
 "metadata": {
  "kernelspec": {
   "display_name": "Python 2",
   "language": "python",
   "name": "python2"
  },
  "language_info": {
   "codemirror_mode": {
    "name": "ipython",
    "version": 2
   },
   "file_extension": ".py",
   "mimetype": "text/x-python",
   "name": "python",
   "nbconvert_exporter": "python",
   "pygments_lexer": "ipython2",
   "version": "2.7.11"
  }
 },
 "nbformat": 4,
 "nbformat_minor": 0
}
