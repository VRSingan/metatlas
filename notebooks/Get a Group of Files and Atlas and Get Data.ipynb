{
 "cells": [
  {
   "cell_type": "markdown",
   "metadata": {},
   "source": [
    "## imports packages for processing data (groups of files) with an atlas "
   ]
  },
  {
   "cell_type": "code",
   "execution_count": 1,
   "metadata": {
    "collapsed": false
   },
   "outputs": [
    {
     "name": "stderr",
     "output_type": "stream",
     "text": [
      ":0: FutureWarning: IPython widgets are experimental and may change in the future.\n"
     ]
    }
   ],
   "source": [
    "import sys\n",
    "\n",
    "\n",
    "# os.environ['R_LIBS_USER'] = '/project/projectdirs/metatlas/r_pkgs/'\n",
    "\n",
    "# sys.path.insert(0, '/project/projectdirs/metatlas/python_pkgs/')\n",
    "sys.path.insert(0,'/global/project/projectdirs/metatlas/anaconda/lib/python2.7/site-packages' )\n",
    "\n",
    "from metatlas import metatlas_objects as metob\n",
    "from metatlas import h5_query as h5q\n",
    "from metatlas import gui as mgui\n",
    "\n",
    "import qgrid\n",
    "import metatlas_get_data_helper_fun as ma_data\n",
    "import pandas as pd\n",
    "import os\n",
    "import tables\n",
    "import pickle\n",
    "\n",
    "%matplotlib notebook\n"
   ]
  },
  {
   "cell_type": "code",
   "execution_count": 2,
   "metadata": {
    "collapsed": false
   },
   "outputs": [
    {
     "name": "stderr",
     "output_type": "stream",
     "text": [
      "/global/project/projectdirs/metatlas/anaconda/lib/python2.7/site-packages/pandas/core/internals.py:1031: FutureWarning: comparison to `None` will result in an elementwise object comparison in the future.\n",
      "  return self._try_coerce_result(func(values, other))\n"
     ]
    }
   ],
   "source": [
    "mgui.show_experiments()"
   ]
  },
  {
   "cell_type": "markdown",
   "metadata": {},
   "source": [
    "## use code to filter the groups to the groups you want"
   ]
  },
  {
   "cell_type": "code",
   "execution_count": 2,
   "metadata": {
    "collapsed": false
   },
   "outputs": [
    {
     "name": "stderr",
     "output_type": "stream",
     "text": [
      "/global/project/projectdirs/metatlas/anaconda/lib/python2.7/site-packages/pandas/core/internals.py:1031: FutureWarning: comparison to `None` will result in an elementwise object comparison in the future.\n",
      "  return self._try_coerce_result(func(values, other))\n"
     ]
    }
   ],
   "source": [
    "#Select the group\n",
    "# group = metob.retrieve('Groups', name = '%LS_Archetypes%hilic%neg%')\n",
    "temp_group = metob.retrieve('Groups', name = '%20160202_KBL_QE_HILIC_Brachy_Root_Exudate_POS%',username='*')\n",
    "# temp_group = metob.retrieve('Groups', name = '%Replicate_Analysis_R2A_HILIC_neg%')\n",
    "# print len(temp_group)\n",
    "# print temp_group\n",
    "group = []\n",
    "for i,g in enumerate(temp_group):\n",
    "    if (len(g.items) > 0):# and ('RootCass' not in g.name) and ('_QC_' not in g.name):\n",
    "        group.append(g)\n",
    "\n",
    "# group = metob.retrieve('Groups',name='%Avena_Hopland%RootCass%_neg')\n",
    "# group = metob.retrieve('Groups',name='%Avena_Hopland%RootCass%_pos')\n",
    "# group = metob.retrieve('Groups',name='%Avena_Hopland%RootExu%')\n",
    "# group = metob.retrieve('Groups',name='%Avena_Hopland%RootExu%_pos')\n",
    "# group = metob.retrieve('Groups',name='%Avena_Hopland%RootExu%_neg')\n",
    "\n",
    "mgui.edit_objects(group)"
   ]
  },
  {
   "cell_type": "markdown",
   "metadata": {},
   "source": [
    "## Put in atlas name here "
   ]
  },
  {
   "cell_type": "code",
   "execution_count": 3,
   "metadata": {
    "collapsed": false
   },
   "outputs": [
    {
     "name": "stdout",
     "output_type": "stream",
     "text": [
      "0 20160229_KBL_Osmolytes_Positive_QE_Hilic 2016-02-29 22:41:27\n",
      "1 20160229_KBL_Osmolytes_Positive_QE_Hilic 2016-02-29 23:04:02\n"
     ]
    }
   ],
   "source": [
    "#Select the atlas\n",
    "atlas = metob.retrieve('Atlas',name = '20160229_KBL_Osmolytes_Positive_QE_Hilic',username='*')\n",
    "# atlas = metob.retrieve('Atlas',name = '%_Positive%_Hilic_QExactive_AvenaExudates_2%')\n",
    "# atlas = metob.retrieve('Atlas',name = '%_Negative%_Hilic_QExactive_AvenaExudates_2%')\n",
    "# atlas = metob.retrieve('Atlas',name = '%internal standards%')\n",
    "# atlas = metob.retrieve('Atlas',name = 'SJ_HM_6550_20160209_Neg_Hilic_Arkin_Ophelia_4RT-Sets',username='*')#_Archetypes_ISTDs%')\n",
    "# 20151130_LS_Positive_Hilic_QExactive_Archetypes_ISTDs\n",
    "# 20151130_LS_Negative_Hilic_QExactive_Archetypes_ISTDs\n",
    "# mgui.edit_objects(atlas)\n",
    "# len(atlas)\n",
    "# atlas\n",
    "from datetime import datetime, date\n",
    "\n",
    "for i,a in enumerate(atlas):\n",
    "    print i, a.name,  datetime.utcfromtimestamp(a.last_modified)"
   ]
  },
  {
   "cell_type": "markdown",
   "metadata": {},
   "source": [
    "## Which atlas do you want?  -1 gets the last one, or typing in the index on the screen can also be used"
   ]
  },
  {
   "cell_type": "code",
   "execution_count": 4,
   "metadata": {
    "collapsed": true
   },
   "outputs": [],
   "source": [
    "myAtlas = atlas[-1]"
   ]
  },
  {
   "cell_type": "markdown",
   "metadata": {},
   "source": [
    "## exports a spreadsheet to your computer that has all the compound info; specify a filename (at the bottom of this script) to name the exported file and where it will be put"
   ]
  },
  {
   "cell_type": "code",
   "execution_count": 5,
   "metadata": {
    "collapsed": false
   },
   "outputs": [],
   "source": [
    "# myAtlases = [atlas[0],atlas[1]] #concatenate the atlases you want to use\n",
    "# myAtlases = [atlas[0]]\n",
    "compound_list = []\n",
    "for i in range(len(myAtlas.compound_identifications)):\n",
    "    if myAtlas.compound_identifications[i].compound:\n",
    "        compound_list.append(myAtlas.compound_identifications[i].compound[0].name)\n",
    "    else:\n",
    "        compound_list.append(myAtlas.compound_identifications[i].name)\n",
    "\n",
    "cols = ['inchi',\n",
    " 'mono_isotopic_molecular_weight',\n",
    " 'creation_time',\n",
    " 'description',\n",
    " 'formula',\n",
    " 'functional_sets',\n",
    " 'last_modified',\n",
    " 'reference_xrefs',\n",
    " 'synonyms',\n",
    " 'unique_id',\n",
    " 'url',\n",
    " 'username']\n",
    "    \n",
    "    # print myAtlas[0].compound_identifications[0].compound\n",
    "atlas_export = pd.DataFrame( index=compound_list, columns=cols)\n",
    "\n",
    "atlas_export['name'] = compound_list\n",
    "atlas_export.set_index('name',drop=True)\n",
    "for i in range(len(myAtlas.compound_identifications)):\n",
    "    if myAtlas.compound_identifications[i].compound:\n",
    "        n = myAtlas.compound_identifications[i].compound[0].name\n",
    "    else:\n",
    "        n = myAtlas.compound_identifications[i].name\n",
    "    if myAtlas.compound_identifications[i].compound:\n",
    "        for c in cols:\n",
    "                g = getattr(myAtlas.compound_identifications[i].compound[0],c)\n",
    "                if g:\n",
    "                    atlas_export.ix[n,c] = getattr(myAtlas.compound_identifications[i].compound[0],c)\n",
    "    atlas_export.ix[n, 'label'] = myAtlas.compound_identifications[i].name\n",
    "    atlas_export.ix[n,'rt_min'] = myAtlas.compound_identifications[i].rt_references[0].rt_min\n",
    "    atlas_export.ix[n,'rt_max'] = myAtlas.compound_identifications[i].rt_references[0].rt_max\n",
    "    atlas_export.ix[n,'rt_peak'] = myAtlas.compound_identifications[i].rt_references[0].rt_peak\n",
    "    atlas_export.ix[n,'mz'] = myAtlas.compound_identifications[i].mz_references[0].mz\n",
    "    atlas_export.ix[n,'mz_tolerance'] = myAtlas.compound_identifications[i].mz_references[0].mz_tolerance\n",
    "    atlas_export.ix[n,'polarity'] = myAtlas.compound_identifications[i].mz_references[0].detected_polarity\n",
    "atlas_export.to_csv('Info_for_compounds_in_atlas/20160229_compound_info_osmolytes_pos.csv')\n"
   ]
  },
  {
   "cell_type": "markdown",
   "metadata": {},
   "source": [
    "## At the bottom specify a pickle filename"
   ]
  },
  {
   "cell_type": "code",
   "execution_count": 7,
   "metadata": {
    "collapsed": false,
    "scrolled": true
   },
   "outputs": [
    {
     "name": "stdout",
     "output_type": "stream",
     "text": [
      "0 5 /global/project/projectdirs/metatlas/raw_data/kblouie/20160202_KBL_QE_HILIC_BrachyExu_Vogel/201622_pHILIC___POS_MSMS_KBL_Qex_Root_BrachyExudate_13_time_3_hr__Run25.h5\n",
      "0 5 /global/project/projectdirs/metatlas/raw_data/kblouie/20160202_KBL_QE_HILIC_BrachyExu_Vogel/201622_pHILIC___POS_MSMS_KBL_Qex_Root_BrachyExudate_20_time_3_hr__Run34.h5\n",
      "0 5 /global/project/projectdirs/metatlas/raw_data/kblouie/20160202_KBL_QE_HILIC_BrachyExu_Vogel/201622_pHILIC___POS_MSMS_KBL_Qex_Root_BrachyExudate_21_time_3_hr__Run60.h5\n",
      "0 5 /global/project/projectdirs/metatlas/raw_data/kblouie/20160202_KBL_QE_HILIC_BrachyExu_Vogel/201622_pHILIC___POS_MSMS_KBL_Qex_Root_BrachyExudate_9_time_3_hr__Run7.h5\n",
      "1 5 /global/project/projectdirs/metatlas/raw_data/kblouie/20160202_KBL_QE_HILIC_BrachyExu_Vogel/201622_pHILIC___POS_MSMS_KBL_Qex_Root_BrachyExudate_16_time_5_hr__Run31.h5\n",
      "1 5 /global/project/projectdirs/metatlas/raw_data/kblouie/20160202_KBL_QE_HILIC_BrachyExu_Vogel/201622_pHILIC___POS_MSMS_KBL_Qex_Root_BrachyExudate_17_time_5_hr__Run51.h5\n",
      "1 5 /global/project/projectdirs/metatlas/raw_data/kblouie/20160202_KBL_QE_HILIC_BrachyExu_Vogel/201622_pHILIC___POS_MSMS_KBL_Qex_Root_BrachyExudate_19_time_5_hr__Run63.h5\n",
      "1 5 /global/project/projectdirs/metatlas/raw_data/kblouie/20160202_KBL_QE_HILIC_BrachyExu_Vogel/201622_pHILIC___POS_MSMS_KBL_Qex_Root_BrachyExudate_3_time_5_hr__Run10.h5\n",
      "2 5 /global/project/projectdirs/metatlas/raw_data/kblouie/20160202_KBL_QE_HILIC_BrachyExu_Vogel/201622_pHILIC___POS_MSMS_KBL_Qex_Root_BrachyExudate_18_time_1_hr__Run42.h5\n",
      "2 5 /global/project/projectdirs/metatlas/raw_data/kblouie/20160202_KBL_QE_HILIC_BrachyExu_Vogel/201622_pHILIC___POS_MSMS_KBL_Qex_Root_BrachyExudate_1_time_1_hr__Run4.h5\n",
      "2 5 /global/project/projectdirs/metatlas/raw_data/kblouie/20160202_KBL_QE_HILIC_BrachyExu_Vogel/201622_pHILIC___POS_MSMS_KBL_Qex_Root_BrachyExudate_22_time_1_hr__Run54.h5\n",
      "2 5 /global/project/projectdirs/metatlas/raw_data/kblouie/20160202_KBL_QE_HILIC_BrachyExu_Vogel/201622_pHILIC___POS_MSMS_KBL_Qex_Root_BrachyExudate_6_time_1_hr__Run19.h5\n",
      "3 5 /global/project/projectdirs/metatlas/raw_data/kblouie/20160202_KBL_QE_HILIC_BrachyExu_Vogel/201622_pHILIC___POS_MSMS_KBL_Qex_Root_BrachyExudate_10_time_10_hr__Run66.h5\n",
      "3 5 /global/project/projectdirs/metatlas/raw_data/kblouie/20160202_KBL_QE_HILIC_BrachyExu_Vogel/201622_pHILIC___POS_MSMS_KBL_Qex_Root_BrachyExudate_2_time_10_hr__Run13.h5\n",
      "3 5 /global/project/projectdirs/metatlas/raw_data/kblouie/20160202_KBL_QE_HILIC_BrachyExu_Vogel/201622_pHILIC___POS_MSMS_KBL_Qex_Root_BrachyExudate_5_time_10_hr__Run22.h5\n",
      "3 5 /global/project/projectdirs/metatlas/raw_data/kblouie/20160202_KBL_QE_HILIC_BrachyExu_Vogel/201622_pHILIC___POS_MSMS_KBL_Qex_Root_BrachyExudate_7_time_10_hr__Run48.h5\n",
      "4 5 /global/project/projectdirs/metatlas/raw_data/kblouie/20160202_KBL_QE_HILIC_BrachyExu_Vogel/201622_pHILIC___POS_MSMS_KBL_Qex_Root_BrachyExudate_14_time_20_hr__Run39.h5\n",
      "4 5 /global/project/projectdirs/metatlas/raw_data/kblouie/20160202_KBL_QE_HILIC_BrachyExu_Vogel/201622_pHILIC___POS_MSMS_KBL_Qex_Root_BrachyExudate_8_time_20_hr__Run57.h5\n"
     ]
    }
   ],
   "source": [
    "# get and pickle everything This is MSMS, raw MS1 datapoints, compound, group info, and file info\n",
    "# combine positive and negative mode atlas, by join atlases together vs two compound references\n",
    "# typically file-groups are NOT split by polarity, files with un-matched polarity will be discarded for analysis of an identification\n",
    "from metatlas import h5_query as h5q\n",
    "import os\n",
    "import tables\n",
    "import dill\n",
    "ma_data = reload(ma_data)\n",
    "data = []\n",
    "for i,treatment_groups in enumerate(group):\n",
    "    for j in range(len(treatment_groups.items)):\n",
    "        myFile = treatment_groups.items[j].hdf5_file\n",
    "#         try:\n",
    "#             rt_reference_index = int(treatment_groups.name[-1]) - 1\n",
    "#         except:\n",
    "#             rt_reference_index = 3\n",
    "        print i,len(group),myFile\n",
    "        row = []\n",
    "        for compound in myAtlas.compound_identifications:\n",
    "            result = {}\n",
    "            result['lcmsrun'] = treatment_groups.items[j]\n",
    "            result['group'] = treatment_groups\n",
    "            result['identification'] = compound\n",
    "            result['data'] = ma_data.get_data_for_a_compound(compound.mz_references[0],\n",
    "                                    compound.rt_references[0],\n",
    "                                    [ 'ms1_summary', 'eic', 'msms' ],\n",
    "                                    myFile,0.2)\n",
    "            # print result['data']['ms1_summary']\n",
    "            row.append(result)\n",
    "        data.append(row)\n",
    "with open('Pickle_files/20160224_KBL_Brachy_Exudate_Pos_QE_Hilic_osmolytes.pkl','w') as f:\n",
    "    dill.dump(data,f)"
   ]
  },
  {
   "cell_type": "code",
   "execution_count": null,
   "metadata": {
    "collapsed": true
   },
   "outputs": [],
   "source": []
  }
 ],
 "metadata": {
  "kernelspec": {
   "display_name": "Python 2",
   "language": "python",
   "name": "python2"
  },
  "language_info": {
   "codemirror_mode": {
    "name": "ipython",
    "version": 2
   },
   "file_extension": ".py",
   "mimetype": "text/x-python",
   "name": "python",
   "nbconvert_exporter": "python",
   "pygments_lexer": "ipython2",
   "version": "2.7.10"
  }
 },
 "nbformat": 4,
 "nbformat_minor": 0
}
