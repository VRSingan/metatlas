{
 "cells": [
  {
   "cell_type": "code",
   "execution_count": 1,
   "metadata": {
    "collapsed": false
   },
   "outputs": [
    {
     "name": "stderr",
     "output_type": "stream",
     "text": [
      ":0: FutureWarning: IPython widgets are experimental and may change in the future.\n"
     ]
    }
   ],
   "source": [
    "import sys\n",
    "sys.path.insert(0,'/global/project/projectdirs/metatlas/anaconda/lib/python2.7/site-packages' )\n",
    "from metatlas import metatlas_objects as metob\n",
    "import qgrid\n",
    "import pandas as pd\n",
    "%matplotlib notebook\n"
   ]
  },
  {
   "cell_type": "code",
   "execution_count": 4,
   "metadata": {
    "collapsed": false
   },
   "outputs": [
    {
     "data": {
      "text/html": [
       "<div>\n",
       "<table border=\"1\" class=\"dataframe\">\n",
       "  <thead>\n",
       "    <tr style=\"text-align: right;\">\n",
       "      <th></th>\n",
       "      <th>mzml_file</th>\n",
       "      <th>group</th>\n",
       "      <th>description</th>\n",
       "    </tr>\n",
       "  </thead>\n",
       "  <tbody>\n",
       "    <tr>\n",
       "      <th>0</th>\n",
       "      <td>20160119_pHILIC___NEG_MSMS_KZ_HA56_C_Mesorhizo...</td>\n",
       "      <td>20160119_KZ_Exu_HA56_hilic_neg</td>\n",
       "      <td>NaN</td>\n",
       "    </tr>\n",
       "  </tbody>\n",
       "</table>\n",
       "</div>"
      ],
      "text/plain": [
       "                                           mzml_file  \\\n",
       "0  20160119_pHILIC___NEG_MSMS_KZ_HA56_C_Mesorhizo...   \n",
       "\n",
       "                            group  description  \n",
       "0  20160119_KZ_Exu_HA56_hilic_neg          NaN  "
      ]
     },
     "execution_count": 4,
     "metadata": {},
     "output_type": "execute_result"
    }
   ],
   "source": [
    "# my_rem_file = '20151210_FileInfoSheet_Archetypes_files to delete_C18.csv'\n",
    "my_rem_file = '../atlas_finfo_to_be_loaded/Grouping_add.txt'\n",
    "df = pd.read_csv(my_rem_file,sep='\\t')\n",
    "df"
   ]
  },
  {
   "cell_type": "code",
   "execution_count": 5,
   "metadata": {
    "collapsed": false
   },
   "outputs": [],
   "source": [
    "# Remove runs from group\n",
    "for i, row in df.iterrows():\n",
    "    groups = metob.retrieve('Groups',name='%%%s'%df.loc[i,'group'],username='*')\n",
    "    for g in groups:\n",
    "        items = []\n",
    "        to_save = 0\n",
    "        for f in g.items:\n",
    "            if not df.loc[i,'mzml_file'] in f.mzml_file:\n",
    "                items.append(f)\n",
    "            else:\n",
    "                to_save = 1\n",
    "        if to_save == 1:\n",
    "            g.items = items\n",
    "#             metob.store(g)"
   ]
  },
  {
   "cell_type": "code",
   "execution_count": 20,
   "metadata": {
    "collapsed": false
   },
   "outputs": [
    {
     "name": "stdout",
     "output_type": "stream",
     "text": [
      "2\n",
      "3\n"
     ]
    }
   ],
   "source": [
    "#add runs to group\n",
    "for i, row in df.iterrows():\n",
    "    groups = metob.retrieve('Groups',name='%%%s'%df.loc[i,'group'],username='*')\n",
    "    for g in groups:\n",
    "        files = metob.retrieve('LcmsRun',mzml_file='%%%s'%df.loc[i,'mzml_file'],username='*')\n",
    "        for f in files:\n",
    "            print len(g.items)\n",
    "            g.items.append(f)\n",
    "            print len(g.items)\n",
    "            metob.store([g])\n",
    "    "
   ]
  },
  {
   "cell_type": "code",
   "execution_count": 21,
   "metadata": {
    "collapsed": false
   },
   "outputs": [
    {
     "name": "stdout",
     "output_type": "stream",
     "text": [
      "3\n",
      "20160119_pHILIC___NEG_MSMS_KZ_HA56_A_Mesorhizobium_sp_URHA0056______Run52.mzML\n",
      "20160119_pHILIC___NEG_MSMS_KZ_HA56_D_Mesorhizobium_sp_URHA0056______Run221.mzML\n",
      "20160119_pHILIC___NEG_MSMS_KZ_HA56_C_Mesorhizobium_sp_URHA0056______Run169.mzML\n"
     ]
    }
   ],
   "source": [
    "\n",
    "groups = metob.retrieve('Groups',name='20160119_KZ_Exu_HA56_hilic_neg',username='*')\n",
    "print len(groups[0].items)\n",
    "for g in groups:\n",
    "    for i in g.items:\n",
    "        print i.name\n"
   ]
  },
  {
   "cell_type": "code",
   "execution_count": 17,
   "metadata": {
    "collapsed": false
   },
   "outputs": [
    {
     "name": "stdout",
     "output_type": "stream",
     "text": [
      "20160119_pHILIC___NEG_MSMS_KZ_HA56_C_Mesorhizobium_sp_URHA0056______Run169.mzML\n"
     ]
    }
   ],
   "source": [
    "for f in files:\n",
    "    print f.name"
   ]
  },
  {
   "cell_type": "code",
   "execution_count": 16,
   "metadata": {
    "collapsed": false
   },
   "outputs": [
    {
     "data": {
      "text/plain": [
       "[{'creation_time': '2016-02-17T20:45:15',\n",
       "  'description': u'nan',\n",
       "  'head_id': u'cc421ce0517f4fc5bec02eabc7bcf2a2',\n",
       "  'items': [{'creation_time': '2016-02-11T01:08:10',\n",
       "  'description': u'20160119_KZ_HILIC_Avena_exu_uptake 20160119_pHILIC___NEG_MSMS_KZ_HA56_A_Mesorhizobium_sp_URHA0056______Run52.mzML',\n",
       "  'experiment': u'20160119_KZ_HILIC_Avena_exu_uptake',\n",
       "  'hdf5_file': u'/global/project/projectdirs/metatlas/raw_data/katezh/20160119_KZ_HILIC_Avena_exu_uptake/20160119_pHILIC___NEG_MSMS_KZ_HA56_A_Mesorhizobium_sp_URHA0056______Run52.h5',\n",
       "  'head_id': u'acd1d0759cb74c5aaf72b1ae7c324326',\n",
       "  'last_modified': '2016-02-17T20:45:15',\n",
       "  'method': None,\n",
       "  'mzml_file': u'/global/project/projectdirs/metatlas/raw_data/katezh/20160119_KZ_HILIC_Avena_exu_uptake/20160119_pHILIC___NEG_MSMS_KZ_HA56_A_Mesorhizobium_sp_URHA0056______Run52.mzML',\n",
       "  'name': u'20160119_pHILIC___NEG_MSMS_KZ_HA56_A_Mesorhizobium_sp_URHA0056______Run52.mzML',\n",
       "  'prev_uid': u'origin',\n",
       "  'sample': None,\n",
       "  'unique_id': u'acd1d0759cb74c5aaf72b1ae7c324326',\n",
       "  'username': u'bpb'},\n",
       "            {'creation_time': '2016-02-11T01:08:10',\n",
       "  'description': u'20160119_KZ_HILIC_Avena_exu_uptake 20160119_pHILIC___NEG_MSMS_KZ_HA56_D_Mesorhizobium_sp_URHA0056______Run221.mzML',\n",
       "  'experiment': u'20160119_KZ_HILIC_Avena_exu_uptake',\n",
       "  'hdf5_file': u'/global/project/projectdirs/metatlas/raw_data/katezh/20160119_KZ_HILIC_Avena_exu_uptake/20160119_pHILIC___NEG_MSMS_KZ_HA56_D_Mesorhizobium_sp_URHA0056______Run221.h5',\n",
       "  'head_id': u'df55489a548243a2b2f55c37c8065c82',\n",
       "  'last_modified': '2016-02-17T20:45:15',\n",
       "  'method': None,\n",
       "  'mzml_file': u'/global/project/projectdirs/metatlas/raw_data/katezh/20160119_KZ_HILIC_Avena_exu_uptake/20160119_pHILIC___NEG_MSMS_KZ_HA56_D_Mesorhizobium_sp_URHA0056______Run221.mzML',\n",
       "  'name': u'20160119_pHILIC___NEG_MSMS_KZ_HA56_D_Mesorhizobium_sp_URHA0056______Run221.mzML',\n",
       "  'prev_uid': u'origin',\n",
       "  'sample': None,\n",
       "  'unique_id': u'df55489a548243a2b2f55c37c8065c82',\n",
       "  'username': u'bpb'}],\n",
       "  'last_modified': '2016-02-19T22:18:22',\n",
       "  'name': u'20160119_KZ_Exu_HA56_hilic_neg',\n",
       "  'prev_uid': u'16e5936525d94821aa0433b0dc501a10',\n",
       "  'unique_id': u'cc421ce0517f4fc5bec02eabc7bcf2a2',\n",
       "  'username': u'bpb'}]"
      ]
     },
     "execution_count": 16,
     "metadata": {},
     "output_type": "execute_result"
    }
   ],
   "source": [
    "groups"
   ]
  },
  {
   "cell_type": "code",
   "execution_count": null,
   "metadata": {
    "collapsed": true
   },
   "outputs": [],
   "source": []
  }
 ],
 "metadata": {
  "kernelspec": {
   "display_name": "Python 2",
   "language": "python",
   "name": "python2"
  },
  "language_info": {
   "codemirror_mode": {
    "name": "ipython",
    "version": 2
   },
   "file_extension": ".py",
   "mimetype": "text/x-python",
   "name": "python",
   "nbconvert_exporter": "python",
   "pygments_lexer": "ipython2",
   "version": "2.7.10"
  }
 },
 "nbformat": 4,
 "nbformat_minor": 0
}
