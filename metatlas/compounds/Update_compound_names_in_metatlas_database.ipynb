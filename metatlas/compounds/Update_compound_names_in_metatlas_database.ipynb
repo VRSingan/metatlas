{
 "cells": [
  {
   "cell_type": "code",
   "execution_count": 1,
   "metadata": {
    "collapsed": false
   },
   "outputs": [],
   "source": [
    "\n",
    "import pandas as pd\n"
   ]
  },
  {
   "cell_type": "code",
   "execution_count": 15,
   "metadata": {
    "collapsed": false
   },
   "outputs": [],
   "source": [
    "df = pd.read_pickle('/project/projectdirs/openmsi/projects/ben_run_pactolus/unique_compounds_updated_pubchem_info.pkl')\n",
    "df = df[df.new_common_name.str.contains('[A-Za-z0-9]+')]"
   ]
  },
  {
   "cell_type": "code",
   "execution_count": 16,
   "metadata": {
    "collapsed": false
   },
   "outputs": [],
   "source": [
    "def shorten_synonyms(row):\n",
    "    synonym_list = row.new_synonyms.split('///')\n",
    "    if len(synonym_list) > 50:\n",
    "        return '///'.join(synonym_list[:50])\n",
    "    else:\n",
    "        return row.new_synonyms\n",
    "df.new_synonyms = df.apply(shorten_synonyms,axis=1)"
   ]
  },
  {
   "cell_type": "code",
   "execution_count": 17,
   "metadata": {
    "collapsed": false,
    "scrolled": false
   },
   "outputs": [],
   "source": [
    "import time\n",
    "list_of_updates = []\n",
    "for i,row in df.iterrows():\n",
    "    update_dict = dict(inchi_key=row.metatlas_inchi_key, \n",
    "                       name=row.new_common_name,\n",
    "                       synonyms = row.new_synonyms,\n",
    "                       pubchem_compound_id = unicode('%d'%row.new_pubchem_compound_id),\n",
    "                       pubchem_url = unicode('http://pubchem.ncbi.nlm.nih.gov/compound/%d'%row.new_pubchem_compound_id)\n",
    "                    )\n",
    "    list_of_updates.append(update_dict)\n",
    "# for i in range(100):\n",
    "#     compounds.update(list_of_updates[i],['inchi_key'])\n",
    "#     print time.time() - t0"
   ]
  },
  {
   "cell_type": "code",
   "execution_count": null,
   "metadata": {
    "collapsed": false,
    "scrolled": false
   },
   "outputs": [
    {
     "name": "stdout",
     "output_type": "stream",
     "text": [
      "1000\n",
      "724.255877972\n",
      "2000\n",
      "1451.11270308\n",
      "3000\n",
      "2174.93267918\n",
      "4000\n",
      "2898.36356497\n"
     ]
    }
   ],
   "source": [
    "import sys\n",
    "sys.path.insert(0,'/global/project/projectdirs/metatlas/anaconda/lib/python2.7/site-packages' )\n",
    "from metatlas import metatlas_objects as metob\n",
    "db = metob.database\n",
    "compounds = db['compounds']\n",
    "affected = []\n",
    "counter = 0\n",
    "t0 = time.time()\n",
    "for d in list_of_updates:\n",
    "    L = compounds.update(d, ['inchi_key'])\n",
    "    affected.append(L)\n",
    "    counter += 1\n",
    "    if counter == 1e3:\n",
    "        print len(affected)\n",
    "        print time.time() - t0\n",
    "        counter = 0"
   ]
  },
  {
   "cell_type": "code",
   "execution_count": 26,
   "metadata": {
    "collapsed": false
   },
   "outputs": [
    {
     "data": {
      "text/plain": [
       "72979"
      ]
     },
     "execution_count": 26,
     "metadata": {},
     "output_type": "execute_result"
    }
   ],
   "source": [
    "len(affected)"
   ]
  },
  {
   "cell_type": "code",
   "execution_count": 28,
   "metadata": {
    "collapsed": false
   },
   "outputs": [
    {
     "data": {
      "text/plain": [
       "126437"
      ]
     },
     "execution_count": 28,
     "metadata": {},
     "output_type": "execute_result"
    }
   ],
   "source": [
    "len(list_of_updates)"
   ]
  },
  {
   "cell_type": "code",
   "execution_count": null,
   "metadata": {
    "collapsed": false
   },
   "outputs": [],
   "source": [
    "d"
   ]
  },
  {
   "cell_type": "code",
   "execution_count": 27,
   "metadata": {
    "collapsed": false
   },
   "outputs": [
    {
     "data": {
      "text/plain": [
       "126437"
      ]
     },
     "execution_count": 27,
     "metadata": {},
     "output_type": "execute_result"
    }
   ],
   "source": [
    "72979+53458\n"
   ]
  },
  {
   "cell_type": "code",
   "execution_count": null,
   "metadata": {
    "collapsed": true
   },
   "outputs": [],
   "source": []
  }
 ],
 "metadata": {
  "kernelspec": {
   "display_name": "Python 2",
   "language": "python",
   "name": "python2"
  },
  "language_info": {
   "codemirror_mode": {
    "name": "ipython",
    "version": 2
   },
   "file_extension": ".py",
   "mimetype": "text/x-python",
   "name": "python",
   "nbconvert_exporter": "python",
   "pygments_lexer": "ipython2",
   "version": "2.7.11"
  }
 },
 "nbformat": 4,
 "nbformat_minor": 0
}
