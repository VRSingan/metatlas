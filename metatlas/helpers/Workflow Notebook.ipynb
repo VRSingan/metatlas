{
 "cells": [
  {
   "cell_type": "markdown",
   "metadata": {},
   "source": [
    "#Import Python Packages"
   ]
  },
  {
   "cell_type": "code",
   "execution_count": 1,
   "metadata": {
    "collapsed": false
   },
   "outputs": [
    {
     "name": "stdout",
     "output_type": "stream",
     "text": [
      "('Metatlas live in ', '/global/project/projectdirs/metatlas/anaconda/lib/python2.7/site-packages/metatlas')\n",
      "you're running on 2fd4a4f208fd at 172.17.0.15 \n"
     ]
    },
    {
     "name": "stderr",
     "output_type": "stream",
     "text": [
      ":0: FutureWarning: IPython widgets are experimental and may change in the future.\n"
     ]
    }
   ],
   "source": [
    "import sys\n",
    "sys.path.insert(0,'/global/homes/b/bpb/metatlas/metatlas/helpers/' )\n",
    "import dill2plots as dp\n",
    "%matplotlib inline"
   ]
  },
  {
   "cell_type": "markdown",
   "metadata": {},
   "source": [
    "#Make blank file-info sheet"
   ]
  },
  {
   "cell_type": "markdown",
   "metadata": {},
   "source": [
    "Get files from database"
   ]
  },
  {
   "cell_type": "code",
   "execution_count": 7,
   "metadata": {
    "collapsed": false
   },
   "outputs": [],
   "source": [
    "files = dp.get_metatlas_files(experiment = '%CA-MF',name = '%20160504%',most_recent = True)"
   ]
  },
  {
   "cell_type": "markdown",
   "metadata": {},
   "source": [
    "Save the files to an empty fileinfo sheet"
   ]
  },
  {
   "cell_type": "code",
   "execution_count": 9,
   "metadata": {
    "collapsed": false
   },
   "outputs": [],
   "source": [
    "dp.make_empty_fileinfo_sheet('/global/homes/b/bpb/Downloads/empty_ophelia_finfo.tab',files)"
   ]
  },
  {
   "cell_type": "markdown",
   "metadata": {},
   "source": [
    "#Create metatlas groups from filled in file-info sheet"
   ]
  },
  {
   "cell_type": "code",
   "execution_count": 12,
   "metadata": {
    "collapsed": false
   },
   "outputs": [],
   "source": [
    "dp = reload(dp)\n",
    "g = dp.make_groups_from_fileinfo_sheet('/global/homes/b/bpb/Downloads/20160517_RL_HM_6550_HILIC_CA-MF-groups.csv',filetype='csv',store=True)"
   ]
  },
  {
   "cell_type": "markdown",
   "metadata": {},
   "source": [
    "#Create a new Atlas in metatlas from a spreadsheet"
   ]
  },
  {
   "cell_type": "code",
   "execution_count": 71,
   "metadata": {
    "collapsed": true
   },
   "outputs": [],
   "source": [
    "import pandas as pd"
   ]
  },
  {
   "cell_type": "code",
   "execution_count": 93,
   "metadata": {
    "collapsed": false
   },
   "outputs": [
    {
     "name": "stdout",
     "output_type": "stream",
     "text": [
      "/global/homes/b/bpb/Downloads/hedlund/Not_Found_BrianHedlund_Atlas_POS_using_MSMS.csv\n",
      "/global/homes/b/bpb/Downloads/hedlund/RT_and_MSMS_BrianHedlund_Atlas_POS_using_MSMS.csv\n",
      "/global/homes/b/bpb/Downloads/hedlund/RT_BrianHedlund_Atlas_POS_using_MSMS.csv\n"
     ]
    }
   ],
   "source": [
    "path = '/global/homes/b/bpb/Downloads/hedlund/'\n",
    "input_file = 'BrianHedlund_Atlas_POS_using_MSMS.csv'\n",
    "df = pd.read_csv(path + input_file)\n",
    "df.loc[df.name == 'Arsenobetaine','name'] = ''\n",
    "output_file = 'Not_Found_' + input_file\n",
    "print path+output_file\n",
    "df[df.new_observed == 0][['name','label','rt_min','rt_max','rt_peak','mz','mz_tolerance']].to_csv(path+output_file)\n",
    "\n",
    "output_file = 'RT_and_MSMS_' + input_file\n",
    "print path+output_file\n",
    "df[df.new_observed == 1][['name','label','rt_min','rt_max','rt_peak','mz','mz_tolerance']].to_csv(path+output_file)\n",
    "\n",
    "output_file = 'RT_' + input_file\n",
    "print path+output_file\n",
    "df[df.new_observed == 2][['name','label','rt_min','rt_max','rt_peak','mz','mz_tolerance']].to_csv(path+output_file)"
   ]
  },
  {
   "cell_type": "code",
   "execution_count": 94,
   "metadata": {
    "collapsed": false,
    "scrolled": false
   },
   "outputs": [],
   "source": [
    "dp = reload(dp)\n",
    "# df3 = dp.get_formatted_atlas_from_google_sheet(polarity='POS',method='QE_HILIC', mz_tolerance=10)\n",
    "names = dp.make_atlas_from_spreadsheet('/global/homes/b/bpb/Downloads/hedlund/Not_Found_BrianHedlund_Atlas_POS_using_MSMS.csv',\n",
    "                                       'hedlund_hilic_qexactive_pos_not observed',\n",
    "                                       filetype='csv',\n",
    "                                       sheetname='',\n",
    "                                       polarity = 'positive',\n",
    "                                       store=True,\n",
    "#                                        dataframe = df3,\n",
    "                                      mz_tolerance = 20)\n",
    "\n",
    "names = dp.make_atlas_from_spreadsheet('/global/homes/b/bpb/Downloads/hedlund/RT_and_MSMS_BrianHedlund_Atlas_POS_using_MSMS.csv',\n",
    "                                       'hedlund_hilic_qexactive_pos_present',\n",
    "                                       filetype='csv',\n",
    "                                       sheetname='',\n",
    "                                       polarity = 'positive',\n",
    "                                       store=True,\n",
    "#                                        dataframe = df3,\n",
    "                                      mz_tolerance = 20)\n",
    "\n",
    "names = dp.make_atlas_from_spreadsheet('/global/homes/b/bpb/Downloads/hedlund/RT_BrianHedlund_Atlas_POS_using_MSMS.csv',\n",
    "                                       'hedlund_hilic_qexactive_pos_maybe',\n",
    "                                       filetype='csv',\n",
    "                                       sheetname='',\n",
    "                                       polarity = 'positive',\n",
    "                                       store=True,\n",
    "#                                        dataframe = df3,\n",
    "                                      mz_tolerance = 20)\n",
    "\n",
    "names = dp.make_atlas_from_spreadsheet('/global/homes/b/bpb/Downloads/hedlund/Not_Found_BrianHedlund_Atlas_NEG_using_MSMS.csv',\n",
    "                                       'hedlund_hilic_qexactive_neg_not observed',\n",
    "                                       filetype='csv',\n",
    "                                       sheetname='',\n",
    "                                       polarity = 'negative',\n",
    "                                       store=True,\n",
    "#                                        dataframe = df3,\n",
    "                                      mz_tolerance = 20)\n",
    "\n",
    "names = dp.make_atlas_from_spreadsheet('/global/homes/b/bpb/Downloads/hedlund/RT_and_MSMS_BrianHedlund_Atlas_NEG_using_MSMS.csv',\n",
    "                                       'hedlund_hilic_qexactive_neg_present',\n",
    "                                       filetype='csv',\n",
    "                                       sheetname='',\n",
    "                                       polarity = 'negative',\n",
    "                                       store=True,\n",
    "#                                        dataframe = df3,\n",
    "                                      mz_tolerance = 20)\n",
    "\n",
    "names = dp.make_atlas_from_spreadsheet('/global/homes/b/bpb/Downloads/hedlund/RT_BrianHedlund_Atlas_NEG_using_MSMS.csv',\n",
    "                                       'hedlund_hilic_qexactive_neg_maybe',\n",
    "                                       filetype='csv',\n",
    "                                       sheetname='',\n",
    "                                       polarity = 'negative',\n",
    "                                       store=True,\n",
    "#                                        dataframe = df3,\n",
    "                                      mz_tolerance = 20)"
   ]
  },
  {
   "cell_type": "code",
   "execution_count": 4,
   "metadata": {
    "collapsed": false
   },
   "outputs": [
    {
     "ename": "NameError",
     "evalue": "name 'project_label' is not defined",
     "output_type": "error",
     "traceback": [
      "\u001b[1;31m---------------------------------------------------------------------------\u001b[0m",
      "\u001b[1;31mNameError\u001b[0m                                 Traceback (most recent call last)",
      "\u001b[1;32m<ipython-input-4-e74e705aebd2>\u001b[0m in \u001b[0;36m<module>\u001b[1;34m()\u001b[0m\n\u001b[1;32m----> 1\u001b[1;33m \u001b[0mproject_label\u001b[0m\u001b[1;33m\u001b[0m\u001b[0m\n\u001b[0m",
      "\u001b[1;31mNameError\u001b[0m: name 'project_label' is not defined"
     ]
    }
   ],
   "source": [
    "project_label"
   ]
  },
  {
   "cell_type": "code",
   "execution_count": null,
   "metadata": {
    "collapsed": false,
    "scrolled": false
   },
   "outputs": [
    {
     "name": "stdout",
     "output_type": "stream",
     "text": [
      "/global/homes/b/bpb/Downloads/hedlund/set1/pickle_hedlund_hilic_qexactive_neg_not observed.pkl\n",
      "/global/homes/b/bpb/Downloads/hedlund/set1/hilic_qexactive_neg_not_observed\n",
      "/global/homes/b/bpb/Downloads/hedlund/set1/pickle_hedlund_hilic_qexactive_neg_present.pkl\n",
      "/global/homes/b/bpb/Downloads/hedlund/set1/hilic_qexactive_neg_present\n",
      "/global/homes/b/bpb/Downloads/hedlund/set1/pickle_hedlund_hilic_qexactive_neg_maybe.pkl\n",
      "/global/homes/b/bpb/Downloads/hedlund/set1/hilic_qexactive_neg_maybe\n",
      "/global/homes/b/bpb/Downloads/hedlund/set1/pickle_hedlund_hilic_qexactive_pos_not observed.pkl\n",
      "/global/homes/b/bpb/Downloads/hedlund/set1/hilic_qexactive_pos_not_observed\n",
      "/global/homes/b/bpb/Downloads/hedlund/set1/pickle_hedlund_hilic_qexactive_pos_maybe.pkl\n",
      "/global/homes/b/bpb/Downloads/hedlund/set1/hilic_qexactive_pos_maybe\n",
      "/global/homes/b/bpb/Downloads/hedlund/set1/pickle_hedlund_hilic_qexactive_pos_present.pkl"
     ]
    }
   ],
   "source": [
    "atlases = ['hedlund_hilic_qexactive_neg_not observed',\n",
    "        'hedlund_hilic_qexactive_neg_present',\n",
    "        'hedlund_hilic_qexactive_neg_maybe',\n",
    "        'hedlund_hilic_qexactive_pos_not observed',\n",
    "        'hedlund_hilic_qexactive_pos_maybe',\n",
    "        'hedlund_hilic_qexactive_pos_present']\n",
    "\n",
    "\n",
    "import os           \n",
    "\n",
    "for a in atlases:\n",
    "#     if 'neg' in a:\n",
    "#         group_str = '%hedlund%neg%'\n",
    "#     else:\n",
    "#         group_str = '%hedlund%pos%'\n",
    "#     groups = dp.select_groups_for_analysis(name = group_str, most_recent = True, remove_empty = True, filter_list = ['Set1'], exclude_list = ['QC','Blank'])\n",
    "        \n",
    "#     atlas = dp.get_metatlas_atlas(name=a,do_print = True)\n",
    "    \n",
    "#     TODO: Export the searched data instead of the atlas\n",
    "#     df = dp.export_atlas_to_spreadsheet(atlas[0],'/global/homes/b/bpb/Downloads/hedlund/set1/%s.csv'%a)\n",
    "    output_filename = '/global/homes/b/bpb/Downloads/hedlund/set1/pickle_%s.pkl'%a\n",
    "    print output_filename\n",
    "#     data = dp.get_data_for_groups_and_atlas(groups,atlas[0],output_filename,use_set1 = True)\n",
    "    \n",
    "    my_str = os.path.basename(output_filename).split('.')[0].replace(' ','_').replace('pickle_hedlund_','')\n",
    "    project_label = '/global/homes/b/bpb/Downloads/hedlund/set1/%s'%my_str\n",
    "    print project_label\n",
    "    peak_height = dp.make_output_dataframe(input_fname = output_filename, fieldname='peak_height' , output_loc=project_label+'/sheets')\n",
    "#     peak_area = dp.make_output_dataframe(input_fname = output_filename, fieldname='peak_area' , output_loc=project_label+'/sheets')\n",
    "#     rt_peak = dp.make_output_dataframe(input_fname = output_filename, fieldname='rt_peak' , output_loc=project_label+'/sheets')\n",
    "#     mz_centroid = dp.make_output_dataframe(input_fname = output_filename, fieldname='mz_centroid' , output_loc=project_label+'/sheets')\n",
    "\n",
    "    dp.plot_errorbar_plots(peak_height,input_fname = output_filename, output_loc=project_label+'/error_bar_peak_height')\n",
    "#     dp.plot_all_files_for_each_compound(input_fname = output_filename, nCols = 6, scale_y=False , output_loc=project_label+'/all_files_each_compound')\n",
    "#     dp.make_identification_figure(input_fname = output_filename, output_loc=project_label+'/identification')\n",
    "    \n",
    "    \n"
   ]
  },
  {
   "cell_type": "markdown",
   "metadata": {},
   "source": [
    "#Select groups of files to operate on"
   ]
  },
  {
   "cell_type": "code",
   "execution_count": 25,
   "metadata": {
    "collapsed": false
   },
   "outputs": [
    {
     "name": "stdout",
     "output_type": "stream",
     "text": [
      "0 RL_HM_6550_HILIC_20160517_MF0_Set2_Neg 2016-05-17 20:34:51\n",
      "1 RL_HM_6550_HILIC_20160517_CA0_Set2_Neg 2016-05-17 20:34:52\n",
      "2 RL_HM_6550_HILIC_20160517_CAM_Set2_Neg 2016-05-17 20:34:52\n",
      "3 RL_HM_6550_HILIC_20160517_CA1_Set2_Neg 2016-05-17 20:34:53\n",
      "4 RL_HM_6550_HILIC_20160517_MFM_Set2_Neg 2016-05-17 20:34:57\n",
      "5 RL_HM_6550_HILIC_20160517_MF2_Set2_Neg 2016-05-17 20:34:58\n",
      "6 RL_HM_6550_HILIC_20160517_CA3_Set2_Neg 2016-05-17 20:34:59\n",
      "7 RL_HM_6550_HILIC_20160517_MF1_Set2_Neg 2016-05-17 20:35:01\n",
      "8 RL_HM_6550_HILIC_20160517_CA2_Set2_Neg 2016-05-17 20:35:03\n"
     ]
    }
   ],
   "source": [
    "\n",
    "dp = reload(dp)\n",
    "\n",
    "groups = dp.select_groups_for_analysis(name = '%RL_HM_6550_HILIC_20160517_%Neg',most_recent = True, remove_empty = True, filter_list = [])#, exclude_list = ['QC','Blank'])\n",
    "# for g in groups:\n",
    "#     print g.name"
   ]
  },
  {
   "cell_type": "markdown",
   "metadata": {},
   "source": [
    "#Select Atlas to use"
   ]
  },
  {
   "cell_type": "code",
   "execution_count": 26,
   "metadata": {
    "collapsed": false
   },
   "outputs": [
    {
     "name": "stdout",
     "output_type": "stream",
     "text": [
      "0 50 RL_HM_6550_20160330_Neg_Hilic_Arkin_Ophelia 2016-04-05 14:34:53\n"
     ]
    }
   ],
   "source": [
    "dp = reload(dp)\n",
    "atlas = dp.get_metatlas_atlas(name='%RL_HM_%neg%',do_print = True)\n"
   ]
  },
  {
   "cell_type": "code",
   "execution_count": 27,
   "metadata": {
    "collapsed": false
   },
   "outputs": [
    {
     "data": {
      "text/plain": [
       "u'RL_HM_6550_20160330_Neg_Hilic_Arkin_Ophelia'"
      ]
     },
     "execution_count": 27,
     "metadata": {},
     "output_type": "execute_result"
    }
   ],
   "source": [
    "myAtlas = atlas[0]\n",
    "myAtlas.name"
   ]
  },
  {
   "cell_type": "markdown",
   "metadata": {},
   "source": [
    "#Export Atlas To Spreadsheet"
   ]
  },
  {
   "cell_type": "code",
   "execution_count": 28,
   "metadata": {
    "collapsed": false,
    "scrolled": false
   },
   "outputs": [
    {
     "data": {
      "text/html": [
       "<div>\n",
       "<table border=\"1\" class=\"dataframe\">\n",
       "  <thead>\n",
       "    <tr style=\"text-align: right;\">\n",
       "      <th></th>\n",
       "      <th>name</th>\n",
       "      <th>label</th>\n",
       "      <th>rt_min</th>\n",
       "      <th>rt_max</th>\n",
       "      <th>rt_peak</th>\n",
       "      <th>mz</th>\n",
       "      <th>mz_tolerance</th>\n",
       "      <th>polarity</th>\n",
       "      <th>has_fragmentation_reference</th>\n",
       "      <th>inchi</th>\n",
       "      <th>...</th>\n",
       "      <th>common_name</th>\n",
       "      <th>synonyms</th>\n",
       "      <th>pubchem_compound_id</th>\n",
       "      <th>lipidmaps_id</th>\n",
       "      <th>metacyc_id</th>\n",
       "      <th>hmdb_id</th>\n",
       "      <th>img_abc_id</th>\n",
       "      <th>chebi_id</th>\n",
       "      <th>kegg_id</th>\n",
       "      <th>metatlas_inchi</th>\n",
       "    </tr>\n",
       "  </thead>\n",
       "  <tbody>\n",
       "    <tr>\n",
       "      <th>0</th>\n",
       "      <td>1,6-Anhydrobeta-D-glucopyranose</td>\n",
       "      <td>1,6-Anhydrobeta-D-glucopyranose</td>\n",
       "      <td>3.90</td>\n",
       "      <td>6.0</td>\n",
       "      <td>4.452</td>\n",
       "      <td>161.045547</td>\n",
       "      <td>20</td>\n",
       "      <td>negative</td>\n",
       "      <td>False</td>\n",
       "      <td>NaN</td>\n",
       "      <td>...</td>\n",
       "      <td>NaN</td>\n",
       "      <td>NaN</td>\n",
       "      <td>NaN</td>\n",
       "      <td>NaN</td>\n",
       "      <td>NaN</td>\n",
       "      <td>NaN</td>\n",
       "      <td>NaN</td>\n",
       "      <td>NaN</td>\n",
       "      <td>NaN</td>\n",
       "      <td>NaN</td>\n",
       "    </tr>\n",
       "    <tr>\n",
       "      <th>1</th>\n",
       "      <td>2'-deoxycytidine</td>\n",
       "      <td>2'-Deoxycytidine</td>\n",
       "      <td>6.70</td>\n",
       "      <td>7.3</td>\n",
       "      <td>6.894</td>\n",
       "      <td>226.083330</td>\n",
       "      <td>20</td>\n",
       "      <td>negative</td>\n",
       "      <td>False</td>\n",
       "      <td>InChI=1S/C9H13N3O4/c10-7-1-2-12(9(15)11-7)8-3-...</td>\n",
       "      <td>...</td>\n",
       "      <td>Deoxycytidine///2'-deoxycytidine</td>\n",
       "      <td>Deoxyribose cytidine///4-amino-1-[(2R,4S,5R)-4...</td>\n",
       "      <td>13711///13711.0</td>\n",
       "      <td>nan</td>\n",
       "      <td>DEOXYCYTIDINE</td>\n",
       "      <td>HMDB00014</td>\n",
       "      <td>nan</td>\n",
       "      <td>CHEBI:15698</td>\n",
       "      <td>C00881</td>\n",
       "      <td>InChI=1S/C9H13N3O4/c10-7-1-2-12(9(15)11-7)8-3-...</td>\n",
       "    </tr>\n",
       "    <tr>\n",
       "      <th>2</th>\n",
       "      <td>2'-deoxyuridine</td>\n",
       "      <td>2'-Deoxyuridine</td>\n",
       "      <td>3.95</td>\n",
       "      <td>4.7</td>\n",
       "      <td>4.152</td>\n",
       "      <td>227.067345</td>\n",
       "      <td>20</td>\n",
       "      <td>negative</td>\n",
       "      <td>False</td>\n",
       "      <td>InChI=1S/C9H12N2O5/c12-4-6-5(13)3-8(16-6)11-2-...</td>\n",
       "      <td>...</td>\n",
       "      <td>Deoxyuridine///2'-deoxyuridine</td>\n",
       "      <td>1-(2-Deoxy-beta-D-erythro-pentofuranosyl)-2,4(...</td>\n",
       "      <td>13712.0///13712</td>\n",
       "      <td>nan</td>\n",
       "      <td>DEOXYURIDINE</td>\n",
       "      <td>HMDB00012</td>\n",
       "      <td>nan</td>\n",
       "      <td>CHEBI:16450</td>\n",
       "      <td>C00526</td>\n",
       "      <td>InChI=1S/C9H12N2O5/c12-4-6-5(13)3-8(16-6)11-2-...</td>\n",
       "    </tr>\n",
       "    <tr>\n",
       "      <th>3</th>\n",
       "      <td>2-Hydroxyphenylacetic acid</td>\n",
       "      <td>2-Hydroxyphenylacetic acid</td>\n",
       "      <td>3.10</td>\n",
       "      <td>3.7</td>\n",
       "      <td>3.268</td>\n",
       "      <td>151.040068</td>\n",
       "      <td>20</td>\n",
       "      <td>negative</td>\n",
       "      <td>False</td>\n",
       "      <td>NaN</td>\n",
       "      <td>...</td>\n",
       "      <td>NaN</td>\n",
       "      <td>NaN</td>\n",
       "      <td>NaN</td>\n",
       "      <td>NaN</td>\n",
       "      <td>NaN</td>\n",
       "      <td>NaN</td>\n",
       "      <td>NaN</td>\n",
       "      <td>NaN</td>\n",
       "      <td>NaN</td>\n",
       "      <td>NaN</td>\n",
       "    </tr>\n",
       "    <tr>\n",
       "      <th>4</th>\n",
       "      <td>2-ketobutyric acid</td>\n",
       "      <td>2-ketobutyric acid</td>\n",
       "      <td>4.80</td>\n",
       "      <td>5.8</td>\n",
       "      <td>5.144</td>\n",
       "      <td>101.024418</td>\n",
       "      <td>20</td>\n",
       "      <td>negative</td>\n",
       "      <td>False</td>\n",
       "      <td>NaN</td>\n",
       "      <td>...</td>\n",
       "      <td>NaN</td>\n",
       "      <td>NaN</td>\n",
       "      <td>NaN</td>\n",
       "      <td>NaN</td>\n",
       "      <td>NaN</td>\n",
       "      <td>NaN</td>\n",
       "      <td>NaN</td>\n",
       "      <td>NaN</td>\n",
       "      <td>NaN</td>\n",
       "      <td>NaN</td>\n",
       "    </tr>\n",
       "  </tbody>\n",
       "</table>\n",
       "<p>5 rows × 32 columns</p>\n",
       "</div>"
      ],
      "text/plain": [
       "                              name                            label  rt_min  \\\n",
       "0  1,6-Anhydrobeta-D-glucopyranose  1,6-Anhydrobeta-D-glucopyranose    3.90   \n",
       "1                 2'-deoxycytidine                 2'-Deoxycytidine    6.70   \n",
       "2                  2'-deoxyuridine                  2'-Deoxyuridine    3.95   \n",
       "3       2-Hydroxyphenylacetic acid       2-Hydroxyphenylacetic acid    3.10   \n",
       "4               2-ketobutyric acid               2-ketobutyric acid    4.80   \n",
       "\n",
       "   rt_max  rt_peak          mz  mz_tolerance  polarity  \\\n",
       "0     6.0    4.452  161.045547            20  negative   \n",
       "1     7.3    6.894  226.083330            20  negative   \n",
       "2     4.7    4.152  227.067345            20  negative   \n",
       "3     3.7    3.268  151.040068            20  negative   \n",
       "4     5.8    5.144  101.024418            20  negative   \n",
       "\n",
       "  has_fragmentation_reference  \\\n",
       "0                       False   \n",
       "1                       False   \n",
       "2                       False   \n",
       "3                       False   \n",
       "4                       False   \n",
       "\n",
       "                                               inchi  \\\n",
       "0                                                NaN   \n",
       "1  InChI=1S/C9H13N3O4/c10-7-1-2-12(9(15)11-7)8-3-...   \n",
       "2  InChI=1S/C9H12N2O5/c12-4-6-5(13)3-8(16-6)11-2-...   \n",
       "3                                                NaN   \n",
       "4                                                NaN   \n",
       "\n",
       "                         ...                          \\\n",
       "0                        ...                           \n",
       "1                        ...                           \n",
       "2                        ...                           \n",
       "3                        ...                           \n",
       "4                        ...                           \n",
       "\n",
       "                        common_name  \\\n",
       "0                               NaN   \n",
       "1  Deoxycytidine///2'-deoxycytidine   \n",
       "2    Deoxyuridine///2'-deoxyuridine   \n",
       "3                               NaN   \n",
       "4                               NaN   \n",
       "\n",
       "                                            synonyms pubchem_compound_id  \\\n",
       "0                                                NaN                 NaN   \n",
       "1  Deoxyribose cytidine///4-amino-1-[(2R,4S,5R)-4...     13711///13711.0   \n",
       "2  1-(2-Deoxy-beta-D-erythro-pentofuranosyl)-2,4(...     13712.0///13712   \n",
       "3                                                NaN                 NaN   \n",
       "4                                                NaN                 NaN   \n",
       "\n",
       "   lipidmaps_id     metacyc_id    hmdb_id  img_abc_id     chebi_id kegg_id  \\\n",
       "0           NaN            NaN        NaN         NaN          NaN     NaN   \n",
       "1           nan  DEOXYCYTIDINE  HMDB00014         nan  CHEBI:15698  C00881   \n",
       "2           nan   DEOXYURIDINE  HMDB00012         nan  CHEBI:16450  C00526   \n",
       "3           NaN            NaN        NaN         NaN          NaN     NaN   \n",
       "4           NaN            NaN        NaN         NaN          NaN     NaN   \n",
       "\n",
       "                                      metatlas_inchi  \n",
       "0                                                NaN  \n",
       "1  InChI=1S/C9H13N3O4/c10-7-1-2-12(9(15)11-7)8-3-...  \n",
       "2  InChI=1S/C9H12N2O5/c12-4-6-5(13)3-8(16-6)11-2-...  \n",
       "3                                                NaN  \n",
       "4                                                NaN  \n",
       "\n",
       "[5 rows x 32 columns]"
      ]
     },
     "execution_count": 28,
     "metadata": {},
     "output_type": "execute_result"
    }
   ],
   "source": [
    "dp = reload(dp)\n",
    "df = dp.export_atlas_to_spreadsheet(myAtlas,'/global/homes/b/bpb/Downloads/ophelia_20160517/neg_atlas.csv',unique_compounds_lookup_fname='/global/homes/b/bpb/notebooks/thoughts/uniquecompounds.csv')\n",
    "df.head()"
   ]
  },
  {
   "cell_type": "markdown",
   "metadata": {},
   "source": [
    "#Get Data and Save it"
   ]
  },
  {
   "cell_type": "code",
   "execution_count": 29,
   "metadata": {
    "collapsed": false,
    "scrolled": false
   },
   "outputs": [
    {
     "name": "stdout",
     "output_type": "stream",
     "text": [
      "0 9 /global/project/projectdirs/metatlas/raw_data/rlau/20160510_RL_HMOphelia_CA-MF/20160504_RL_HMArkin_CA-MF_6550_HILICNeg_MF0A_1_026.h5\n",
      "0 9 /global/project/projectdirs/metatlas/raw_data/rlau/20160510_RL_HMOphelia_CA-MF/20160504_RL_HMArkin_CA-MF_6550_HILICNeg_MF0B_1_019.h5\n",
      "0 9 /global/project/projectdirs/metatlas/raw_data/rlau/20160510_RL_HMOphelia_CA-MF/20160504_RL_HMArkin_CA-MF_6550_HILICNeg_MF0C_1_038.h5\n",
      "1 9 /global/project/projectdirs/metatlas/raw_data/rlau/20160510_RL_HMOphelia_CA-MF/20160504_RL_HMArkin_CA-MF_6550_HILICNeg_CA0A_1_010.h5\n",
      "1 9 /global/project/projectdirs/metatlas/raw_data/rlau/20160510_RL_HMOphelia_CA-MF/20160504_RL_HMArkin_CA-MF_6550_HILICNeg_CA0B_1_032.h5\n",
      "1 9 /global/project/projectdirs/metatlas/raw_data/rlau/20160510_RL_HMOphelia_CA-MF/20160504_RL_HMArkin_CA-MF_6550_HILICNeg_CA0C_1_025.h5\n",
      "2 9 /global/project/projectdirs/metatlas/raw_data/rlau/20160510_RL_HMOphelia_CA-MF/20160504_RL_HMArkin_CA-MF_6550_HILICNeg_CA0D_1_021.h5\n",
      "2 9 /global/project/projectdirs/metatlas/raw_data/rlau/20160510_RL_HMOphelia_CA-MF/20160504_RL_HMArkin_CA-MF_6550_HILICNeg_CA1D_1_033.h5\n",
      "2 9 /global/project/projectdirs/metatlas/raw_data/rlau/20160510_RL_HMOphelia_CA-MF/20160504_RL_HMArkin_CA-MF_6550_HILICNeg_CA2D_1_015.h5\n",
      "2 9 /global/project/projectdirs/metatlas/raw_data/rlau/20160510_RL_HMOphelia_CA-MF/20160504_RL_HMArkin_CA-MF_6550_HILICNeg_CA3D_1_031.h5\n",
      "3 9 /global/project/projectdirs/metatlas/raw_data/rlau/20160510_RL_HMOphelia_CA-MF/20160504_RL_HMArkin_CA-MF_6550_HILICNeg_CA1A_1_036.h5\n",
      "3 9 /global/project/projectdirs/metatlas/raw_data/rlau/20160510_RL_HMOphelia_CA-MF/20160504_RL_HMArkin_CA-MF_6550_HILICNeg_CA1B_1_011.h5\n",
      "3 9 /global/project/projectdirs/metatlas/raw_data/rlau/20160510_RL_HMOphelia_CA-MF/20160504_RL_HMArkin_CA-MF_6550_HILICNeg_CA1C_1_028.h5\n",
      "4 9 /global/project/projectdirs/metatlas/raw_data/rlau/20160510_RL_HMOphelia_CA-MF/20160504_RL_HMArkin_CA-MF_6550_HILICNeg_MF0D_1_034.h5\n",
      "4 9 /global/project/projectdirs/metatlas/raw_data/rlau/20160510_RL_HMOphelia_CA-MF/20160504_RL_HMArkin_CA-MF_6550_HILICNeg_MF1D_1_012.h5\n",
      "4 9 /global/project/projectdirs/metatlas/raw_data/rlau/20160510_RL_HMOphelia_CA-MF/20160504_RL_HMArkin_CA-MF_6550_HILICNeg_MF2D_1_024.h5\n",
      "5 9 /global/project/projectdirs/metatlas/raw_data/rlau/20160510_RL_HMOphelia_CA-MF/20160504_RL_HMArkin_CA-MF_6550_HILICNeg_MF2A_1_016.h5\n",
      "5 9 /global/project/projectdirs/metatlas/raw_data/rlau/20160510_RL_HMOphelia_CA-MF/20160504_RL_HMArkin_CA-MF_6550_HILICNeg_MF2B_1_037.h5\n",
      "5 9 /global/project/projectdirs/metatlas/raw_data/rlau/20160510_RL_HMOphelia_CA-MF/20160504_RL_HMArkin_CA-MF_6550_HILICNeg_MF2C_1_013.h5\n",
      "6 9 /global/project/projectdirs/metatlas/raw_data/rlau/20160510_RL_HMOphelia_CA-MF/20160504_RL_HMArkin_CA-MF_6550_HILICNeg_CA3A_1_008.h5\n",
      "6 9 /global/project/projectdirs/metatlas/raw_data/rlau/20160510_RL_HMOphelia_CA-MF/20160504_RL_HMArkin_CA-MF_6550_HILICNeg_CA3B_1_014.h5\n",
      "6 9 /global/project/projectdirs/metatlas/raw_data/rlau/20160510_RL_HMOphelia_CA-MF/20160504_RL_HMArkin_CA-MF_6550_HILICNeg_CA3C_1_009.h5\n",
      "7 9 /global/project/projectdirs/metatlas/raw_data/rlau/20160510_RL_HMOphelia_CA-MF/20160504_RL_HMArkin_CA-MF_6550_HILICNeg_MF1A_1_022.h5\n",
      "7 9 /global/project/projectdirs/metatlas/raw_data/rlau/20160510_RL_HMOphelia_CA-MF/20160504_RL_HMArkin_CA-MF_6550_HILICNeg_MF1B_1_020.h5\n",
      "7 9 /global/project/projectdirs/metatlas/raw_data/rlau/20160510_RL_HMOphelia_CA-MF/20160504_RL_HMArkin_CA-MF_6550_HILICNeg_MF1C_1_027.h5\n",
      "8 9 /global/project/projectdirs/metatlas/raw_data/rlau/20160510_RL_HMOphelia_CA-MF/20160504_RL_HMArkin_CA-MF_6550_HILICNeg_CA2A_1_007rerun.h5\n",
      "8 9 /global/project/projectdirs/metatlas/raw_data/rlau/20160510_RL_HMOphelia_CA-MF/20160504_RL_HMArkin_CA-MF_6550_HILICNeg_CA2B_1_023.h5\n",
      "8 9 /global/project/projectdirs/metatlas/raw_data/rlau/20160510_RL_HMOphelia_CA-MF/20160504_RL_HMArkin_CA-MF_6550_HILICNeg_CA2C_1_035.h5\n"
     ]
    }
   ],
   "source": [
    "# get and pickle everything This is MSMS, raw MS1 datapoints, compound, group info, and file info\n",
    "# combine positive and negative mode atlas, by join atlases together vs two compound references\n",
    "# typically file-groups are NOT split by polarity, files with un-matched polarity will be discarded for analysis of an identification\n",
    "dp = reload(dp)\n",
    "output_filename = '/global/homes/b/bpb/Downloads/ophelia_20160517/neg_data.pkl'\n",
    "data = dp.get_data_for_groups_and_atlas(groups,myAtlas,output_filename,use_set1 = False)"
   ]
  },
  {
   "cell_type": "code",
   "execution_count": 33,
   "metadata": {
    "collapsed": false
   },
   "outputs": [
    {
     "name": "stdout",
     "output_type": "stream",
     "text": [
      "9\n",
      "50\n",
      "nrows =  5\n",
      "length of ymax is  1400\n",
      "9\n",
      "50\n",
      "nrows =  5\n",
      "length of ymax is  1400\n",
      "12\n",
      "71\n",
      "nrows =  5\n",
      "length of ymax is  1988\n",
      "12\n",
      "71\n",
      "nrows =  5\n",
      "length of ymax is  1988\n"
     ]
    },
    {
     "data": {
      "text/plain": [
       "<matplotlib.figure.Figure at 0x7fd132d649d0>"
      ]
     },
     "metadata": {},
     "output_type": "display_data"
    }
   ],
   "source": [
    "# my_files = ['/global/homes/b/bpb/data/hedlund/20160503_Bhedlund_pHILIC_POS_Present.pkl',\n",
    "#            '/global/homes/b/bpb/data/hedlund/20160503_Bhedlund_pHILIC_POS_Maybe.pkl',\n",
    "#            '/global/homes/b/bpb/data/hedlund/20160503_Bhedlund_pHILIC_POS_Not_Observed.pkl',\n",
    "#            '/global/homes/b/bpb/data/hedlund/20160503_Bhedlund_pHILIC_NEG_Present.pkl',\n",
    "#            '/global/homes/b/bpb/data/hedlund/20160503_Bhedlund_pHILIC_NEG_Maybe.pkl',\n",
    "#            '/global/homes/b/bpb/data/hedlund/20160503_Bhedlund_pHILIC_NEG_Not_Observed.pkl']\n",
    "my_files = ['/global/homes/b/bpb/Downloads/ophelia_20160517/neg_data.pkl',\n",
    "            '/global/homes/b/bpb/Downloads/ophelia_20160517/pos_data.pkl']\n",
    "import os           \n",
    "dp = reload(dp)\n",
    "for my_file in my_files:\n",
    "    project_label = '/global/homes/b/bpb/Downloads/ophelia_20160517/%s'%os.path.basename(my_file).split('.')[0]\n",
    "    peak_height = dp.make_output_dataframe(input_fname = my_file, fieldname='peak_height' , output_loc=project_label+'/sheets')\n",
    "    dp.plot_errorbar_plots(peak_height,input_fname = my_file, output_loc=project_label+'/error_bar_peak_height')\n",
    "    dp.plot_all_compounds_for_each_file(input_fname = my_file, nCols = 6, scale_y=True , output_loc=project_label+'/scaled_all_compounds_each_file')\n",
    "    dp.plot_all_files_for_each_compound(input_fname = my_file, nCols = 6, scale_y=True , output_loc=project_label+'/scaled_all_files_each_compound')\n",
    "    dp.plot_all_compounds_for_each_file(input_fname = my_file, nCols = 6, scale_y=False , output_loc=project_label+'/all_compounds_each_file')\n",
    "    dp.plot_all_files_for_each_compound(input_fname = my_file, nCols = 6, scale_y=False , output_loc=project_label+'/all_files_each_compound')\n",
    "    dp.make_identification_figure(input_fname = my_file, output_loc=project_label+'/identification')"
   ]
  },
  {
   "cell_type": "markdown",
   "metadata": {},
   "source": [
    "#Load a pre-existing datafile"
   ]
  },
  {
   "cell_type": "code",
   "execution_count": 45,
   "metadata": {
    "collapsed": false
   },
   "outputs": [],
   "source": [
    "output_filename = '/global/homes/b/bpb/data/hedlund/20160503_Bhedlund_pHILIC_POS_Present.pkl'\n",
    "my_file = output_filename #'/global/homes/b/bpb/notebooks/MetAtlas_Workflow_20151123/20160420_Bhedlund_pHILIC_NEG_AllGroups_master_atlas.pkl'\n",
    "\n",
    "project_label = '/global/homes/b/bpb/Downloads/hedlund/TestIDFigs'\n",
    "data = dp.get_data(my_file)"
   ]
  },
  {
   "cell_type": "code",
   "execution_count": 51,
   "metadata": {
    "collapsed": false
   },
   "outputs": [
    {
     "data": {
      "text/plain": [
       "{'compound': [{'creation_time': '2015-10-08T17:36:23',\n",
       " 'description': u'',\n",
       " 'formula': u'C9H18O8',\n",
       " 'functional_sets': [],\n",
       " 'head_id': u'bb965dc128f04ea8a8bc426b80b31627',\n",
       " 'inchi': u'InChI=1S/C9H18O8/c10-1-4(2-11)16-9-8(15)7(14)6(13)5(3-12)17-9/h4-15H,1-3H2/t5-,6-,7+,8-,9+/m1/s1',\n",
       " 'inchi_key': None,\n",
       " 'last_modified': '2015-10-08T17:38:11',\n",
       " 'mono_isotopic_molecular_weight': 254.1001739501953,\n",
       " 'name': u'2-(&alpha;-D-glucopyranosyl)-<i>sn</i>-glycerol',\n",
       " 'neutralized_2d_inchi': None,\n",
       " 'neutralized_2d_inchi_key': None,\n",
       " 'neutralized_inchi': None,\n",
       " 'neutralized_inchi_key': None,\n",
       " 'number_components': None,\n",
       " 'permanent_charge': None,\n",
       " 'prev_uid': u'origin',\n",
       " 'reference_xrefs': [],\n",
       " 'synonyms': u'',\n",
       " 'unique_id': u'bb965dc128f04ea8a8bc426b80b31627',\n",
       " 'url': u'',\n",
       " 'username': u'bpb'}],\n",
       " 'creation_time': '2016-05-03T21:37:56',\n",
       " 'description': u'No description',\n",
       " 'frag_references': [],\n",
       " 'head_id': u'04afa82cfada434b90010989861ea36b',\n",
       " 'identification_grade': None,\n",
       " 'last_modified': '2016-05-03T21:37:59',\n",
       " 'mz_references': [{'adduct': u'',\n",
       " 'creation_time': '2016-05-03T21:37:56',\n",
       " 'description': u'No description',\n",
       " 'detected_polarity': 'positive',\n",
       " 'enabled': True,\n",
       " 'head_id': u'a3360e1766f34eceb7497083b254e159',\n",
       " 'last_modified': '2016-05-03T21:37:59',\n",
       " 'lcms_run': None,\n",
       " 'modification': u'',\n",
       " 'mz': 255.107424,\n",
       " 'mz_tolerance': 20.0,\n",
       " 'mz_tolerance_units': 'ppm',\n",
       " 'name': u'Untitled',\n",
       " 'observed_formula': u'',\n",
       " 'prev_uid': u'origin',\n",
       " 'ref_type': u'',\n",
       " 'unique_id': u'a3360e1766f34eceb7497083b254e159',\n",
       " 'username': u'bpb'}],\n",
       " 'name': u'glucosylglycerol',\n",
       " 'prev_uid': u'origin',\n",
       " 'rt_references': [{'creation_time': '2016-05-03T21:37:56',\n",
       " 'description': u'No description',\n",
       " 'enabled': True,\n",
       " 'head_id': u'89b20723d8bc404287e38acf6549fa52',\n",
       " 'last_modified': '2016-05-03T21:37:59',\n",
       " 'lcms_run': None,\n",
       " 'name': u'Untitled',\n",
       " 'prev_uid': u'origin',\n",
       " 'ref_type': u'',\n",
       " 'rt_max': 9.81,\n",
       " 'rt_min': 9.21,\n",
       " 'rt_peak': 9.510000000000002,\n",
       " 'rt_units': 'min',\n",
       " 'unique_id': u'89b20723d8bc404287e38acf6549fa52',\n",
       " 'username': u'bpb'}],\n",
       " 'unique_id': u'04afa82cfada434b90010989861ea36b',\n",
       " 'username': u'bpb'}"
      ]
     },
     "execution_count": 51,
     "metadata": {},
     "output_type": "execute_result"
    }
   ],
   "source": [
    "data[0][2]['identification']"
   ]
  },
  {
   "cell_type": "markdown",
   "metadata": {},
   "source": [
    "#Make Supplementary Tables"
   ]
  },
  {
   "cell_type": "code",
   "execution_count": 14,
   "metadata": {
    "collapsed": false
   },
   "outputs": [],
   "source": [
    "peak_height = dp.make_output_dataframe(input_fname = my_file, fieldname='peak_height' , output_loc=project_label+'/sheets')"
   ]
  },
  {
   "cell_type": "markdown",
   "metadata": {},
   "source": [
    "#Error bar"
   ]
  },
  {
   "cell_type": "code",
   "execution_count": 15,
   "metadata": {
    "collapsed": false
   },
   "outputs": [],
   "source": [
    "dp.plot_errorbar_plots(peak_height,input_fname = my_file, output_loc=project_label+'/error_bar_peak_height')"
   ]
  },
  {
   "cell_type": "markdown",
   "metadata": {},
   "source": [
    "#Make Chromatograms"
   ]
  },
  {
   "cell_type": "code",
   "execution_count": 16,
   "metadata": {
    "collapsed": false
   },
   "outputs": [
    {
     "name": "stdout",
     "output_type": "stream",
     "text": [
      "5\n",
      "40\n",
      "nrows =  13\n",
      "length of ymax is  2803\n",
      "5\n",
      "40\n",
      "nrows =  13\n",
      "length of ymax is  2803\n"
     ]
    },
    {
     "data": {
      "text/plain": [
       "<matplotlib.figure.Figure at 0x7f64cc4f1cd0>"
      ]
     },
     "metadata": {},
     "output_type": "display_data"
    }
   ],
   "source": [
    "dp = reload(dp)\n",
    "dp.plot_all_compounds_for_each_file(input_fname = my_file, nCols = 8, scale_y=True , output_loc=project_label+'/scaled_all_compounds_each_file')\n",
    "dp.plot_all_files_for_each_compound(input_fname = my_file, nCols = 6, scale_y=True , output_loc=project_label+'/scaled_all_files_each_compound')\n",
    "dp.plot_all_compounds_for_each_file(input_fname = my_file, nCols = 8, scale_y=False , output_loc=project_label+'/all_compounds_each_file')\n",
    "dp.plot_all_files_for_each_compound(input_fname = my_file, nCols = 6, scale_y=False , output_loc=project_label+'/all_files_each_compound')"
   ]
  },
  {
   "cell_type": "markdown",
   "metadata": {},
   "source": [
    "#Make Identification Figures"
   ]
  },
  {
   "cell_type": "code",
   "execution_count": 8,
   "metadata": {
    "collapsed": false
   },
   "outputs": [
    {
     "name": "stdout",
     "output_type": "stream",
     "text": [
      "6.59247657306\n",
      "21.4827464711\n",
      "6.84921022986\n",
      "2.65480287199\n",
      "6.25471107625\n",
      "1.5158428629\n",
      "13.3272408184\n",
      "5.11620742382\n",
      "71.8406682781\n",
      "6.08595159\n",
      "368.810113072\n",
      "0.462781928553\n",
      "503.98781674\n",
      "7.43189986404\n",
      "11.5629219351\n",
      "8.78786173883\n",
      "1.22372570539\n",
      "19.1785529618\n",
      "3.33191714632\n",
      "602.605887609\n",
      "4.42926455442\n",
      "0.220687110029\n",
      "0.665087360364\n",
      "0.0134621266239\n",
      "139.518487497\n",
      "25.1960069603\n",
      "31.7161324889\n",
      "56.0450795641\n",
      "3.003265765\n"
     ]
    }
   ],
   "source": [
    "dp = reload(dp)\n",
    "dp.make_identification_figure(input_fname = my_file, output_loc=project_label+'/identification')"
   ]
  },
  {
   "cell_type": "code",
   "execution_count": null,
   "metadata": {
    "collapsed": true
   },
   "outputs": [],
   "source": []
  },
  {
   "cell_type": "code",
   "execution_count": null,
   "metadata": {
    "collapsed": true
   },
   "outputs": [],
   "source": []
  }
 ],
 "metadata": {
  "kernelspec": {
   "display_name": "Python 2",
   "language": "python",
   "name": "python2"
  },
  "language_info": {
   "codemirror_mode": {
    "name": "ipython",
    "version": 2
   },
   "file_extension": ".py",
   "mimetype": "text/x-python",
   "name": "python",
   "nbconvert_exporter": "python",
   "pygments_lexer": "ipython2",
   "version": "2.7.11"
  }
 },
 "nbformat": 4,
 "nbformat_minor": 0
}
