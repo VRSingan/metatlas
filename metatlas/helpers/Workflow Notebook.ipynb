{
 "cells": [
  {
   "cell_type": "markdown",
   "metadata": {},
   "source": [
    "#Import Python Packages"
   ]
  },
  {
   "cell_type": "code",
   "execution_count": 1,
   "metadata": {
    "collapsed": false
   },
   "outputs": [
    {
     "name": "stdout",
     "output_type": "stream",
     "text": [
      "('Metatlas live in ', '/global/project/projectdirs/metatlas/anaconda/lib/python2.7/site-packages/metatlas')\n",
      "you're running on 6e08d5351d88 at 172.17.0.8 \n"
     ]
    },
    {
     "name": "stderr",
     "output_type": "stream",
     "text": [
      ":0: FutureWarning: IPython widgets are experimental and may change in the future.\n"
     ]
    }
   ],
   "source": [
    "import sys\n",
    "sys.path.insert(0,'/global/homes/b/bpb/metatlas/metatlas/helpers/' )\n",
    "import dill2plots as dp\n",
    "%matplotlib inline"
   ]
  },
  {
   "cell_type": "markdown",
   "metadata": {},
   "source": [
    "#Make blank file-info sheet"
   ]
  },
  {
   "cell_type": "markdown",
   "metadata": {},
   "source": [
    "Get files from database"
   ]
  },
  {
   "cell_type": "code",
   "execution_count": 10,
   "metadata": {
    "collapsed": false
   },
   "outputs": [],
   "source": [
    "files = dp.get_metatlas_files(experiment = '%hedlund%',name = '%hilic%',most_recent = True)"
   ]
  },
  {
   "cell_type": "markdown",
   "metadata": {},
   "source": [
    "Save the files to an empty fileinfo sheet"
   ]
  },
  {
   "cell_type": "code",
   "execution_count": 9,
   "metadata": {
    "collapsed": false
   },
   "outputs": [],
   "source": [
    "dp.make_empty_fileinfo_sheet('/global/homes/b/bpb/notebooks/atlas_finfo_to_be_loaded/hedlund_empty_fileinfo.tab',files)"
   ]
  },
  {
   "cell_type": "markdown",
   "metadata": {},
   "source": [
    "#Create metatlas groups from filled in file-info sheet"
   ]
  },
  {
   "cell_type": "code",
   "execution_count": 18,
   "metadata": {
    "collapsed": false
   },
   "outputs": [],
   "source": [
    "dp = reload(dp)\n",
    "g = dp.make_groups_from_fileinfo_sheet('/global/homes/b/bpb/notebooks/atlas_finfo_to_be_loaded/FileInfoSheet_BHedlund_AllFiles_20160413 (1).txt',store=False)"
   ]
  },
  {
   "cell_type": "markdown",
   "metadata": {},
   "source": [
    "#Create a new Atlas in metatlas from a spreadsheet"
   ]
  },
  {
   "cell_type": "code",
   "execution_count": 28,
   "metadata": {
    "collapsed": false
   },
   "outputs": [],
   "source": [
    "dp = reload(dp)\n",
    "names = dp.make_atlas_from_spreadsheet('/global/homes/b/bpb/notebooks/atlas_finfo_to_be_loaded/katherine_master_pos.txt',\n",
    "                                       'master_atlas_pos_hilic_20160421',\n",
    "                                       filetype='tab',\n",
    "                                       sheetname='',\n",
    "                                       polarity = 'positive',\n",
    "                                       store=False)"
   ]
  },
  {
   "cell_type": "markdown",
   "metadata": {},
   "source": [
    "#Select groups of files to operate on"
   ]
  },
  {
   "cell_type": "code",
   "execution_count": 2,
   "metadata": {
    "collapsed": false
   },
   "outputs": [
    {
     "name": "stdout",
     "output_type": "stream",
     "text": [
      "20160413_Bhedlund_pHILIC_POS_GBS_4OE_Ctrl_Set1\n",
      "20160413_Bhedlund_pHILIC_POS_G233_BMR_Set1\n",
      "20160413_Bhedlund_pHILIC_POS_GBS_32OE_inc_Set2\n",
      "20160413_Bhedlund_pHILIC_POS_JAD2_GBS_32OE_Set1\n",
      "20160413_Bhedlund_pHILIC_POS_QCmix_Set1\n",
      "20160413_Bhedlund_pHILIC_POS_Blank_Set1\n",
      "20160413_Bhedlund_pHILIC_POS_Blank_Set2\n",
      "20160413_Bhedlund_pHILIC_POS_JKG1_PR_Set1\n",
      "20160413_Bhedlund_pHILIC_POS_JAD2_GBS_Set1\n",
      "20160413_Bhedlund_pHILIC_POS_BMR_Beg_Set1\n",
      "20160413_Bhedlund_pHILIC_POS_JAD2_GBS_4OE_Set1\n",
      "20160413_Bhedlund_pHILIC_POS_BMR_End_Set1\n",
      "20160413_Bhedlund_pHILIC_POS_GBS_conc_inc_Set2\n",
      "20160413_Bhedlund_pHILIC_POS_GBS_Med_Ctrl_Set1\n",
      "20160413_Bhedlund_pHILIC_POS_GBS_32OE_Ctrl_Set1\n",
      "20160413_Bhedlund_pHILIC_POS_GBS_Med_inc_Set1\n",
      "20160413_Bhedlund_pHILIC_POS_JAD2_GBS_32OE_Set2\n",
      "20160413_Bhedlund_pHILIC_POS_PR_End_Set1\n",
      "20160413_Bhedlund_pHILIC_POS_GBS_32OE_Ctrl_Set2\n",
      "20160413_Bhedlund_pHILIC_POS_PR_Beg_Set1\n"
     ]
    }
   ],
   "source": [
    "groups = dp.select_groups_for_analysis(name = '%hedlund%pos%',most_recent = True, remove_empty = True, filter_list = [])\n",
    "for g in groups:\n",
    "    print g.name"
   ]
  },
  {
   "cell_type": "markdown",
   "metadata": {},
   "source": [
    "#Select Atlas to use"
   ]
  },
  {
   "cell_type": "code",
   "execution_count": 3,
   "metadata": {
    "collapsed": false
   },
   "outputs": [
    {
     "name": "stdout",
     "output_type": "stream",
     "text": [
      "0 20160224_KBL_Master_Atlas_Negative_QE_Hilic 2016-02-25 00:06:46\n",
      "1 katherine_master_atlas_pos_ALL_20160330 2016-03-31 16:49:48\n",
      "2 20160219_KBL_Negative_QE_HILIC_Master_Common 2016-02-19 23:22:01\n",
      "3 20160224_KBL_Master_Atlas_Positive_QE_Hilic 2016-02-25 00:08:48\n",
      "4 20160219_KBL_Positive_QE_HILIC_Master_Common 2016-02-19 23:21:10\n",
      "5 katherine_master_atlas_neg_ALL_20160330 2016-04-13 19:30:44\n"
     ]
    }
   ],
   "source": [
    "dp = reload(dp)\n",
    "atlas = dp.get_metatlas_atlas(name='%master%',do_print = True)\n"
   ]
  },
  {
   "cell_type": "code",
   "execution_count": 4,
   "metadata": {
    "collapsed": true
   },
   "outputs": [],
   "source": [
    "myAtlas = atlas[3]"
   ]
  },
  {
   "cell_type": "markdown",
   "metadata": {},
   "source": [
    "#Get Data and Save it"
   ]
  },
  {
   "cell_type": "code",
   "execution_count": 9,
   "metadata": {
    "collapsed": false
   },
   "outputs": [
    {
     "name": "stdout",
     "output_type": "stream",
     "text": [
      "0 20 /global/project/projectdirs/metatlas/raw_data/lpsilva/20150324_LPSilva_BHedlund_chloroflexi_POS_rerun/20150320_pHILIC_POS_MSMS_BH46.h5\n"
     ]
    },
    {
     "ename": "NameError",
     "evalue": "global name 'ma_data' is not defined",
     "output_type": "error",
     "traceback": [
      "\u001b[1;31m---------------------------------------------------------------------------\u001b[0m",
      "\u001b[1;31mNameError\u001b[0m                                 Traceback (most recent call last)",
      "\u001b[1;32m<ipython-input-9-43338eebde61>\u001b[0m in \u001b[0;36m<module>\u001b[1;34m()\u001b[0m\n\u001b[0;32m      4\u001b[0m \u001b[0mdp\u001b[0m \u001b[1;33m=\u001b[0m \u001b[0mreload\u001b[0m\u001b[1;33m(\u001b[0m\u001b[0mdp\u001b[0m\u001b[1;33m)\u001b[0m\u001b[1;33m\u001b[0m\u001b[0m\n\u001b[0;32m      5\u001b[0m \u001b[0moutput_filename\u001b[0m \u001b[1;33m=\u001b[0m \u001b[1;34m'/global/homes/b/bpb/notebooks/MetAtlas_Workflow_20151123/20160425_Bhedlund_pHILIC_NEG_AllGroups_master_atlas.pkl'\u001b[0m\u001b[1;33m\u001b[0m\u001b[0m\n\u001b[1;32m----> 6\u001b[1;33m \u001b[0mdata\u001b[0m \u001b[1;33m=\u001b[0m \u001b[0mdp\u001b[0m\u001b[1;33m.\u001b[0m\u001b[0mget_data_for_groups_and_atlas\u001b[0m\u001b[1;33m(\u001b[0m\u001b[0mgroups\u001b[0m\u001b[1;33m,\u001b[0m\u001b[0mmyAtlas\u001b[0m\u001b[1;33m,\u001b[0m\u001b[0moutput_filename\u001b[0m\u001b[1;33m,\u001b[0m\u001b[0muse_set1\u001b[0m \u001b[1;33m=\u001b[0m \u001b[0mTrue\u001b[0m\u001b[1;33m)\u001b[0m\u001b[1;33m\u001b[0m\u001b[0m\n\u001b[0m",
      "\u001b[1;32m/global/homes/b/bpb/metatlas/metatlas/helpers/dill2plots.py\u001b[0m in \u001b[0;36mget_data_for_groups_and_atlas\u001b[1;34m(group, myAtlas, output_filename, use_set1)\u001b[0m\n\u001b[0;32m    834\u001b[0m                     \u001b[0mtemp_compound\u001b[0m\u001b[1;33m.\u001b[0m\u001b[0mmz_references\u001b[0m\u001b[1;33m[\u001b[0m\u001b[1;36m0\u001b[0m\u001b[1;33m]\u001b[0m\u001b[1;33m.\u001b[0m\u001b[0mmz_tolerance\u001b[0m \u001b[1;33m=\u001b[0m \u001b[1;36m20\u001b[0m\u001b[1;33m\u001b[0m\u001b[0m\n\u001b[0;32m    835\u001b[0m                 \u001b[0mresult\u001b[0m\u001b[1;33m[\u001b[0m\u001b[1;34m'identification'\u001b[0m\u001b[1;33m]\u001b[0m \u001b[1;33m=\u001b[0m \u001b[0mtemp_compound\u001b[0m\u001b[1;33m\u001b[0m\u001b[0m\n\u001b[1;32m--> 836\u001b[1;33m                 result['data'] = ma_data.get_data_for_a_compound(temp_compound.mz_references[0],\n\u001b[0m\u001b[0;32m    837\u001b[0m                                         \u001b[0mtemp_compound\u001b[0m\u001b[1;33m.\u001b[0m\u001b[0mrt_references\u001b[0m\u001b[1;33m[\u001b[0m\u001b[1;36m0\u001b[0m\u001b[1;33m]\u001b[0m\u001b[1;33m,\u001b[0m\u001b[1;33m\u001b[0m\u001b[0m\n\u001b[0;32m    838\u001b[0m                                         \u001b[1;33m[\u001b[0m \u001b[1;34m'ms1_summary'\u001b[0m\u001b[1;33m,\u001b[0m \u001b[1;34m'eic'\u001b[0m\u001b[1;33m,\u001b[0m \u001b[1;34m'msms'\u001b[0m \u001b[1;33m]\u001b[0m\u001b[1;33m,\u001b[0m\u001b[1;33m\u001b[0m\u001b[0m\n",
      "\u001b[1;31mNameError\u001b[0m: global name 'ma_data' is not defined"
     ]
    }
   ],
   "source": [
    "# get and pickle everything This is MSMS, raw MS1 datapoints, compound, group info, and file info\n",
    "# combine positive and negative mode atlas, by join atlases together vs two compound references\n",
    "# typically file-groups are NOT split by polarity, files with un-matched polarity will be discarded for analysis of an identification\n",
    "dp = reload(dp)\n",
    "output_filename = '/global/homes/b/bpb/notebooks/MetAtlas_Workflow_20151123/20160425_Bhedlund_pHILIC_NEG_AllGroups_master_atlas.pkl'\n",
    "data = dp.get_data_for_groups_and_atlas(groups,myAtlas,output_filename,use_set1 = True)"
   ]
  },
  {
   "cell_type": "markdown",
   "metadata": {},
   "source": [
    "#Load a pre-existing datafile"
   ]
  },
  {
   "cell_type": "code",
   "execution_count": 7,
   "metadata": {
    "collapsed": false
   },
   "outputs": [],
   "source": [
    "my_file = '/global/homes/b/bpb/notebooks/MetAtlas_Workflow_20151123/20160420_Bhedlund_pHILIC_NEG_AllGroups_master_atlas.pkl'\n",
    "project_label = '20160420_Bhedlund_pHILIC_NEG_AllGroups_master_atlas'\n",
    "# data = dp.get_data(my_file)"
   ]
  },
  {
   "cell_type": "markdown",
   "metadata": {},
   "source": [
    "#Make Supplementary Tables"
   ]
  },
  {
   "cell_type": "code",
   "execution_count": 23,
   "metadata": {
    "collapsed": false
   },
   "outputs": [],
   "source": [
    "peak_height = dp.make_output_dataframe(input_fname = my_file, fieldname='peak_height' , output_loc=project_label+'/sheets')"
   ]
  },
  {
   "cell_type": "markdown",
   "metadata": {},
   "source": [
    "#Error bar"
   ]
  },
  {
   "cell_type": "code",
   "execution_count": 28,
   "metadata": {
    "collapsed": false
   },
   "outputs": [],
   "source": [
    "dp.plot_errorbar_plots(peak_height,input_fname = my_file, output_loc=project_label+'/error_bar_peak_height')"
   ]
  },
  {
   "cell_type": "markdown",
   "metadata": {},
   "source": [
    "#Make Chromatograms"
   ]
  },
  {
   "cell_type": "code",
   "execution_count": 9,
   "metadata": {
    "collapsed": false
   },
   "outputs": [
    {
     "name": "stdout",
     "output_type": "stream",
     "text": [
      "7\n",
      "74\n",
      "nrows =  8\n",
      "length of ymax is  5620\n"
     ]
    },
    {
     "data": {
      "text/plain": [
       "<matplotlib.figure.Figure at 0x7f018bdc9d10>"
      ]
     },
     "metadata": {},
     "output_type": "display_data"
    }
   ],
   "source": [
    "dp.plot_all_compounds_for_each_file(input_fname = my_file, nCols = 12, scale_y=True , output_loc=project_label+'/all_compounds_each_file')\n",
    "dp.plot_all_files_for_each_compound(input_fname = my_file, nCols = 12, scale_y=True , output_loc=project_label+'/all_files_each_compound')"
   ]
  },
  {
   "cell_type": "markdown",
   "metadata": {},
   "source": [
    "#Make Identification Figures"
   ]
  },
  {
   "cell_type": "code",
   "execution_count": 18,
   "metadata": {
    "collapsed": false
   },
   "outputs": [],
   "source": [
    "dp.make_identification_figure(input_fname = my_file, output_loc=project_label+'/identification')"
   ]
  },
  {
   "cell_type": "markdown",
   "metadata": {},
   "source": [
    "#Export Atlas To Spreadsheet"
   ]
  },
  {
   "cell_type": "code",
   "execution_count": 5,
   "metadata": {
    "collapsed": false,
    "scrolled": false
   },
   "outputs": [
    {
     "name": "stderr",
     "output_type": "stream",
     "text": [
      "//anaconda/lib/python2.7/site-packages/IPython/core/interactiveshell.py:3035: DtypeWarning: Columns (5,6,7,8,9) have mixed types. Specify dtype option on import or set low_memory=False.\n",
      "  exec(code_obj, self.user_global_ns, self.user_ns)\n"
     ]
    },
    {
     "data": {
      "text/html": [
       "<div>\n",
       "<table border=\"1\" class=\"dataframe\">\n",
       "  <thead>\n",
       "    <tr style=\"text-align: right;\">\n",
       "      <th></th>\n",
       "      <th>inchi</th>\n",
       "      <th>mono_isotopic_molecular_weight</th>\n",
       "      <th>creation_time</th>\n",
       "      <th>description</th>\n",
       "      <th>formula</th>\n",
       "      <th>functional_sets</th>\n",
       "      <th>last_modified</th>\n",
       "      <th>reference_xrefs</th>\n",
       "      <th>synonyms</th>\n",
       "      <th>unique_id</th>\n",
       "      <th>...</th>\n",
       "      <th>source_database</th>\n",
       "      <th>common_name</th>\n",
       "      <th>pubchem_compound_id</th>\n",
       "      <th>lipidmaps_id</th>\n",
       "      <th>metacyc_id</th>\n",
       "      <th>hmdb_id</th>\n",
       "      <th>img_abc_id</th>\n",
       "      <th>chebi_id</th>\n",
       "      <th>kegg_id</th>\n",
       "      <th>metatlas_inchi</th>\n",
       "    </tr>\n",
       "  </thead>\n",
       "  <tbody>\n",
       "    <tr>\n",
       "      <th>4-methylumbelliferone</th>\n",
       "      <td>InChI=1S/C10H8O3/c1-6-4-10(12)13-9-5-7(11)2-3-...</td>\n",
       "      <td>176.047</td>\n",
       "      <td>1444322232</td>\n",
       "      <td>NaN</td>\n",
       "      <td>C10H8O3</td>\n",
       "      <td>NaN</td>\n",
       "      <td>1460575844</td>\n",
       "      <td>NaN</td>\n",
       "      <td>7-Hydroxy-4-methylcoumarin///Imecromone///beta...</td>\n",
       "      <td>67b0de24bdf64e66a3818ac3212b1747</td>\n",
       "      <td>...</td>\n",
       "      <td>enzo///metacyc///wikidata///hmdb///gnps///chebi</td>\n",
       "      <td>4-Methylumbelliferone///4-methylumbelliferone</td>\n",
       "      <td>5280567</td>\n",
       "      <td>nan</td>\n",
       "      <td>CPD-182</td>\n",
       "      <td>HMDB59622</td>\n",
       "      <td>nan</td>\n",
       "      <td>CHEBI:17224</td>\n",
       "      <td>C03081</td>\n",
       "      <td>InChI=1S/C10H8O3/c1-6-4-10(12)13-9-5-7(11)2-3-...</td>\n",
       "    </tr>\n",
       "    <tr>\n",
       "      <th>5-aminopentanoate</th>\n",
       "      <td>InChI=1S/C5H11NO2/c6-4-2-1-3-5(7)8/h1-4,6H2,(H...</td>\n",
       "      <td>117.079</td>\n",
       "      <td>1444322178</td>\n",
       "      <td>NaN</td>\n",
       "      <td>C5H11NO2</td>\n",
       "      <td>NaN</td>\n",
       "      <td>1460575844</td>\n",
       "      <td>NaN</td>\n",
       "      <td>delta-amino-N-valerate///5-Aminovalerate///&amp;de...</td>\n",
       "      <td>797de57641ec415aa1f7a92827ef54c5</td>\n",
       "      <td>...</td>\n",
       "      <td>chebi///msmls///lipidmaps///metacyc///hmdb</td>\n",
       "      <td>5-aminopentanoate///5-aminopentanoic acid zwit...</td>\n",
       "      <td>138///6992101///138.0</td>\n",
       "      <td>LMFA01100040</td>\n",
       "      <td>5-AMINOPENTANOATE</td>\n",
       "      <td>HMDB03355</td>\n",
       "      <td>nan</td>\n",
       "      <td>CHEBI:356010///CHEBI:15887///CHEBI:86394</td>\n",
       "      <td>C00431///C00431</td>\n",
       "      <td>InChI=1S/C5H11NO2/c6-4-2-1-3-5(7)8/h1-4,6H2,(H...</td>\n",
       "    </tr>\n",
       "    <tr>\n",
       "      <th>2-&lt;i&gt;trans&lt;/i&gt;-abscisate</th>\n",
       "      <td>InChI=1S/C15H20O4/c1-10(7-13(17)18)5-6-15(19)1...</td>\n",
       "      <td>264.136</td>\n",
       "      <td>1444322247</td>\n",
       "      <td>NaN</td>\n",
       "      <td>C15H20O4</td>\n",
       "      <td>NaN</td>\n",
       "      <td>1444322293</td>\n",
       "      <td>NaN</td>\n",
       "      <td>2-trans-abscisic acid anion///abscisic acid///...</td>\n",
       "      <td>75359ff3b38c45bb9e87cf292349eaeb</td>\n",
       "      <td>...</td>\n",
       "      <td>chebi///metacyc</td>\n",
       "      <td>2-trans-abscisate///(+)-abscisate///(R)-2-tran...</td>\n",
       "      <td>7251168///6951345</td>\n",
       "      <td>nan</td>\n",
       "      <td>CPD-693///CPD-7731</td>\n",
       "      <td>nan</td>\n",
       "      <td>nan</td>\n",
       "      <td>CHEBI:37569///CHEBI:62429///CHEBI:62421///CHEB...</td>\n",
       "      <td>C06082///C06082</td>\n",
       "      <td>InChI=1S/C15H20O4/c1-10(7-13(17)18)5-6-15(19)1...</td>\n",
       "    </tr>\n",
       "    <tr>\n",
       "      <th>2-&lt;i&gt;trans&lt;/i&gt;-abscisate</th>\n",
       "      <td>InChI=1S/C15H20O4/c1-10(7-13(17)18)5-6-15(19)1...</td>\n",
       "      <td>264.136</td>\n",
       "      <td>1444322247</td>\n",
       "      <td>NaN</td>\n",
       "      <td>C15H20O4</td>\n",
       "      <td>NaN</td>\n",
       "      <td>1444322293</td>\n",
       "      <td>NaN</td>\n",
       "      <td>2-trans-abscisic acid anion///abscisic acid///...</td>\n",
       "      <td>75359ff3b38c45bb9e87cf292349eaeb</td>\n",
       "      <td>...</td>\n",
       "      <td>chebi///metacyc</td>\n",
       "      <td>2-trans-abscisate///(+)-abscisate///(R)-2-tran...</td>\n",
       "      <td>7251168///6951345</td>\n",
       "      <td>nan</td>\n",
       "      <td>CPD-693///CPD-7731</td>\n",
       "      <td>nan</td>\n",
       "      <td>nan</td>\n",
       "      <td>CHEBI:37569///CHEBI:62429///CHEBI:62421///CHEB...</td>\n",
       "      <td>C06082///C06082</td>\n",
       "      <td>InChI=1S/C15H20O4/c1-10(7-13(17)18)5-6-15(19)1...</td>\n",
       "    </tr>\n",
       "    <tr>\n",
       "      <th>adenine</th>\n",
       "      <td>InChI=1S/C5H5N5/c6-4-3-5(9-1-7-3)10-2-8-4/h1-2...</td>\n",
       "      <td>135.054</td>\n",
       "      <td>1444322234</td>\n",
       "      <td>NaN</td>\n",
       "      <td>C5H5N5</td>\n",
       "      <td>NaN</td>\n",
       "      <td>1460575844</td>\n",
       "      <td>NaN</td>\n",
       "      <td>6-aminopurine///1H-Purin-6-amine///Adeninimine...</td>\n",
       "      <td>e4e7763b15e5490983bb51ba8f44e556</td>\n",
       "      <td>...</td>\n",
       "      <td>chebi///msmls///wikidata///metacyc///hmdb</td>\n",
       "      <td>Adenine///adenine</td>\n",
       "      <td>190.0///190</td>\n",
       "      <td>nan</td>\n",
       "      <td>ADENINE</td>\n",
       "      <td>HMDB00034</td>\n",
       "      <td>nan</td>\n",
       "      <td>CHEBI:16708</td>\n",
       "      <td>C00147</td>\n",
       "      <td>InChI=1S/C5H5N5/c6-4-3-5(9-1-7-3)10-2-8-4/h1-2...</td>\n",
       "    </tr>\n",
       "  </tbody>\n",
       "</table>\n",
       "<p>5 rows × 35 columns</p>\n",
       "</div>"
      ],
      "text/plain": [
       "                                                                      inchi  \\\n",
       "4-methylumbelliferone     InChI=1S/C10H8O3/c1-6-4-10(12)13-9-5-7(11)2-3-...   \n",
       "5-aminopentanoate         InChI=1S/C5H11NO2/c6-4-2-1-3-5(7)8/h1-4,6H2,(H...   \n",
       "2-<i>trans</i>-abscisate  InChI=1S/C15H20O4/c1-10(7-13(17)18)5-6-15(19)1...   \n",
       "2-<i>trans</i>-abscisate  InChI=1S/C15H20O4/c1-10(7-13(17)18)5-6-15(19)1...   \n",
       "adenine                   InChI=1S/C5H5N5/c6-4-3-5(9-1-7-3)10-2-8-4/h1-2...   \n",
       "\n",
       "                         mono_isotopic_molecular_weight creation_time  \\\n",
       "4-methylumbelliferone                           176.047    1444322232   \n",
       "5-aminopentanoate                               117.079    1444322178   \n",
       "2-<i>trans</i>-abscisate                        264.136    1444322247   \n",
       "2-<i>trans</i>-abscisate                        264.136    1444322247   \n",
       "adenine                                         135.054    1444322234   \n",
       "\n",
       "                         description   formula functional_sets last_modified  \\\n",
       "4-methylumbelliferone            NaN   C10H8O3             NaN    1460575844   \n",
       "5-aminopentanoate                NaN  C5H11NO2             NaN    1460575844   \n",
       "2-<i>trans</i>-abscisate         NaN  C15H20O4             NaN    1444322293   \n",
       "2-<i>trans</i>-abscisate         NaN  C15H20O4             NaN    1444322293   \n",
       "adenine                          NaN    C5H5N5             NaN    1460575844   \n",
       "\n",
       "                         reference_xrefs  \\\n",
       "4-methylumbelliferone                NaN   \n",
       "5-aminopentanoate                    NaN   \n",
       "2-<i>trans</i>-abscisate             NaN   \n",
       "2-<i>trans</i>-abscisate             NaN   \n",
       "adenine                              NaN   \n",
       "\n",
       "                                                                   synonyms  \\\n",
       "4-methylumbelliferone     7-Hydroxy-4-methylcoumarin///Imecromone///beta...   \n",
       "5-aminopentanoate         delta-amino-N-valerate///5-Aminovalerate///&de...   \n",
       "2-<i>trans</i>-abscisate  2-trans-abscisic acid anion///abscisic acid///...   \n",
       "2-<i>trans</i>-abscisate  2-trans-abscisic acid anion///abscisic acid///...   \n",
       "adenine                   6-aminopurine///1H-Purin-6-amine///Adeninimine...   \n",
       "\n",
       "                                                 unique_id  \\\n",
       "4-methylumbelliferone     67b0de24bdf64e66a3818ac3212b1747   \n",
       "5-aminopentanoate         797de57641ec415aa1f7a92827ef54c5   \n",
       "2-<i>trans</i>-abscisate  75359ff3b38c45bb9e87cf292349eaeb   \n",
       "2-<i>trans</i>-abscisate  75359ff3b38c45bb9e87cf292349eaeb   \n",
       "adenine                   e4e7763b15e5490983bb51ba8f44e556   \n",
       "\n",
       "                                                ...                          \\\n",
       "4-methylumbelliferone                           ...                           \n",
       "5-aminopentanoate                               ...                           \n",
       "2-<i>trans</i>-abscisate                        ...                           \n",
       "2-<i>trans</i>-abscisate                        ...                           \n",
       "adenine                                         ...                           \n",
       "\n",
       "                                                          source_database  \\\n",
       "4-methylumbelliferone     enzo///metacyc///wikidata///hmdb///gnps///chebi   \n",
       "5-aminopentanoate              chebi///msmls///lipidmaps///metacyc///hmdb   \n",
       "2-<i>trans</i>-abscisate                                  chebi///metacyc   \n",
       "2-<i>trans</i>-abscisate                                  chebi///metacyc   \n",
       "adenine                         chebi///msmls///wikidata///metacyc///hmdb   \n",
       "\n",
       "                                                                common_name  \\\n",
       "4-methylumbelliferone         4-Methylumbelliferone///4-methylumbelliferone   \n",
       "5-aminopentanoate         5-aminopentanoate///5-aminopentanoic acid zwit...   \n",
       "2-<i>trans</i>-abscisate  2-trans-abscisate///(+)-abscisate///(R)-2-tran...   \n",
       "2-<i>trans</i>-abscisate  2-trans-abscisate///(+)-abscisate///(R)-2-tran...   \n",
       "adenine                                                   Adenine///adenine   \n",
       "\n",
       "                            pubchem_compound_id  lipidmaps_id  \\\n",
       "4-methylumbelliferone                   5280567           nan   \n",
       "5-aminopentanoate         138///6992101///138.0  LMFA01100040   \n",
       "2-<i>trans</i>-abscisate      7251168///6951345           nan   \n",
       "2-<i>trans</i>-abscisate      7251168///6951345           nan   \n",
       "adenine                             190.0///190           nan   \n",
       "\n",
       "                                  metacyc_id    hmdb_id  img_abc_id  \\\n",
       "4-methylumbelliferone                CPD-182  HMDB59622         nan   \n",
       "5-aminopentanoate          5-AMINOPENTANOATE  HMDB03355         nan   \n",
       "2-<i>trans</i>-abscisate  CPD-693///CPD-7731        nan         nan   \n",
       "2-<i>trans</i>-abscisate  CPD-693///CPD-7731        nan         nan   \n",
       "adenine                              ADENINE  HMDB00034         nan   \n",
       "\n",
       "                                                                   chebi_id  \\\n",
       "4-methylumbelliferone                                           CHEBI:17224   \n",
       "5-aminopentanoate                  CHEBI:356010///CHEBI:15887///CHEBI:86394   \n",
       "2-<i>trans</i>-abscisate  CHEBI:37569///CHEBI:62429///CHEBI:62421///CHEB...   \n",
       "2-<i>trans</i>-abscisate  CHEBI:37569///CHEBI:62429///CHEBI:62421///CHEB...   \n",
       "adenine                                                         CHEBI:16708   \n",
       "\n",
       "                                  kegg_id  \\\n",
       "4-methylumbelliferone              C03081   \n",
       "5-aminopentanoate         C00431///C00431   \n",
       "2-<i>trans</i>-abscisate  C06082///C06082   \n",
       "2-<i>trans</i>-abscisate  C06082///C06082   \n",
       "adenine                            C00147   \n",
       "\n",
       "                                                             metatlas_inchi  \n",
       "4-methylumbelliferone     InChI=1S/C10H8O3/c1-6-4-10(12)13-9-5-7(11)2-3-...  \n",
       "5-aminopentanoate         InChI=1S/C5H11NO2/c6-4-2-1-3-5(7)8/h1-4,6H2,(H...  \n",
       "2-<i>trans</i>-abscisate  InChI=1S/C15H20O4/c1-10(7-13(17)18)5-6-15(19)1...  \n",
       "2-<i>trans</i>-abscisate  InChI=1S/C15H20O4/c1-10(7-13(17)18)5-6-15(19)1...  \n",
       "adenine                   InChI=1S/C5H5N5/c6-4-3-5(9-1-7-3)10-2-8-4/h1-2...  \n",
       "\n",
       "[5 rows x 35 columns]"
      ]
     },
     "execution_count": 5,
     "metadata": {},
     "output_type": "execute_result"
    }
   ],
   "source": [
    "dp = reload(dp)\n",
    "df = dp.export_atlas_to_spreadsheet(myAtlas,'/global/homes/b/bpb/notebooks/atlas_finfo_to_be_loaded/save_atlas.csv')\n",
    "df.head()"
   ]
  },
  {
   "cell_type": "code",
   "execution_count": null,
   "metadata": {
    "collapsed": true
   },
   "outputs": [],
   "source": []
  }
 ],
 "metadata": {
  "kernelspec": {
   "display_name": "Python 2",
   "language": "python",
   "name": "python2"
  },
  "language_info": {
   "codemirror_mode": {
    "name": "ipython",
    "version": 2
   },
   "file_extension": ".py",
   "mimetype": "text/x-python",
   "name": "python",
   "nbconvert_exporter": "python",
   "pygments_lexer": "ipython2",
   "version": "2.7.11"
  }
 },
 "nbformat": 4,
 "nbformat_minor": 0
}
