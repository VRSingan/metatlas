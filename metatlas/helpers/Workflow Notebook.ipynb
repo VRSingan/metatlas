{
 "cells": [
  {
   "cell_type": "markdown",
   "metadata": {},
   "source": [
    "#Import Python Packages"
   ]
  },
  {
   "cell_type": "code",
   "execution_count": 1,
   "metadata": {
    "collapsed": false
   },
   "outputs": [
    {
     "name": "stdout",
     "output_type": "stream",
     "text": [
      "('Metatlas live in ', '/global/project/projectdirs/metatlas/anaconda/lib/python2.7/site-packages/metatlas')\n",
      "you're running on d9d4d6ec916d at 172.17.0.9 \n"
     ]
    },
    {
     "name": "stderr",
     "output_type": "stream",
     "text": [
      ":0: FutureWarning: IPython widgets are experimental and may change in the future.\n"
     ]
    }
   ],
   "source": [
    "import sys\n",
    "sys.path.insert(0,'/global/homes/b/bpb/metatlas/metatlas/helpers/' )\n",
    "import dill2plots as dp\n",
    "%matplotlib inline"
   ]
  },
  {
   "cell_type": "markdown",
   "metadata": {},
   "source": [
    "#Make blank file-info sheet"
   ]
  },
  {
   "cell_type": "markdown",
   "metadata": {},
   "source": [
    "Get files from database"
   ]
  },
  {
   "cell_type": "code",
   "execution_count": 10,
   "metadata": {
    "collapsed": false
   },
   "outputs": [],
   "source": [
    "files = dp.get_metatlas_files(experiment = '%hedlund%',name = '%hilic%',most_recent = True)"
   ]
  },
  {
   "cell_type": "markdown",
   "metadata": {},
   "source": [
    "Save the files to an empty fileinfo sheet"
   ]
  },
  {
   "cell_type": "code",
   "execution_count": 9,
   "metadata": {
    "collapsed": false
   },
   "outputs": [],
   "source": [
    "dp.make_empty_fileinfo_sheet('/global/homes/b/bpb/notebooks/atlas_finfo_to_be_loaded/hedlund_empty_fileinfo.tab',files)"
   ]
  },
  {
   "cell_type": "markdown",
   "metadata": {},
   "source": [
    "#Create metatlas groups from filled in file-info sheet"
   ]
  },
  {
   "cell_type": "code",
   "execution_count": 18,
   "metadata": {
    "collapsed": false
   },
   "outputs": [],
   "source": [
    "dp = reload(dp)\n",
    "g = dp.make_groups_from_fileinfo_sheet('/global/homes/b/bpb/notebooks/atlas_finfo_to_be_loaded/FileInfoSheet_BHedlund_AllFiles_20160413 (1).txt',store=False)"
   ]
  },
  {
   "cell_type": "markdown",
   "metadata": {},
   "source": [
    "#Create a new Atlas in metatlas from a spreadsheet"
   ]
  },
  {
   "cell_type": "code",
   "execution_count": 34,
   "metadata": {
    "collapsed": false
   },
   "outputs": [],
   "source": [
    "dp = reload(dp)\n",
    "names = dp.make_atlas_from_spreadsheet('/global/homes/b/bpb/Downloads/BrianHedlund_Atlas_NEG 1.csv',\n",
    "                                       'hedlund_hilic_qexactive_neg',\n",
    "                                       filetype='csv',\n",
    "                                       sheetname='',\n",
    "                                       polarity = 'negative',\n",
    "                                       store=True)"
   ]
  },
  {
   "cell_type": "markdown",
   "metadata": {},
   "source": [
    "#Select groups of files to operate on"
   ]
  },
  {
   "cell_type": "code",
   "execution_count": 35,
   "metadata": {
    "collapsed": false
   },
   "outputs": [
    {
     "name": "stdout",
     "output_type": "stream",
     "text": [
      "0 20160413_Bhedlund_pHILIC_NEG_GBS_Med_inc_Set1 2016-04-14 17:59:30\n",
      "1 20160413_Bhedlund_pHILIC_NEG_Blank_Set2 2016-04-13 22:34:24\n",
      "2 20160413_Bhedlund_pHILIC_NEG_PR_End_Set1 2016-04-14 17:59:36\n",
      "3 20160413_Bhedlund_pHILIC_NEG_JKG1_PR_Set1 2016-04-14 17:59:33\n",
      "4 20160413_Bhedlund_pHILIC_NEG_GBS_32OE_Ctrl_Set1 2016-04-14 17:59:32\n",
      "5 20160413_Bhedlund_pHILIC_NEG_JAD2_GBS_4OE_Set1 2016-04-14 17:59:37\n",
      "6 20160413_Bhedlund_pHILIC_NEG_GBS_32OE_inc_Set2 2016-04-13 22:34:26\n",
      "7 20160413_Bhedlund_pHILIC_NEG_G233_BMR_Set1 2016-04-14 17:59:19\n",
      "8 20160413_Bhedlund_pHILIC_NEG_BMR_End_Set1 2016-04-14 17:59:39\n",
      "9 20160413_Bhedlund_pHILIC_NEG_JAD2_GBS_32OE_Set2 2016-04-13 22:34:27\n",
      "10 20160413_Bhedlund_pHILIC_NEG_JAD2_GBS_32OE_Set1 2016-04-14 17:59:20\n",
      "11 20160413_Bhedlund_pHILIC_NEG_GBS_32OE_Ctrl_Set2 2016-04-13 22:34:26\n",
      "12 20160413_Bhedlund_pHILIC_NEG_GBS_Med_Ctrl_Set1 2016-04-14 17:59:27\n",
      "13 20160413_Bhedlund_pHILIC_NEG_JAD2_GBS_Set1 2016-04-14 17:59:39\n",
      "14 20160413_Bhedlund_pHILIC_NEG_PR_Beg_Set1 2016-04-14 17:59:28\n",
      "15 20160413_Bhedlund_pHILIC_NEG_GBS_4OE_Ctrl_Set1 2016-04-14 17:59:19\n",
      "16 20160413_Bhedlund_pHILIC_NEG_QCmix_Set1 2016-04-14 17:59:27\n",
      "17 20160413_Bhedlund_pHILIC_NEG_QCmix_Set2 2016-04-13 22:34:26\n",
      "18 20160413_Bhedlund_pHILIC_NEG_GBS_conc_inc_Set2 2016-04-13 22:34:28\n",
      "19 20160413_Bhedlund_pHILIC_NEG_Blank_Set1 2016-04-14 17:59:34\n",
      "20 20160413_Bhedlund_pHILIC_NEG_BMR_Beg_Set1 2016-04-14 17:59:35\n"
     ]
    }
   ],
   "source": [
    "groups = dp.select_groups_for_analysis(name = '%hedlund%neg%',most_recent = True, remove_empty = True, filter_list = [])\n",
    "# for g in groups:\n",
    "#     print g.name"
   ]
  },
  {
   "cell_type": "markdown",
   "metadata": {},
   "source": [
    "#Select Atlas to use"
   ]
  },
  {
   "cell_type": "code",
   "execution_count": 36,
   "metadata": {
    "collapsed": false
   },
   "outputs": [
    {
     "name": "stdout",
     "output_type": "stream",
     "text": [
      "0 hedlund_hilic_qexactive_neg 2016-04-27 18:58:44\n"
     ]
    }
   ],
   "source": [
    "dp = reload(dp)\n",
    "atlas = dp.get_metatlas_atlas(name='%hedlund_hilic_qexactive_neg%',do_print = True)\n"
   ]
  },
  {
   "cell_type": "code",
   "execution_count": 37,
   "metadata": {
    "collapsed": false
   },
   "outputs": [
    {
     "data": {
      "text/plain": [
       "u'hedlund_hilic_qexactive_neg'"
      ]
     },
     "execution_count": 37,
     "metadata": {},
     "output_type": "execute_result"
    }
   ],
   "source": [
    "myAtlas = atlas[0]\n",
    "myAtlas.name"
   ]
  },
  {
   "cell_type": "markdown",
   "metadata": {},
   "source": [
    "#Export Atlas To Spreadsheet"
   ]
  },
  {
   "cell_type": "code",
   "execution_count": 38,
   "metadata": {
    "collapsed": false,
    "scrolled": false
   },
   "outputs": [
    {
     "data": {
      "text/html": [
       "<div>\n",
       "<table border=\"1\" class=\"dataframe\">\n",
       "  <thead>\n",
       "    <tr style=\"text-align: right;\">\n",
       "      <th></th>\n",
       "      <th>name</th>\n",
       "      <th>inchi</th>\n",
       "      <th>mono_isotopic_molecular_weight</th>\n",
       "      <th>creation_time</th>\n",
       "      <th>formula</th>\n",
       "      <th>last_modified</th>\n",
       "      <th>unique_id</th>\n",
       "      <th>username</th>\n",
       "      <th>label</th>\n",
       "      <th>rt_min</th>\n",
       "      <th>...</th>\n",
       "      <th>common_name</th>\n",
       "      <th>synonyms</th>\n",
       "      <th>pubchem_compound_id</th>\n",
       "      <th>lipidmaps_id</th>\n",
       "      <th>metacyc_id</th>\n",
       "      <th>hmdb_id</th>\n",
       "      <th>img_abc_id</th>\n",
       "      <th>chebi_id</th>\n",
       "      <th>kegg_id</th>\n",
       "      <th>metatlas_inchi</th>\n",
       "    </tr>\n",
       "  </thead>\n",
       "  <tbody>\n",
       "    <tr>\n",
       "      <th>0</th>\n",
       "      <td>adenine</td>\n",
       "      <td>InChI=1S/C5H5N5/c6-4-3-5(9-1-7-3)10-2-8-4/h1-2...</td>\n",
       "      <td>135.054489</td>\n",
       "      <td>1444322234</td>\n",
       "      <td>C5H5N5</td>\n",
       "      <td>1444322292</td>\n",
       "      <td>2070f5dbf1744165966d6f4e7042df4e</td>\n",
       "      <td>bpb</td>\n",
       "      <td>adenine</td>\n",
       "      <td>4.18</td>\n",
       "      <td>...</td>\n",
       "      <td>Adenine///adenine</td>\n",
       "      <td>6-aminopurine///1H-Purin-6-amine///Adeninimine...</td>\n",
       "      <td>190.0///190</td>\n",
       "      <td>nan</td>\n",
       "      <td>ADENINE</td>\n",
       "      <td>HMDB00034</td>\n",
       "      <td>nan</td>\n",
       "      <td>CHEBI:16708</td>\n",
       "      <td>C00147</td>\n",
       "      <td>InChI=1S/C5H5N5/c6-4-3-5(9-1-7-3)10-2-8-4/h1-2...</td>\n",
       "    </tr>\n",
       "    <tr>\n",
       "      <th>1</th>\n",
       "      <td>adenosine</td>\n",
       "      <td>InChI=1S/C10H13N5O4/c11-8-5-9(13-2-12-8)15(3-1...</td>\n",
       "      <td>267.096741</td>\n",
       "      <td>1444322234</td>\n",
       "      <td>C10H13N5O4</td>\n",
       "      <td>1444322292</td>\n",
       "      <td>4de2f8142d8141c9abf6ff058566a99e</td>\n",
       "      <td>bpb</td>\n",
       "      <td>adenosine</td>\n",
       "      <td>4.32</td>\n",
       "      <td>...</td>\n",
       "      <td>Adenosine///adenosine</td>\n",
       "      <td>(2R,3R,4S,5R)-2-(6-amino-9H-purin-9-yl)-5-(hyd...</td>\n",
       "      <td>60961</td>\n",
       "      <td>nan</td>\n",
       "      <td>ADENOSINE</td>\n",
       "      <td>HMDB00050</td>\n",
       "      <td>nan</td>\n",
       "      <td>CHEBI:16335</td>\n",
       "      <td>C00212</td>\n",
       "      <td>InChI=1S/C10H13N5O4/c11-8-5-9(13-2-12-8)15(3-1...</td>\n",
       "    </tr>\n",
       "    <tr>\n",
       "      <th>2</th>\n",
       "      <td>L-alanine</td>\n",
       "      <td>InChI=1S/C3H7NO2/c1-2(4)3(5)6/h2H,4H2,1H3,(H,5...</td>\n",
       "      <td>89.047676</td>\n",
       "      <td>1444322244</td>\n",
       "      <td>C3H7NO2</td>\n",
       "      <td>1444322293</td>\n",
       "      <td>8bdeefb3322c48cc93cc5534e375b998</td>\n",
       "      <td>bpb</td>\n",
       "      <td>alanine</td>\n",
       "      <td>10.91</td>\n",
       "      <td>...</td>\n",
       "      <td>L-alanine zwitterion///L-Alanine///L-alanine</td>\n",
       "      <td>L-2-Aminopropanoate///alanine///(S)-2-aminopro...</td>\n",
       "      <td>7311724</td>\n",
       "      <td>nan</td>\n",
       "      <td>L-ALPHA-ALANINE</td>\n",
       "      <td>HMDB00161</td>\n",
       "      <td>nan</td>\n",
       "      <td>CHEBI:16977///CHEBI:57972</td>\n",
       "      <td>C00041</td>\n",
       "      <td>InChI=1S/C3H7NO2/c1-2(4)3(5)6/h2H,4H2,1H3,(H,5...</td>\n",
       "    </tr>\n",
       "    <tr>\n",
       "      <th>3</th>\n",
       "      <td>L-arginine</td>\n",
       "      <td>InChI=1S/C6H14N4O2/c7-4(5(11)12)2-1-3-10-6(8)9...</td>\n",
       "      <td>174.111679</td>\n",
       "      <td>1444322244</td>\n",
       "      <td>C6H14N4O2</td>\n",
       "      <td>1444322293</td>\n",
       "      <td>94ecdcbad6d74422b2c3ca8e2ea2f47d</td>\n",
       "      <td>bpb</td>\n",
       "      <td>arginine</td>\n",
       "      <td>20.89</td>\n",
       "      <td>...</td>\n",
       "      <td>L-argininate///L-argininium(1+)///D-argininate...</td>\n",
       "      <td>D-argininium(1+)///L-argininium(2+)///D-2-Amin...</td>\n",
       "      <td>1549104///1549073</td>\n",
       "      <td>nan</td>\n",
       "      <td>CPD-220///ARG</td>\n",
       "      <td>nan</td>\n",
       "      <td>57865</td>\n",
       "      <td>CHEBI:32690///CHEBI:32683///CHEBI:32682///CHEB...</td>\n",
       "      <td>C00062///C00792</td>\n",
       "      <td>InChI=1S/C6H14N4O2/c7-4(5(11)12)2-1-3-10-6(8)9...</td>\n",
       "    </tr>\n",
       "    <tr>\n",
       "      <th>4</th>\n",
       "      <td>L-asparagine</td>\n",
       "      <td>InChI=1S/C4H8N2O3/c5-2(4(8)9)1-3(6)7/h2H,1,5H2...</td>\n",
       "      <td>132.053497</td>\n",
       "      <td>1444322244</td>\n",
       "      <td>C4H8N2O3</td>\n",
       "      <td>1444322293</td>\n",
       "      <td>4ce44cc11f8b4a5cafa852abe3ec1cf2</td>\n",
       "      <td>bpb</td>\n",
       "      <td>asparagine</td>\n",
       "      <td>12.49</td>\n",
       "      <td>...</td>\n",
       "      <td>L-Asparagine///L-asparagine///L-asparagine zwi...</td>\n",
       "      <td>(2S)-2,4-diamino-4-oxobutanoic acid///Aspartic...</td>\n",
       "      <td>6992089</td>\n",
       "      <td>nan</td>\n",
       "      <td>ASN</td>\n",
       "      <td>HMDB00168</td>\n",
       "      <td>nan</td>\n",
       "      <td>CHEBI:17196///CHEBI:58048</td>\n",
       "      <td>C00152</td>\n",
       "      <td>InChI=1S/C4H8N2O3/c5-2(4(8)9)1-3(6)7/h2H,1,5H2...</td>\n",
       "    </tr>\n",
       "  </tbody>\n",
       "</table>\n",
       "<p>5 rows × 31 columns</p>\n",
       "</div>"
      ],
      "text/plain": [
       "           name                                              inchi  \\\n",
       "0       adenine  InChI=1S/C5H5N5/c6-4-3-5(9-1-7-3)10-2-8-4/h1-2...   \n",
       "1     adenosine  InChI=1S/C10H13N5O4/c11-8-5-9(13-2-12-8)15(3-1...   \n",
       "2     L-alanine  InChI=1S/C3H7NO2/c1-2(4)3(5)6/h2H,4H2,1H3,(H,5...   \n",
       "3    L-arginine  InChI=1S/C6H14N4O2/c7-4(5(11)12)2-1-3-10-6(8)9...   \n",
       "4  L-asparagine  InChI=1S/C4H8N2O3/c5-2(4(8)9)1-3(6)7/h2H,1,5H2...   \n",
       "\n",
       "   mono_isotopic_molecular_weight  creation_time     formula  last_modified  \\\n",
       "0                      135.054489     1444322234      C5H5N5     1444322292   \n",
       "1                      267.096741     1444322234  C10H13N5O4     1444322292   \n",
       "2                       89.047676     1444322244     C3H7NO2     1444322293   \n",
       "3                      174.111679     1444322244   C6H14N4O2     1444322293   \n",
       "4                      132.053497     1444322244    C4H8N2O3     1444322293   \n",
       "\n",
       "                          unique_id username       label  rt_min  \\\n",
       "0  2070f5dbf1744165966d6f4e7042df4e      bpb     adenine    4.18   \n",
       "1  4de2f8142d8141c9abf6ff058566a99e      bpb   adenosine    4.32   \n",
       "2  8bdeefb3322c48cc93cc5534e375b998      bpb     alanine   10.91   \n",
       "3  94ecdcbad6d74422b2c3ca8e2ea2f47d      bpb    arginine   20.89   \n",
       "4  4ce44cc11f8b4a5cafa852abe3ec1cf2      bpb  asparagine   12.49   \n",
       "\n",
       "                         ...                          \\\n",
       "0                        ...                           \n",
       "1                        ...                           \n",
       "2                        ...                           \n",
       "3                        ...                           \n",
       "4                        ...                           \n",
       "\n",
       "                                         common_name  \\\n",
       "0                                  Adenine///adenine   \n",
       "1                              Adenosine///adenosine   \n",
       "2       L-alanine zwitterion///L-Alanine///L-alanine   \n",
       "3  L-argininate///L-argininium(1+)///D-argininate...   \n",
       "4  L-Asparagine///L-asparagine///L-asparagine zwi...   \n",
       "\n",
       "                                            synonyms  pubchem_compound_id  \\\n",
       "0  6-aminopurine///1H-Purin-6-amine///Adeninimine...          190.0///190   \n",
       "1  (2R,3R,4S,5R)-2-(6-amino-9H-purin-9-yl)-5-(hyd...                60961   \n",
       "2  L-2-Aminopropanoate///alanine///(S)-2-aminopro...              7311724   \n",
       "3  D-argininium(1+)///L-argininium(2+)///D-2-Amin...    1549104///1549073   \n",
       "4  (2S)-2,4-diamino-4-oxobutanoic acid///Aspartic...              6992089   \n",
       "\n",
       "   lipidmaps_id       metacyc_id    hmdb_id img_abc_id  \\\n",
       "0           nan          ADENINE  HMDB00034        nan   \n",
       "1           nan        ADENOSINE  HMDB00050        nan   \n",
       "2           nan  L-ALPHA-ALANINE  HMDB00161        nan   \n",
       "3           nan    CPD-220///ARG        nan      57865   \n",
       "4           nan              ASN  HMDB00168        nan   \n",
       "\n",
       "                                            chebi_id          kegg_id  \\\n",
       "0                                        CHEBI:16708           C00147   \n",
       "1                                        CHEBI:16335           C00212   \n",
       "2                          CHEBI:16977///CHEBI:57972           C00041   \n",
       "3  CHEBI:32690///CHEBI:32683///CHEBI:32682///CHEB...  C00062///C00792   \n",
       "4                          CHEBI:17196///CHEBI:58048           C00152   \n",
       "\n",
       "                                      metatlas_inchi  \n",
       "0  InChI=1S/C5H5N5/c6-4-3-5(9-1-7-3)10-2-8-4/h1-2...  \n",
       "1  InChI=1S/C10H13N5O4/c11-8-5-9(13-2-12-8)15(3-1...  \n",
       "2  InChI=1S/C3H7NO2/c1-2(4)3(5)6/h2H,4H2,1H3,(H,5...  \n",
       "3  InChI=1S/C6H14N4O2/c7-4(5(11)12)2-1-3-10-6(8)9...  \n",
       "4  InChI=1S/C4H8N2O3/c5-2(4(8)9)1-3(6)7/h2H,1,5H2...  \n",
       "\n",
       "[5 rows x 31 columns]"
      ]
     },
     "execution_count": 38,
     "metadata": {},
     "output_type": "execute_result"
    }
   ],
   "source": [
    "dp = reload(dp)\n",
    "df = dp.export_atlas_to_spreadsheet(myAtlas,'/global/homes/b/bpb/Downloads/hedlund_hilic_qexactive_neg.csv')\n",
    "df.head()"
   ]
  },
  {
   "cell_type": "markdown",
   "metadata": {},
   "source": [
    "#Get Data and Save it"
   ]
  },
  {
   "cell_type": "code",
   "execution_count": 39,
   "metadata": {
    "collapsed": false,
    "scrolled": false
   },
   "outputs": [
    {
     "name": "stdout",
     "output_type": "stream",
     "text": [
      "0 21 /global/project/projectdirs/metatlas/raw_data/lpsilva/20150406_LPSilva_BHedlund_chloroflexi_NEG/20150322_pHILIC_NEG_MSMS_BH36.h5\n",
      "0 21 /global/project/projectdirs/metatlas/raw_data/lpsilva/20150406_LPSilva_BHedlund_chloroflexi_NEG/20150322_pHILIC_NEG_MSMS_BH37.h5\n",
      "0 21 /global/project/projectdirs/metatlas/raw_data/lpsilva/20150406_LPSilva_BHedlund_chloroflexi_NEG/20150322_pHILIC_NEG_MSMS_BH38.h5\n",
      "0 21 /global/project/projectdirs/metatlas/raw_data/lpsilva/20150406_LPSilva_BHedlund_chloroflexi_NEG/20150322_pHILIC_NEG_MSMS_BH39.h5\n",
      "0 21 /global/project/projectdirs/metatlas/raw_data/lpsilva/20150406_LPSilva_BHedlund_chloroflexi_NEG/20150322_pHILIC_NEG_MSMS_BH40.h5\n",
      "1 21 /global/project/projectdirs/metatlas/raw_data/lpsilva/20150406_LPSILVA_BHedlund_chloroflexi_NEG/20151124_pHILIC_NEG_MSMS_BH_GBSInc_1_blank.h5\n",
      "1 21 /global/project/projectdirs/metatlas/raw_data/lpsilva/20150406_LPSILVA_BHedlund_chloroflexi_NEG/20151124_pHILIC_NEG_MSMS_BH_IncCtrl_4_blank.h5\n",
      "2 21 /global/project/projectdirs/metatlas/raw_data/lpsilva/20150406_LPSilva_BHedlund_chloroflexi_NEG/20150322_pHILIC_NEG_MSMS_BH6.h5\n",
      "2 21 /global/project/projectdirs/metatlas/raw_data/lpsilva/20150406_LPSilva_BHedlund_chloroflexi_NEG/20150322_pHILIC_NEG_MSMS_BH7.h5\n",
      "2 21 /global/project/projectdirs/metatlas/raw_data/lpsilva/20150406_LPSilva_BHedlund_chloroflexi_NEG/20150322_pHILIC_NEG_MSMS_BH8.h5\n",
      "2 21 /global/project/projectdirs/metatlas/raw_data/lpsilva/20150406_LPSilva_BHedlund_chloroflexi_NEG/20150322_pHILIC_NEG_MSMS_BH9.h5\n",
      "2 21 /global/project/projectdirs/metatlas/raw_data/lpsilva/20150406_LPSilva_BHedlund_chloroflexi_NEG/20150322_pHILIC_NEG_MSMS_BH10.h5\n",
      "3 21 /global/project/projectdirs/metatlas/raw_data/lpsilva/20150406_LPSilva_BHedlund_chloroflexi_NEG/20150322_pHILIC_NEG_MSMS_BH11.h5\n",
      "3 21 /global/project/projectdirs/metatlas/raw_data/lpsilva/20150406_LPSilva_BHedlund_chloroflexi_NEG/20150322_pHILIC_NEG_MSMS_BH12.h5\n",
      "3 21 /global/project/projectdirs/metatlas/raw_data/lpsilva/20150406_LPSilva_BHedlund_chloroflexi_NEG/20150322_pHILIC_NEG_MSMS_BH13.h5\n",
      "3 21 /global/project/projectdirs/metatlas/raw_data/lpsilva/20150406_LPSilva_BHedlund_chloroflexi_NEG/20150322_pHILIC_NEG_MSMS_BH14.h5\n",
      "3 21 /global/project/projectdirs/metatlas/raw_data/lpsilva/20150406_LPSilva_BHedlund_chloroflexi_NEG/20150322_pHILIC_NEG_MSMS_BH15.h5\n",
      "4 21 /global/project/projectdirs/metatlas/raw_data/lpsilva/20150406_LPSilva_BHedlund_chloroflexi_NEG/20150322_pHILIC_NEG_MSMS_BH56.h5\n",
      "4 21 /global/project/projectdirs/metatlas/raw_data/lpsilva/20150406_LPSilva_BHedlund_chloroflexi_NEG/20150322_pHILIC_NEG_MSMS_BH57.h5\n",
      "4 21 /global/project/projectdirs/metatlas/raw_data/lpsilva/20150406_LPSilva_BHedlund_chloroflexi_NEG/20150322_pHILIC_NEG_MSMS_BH58.h5\n",
      "4 21 /global/project/projectdirs/metatlas/raw_data/lpsilva/20150406_LPSilva_BHedlund_chloroflexi_NEG/20150322_pHILIC_NEG_MSMS_BH59.h5\n",
      "4 21 /global/project/projectdirs/metatlas/raw_data/lpsilva/20150406_LPSilva_BHedlund_chloroflexi_NEG/20150322_pHILIC_NEG_MSMS_BH60.h5\n",
      "5 21 /global/project/projectdirs/metatlas/raw_data/lpsilva/20150406_LPSilva_BHedlund_chloroflexi_NEG/20150322_pHILIC_NEG_MSMS_BH51.h5\n",
      "5 21 /global/project/projectdirs/metatlas/raw_data/lpsilva/20150406_LPSilva_BHedlund_chloroflexi_NEG/20150322_pHILIC_NEG_MSMS_BH52.h5\n",
      "5 21 /global/project/projectdirs/metatlas/raw_data/lpsilva/20150406_LPSilva_BHedlund_chloroflexi_NEG/20150322_pHILIC_NEG_MSMS_BH53.h5\n",
      "5 21 /global/project/projectdirs/metatlas/raw_data/lpsilva/20150406_LPSilva_BHedlund_chloroflexi_NEG/20150322_pHILIC_NEG_MSMS_BH54.h5\n",
      "5 21 /global/project/projectdirs/metatlas/raw_data/lpsilva/20150406_LPSilva_BHedlund_chloroflexi_NEG/20150322_pHILIC_NEG_MSMS_BH55.h5\n",
      "6 21 /global/project/projectdirs/metatlas/raw_data/lpsilva/20150406_LPSILVA_BHedlund_chloroflexi_NEG/20151124_pHILIC_NEG_MSMS_BH_IncCtrl_1.h5\n",
      "6 21 /global/project/projectdirs/metatlas/raw_data/lpsilva/20150406_LPSILVA_BHedlund_chloroflexi_NEG/20151124_pHILIC_NEG_MSMS_BH_IncCtrl_2.h5\n",
      "6 21 /global/project/projectdirs/metatlas/raw_data/lpsilva/20150406_LPSILVA_BHedlund_chloroflexi_NEG/20151124_pHILIC_NEG_MSMS_BH_IncCtrl_3.h5\n",
      "6 21 /global/project/projectdirs/metatlas/raw_data/lpsilva/20150406_LPSILVA_BHedlund_chloroflexi_NEG/20151124_pHILIC_NEG_MSMS_BH_IncCtrl_4.h5\n",
      "6 21 /global/project/projectdirs/metatlas/raw_data/lpsilva/20150406_LPSILVA_BHedlund_chloroflexi_NEG/20151124_pHILIC_NEG_MSMS_BH_IncCtrl_5.h5\n",
      "7 21 /global/project/projectdirs/metatlas/raw_data/lpsilva/20150406_LPSilva_BHedlund_chloroflexi_NEG/20150322_pHILIC_NEG_MSMS_BH26.h5\n",
      "7 21 /global/project/projectdirs/metatlas/raw_data/lpsilva/20150406_LPSilva_BHedlund_chloroflexi_NEG/20150322_pHILIC_NEG_MSMS_BH27.h5\n",
      "7 21 /global/project/projectdirs/metatlas/raw_data/lpsilva/20150406_LPSilva_BHedlund_chloroflexi_NEG/20150322_pHILIC_NEG_MSMS_BH28.h5\n",
      "7 21 /global/project/projectdirs/metatlas/raw_data/lpsilva/20150406_LPSilva_BHedlund_chloroflexi_NEG/20150322_pHILIC_NEG_MSMS_BH29.h5\n",
      "7 21 /global/project/projectdirs/metatlas/raw_data/lpsilva/20150406_LPSilva_BHedlund_chloroflexi_NEG/20150322_pHILIC_NEG_MSMS_BH30.h5\n",
      "8 21 /global/project/projectdirs/metatlas/raw_data/lpsilva/20150406_LPSilva_BHedlund_chloroflexi_NEG/20150322_pHILIC_NEG_MSMS_BH21.h5\n",
      "8 21 /global/project/projectdirs/metatlas/raw_data/lpsilva/20150406_LPSilva_BHedlund_chloroflexi_NEG/20150322_pHILIC_NEG_MSMS_BH22.h5\n",
      "8 21 /global/project/projectdirs/metatlas/raw_data/lpsilva/20150406_LPSilva_BHedlund_chloroflexi_NEG/20150322_pHILIC_NEG_MSMS_BH23.h5\n",
      "8 21 /global/project/projectdirs/metatlas/raw_data/lpsilva/20150406_LPSilva_BHedlund_chloroflexi_NEG/20150322_pHILIC_NEG_MSMS_BH25.h5\n",
      "9 21 /global/project/projectdirs/metatlas/raw_data/lpsilva/20150406_LPSILVA_BHedlund_chloroflexi_NEG/20151124_pHILIC_NEG_MSMS_BH_GBSChlor_3_old.h5\n",
      "9 21 /global/project/projectdirs/metatlas/raw_data/lpsilva/20150406_LPSILVA_BHedlund_chloroflexi_NEG/20151124_pHILIC_NEG_MSMS_BH_GBSChlor_4_old.h5\n",
      "10 21 /global/project/projectdirs/metatlas/raw_data/lpsilva/20150406_LPSilva_BHedlund_chloroflexi_NEG/20150322_pHILIC_NEG_MSMS_BH61.h5\n",
      "10 21 /global/project/projectdirs/metatlas/raw_data/lpsilva/20150406_LPSilva_BHedlund_chloroflexi_NEG/20150322_pHILIC_NEG_MSMS_BH62.h5\n",
      "10 21 /global/project/projectdirs/metatlas/raw_data/lpsilva/20150406_LPSilva_BHedlund_chloroflexi_NEG/20150322_pHILIC_NEG_MSMS_BH63.h5\n",
      "10 21 /global/project/projectdirs/metatlas/raw_data/lpsilva/20150406_LPSilva_BHedlund_chloroflexi_NEG/20150322_pHILIC_NEG_MSMS_BH64.h5\n",
      "10 21 /global/project/projectdirs/metatlas/raw_data/lpsilva/20150406_LPSilva_BHedlund_chloroflexi_NEG/20150322_pHILIC_NEG_MSMS_BH65.h5\n",
      "11 21 /global/project/projectdirs/metatlas/raw_data/lpsilva/20150406_LPSILVA_BHedlund_chloroflexi_NEG/20151124_pHILIC_NEG_MSMS_BH_GBSCtrl_3_old.h5\n",
      "11 21 /global/project/projectdirs/metatlas/raw_data/lpsilva/20150406_LPSILVA_BHedlund_chloroflexi_NEG/20151124_pHILIC_NEG_MSMS_BH_GBSCtrl_4_old.h5\n",
      "12 21 /global/project/projectdirs/metatlas/raw_data/lpsilva/20150406_LPSilva_BHedlund_chloroflexi_NEG/20150322_pHILIC_NEG_MSMS_BH31.h5\n",
      "12 21 /global/project/projectdirs/metatlas/raw_data/lpsilva/20150406_LPSilva_BHedlund_chloroflexi_NEG/20150322_pHILIC_NEG_MSMS_BH32.h5\n",
      "12 21 /global/project/projectdirs/metatlas/raw_data/lpsilva/20150406_LPSilva_BHedlund_chloroflexi_NEG/20150322_pHILIC_NEG_MSMS_BH33.h5\n",
      "12 21 /global/project/projectdirs/metatlas/raw_data/lpsilva/20150406_LPSilva_BHedlund_chloroflexi_NEG/20150322_pHILIC_NEG_MSMS_BH34.h5\n",
      "12 21 /global/project/projectdirs/metatlas/raw_data/lpsilva/20150406_LPSilva_BHedlund_chloroflexi_NEG/20150322_pHILIC_NEG_MSMS_BH35.h5\n",
      "13 21 /global/project/projectdirs/metatlas/raw_data/lpsilva/20150406_LPSilva_BHedlund_chloroflexi_NEG/20150322_pHILIC_NEG_MSMS_BH41.h5\n",
      "13 21 /global/project/projectdirs/metatlas/raw_data/lpsilva/20150406_LPSilva_BHedlund_chloroflexi_NEG/20150322_pHILIC_NEG_MSMS_BH42.h5\n",
      "13 21 /global/project/projectdirs/metatlas/raw_data/lpsilva/20150406_LPSilva_BHedlund_chloroflexi_NEG/20150322_pHILIC_NEG_MSMS_BH43.h5\n",
      "13 21 /global/project/projectdirs/metatlas/raw_data/lpsilva/20150406_LPSilva_BHedlund_chloroflexi_NEG/20150322_pHILIC_NEG_MSMS_BH44.h5\n",
      "13 21 /global/project/projectdirs/metatlas/raw_data/lpsilva/20150406_LPSilva_BHedlund_chloroflexi_NEG/20150322_pHILIC_NEG_MSMS_BH45.h5\n",
      "14 21 /global/project/projectdirs/metatlas/raw_data/lpsilva/20150406_LPSilva_BHedlund_chloroflexi_NEG/20150322_pHILIC_NEG_MSMS_BH1.h5\n",
      "14 21 /global/project/projectdirs/metatlas/raw_data/lpsilva/20150406_LPSilva_BHedlund_chloroflexi_NEG/20150322_pHILIC_NEG_MSMS_BH2.h5\n",
      "14 21 /global/project/projectdirs/metatlas/raw_data/lpsilva/20150406_LPSilva_BHedlund_chloroflexi_NEG/20150322_pHILIC_NEG_MSMS_BH3.h5\n",
      "14 21 /global/project/projectdirs/metatlas/raw_data/lpsilva/20150406_LPSilva_BHedlund_chloroflexi_NEG/20150322_pHILIC_NEG_MSMS_BH4.h5\n",
      "14 21 /global/project/projectdirs/metatlas/raw_data/lpsilva/20150406_LPSilva_BHedlund_chloroflexi_NEG/20150322_pHILIC_NEG_MSMS_BH5.h5\n",
      "14 21 /global/project/projectdirs/metatlas/raw_data/lpsilva/20150406_LPSilva_BHedlund_chloroflexi_NEG/20150322_pHILIC_NEG_MSMS_BH5_150324122835.h5\n",
      "15 21 /global/project/projectdirs/metatlas/raw_data/lpsilva/20150406_LPSilva_BHedlund_chloroflexi_NEG/20150322_pHILIC_NEG_MSMS_BH46.h5\n",
      "15 21 /global/project/projectdirs/metatlas/raw_data/lpsilva/20150406_LPSilva_BHedlund_chloroflexi_NEG/20150322_pHILIC_NEG_MSMS_BH47.h5\n",
      "15 21 /global/project/projectdirs/metatlas/raw_data/lpsilva/20150406_LPSilva_BHedlund_chloroflexi_NEG/20150322_pHILIC_NEG_MSMS_BH48.h5\n",
      "15 21 /global/project/projectdirs/metatlas/raw_data/lpsilva/20150406_LPSilva_BHedlund_chloroflexi_NEG/20150322_pHILIC_NEG_MSMS_BH49.h5\n",
      "15 21 /global/project/projectdirs/metatlas/raw_data/lpsilva/20150406_LPSilva_BHedlund_chloroflexi_NEG/20150322_pHILIC_NEG_MSMS_BH49_150325080220.h5\n",
      "15 21 /global/project/projectdirs/metatlas/raw_data/lpsilva/20150406_LPSilva_BHedlund_chloroflexi_NEG/20150322_pHILIC_NEG_MSMS_BH50.h5\n",
      "16 21 /global/project/projectdirs/metatlas/raw_data/lpsilva/20150406_LPSilva_BHedlund_chloroflexi_NEG/20150322_pHILIC_NEG_MSMS_QCmix.h5\n",
      "17 21 /global/project/projectdirs/metatlas/raw_data/lpsilva/20150406_LPSILVA_BHedlund_chloroflexi_NEG/20151124_pHILIC_NEG_MSMS_BH_QCmix1_2uL.h5\n",
      "17 21 /global/project/projectdirs/metatlas/raw_data/lpsilva/20150406_LPSILVA_BHedlund_chloroflexi_NEG/20151124_pHILIC_NEG_MSMS_BH_QCmix1_2uL_151125115259.h5\n",
      "18 21 /global/project/projectdirs/metatlas/raw_data/lpsilva/20150406_LPSILVA_BHedlund_chloroflexi_NEG/20151124_pHILIC_NEG_MSMS_BH_GBSInc_1.h5\n",
      "18 21 /global/project/projectdirs/metatlas/raw_data/lpsilva/20150406_LPSILVA_BHedlund_chloroflexi_NEG/20151124_pHILIC_NEG_MSMS_BH_GBSInc_2.h5\n",
      "19 21 /global/project/projectdirs/metatlas/raw_data/lpsilva/20150406_LPSilva_BHedlund_chloroflexi_NEG/20150322_pHILIC_NEG_MSMS_blank.h5\n",
      "19 21 /global/project/projectdirs/metatlas/raw_data/lpsilva/20150406_LPSilva_BHedlund_chloroflexi_NEG/20150322_pHILIC_NEG_MSMS_BH59_blank.h5\n",
      "19 21 /global/project/projectdirs/metatlas/raw_data/lpsilva/20150406_LPSilva_BHedlund_chloroflexi_NEG/20150322_pHILIC_NEG_MSMS_blankfinal.h5\n",
      "20 21 /global/project/projectdirs/metatlas/raw_data/lpsilva/20150406_LPSilva_BHedlund_chloroflexi_NEG/20150322_pHILIC_NEG_MSMS_BH16.h5\n",
      "20 21 /global/project/projectdirs/metatlas/raw_data/lpsilva/20150406_LPSilva_BHedlund_chloroflexi_NEG/20150322_pHILIC_NEG_MSMS_BH17.h5\n",
      "20 21 /global/project/projectdirs/metatlas/raw_data/lpsilva/20150406_LPSilva_BHedlund_chloroflexi_NEG/20150322_pHILIC_NEG_MSMS_BH18.h5\n",
      "20 21 /global/project/projectdirs/metatlas/raw_data/lpsilva/20150406_LPSilva_BHedlund_chloroflexi_NEG/20150322_pHILIC_NEG_MSMS_BH19.h5\n",
      "20 21 /global/project/projectdirs/metatlas/raw_data/lpsilva/20150406_LPSilva_BHedlund_chloroflexi_NEG/20150322_pHILIC_NEG_MSMS_BH20.h5\n"
     ]
    }
   ],
   "source": [
    "# get and pickle everything This is MSMS, raw MS1 datapoints, compound, group info, and file info\n",
    "# combine positive and negative mode atlas, by join atlases together vs two compound references\n",
    "# typically file-groups are NOT split by polarity, files with un-matched polarity will be discarded for analysis of an identification\n",
    "dp = reload(dp)\n",
    "output_filename = '/global/homes/b/bpb/data/hedlund/20160427_Bhedlund_pHILIC_NEG_AllGroups.pkl'\n",
    "data = dp.get_data_for_groups_and_atlas(groups,myAtlas,output_filename,use_set1 = True)"
   ]
  },
  {
   "cell_type": "markdown",
   "metadata": {},
   "source": [
    "#Load a pre-existing datafile"
   ]
  },
  {
   "cell_type": "code",
   "execution_count": 40,
   "metadata": {
    "collapsed": false
   },
   "outputs": [],
   "source": [
    "my_file = output_filename #'/global/homes/b/bpb/notebooks/MetAtlas_Workflow_20151123/20160420_Bhedlund_pHILIC_NEG_AllGroups_master_atlas.pkl'\n",
    "project_label = '/global/homes/b/bpb/data/hedlund/20160427_Bhedlund_pHILIC_NEG_AllGroups'\n",
    "# data = dp.get_data(my_file)"
   ]
  },
  {
   "cell_type": "markdown",
   "metadata": {},
   "source": [
    "#Make Supplementary Tables"
   ]
  },
  {
   "cell_type": "code",
   "execution_count": 41,
   "metadata": {
    "collapsed": false
   },
   "outputs": [],
   "source": [
    "peak_height = dp.make_output_dataframe(input_fname = my_file, fieldname='peak_height' , output_loc=project_label+'/sheets')"
   ]
  },
  {
   "cell_type": "markdown",
   "metadata": {},
   "source": [
    "#Error bar"
   ]
  },
  {
   "cell_type": "code",
   "execution_count": 42,
   "metadata": {
    "collapsed": false
   },
   "outputs": [],
   "source": [
    "dp.plot_errorbar_plots(peak_height,input_fname = my_file, output_loc=project_label+'/error_bar_peak_height')"
   ]
  },
  {
   "cell_type": "markdown",
   "metadata": {},
   "source": [
    "#Make Chromatograms"
   ]
  },
  {
   "cell_type": "code",
   "execution_count": 43,
   "metadata": {
    "collapsed": false
   },
   "outputs": [
    {
     "name": "stdout",
     "output_type": "stream",
     "text": [
      "5\n",
      "38\n",
      "nrows =  15\n",
      "length of ymax is  3072\n",
      "5\n",
      "38\n",
      "nrows =  15\n",
      "length of ymax is  3072\n"
     ]
    },
    {
     "data": {
      "text/plain": [
       "<matplotlib.figure.Figure at 0x7f6652efcad0>"
      ]
     },
     "metadata": {},
     "output_type": "display_data"
    }
   ],
   "source": [
    "dp = reload(dp)\n",
    "dp.plot_all_compounds_for_each_file(input_fname = my_file, nCols = 8, scale_y=True , output_loc=project_label+'/scaled_all_compounds_each_file')\n",
    "dp.plot_all_files_for_each_compound(input_fname = my_file, nCols = 6, scale_y=True , output_loc=project_label+'/scaled_all_files_each_compound')\n",
    "dp.plot_all_compounds_for_each_file(input_fname = my_file, nCols = 8, scale_y=False , output_loc=project_label+'/all_compounds_each_file')\n",
    "dp.plot_all_files_for_each_compound(input_fname = my_file, nCols = 6, scale_y=False , output_loc=project_label+'/all_files_each_compound')"
   ]
  },
  {
   "cell_type": "markdown",
   "metadata": {},
   "source": [
    "#Make Identification Figures"
   ]
  },
  {
   "cell_type": "code",
   "execution_count": 44,
   "metadata": {
    "collapsed": false
   },
   "outputs": [],
   "source": [
    "dp.make_identification_figure(input_fname = my_file, output_loc=project_label+'/identification')"
   ]
  },
  {
   "cell_type": "code",
   "execution_count": null,
   "metadata": {
    "collapsed": true
   },
   "outputs": [],
   "source": []
  },
  {
   "cell_type": "code",
   "execution_count": null,
   "metadata": {
    "collapsed": true
   },
   "outputs": [],
   "source": []
  },
  {
   "cell_type": "code",
   "execution_count": 45,
   "metadata": {
    "collapsed": true
   },
   "outputs": [],
   "source": [
    "sys.path.insert(0,'/global/project/projectdirs/metatlas/anaconda/lib/python2.7/site-packages' )\n",
    "from metatlas import metatlas_objects as metob"
   ]
  },
  {
   "cell_type": "code",
   "execution_count": 57,
   "metadata": {
    "collapsed": false
   },
   "outputs": [],
   "source": [
    "fr = metob.FragmentationReference()\n",
    "spectrum = []\n",
    "for i in range(10):\n",
    "    mzp = metob.MzIntensityPair()\n",
    "    mzp.mz = 1.\n",
    "    mzp.intensity = 10.\n",
    "    spectrum.append(mzp)\n",
    "fr.mz_intensities = spectrum"
   ]
  },
  {
   "cell_type": "code",
   "execution_count": 58,
   "metadata": {
    "collapsed": false
   },
   "outputs": [
    {
     "data": {
      "text/plain": [
       "{'creation_time': '2016-04-28T01:31:06',\n",
       " 'description': u'No description',\n",
       " 'enabled': True,\n",
       " 'head_id': u'a61d84cd9eef40d78eab295caf3551c1',\n",
       " 'last_modified': '2016-04-28T01:31:06',\n",
       " 'lcms_run': None,\n",
       " 'mz_intensities': [{'creation_time': '2016-04-28T01:31:06',\n",
       " 'description': u'No description',\n",
       " 'head_id': u'adad191c4813436e91ab18d2eacc32d5',\n",
       " 'intensity': 10.0,\n",
       " 'last_modified': '2016-04-28T01:31:06',\n",
       " 'mz': 1.0,\n",
       " 'name': u'Untitled',\n",
       " 'prev_uid': u'',\n",
       " 'unique_id': u'adad191c4813436e91ab18d2eacc32d5',\n",
       " 'username': u'bpb'},\n",
       "                    {'creation_time': '2016-04-28T01:31:06',\n",
       " 'description': u'No description',\n",
       " 'head_id': u'43cd908c60e4490d814d3dfbc1ef5206',\n",
       " 'intensity': 10.0,\n",
       " 'last_modified': '2016-04-28T01:31:06',\n",
       " 'mz': 1.0,\n",
       " 'name': u'Untitled',\n",
       " 'prev_uid': u'',\n",
       " 'unique_id': u'43cd908c60e4490d814d3dfbc1ef5206',\n",
       " 'username': u'bpb'},\n",
       "                    {'creation_time': '2016-04-28T01:31:06',\n",
       " 'description': u'No description',\n",
       " 'head_id': u'7b8a03afd230451498e56a3fcd5d01a2',\n",
       " 'intensity': 10.0,\n",
       " 'last_modified': '2016-04-28T01:31:06',\n",
       " 'mz': 1.0,\n",
       " 'name': u'Untitled',\n",
       " 'prev_uid': u'',\n",
       " 'unique_id': u'7b8a03afd230451498e56a3fcd5d01a2',\n",
       " 'username': u'bpb'},\n",
       "                    {'creation_time': '2016-04-28T01:31:06',\n",
       " 'description': u'No description',\n",
       " 'head_id': u'34a6a27e08e94c39afeb50a3594b3f56',\n",
       " 'intensity': 10.0,\n",
       " 'last_modified': '2016-04-28T01:31:06',\n",
       " 'mz': 1.0,\n",
       " 'name': u'Untitled',\n",
       " 'prev_uid': u'',\n",
       " 'unique_id': u'34a6a27e08e94c39afeb50a3594b3f56',\n",
       " 'username': u'bpb'},\n",
       "                    {'creation_time': '2016-04-28T01:31:06',\n",
       " 'description': u'No description',\n",
       " 'head_id': u'3039a59fdb43412bab3c97eefb9dcfc2',\n",
       " 'intensity': 10.0,\n",
       " 'last_modified': '2016-04-28T01:31:06',\n",
       " 'mz': 1.0,\n",
       " 'name': u'Untitled',\n",
       " 'prev_uid': u'',\n",
       " 'unique_id': u'3039a59fdb43412bab3c97eefb9dcfc2',\n",
       " 'username': u'bpb'},\n",
       "                    {'creation_time': '2016-04-28T01:31:06',\n",
       " 'description': u'No description',\n",
       " 'head_id': u'88273c7e00fa4bd88bc8f87df4c6ecaf',\n",
       " 'intensity': 10.0,\n",
       " 'last_modified': '2016-04-28T01:31:06',\n",
       " 'mz': 1.0,\n",
       " 'name': u'Untitled',\n",
       " 'prev_uid': u'',\n",
       " 'unique_id': u'88273c7e00fa4bd88bc8f87df4c6ecaf',\n",
       " 'username': u'bpb'},\n",
       "                    {'creation_time': '2016-04-28T01:31:06',\n",
       " 'description': u'No description',\n",
       " 'head_id': u'47a36e0ececd401ba2b4d79ad28af1b7',\n",
       " 'intensity': 10.0,\n",
       " 'last_modified': '2016-04-28T01:31:06',\n",
       " 'mz': 1.0,\n",
       " 'name': u'Untitled',\n",
       " 'prev_uid': u'',\n",
       " 'unique_id': u'47a36e0ececd401ba2b4d79ad28af1b7',\n",
       " 'username': u'bpb'},\n",
       "                    {'creation_time': '2016-04-28T01:31:06',\n",
       " 'description': u'No description',\n",
       " 'head_id': u'1cc8edb7c05a49febae99b920d7dae74',\n",
       " 'intensity': 10.0,\n",
       " 'last_modified': '2016-04-28T01:31:06',\n",
       " 'mz': 1.0,\n",
       " 'name': u'Untitled',\n",
       " 'prev_uid': u'',\n",
       " 'unique_id': u'1cc8edb7c05a49febae99b920d7dae74',\n",
       " 'username': u'bpb'},\n",
       "                    {'creation_time': '2016-04-28T01:31:06',\n",
       " 'description': u'No description',\n",
       " 'head_id': u'f2d84f1bf3bd4a4cbc21f7f4ad9a76e4',\n",
       " 'intensity': 10.0,\n",
       " 'last_modified': '2016-04-28T01:31:06',\n",
       " 'mz': 1.0,\n",
       " 'name': u'Untitled',\n",
       " 'prev_uid': u'',\n",
       " 'unique_id': u'f2d84f1bf3bd4a4cbc21f7f4ad9a76e4',\n",
       " 'username': u'bpb'},\n",
       "                    {'creation_time': '2016-04-28T01:31:06',\n",
       " 'description': u'No description',\n",
       " 'head_id': u'a2e0e409c8c14ea99812882126954239',\n",
       " 'intensity': 10.0,\n",
       " 'last_modified': '2016-04-28T01:31:06',\n",
       " 'mz': 1.0,\n",
       " 'name': u'Untitled',\n",
       " 'prev_uid': u'',\n",
       " 'unique_id': u'a2e0e409c8c14ea99812882126954239',\n",
       " 'username': u'bpb'}],\n",
       " 'name': u'Untitled',\n",
       " 'polarity': 'positive',\n",
       " 'precursor_mz': 0.0,\n",
       " 'prev_uid': u'',\n",
       " 'ref_type': u'',\n",
       " 'unique_id': u'a61d84cd9eef40d78eab295caf3551c1',\n",
       " 'username': u'bpb'}"
      ]
     },
     "execution_count": 58,
     "metadata": {},
     "output_type": "execute_result"
    }
   ],
   "source": [
    "fr"
   ]
  },
  {
   "cell_type": "code",
   "execution_count": null,
   "metadata": {
    "collapsed": true
   },
   "outputs": [],
   "source": []
  }
 ],
 "metadata": {
  "kernelspec": {
   "display_name": "Python 2",
   "language": "python",
   "name": "python2"
  },
  "language_info": {
   "codemirror_mode": {
    "name": "ipython",
    "version": 2
   },
   "file_extension": ".py",
   "mimetype": "text/x-python",
   "name": "python",
   "nbconvert_exporter": "python",
   "pygments_lexer": "ipython2",
   "version": "2.7.11"
  }
 },
 "nbformat": 4,
 "nbformat_minor": 0
}
