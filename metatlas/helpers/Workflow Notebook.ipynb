{
 "cells": [
  {
   "cell_type": "markdown",
   "metadata": {},
   "source": [
    "#Import Python Packages"
   ]
  },
  {
   "cell_type": "code",
   "execution_count": 5,
   "metadata": {
    "collapsed": false
   },
   "outputs": [],
   "source": [
    "import sys\n",
    "sys.path.insert(0,'/global/homes/b/bpb/metatlas/metatlas/helpers/' )\n",
    "import dill2plots as dp\n",
    "%matplotlib inline"
   ]
  },
  {
   "cell_type": "markdown",
   "metadata": {},
   "source": [
    "#Make blank file-info sheet"
   ]
  },
  {
   "cell_type": "markdown",
   "metadata": {},
   "source": [
    "Get files from database"
   ]
  },
  {
   "cell_type": "code",
   "execution_count": null,
   "metadata": {
    "collapsed": true
   },
   "outputs": [],
   "source": [
    "files = metob.retrieve('LcmsRun',experiment='%experiment_name%',mzml_file='%', username='*')\n",
    "\n",
    "# files = metob.retrieve('LcmsRun',mzml_file='%_LPSilva_Actino_%_51isolates%', username='*')\n",
    "flist = []\n",
    "for f in files:\n",
    "    flist.append(f.mzml_file)\n",
    "import numpy as np\n",
    "flist = np.unique(flist)\n",
    "print len(flist)\n",
    "experiment_name = f.experiment"
   ]
  },
  {
   "cell_type": "markdown",
   "metadata": {},
   "source": [
    "Save the files to an empty fileinfo sheet"
   ]
  },
  {
   "cell_type": "code",
   "execution_count": null,
   "metadata": {
    "collapsed": true
   },
   "outputs": [],
   "source": [
    "#dump all the files to a spreadheet, download it, and make a \"filled in\" one.\n",
    "with open('aFileInfo_Sheet_%s_Not_filled_in.tab'%experiment_name,'w') as fid:\n",
    "    fid.write('mzml_file\\tgroup\\tdescription\\n')\n",
    "    for f in flist:\n",
    "        fid.write('%s\\t\\t\\n'%f)"
   ]
  },
  {
   "cell_type": "markdown",
   "metadata": {},
   "source": [
    "#Create metatlas groups from filled in file-info sheet"
   ]
  },
  {
   "cell_type": "code",
   "execution_count": null,
   "metadata": {
    "collapsed": true
   },
   "outputs": [],
   "source": [
    "df = pd.read_csv('../atlas_finfo_to_be_loaded/FileInfoSheet_AllFiles_20160413 (1).txt',sep='\\t')\n",
    "# df = pd.read_excel('../atlas_finfo_to_be_loaded/')\n",
    "df"
   ]
  },
  {
   "cell_type": "code",
   "execution_count": null,
   "metadata": {
    "collapsed": true
   },
   "outputs": [],
   "source": [
    "grouped = df.groupby(by='group')\n",
    "print grouped.groups.keys()"
   ]
  },
  {
   "cell_type": "code",
   "execution_count": null,
   "metadata": {
    "collapsed": true
   },
   "outputs": [],
   "source": [
    "for g in grouped.groups.keys():\n",
    "    indices = grouped.groups[g]\n",
    "    myGroup = metob.Group()\n",
    "    myGroup.name = '%s'%g\n",
    "    myGroup.description = df.loc[indices[0],'description']\n",
    "    file_set = []\n",
    "    for i in indices:\n",
    "        file_set.append(metob.retrieve('LcmsRun',mzml_file='%%%s'%df.loc[i,'mzml_file'],username='*')[0])\n",
    "    myGroup.items = file_set\n",
    "    metob.store(myGroup)"
   ]
  },
  {
   "cell_type": "markdown",
   "metadata": {},
   "source": [
    "#Create a new Atlas in metatlas from a spreadsheet"
   ]
  },
  {
   "cell_type": "code",
   "execution_count": null,
   "metadata": {
    "collapsed": true
   },
   "outputs": [],
   "source": [
    "df = pd.read_excel('../atlas_finfo_to_be_loaded/20160413_Atlas_HILIC_NEG (1).xlsx',sheetname='NEG Atlas')\n",
    "df.columns = [x.lower() for x in df.columns]\n",
    "df"
   ]
  },
  {
   "cell_type": "code",
   "execution_count": null,
   "metadata": {
    "collapsed": true
   },
   "outputs": [],
   "source": [
    "\n",
    "# compounds that have the wrong compound name will be listed\n",
    "# Keep running this until no more compounds are listed\n",
    "for x in df.index:\n",
    "    if type(df.name[x]) != float or type(df.label[x]) != float:\n",
    "        if type(df.name[x]) != float:\n",
    "                if not metob.retrieve('Compounds',name=df.name[x]):\n",
    "                    print df.name[x], \"is not in database\""
   ]
  },
  {
   "cell_type": "code",
   "execution_count": null,
   "metadata": {
    "collapsed": true
   },
   "outputs": [],
   "source": [
    "myCompounds = []\n",
    "rt_min = []\n",
    "rt_max = []\n",
    "rt_peak = []\n",
    "mz = []\n",
    "mz_tolerance = []\n",
    "compound_label = []\n",
    "for x in df.index:\n",
    "    if type(df.name[x]) != float or type(df.label[x]) != float: #this logic is to skip empty rows\n",
    "        if type(df.name[x]) != float: # this logic is where a name has been specified\n",
    "            c = metob.retrieve('Compounds',name=df.name[x])[0] #currently, all copies of the molecule are returned.  The 0 is the most recent one. \n",
    "        else:\n",
    "            c = 'use_label'\n",
    "        if type(df.label[x]) != float:\n",
    "            compound_label.append(df.label[x]) #if no name, then use label as descriptor\n",
    "        else:\n",
    "            compound_label.append('no label')\n",
    "        myCompounds.append(c)\n",
    "        rt_min.append(df.rt_min[x])\n",
    "        rt_max.append(df.rt_max[x])\n",
    "        rt_peak.append(df.rt_peak[x])\n",
    "        mz.append(df.mz[x])\n",
    "#     mz.append(c.mono_isotopic_molecular_weight + 1.007276)\n",
    "\n",
    "        mz_tolerance.append(df.mz_threshold[x])\n",
    "#     if abs(dmz) > 100:\n",
    "#         dmz = 1e6 * (c.MonoIsotopic_molecular_weight + 59.013851 - df.mz[x] ) / df.mz[x]\n",
    "#         print c.MonoIsotopic_molecular_weight - df.mz[x]\n",
    "        try:\n",
    "            dmz = 1e6 * (c.mono_isotopic_molecular_weight - 1.007276 - df.mz[x] ) / ( df.mz[x])\n",
    "            print '%5.2f'%abs(dmz), \"\\t\", c.name,c.formula,c.mono_isotopic_molecular_weight,c.description, df.rt_min[x], df.rt_max[x], df.mz[x]#, c.InChI  \n",
    "        except:\n",
    "            pass\n",
    "    #TODO: See above todo's.  this block needs to be rebuilt\n",
    "#     myID.description = 'mz=%5.4f,ppm=%5.4f,RTmin=%5.4f,RTmax=%5.4f,RTpeak=%5.4f'%(mz[i],\n",
    "#                                                                                  mz_tolerance[i],\n",
    "#                                                                                  rt_min[i],\n",
    "#                                                                                  rt_max[i],\n",
    "#                                                                                  rt_peak[i])\n",
    "#     print myID.references\n",
    "\n",
    "\n",
    "all_identifications = []\n",
    "for i,c in enumerate(myCompounds):\n",
    "    mzRef = metob.MzReference()\n",
    "\n",
    "    # take the mz value from the spreadsheet\n",
    "    mzRef.mz = mz[i]\n",
    "    \n",
    "    #TODO: calculate the mz from theoretical adduct and modification if provided.\n",
    "#     mzRef.mz = c.MonoIso topic_molecular_weight + 1.007276\n",
    "    mzRef.mz_tolerance = mz_tolerance[i]\n",
    "    mzRef.mz_tolerance_units = 'ppm'\n",
    "    mzRef.detected_polarity = 'negative'\n",
    "#     mzRef.adduct = '[M-H]'\n",
    "    \n",
    "    rtRef = metob.RtReference()\n",
    "    rtRef.rt_units = 'min'\n",
    "    rtRef.rt_min = rt_min[i]\n",
    "    rtRef.rt_max = rt_max[i]\n",
    "    rtRef.rt_peak = rt_peak[i]\n",
    "    \n",
    "    myID = metob.CompoundIdentification()\n",
    "    if c != 'use_label':\n",
    "        myID.compound = [c]\n",
    "    myID.name = compound_label[i]\n",
    "    myID.mz_references = [mzRef]\n",
    "    myID.rt_references = [rtRef]\n",
    "\n",
    "    all_identifications.append(myID)\n",
    "\n",
    "myAtlas = metob.Atlas()\n",
    "#metob.Atlas() has \"compound_identifications\" and a \"name\"\n",
    "# myAtlas.name = '20151130_LS_Negative_Hilic_QExactive_Archetypes'\n",
    "myAtlas.name = 'RL_HM_6550_20160330_Neg_Hilic_Arkin_Ophelia'\n",
    "myAtlas.compound_identifications = all_identifications\n",
    "metob.store(myAtlas)"
   ]
  },
  {
   "cell_type": "code",
   "execution_count": null,
   "metadata": {
    "collapsed": true
   },
   "outputs": [],
   "source": []
  },
  {
   "cell_type": "markdown",
   "metadata": {},
   "source": [
    "#Select groups of files to operate on"
   ]
  },
  {
   "cell_type": "code",
   "execution_count": null,
   "metadata": {
    "collapsed": true
   },
   "outputs": [],
   "source": [
    "temp_group = metob.retrieve('Groups', name = '20160413_Bhedlund_pHILIC_POS%', username='*')#RL_HM_6550_HILIC_20160328_%Neg%',username='*')\n",
    "# temp_group = metob.retrieve('Groups', name = '%Replicate_Analysis_R2A_HILIC_neg%')\n",
    "# print temp_group\n",
    "\n",
    "group_filter = []\n",
    "\n",
    "# group_filter = ['GBS_Med_Ctrl_Set1','GBS_Med_inc_Set1','JAD2_GBS_Set1',\n",
    "#                 'GBS_4OE_Ctrl_Set1','JAD2_GBS_4OE_Set1','GBS_32OE_Ctrl_Set1',\n",
    "#                 'GBS_32OE_Ctrl_Set2','GBS_32OE_inc_Set2','JAD2_GBS_32OE_Set1JAD2_GBS_32OE_Set2',\n",
    "#                 'GBS_conc_inc_Set2']\n",
    "\n",
    "if len(temp_group)==1:\n",
    "    group = temp_group\n",
    "else:\n",
    "    group = []\n",
    "    for i,g in enumerate(temp_group):\n",
    "        if (len(g.items) > 0):# and ('RootCass' not in g.name) and ('_QC_' not in g.name):\n",
    "            if group_filter:\n",
    "                if any(ext in g.name for ext in group_filter):\n",
    "                    group.append(g)\n",
    "            else:\n",
    "                group.append(g)"
   ]
  },
  {
   "cell_type": "markdown",
   "metadata": {},
   "source": [
    "#Select Atlas to use"
   ]
  },
  {
   "cell_type": "code",
   "execution_count": null,
   "metadata": {
    "collapsed": true
   },
   "outputs": [],
   "source": [
    "atlas = metob.retrieve('Atlas',name = '%master%',username='*')\n",
    "from datetime import datetime, date\n",
    "for i,a in enumerate(atlas):\n",
    "    print i, a.name,  datetime.utcfromtimestamp(a.last_modified)"
   ]
  },
  {
   "cell_type": "code",
   "execution_count": null,
   "metadata": {
    "collapsed": true
   },
   "outputs": [],
   "source": [
    "myAtlas = atlas[4]"
   ]
  },
  {
   "cell_type": "markdown",
   "metadata": {},
   "source": [
    "#Get Data and Save it"
   ]
  },
  {
   "cell_type": "code",
   "execution_count": null,
   "metadata": {
    "collapsed": true
   },
   "outputs": [],
   "source": [
    "# get and pickle everything This is MSMS, raw MS1 datapoints, compound, group info, and file info\n",
    "# combine positive and negative mode atlas, by join atlases together vs two compound references\n",
    "# typically file-groups are NOT split by polarity, files with un-matched polarity will be discarded for analysis of an identification\n",
    "data = dp.get_data_for_groups_and_atlas(group,myAtlas,output_filename)"
   ]
  },
  {
   "cell_type": "markdown",
   "metadata": {},
   "source": [
    "#Load a pre-existing datafile"
   ]
  },
  {
   "cell_type": "code",
   "execution_count": 7,
   "metadata": {
    "collapsed": false
   },
   "outputs": [],
   "source": [
    "my_file = '/global/homes/b/bpb/notebooks/MetAtlas_Workflow_20151123/20160420_Bhedlund_pHILIC_NEG_AllGroups_master_atlas.pkl'\n",
    "project_label = '20160420_Bhedlund_pHILIC_NEG_AllGroups_master_atlas'\n",
    "# data = dp.get_data(my_file)"
   ]
  },
  {
   "cell_type": "markdown",
   "metadata": {},
   "source": [
    "#Make Supplementary Tables"
   ]
  },
  {
   "cell_type": "code",
   "execution_count": 23,
   "metadata": {
    "collapsed": false
   },
   "outputs": [],
   "source": [
    "\n",
    "dp = reload(dp)\n",
    "\n",
    "peak_height = dp.make_output_dataframe(input_fname = my_file, fieldname='peak_height' , output_loc=project_label+'/sheets')"
   ]
  },
  {
   "cell_type": "markdown",
   "metadata": {},
   "source": [
    "#Error bar"
   ]
  },
  {
   "cell_type": "code",
   "execution_count": 28,
   "metadata": {
    "collapsed": false
   },
   "outputs": [],
   "source": [
    "dp = reload(dp)\n",
    "dp.plot_errorbar_plots(peak_height,input_fname = my_file, output_loc=project_label+'/error_bar_peak_height')"
   ]
  },
  {
   "cell_type": "markdown",
   "metadata": {},
   "source": [
    "#Make Chromatograms"
   ]
  },
  {
   "cell_type": "code",
   "execution_count": 9,
   "metadata": {
    "collapsed": false
   },
   "outputs": [
    {
     "name": "stdout",
     "output_type": "stream",
     "text": [
      "7\n",
      "74\n",
      "nrows =  8\n",
      "length of ymax is  5620\n"
     ]
    },
    {
     "data": {
      "text/plain": [
       "<matplotlib.figure.Figure at 0x7f018bdc9d10>"
      ]
     },
     "metadata": {},
     "output_type": "display_data"
    }
   ],
   "source": [
    "dp = reload(dp)\n",
    "dp.plot_all_compounds_for_each_file(input_fname = my_file, nCols = 12, scale_y=True , output_loc=project_label+'/all_compounds_each_file')\n",
    "dp.plot_all_files_for_each_compound(input_fname = my_file, nCols = 12, scale_y=True , output_loc=project_label+'/all_files_each_compound')"
   ]
  },
  {
   "cell_type": "markdown",
   "metadata": {},
   "source": [
    "#Make Identification Figures"
   ]
  },
  {
   "cell_type": "code",
   "execution_count": 18,
   "metadata": {
    "collapsed": false
   },
   "outputs": [],
   "source": [
    "dp = reload(dp)\n",
    "dp.make_identification_figure(input_fname = my_file, output_loc=project_label+'/identification')"
   ]
  },
  {
   "cell_type": "markdown",
   "metadata": {},
   "source": [
    "#Export Atlas To Spreadsheet"
   ]
  },
  {
   "cell_type": "code",
   "execution_count": null,
   "metadata": {
    "collapsed": true
   },
   "outputs": [],
   "source": [
    "dp.export_atlas_to_spreadsheet(myAtlas,output_filename)\n"
   ]
  }
 ],
 "metadata": {
  "kernelspec": {
   "display_name": "Python 2",
   "language": "python",
   "name": "python2"
  },
  "language_info": {
   "codemirror_mode": {
    "name": "ipython",
    "version": 2
   },
   "file_extension": ".py",
   "mimetype": "text/x-python",
   "name": "python",
   "nbconvert_exporter": "python",
   "pygments_lexer": "ipython2",
   "version": "2.7.11"
  }
 },
 "nbformat": 4,
 "nbformat_minor": 0
}
