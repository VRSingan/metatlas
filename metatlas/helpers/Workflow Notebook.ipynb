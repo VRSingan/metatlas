{
 "cells": [
  {
   "cell_type": "markdown",
   "metadata": {},
   "source": [
    "#Import Python Packages"
   ]
  },
  {
   "cell_type": "code",
   "execution_count": 3,
   "metadata": {
    "collapsed": false
   },
   "outputs": [],
   "source": [
    "import sys\n",
    "sys.path.insert(0,'/global/homes/b/bpb/metatlas/metatlas/helpers/' )\n",
    "import dill2plots as dp\n",
    "%matplotlib inline"
   ]
  },
  {
   "cell_type": "markdown",
   "metadata": {},
   "source": [
    "#Make blank file-info sheet"
   ]
  },
  {
   "cell_type": "markdown",
   "metadata": {},
   "source": [
    "Get files from database"
   ]
  },
  {
   "cell_type": "code",
   "execution_count": 10,
   "metadata": {
    "collapsed": false
   },
   "outputs": [],
   "source": [
    "files = dp.get_metatlas_files(experiment = '%hedlund%',name = '%hilic%',most_recent = True)"
   ]
  },
  {
   "cell_type": "markdown",
   "metadata": {},
   "source": [
    "Save the files to an empty fileinfo sheet"
   ]
  },
  {
   "cell_type": "code",
   "execution_count": 9,
   "metadata": {
    "collapsed": false
   },
   "outputs": [],
   "source": [
    "dp.make_empty_fileinfo_sheet('/global/homes/b/bpb/notebooks/atlas_finfo_to_be_loaded/hedlund_empty_fileinfo.tab',files)"
   ]
  },
  {
   "cell_type": "markdown",
   "metadata": {},
   "source": [
    "#Create metatlas groups from filled in file-info sheet"
   ]
  },
  {
   "cell_type": "code",
   "execution_count": 18,
   "metadata": {
    "collapsed": false
   },
   "outputs": [],
   "source": [
    "dp = reload(dp)\n",
    "g = dp.make_groups_from_fileinfo_sheet('/global/homes/b/bpb/notebooks/atlas_finfo_to_be_loaded/FileInfoSheet_BHedlund_AllFiles_20160413 (1).txt',store=False)"
   ]
  },
  {
   "cell_type": "markdown",
   "metadata": {},
   "source": [
    "#Create a new Atlas in metatlas from a spreadsheet"
   ]
  },
  {
   "cell_type": "code",
   "execution_count": 71,
   "metadata": {
    "collapsed": true
   },
   "outputs": [],
   "source": [
    "import pandas as pd"
   ]
  },
  {
   "cell_type": "code",
   "execution_count": 93,
   "metadata": {
    "collapsed": false
   },
   "outputs": [
    {
     "name": "stdout",
     "output_type": "stream",
     "text": [
      "/global/homes/b/bpb/Downloads/hedlund/Not_Found_BrianHedlund_Atlas_POS_using_MSMS.csv\n",
      "/global/homes/b/bpb/Downloads/hedlund/RT_and_MSMS_BrianHedlund_Atlas_POS_using_MSMS.csv\n",
      "/global/homes/b/bpb/Downloads/hedlund/RT_BrianHedlund_Atlas_POS_using_MSMS.csv\n"
     ]
    }
   ],
   "source": [
    "path = '/global/homes/b/bpb/Downloads/hedlund/'\n",
    "input_file = 'BrianHedlund_Atlas_POS_using_MSMS.csv'\n",
    "df = pd.read_csv(path + input_file)\n",
    "df.loc[df.name == 'Arsenobetaine','name'] = ''\n",
    "output_file = 'Not_Found_' + input_file\n",
    "print path+output_file\n",
    "df[df.new_observed == 0][['name','label','rt_min','rt_max','rt_peak','mz','mz_tolerance']].to_csv(path+output_file)\n",
    "\n",
    "output_file = 'RT_and_MSMS_' + input_file\n",
    "print path+output_file\n",
    "df[df.new_observed == 1][['name','label','rt_min','rt_max','rt_peak','mz','mz_tolerance']].to_csv(path+output_file)\n",
    "\n",
    "output_file = 'RT_' + input_file\n",
    "print path+output_file\n",
    "df[df.new_observed == 2][['name','label','rt_min','rt_max','rt_peak','mz','mz_tolerance']].to_csv(path+output_file)"
   ]
  },
  {
   "cell_type": "code",
   "execution_count": 94,
   "metadata": {
    "collapsed": false,
    "scrolled": false
   },
   "outputs": [],
   "source": [
    "dp = reload(dp)\n",
    "# df3 = dp.get_formatted_atlas_from_google_sheet(polarity='POS',method='QE_HILIC', mz_tolerance=10)\n",
    "names = dp.make_atlas_from_spreadsheet('/global/homes/b/bpb/Downloads/hedlund/Not_Found_BrianHedlund_Atlas_POS_using_MSMS.csv',\n",
    "                                       'hedlund_hilic_qexactive_pos_not observed',\n",
    "                                       filetype='csv',\n",
    "                                       sheetname='',\n",
    "                                       polarity = 'positive',\n",
    "                                       store=True,\n",
    "#                                        dataframe = df3,\n",
    "                                      mz_tolerance = 20)\n",
    "\n",
    "names = dp.make_atlas_from_spreadsheet('/global/homes/b/bpb/Downloads/hedlund/RT_and_MSMS_BrianHedlund_Atlas_POS_using_MSMS.csv',\n",
    "                                       'hedlund_hilic_qexactive_pos_present',\n",
    "                                       filetype='csv',\n",
    "                                       sheetname='',\n",
    "                                       polarity = 'positive',\n",
    "                                       store=True,\n",
    "#                                        dataframe = df3,\n",
    "                                      mz_tolerance = 20)\n",
    "\n",
    "names = dp.make_atlas_from_spreadsheet('/global/homes/b/bpb/Downloads/hedlund/RT_BrianHedlund_Atlas_POS_using_MSMS.csv',\n",
    "                                       'hedlund_hilic_qexactive_pos_maybe',\n",
    "                                       filetype='csv',\n",
    "                                       sheetname='',\n",
    "                                       polarity = 'positive',\n",
    "                                       store=True,\n",
    "#                                        dataframe = df3,\n",
    "                                      mz_tolerance = 20)\n",
    "\n",
    "names = dp.make_atlas_from_spreadsheet('/global/homes/b/bpb/Downloads/hedlund/Not_Found_BrianHedlund_Atlas_NEG_using_MSMS.csv',\n",
    "                                       'hedlund_hilic_qexactive_neg_not observed',\n",
    "                                       filetype='csv',\n",
    "                                       sheetname='',\n",
    "                                       polarity = 'negative',\n",
    "                                       store=True,\n",
    "#                                        dataframe = df3,\n",
    "                                      mz_tolerance = 20)\n",
    "\n",
    "names = dp.make_atlas_from_spreadsheet('/global/homes/b/bpb/Downloads/hedlund/RT_and_MSMS_BrianHedlund_Atlas_NEG_using_MSMS.csv',\n",
    "                                       'hedlund_hilic_qexactive_neg_present',\n",
    "                                       filetype='csv',\n",
    "                                       sheetname='',\n",
    "                                       polarity = 'negative',\n",
    "                                       store=True,\n",
    "#                                        dataframe = df3,\n",
    "                                      mz_tolerance = 20)\n",
    "\n",
    "names = dp.make_atlas_from_spreadsheet('/global/homes/b/bpb/Downloads/hedlund/RT_BrianHedlund_Atlas_NEG_using_MSMS.csv',\n",
    "                                       'hedlund_hilic_qexactive_neg_maybe',\n",
    "                                       filetype='csv',\n",
    "                                       sheetname='',\n",
    "                                       polarity = 'negative',\n",
    "                                       store=True,\n",
    "#                                        dataframe = df3,\n",
    "                                      mz_tolerance = 20)"
   ]
  },
  {
   "cell_type": "code",
   "execution_count": 4,
   "metadata": {
    "collapsed": false
   },
   "outputs": [
    {
     "ename": "NameError",
     "evalue": "name 'project_label' is not defined",
     "output_type": "error",
     "traceback": [
      "\u001b[1;31m---------------------------------------------------------------------------\u001b[0m",
      "\u001b[1;31mNameError\u001b[0m                                 Traceback (most recent call last)",
      "\u001b[1;32m<ipython-input-4-e74e705aebd2>\u001b[0m in \u001b[0;36m<module>\u001b[1;34m()\u001b[0m\n\u001b[1;32m----> 1\u001b[1;33m \u001b[0mproject_label\u001b[0m\u001b[1;33m\u001b[0m\u001b[0m\n\u001b[0m",
      "\u001b[1;31mNameError\u001b[0m: name 'project_label' is not defined"
     ]
    }
   ],
   "source": [
    "project_label"
   ]
  },
  {
   "cell_type": "code",
   "execution_count": null,
   "metadata": {
    "collapsed": false,
    "scrolled": false
   },
   "outputs": [
    {
     "name": "stdout",
     "output_type": "stream",
     "text": [
      "/global/homes/b/bpb/Downloads/hedlund/set1/pickle_hedlund_hilic_qexactive_neg_not observed.pkl\n",
      "/global/homes/b/bpb/Downloads/hedlund/set1/hilic_qexactive_neg_not_observed\n",
      "/global/homes/b/bpb/Downloads/hedlund/set1/pickle_hedlund_hilic_qexactive_neg_present.pkl\n",
      "/global/homes/b/bpb/Downloads/hedlund/set1/hilic_qexactive_neg_present\n",
      "/global/homes/b/bpb/Downloads/hedlund/set1/pickle_hedlund_hilic_qexactive_neg_maybe.pkl\n",
      "/global/homes/b/bpb/Downloads/hedlund/set1/hilic_qexactive_neg_maybe\n",
      "/global/homes/b/bpb/Downloads/hedlund/set1/pickle_hedlund_hilic_qexactive_pos_not observed.pkl\n",
      "/global/homes/b/bpb/Downloads/hedlund/set1/hilic_qexactive_pos_not_observed\n",
      "/global/homes/b/bpb/Downloads/hedlund/set1/pickle_hedlund_hilic_qexactive_pos_maybe.pkl\n",
      "/global/homes/b/bpb/Downloads/hedlund/set1/hilic_qexactive_pos_maybe\n",
      "/global/homes/b/bpb/Downloads/hedlund/set1/pickle_hedlund_hilic_qexactive_pos_present.pkl"
     ]
    }
   ],
   "source": [
    "atlases = ['hedlund_hilic_qexactive_neg_not observed',\n",
    "        'hedlund_hilic_qexactive_neg_present',\n",
    "        'hedlund_hilic_qexactive_neg_maybe',\n",
    "        'hedlund_hilic_qexactive_pos_not observed',\n",
    "        'hedlund_hilic_qexactive_pos_maybe',\n",
    "        'hedlund_hilic_qexactive_pos_present']\n",
    "\n",
    "\n",
    "import os           \n",
    "\n",
    "for a in atlases:\n",
    "#     if 'neg' in a:\n",
    "#         group_str = '%hedlund%neg%'\n",
    "#     else:\n",
    "#         group_str = '%hedlund%pos%'\n",
    "#     groups = dp.select_groups_for_analysis(name = group_str, most_recent = True, remove_empty = True, filter_list = ['Set1'], exclude_list = ['QC','Blank'])\n",
    "        \n",
    "#     atlas = dp.get_metatlas_atlas(name=a,do_print = True)\n",
    "    \n",
    "#     TODO: Export the searched data instead of the atlas\n",
    "#     df = dp.export_atlas_to_spreadsheet(atlas[0],'/global/homes/b/bpb/Downloads/hedlund/set1/%s.csv'%a)\n",
    "    output_filename = '/global/homes/b/bpb/Downloads/hedlund/set1/pickle_%s.pkl'%a\n",
    "    print output_filename\n",
    "#     data = dp.get_data_for_groups_and_atlas(groups,atlas[0],output_filename,use_set1 = True)\n",
    "    \n",
    "    my_str = os.path.basename(output_filename).split('.')[0].replace(' ','_').replace('pickle_hedlund_','')\n",
    "    project_label = '/global/homes/b/bpb/Downloads/hedlund/set1/%s'%my_str\n",
    "    print project_label\n",
    "    peak_height = dp.make_output_dataframe(input_fname = output_filename, fieldname='peak_height' , output_loc=project_label+'/sheets')\n",
    "#     peak_area = dp.make_output_dataframe(input_fname = output_filename, fieldname='peak_area' , output_loc=project_label+'/sheets')\n",
    "#     rt_peak = dp.make_output_dataframe(input_fname = output_filename, fieldname='rt_peak' , output_loc=project_label+'/sheets')\n",
    "#     mz_centroid = dp.make_output_dataframe(input_fname = output_filename, fieldname='mz_centroid' , output_loc=project_label+'/sheets')\n",
    "\n",
    "    dp.plot_errorbar_plots(peak_height,input_fname = output_filename, output_loc=project_label+'/error_bar_peak_height')\n",
    "#     dp.plot_all_files_for_each_compound(input_fname = output_filename, nCols = 6, scale_y=False , output_loc=project_label+'/all_files_each_compound')\n",
    "#     dp.make_identification_figure(input_fname = output_filename, output_loc=project_label+'/identification')\n",
    "    \n",
    "    \n"
   ]
  },
  {
   "cell_type": "markdown",
   "metadata": {},
   "source": [
    "#Select groups of files to operate on"
   ]
  },
  {
   "cell_type": "code",
   "execution_count": 53,
   "metadata": {
    "collapsed": false
   },
   "outputs": [
    {
     "name": "stdout",
     "output_type": "stream",
     "text": [
      "0 20160413_Bhedlund_pHILIC_NEG_GBS_Med_inc_Set1 2016-04-14 17:59:30\n",
      "1 20160413_Bhedlund_pHILIC_NEG_PR_End_Set1 2016-04-14 17:59:36\n",
      "2 20160413_Bhedlund_pHILIC_NEG_JKG1_PR_Set1 2016-04-14 17:59:33\n",
      "3 20160413_Bhedlund_pHILIC_NEG_GBS_32OE_Ctrl_Set1 2016-04-14 17:59:32\n",
      "4 20160413_Bhedlund_pHILIC_NEG_JAD2_GBS_4OE_Set1 2016-04-14 17:59:37\n",
      "5 20160413_Bhedlund_pHILIC_NEG_GBS_32OE_inc_Set2 2016-04-13 22:34:26\n",
      "6 20160413_Bhedlund_pHILIC_NEG_G233_BMR_Set1 2016-04-14 17:59:19\n",
      "7 20160413_Bhedlund_pHILIC_NEG_BMR_End_Set1 2016-04-14 17:59:39\n",
      "8 20160413_Bhedlund_pHILIC_NEG_JAD2_GBS_32OE_Set2 2016-04-13 22:34:27\n",
      "9 20160413_Bhedlund_pHILIC_NEG_JAD2_GBS_32OE_Set1 2016-04-14 17:59:20\n",
      "10 20160413_Bhedlund_pHILIC_NEG_GBS_32OE_Ctrl_Set2 2016-04-13 22:34:26\n",
      "11 20160413_Bhedlund_pHILIC_NEG_GBS_Med_Ctrl_Set1 2016-04-14 17:59:27\n",
      "12 20160413_Bhedlund_pHILIC_NEG_JAD2_GBS_Set1 2016-04-14 17:59:39\n",
      "13 20160413_Bhedlund_pHILIC_NEG_PR_Beg_Set1 2016-04-14 17:59:28\n",
      "14 20160413_Bhedlund_pHILIC_NEG_GBS_4OE_Ctrl_Set1 2016-04-14 17:59:19\n",
      "15 20160413_Bhedlund_pHILIC_NEG_GBS_conc_inc_Set2 2016-04-13 22:34:28\n",
      "16 20160413_Bhedlund_pHILIC_NEG_BMR_Beg_Set1 2016-04-14 17:59:35\n"
     ]
    }
   ],
   "source": [
    "\n",
    "dp = reload(dp)\n",
    "\n",
    "groups = dp.select_groups_for_analysis(name = '%hedlund%neg%',most_recent = True, remove_empty = True, filter_list = [], exclude_list = ['QC','Blank'])\n",
    "# for g in groups:\n",
    "#     print g.name"
   ]
  },
  {
   "cell_type": "markdown",
   "metadata": {},
   "source": [
    "#Select Atlas to use"
   ]
  },
  {
   "cell_type": "code",
   "execution_count": 6,
   "metadata": {
    "collapsed": false
   },
   "outputs": [
    {
     "name": "stdout",
     "output_type": "stream",
     "text": [
      "0 15 hedlund_hilic_qexactive_pos_maybe 2016-05-05 23:40:23\n",
      "1 40 hedlund_hilic_qexactive_pos 2016-04-27 16:02:59\n",
      "2 48 hedlund_hilic_qexactive_pos_not observed 2016-05-05 23:40:17\n",
      "3 23 hedlund_hilic_qexactive_pos_present 2016-05-05 23:40:21\n"
     ]
    }
   ],
   "source": [
    "dp = reload(dp)\n",
    "atlas = dp.get_metatlas_atlas(name='%hedlund_hilic_qexactive_pos%',do_print = True)\n"
   ]
  },
  {
   "cell_type": "code",
   "execution_count": 67,
   "metadata": {
    "collapsed": false
   },
   "outputs": [
    {
     "data": {
      "text/plain": [
       "u'hedlund_hilic_qexactive_neg_not observed'"
      ]
     },
     "execution_count": 67,
     "metadata": {},
     "output_type": "execute_result"
    }
   ],
   "source": [
    "myAtlas = atlas[1]\n",
    "myAtlas.name"
   ]
  },
  {
   "cell_type": "markdown",
   "metadata": {},
   "source": [
    "#Export Atlas To Spreadsheet"
   ]
  },
  {
   "cell_type": "code",
   "execution_count": 68,
   "metadata": {
    "collapsed": false,
    "scrolled": false
   },
   "outputs": [
    {
     "data": {
      "text/html": [
       "<div>\n",
       "<table border=\"1\" class=\"dataframe\">\n",
       "  <thead>\n",
       "    <tr style=\"text-align: right;\">\n",
       "      <th></th>\n",
       "      <th>name</th>\n",
       "      <th>inchi</th>\n",
       "      <th>mono_isotopic_molecular_weight</th>\n",
       "      <th>creation_time</th>\n",
       "      <th>formula</th>\n",
       "      <th>last_modified</th>\n",
       "      <th>unique_id</th>\n",
       "      <th>username</th>\n",
       "      <th>label</th>\n",
       "      <th>rt_min</th>\n",
       "      <th>...</th>\n",
       "      <th>common_name</th>\n",
       "      <th>synonyms</th>\n",
       "      <th>pubchem_compound_id</th>\n",
       "      <th>lipidmaps_id</th>\n",
       "      <th>metacyc_id</th>\n",
       "      <th>hmdb_id</th>\n",
       "      <th>img_abc_id</th>\n",
       "      <th>chebi_id</th>\n",
       "      <th>kegg_id</th>\n",
       "      <th>metatlas_inchi</th>\n",
       "    </tr>\n",
       "  </thead>\n",
       "  <tbody>\n",
       "    <tr>\n",
       "      <th>0</th>\n",
       "      <td>2-&lt;i&gt;trans&lt;/i&gt;-abscisate</td>\n",
       "      <td>InChI=1S/C15H20O4/c1-10(7-13(17)18)5-6-15(19)1...</td>\n",
       "      <td>264.136169</td>\n",
       "      <td>1444322247</td>\n",
       "      <td>C15H20O4</td>\n",
       "      <td>1444322293</td>\n",
       "      <td>75359ff3b38c45bb9e87cf292349eaeb</td>\n",
       "      <td>bpb</td>\n",
       "      <td>abscisic acid (peak 2)</td>\n",
       "      <td>1.77</td>\n",
       "      <td>...</td>\n",
       "      <td>2-trans-abscisate///(+)-abscisate///(R)-2-tran...</td>\n",
       "      <td>2-trans-abscisic acid anion///abscisic acid///...</td>\n",
       "      <td>7251168///6951345</td>\n",
       "      <td>nan</td>\n",
       "      <td>CPD-693///CPD-7731</td>\n",
       "      <td>nan</td>\n",
       "      <td>nan</td>\n",
       "      <td>CHEBI:37569///CHEBI:62429///CHEBI:62421///CHEB...</td>\n",
       "      <td>C06082///C06082</td>\n",
       "      <td>InChI=1S/C15H20O4/c1-10(7-13(17)18)5-6-15(19)1...</td>\n",
       "    </tr>\n",
       "    <tr>\n",
       "      <th>1</th>\n",
       "      <td>aminoadipic acid</td>\n",
       "      <td>InChI=1S/C6H11NO4/c7-4(6(10)11)2-1-3-5(8)9/h4H...</td>\n",
       "      <td>161.068808</td>\n",
       "      <td>1448915919</td>\n",
       "      <td>C6H11NO4</td>\n",
       "      <td>1448915929</td>\n",
       "      <td>587bcf3788494ca9a457ef828b376862</td>\n",
       "      <td>bpb</td>\n",
       "      <td>aminoadipic acid</td>\n",
       "      <td>13.75</td>\n",
       "      <td>...</td>\n",
       "      <td>L-2-aminoadipate(1-)///L-2-aminoadipate///2-am...</td>\n",
       "      <td>DL-alpha-Aminoadipic acid///DL-2-Aminoadipate/...</td>\n",
       "      <td>6994046///469///6992111</td>\n",
       "      <td>LMFA01170098</td>\n",
       "      <td>CPD-468///CPD-9400</td>\n",
       "      <td>HMDB00510</td>\n",
       "      <td>nan</td>\n",
       "      <td>CHEBI:37024///CHEBI:84981///CHEBI:17082///CHEB...</td>\n",
       "      <td>C00956</td>\n",
       "      <td>InChI=1S/C6H11NO4/c7-4(6(10)11)2-1-3-5(8)9/h4H...</td>\n",
       "    </tr>\n",
       "    <tr>\n",
       "      <th>2</th>\n",
       "      <td>biotin</td>\n",
       "      <td>InChI=1S/C10H16N2O3S/c13-8(14)4-2-1-3-7-9-6(5-...</td>\n",
       "      <td>244.088165</td>\n",
       "      <td>1444322230</td>\n",
       "      <td>C10H16N2O3S</td>\n",
       "      <td>1444322292</td>\n",
       "      <td>442ba7da0b66469b87c8e0a9978bb689</td>\n",
       "      <td>bpb</td>\n",
       "      <td>biotin</td>\n",
       "      <td>6.83</td>\n",
       "      <td>...</td>\n",
       "      <td>biotinate///biotin///5-(2-oxo-1,3,3a,4,6,6a-he...</td>\n",
       "      <td>d-biotin///vitamin H///nan///coenzyme R///biot...</td>\n",
       "      <td>171548.0///6560210</td>\n",
       "      <td>nan</td>\n",
       "      <td>BIOTIN</td>\n",
       "      <td>nan</td>\n",
       "      <td>nan</td>\n",
       "      <td>CHEBI:95156///CHEBI:57586</td>\n",
       "      <td>C00120</td>\n",
       "      <td>InChI=1S/C10H16N2O3S/c13-8(14)4-2-1-3-7-9-6(5-...</td>\n",
       "    </tr>\n",
       "    <tr>\n",
       "      <th>3</th>\n",
       "      <td>carnosine</td>\n",
       "      <td>InChI=1S/C9H14N4O3/c10-2-1-8(14)13-7(9(15)16)3...</td>\n",
       "      <td>226.106598</td>\n",
       "      <td>1444322253</td>\n",
       "      <td>C9H14N4O3</td>\n",
       "      <td>1444322294</td>\n",
       "      <td>0da1ed67166e4c18b8c95addd7c02b85</td>\n",
       "      <td>bpb</td>\n",
       "      <td>carnosine</td>\n",
       "      <td>13.61</td>\n",
       "      <td>...</td>\n",
       "      <td>carnosine///carnosine zwitterion///Carnosine</td>\n",
       "      <td>N-(3-Aminopropanoyl)histidine///Carnosine///Ka...</td>\n",
       "      <td>6992100</td>\n",
       "      <td>nan</td>\n",
       "      <td>CARNOSINE</td>\n",
       "      <td>HMDB00033</td>\n",
       "      <td>nan</td>\n",
       "      <td>CHEBI:15727///CHEBI:57485</td>\n",
       "      <td>C00386</td>\n",
       "      <td>InChI=1S/C9H14N4O3/c10-2-1-8(14)13-7(9(15)16)3...</td>\n",
       "    </tr>\n",
       "    <tr>\n",
       "      <th>4</th>\n",
       "      <td>L-citrulline</td>\n",
       "      <td>InChI=1S/C6H13N3O3/c7-4(5(10)11)2-1-3-9-6(8)12...</td>\n",
       "      <td>175.095688</td>\n",
       "      <td>1444322245</td>\n",
       "      <td>C6H13N3O3</td>\n",
       "      <td>1444322293</td>\n",
       "      <td>35d82f426ffd42cd99a2e2e35ea8f583</td>\n",
       "      <td>bpb</td>\n",
       "      <td>citrulline</td>\n",
       "      <td>12.81</td>\n",
       "      <td>...</td>\n",
       "      <td>Citrulline///L-citrulline zwitterion///L-citru...</td>\n",
       "      <td>N(delta)-Carbamylornithine///Ngamma-carbamylor...</td>\n",
       "      <td>6992098</td>\n",
       "      <td>nan</td>\n",
       "      <td>L-CITRULLINE</td>\n",
       "      <td>HMDB00904</td>\n",
       "      <td>65567</td>\n",
       "      <td>CHEBI:57743///CHEBI:16349</td>\n",
       "      <td>C00327</td>\n",
       "      <td>InChI=1S/C6H13N3O3/c7-4(5(10)11)2-1-3-9-6(8)12...</td>\n",
       "    </tr>\n",
       "  </tbody>\n",
       "</table>\n",
       "<p>5 rows × 33 columns</p>\n",
       "</div>"
      ],
      "text/plain": [
       "                       name  \\\n",
       "0  2-<i>trans</i>-abscisate   \n",
       "1          aminoadipic acid   \n",
       "2                    biotin   \n",
       "3                 carnosine   \n",
       "4              L-citrulline   \n",
       "\n",
       "                                               inchi  \\\n",
       "0  InChI=1S/C15H20O4/c1-10(7-13(17)18)5-6-15(19)1...   \n",
       "1  InChI=1S/C6H11NO4/c7-4(6(10)11)2-1-3-5(8)9/h4H...   \n",
       "2  InChI=1S/C10H16N2O3S/c13-8(14)4-2-1-3-7-9-6(5-...   \n",
       "3  InChI=1S/C9H14N4O3/c10-2-1-8(14)13-7(9(15)16)3...   \n",
       "4  InChI=1S/C6H13N3O3/c7-4(5(10)11)2-1-3-9-6(8)12...   \n",
       "\n",
       "   mono_isotopic_molecular_weight  creation_time      formula  last_modified  \\\n",
       "0                      264.136169     1444322247     C15H20O4     1444322293   \n",
       "1                      161.068808     1448915919     C6H11NO4     1448915929   \n",
       "2                      244.088165     1444322230  C10H16N2O3S     1444322292   \n",
       "3                      226.106598     1444322253    C9H14N4O3     1444322294   \n",
       "4                      175.095688     1444322245    C6H13N3O3     1444322293   \n",
       "\n",
       "                          unique_id username                   label  rt_min  \\\n",
       "0  75359ff3b38c45bb9e87cf292349eaeb      bpb  abscisic acid (peak 2)    1.77   \n",
       "1  587bcf3788494ca9a457ef828b376862      bpb        aminoadipic acid   13.75   \n",
       "2  442ba7da0b66469b87c8e0a9978bb689      bpb                  biotin    6.83   \n",
       "3  0da1ed67166e4c18b8c95addd7c02b85      bpb               carnosine   13.61   \n",
       "4  35d82f426ffd42cd99a2e2e35ea8f583      bpb              citrulline   12.81   \n",
       "\n",
       "                         ...                          \\\n",
       "0                        ...                           \n",
       "1                        ...                           \n",
       "2                        ...                           \n",
       "3                        ...                           \n",
       "4                        ...                           \n",
       "\n",
       "                                         common_name  \\\n",
       "0  2-trans-abscisate///(+)-abscisate///(R)-2-tran...   \n",
       "1  L-2-aminoadipate(1-)///L-2-aminoadipate///2-am...   \n",
       "2  biotinate///biotin///5-(2-oxo-1,3,3a,4,6,6a-he...   \n",
       "3       carnosine///carnosine zwitterion///Carnosine   \n",
       "4  Citrulline///L-citrulline zwitterion///L-citru...   \n",
       "\n",
       "                                            synonyms      pubchem_compound_id  \\\n",
       "0  2-trans-abscisic acid anion///abscisic acid///...        7251168///6951345   \n",
       "1  DL-alpha-Aminoadipic acid///DL-2-Aminoadipate/...  6994046///469///6992111   \n",
       "2  d-biotin///vitamin H///nan///coenzyme R///biot...       171548.0///6560210   \n",
       "3  N-(3-Aminopropanoyl)histidine///Carnosine///Ka...                  6992100   \n",
       "4  N(delta)-Carbamylornithine///Ngamma-carbamylor...                  6992098   \n",
       "\n",
       "   lipidmaps_id          metacyc_id    hmdb_id img_abc_id  \\\n",
       "0           nan  CPD-693///CPD-7731        nan        nan   \n",
       "1  LMFA01170098  CPD-468///CPD-9400  HMDB00510        nan   \n",
       "2           nan              BIOTIN        nan        nan   \n",
       "3           nan           CARNOSINE  HMDB00033        nan   \n",
       "4           nan        L-CITRULLINE  HMDB00904      65567   \n",
       "\n",
       "                                            chebi_id          kegg_id  \\\n",
       "0  CHEBI:37569///CHEBI:62429///CHEBI:62421///CHEB...  C06082///C06082   \n",
       "1  CHEBI:37024///CHEBI:84981///CHEBI:17082///CHEB...           C00956   \n",
       "2                          CHEBI:95156///CHEBI:57586           C00120   \n",
       "3                          CHEBI:15727///CHEBI:57485           C00386   \n",
       "4                          CHEBI:57743///CHEBI:16349           C00327   \n",
       "\n",
       "                                      metatlas_inchi  \n",
       "0  InChI=1S/C15H20O4/c1-10(7-13(17)18)5-6-15(19)1...  \n",
       "1  InChI=1S/C6H11NO4/c7-4(6(10)11)2-1-3-5(8)9/h4H...  \n",
       "2  InChI=1S/C10H16N2O3S/c13-8(14)4-2-1-3-7-9-6(5-...  \n",
       "3  InChI=1S/C9H14N4O3/c10-2-1-8(14)13-7(9(15)16)3...  \n",
       "4  InChI=1S/C6H13N3O3/c7-4(5(10)11)2-1-3-9-6(8)12...  \n",
       "\n",
       "[5 rows x 33 columns]"
      ]
     },
     "execution_count": 68,
     "metadata": {},
     "output_type": "execute_result"
    }
   ],
   "source": [
    "dp = reload(dp)\n",
    "df = dp.export_atlas_to_spreadsheet(myAtlas,'/global/homes/b/bpb/Downloads/hedlund_hilic_qexactive_neg_not_observed.csv')\n",
    "df.head()"
   ]
  },
  {
   "cell_type": "markdown",
   "metadata": {},
   "source": [
    "#Get Data and Save it"
   ]
  },
  {
   "cell_type": "code",
   "execution_count": 69,
   "metadata": {
    "collapsed": false,
    "scrolled": false
   },
   "outputs": [
    {
     "name": "stdout",
     "output_type": "stream",
     "text": [
      "0 17 /global/project/projectdirs/metatlas/raw_data/lpsilva/20150406_LPSilva_BHedlund_chloroflexi_NEG/20150322_pHILIC_NEG_MSMS_BH36.h5\n",
      "0 17 /global/project/projectdirs/metatlas/raw_data/lpsilva/20150406_LPSilva_BHedlund_chloroflexi_NEG/20150322_pHILIC_NEG_MSMS_BH37.h5\n",
      "0 17 /global/project/projectdirs/metatlas/raw_data/lpsilva/20150406_LPSilva_BHedlund_chloroflexi_NEG/20150322_pHILIC_NEG_MSMS_BH38.h5\n",
      "0 17 /global/project/projectdirs/metatlas/raw_data/lpsilva/20150406_LPSilva_BHedlund_chloroflexi_NEG/20150322_pHILIC_NEG_MSMS_BH39.h5\n",
      "0 17 /global/project/projectdirs/metatlas/raw_data/lpsilva/20150406_LPSilva_BHedlund_chloroflexi_NEG/20150322_pHILIC_NEG_MSMS_BH40.h5\n",
      "1 17 /global/project/projectdirs/metatlas/raw_data/lpsilva/20150406_LPSilva_BHedlund_chloroflexi_NEG/20150322_pHILIC_NEG_MSMS_BH6.h5\n",
      "1 17 /global/project/projectdirs/metatlas/raw_data/lpsilva/20150406_LPSilva_BHedlund_chloroflexi_NEG/20150322_pHILIC_NEG_MSMS_BH7.h5\n",
      "1 17 /global/project/projectdirs/metatlas/raw_data/lpsilva/20150406_LPSilva_BHedlund_chloroflexi_NEG/20150322_pHILIC_NEG_MSMS_BH8.h5\n",
      "1 17 /global/project/projectdirs/metatlas/raw_data/lpsilva/20150406_LPSilva_BHedlund_chloroflexi_NEG/20150322_pHILIC_NEG_MSMS_BH9.h5\n",
      "1 17 /global/project/projectdirs/metatlas/raw_data/lpsilva/20150406_LPSilva_BHedlund_chloroflexi_NEG/20150322_pHILIC_NEG_MSMS_BH10.h5\n",
      "2 17 /global/project/projectdirs/metatlas/raw_data/lpsilva/20150406_LPSilva_BHedlund_chloroflexi_NEG/20150322_pHILIC_NEG_MSMS_BH11.h5\n",
      "2 17 /global/project/projectdirs/metatlas/raw_data/lpsilva/20150406_LPSilva_BHedlund_chloroflexi_NEG/20150322_pHILIC_NEG_MSMS_BH12.h5\n",
      "2 17 /global/project/projectdirs/metatlas/raw_data/lpsilva/20150406_LPSilva_BHedlund_chloroflexi_NEG/20150322_pHILIC_NEG_MSMS_BH13.h5\n",
      "2 17 /global/project/projectdirs/metatlas/raw_data/lpsilva/20150406_LPSilva_BHedlund_chloroflexi_NEG/20150322_pHILIC_NEG_MSMS_BH14.h5\n",
      "2 17 /global/project/projectdirs/metatlas/raw_data/lpsilva/20150406_LPSilva_BHedlund_chloroflexi_NEG/20150322_pHILIC_NEG_MSMS_BH15.h5\n",
      "3 17 /global/project/projectdirs/metatlas/raw_data/lpsilva/20150406_LPSilva_BHedlund_chloroflexi_NEG/20150322_pHILIC_NEG_MSMS_BH56.h5\n",
      "3 17 /global/project/projectdirs/metatlas/raw_data/lpsilva/20150406_LPSilva_BHedlund_chloroflexi_NEG/20150322_pHILIC_NEG_MSMS_BH57.h5\n",
      "3 17 /global/project/projectdirs/metatlas/raw_data/lpsilva/20150406_LPSilva_BHedlund_chloroflexi_NEG/20150322_pHILIC_NEG_MSMS_BH58.h5\n",
      "3 17 /global/project/projectdirs/metatlas/raw_data/lpsilva/20150406_LPSilva_BHedlund_chloroflexi_NEG/20150322_pHILIC_NEG_MSMS_BH59.h5\n",
      "3 17 /global/project/projectdirs/metatlas/raw_data/lpsilva/20150406_LPSilva_BHedlund_chloroflexi_NEG/20150322_pHILIC_NEG_MSMS_BH60.h5\n",
      "4 17 /global/project/projectdirs/metatlas/raw_data/lpsilva/20150406_LPSilva_BHedlund_chloroflexi_NEG/20150322_pHILIC_NEG_MSMS_BH51.h5\n",
      "4 17 /global/project/projectdirs/metatlas/raw_data/lpsilva/20150406_LPSilva_BHedlund_chloroflexi_NEG/20150322_pHILIC_NEG_MSMS_BH52.h5\n",
      "4 17 /global/project/projectdirs/metatlas/raw_data/lpsilva/20150406_LPSilva_BHedlund_chloroflexi_NEG/20150322_pHILIC_NEG_MSMS_BH53.h5\n",
      "4 17 /global/project/projectdirs/metatlas/raw_data/lpsilva/20150406_LPSilva_BHedlund_chloroflexi_NEG/20150322_pHILIC_NEG_MSMS_BH54.h5\n",
      "4 17 /global/project/projectdirs/metatlas/raw_data/lpsilva/20150406_LPSilva_BHedlund_chloroflexi_NEG/20150322_pHILIC_NEG_MSMS_BH55.h5\n",
      "5 17 /global/project/projectdirs/metatlas/raw_data/lpsilva/20150406_LPSILVA_BHedlund_chloroflexi_NEG/20151124_pHILIC_NEG_MSMS_BH_IncCtrl_1.h5\n",
      "5 17 /global/project/projectdirs/metatlas/raw_data/lpsilva/20150406_LPSILVA_BHedlund_chloroflexi_NEG/20151124_pHILIC_NEG_MSMS_BH_IncCtrl_2.h5\n",
      "5 17 /global/project/projectdirs/metatlas/raw_data/lpsilva/20150406_LPSILVA_BHedlund_chloroflexi_NEG/20151124_pHILIC_NEG_MSMS_BH_IncCtrl_3.h5\n",
      "5 17 /global/project/projectdirs/metatlas/raw_data/lpsilva/20150406_LPSILVA_BHedlund_chloroflexi_NEG/20151124_pHILIC_NEG_MSMS_BH_IncCtrl_4.h5\n",
      "5 17 /global/project/projectdirs/metatlas/raw_data/lpsilva/20150406_LPSILVA_BHedlund_chloroflexi_NEG/20151124_pHILIC_NEG_MSMS_BH_IncCtrl_5.h5\n",
      "6 17 /global/project/projectdirs/metatlas/raw_data/lpsilva/20150406_LPSilva_BHedlund_chloroflexi_NEG/20150322_pHILIC_NEG_MSMS_BH26.h5\n",
      "6 17 /global/project/projectdirs/metatlas/raw_data/lpsilva/20150406_LPSilva_BHedlund_chloroflexi_NEG/20150322_pHILIC_NEG_MSMS_BH27.h5\n",
      "6 17 /global/project/projectdirs/metatlas/raw_data/lpsilva/20150406_LPSilva_BHedlund_chloroflexi_NEG/20150322_pHILIC_NEG_MSMS_BH28.h5\n",
      "6 17 /global/project/projectdirs/metatlas/raw_data/lpsilva/20150406_LPSilva_BHedlund_chloroflexi_NEG/20150322_pHILIC_NEG_MSMS_BH29.h5\n",
      "6 17 /global/project/projectdirs/metatlas/raw_data/lpsilva/20150406_LPSilva_BHedlund_chloroflexi_NEG/20150322_pHILIC_NEG_MSMS_BH30.h5\n",
      "7 17 /global/project/projectdirs/metatlas/raw_data/lpsilva/20150406_LPSilva_BHedlund_chloroflexi_NEG/20150322_pHILIC_NEG_MSMS_BH21.h5\n",
      "7 17 /global/project/projectdirs/metatlas/raw_data/lpsilva/20150406_LPSilva_BHedlund_chloroflexi_NEG/20150322_pHILIC_NEG_MSMS_BH22.h5\n",
      "7 17 /global/project/projectdirs/metatlas/raw_data/lpsilva/20150406_LPSilva_BHedlund_chloroflexi_NEG/20150322_pHILIC_NEG_MSMS_BH23.h5\n",
      "7 17 /global/project/projectdirs/metatlas/raw_data/lpsilva/20150406_LPSilva_BHedlund_chloroflexi_NEG/20150322_pHILIC_NEG_MSMS_BH25.h5\n",
      "8 17 /global/project/projectdirs/metatlas/raw_data/lpsilva/20150406_LPSILVA_BHedlund_chloroflexi_NEG/20151124_pHILIC_NEG_MSMS_BH_GBSChlor_3_old.h5\n",
      "8 17 /global/project/projectdirs/metatlas/raw_data/lpsilva/20150406_LPSILVA_BHedlund_chloroflexi_NEG/20151124_pHILIC_NEG_MSMS_BH_GBSChlor_4_old.h5\n",
      "9 17 /global/project/projectdirs/metatlas/raw_data/lpsilva/20150406_LPSilva_BHedlund_chloroflexi_NEG/20150322_pHILIC_NEG_MSMS_BH61.h5\n",
      "9 17 /global/project/projectdirs/metatlas/raw_data/lpsilva/20150406_LPSilva_BHedlund_chloroflexi_NEG/20150322_pHILIC_NEG_MSMS_BH62.h5\n",
      "9 17 /global/project/projectdirs/metatlas/raw_data/lpsilva/20150406_LPSilva_BHedlund_chloroflexi_NEG/20150322_pHILIC_NEG_MSMS_BH63.h5\n",
      "9 17 /global/project/projectdirs/metatlas/raw_data/lpsilva/20150406_LPSilva_BHedlund_chloroflexi_NEG/20150322_pHILIC_NEG_MSMS_BH64.h5\n",
      "9 17 /global/project/projectdirs/metatlas/raw_data/lpsilva/20150406_LPSilva_BHedlund_chloroflexi_NEG/20150322_pHILIC_NEG_MSMS_BH65.h5\n",
      "10 17 /global/project/projectdirs/metatlas/raw_data/lpsilva/20150406_LPSILVA_BHedlund_chloroflexi_NEG/20151124_pHILIC_NEG_MSMS_BH_GBSCtrl_3_old.h5\n",
      "10 17 /global/project/projectdirs/metatlas/raw_data/lpsilva/20150406_LPSILVA_BHedlund_chloroflexi_NEG/20151124_pHILIC_NEG_MSMS_BH_GBSCtrl_4_old.h5\n",
      "11 17 /global/project/projectdirs/metatlas/raw_data/lpsilva/20150406_LPSilva_BHedlund_chloroflexi_NEG/20150322_pHILIC_NEG_MSMS_BH31.h5\n",
      "11 17 /global/project/projectdirs/metatlas/raw_data/lpsilva/20150406_LPSilva_BHedlund_chloroflexi_NEG/20150322_pHILIC_NEG_MSMS_BH32.h5\n",
      "11 17 /global/project/projectdirs/metatlas/raw_data/lpsilva/20150406_LPSilva_BHedlund_chloroflexi_NEG/20150322_pHILIC_NEG_MSMS_BH33.h5\n",
      "11 17 /global/project/projectdirs/metatlas/raw_data/lpsilva/20150406_LPSilva_BHedlund_chloroflexi_NEG/20150322_pHILIC_NEG_MSMS_BH34.h5\n",
      "11 17 /global/project/projectdirs/metatlas/raw_data/lpsilva/20150406_LPSilva_BHedlund_chloroflexi_NEG/20150322_pHILIC_NEG_MSMS_BH35.h5\n",
      "12 17 /global/project/projectdirs/metatlas/raw_data/lpsilva/20150406_LPSilva_BHedlund_chloroflexi_NEG/20150322_pHILIC_NEG_MSMS_BH41.h5\n",
      "12 17 /global/project/projectdirs/metatlas/raw_data/lpsilva/20150406_LPSilva_BHedlund_chloroflexi_NEG/20150322_pHILIC_NEG_MSMS_BH42.h5\n",
      "12 17 /global/project/projectdirs/metatlas/raw_data/lpsilva/20150406_LPSilva_BHedlund_chloroflexi_NEG/20150322_pHILIC_NEG_MSMS_BH43.h5\n",
      "12 17 /global/project/projectdirs/metatlas/raw_data/lpsilva/20150406_LPSilva_BHedlund_chloroflexi_NEG/20150322_pHILIC_NEG_MSMS_BH44.h5\n",
      "12 17 /global/project/projectdirs/metatlas/raw_data/lpsilva/20150406_LPSilva_BHedlund_chloroflexi_NEG/20150322_pHILIC_NEG_MSMS_BH45.h5\n",
      "13 17 /global/project/projectdirs/metatlas/raw_data/lpsilva/20150406_LPSilva_BHedlund_chloroflexi_NEG/20150322_pHILIC_NEG_MSMS_BH1.h5\n",
      "13 17 /global/project/projectdirs/metatlas/raw_data/lpsilva/20150406_LPSilva_BHedlund_chloroflexi_NEG/20150322_pHILIC_NEG_MSMS_BH2.h5\n",
      "13 17 /global/project/projectdirs/metatlas/raw_data/lpsilva/20150406_LPSilva_BHedlund_chloroflexi_NEG/20150322_pHILIC_NEG_MSMS_BH3.h5\n",
      "13 17 /global/project/projectdirs/metatlas/raw_data/lpsilva/20150406_LPSilva_BHedlund_chloroflexi_NEG/20150322_pHILIC_NEG_MSMS_BH4.h5\n",
      "13 17 /global/project/projectdirs/metatlas/raw_data/lpsilva/20150406_LPSilva_BHedlund_chloroflexi_NEG/20150322_pHILIC_NEG_MSMS_BH5.h5\n",
      "13 17 /global/project/projectdirs/metatlas/raw_data/lpsilva/20150406_LPSilva_BHedlund_chloroflexi_NEG/20150322_pHILIC_NEG_MSMS_BH5_150324122835.h5\n",
      "14 17 /global/project/projectdirs/metatlas/raw_data/lpsilva/20150406_LPSilva_BHedlund_chloroflexi_NEG/20150322_pHILIC_NEG_MSMS_BH46.h5\n",
      "14 17 /global/project/projectdirs/metatlas/raw_data/lpsilva/20150406_LPSilva_BHedlund_chloroflexi_NEG/20150322_pHILIC_NEG_MSMS_BH47.h5\n",
      "14 17 /global/project/projectdirs/metatlas/raw_data/lpsilva/20150406_LPSilva_BHedlund_chloroflexi_NEG/20150322_pHILIC_NEG_MSMS_BH48.h5\n",
      "14 17 /global/project/projectdirs/metatlas/raw_data/lpsilva/20150406_LPSilva_BHedlund_chloroflexi_NEG/20150322_pHILIC_NEG_MSMS_BH49.h5\n",
      "14 17 /global/project/projectdirs/metatlas/raw_data/lpsilva/20150406_LPSilva_BHedlund_chloroflexi_NEG/20150322_pHILIC_NEG_MSMS_BH49_150325080220.h5\n",
      "14 17 /global/project/projectdirs/metatlas/raw_data/lpsilva/20150406_LPSilva_BHedlund_chloroflexi_NEG/20150322_pHILIC_NEG_MSMS_BH50.h5\n",
      "15 17 /global/project/projectdirs/metatlas/raw_data/lpsilva/20150406_LPSILVA_BHedlund_chloroflexi_NEG/20151124_pHILIC_NEG_MSMS_BH_GBSInc_1.h5\n",
      "15 17 /global/project/projectdirs/metatlas/raw_data/lpsilva/20150406_LPSILVA_BHedlund_chloroflexi_NEG/20151124_pHILIC_NEG_MSMS_BH_GBSInc_2.h5\n",
      "16 17 /global/project/projectdirs/metatlas/raw_data/lpsilva/20150406_LPSilva_BHedlund_chloroflexi_NEG/20150322_pHILIC_NEG_MSMS_BH16.h5\n",
      "16 17 /global/project/projectdirs/metatlas/raw_data/lpsilva/20150406_LPSilva_BHedlund_chloroflexi_NEG/20150322_pHILIC_NEG_MSMS_BH17.h5\n",
      "16 17 /global/project/projectdirs/metatlas/raw_data/lpsilva/20150406_LPSilva_BHedlund_chloroflexi_NEG/20150322_pHILIC_NEG_MSMS_BH18.h5\n",
      "16 17 /global/project/projectdirs/metatlas/raw_data/lpsilva/20150406_LPSilva_BHedlund_chloroflexi_NEG/20150322_pHILIC_NEG_MSMS_BH19.h5\n",
      "16 17 /global/project/projectdirs/metatlas/raw_data/lpsilva/20150406_LPSilva_BHedlund_chloroflexi_NEG/20150322_pHILIC_NEG_MSMS_BH20.h5\n"
     ]
    }
   ],
   "source": [
    "# get and pickle everything This is MSMS, raw MS1 datapoints, compound, group info, and file info\n",
    "# combine positive and negative mode atlas, by join atlases together vs two compound references\n",
    "# typically file-groups are NOT split by polarity, files with un-matched polarity will be discarded for analysis of an identification\n",
    "dp = reload(dp)\n",
    "output_filename = '/global/homes/b/bpb/data/hedlund/20160503_Bhedlund_pHILIC_NEG_Not_Observed.pkl'\n",
    "data = dp.get_data_for_groups_and_atlas(groups,myAtlas,output_filename,use_set1 = True)"
   ]
  },
  {
   "cell_type": "code",
   "execution_count": 70,
   "metadata": {
    "collapsed": false
   },
   "outputs": [
    {
     "name": "stdout",
     "output_type": "stream",
     "text": [
      "3\n",
      "24\n",
      "nrows =  13\n",
      "length of ymax is  1493\n",
      "3\n",
      "24\n",
      "nrows =  13\n",
      "length of ymax is  1493\n",
      "1.42891201477\n",
      "0.0306058562391\n",
      "1.84533379346\n",
      "0.0829445487586\n",
      "0.0442709141713\n",
      "0.0953678457134\n",
      "27.9690249922\n",
      "10.4045970154\n",
      "0.0803545640557\n"
     ]
    }
   ],
   "source": [
    "# my_files = ['/global/homes/b/bpb/data/hedlund/20160503_Bhedlund_pHILIC_POS_Present.pkl',\n",
    "#            '/global/homes/b/bpb/data/hedlund/20160503_Bhedlund_pHILIC_POS_Maybe.pkl',\n",
    "#            '/global/homes/b/bpb/data/hedlund/20160503_Bhedlund_pHILIC_POS_Not_Observed.pkl',\n",
    "#            '/global/homes/b/bpb/data/hedlund/20160503_Bhedlund_pHILIC_NEG_Present.pkl',\n",
    "#            '/global/homes/b/bpb/data/hedlund/20160503_Bhedlund_pHILIC_NEG_Maybe.pkl',\n",
    "#            '/global/homes/b/bpb/data/hedlund/20160503_Bhedlund_pHILIC_NEG_Not_Observed.pkl']\n",
    "my_files = ['/global/homes/b/bpb/data/hedlund/20160503_Bhedlund_pHILIC_NEG_Not_Observed.pkl']\n",
    "import os           \n",
    "for my_file in my_files:\n",
    "    project_label = '/global/homes/b/bpb/Downloads/hedlund/%s'%os.path.basename(my_file)\n",
    "    peak_height = dp.make_output_dataframe(input_fname = my_file, fieldname='peak_height' , output_loc=project_label+'/sheets')\n",
    "    dp.plot_errorbar_plots(peak_height,input_fname = my_file, output_loc=project_label+'/error_bar_peak_height')\n",
    "    dp.plot_all_compounds_for_each_file(input_fname = my_file, nCols = 8, scale_y=True , output_loc=project_label+'/scaled_all_compounds_each_file')\n",
    "    dp.plot_all_files_for_each_compound(input_fname = my_file, nCols = 6, scale_y=True , output_loc=project_label+'/scaled_all_files_each_compound')\n",
    "    dp.plot_all_compounds_for_each_file(input_fname = my_file, nCols = 8, scale_y=False , output_loc=project_label+'/all_compounds_each_file')\n",
    "    dp.plot_all_files_for_each_compound(input_fname = my_file, nCols = 6, scale_y=False , output_loc=project_label+'/all_files_each_compound')\n",
    "    dp.make_identification_figure(input_fname = my_file, output_loc=project_label+'/identification')"
   ]
  },
  {
   "cell_type": "markdown",
   "metadata": {},
   "source": [
    "#Load a pre-existing datafile"
   ]
  },
  {
   "cell_type": "code",
   "execution_count": 45,
   "metadata": {
    "collapsed": false
   },
   "outputs": [],
   "source": [
    "output_filename = '/global/homes/b/bpb/data/hedlund/20160503_Bhedlund_pHILIC_POS_Present.pkl'\n",
    "my_file = output_filename #'/global/homes/b/bpb/notebooks/MetAtlas_Workflow_20151123/20160420_Bhedlund_pHILIC_NEG_AllGroups_master_atlas.pkl'\n",
    "\n",
    "project_label = '/global/homes/b/bpb/Downloads/hedlund/TestIDFigs'\n",
    "data = dp.get_data(my_file)"
   ]
  },
  {
   "cell_type": "code",
   "execution_count": 51,
   "metadata": {
    "collapsed": false
   },
   "outputs": [
    {
     "data": {
      "text/plain": [
       "{'compound': [{'creation_time': '2015-10-08T17:36:23',\n",
       " 'description': u'',\n",
       " 'formula': u'C9H18O8',\n",
       " 'functional_sets': [],\n",
       " 'head_id': u'bb965dc128f04ea8a8bc426b80b31627',\n",
       " 'inchi': u'InChI=1S/C9H18O8/c10-1-4(2-11)16-9-8(15)7(14)6(13)5(3-12)17-9/h4-15H,1-3H2/t5-,6-,7+,8-,9+/m1/s1',\n",
       " 'inchi_key': None,\n",
       " 'last_modified': '2015-10-08T17:38:11',\n",
       " 'mono_isotopic_molecular_weight': 254.1001739501953,\n",
       " 'name': u'2-(&alpha;-D-glucopyranosyl)-<i>sn</i>-glycerol',\n",
       " 'neutralized_2d_inchi': None,\n",
       " 'neutralized_2d_inchi_key': None,\n",
       " 'neutralized_inchi': None,\n",
       " 'neutralized_inchi_key': None,\n",
       " 'number_components': None,\n",
       " 'permanent_charge': None,\n",
       " 'prev_uid': u'origin',\n",
       " 'reference_xrefs': [],\n",
       " 'synonyms': u'',\n",
       " 'unique_id': u'bb965dc128f04ea8a8bc426b80b31627',\n",
       " 'url': u'',\n",
       " 'username': u'bpb'}],\n",
       " 'creation_time': '2016-05-03T21:37:56',\n",
       " 'description': u'No description',\n",
       " 'frag_references': [],\n",
       " 'head_id': u'04afa82cfada434b90010989861ea36b',\n",
       " 'identification_grade': None,\n",
       " 'last_modified': '2016-05-03T21:37:59',\n",
       " 'mz_references': [{'adduct': u'',\n",
       " 'creation_time': '2016-05-03T21:37:56',\n",
       " 'description': u'No description',\n",
       " 'detected_polarity': 'positive',\n",
       " 'enabled': True,\n",
       " 'head_id': u'a3360e1766f34eceb7497083b254e159',\n",
       " 'last_modified': '2016-05-03T21:37:59',\n",
       " 'lcms_run': None,\n",
       " 'modification': u'',\n",
       " 'mz': 255.107424,\n",
       " 'mz_tolerance': 20.0,\n",
       " 'mz_tolerance_units': 'ppm',\n",
       " 'name': u'Untitled',\n",
       " 'observed_formula': u'',\n",
       " 'prev_uid': u'origin',\n",
       " 'ref_type': u'',\n",
       " 'unique_id': u'a3360e1766f34eceb7497083b254e159',\n",
       " 'username': u'bpb'}],\n",
       " 'name': u'glucosylglycerol',\n",
       " 'prev_uid': u'origin',\n",
       " 'rt_references': [{'creation_time': '2016-05-03T21:37:56',\n",
       " 'description': u'No description',\n",
       " 'enabled': True,\n",
       " 'head_id': u'89b20723d8bc404287e38acf6549fa52',\n",
       " 'last_modified': '2016-05-03T21:37:59',\n",
       " 'lcms_run': None,\n",
       " 'name': u'Untitled',\n",
       " 'prev_uid': u'origin',\n",
       " 'ref_type': u'',\n",
       " 'rt_max': 9.81,\n",
       " 'rt_min': 9.21,\n",
       " 'rt_peak': 9.510000000000002,\n",
       " 'rt_units': 'min',\n",
       " 'unique_id': u'89b20723d8bc404287e38acf6549fa52',\n",
       " 'username': u'bpb'}],\n",
       " 'unique_id': u'04afa82cfada434b90010989861ea36b',\n",
       " 'username': u'bpb'}"
      ]
     },
     "execution_count": 51,
     "metadata": {},
     "output_type": "execute_result"
    }
   ],
   "source": [
    "data[0][2]['identification']"
   ]
  },
  {
   "cell_type": "markdown",
   "metadata": {},
   "source": [
    "#Make Supplementary Tables"
   ]
  },
  {
   "cell_type": "code",
   "execution_count": 14,
   "metadata": {
    "collapsed": false
   },
   "outputs": [],
   "source": [
    "peak_height = dp.make_output_dataframe(input_fname = my_file, fieldname='peak_height' , output_loc=project_label+'/sheets')"
   ]
  },
  {
   "cell_type": "markdown",
   "metadata": {},
   "source": [
    "#Error bar"
   ]
  },
  {
   "cell_type": "code",
   "execution_count": 15,
   "metadata": {
    "collapsed": false
   },
   "outputs": [],
   "source": [
    "dp.plot_errorbar_plots(peak_height,input_fname = my_file, output_loc=project_label+'/error_bar_peak_height')"
   ]
  },
  {
   "cell_type": "markdown",
   "metadata": {},
   "source": [
    "#Make Chromatograms"
   ]
  },
  {
   "cell_type": "code",
   "execution_count": 16,
   "metadata": {
    "collapsed": false
   },
   "outputs": [
    {
     "name": "stdout",
     "output_type": "stream",
     "text": [
      "5\n",
      "40\n",
      "nrows =  13\n",
      "length of ymax is  2803\n",
      "5\n",
      "40\n",
      "nrows =  13\n",
      "length of ymax is  2803\n"
     ]
    },
    {
     "data": {
      "text/plain": [
       "<matplotlib.figure.Figure at 0x7f64cc4f1cd0>"
      ]
     },
     "metadata": {},
     "output_type": "display_data"
    }
   ],
   "source": [
    "dp = reload(dp)\n",
    "dp.plot_all_compounds_for_each_file(input_fname = my_file, nCols = 8, scale_y=True , output_loc=project_label+'/scaled_all_compounds_each_file')\n",
    "dp.plot_all_files_for_each_compound(input_fname = my_file, nCols = 6, scale_y=True , output_loc=project_label+'/scaled_all_files_each_compound')\n",
    "dp.plot_all_compounds_for_each_file(input_fname = my_file, nCols = 8, scale_y=False , output_loc=project_label+'/all_compounds_each_file')\n",
    "dp.plot_all_files_for_each_compound(input_fname = my_file, nCols = 6, scale_y=False , output_loc=project_label+'/all_files_each_compound')"
   ]
  },
  {
   "cell_type": "markdown",
   "metadata": {},
   "source": [
    "#Make Identification Figures"
   ]
  },
  {
   "cell_type": "code",
   "execution_count": 8,
   "metadata": {
    "collapsed": false
   },
   "outputs": [
    {
     "name": "stdout",
     "output_type": "stream",
     "text": [
      "6.59247657306\n",
      "21.4827464711\n",
      "6.84921022986\n",
      "2.65480287199\n",
      "6.25471107625\n",
      "1.5158428629\n",
      "13.3272408184\n",
      "5.11620742382\n",
      "71.8406682781\n",
      "6.08595159\n",
      "368.810113072\n",
      "0.462781928553\n",
      "503.98781674\n",
      "7.43189986404\n",
      "11.5629219351\n",
      "8.78786173883\n",
      "1.22372570539\n",
      "19.1785529618\n",
      "3.33191714632\n",
      "602.605887609\n",
      "4.42926455442\n",
      "0.220687110029\n",
      "0.665087360364\n",
      "0.0134621266239\n",
      "139.518487497\n",
      "25.1960069603\n",
      "31.7161324889\n",
      "56.0450795641\n",
      "3.003265765\n"
     ]
    }
   ],
   "source": [
    "dp = reload(dp)\n",
    "dp.make_identification_figure(input_fname = my_file, output_loc=project_label+'/identification')"
   ]
  },
  {
   "cell_type": "code",
   "execution_count": null,
   "metadata": {
    "collapsed": true
   },
   "outputs": [],
   "source": []
  },
  {
   "cell_type": "code",
   "execution_count": null,
   "metadata": {
    "collapsed": true
   },
   "outputs": [],
   "source": []
  }
 ],
 "metadata": {
  "kernelspec": {
   "display_name": "Python 2",
   "language": "python",
   "name": "python2"
  },
  "language_info": {
   "codemirror_mode": {
    "name": "ipython",
    "version": 2
   },
   "file_extension": ".py",
   "mimetype": "text/x-python",
   "name": "python",
   "nbconvert_exporter": "python",
   "pygments_lexer": "ipython2",
   "version": "2.7.11"
  }
 },
 "nbformat": 4,
 "nbformat_minor": 0
}
