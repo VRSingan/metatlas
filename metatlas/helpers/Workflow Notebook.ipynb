{
 "cells": [
  {
   "cell_type": "markdown",
   "metadata": {},
   "source": [
    "#Import Python Packages"
   ]
  },
  {
   "cell_type": "code",
   "execution_count": 1,
   "metadata": {
    "collapsed": false
   },
   "outputs": [
    {
     "name": "stdout",
     "output_type": "stream",
     "text": [
      "('Metatlas live in ', '/global/project/projectdirs/metatlas/anaconda/lib/python2.7/site-packages/metatlas')\n",
      "you're running on d9d4d6ec916d at 172.17.0.9 \n"
     ]
    },
    {
     "name": "stderr",
     "output_type": "stream",
     "text": [
      ":0: FutureWarning: IPython widgets are experimental and may change in the future.\n"
     ]
    }
   ],
   "source": [
    "import sys\n",
    "sys.path.insert(0,'/global/homes/b/bpb/metatlas/metatlas/helpers/' )\n",
    "import dill2plots as dp\n",
    "%matplotlib inline"
   ]
  },
  {
   "cell_type": "markdown",
   "metadata": {},
   "source": [
    "#Make blank file-info sheet"
   ]
  },
  {
   "cell_type": "markdown",
   "metadata": {},
   "source": [
    "Get files from database"
   ]
  },
  {
   "cell_type": "code",
   "execution_count": 10,
   "metadata": {
    "collapsed": false
   },
   "outputs": [],
   "source": [
    "files = dp.get_metatlas_files(experiment = '%hedlund%',name = '%hilic%',most_recent = True)"
   ]
  },
  {
   "cell_type": "markdown",
   "metadata": {},
   "source": [
    "Save the files to an empty fileinfo sheet"
   ]
  },
  {
   "cell_type": "code",
   "execution_count": 9,
   "metadata": {
    "collapsed": false
   },
   "outputs": [],
   "source": [
    "dp.make_empty_fileinfo_sheet('/global/homes/b/bpb/notebooks/atlas_finfo_to_be_loaded/hedlund_empty_fileinfo.tab',files)"
   ]
  },
  {
   "cell_type": "markdown",
   "metadata": {},
   "source": [
    "#Create metatlas groups from filled in file-info sheet"
   ]
  },
  {
   "cell_type": "code",
   "execution_count": 18,
   "metadata": {
    "collapsed": false
   },
   "outputs": [],
   "source": [
    "dp = reload(dp)\n",
    "g = dp.make_groups_from_fileinfo_sheet('/global/homes/b/bpb/notebooks/atlas_finfo_to_be_loaded/FileInfoSheet_BHedlund_AllFiles_20160413 (1).txt',store=False)"
   ]
  },
  {
   "cell_type": "markdown",
   "metadata": {},
   "source": [
    "#Create a new Atlas in metatlas from a spreadsheet"
   ]
  },
  {
   "cell_type": "code",
   "execution_count": 5,
   "metadata": {
    "collapsed": false
   },
   "outputs": [
    {
     "name": "stdout",
     "output_type": "stream",
     "text": [
      "0 209.1183184 1.3 1.7\n",
      "1 209.1183184 1.8 2.0\n",
      "2 89.02441806 7.5 8.0\n",
      "3 218.1033967 7.4 7.7\n",
      "4 133.0142473 16.0 20.6\n",
      "5 179.0561121 8.1 8.9\n",
      "6 179.0561121 9.7 10.7\n",
      "7 149.0455474 5.1 6.3\n",
      "8 149.0455474 10.7 11.1\n",
      "9 149.0455474 7.0 8.6\n",
      "10 163.0611975 5.1 6.1\n",
      "11 341.1089355 12.1 12.4\n",
      "12 341.1089355 12.5 13.0\n",
      "13 130.0509672 10.7 11.2\n",
      "14 173.0091619 17.1 17.6\n",
      "15 173.0091619 17.9 18.6\n",
      "16 179.0561121 12.8 13.2\n",
      "17 220.0826612 7.3 7.7\n",
      "18 353.0878062 9.7 12.0\n",
      "19 179.0349827 2.0 2.3\n",
      "20 147.0451535 2.2 2.4\n",
      "21 145.0142473 15.0 15.3\n",
      "22 242.0782445 7.4 7.8\n",
      "23 115.0036826 15.7 16.0\n",
      "24 174.0560525 4.2 5.5\n",
      "25 154.0622005 14.3 15.0\n",
      "26 130.0873527 7.5 8.0\n",
      "27 130.0873527 7.2 7.5\n",
      "28 104.0353171 12.5 13.1\n",
      "29 180.0666172 9.8 10.2\n",
      "30 116.0717026 8.7 9.1\n",
      "31 263.1288831 1.3 1.8\n",
      "32 263.1288831 1.9 2.2\n",
      "33 102.0560525 9.9 10.3\n",
      "34 175.0400681 1.4 1.6\n",
      "35 116.0717026 12.0 12.3\n",
      "36 134.0472192 4.1 4.7\n",
      "37 243.0808871 7.1 7.5\n",
      "38 181.0717622 9.5 9.8\n",
      "39 193.0506328 3.4 4.7\n",
      "40 209.0302913 16.8 17.6\n",
      "41 74.02475241 12.0 12.4\n",
      "42 75.00876799 9.4 10.5\n",
      "43 150.0421338 7.5 7.8\n",
      "44 267.0734935 6.6 7.0\n",
      "45 88.040403 11.0 11.3\n",
      "46 173.1043997 20.9 22.0\n",
      "47 131.0462161 12.4 12.9\n",
      "48 132.0302317 13.9 14.6\n",
      "49 174.0884153 12.8 13.3\n",
      "50 239.0165723 15.9 17.0\n",
      "51 146.0458818 13.6 14.1\n",
      "52 118.0509672 11.6 12.1\n",
      "53 145.0982517 20.6 21.4\n",
      "54 148.0437733 8.3 8.7\n",
      "55 131.0826016 20.8 22.2\n",
      "56 164.0717026 7.2 7.8\n",
      "57 114.0560525 8.5 8.8\n",
      "58 118.0509672 11.2 11.6\n",
      "59 203.0826016 8.2 8.7\n",
      "60 279.2329543 1.2 1.4\n",
      "61 103.0036826 11.5 13.0\n",
      "62 122.0247524 5.8 6.7\n",
      "63 281.2486043 1.2 1.6\n",
      "64 155.0098306 8.1 8.4\n",
      "65 255.2329543 1.2 1.4\n",
      "66 253.2173042 1.2 1.5\n",
      "67 503.161759 14.0 14.4\n",
      "68 375.1310084 4.4 5.2\n",
      "69 137.0244181 2.1 2.5\n",
      "70 173.0455474 12.7 13.1\n",
      "71 209.0819329 1.4 1.6\n",
      "72 283.2642544 1.4 1.1\n",
      "73 117.0193327 13.5 13.9\n",
      "74 341.1089355 11.6 12.0\n",
      "75 197.0455474 4.6 5.7\n",
      "76 124.00741 11.2 11.6\n",
      "77 263.0972058 8.2 8.4\n",
      "78 111.0200014 2.8 3.1\n",
      "79 243.0622601 4.7 5.2\n",
      "80 167.0349827 5.8 6.8\n",
      "81 151.0400681 1.4 1.6\n",
      "82 115.040024 3.0 4.0\n",
      "83 153.019324 1.8 2.0\n",
      "84 266.089524 7.1 7.6\n",
      "85 171.029924 10.6 11.0\n",
      "86 102.056024 11.8 12.3\n",
      "87 165.055724 2.4 2.6\n",
      "88 145.050624 13.2 13.7\n",
      "89 135.029924 11.4 11.7\n",
      "90 241.083024 2.5 2.9\n",
      "91 151.026124 5.9 6.5\n",
      "92 128.035324 9.3 9.7\n"
     ]
    }
   ],
   "source": [
    "dp = reload(dp)\n",
    "names = dp.make_atlas_from_spreadsheet('/global/homes/b/bpb/Downloads/201500826_library_qxqct_hilic_neg_V2.txt',\n",
    "                                       'temp',\n",
    "                                       filetype='tab',\n",
    "                                       sheetname='',\n",
    "                                       polarity = 'positive',\n",
    "                                       store=False)"
   ]
  },
  {
   "cell_type": "markdown",
   "metadata": {},
   "source": [
    "#Select groups of files to operate on"
   ]
  },
  {
   "cell_type": "code",
   "execution_count": 2,
   "metadata": {
    "collapsed": false
   },
   "outputs": [
    {
     "name": "stdout",
     "output_type": "stream",
     "text": [
      "0 20160413_Bhedlund_pHILIC_NEG_GBS_Med_inc_Set1 2016-04-14 17:59:30\n",
      "1 20160413_Bhedlund_pHILIC_NEG_Blank_Set2 2016-04-13 22:34:24\n",
      "2 20160413_Bhedlund_pHILIC_NEG_PR_End_Set1 2016-04-14 17:59:36\n",
      "3 20160413_Bhedlund_pHILIC_NEG_JKG1_PR_Set1 2016-04-14 17:59:33\n",
      "4 20160413_Bhedlund_pHILIC_NEG_GBS_32OE_Ctrl_Set1 2016-04-14 17:59:32\n",
      "5 20160413_Bhedlund_pHILIC_NEG_JAD2_GBS_4OE_Set1 2016-04-14 17:59:37\n",
      "6 20160413_Bhedlund_pHILIC_NEG_GBS_32OE_inc_Set2 2016-04-13 22:34:26\n",
      "7 20160413_Bhedlund_pHILIC_NEG_G233_BMR_Set1 2016-04-14 17:59:19\n",
      "8 20160413_Bhedlund_pHILIC_NEG_BMR_End_Set1 2016-04-14 17:59:39\n",
      "9 20160413_Bhedlund_pHILIC_NEG_JAD2_GBS_32OE_Set2 2016-04-13 22:34:27\n",
      "10 20160413_Bhedlund_pHILIC_NEG_JAD2_GBS_32OE_Set1 2016-04-14 17:59:20\n",
      "11 20160413_Bhedlund_pHILIC_NEG_GBS_32OE_Ctrl_Set2 2016-04-13 22:34:26\n",
      "12 20160413_Bhedlund_pHILIC_NEG_GBS_Med_Ctrl_Set1 2016-04-14 17:59:27\n",
      "13 20160413_Bhedlund_pHILIC_NEG_JAD2_GBS_Set1 2016-04-14 17:59:39\n",
      "14 20160413_Bhedlund_pHILIC_NEG_PR_Beg_Set1 2016-04-14 17:59:28\n",
      "15 20160413_Bhedlund_pHILIC_NEG_GBS_4OE_Ctrl_Set1 2016-04-14 17:59:19\n",
      "16 20160413_Bhedlund_pHILIC_NEG_QCmix_Set1 2016-04-14 17:59:27\n",
      "17 20160413_Bhedlund_pHILIC_NEG_QCmix_Set2 2016-04-13 22:34:26\n",
      "18 20160413_Bhedlund_pHILIC_NEG_GBS_conc_inc_Set2 2016-04-13 22:34:28\n",
      "19 20160413_Bhedlund_pHILIC_NEG_Blank_Set1 2016-04-14 17:59:34\n",
      "20 20160413_Bhedlund_pHILIC_NEG_BMR_Beg_Set1 2016-04-14 17:59:35\n",
      "20160413_Bhedlund_pHILIC_NEG_GBS_Med_inc_Set1\n",
      "20160413_Bhedlund_pHILIC_NEG_Blank_Set2\n",
      "20160413_Bhedlund_pHILIC_NEG_PR_End_Set1\n",
      "20160413_Bhedlund_pHILIC_NEG_JKG1_PR_Set1\n",
      "20160413_Bhedlund_pHILIC_NEG_GBS_32OE_Ctrl_Set1\n",
      "20160413_Bhedlund_pHILIC_NEG_JAD2_GBS_4OE_Set1\n",
      "20160413_Bhedlund_pHILIC_NEG_GBS_32OE_inc_Set2\n",
      "20160413_Bhedlund_pHILIC_NEG_G233_BMR_Set1\n",
      "20160413_Bhedlund_pHILIC_NEG_BMR_End_Set1\n",
      "20160413_Bhedlund_pHILIC_NEG_JAD2_GBS_32OE_Set2\n",
      "20160413_Bhedlund_pHILIC_NEG_JAD2_GBS_32OE_Set1\n",
      "20160413_Bhedlund_pHILIC_NEG_GBS_32OE_Ctrl_Set2\n",
      "20160413_Bhedlund_pHILIC_NEG_GBS_Med_Ctrl_Set1\n",
      "20160413_Bhedlund_pHILIC_NEG_JAD2_GBS_Set1\n",
      "20160413_Bhedlund_pHILIC_NEG_PR_Beg_Set1\n",
      "20160413_Bhedlund_pHILIC_NEG_GBS_4OE_Ctrl_Set1\n",
      "20160413_Bhedlund_pHILIC_NEG_QCmix_Set1\n",
      "20160413_Bhedlund_pHILIC_NEG_QCmix_Set2\n",
      "20160413_Bhedlund_pHILIC_NEG_GBS_conc_inc_Set2\n",
      "20160413_Bhedlund_pHILIC_NEG_Blank_Set1\n",
      "20160413_Bhedlund_pHILIC_NEG_BMR_Beg_Set1\n"
     ]
    }
   ],
   "source": [
    "groups = dp.select_groups_for_analysis(name = '%hedlund%neg%',most_recent = True, remove_empty = True, filter_list = [])\n",
    "for g in groups:\n",
    "    print g.name"
   ]
  },
  {
   "cell_type": "markdown",
   "metadata": {},
   "source": [
    "#Select Atlas to use"
   ]
  },
  {
   "cell_type": "code",
   "execution_count": 10,
   "metadata": {
    "collapsed": false
   },
   "outputs": [
    {
     "name": "stdout",
     "output_type": "stream",
     "text": [
      "0 201500826_library_qxqct_hilic_neg_V2 2016-04-25 23:08:19\n"
     ]
    }
   ],
   "source": [
    "dp = reload(dp)\n",
    "atlas = dp.get_metatlas_atlas(name='%library%',do_print = True)\n"
   ]
  },
  {
   "cell_type": "code",
   "execution_count": 12,
   "metadata": {
    "collapsed": false
   },
   "outputs": [
    {
     "data": {
      "text/plain": [
       "u'201500826_library_qxqct_hilic_neg_V2'"
      ]
     },
     "execution_count": 12,
     "metadata": {},
     "output_type": "execute_result"
    }
   ],
   "source": [
    "myAtlas = atlas[0]\n",
    "myAtlas.name"
   ]
  },
  {
   "cell_type": "markdown",
   "metadata": {},
   "source": [
    "#Export Atlas To Spreadsheet"
   ]
  },
  {
   "cell_type": "code",
   "execution_count": 18,
   "metadata": {
    "collapsed": false,
    "scrolled": false
   },
   "outputs": [
    {
     "data": {
      "text/html": [
       "<div>\n",
       "<table border=\"1\" class=\"dataframe\">\n",
       "  <thead>\n",
       "    <tr style=\"text-align: right;\">\n",
       "      <th></th>\n",
       "      <th>name</th>\n",
       "      <th>inchi</th>\n",
       "      <th>mono_isotopic_molecular_weight</th>\n",
       "      <th>creation_time</th>\n",
       "      <th>formula</th>\n",
       "      <th>last_modified</th>\n",
       "      <th>unique_id</th>\n",
       "      <th>username</th>\n",
       "      <th>label</th>\n",
       "      <th>rt_min</th>\n",
       "      <th>...</th>\n",
       "      <th>common_name</th>\n",
       "      <th>synonyms</th>\n",
       "      <th>pubchem_compound_id</th>\n",
       "      <th>lipidmaps_id</th>\n",
       "      <th>metacyc_id</th>\n",
       "      <th>hmdb_id</th>\n",
       "      <th>img_abc_id</th>\n",
       "      <th>chebi_id</th>\n",
       "      <th>kegg_id</th>\n",
       "      <th>metatlas_inchi</th>\n",
       "    </tr>\n",
       "  </thead>\n",
       "  <tbody>\n",
       "    <tr>\n",
       "      <th>0</th>\n",
       "      <td>(-)-jasmonate</td>\n",
       "      <td>InChI=1S/C12H18O3/c1-2-3-4-5-10-9(8-12(14)15)6...</td>\n",
       "      <td>210.125595</td>\n",
       "      <td>1444322253</td>\n",
       "      <td>C12H18O3</td>\n",
       "      <td>1461625699</td>\n",
       "      <td>a1c63d0ef3414e8ea59fefcb9933d376</td>\n",
       "      <td>katezh</td>\n",
       "      <td>jasmonic acid (peak1)</td>\n",
       "      <td>1.3</td>\n",
       "      <td>...</td>\n",
       "      <td>(-)-7-iso-jasmonate///(+)-7-iso-jasmonate///(-...</td>\n",
       "      <td>(+)-7-iso-jasmonic acid///(+)-7-iso-jasmonate/...</td>\n",
       "      <td>7251182///7251176///7251179///7251181</td>\n",
       "      <td>nan</td>\n",
       "      <td>CPD-734///CPD-5941///CPD-731///CPD-5943</td>\n",
       "      <td>nan</td>\n",
       "      <td>nan</td>\n",
       "      <td>CHEBI:58431</td>\n",
       "      <td>C08491///C16317</td>\n",
       "      <td>InChI=1S/C12H18O3/c1-2-3-4-5-10-9(8-12(14)15)6...</td>\n",
       "    </tr>\n",
       "    <tr>\n",
       "      <th>1</th>\n",
       "      <td>(-)-jasmonate</td>\n",
       "      <td>InChI=1S/C12H18O3/c1-2-3-4-5-10-9(8-12(14)15)6...</td>\n",
       "      <td>210.125595</td>\n",
       "      <td>1444322253</td>\n",
       "      <td>C12H18O3</td>\n",
       "      <td>1444322294</td>\n",
       "      <td>b791cccd7bd648c58414afd6888981f4</td>\n",
       "      <td>bpb</td>\n",
       "      <td>jasmonic acid (peak2)</td>\n",
       "      <td>1.8</td>\n",
       "      <td>...</td>\n",
       "      <td>(-)-7-iso-jasmonate///(+)-7-iso-jasmonate///(-...</td>\n",
       "      <td>(+)-7-iso-jasmonic acid///(+)-7-iso-jasmonate/...</td>\n",
       "      <td>7251182///7251176///7251179///7251181</td>\n",
       "      <td>nan</td>\n",
       "      <td>CPD-734///CPD-5941///CPD-731///CPD-5943</td>\n",
       "      <td>nan</td>\n",
       "      <td>nan</td>\n",
       "      <td>CHEBI:58431</td>\n",
       "      <td>C08491///C16317</td>\n",
       "      <td>InChI=1S/C12H18O3/c1-2-3-4-5-10-9(8-12(14)15)6...</td>\n",
       "    </tr>\n",
       "    <tr>\n",
       "      <th>2</th>\n",
       "      <td>(&lt;i&gt;R&lt;/i&gt;)-lactate</td>\n",
       "      <td>InChI=1S/C3H6O3/c1-2(4)3(5)6/h2,4H,1H3,(H,5,6)...</td>\n",
       "      <td>90.031693</td>\n",
       "      <td>1444322244</td>\n",
       "      <td>C3H6O3</td>\n",
       "      <td>1461625699</td>\n",
       "      <td>d0bd47f557a048b98b3c3803826ba957</td>\n",
       "      <td>katezh</td>\n",
       "      <td>lactic acid</td>\n",
       "      <td>7.5</td>\n",
       "      <td>...</td>\n",
       "      <td>(S)-lactate///(S)-lactate///(R)-lactate///(R)-...</td>\n",
       "      <td>Monosodium lactate///(S)-lactate///Lactic acid...</td>\n",
       "      <td>5460179///5460161</td>\n",
       "      <td>nan</td>\n",
       "      <td>L-LACTATE///D-LACTATE</td>\n",
       "      <td>HMDB15671</td>\n",
       "      <td>nan</td>\n",
       "      <td>CHEBI:75228///CHEBI:24996///CHEBI:16651///CHEB...</td>\n",
       "      <td>C00186///C01432///C00256</td>\n",
       "      <td>InChI=1S/C3H6O3/c1-2(4)3(5)6/h2,4H,1H3,(H,5,6)</td>\n",
       "    </tr>\n",
       "    <tr>\n",
       "      <th>3</th>\n",
       "      <td>(&lt;i&gt;R&lt;/i&gt;)-pantothenate</td>\n",
       "      <td>InChI=1S/C9H17NO5/c1-9(2,5-11)7(14)8(15)10-4-3...</td>\n",
       "      <td>219.110672</td>\n",
       "      <td>1444322177</td>\n",
       "      <td>C9H17NO5</td>\n",
       "      <td>1461625699</td>\n",
       "      <td>b8358b4671f94b6d8a6a6ccce7385046</td>\n",
       "      <td>katezh</td>\n",
       "      <td>pantothenic acid</td>\n",
       "      <td>7.4</td>\n",
       "      <td>...</td>\n",
       "      <td>(R)-pantothenate///(R)-pantothenate///pantothe...</td>\n",
       "      <td>D-pantothenic acid///D(+)-N-(2,4-Dihydroxy-3,3...</td>\n",
       "      <td>167945</td>\n",
       "      <td>nan</td>\n",
       "      <td>PANTOTHENATE</td>\n",
       "      <td>HMDB00210</td>\n",
       "      <td>nan</td>\n",
       "      <td>CHEBI:29032///CHEBI:16454///CHEBI:31345///CHEB...</td>\n",
       "      <td>C00864///C00864///C12276</td>\n",
       "      <td>InChI=1S/C9H17NO5/c1-9(2,5-11)7(14)8(15)10-4-3...</td>\n",
       "    </tr>\n",
       "    <tr>\n",
       "      <th>4</th>\n",
       "      <td>(R)-malate</td>\n",
       "      <td>InChI=1S/C4H6O5/c5-2(4(8)9)1-3(6)7/h2,5H,1H2,(...</td>\n",
       "      <td>134.021530</td>\n",
       "      <td>1444322243</td>\n",
       "      <td>C4H6O5</td>\n",
       "      <td>1461625699</td>\n",
       "      <td>d5cbfb4a45dd44c6a68328698a747d14</td>\n",
       "      <td>katezh</td>\n",
       "      <td>malic acid</td>\n",
       "      <td>16.0</td>\n",
       "      <td>...</td>\n",
       "      <td>disodium (S)-malate///Malic acid///(S)-malate(...</td>\n",
       "      <td>(S)-malate///(S)-disodium malate///Deoxytetrar...</td>\n",
       "      <td>5459794///5459792</td>\n",
       "      <td>nan</td>\n",
       "      <td>CPD-660///MAL</td>\n",
       "      <td>HMDB00744</td>\n",
       "      <td>nan</td>\n",
       "      <td>CHEBI:6650///CHEBI:15589///CHEBI:15588///CHEBI...</td>\n",
       "      <td>C00149///C00497///C00711</td>\n",
       "      <td>InChI=1S/C4H6O5/c5-2(4(8)9)1-3(6)7/h2,5H,1H2,(...</td>\n",
       "    </tr>\n",
       "  </tbody>\n",
       "</table>\n",
       "<p>5 rows × 31 columns</p>\n",
       "</div>"
      ],
      "text/plain": [
       "                      name                                              inchi  \\\n",
       "0            (-)-jasmonate  InChI=1S/C12H18O3/c1-2-3-4-5-10-9(8-12(14)15)6...   \n",
       "1            (-)-jasmonate  InChI=1S/C12H18O3/c1-2-3-4-5-10-9(8-12(14)15)6...   \n",
       "2       (<i>R</i>)-lactate  InChI=1S/C3H6O3/c1-2(4)3(5)6/h2,4H,1H3,(H,5,6)...   \n",
       "3  (<i>R</i>)-pantothenate  InChI=1S/C9H17NO5/c1-9(2,5-11)7(14)8(15)10-4-3...   \n",
       "4               (R)-malate  InChI=1S/C4H6O5/c5-2(4(8)9)1-3(6)7/h2,5H,1H2,(...   \n",
       "\n",
       "   mono_isotopic_molecular_weight  creation_time   formula  last_modified  \\\n",
       "0                      210.125595     1444322253  C12H18O3     1461625699   \n",
       "1                      210.125595     1444322253  C12H18O3     1444322294   \n",
       "2                       90.031693     1444322244    C3H6O3     1461625699   \n",
       "3                      219.110672     1444322177  C9H17NO5     1461625699   \n",
       "4                      134.021530     1444322243    C4H6O5     1461625699   \n",
       "\n",
       "                          unique_id username                  label  rt_min  \\\n",
       "0  a1c63d0ef3414e8ea59fefcb9933d376   katezh  jasmonic acid (peak1)     1.3   \n",
       "1  b791cccd7bd648c58414afd6888981f4      bpb  jasmonic acid (peak2)     1.8   \n",
       "2  d0bd47f557a048b98b3c3803826ba957   katezh            lactic acid     7.5   \n",
       "3  b8358b4671f94b6d8a6a6ccce7385046   katezh       pantothenic acid     7.4   \n",
       "4  d5cbfb4a45dd44c6a68328698a747d14   katezh             malic acid    16.0   \n",
       "\n",
       "                         ...                          \\\n",
       "0                        ...                           \n",
       "1                        ...                           \n",
       "2                        ...                           \n",
       "3                        ...                           \n",
       "4                        ...                           \n",
       "\n",
       "                                         common_name  \\\n",
       "0  (-)-7-iso-jasmonate///(+)-7-iso-jasmonate///(-...   \n",
       "1  (-)-7-iso-jasmonate///(+)-7-iso-jasmonate///(-...   \n",
       "2  (S)-lactate///(S)-lactate///(R)-lactate///(R)-...   \n",
       "3  (R)-pantothenate///(R)-pantothenate///pantothe...   \n",
       "4  disodium (S)-malate///Malic acid///(S)-malate(...   \n",
       "\n",
       "                                            synonyms  \\\n",
       "0  (+)-7-iso-jasmonic acid///(+)-7-iso-jasmonate/...   \n",
       "1  (+)-7-iso-jasmonic acid///(+)-7-iso-jasmonate/...   \n",
       "2  Monosodium lactate///(S)-lactate///Lactic acid...   \n",
       "3  D-pantothenic acid///D(+)-N-(2,4-Dihydroxy-3,3...   \n",
       "4  (S)-malate///(S)-disodium malate///Deoxytetrar...   \n",
       "\n",
       "                     pubchem_compound_id  lipidmaps_id  \\\n",
       "0  7251182///7251176///7251179///7251181           nan   \n",
       "1  7251182///7251176///7251179///7251181           nan   \n",
       "2                      5460179///5460161           nan   \n",
       "3                                 167945           nan   \n",
       "4                      5459794///5459792           nan   \n",
       "\n",
       "                                metacyc_id    hmdb_id img_abc_id  \\\n",
       "0  CPD-734///CPD-5941///CPD-731///CPD-5943        nan        nan   \n",
       "1  CPD-734///CPD-5941///CPD-731///CPD-5943        nan        nan   \n",
       "2                    L-LACTATE///D-LACTATE  HMDB15671        nan   \n",
       "3                             PANTOTHENATE  HMDB00210        nan   \n",
       "4                            CPD-660///MAL  HMDB00744        nan   \n",
       "\n",
       "                                            chebi_id  \\\n",
       "0                                        CHEBI:58431   \n",
       "1                                        CHEBI:58431   \n",
       "2  CHEBI:75228///CHEBI:24996///CHEBI:16651///CHEB...   \n",
       "3  CHEBI:29032///CHEBI:16454///CHEBI:31345///CHEB...   \n",
       "4  CHEBI:6650///CHEBI:15589///CHEBI:15588///CHEBI...   \n",
       "\n",
       "                    kegg_id                                     metatlas_inchi  \n",
       "0           C08491///C16317  InChI=1S/C12H18O3/c1-2-3-4-5-10-9(8-12(14)15)6...  \n",
       "1           C08491///C16317  InChI=1S/C12H18O3/c1-2-3-4-5-10-9(8-12(14)15)6...  \n",
       "2  C00186///C01432///C00256     InChI=1S/C3H6O3/c1-2(4)3(5)6/h2,4H,1H3,(H,5,6)  \n",
       "3  C00864///C00864///C12276  InChI=1S/C9H17NO5/c1-9(2,5-11)7(14)8(15)10-4-3...  \n",
       "4  C00149///C00497///C00711  InChI=1S/C4H6O5/c5-2(4(8)9)1-3(6)7/h2,5H,1H2,(...  \n",
       "\n",
       "[5 rows x 31 columns]"
      ]
     },
     "execution_count": 18,
     "metadata": {},
     "output_type": "execute_result"
    }
   ],
   "source": [
    "dp = reload(dp)\n",
    "df = dp.export_atlas_to_spreadsheet(myAtlas,'/global/homes/b/bpb/Downloads/kz_neg_mode_atlas.csv')\n",
    "df.head()"
   ]
  },
  {
   "cell_type": "markdown",
   "metadata": {},
   "source": [
    "#Get Data and Save it"
   ]
  },
  {
   "cell_type": "code",
   "execution_count": null,
   "metadata": {
    "collapsed": false,
    "scrolled": false
   },
   "outputs": [
    {
     "name": "stdout",
     "output_type": "stream",
     "text": [
      "0 21 /global/project/projectdirs/metatlas/raw_data/lpsilva/20150406_LPSilva_BHedlund_chloroflexi_NEG/20150322_pHILIC_NEG_MSMS_BH36.h5\n",
      "0 21 /global/project/projectdirs/metatlas/raw_data/lpsilva/20150406_LPSilva_BHedlund_chloroflexi_NEG/20150322_pHILIC_NEG_MSMS_BH37.h5\n",
      "0 21 /global/project/projectdirs/metatlas/raw_data/lpsilva/20150406_LPSilva_BHedlund_chloroflexi_NEG/20150322_pHILIC_NEG_MSMS_BH38.h5\n",
      "0 21 /global/project/projectdirs/metatlas/raw_data/lpsilva/20150406_LPSilva_BHedlund_chloroflexi_NEG/20150322_pHILIC_NEG_MSMS_BH39.h5\n",
      "0 21 /global/project/projectdirs/metatlas/raw_data/lpsilva/20150406_LPSilva_BHedlund_chloroflexi_NEG/20150322_pHILIC_NEG_MSMS_BH40.h5\n",
      "1 21 /global/project/projectdirs/metatlas/raw_data/lpsilva/20150406_LPSILVA_BHedlund_chloroflexi_NEG/20151124_pHILIC_NEG_MSMS_BH_GBSInc_1_blank.h5\n",
      "1 21 /global/project/projectdirs/metatlas/raw_data/lpsilva/20150406_LPSILVA_BHedlund_chloroflexi_NEG/20151124_pHILIC_NEG_MSMS_BH_IncCtrl_4_blank.h5\n",
      "2 21 /global/project/projectdirs/metatlas/raw_data/lpsilva/20150406_LPSilva_BHedlund_chloroflexi_NEG/20150322_pHILIC_NEG_MSMS_BH6.h5\n",
      "2 21 /global/project/projectdirs/metatlas/raw_data/lpsilva/20150406_LPSilva_BHedlund_chloroflexi_NEG/20150322_pHILIC_NEG_MSMS_BH7.h5\n",
      "2 21 /global/project/projectdirs/metatlas/raw_data/lpsilva/20150406_LPSilva_BHedlund_chloroflexi_NEG/20150322_pHILIC_NEG_MSMS_BH8.h5\n",
      "2 21 /global/project/projectdirs/metatlas/raw_data/lpsilva/20150406_LPSilva_BHedlund_chloroflexi_NEG/20150322_pHILIC_NEG_MSMS_BH9.h5\n",
      "2 21 /global/project/projectdirs/metatlas/raw_data/lpsilva/20150406_LPSilva_BHedlund_chloroflexi_NEG/20150322_pHILIC_NEG_MSMS_BH10.h5\n",
      "3 21 /global/project/projectdirs/metatlas/raw_data/lpsilva/20150406_LPSilva_BHedlund_chloroflexi_NEG/20150322_pHILIC_NEG_MSMS_BH11.h5\n",
      "3 21 /global/project/projectdirs/metatlas/raw_data/lpsilva/20150406_LPSilva_BHedlund_chloroflexi_NEG/20150322_pHILIC_NEG_MSMS_BH12.h5\n",
      "3 21 /global/project/projectdirs/metatlas/raw_data/lpsilva/20150406_LPSilva_BHedlund_chloroflexi_NEG/20150322_pHILIC_NEG_MSMS_BH13.h5\n",
      "3 21 /global/project/projectdirs/metatlas/raw_data/lpsilva/20150406_LPSilva_BHedlund_chloroflexi_NEG/20150322_pHILIC_NEG_MSMS_BH14.h5\n",
      "3 21 /global/project/projectdirs/metatlas/raw_data/lpsilva/20150406_LPSilva_BHedlund_chloroflexi_NEG/20150322_pHILIC_NEG_MSMS_BH15.h5\n",
      "4 21 /global/project/projectdirs/metatlas/raw_data/lpsilva/20150406_LPSilva_BHedlund_chloroflexi_NEG/20150322_pHILIC_NEG_MSMS_BH56.h5\n",
      "4 21 /global/project/projectdirs/metatlas/raw_data/lpsilva/20150406_LPSilva_BHedlund_chloroflexi_NEG/20150322_pHILIC_NEG_MSMS_BH57.h5\n",
      "4 21 /global/project/projectdirs/metatlas/raw_data/lpsilva/20150406_LPSilva_BHedlund_chloroflexi_NEG/20150322_pHILIC_NEG_MSMS_BH58.h5\n",
      "4 21 /global/project/projectdirs/metatlas/raw_data/lpsilva/20150406_LPSilva_BHedlund_chloroflexi_NEG/20150322_pHILIC_NEG_MSMS_BH59.h5\n",
      "4 21 /global/project/projectdirs/metatlas/raw_data/lpsilva/20150406_LPSilva_BHedlund_chloroflexi_NEG/20150322_pHILIC_NEG_MSMS_BH60.h5\n",
      "5 21 /global/project/projectdirs/metatlas/raw_data/lpsilva/20150406_LPSilva_BHedlund_chloroflexi_NEG/20150322_pHILIC_NEG_MSMS_BH51.h5\n",
      "5 21 /global/project/projectdirs/metatlas/raw_data/lpsilva/20150406_LPSilva_BHedlund_chloroflexi_NEG/20150322_pHILIC_NEG_MSMS_BH52.h5\n",
      "5 21 /global/project/projectdirs/metatlas/raw_data/lpsilva/20150406_LPSilva_BHedlund_chloroflexi_NEG/20150322_pHILIC_NEG_MSMS_BH53.h5\n",
      "5 21 /global/project/projectdirs/metatlas/raw_data/lpsilva/20150406_LPSilva_BHedlund_chloroflexi_NEG/20150322_pHILIC_NEG_MSMS_BH54.h5\n",
      "5 21 /global/project/projectdirs/metatlas/raw_data/lpsilva/20150406_LPSilva_BHedlund_chloroflexi_NEG/20150322_pHILIC_NEG_MSMS_BH55.h5\n",
      "6 21 /global/project/projectdirs/metatlas/raw_data/lpsilva/20150406_LPSILVA_BHedlund_chloroflexi_NEG/20151124_pHILIC_NEG_MSMS_BH_IncCtrl_1.h5\n",
      "6 21 /global/project/projectdirs/metatlas/raw_data/lpsilva/20150406_LPSILVA_BHedlund_chloroflexi_NEG/20151124_pHILIC_NEG_MSMS_BH_IncCtrl_2.h5\n",
      "6 21 /global/project/projectdirs/metatlas/raw_data/lpsilva/20150406_LPSILVA_BHedlund_chloroflexi_NEG/20151124_pHILIC_NEG_MSMS_BH_IncCtrl_3.h5\n",
      "6 21 /global/project/projectdirs/metatlas/raw_data/lpsilva/20150406_LPSILVA_BHedlund_chloroflexi_NEG/20151124_pHILIC_NEG_MSMS_BH_IncCtrl_4.h5\n",
      "6 21 /global/project/projectdirs/metatlas/raw_data/lpsilva/20150406_LPSILVA_BHedlund_chloroflexi_NEG/20151124_pHILIC_NEG_MSMS_BH_IncCtrl_5.h5\n",
      "7 21 /global/project/projectdirs/metatlas/raw_data/lpsilva/20150406_LPSilva_BHedlund_chloroflexi_NEG/20150322_pHILIC_NEG_MSMS_BH26.h5\n",
      "7 21 /global/project/projectdirs/metatlas/raw_data/lpsilva/20150406_LPSilva_BHedlund_chloroflexi_NEG/20150322_pHILIC_NEG_MSMS_BH27.h5\n",
      "7 21 /global/project/projectdirs/metatlas/raw_data/lpsilva/20150406_LPSilva_BHedlund_chloroflexi_NEG/20150322_pHILIC_NEG_MSMS_BH28.h5\n",
      "7 21 /global/project/projectdirs/metatlas/raw_data/lpsilva/20150406_LPSilva_BHedlund_chloroflexi_NEG/20150322_pHILIC_NEG_MSMS_BH29.h5\n",
      "7 21 /global/project/projectdirs/metatlas/raw_data/lpsilva/20150406_LPSilva_BHedlund_chloroflexi_NEG/20150322_pHILIC_NEG_MSMS_BH30.h5\n",
      "8 21 /global/project/projectdirs/metatlas/raw_data/lpsilva/20150406_LPSilva_BHedlund_chloroflexi_NEG/20150322_pHILIC_NEG_MSMS_BH21.h5\n",
      "8 21 /global/project/projectdirs/metatlas/raw_data/lpsilva/20150406_LPSilva_BHedlund_chloroflexi_NEG/20150322_pHILIC_NEG_MSMS_BH22.h5\n",
      "8 21 /global/project/projectdirs/metatlas/raw_data/lpsilva/20150406_LPSilva_BHedlund_chloroflexi_NEG/20150322_pHILIC_NEG_MSMS_BH23.h5\n",
      "8 21 /global/project/projectdirs/metatlas/raw_data/lpsilva/20150406_LPSilva_BHedlund_chloroflexi_NEG/20150322_pHILIC_NEG_MSMS_BH25.h5\n",
      "9 21 /global/project/projectdirs/metatlas/raw_data/lpsilva/20150406_LPSILVA_BHedlund_chloroflexi_NEG/20151124_pHILIC_NEG_MSMS_BH_GBSChlor_3_old.h5\n",
      "9 21 /global/project/projectdirs/metatlas/raw_data/lpsilva/20150406_LPSILVA_BHedlund_chloroflexi_NEG/20151124_pHILIC_NEG_MSMS_BH_GBSChlor_4_old.h5\n",
      "10 21 /global/project/projectdirs/metatlas/raw_data/lpsilva/20150406_LPSilva_BHedlund_chloroflexi_NEG/20150322_pHILIC_NEG_MSMS_BH61.h5\n",
      "10 21 /global/project/projectdirs/metatlas/raw_data/lpsilva/20150406_LPSilva_BHedlund_chloroflexi_NEG/20150322_pHILIC_NEG_MSMS_BH62.h5\n",
      "10 21 /global/project/projectdirs/metatlas/raw_data/lpsilva/20150406_LPSilva_BHedlund_chloroflexi_NEG/20150322_pHILIC_NEG_MSMS_BH63.h5\n",
      "10 21 /global/project/projectdirs/metatlas/raw_data/lpsilva/20150406_LPSilva_BHedlund_chloroflexi_NEG/20150322_pHILIC_NEG_MSMS_BH64.h5\n",
      "10 21 /global/project/projectdirs/metatlas/raw_data/lpsilva/20150406_LPSilva_BHedlund_chloroflexi_NEG/20150322_pHILIC_NEG_MSMS_BH65.h5\n",
      "11 21 /global/project/projectdirs/metatlas/raw_data/lpsilva/20150406_LPSILVA_BHedlund_chloroflexi_NEG/20151124_pHILIC_NEG_MSMS_BH_GBSCtrl_3_old.h5\n",
      "11 21 /global/project/projectdirs/metatlas/raw_data/lpsilva/20150406_LPSILVA_BHedlund_chloroflexi_NEG/20151124_pHILIC_NEG_MSMS_BH_GBSCtrl_4_old.h5\n",
      "12 21 /global/project/projectdirs/metatlas/raw_data/lpsilva/20150406_LPSilva_BHedlund_chloroflexi_NEG/20150322_pHILIC_NEG_MSMS_BH31.h5\n",
      "12 21 /global/project/projectdirs/metatlas/raw_data/lpsilva/20150406_LPSilva_BHedlund_chloroflexi_NEG/20150322_pHILIC_NEG_MSMS_BH32.h5\n",
      "12 21 /global/project/projectdirs/metatlas/raw_data/lpsilva/20150406_LPSilva_BHedlund_chloroflexi_NEG/20150322_pHILIC_NEG_MSMS_BH33.h5\n",
      "12 21 /global/project/projectdirs/metatlas/raw_data/lpsilva/20150406_LPSilva_BHedlund_chloroflexi_NEG/20150322_pHILIC_NEG_MSMS_BH34.h5\n",
      "12 21 /global/project/projectdirs/metatlas/raw_data/lpsilva/20150406_LPSilva_BHedlund_chloroflexi_NEG/20150322_pHILIC_NEG_MSMS_BH35.h5\n",
      "13 21 /global/project/projectdirs/metatlas/raw_data/lpsilva/20150406_LPSilva_BHedlund_chloroflexi_NEG/20150322_pHILIC_NEG_MSMS_BH41.h5\n",
      "13 21 /global/project/projectdirs/metatlas/raw_data/lpsilva/20150406_LPSilva_BHedlund_chloroflexi_NEG/20150322_pHILIC_NEG_MSMS_BH42.h5\n",
      "13 21 /global/project/projectdirs/metatlas/raw_data/lpsilva/20150406_LPSilva_BHedlund_chloroflexi_NEG/20150322_pHILIC_NEG_MSMS_BH43.h5\n",
      "13 21 /global/project/projectdirs/metatlas/raw_data/lpsilva/20150406_LPSilva_BHedlund_chloroflexi_NEG/20150322_pHILIC_NEG_MSMS_BH44.h5\n",
      "13 21 /global/project/projectdirs/metatlas/raw_data/lpsilva/20150406_LPSilva_BHedlund_chloroflexi_NEG/20150322_pHILIC_NEG_MSMS_BH45.h5\n",
      "14 21 /global/project/projectdirs/metatlas/raw_data/lpsilva/20150406_LPSilva_BHedlund_chloroflexi_NEG/20150322_pHILIC_NEG_MSMS_BH1.h5\n",
      "14 21 /global/project/projectdirs/metatlas/raw_data/lpsilva/20150406_LPSilva_BHedlund_chloroflexi_NEG/20150322_pHILIC_NEG_MSMS_BH2.h5\n",
      "14 21 /global/project/projectdirs/metatlas/raw_data/lpsilva/20150406_LPSilva_BHedlund_chloroflexi_NEG/20150322_pHILIC_NEG_MSMS_BH3.h5\n",
      "14 21 /global/project/projectdirs/metatlas/raw_data/lpsilva/20150406_LPSilva_BHedlund_chloroflexi_NEG/20150322_pHILIC_NEG_MSMS_BH4.h5\n",
      "14 21 /global/project/projectdirs/metatlas/raw_data/lpsilva/20150406_LPSilva_BHedlund_chloroflexi_NEG/20150322_pHILIC_NEG_MSMS_BH5.h5\n",
      "14 21 /global/project/projectdirs/metatlas/raw_data/lpsilva/20150406_LPSilva_BHedlund_chloroflexi_NEG/20150322_pHILIC_NEG_MSMS_BH5_150324122835.h5\n",
      "15 21 /global/project/projectdirs/metatlas/raw_data/lpsilva/20150406_LPSilva_BHedlund_chloroflexi_NEG/20150322_pHILIC_NEG_MSMS_BH46.h5\n",
      "15 21 /global/project/projectdirs/metatlas/raw_data/lpsilva/20150406_LPSilva_BHedlund_chloroflexi_NEG/20150322_pHILIC_NEG_MSMS_BH47.h5\n",
      "15 21 /global/project/projectdirs/metatlas/raw_data/lpsilva/20150406_LPSilva_BHedlund_chloroflexi_NEG/20150322_pHILIC_NEG_MSMS_BH48.h5\n",
      "15 21 /global/project/projectdirs/metatlas/raw_data/lpsilva/20150406_LPSilva_BHedlund_chloroflexi_NEG/20150322_pHILIC_NEG_MSMS_BH49.h5\n",
      "15 21 /global/project/projectdirs/metatlas/raw_data/lpsilva/20150406_LPSilva_BHedlund_chloroflexi_NEG/20150322_pHILIC_NEG_MSMS_BH49_150325080220.h5\n",
      "15 21 /global/project/projectdirs/metatlas/raw_data/lpsilva/20150406_LPSilva_BHedlund_chloroflexi_NEG/20150322_pHILIC_NEG_MSMS_BH50.h5\n",
      "16 21 /global/project/projectdirs/metatlas/raw_data/lpsilva/20150406_LPSilva_BHedlund_chloroflexi_NEG/20150322_pHILIC_NEG_MSMS_QCmix.h5\n",
      "17 21 /global/project/projectdirs/metatlas/raw_data/lpsilva/20150406_LPSILVA_BHedlund_chloroflexi_NEG/20151124_pHILIC_NEG_MSMS_BH_QCmix1_2uL.h5\n",
      "17"
     ]
    }
   ],
   "source": [
    "# get and pickle everything This is MSMS, raw MS1 datapoints, compound, group info, and file info\n",
    "# combine positive and negative mode atlas, by join atlases together vs two compound references\n",
    "# typically file-groups are NOT split by polarity, files with un-matched polarity will be discarded for analysis of an identification\n",
    "dp = reload(dp)\n",
    "output_filename = '/global/homes/b/bpb/data/hedlund/20160425_Bhedlund_pHILIC_NEG_AllGroups_master_atlas.pkl'\n",
    "data = dp.get_data_for_groups_and_atlas(groups,myAtlas,output_filename,use_set1 = True)"
   ]
  },
  {
   "cell_type": "markdown",
   "metadata": {},
   "source": [
    "#Load a pre-existing datafile"
   ]
  },
  {
   "cell_type": "code",
   "execution_count": 7,
   "metadata": {
    "collapsed": false
   },
   "outputs": [],
   "source": [
    "my_file = output_filename #'/global/homes/b/bpb/notebooks/MetAtlas_Workflow_20151123/20160420_Bhedlund_pHILIC_NEG_AllGroups_master_atlas.pkl'\n",
    "project_label = '/global/homes/b/bpb/data/hedlund/20160420_Bhedlund_pHILIC_NEG_AllGroups_master_atlas'\n",
    "# data = dp.get_data(my_file)"
   ]
  },
  {
   "cell_type": "markdown",
   "metadata": {},
   "source": [
    "#Make Supplementary Tables"
   ]
  },
  {
   "cell_type": "code",
   "execution_count": 8,
   "metadata": {
    "collapsed": false
   },
   "outputs": [],
   "source": [
    "peak_height = dp.make_output_dataframe(input_fname = my_file, fieldname='peak_height' , output_loc=project_label+'/sheets')"
   ]
  },
  {
   "cell_type": "markdown",
   "metadata": {},
   "source": [
    "#Error bar"
   ]
  },
  {
   "cell_type": "code",
   "execution_count": 9,
   "metadata": {
    "collapsed": false
   },
   "outputs": [],
   "source": [
    "dp.plot_errorbar_plots(peak_height,input_fname = my_file, output_loc=project_label+'/error_bar_peak_height')"
   ]
  },
  {
   "cell_type": "markdown",
   "metadata": {},
   "source": [
    "#Make Chromatograms"
   ]
  },
  {
   "cell_type": "code",
   "execution_count": 10,
   "metadata": {
    "collapsed": false
   },
   "outputs": [
    {
     "name": "stdout",
     "output_type": "stream",
     "text": [
      "7\n",
      "74\n",
      "nrows =  8\n",
      "length of ymax is  5620\n"
     ]
    },
    {
     "data": {
      "text/plain": [
       "<matplotlib.figure.Figure at 0x7fa7d705af50>"
      ]
     },
     "metadata": {},
     "output_type": "display_data"
    }
   ],
   "source": [
    "dp = reload(dp)\n",
    "dp.plot_all_compounds_for_each_file(input_fname = my_file, nCols = 12, scale_y=True , output_loc=project_label+'/all_compounds_each_file')\n",
    "dp.plot_all_files_for_each_compound(input_fname = my_file, nCols = 12, scale_y=True , output_loc=project_label+'/all_files_each_compound')"
   ]
  },
  {
   "cell_type": "markdown",
   "metadata": {},
   "source": [
    "#Make Identification Figures"
   ]
  },
  {
   "cell_type": "code",
   "execution_count": 11,
   "metadata": {
    "collapsed": false
   },
   "outputs": [],
   "source": [
    "dp.make_identification_figure(input_fname = my_file, output_loc=project_label+'/identification')"
   ]
  },
  {
   "cell_type": "code",
   "execution_count": null,
   "metadata": {
    "collapsed": true
   },
   "outputs": [],
   "source": []
  }
 ],
 "metadata": {
  "kernelspec": {
   "display_name": "Python 2",
   "language": "python",
   "name": "python2"
  },
  "language_info": {
   "codemirror_mode": {
    "name": "ipython",
    "version": 2
   },
   "file_extension": ".py",
   "mimetype": "text/x-python",
   "name": "python",
   "nbconvert_exporter": "python",
   "pygments_lexer": "ipython2",
   "version": "2.7.11"
  }
 },
 "nbformat": 4,
 "nbformat_minor": 0
}
