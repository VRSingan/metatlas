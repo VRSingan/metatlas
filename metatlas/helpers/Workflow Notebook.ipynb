{
 "cells": [
  {
   "cell_type": "markdown",
   "metadata": {},
   "source": [
    "#Import Python Packages"
   ]
  },
  {
   "cell_type": "code",
   "execution_count": 1,
   "metadata": {
    "collapsed": false
   },
   "outputs": [
    {
     "name": "stdout",
     "output_type": "stream",
     "text": [
      "('Metatlas live in ', '/global/project/projectdirs/metatlas/anaconda/lib/python2.7/site-packages/metatlas')\n",
      "you're running on d9d4d6ec916d at 172.17.0.9 \n"
     ]
    },
    {
     "name": "stderr",
     "output_type": "stream",
     "text": [
      ":0: FutureWarning: IPython widgets are experimental and may change in the future.\n"
     ]
    }
   ],
   "source": [
    "import sys\n",
    "sys.path.insert(0,'/global/homes/b/bpb/metatlas/metatlas/helpers/' )\n",
    "import dill2plots as dp\n",
    "%matplotlib inline"
   ]
  },
  {
   "cell_type": "markdown",
   "metadata": {},
   "source": [
    "#Make blank file-info sheet"
   ]
  },
  {
   "cell_type": "markdown",
   "metadata": {},
   "source": [
    "Get files from database"
   ]
  },
  {
   "cell_type": "code",
   "execution_count": 10,
   "metadata": {
    "collapsed": false
   },
   "outputs": [],
   "source": [
    "files = dp.get_metatlas_files(experiment = '%hedlund%',name = '%hilic%',most_recent = True)"
   ]
  },
  {
   "cell_type": "markdown",
   "metadata": {},
   "source": [
    "Save the files to an empty fileinfo sheet"
   ]
  },
  {
   "cell_type": "code",
   "execution_count": 9,
   "metadata": {
    "collapsed": false
   },
   "outputs": [],
   "source": [
    "dp.make_empty_fileinfo_sheet('/global/homes/b/bpb/notebooks/atlas_finfo_to_be_loaded/hedlund_empty_fileinfo.tab',files)"
   ]
  },
  {
   "cell_type": "markdown",
   "metadata": {},
   "source": [
    "#Create metatlas groups from filled in file-info sheet"
   ]
  },
  {
   "cell_type": "code",
   "execution_count": 18,
   "metadata": {
    "collapsed": false
   },
   "outputs": [],
   "source": [
    "dp = reload(dp)\n",
    "g = dp.make_groups_from_fileinfo_sheet('/global/homes/b/bpb/notebooks/atlas_finfo_to_be_loaded/FileInfoSheet_BHedlund_AllFiles_20160413 (1).txt',store=False)"
   ]
  },
  {
   "cell_type": "markdown",
   "metadata": {},
   "source": [
    "#Create a new Atlas in metatlas from a spreadsheet"
   ]
  },
  {
   "cell_type": "code",
   "execution_count": 28,
   "metadata": {
    "collapsed": false
   },
   "outputs": [],
   "source": [
    "dp = reload(dp)\n",
    "names = dp.make_atlas_from_spreadsheet('/global/homes/b/bpb/notebooks/atlas_finfo_to_be_loaded/katherine_master_pos.txt',\n",
    "                                       'master_atlas_pos_hilic_20160421',\n",
    "                                       filetype='tab',\n",
    "                                       sheetname='',\n",
    "                                       polarity = 'positive',\n",
    "                                       store=False)"
   ]
  },
  {
   "cell_type": "markdown",
   "metadata": {},
   "source": [
    "#Select groups of files to operate on"
   ]
  },
  {
   "cell_type": "code",
   "execution_count": 2,
   "metadata": {
    "collapsed": false
   },
   "outputs": [
    {
     "name": "stdout",
     "output_type": "stream",
     "text": [
      "20160413_Bhedlund_pHILIC_POS_GBS_4OE_Ctrl_Set1\n",
      "20160413_Bhedlund_pHILIC_POS_G233_BMR_Set1\n",
      "20160413_Bhedlund_pHILIC_POS_GBS_32OE_inc_Set2\n",
      "20160413_Bhedlund_pHILIC_POS_JAD2_GBS_32OE_Set1\n",
      "20160413_Bhedlund_pHILIC_POS_QCmix_Set1\n",
      "20160413_Bhedlund_pHILIC_POS_Blank_Set1\n",
      "20160413_Bhedlund_pHILIC_POS_Blank_Set2\n",
      "20160413_Bhedlund_pHILIC_POS_JKG1_PR_Set1\n",
      "20160413_Bhedlund_pHILIC_POS_JAD2_GBS_Set1\n",
      "20160413_Bhedlund_pHILIC_POS_BMR_Beg_Set1\n",
      "20160413_Bhedlund_pHILIC_POS_JAD2_GBS_4OE_Set1\n",
      "20160413_Bhedlund_pHILIC_POS_BMR_End_Set1\n",
      "20160413_Bhedlund_pHILIC_POS_GBS_conc_inc_Set2\n",
      "20160413_Bhedlund_pHILIC_POS_GBS_Med_Ctrl_Set1\n",
      "20160413_Bhedlund_pHILIC_POS_GBS_32OE_Ctrl_Set1\n",
      "20160413_Bhedlund_pHILIC_POS_GBS_Med_inc_Set1\n",
      "20160413_Bhedlund_pHILIC_POS_JAD2_GBS_32OE_Set2\n",
      "20160413_Bhedlund_pHILIC_POS_PR_End_Set1\n",
      "20160413_Bhedlund_pHILIC_POS_GBS_32OE_Ctrl_Set2\n",
      "20160413_Bhedlund_pHILIC_POS_PR_Beg_Set1\n"
     ]
    }
   ],
   "source": [
    "groups = dp.select_groups_for_analysis(name = '%hedlund%pos%',most_recent = True, remove_empty = True, filter_list = [])\n",
    "for g in groups:\n",
    "    print g.name"
   ]
  },
  {
   "cell_type": "markdown",
   "metadata": {},
   "source": [
    "#Select Atlas to use"
   ]
  },
  {
   "cell_type": "code",
   "execution_count": 3,
   "metadata": {
    "collapsed": false
   },
   "outputs": [
    {
     "name": "stdout",
     "output_type": "stream",
     "text": [
      "0 20160224_KBL_Master_Atlas_Positive_QE_Hilic 2016-02-25 00:08:48\n",
      "1 katherine_master_atlas_pos_ALL_20160330 2016-03-31 16:49:48\n"
     ]
    }
   ],
   "source": [
    "dp = reload(dp)\n",
    "atlas = dp.get_metatlas_atlas(name='%master%pos%',do_print = True)\n"
   ]
  },
  {
   "cell_type": "code",
   "execution_count": 24,
   "metadata": {
    "collapsed": false
   },
   "outputs": [
    {
     "data": {
      "text/plain": [
       "u'20160224_KBL_Master_Atlas_Positive_QE_Hilic'"
      ]
     },
     "execution_count": 24,
     "metadata": {},
     "output_type": "execute_result"
    }
   ],
   "source": [
    "myAtlas.name"
   ]
  },
  {
   "cell_type": "code",
   "execution_count": 4,
   "metadata": {
    "collapsed": true
   },
   "outputs": [],
   "source": [
    "myAtlas = atlas[1]"
   ]
  },
  {
   "cell_type": "markdown",
   "metadata": {},
   "source": [
    "#Export Atlas To Spreadsheet"
   ]
  },
  {
   "cell_type": "code",
   "execution_count": 31,
   "metadata": {
    "collapsed": false,
    "scrolled": false
   },
   "outputs": [
    {
     "data": {
      "text/html": [
       "<div>\n",
       "<table border=\"1\" class=\"dataframe\">\n",
       "  <thead>\n",
       "    <tr style=\"text-align: right;\">\n",
       "      <th></th>\n",
       "      <th>inchi</th>\n",
       "      <th>mono_isotopic_molecular_weight</th>\n",
       "      <th>creation_time</th>\n",
       "      <th>description</th>\n",
       "      <th>formula</th>\n",
       "      <th>functional_sets</th>\n",
       "      <th>last_modified</th>\n",
       "      <th>reference_xrefs</th>\n",
       "      <th>synonyms</th>\n",
       "      <th>unique_id</th>\n",
       "      <th>...</th>\n",
       "      <th>source_database</th>\n",
       "      <th>common_name</th>\n",
       "      <th>pubchem_compound_id</th>\n",
       "      <th>lipidmaps_id</th>\n",
       "      <th>metacyc_id</th>\n",
       "      <th>hmdb_id</th>\n",
       "      <th>img_abc_id</th>\n",
       "      <th>chebi_id</th>\n",
       "      <th>kegg_id</th>\n",
       "      <th>metatlas_inchi</th>\n",
       "    </tr>\n",
       "  </thead>\n",
       "  <tbody>\n",
       "    <tr>\n",
       "      <th>&amp;beta;-alanine betaine</th>\n",
       "      <td>InChI=1S/C6H13NO2/c1-7(2,3)5-4-6(8)9/h4-5H2,1-3H3</td>\n",
       "      <td>131.095</td>\n",
       "      <td>1444322245</td>\n",
       "      <td>NaN</td>\n",
       "      <td>C6H13NO2</td>\n",
       "      <td>NaN</td>\n",
       "      <td>1459442988</td>\n",
       "      <td>NaN</td>\n",
       "      <td>NaN</td>\n",
       "      <td>456ab3b302db4e05ad4aa73219a5377d</td>\n",
       "      <td>...</td>\n",
       "      <td>NaN</td>\n",
       "      <td>NaN</td>\n",
       "      <td>NaN</td>\n",
       "      <td>NaN</td>\n",
       "      <td>NaN</td>\n",
       "      <td>NaN</td>\n",
       "      <td>NaN</td>\n",
       "      <td>NaN</td>\n",
       "      <td>NaN</td>\n",
       "      <td>NaN</td>\n",
       "    </tr>\n",
       "    <tr>\n",
       "      <th>L-proline betaine</th>\n",
       "      <td>InChI=1S/C7H13NO2/c1-8(2)5-3-4-6(8)7(9)10/h6H,...</td>\n",
       "      <td>143.095</td>\n",
       "      <td>1444322245</td>\n",
       "      <td>NaN</td>\n",
       "      <td>C7H13NO2</td>\n",
       "      <td>NaN</td>\n",
       "      <td>1459442988</td>\n",
       "      <td>NaN</td>\n",
       "      <td>NaN</td>\n",
       "      <td>4ec55891dbdb4b61bf00075a13975f03</td>\n",
       "      <td>...</td>\n",
       "      <td>NaN</td>\n",
       "      <td>NaN</td>\n",
       "      <td>NaN</td>\n",
       "      <td>NaN</td>\n",
       "      <td>NaN</td>\n",
       "      <td>NaN</td>\n",
       "      <td>NaN</td>\n",
       "      <td>NaN</td>\n",
       "      <td>NaN</td>\n",
       "      <td>NaN</td>\n",
       "    </tr>\n",
       "    <tr>\n",
       "      <th>trimethylamine &lt;i&gt;N&lt;/i&gt;-oxide</th>\n",
       "      <td>InChI=1S/C3H9NO/c1-4(2,3)5/h1-3H3</td>\n",
       "      <td>75.0684</td>\n",
       "      <td>1444322179</td>\n",
       "      <td>NaN</td>\n",
       "      <td>C3H9NO</td>\n",
       "      <td>NaN</td>\n",
       "      <td>1459442988</td>\n",
       "      <td>NaN</td>\n",
       "      <td>N(CH3)3O///trimethyloxamine///N,N-Dimethylmeth...</td>\n",
       "      <td>3cfe8f10bb8e43a2a23edffae795815e</td>\n",
       "      <td>...</td>\n",
       "      <td>chebi///wikidata///metacyc///hmdb</td>\n",
       "      <td>trimethylamine N-oxide///trimethylamine N-oxid...</td>\n",
       "      <td>1145</td>\n",
       "      <td>nan</td>\n",
       "      <td>TRIMETHYLAMINE-N-O</td>\n",
       "      <td>HMDB00925</td>\n",
       "      <td>nan</td>\n",
       "      <td>CHEBI:15724</td>\n",
       "      <td>C01104</td>\n",
       "      <td>InChI=1S/C3H9NO/c1-4(2,3)5/h1-3H3</td>\n",
       "    </tr>\n",
       "    <tr>\n",
       "      <th>glycine betaine</th>\n",
       "      <td>InChI=1S/C5H11NO2/c1-6(2,3)4-5(7)8/h4H2,1-3H3</td>\n",
       "      <td>117.079</td>\n",
       "      <td>1444322230</td>\n",
       "      <td>NaN</td>\n",
       "      <td>C5H11NO2</td>\n",
       "      <td>NaN</td>\n",
       "      <td>1459442988</td>\n",
       "      <td>NaN</td>\n",
       "      <td>nan</td>\n",
       "      <td>d3018b63ab8f4a2988257fd79b0c76dd</td>\n",
       "      <td>...</td>\n",
       "      <td>chebi///hmdb</td>\n",
       "      <td>Trimethylammonioacetate///N,N,N-trimethylglyci...</td>\n",
       "      <td>nan</td>\n",
       "      <td>nan</td>\n",
       "      <td>nan</td>\n",
       "      <td>HMDB59606</td>\n",
       "      <td>nan</td>\n",
       "      <td>CHEBI:41139</td>\n",
       "      <td>nan</td>\n",
       "      <td>InChI=1S/C5H11NO2/c1-6(2,3)4-5(7)8/h4H2,1-3H3/p+1</td>\n",
       "    </tr>\n",
       "    <tr>\n",
       "      <th>Arsenobetaine</th>\n",
       "      <td>NaN</td>\n",
       "      <td>NaN</td>\n",
       "      <td>NaN</td>\n",
       "      <td>NaN</td>\n",
       "      <td>NaN</td>\n",
       "      <td>NaN</td>\n",
       "      <td>NaN</td>\n",
       "      <td>NaN</td>\n",
       "      <td>NaN</td>\n",
       "      <td>NaN</td>\n",
       "      <td>...</td>\n",
       "      <td>NaN</td>\n",
       "      <td>NaN</td>\n",
       "      <td>NaN</td>\n",
       "      <td>NaN</td>\n",
       "      <td>NaN</td>\n",
       "      <td>NaN</td>\n",
       "      <td>NaN</td>\n",
       "      <td>NaN</td>\n",
       "      <td>NaN</td>\n",
       "      <td>NaN</td>\n",
       "    </tr>\n",
       "  </tbody>\n",
       "</table>\n",
       "<p>5 rows × 35 columns</p>\n",
       "</div>"
      ],
      "text/plain": [
       "                                                                           inchi  \\\n",
       "&beta;-alanine betaine         InChI=1S/C6H13NO2/c1-7(2,3)5-4-6(8)9/h4-5H2,1-3H3   \n",
       "L-proline betaine              InChI=1S/C7H13NO2/c1-8(2)5-3-4-6(8)7(9)10/h6H,...   \n",
       "trimethylamine <i>N</i>-oxide                  InChI=1S/C3H9NO/c1-4(2,3)5/h1-3H3   \n",
       "glycine betaine                    InChI=1S/C5H11NO2/c1-6(2,3)4-5(7)8/h4H2,1-3H3   \n",
       "Arsenobetaine                                                                NaN   \n",
       "\n",
       "                              mono_isotopic_molecular_weight creation_time  \\\n",
       "&beta;-alanine betaine                               131.095    1444322245   \n",
       "L-proline betaine                                    143.095    1444322245   \n",
       "trimethylamine <i>N</i>-oxide                        75.0684    1444322179   \n",
       "glycine betaine                                      117.079    1444322230   \n",
       "Arsenobetaine                                            NaN           NaN   \n",
       "\n",
       "                              description   formula functional_sets  \\\n",
       "&beta;-alanine betaine                NaN  C6H13NO2             NaN   \n",
       "L-proline betaine                     NaN  C7H13NO2             NaN   \n",
       "trimethylamine <i>N</i>-oxide         NaN    C3H9NO             NaN   \n",
       "glycine betaine                       NaN  C5H11NO2             NaN   \n",
       "Arsenobetaine                         NaN       NaN             NaN   \n",
       "\n",
       "                              last_modified reference_xrefs  \\\n",
       "&beta;-alanine betaine           1459442988             NaN   \n",
       "L-proline betaine                1459442988             NaN   \n",
       "trimethylamine <i>N</i>-oxide    1459442988             NaN   \n",
       "glycine betaine                  1459442988             NaN   \n",
       "Arsenobetaine                           NaN             NaN   \n",
       "\n",
       "                                                                        synonyms  \\\n",
       "&beta;-alanine betaine                                                       NaN   \n",
       "L-proline betaine                                                            NaN   \n",
       "trimethylamine <i>N</i>-oxide  N(CH3)3O///trimethyloxamine///N,N-Dimethylmeth...   \n",
       "glycine betaine                                                              nan   \n",
       "Arsenobetaine                                                                NaN   \n",
       "\n",
       "                                                      unique_id  \\\n",
       "&beta;-alanine betaine         456ab3b302db4e05ad4aa73219a5377d   \n",
       "L-proline betaine              4ec55891dbdb4b61bf00075a13975f03   \n",
       "trimethylamine <i>N</i>-oxide  3cfe8f10bb8e43a2a23edffae795815e   \n",
       "glycine betaine                d3018b63ab8f4a2988257fd79b0c76dd   \n",
       "Arsenobetaine                                               NaN   \n",
       "\n",
       "                                                     ...                          \\\n",
       "&beta;-alanine betaine                               ...                           \n",
       "L-proline betaine                                    ...                           \n",
       "trimethylamine <i>N</i>-oxide                        ...                           \n",
       "glycine betaine                                      ...                           \n",
       "Arsenobetaine                                        ...                           \n",
       "\n",
       "                                                 source_database  \\\n",
       "&beta;-alanine betaine                                       NaN   \n",
       "L-proline betaine                                            NaN   \n",
       "trimethylamine <i>N</i>-oxide  chebi///wikidata///metacyc///hmdb   \n",
       "glycine betaine                                     chebi///hmdb   \n",
       "Arsenobetaine                                                NaN   \n",
       "\n",
       "                                                                     common_name  \\\n",
       "&beta;-alanine betaine                                                       NaN   \n",
       "L-proline betaine                                                            NaN   \n",
       "trimethylamine <i>N</i>-oxide  trimethylamine N-oxide///trimethylamine N-oxid...   \n",
       "glycine betaine                Trimethylammonioacetate///N,N,N-trimethylglyci...   \n",
       "Arsenobetaine                                                                NaN   \n",
       "\n",
       "                              pubchem_compound_id lipidmaps_id  \\\n",
       "&beta;-alanine betaine                        NaN          NaN   \n",
       "L-proline betaine                             NaN          NaN   \n",
       "trimethylamine <i>N</i>-oxide                1145          nan   \n",
       "glycine betaine                               nan          nan   \n",
       "Arsenobetaine                                 NaN          NaN   \n",
       "\n",
       "                                       metacyc_id    hmdb_id  img_abc_id  \\\n",
       "&beta;-alanine betaine                        NaN        NaN         NaN   \n",
       "L-proline betaine                             NaN        NaN         NaN   \n",
       "trimethylamine <i>N</i>-oxide  TRIMETHYLAMINE-N-O  HMDB00925         nan   \n",
       "glycine betaine                               nan  HMDB59606         nan   \n",
       "Arsenobetaine                                 NaN        NaN         NaN   \n",
       "\n",
       "                                  chebi_id  kegg_id  \\\n",
       "&beta;-alanine betaine                 NaN      NaN   \n",
       "L-proline betaine                      NaN      NaN   \n",
       "trimethylamine <i>N</i>-oxide  CHEBI:15724   C01104   \n",
       "glycine betaine                CHEBI:41139      nan   \n",
       "Arsenobetaine                          NaN      NaN   \n",
       "\n",
       "                                                                  metatlas_inchi  \n",
       "&beta;-alanine betaine                                                       NaN  \n",
       "L-proline betaine                                                            NaN  \n",
       "trimethylamine <i>N</i>-oxide                  InChI=1S/C3H9NO/c1-4(2,3)5/h1-3H3  \n",
       "glycine betaine                InChI=1S/C5H11NO2/c1-6(2,3)4-5(7)8/h4H2,1-3H3/p+1  \n",
       "Arsenobetaine                                                                NaN  \n",
       "\n",
       "[5 rows x 35 columns]"
      ]
     },
     "execution_count": 31,
     "metadata": {},
     "output_type": "execute_result"
    }
   ],
   "source": [
    "dp = reload(dp)\n",
    "df = dp.export_atlas_to_spreadsheet(myAtlas,'/global/homes/b/bpb/data/hedlund/pos_mode_atlas.csv')\n",
    "df.head()"
   ]
  },
  {
   "cell_type": "markdown",
   "metadata": {},
   "source": [
    "#Get Data and Save it"
   ]
  },
  {
   "cell_type": "code",
   "execution_count": 5,
   "metadata": {
    "collapsed": false,
    "scrolled": false
   },
   "outputs": [
    {
     "name": "stdout",
     "output_type": "stream",
     "text": [
      "0 20 /global/project/projectdirs/metatlas/raw_data/lpsilva/20150324_LPSilva_BHedlund_chloroflexi_POS_rerun/20150320_pHILIC_POS_MSMS_BH46.h5\n",
      "0 20 /global/project/projectdirs/metatlas/raw_data/lpsilva/20150324_LPSilva_BHedlund_chloroflexi_POS_rerun/20150320_pHILIC_POS_MSMS_BH47.h5\n",
      "0 20 /global/project/projectdirs/metatlas/raw_data/lpsilva/20150324_LPSilva_BHedlund_chloroflexi_POS_rerun/20150320_pHILIC_POS_MSMS_BH48.h5\n",
      "0 20 /global/project/projectdirs/metatlas/raw_data/lpsilva/20150324_LPSilva_BHedlund_chloroflexi_POS_rerun/20150320_pHILIC_POS_MSMS_BH49.h5\n",
      "0 20 /global/project/projectdirs/metatlas/raw_data/lpsilva/20150324_LPSilva_BHedlund_chloroflexi_POS_rerun/20150320_pHILIC_POS_MSMS_BH49_150322143035.h5\n",
      "0 20 /global/project/projectdirs/metatlas/raw_data/lpsilva/20150324_LPSilva_BHedlund_chloroflexi_POS_rerun/20150320_pHILIC_POS_MSMS_BH50.h5\n",
      "1 20 /global/project/projectdirs/metatlas/raw_data/lpsilva/20150324_LPSilva_BHedlund_chloroflexi_POS_rerun/20150320_pHILIC_POS_MSMS_BH26.h5\n",
      "1 20 /global/project/projectdirs/metatlas/raw_data/lpsilva/20150324_LPSilva_BHedlund_chloroflexi_POS_rerun/20150320_pHILIC_POS_MSMS_BH27.h5\n",
      "1 20 /global/project/projectdirs/metatlas/raw_data/lpsilva/20150324_LPSilva_BHedlund_chloroflexi_POS_rerun/20150320_pHILIC_POS_MSMS_BH28.h5\n",
      "1 20 /global/project/projectdirs/metatlas/raw_data/lpsilva/20150324_LPSilva_BHedlund_chloroflexi_POS_rerun/20150320_pHILIC_POS_MSMS_BH29.h5\n",
      "1 20 /global/project/projectdirs/metatlas/raw_data/lpsilva/20150324_LPSilva_BHedlund_chloroflexi_POS_rerun/20150320_pHILIC_POS_MSMS_BH30.h5\n",
      "2 20 /global/project/projectdirs/metatlas/raw_data/lpsilva/20150324_LPSILVA_BHedlund/20151124_pHILIC_POS_MSMS_BH_IncCtrl_2.h5\n",
      "2 20 /global/project/projectdirs/metatlas/raw_data/lpsilva/20150324_LPSILVA_BHedlund/20151124_pHILIC_POS_MSMS_BH_IncCtrl_3.h5\n",
      "2 20 /global/project/projectdirs/metatlas/raw_data/lpsilva/20150324_LPSILVA_BHedlund/20151124_pHILIC_POS_MSMS_BH_IncCtrl_4.h5\n",
      "2 20 /global/project/projectdirs/metatlas/raw_data/lpsilva/20150324_LPSILVA_BHedlund/20151124_pHILIC_POS_MSMS_BH_IncCtrl_5.h5\n",
      "3 20 /global/project/projectdirs/metatlas/raw_data/lpsilva/20150324_LPSilva_BHedlund_chloroflexi_POS_rerun/20150320_pHILIC_POS_MSMS_BH61.h5\n",
      "3 20 /global/project/projectdirs/metatlas/raw_data/lpsilva/20150324_LPSilva_BHedlund_chloroflexi_POS_rerun/20150320_pHILIC_POS_MSMS_BH62.h5\n",
      "3 20 /global/project/projectdirs/metatlas/raw_data/lpsilva/20150324_LPSilva_BHedlund_chloroflexi_POS_rerun/20150320_pHILIC_POS_MSMS_BH63.h5\n",
      "3 20 /global/project/projectdirs/metatlas/raw_data/lpsilva/20150324_LPSilva_BHedlund_chloroflexi_POS_rerun/20150320_pHILIC_POS_MSMS_BH64.h5\n",
      "3 20 /global/project/projectdirs/metatlas/raw_data/lpsilva/20150324_LPSilva_BHedlund_chloroflexi_POS_rerun/20150320_pHILIC_POS_MSMS_BH65.h5\n",
      "4 20 /global/project/projectdirs/metatlas/raw_data/lpsilva/20150324_LPSilva_BHedlund_chloroflexi_POS_rerun/20150320_pHILIC_POS_MSMS_QCmix_2.h5\n",
      "4 20 /global/project/projectdirs/metatlas/raw_data/lpsilva/20150324_LPSilva_BHedlund_chloroflexi_POS_rerun/20150320_pHILIC_POS_MSMS_QCmix_end.h5\n",
      "5 20 /global/project/projectdirs/metatlas/raw_data/lpsilva/20150324_LPSilva_BHedlund_chloroflexi_POS_rerun/20150320_pHILIC_POS_MSMS_BH57_blank.h5\n",
      "5 20 /global/project/projectdirs/metatlas/raw_data/lpsilva/20150324_LPSilva_BHedlund_chloroflexi_POS_rerun/20150320_pHILIC_POS_MSMS_BH43_blank.h5\n",
      "5 20 /global/project/projectdirs/metatlas/raw_data/lpsilva/20150324_LPSilva_BHedlund_chloroflexi_POS_rerun/20150320_pHILIC_POS_MSMS_BH26_blank.h5\n",
      "5 20 /global/project/projectdirs/metatlas/raw_data/lpsilva/20150324_LPSilva_BHedlund_chloroflexi_POS_rerun/20150320_pHILIC_POS_MSMS_BH14_blank.h5\n",
      "5 20 /global/project/projectdirs/metatlas/raw_data/lpsilva/20150324_LPSilva_BHedlund_chloroflexi_POS_rerun/20150320_pHILIC_POS_MSMS_BH1_blank.h5\n",
      "5 20 /global/project/projectdirs/metatlas/raw_data/lpsilva/20150324_LPSilva_BHedlund_chloroflexi_POS_rerun/20150320_pHILIC_POS_MSMS_BH23_blank.h5\n",
      "5 20 /global/project/projectdirs/metatlas/raw_data/lpsilva/20150324_LPSilva_BHedlund_chloroflexi_POS_rerun/20150320_pHILIC_POS_MSMS_BH18_blank.h5\n",
      "5 20 /global/project/projectdirs/metatlas/raw_data/lpsilva/20150324_LPSilva_BHedlund_chloroflexi_POS_rerun/20150320_pHILIC_POS_MSMS_BH29_blank.h5\n",
      "5 20 /global/project/projectdirs/metatlas/raw_data/lpsilva/20150324_LPSilva_BHedlund_chloroflexi_POS_rerun/20150320_pHILIC_POS_MSMS_BH33_blank.h5\n",
      "5 20 /global/project/projectdirs/metatlas/raw_data/lpsilva/20150324_LPSilva_BHedlund_chloroflexi_POS_rerun/20150320_pHILIC_POS_MSMS_BH32_blank.h5\n",
      "5 20 /global/project/projectdirs/metatlas/raw_data/lpsilva/20150324_LPSilva_BHedlund_chloroflexi_POS_rerun/20150320_pHILIC_POS_MSMS_BH47_blank.h5\n",
      "5 20 /global/project/projectdirs/metatlas/raw_data/lpsilva/20150324_LPSilva_BHedlund_chloroflexi_POS_rerun/20150320_pHILIC_POS_MSMS_BH48_blank.h5\n",
      "5 20 /global/project/projectdirs/metatlas/raw_data/lpsilva/20150324_LPSilva_BHedlund_chloroflexi_POS_rerun/20150320_pHILIC_POS_MSMS_BH50_blank.h5\n",
      "5 20 /global/project/projectdirs/metatlas/raw_data/lpsilva/20150324_LPSilva_BHedlund_chloroflexi_POS_rerun/20150320_pHILIC_POS_MSMS_BH59_blank.h5\n",
      "5 20 /global/project/projectdirs/metatlas/raw_data/lpsilva/20150324_LPSilva_BHedlund_chloroflexi_POS_rerun/20150320_pHILIC_POS_MSMS_BH64_blank.h5\n",
      "5 20 /global/project/projectdirs/metatlas/raw_data/lpsilva/20150324_LPSilva_BHedlund_chloroflexi_POS_rerun/20150320_pHILIC_POS_MSMS_BH9_blank.h5\n",
      "6 20 /global/project/projectdirs/metatlas/raw_data/lpsilva/20150324_LPSILVA_BHedlund/20151124_pHILIC_POS_MSMS_BH_IncCtrl_2_blank.h5\n",
      "7 20 /global/project/projectdirs/metatlas/raw_data/lpsilva/20150324_LPSilva_BHedlund_chloroflexi_POS_rerun/20150320_pHILIC_POS_MSMS_BH11.h5\n",
      "7 20 /global/project/projectdirs/metatlas/raw_data/lpsilva/20150324_LPSilva_BHedlund_chloroflexi_POS_rerun/20150320_pHILIC_POS_MSMS_BH12.h5\n",
      "7 20 /global/project/projectdirs/metatlas/raw_data/lpsilva/20150324_LPSilva_BHedlund_chloroflexi_POS_rerun/20150320_pHILIC_POS_MSMS_BH13.h5\n",
      "7 20 /global/project/projectdirs/metatlas/raw_data/lpsilva/20150324_LPSilva_BHedlund_chloroflexi_POS_rerun/20150320_pHILIC_POS_MSMS_BH14.h5\n",
      "7 20 /global/project/projectdirs/metatlas/raw_data/lpsilva/20150324_LPSilva_BHedlund_chloroflexi_POS_rerun/20150320_pHILIC_POS_MSMS_BH15.h5\n",
      "8 20 /global/project/projectdirs/metatlas/raw_data/lpsilva/20150324_LPSilva_BHedlund_chloroflexi_POS_rerun/20150320_pHILIC_POS_MSMS_BH41.h5\n",
      "8 20 /global/project/projectdirs/metatlas/raw_data/lpsilva/20150324_LPSilva_BHedlund_chloroflexi_POS_rerun/20150320_pHILIC_POS_MSMS_BH42.h5\n",
      "8 20 /global/project/projectdirs/metatlas/raw_data/lpsilva/20150324_LPSilva_BHedlund_chloroflexi_POS_rerun/20150320_pHILIC_POS_MSMS_BH43.h5\n",
      "8 20 /global/project/projectdirs/metatlas/raw_data/lpsilva/20150324_LPSilva_BHedlund_chloroflexi_POS_rerun/20150320_pHILIC_POS_MSMS_BH44.h5\n",
      "8 20 /global/project/projectdirs/metatlas/raw_data/lpsilva/20150324_LPSilva_BHedlund_chloroflexi_POS_rerun/20150320_pHILIC_POS_MSMS_BH45.h5\n",
      "9 20 /global/project/projectdirs/metatlas/raw_data/lpsilva/20150324_LPSilva_BHedlund_chloroflexi_POS_rerun/20150302_pHILIC_POS_MSMS_BH16.h5\n",
      "9 20 /global/project/projectdirs/metatlas/raw_data/lpsilva/20150324_LPSilva_BHedlund_chloroflexi_POS_rerun/20150320_pHILIC_POS_MSMS_BH17.h5\n",
      "9 20 /global/project/projectdirs/metatlas/raw_data/lpsilva/20150324_LPSilva_BHedlund_chloroflexi_POS_rerun/20150320_pHILIC_POS_MSMS_BH18.h5\n",
      "9 20 /global/project/projectdirs/metatlas/raw_data/lpsilva/20150324_LPSilva_BHedlund_chloroflexi_POS_rerun/20150320_pHILIC_POS_MSMS_BH19.h5\n",
      "9 20 /global/project/projectdirs/metatlas/raw_data/lpsilva/20150324_LPSilva_BHedlund_chloroflexi_POS_rerun/20150320_pHILIC_POS_MSMS_BH20.h5\n",
      "10 20 /global/project/projectdirs/metatlas/raw_data/lpsilva/20150324_LPSilva_BHedlund_chloroflexi_POS_rerun/20150320_pHILIC_POS_MSMS_BH51.h5\n",
      "10 20 /global/project/projectdirs/metatlas/raw_data/lpsilva/20150324_LPSilva_BHedlund_chloroflexi_POS_rerun/20150320_pHILIC_POS_MSMS_BH52.h5\n",
      "10 20 /global/project/projectdirs/metatlas/raw_data/lpsilva/20150324_LPSilva_BHedlund_chloroflexi_POS_rerun/20150320_pHILIC_POS_MSMS_BH53.h5\n",
      "10 20 /global/project/projectdirs/metatlas/raw_data/lpsilva/20150324_LPSilva_BHedlund_chloroflexi_POS_rerun/20150320_pHILIC_POS_MSMS_BH54.h5\n",
      "10 20 /global/project/projectdirs/metatlas/raw_data/lpsilva/20150324_LPSilva_BHedlund_chloroflexi_POS_rerun/20150320_pHILIC_POS_MSMS_BH55.h5\n",
      "11 20 /global/project/projectdirs/metatlas/raw_data/lpsilva/20150324_LPSilva_BHedlund_chloroflexi_POS_rerun/20150320_pHILIC_POS_MSMS_BH21.h5\n",
      "11 20 /global/project/projectdirs/metatlas/raw_data/lpsilva/20150324_LPSilva_BHedlund_chloroflexi_POS_rerun/20150320_pHILIC_POS_MSMS_BH22.h5\n",
      "11 20 /global/project/projectdirs/metatlas/raw_data/lpsilva/20150324_LPSilva_BHedlund_chloroflexi_POS_rerun/20150320_pHILIC_POS_MSMS_BH23.h5\n",
      "11 20 /global/project/projectdirs/metatlas/raw_data/lpsilva/20150324_LPSilva_BHedlund_chloroflexi_POS_rerun/20150320_pHILIC_POS_MSMS_BH24.h5\n",
      "11 20 /global/project/projectdirs/metatlas/raw_data/lpsilva/20150324_LPSilva_BHedlund_chloroflexi_POS_rerun/20150320_pHILIC_POS_MSMS_BH25.h5\n",
      "12 20 /global/project/projectdirs/metatlas/raw_data/lpsilva/20150324_LPSILVA_BHedlund/20151124_pHILIC_POS_MSMS_BH_GBSInc_1.h5\n",
      "12 20 /global/project/projectdirs/metatlas/raw_data/lpsilva/20150324_LPSILVA_BHedlund/20151124_pHILIC_POS_MSMS_BH_GBSInc_2.h5\n",
      "13 20 /global/project/projectdirs/metatlas/raw_data/lpsilva/20150324_LPSilva_BHedlund_chloroflexi_POS_rerun/20150320_pHILIC_POS_MSMS_BH31.h5\n",
      "13 20 /global/project/projectdirs/metatlas/raw_data/lpsilva/20150324_LPSilva_BHedlund_chloroflexi_POS_rerun/20150320_pHILIC_POS_MSMS_BH32.h5\n",
      "13 20 /global/project/projectdirs/metatlas/raw_data/lpsilva/20150324_LPSilva_BHedlund_chloroflexi_POS_rerun/20150320_pHILIC_POS_MSMS_BH33.h5\n",
      "13 20 /global/project/projectdirs/metatlas/raw_data/lpsilva/20150324_LPSilva_BHedlund_chloroflexi_POS_rerun/20150320_pHILIC_POS_MSMS_BH34.h5\n",
      "13 20 /global/project/projectdirs/metatlas/raw_data/lpsilva/20150324_LPSilva_BHedlund_chloroflexi_POS_rerun/20150320_pHILIC_POS_MSMS_BH35.h5\n",
      "14 20 /global/project/projectdirs/metatlas/raw_data/lpsilva/20150324_LPSilva_BHedlund_chloroflexi_POS_rerun/20150320_pHILIC_POS_MSMS_BH56.h5\n",
      "14 20 /global/project/projectdirs/metatlas/raw_data/lpsilva/20150324_LPSilva_BHedlund_chloroflexi_POS_rerun/20150320_pHILIC_POS_MSMS_BH57.h5\n",
      "14 20 /global/project/projectdirs/metatlas/raw_data/lpsilva/20150324_LPSilva_BHedlund_chloroflexi_POS_rerun/20150320_pHILIC_POS_MSMS_BH58.h5\n",
      "14 20 /global/project/projectdirs/metatlas/raw_data/lpsilva/20150324_LPSilva_BHedlund_chloroflexi_POS_rerun/20150320_pHILIC_POS_MSMS_BH59.h5\n",
      "14 20 /global/project/projectdirs/metatlas/raw_data/lpsilva/20150324_LPSilva_BHedlund_chloroflexi_POS_rerun/20150320_pHILIC_POS_MSMS_BH60.h5\n",
      "15 20 /global/project/projectdirs/metatlas/raw_data/lpsilva/20150324_LPSilva_BHedlund_chloroflexi_POS_rerun/20150320_pHILIC_POS_MSMS_BH36.h5\n",
      "15 20 /global/project/projectdirs/metatlas/raw_data/lpsilva/20150324_LPSilva_BHedlund_chloroflexi_POS_rerun/20150320_pHILIC_POS_MSMS_BH37.h5\n",
      "15 20 /global/project/projectdirs/metatlas/raw_data/lpsilva/20150324_LPSilva_BHedlund_chloroflexi_POS_rerun/20150320_pHILIC_POS_MSMS_BH38.h5\n",
      "15 20 /global/project/projectdirs/metatlas/raw_data/lpsilva/20150324_LPSilva_BHedlund_chloroflexi_POS_rerun/20150320_pHILIC_POS_MSMS_BH39.h5\n",
      "15 20 /global/project/projectdirs/metatlas/raw_data/lpsilva/20150324_LPSilva_BHedlund_chloroflexi_POS_rerun/20150320_pHILIC_POS_MSMS_BH40.h5\n",
      "16 20 /global/project/projectdirs/metatlas/raw_data/lpsilva/20150324_LPSILVA_BHedlund/20151124_pHILIC_POS_MSMS_BH_GBSChlor_3_old.h5\n",
      "16 20 /global/project/projectdirs/metatlas/raw_data/lpsilva/20150324_LPSILVA_BHedlund/20151124_pHILIC_POS_MSMS_BH_GBSChlor_4_old.h5\n",
      "17 20 /global/project/projectdirs/metatlas/raw_data/lpsilva/20150324_LPSilva_BHedlund_chloroflexi_POS_rerun/20150320_pHILIC_POS_MSMS_BH6.h5\n",
      "17 20 /global/project/projectdirs/metatlas/raw_data/lpsilva/20150324_LPSilva_BHedlund_chloroflexi_POS_rerun/20150320_pHILIC_POS_MSMS_BH7.h5\n",
      "17 20 /global/project/projectdirs/metatlas/raw_data/lpsilva/20150324_LPSilva_BHedlund_chloroflexi_POS_rerun/20150320_pHILIC_POS_MSMS_BH8.h5\n",
      "17 20 /global/project/projectdirs/metatlas/raw_data/lpsilva/20150324_LPSilva_BHedlund_chloroflexi_POS_rerun/20150320_pHILIC_POS_MSMS_BH9.h5\n",
      "17 20 /global/project/projectdirs/metatlas/raw_data/lpsilva/20150324_LPSilva_BHedlund_chloroflexi_POS_rerun/20150320_pHILIC_POS_MSMS_BH10.h5\n",
      "18 20 /global/project/projectdirs/metatlas/raw_data/lpsilva/20150324_LPSILVA_BHedlund/20151124_pHILIC_POS_MSMS_BH_GBSCtrl_3_old.h5\n",
      "18 20 /global/project/projectdirs/metatlas/raw_data/lpsilva/20150324_LPSILVA_BHedlund/20151124_pHILIC_POS_MSMS_BH_GBSCtrl_4_old.h5\n",
      "19 20 /global/project/projectdirs/metatlas/raw_data/lpsilva/20150324_LPSilva_BHedlund_chloroflexi_POS_rerun/20150320_pHILIC_POS_MSMS_BH1.h5\n",
      "19 20 /global/project/projectdirs/metatlas/raw_data/lpsilva/20150324_LPSilva_BHedlund_chloroflexi_POS_rerun/20150320_pHILIC_POS_MSMS_BH2.h5\n",
      "19 20 /global/project/projectdirs/metatlas/raw_data/lpsilva/20150324_LPSilva_BHedlund_chloroflexi_POS_rerun/20150320_pHILIC_POS_MSMS_BH3.h5\n",
      "19 20 /global/project/projectdirs/metatlas/raw_data/lpsilva/20150324_LPSilva_BHedlund_chloroflexi_POS_rerun/20150320_pHILIC_POS_MSMS_BH4.h5\n",
      "19 20 /global/project/projectdirs/metatlas/raw_data/lpsilva/20150324_LPSilva_BHedlund_chloroflexi_POS_rerun/20150320_pHILIC_POS_MSMS_BH5.h5\n"
     ]
    }
   ],
   "source": [
    "# get and pickle everything This is MSMS, raw MS1 datapoints, compound, group info, and file info\n",
    "# combine positive and negative mode atlas, by join atlases together vs two compound references\n",
    "# typically file-groups are NOT split by polarity, files with un-matched polarity will be discarded for analysis of an identification\n",
    "dp = reload(dp)\n",
    "output_filename = '/global/homes/b/bpb/data/hedlund/20160425_Bhedlund_pHILIC_POS_AllGroups_master_atlas.pkl'\n",
    "data = dp.get_data_for_groups_and_atlas(groups,myAtlas,output_filename,use_set1 = True)"
   ]
  },
  {
   "cell_type": "markdown",
   "metadata": {},
   "source": [
    "#Load a pre-existing datafile"
   ]
  },
  {
   "cell_type": "code",
   "execution_count": 6,
   "metadata": {
    "collapsed": false
   },
   "outputs": [],
   "source": [
    "my_file = output_filename #'/global/homes/b/bpb/notebooks/MetAtlas_Workflow_20151123/20160420_Bhedlund_pHILIC_NEG_AllGroups_master_atlas.pkl'\n",
    "project_label = '/global/homes/b/bpb/data/hedlund/20160420_Bhedlund_pHILIC_POS_AllGroups_master_atlas'\n",
    "# data = dp.get_data(my_file)"
   ]
  },
  {
   "cell_type": "markdown",
   "metadata": {},
   "source": [
    "#Make Supplementary Tables"
   ]
  },
  {
   "cell_type": "code",
   "execution_count": 7,
   "metadata": {
    "collapsed": false
   },
   "outputs": [],
   "source": [
    "peak_height = dp.make_output_dataframe(input_fname = my_file, fieldname='peak_height' , output_loc=project_label+'/sheets')"
   ]
  },
  {
   "cell_type": "markdown",
   "metadata": {},
   "source": [
    "#Error bar"
   ]
  },
  {
   "cell_type": "code",
   "execution_count": 8,
   "metadata": {
    "collapsed": false
   },
   "outputs": [],
   "source": [
    "dp.plot_errorbar_plots(peak_height,input_fname = my_file, output_loc=project_label+'/error_bar_peak_height')"
   ]
  },
  {
   "cell_type": "markdown",
   "metadata": {},
   "source": [
    "#Make Chromatograms"
   ]
  },
  {
   "cell_type": "code",
   "execution_count": 9,
   "metadata": {
    "collapsed": false
   },
   "outputs": [
    {
     "name": "stdout",
     "output_type": "stream",
     "text": [
      "8\n",
      "86\n",
      "nrows =  8\n",
      "length of ymax is  5890\n"
     ]
    },
    {
     "data": {
      "text/plain": [
       "<matplotlib.figure.Figure at 0x7f22a7b331d0>"
      ]
     },
     "metadata": {},
     "output_type": "display_data"
    }
   ],
   "source": [
    "dp = reload(dp)\n",
    "dp.plot_all_compounds_for_each_file(input_fname = my_file, nCols = 12, scale_y=True , output_loc=project_label+'/all_compounds_each_file')\n",
    "dp.plot_all_files_for_each_compound(input_fname = my_file, nCols = 12, scale_y=True , output_loc=project_label+'/all_files_each_compound')"
   ]
  },
  {
   "cell_type": "markdown",
   "metadata": {},
   "source": [
    "#Make Identification Figures"
   ]
  },
  {
   "cell_type": "code",
   "execution_count": 21,
   "metadata": {
    "collapsed": false
   },
   "outputs": [],
   "source": [
    "dp.make_identification_figure(input_fname = my_file, output_loc=project_label+'/identification')"
   ]
  }
 ],
 "metadata": {
  "kernelspec": {
   "display_name": "Python 2",
   "language": "python",
   "name": "python2"
  },
  "language_info": {
   "codemirror_mode": {
    "name": "ipython",
    "version": 2
   },
   "file_extension": ".py",
   "mimetype": "text/x-python",
   "name": "python",
   "nbconvert_exporter": "python",
   "pygments_lexer": "ipython2",
   "version": "2.7.11"
  }
 },
 "nbformat": 4,
 "nbformat_minor": 0
}
